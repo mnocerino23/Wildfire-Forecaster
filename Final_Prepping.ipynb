{
  "nbformat": 4,
  "nbformat_minor": 0,
  "metadata": {
    "colab": {
      "name": "Final_Prepping.ipynb",
      "provenance": [],
      "authorship_tag": "ABX9TyP2uWB+bQZEGLSl8VlcweWe",
      "include_colab_link": true
    },
    "kernelspec": {
      "name": "python3",
      "display_name": "Python 3"
    },
    "language_info": {
      "name": "python"
    }
  },
  "cells": [
    {
      "cell_type": "markdown",
      "metadata": {
        "id": "view-in-github",
        "colab_type": "text"
      },
      "source": [
        "<a href=\"https://colab.research.google.com/github/mnocerino23/Wildfire-Forecaster/blob/main/Final_Prepping.ipynb\" target=\"_parent\"><img src=\"https://colab.research.google.com/assets/colab-badge.svg\" alt=\"Open In Colab\"/></a>"
      ]
    },
    {
      "cell_type": "markdown",
      "source": [
        "In this Jupyter Notebook, I will \n",
        "\n",
        "\n",
        "I will then decide how to handle null values and make some final changes before we begin applying machine learning techniques."
      ],
      "metadata": {
        "id": "DVEn9w8Zu77a"
      }
    },
    {
      "cell_type": "code",
      "execution_count": 1,
      "metadata": {
        "colab": {
          "base_uri": "https://localhost:8080/"
        },
        "id": "axXxLm-4uGOM",
        "outputId": "ef5dda1d-7342-4a5e-9afe-ff5edc1aae24"
      },
      "outputs": [
        {
          "output_type": "stream",
          "name": "stdout",
          "text": [
            "Mounted at /content/drive\n"
          ]
        }
      ],
      "source": [
        "import pandas as pd\n",
        "from google.colab import drive\n",
        "drive.mount('/content/drive')\n",
        "\n",
        "#Read in the larger dataset (2001-2015) including NOAA weather data and engineered features\n",
        "wildfires1 = pd.read_csv('/content/drive/MyDrive/Data_Science_Projects/Wildfires/CA_wildfires_with_weather.csv')\n",
        "\n",
        "#Read in the smaller dataset (2016-2019) including NOAA weather data and engineered features\n",
        "wildfires2 = pd.read_csv('/content/drive/MyDrive/Data_Science_Projects/Wildfires/CA_wildfires_recent_with_weather.csv')\n",
        "\n",
        "#Read in the snow data that I gathered in the CDEC snow data jupyter notebook\n",
        "snow = pd.read_csv('/content/drive/MyDrive/Data_Science_Projects/Wildfires/CA_SnowData.csv')"
      ]
    }
  ]
}