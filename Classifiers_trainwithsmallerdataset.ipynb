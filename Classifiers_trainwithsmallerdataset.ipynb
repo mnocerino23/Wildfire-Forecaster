{
  "nbformat": 4,
  "nbformat_minor": 0,
  "metadata": {
    "colab": {
      "name": "Classifiers_trainwithsmallerdataset.ipynb",
      "provenance": [],
      "collapsed_sections": [],
      "authorship_tag": "ABX9TyO2dR7/ZAjkLJwevdNlqmyV",
      "include_colab_link": true
    },
    "kernelspec": {
      "name": "python3",
      "display_name": "Python 3"
    },
    "language_info": {
      "name": "python"
    }
  },
  "cells": [
    {
      "cell_type": "markdown",
      "metadata": {
        "id": "view-in-github",
        "colab_type": "text"
      },
      "source": [
        "<a href=\"https://colab.research.google.com/github/mnocerino23/Wildfire-Forecaster/blob/main/Classifiers_trainwithsmallerdataset.ipynb\" target=\"_parent\"><img src=\"https://colab.research.google.com/assets/colab-badge.svg\" alt=\"Open In Colab\"/></a>"
      ]
    },
    {
      "cell_type": "markdown",
      "source": [
        "Now that we have gathered data from kaggle, NOAA, the California Department of Water resources, and the Open-Elevation API into two consistent datasets, we will drop columns that are not necessary for training our models and take care of some final preprocessing.\n",
        "\n",
        "In this file, I will start to build multi-class classifiers using Support Vector Machine, Gaussian Naive Bayes, Decision Tree, Random Forest, KNN, Gradient Boosting, and Neural Networks. \n",
        "\n",
        "The target feature will be ***Fire Size Class*** as we want to predict the size/risk of a large fire given certain weather and snow conditions.\n",
        "\n",
        "\n",
        "I will deploy the following techniques:\n",
        "\n",
        "1.   One-Hot Encoding of Categorical Variables\n",
        "2.   Feature Selection\n",
        "3.   Splitting the training and testing data\n",
        "4.   Cross-Validation\n",
        "\n"
      ],
      "metadata": {
        "id": "3ZZd1_RsEVIP"
      }
    },
    {
      "cell_type": "code",
      "source": [
        "import numpy as np\n",
        "import pandas as pd\n",
        "\n",
        "from google.colab import drive\n",
        "drive.mount('/content/drive')\n",
        "\n",
        "#Read in the two final datasets. The first contains over 110,000 fires from 2001-2015 while the second has 1,000 more recent, larger fires.\n",
        "wildfire_set1 = pd.read_csv('/content/drive/MyDrive/Data_Science_Projects/Wildfires/wildfire_set1_w_allfeatures.csv')\n",
        "wildfire_set2 = pd.read_csv('/content/drive/MyDrive/Data_Science_Projects/Wildfires/wildfire_set2_w_allfeatures.csv')"
      ],
      "metadata": {
        "colab": {
          "base_uri": "https://localhost:8080/"
        },
        "id": "NFzMd74aBEyq",
        "outputId": "4a8baca4-770f-4350-a545-9ada144edf04"
      },
      "execution_count": 2838,
      "outputs": [
        {
          "output_type": "stream",
          "name": "stdout",
          "text": [
            "Drive already mounted at /content/drive; to attempt to forcibly remount, call drive.mount(\"/content/drive\", force_remount=True).\n"
          ]
        },
        {
          "output_type": "stream",
          "name": "stderr",
          "text": [
            "/usr/local/lib/python3.7/dist-packages/IPython/core/interactiveshell.py:2882: DtypeWarning: Columns (10) have mixed types.Specify dtype option on import or set low_memory=False.\n",
            "  exec(code_obj, self.user_global_ns, self.user_ns)\n"
          ]
        }
      ]
    },
    {
      "cell_type": "code",
      "source": [
        "wildfire_set1.head(5)"
      ],
      "metadata": {
        "colab": {
          "base_uri": "https://localhost:8080/",
          "height": 369
        },
        "id": "TQAuZoO6CQ-7",
        "outputId": "b6930ad3-437d-41e7-a06c-4c3ca4704d82"
      },
      "execution_count": 2839,
      "outputs": [
        {
          "output_type": "execute_result",
          "data": {
            "text/plain": [
              "   Unnamed: 0  Year      Name  AcresBurned Fire Size Rank           Cause  \\\n",
              "0           0  2005  FOUNTAIN         0.10              A   Miscellaneous   \n",
              "1           1  2004    PIGEON         0.25              A       Lightning   \n",
              "2           2  2004     SLACK         0.10              A  Debris Burning   \n",
              "3           3  2004      DEER         0.10              A       Lightning   \n",
              "4           4  2004  STEVENOT         0.10              A       Lightning   \n",
              "\n",
              "  SOURCE_REPORTING_UNIT_NAME  DaysBurn Discovery Month  Discovered DOY  ...  \\\n",
              "0     Plumas National Forest       1.0             Feb            33.0  ...   \n",
              "1   Eldorado National Forest       1.0             May           133.0  ...   \n",
              "2   Eldorado National Forest       1.0             Jun           152.0  ...   \n",
              "3   Eldorado National Forest       5.0             Jun           180.0  ...   \n",
              "4   Eldorado National Forest       5.0             Jun           180.0  ...   \n",
              "\n",
              "  DX90_2M  DP10_2M  Receives Snow  Snow Station River Basin  Mar_SP Mar_WC  \\\n",
              "0     0.0     19.0            1.0   eureka_lake     Feather    79.6   34.0   \n",
              "1     0.0      3.0            1.0  ward_creek_2  Lake Tahoe   108.6   38.1   \n",
              "2     0.0     11.0            1.0  ward_creek_2  Lake Tahoe   108.6   38.1   \n",
              "3     0.0      3.0            1.0   echo_summit    American    87.2   28.4   \n",
              "4     0.0      3.0            1.0   echo_summit    American    87.2   28.4   \n",
              "\n",
              "  Mar_Dens Has_Elevation  Elevation  \n",
              "0     0.43             1  2965.8432  \n",
              "1     0.35             1  6207.2736  \n",
              "2     0.35             1  3454.6824  \n",
              "3     0.33             1  7759.0920  \n",
              "4     0.33             1  7598.3328  \n",
              "\n",
              "[5 rows x 40 columns]"
            ],
            "text/html": [
              "\n",
              "  <div id=\"df-a127abf5-5855-4a48-b98c-142220b7b202\">\n",
              "    <div class=\"colab-df-container\">\n",
              "      <div>\n",
              "<style scoped>\n",
              "    .dataframe tbody tr th:only-of-type {\n",
              "        vertical-align: middle;\n",
              "    }\n",
              "\n",
              "    .dataframe tbody tr th {\n",
              "        vertical-align: top;\n",
              "    }\n",
              "\n",
              "    .dataframe thead th {\n",
              "        text-align: right;\n",
              "    }\n",
              "</style>\n",
              "<table border=\"1\" class=\"dataframe\">\n",
              "  <thead>\n",
              "    <tr style=\"text-align: right;\">\n",
              "      <th></th>\n",
              "      <th>Unnamed: 0</th>\n",
              "      <th>Year</th>\n",
              "      <th>Name</th>\n",
              "      <th>AcresBurned</th>\n",
              "      <th>Fire Size Rank</th>\n",
              "      <th>Cause</th>\n",
              "      <th>SOURCE_REPORTING_UNIT_NAME</th>\n",
              "      <th>DaysBurn</th>\n",
              "      <th>Discovery Month</th>\n",
              "      <th>Discovered DOY</th>\n",
              "      <th>...</th>\n",
              "      <th>DX90_2M</th>\n",
              "      <th>DP10_2M</th>\n",
              "      <th>Receives Snow</th>\n",
              "      <th>Snow Station</th>\n",
              "      <th>River Basin</th>\n",
              "      <th>Mar_SP</th>\n",
              "      <th>Mar_WC</th>\n",
              "      <th>Mar_Dens</th>\n",
              "      <th>Has_Elevation</th>\n",
              "      <th>Elevation</th>\n",
              "    </tr>\n",
              "  </thead>\n",
              "  <tbody>\n",
              "    <tr>\n",
              "      <th>0</th>\n",
              "      <td>0</td>\n",
              "      <td>2005</td>\n",
              "      <td>FOUNTAIN</td>\n",
              "      <td>0.10</td>\n",
              "      <td>A</td>\n",
              "      <td>Miscellaneous</td>\n",
              "      <td>Plumas National Forest</td>\n",
              "      <td>1.0</td>\n",
              "      <td>Feb</td>\n",
              "      <td>33.0</td>\n",
              "      <td>...</td>\n",
              "      <td>0.0</td>\n",
              "      <td>19.0</td>\n",
              "      <td>1.0</td>\n",
              "      <td>eureka_lake</td>\n",
              "      <td>Feather</td>\n",
              "      <td>79.6</td>\n",
              "      <td>34.0</td>\n",
              "      <td>0.43</td>\n",
              "      <td>1</td>\n",
              "      <td>2965.8432</td>\n",
              "    </tr>\n",
              "    <tr>\n",
              "      <th>1</th>\n",
              "      <td>1</td>\n",
              "      <td>2004</td>\n",
              "      <td>PIGEON</td>\n",
              "      <td>0.25</td>\n",
              "      <td>A</td>\n",
              "      <td>Lightning</td>\n",
              "      <td>Eldorado National Forest</td>\n",
              "      <td>1.0</td>\n",
              "      <td>May</td>\n",
              "      <td>133.0</td>\n",
              "      <td>...</td>\n",
              "      <td>0.0</td>\n",
              "      <td>3.0</td>\n",
              "      <td>1.0</td>\n",
              "      <td>ward_creek_2</td>\n",
              "      <td>Lake Tahoe</td>\n",
              "      <td>108.6</td>\n",
              "      <td>38.1</td>\n",
              "      <td>0.35</td>\n",
              "      <td>1</td>\n",
              "      <td>6207.2736</td>\n",
              "    </tr>\n",
              "    <tr>\n",
              "      <th>2</th>\n",
              "      <td>2</td>\n",
              "      <td>2004</td>\n",
              "      <td>SLACK</td>\n",
              "      <td>0.10</td>\n",
              "      <td>A</td>\n",
              "      <td>Debris Burning</td>\n",
              "      <td>Eldorado National Forest</td>\n",
              "      <td>1.0</td>\n",
              "      <td>Jun</td>\n",
              "      <td>152.0</td>\n",
              "      <td>...</td>\n",
              "      <td>0.0</td>\n",
              "      <td>11.0</td>\n",
              "      <td>1.0</td>\n",
              "      <td>ward_creek_2</td>\n",
              "      <td>Lake Tahoe</td>\n",
              "      <td>108.6</td>\n",
              "      <td>38.1</td>\n",
              "      <td>0.35</td>\n",
              "      <td>1</td>\n",
              "      <td>3454.6824</td>\n",
              "    </tr>\n",
              "    <tr>\n",
              "      <th>3</th>\n",
              "      <td>3</td>\n",
              "      <td>2004</td>\n",
              "      <td>DEER</td>\n",
              "      <td>0.10</td>\n",
              "      <td>A</td>\n",
              "      <td>Lightning</td>\n",
              "      <td>Eldorado National Forest</td>\n",
              "      <td>5.0</td>\n",
              "      <td>Jun</td>\n",
              "      <td>180.0</td>\n",
              "      <td>...</td>\n",
              "      <td>0.0</td>\n",
              "      <td>3.0</td>\n",
              "      <td>1.0</td>\n",
              "      <td>echo_summit</td>\n",
              "      <td>American</td>\n",
              "      <td>87.2</td>\n",
              "      <td>28.4</td>\n",
              "      <td>0.33</td>\n",
              "      <td>1</td>\n",
              "      <td>7759.0920</td>\n",
              "    </tr>\n",
              "    <tr>\n",
              "      <th>4</th>\n",
              "      <td>4</td>\n",
              "      <td>2004</td>\n",
              "      <td>STEVENOT</td>\n",
              "      <td>0.10</td>\n",
              "      <td>A</td>\n",
              "      <td>Lightning</td>\n",
              "      <td>Eldorado National Forest</td>\n",
              "      <td>5.0</td>\n",
              "      <td>Jun</td>\n",
              "      <td>180.0</td>\n",
              "      <td>...</td>\n",
              "      <td>0.0</td>\n",
              "      <td>3.0</td>\n",
              "      <td>1.0</td>\n",
              "      <td>echo_summit</td>\n",
              "      <td>American</td>\n",
              "      <td>87.2</td>\n",
              "      <td>28.4</td>\n",
              "      <td>0.33</td>\n",
              "      <td>1</td>\n",
              "      <td>7598.3328</td>\n",
              "    </tr>\n",
              "  </tbody>\n",
              "</table>\n",
              "<p>5 rows × 40 columns</p>\n",
              "</div>\n",
              "      <button class=\"colab-df-convert\" onclick=\"convertToInteractive('df-a127abf5-5855-4a48-b98c-142220b7b202')\"\n",
              "              title=\"Convert this dataframe to an interactive table.\"\n",
              "              style=\"display:none;\">\n",
              "        \n",
              "  <svg xmlns=\"http://www.w3.org/2000/svg\" height=\"24px\"viewBox=\"0 0 24 24\"\n",
              "       width=\"24px\">\n",
              "    <path d=\"M0 0h24v24H0V0z\" fill=\"none\"/>\n",
              "    <path d=\"M18.56 5.44l.94 2.06.94-2.06 2.06-.94-2.06-.94-.94-2.06-.94 2.06-2.06.94zm-11 1L8.5 8.5l.94-2.06 2.06-.94-2.06-.94L8.5 2.5l-.94 2.06-2.06.94zm10 10l.94 2.06.94-2.06 2.06-.94-2.06-.94-.94-2.06-.94 2.06-2.06.94z\"/><path d=\"M17.41 7.96l-1.37-1.37c-.4-.4-.92-.59-1.43-.59-.52 0-1.04.2-1.43.59L10.3 9.45l-7.72 7.72c-.78.78-.78 2.05 0 2.83L4 21.41c.39.39.9.59 1.41.59.51 0 1.02-.2 1.41-.59l7.78-7.78 2.81-2.81c.8-.78.8-2.07 0-2.86zM5.41 20L4 18.59l7.72-7.72 1.47 1.35L5.41 20z\"/>\n",
              "  </svg>\n",
              "      </button>\n",
              "      \n",
              "  <style>\n",
              "    .colab-df-container {\n",
              "      display:flex;\n",
              "      flex-wrap:wrap;\n",
              "      gap: 12px;\n",
              "    }\n",
              "\n",
              "    .colab-df-convert {\n",
              "      background-color: #E8F0FE;\n",
              "      border: none;\n",
              "      border-radius: 50%;\n",
              "      cursor: pointer;\n",
              "      display: none;\n",
              "      fill: #1967D2;\n",
              "      height: 32px;\n",
              "      padding: 0 0 0 0;\n",
              "      width: 32px;\n",
              "    }\n",
              "\n",
              "    .colab-df-convert:hover {\n",
              "      background-color: #E2EBFA;\n",
              "      box-shadow: 0px 1px 2px rgba(60, 64, 67, 0.3), 0px 1px 3px 1px rgba(60, 64, 67, 0.15);\n",
              "      fill: #174EA6;\n",
              "    }\n",
              "\n",
              "    [theme=dark] .colab-df-convert {\n",
              "      background-color: #3B4455;\n",
              "      fill: #D2E3FC;\n",
              "    }\n",
              "\n",
              "    [theme=dark] .colab-df-convert:hover {\n",
              "      background-color: #434B5C;\n",
              "      box-shadow: 0px 1px 3px 1px rgba(0, 0, 0, 0.15);\n",
              "      filter: drop-shadow(0px 1px 2px rgba(0, 0, 0, 0.3));\n",
              "      fill: #FFFFFF;\n",
              "    }\n",
              "  </style>\n",
              "\n",
              "      <script>\n",
              "        const buttonEl =\n",
              "          document.querySelector('#df-a127abf5-5855-4a48-b98c-142220b7b202 button.colab-df-convert');\n",
              "        buttonEl.style.display =\n",
              "          google.colab.kernel.accessAllowed ? 'block' : 'none';\n",
              "\n",
              "        async function convertToInteractive(key) {\n",
              "          const element = document.querySelector('#df-a127abf5-5855-4a48-b98c-142220b7b202');\n",
              "          const dataTable =\n",
              "            await google.colab.kernel.invokeFunction('convertToInteractive',\n",
              "                                                     [key], {});\n",
              "          if (!dataTable) return;\n",
              "\n",
              "          const docLinkHtml = 'Like what you see? Visit the ' +\n",
              "            '<a target=\"_blank\" href=https://colab.research.google.com/notebooks/data_table.ipynb>data table notebook</a>'\n",
              "            + ' to learn more about interactive tables.';\n",
              "          element.innerHTML = '';\n",
              "          dataTable['output_type'] = 'display_data';\n",
              "          await google.colab.output.renderOutput(dataTable, element);\n",
              "          const docLink = document.createElement('div');\n",
              "          docLink.innerHTML = docLinkHtml;\n",
              "          element.appendChild(docLink);\n",
              "        }\n",
              "      </script>\n",
              "    </div>\n",
              "  </div>\n",
              "  "
            ]
          },
          "metadata": {},
          "execution_count": 2839
        }
      ]
    },
    {
      "cell_type": "code",
      "source": [
        "wildfire_set2.head()"
      ],
      "metadata": {
        "colab": {
          "base_uri": "https://localhost:8080/",
          "height": 404
        },
        "id": "bkwikHWNCUk5",
        "outputId": "a0a5e5b9-dcd9-4c28-93d6-990f678b2f04"
      },
      "execution_count": 2840,
      "outputs": [
        {
          "output_type": "execute_result",
          "data": {
            "text/plain": [
              "   Unnamed: 0  Year            Name  AcresBurned Fire Size Rank  Cause  \\\n",
              "0           0  2016  Soberanes Fire     132127.0              G    NaN   \n",
              "1           1  2016    Erskine Fire      48019.0              G    NaN   \n",
              "2           2  2016    Chimney Fire      46344.0              G    NaN   \n",
              "3           3  2016   Blue Cut Fire      36274.0              G    NaN   \n",
              "4           4  2016        Gap Fire      33867.0              G    NaN   \n",
              "\n",
              "   SOURCE_REPORTING_UNIT_NAME  DaysBurn Discovery Month  Discovered DOY  ...  \\\n",
              "0                         NaN      83.0             Jul             NaN  ...   \n",
              "1                         NaN      18.0             Jun             NaN  ...   \n",
              "2                         NaN      24.0             Aug             NaN  ...   \n",
              "3                         NaN       7.0             Aug             NaN  ...   \n",
              "4                         NaN       1.0             Aug             NaN  ...   \n",
              "\n",
              "  DX90_2M  DP10_2M  Receives Snow  Snow Station River Basin Mar_SP Mar_WC  \\\n",
              "0     0.0      1.0              0           NaN         NaN    0.0    0.0   \n",
              "1    15.0      4.0              1  mineral_king      Kaweah   36.0   16.0   \n",
              "2    43.0      0.0              0           NaN         NaN    0.0    0.0   \n",
              "3    43.0      0.0              0           NaN         NaN    0.0    0.0   \n",
              "4     0.0      2.0              1   parks_creek      Shasta   77.0   34.0   \n",
              "\n",
              "   Mar_Dens Has_Elevation  Elevation  \n",
              "0      0.00             1   961.2744  \n",
              "1      0.44             1  3389.0664  \n",
              "2      0.00             1  1049.8560  \n",
              "3      0.00             1  4192.8624  \n",
              "4      0.44             1  3244.7112  \n",
              "\n",
              "[5 rows x 40 columns]"
            ],
            "text/html": [
              "\n",
              "  <div id=\"df-37e491f7-e0ce-4bca-8ed6-08e16ca81c40\">\n",
              "    <div class=\"colab-df-container\">\n",
              "      <div>\n",
              "<style scoped>\n",
              "    .dataframe tbody tr th:only-of-type {\n",
              "        vertical-align: middle;\n",
              "    }\n",
              "\n",
              "    .dataframe tbody tr th {\n",
              "        vertical-align: top;\n",
              "    }\n",
              "\n",
              "    .dataframe thead th {\n",
              "        text-align: right;\n",
              "    }\n",
              "</style>\n",
              "<table border=\"1\" class=\"dataframe\">\n",
              "  <thead>\n",
              "    <tr style=\"text-align: right;\">\n",
              "      <th></th>\n",
              "      <th>Unnamed: 0</th>\n",
              "      <th>Year</th>\n",
              "      <th>Name</th>\n",
              "      <th>AcresBurned</th>\n",
              "      <th>Fire Size Rank</th>\n",
              "      <th>Cause</th>\n",
              "      <th>SOURCE_REPORTING_UNIT_NAME</th>\n",
              "      <th>DaysBurn</th>\n",
              "      <th>Discovery Month</th>\n",
              "      <th>Discovered DOY</th>\n",
              "      <th>...</th>\n",
              "      <th>DX90_2M</th>\n",
              "      <th>DP10_2M</th>\n",
              "      <th>Receives Snow</th>\n",
              "      <th>Snow Station</th>\n",
              "      <th>River Basin</th>\n",
              "      <th>Mar_SP</th>\n",
              "      <th>Mar_WC</th>\n",
              "      <th>Mar_Dens</th>\n",
              "      <th>Has_Elevation</th>\n",
              "      <th>Elevation</th>\n",
              "    </tr>\n",
              "  </thead>\n",
              "  <tbody>\n",
              "    <tr>\n",
              "      <th>0</th>\n",
              "      <td>0</td>\n",
              "      <td>2016</td>\n",
              "      <td>Soberanes Fire</td>\n",
              "      <td>132127.0</td>\n",
              "      <td>G</td>\n",
              "      <td>NaN</td>\n",
              "      <td>NaN</td>\n",
              "      <td>83.0</td>\n",
              "      <td>Jul</td>\n",
              "      <td>NaN</td>\n",
              "      <td>...</td>\n",
              "      <td>0.0</td>\n",
              "      <td>1.0</td>\n",
              "      <td>0</td>\n",
              "      <td>NaN</td>\n",
              "      <td>NaN</td>\n",
              "      <td>0.0</td>\n",
              "      <td>0.0</td>\n",
              "      <td>0.00</td>\n",
              "      <td>1</td>\n",
              "      <td>961.2744</td>\n",
              "    </tr>\n",
              "    <tr>\n",
              "      <th>1</th>\n",
              "      <td>1</td>\n",
              "      <td>2016</td>\n",
              "      <td>Erskine Fire</td>\n",
              "      <td>48019.0</td>\n",
              "      <td>G</td>\n",
              "      <td>NaN</td>\n",
              "      <td>NaN</td>\n",
              "      <td>18.0</td>\n",
              "      <td>Jun</td>\n",
              "      <td>NaN</td>\n",
              "      <td>...</td>\n",
              "      <td>15.0</td>\n",
              "      <td>4.0</td>\n",
              "      <td>1</td>\n",
              "      <td>mineral_king</td>\n",
              "      <td>Kaweah</td>\n",
              "      <td>36.0</td>\n",
              "      <td>16.0</td>\n",
              "      <td>0.44</td>\n",
              "      <td>1</td>\n",
              "      <td>3389.0664</td>\n",
              "    </tr>\n",
              "    <tr>\n",
              "      <th>2</th>\n",
              "      <td>2</td>\n",
              "      <td>2016</td>\n",
              "      <td>Chimney Fire</td>\n",
              "      <td>46344.0</td>\n",
              "      <td>G</td>\n",
              "      <td>NaN</td>\n",
              "      <td>NaN</td>\n",
              "      <td>24.0</td>\n",
              "      <td>Aug</td>\n",
              "      <td>NaN</td>\n",
              "      <td>...</td>\n",
              "      <td>43.0</td>\n",
              "      <td>0.0</td>\n",
              "      <td>0</td>\n",
              "      <td>NaN</td>\n",
              "      <td>NaN</td>\n",
              "      <td>0.0</td>\n",
              "      <td>0.0</td>\n",
              "      <td>0.00</td>\n",
              "      <td>1</td>\n",
              "      <td>1049.8560</td>\n",
              "    </tr>\n",
              "    <tr>\n",
              "      <th>3</th>\n",
              "      <td>3</td>\n",
              "      <td>2016</td>\n",
              "      <td>Blue Cut Fire</td>\n",
              "      <td>36274.0</td>\n",
              "      <td>G</td>\n",
              "      <td>NaN</td>\n",
              "      <td>NaN</td>\n",
              "      <td>7.0</td>\n",
              "      <td>Aug</td>\n",
              "      <td>NaN</td>\n",
              "      <td>...</td>\n",
              "      <td>43.0</td>\n",
              "      <td>0.0</td>\n",
              "      <td>0</td>\n",
              "      <td>NaN</td>\n",
              "      <td>NaN</td>\n",
              "      <td>0.0</td>\n",
              "      <td>0.0</td>\n",
              "      <td>0.00</td>\n",
              "      <td>1</td>\n",
              "      <td>4192.8624</td>\n",
              "    </tr>\n",
              "    <tr>\n",
              "      <th>4</th>\n",
              "      <td>4</td>\n",
              "      <td>2016</td>\n",
              "      <td>Gap Fire</td>\n",
              "      <td>33867.0</td>\n",
              "      <td>G</td>\n",
              "      <td>NaN</td>\n",
              "      <td>NaN</td>\n",
              "      <td>1.0</td>\n",
              "      <td>Aug</td>\n",
              "      <td>NaN</td>\n",
              "      <td>...</td>\n",
              "      <td>0.0</td>\n",
              "      <td>2.0</td>\n",
              "      <td>1</td>\n",
              "      <td>parks_creek</td>\n",
              "      <td>Shasta</td>\n",
              "      <td>77.0</td>\n",
              "      <td>34.0</td>\n",
              "      <td>0.44</td>\n",
              "      <td>1</td>\n",
              "      <td>3244.7112</td>\n",
              "    </tr>\n",
              "  </tbody>\n",
              "</table>\n",
              "<p>5 rows × 40 columns</p>\n",
              "</div>\n",
              "      <button class=\"colab-df-convert\" onclick=\"convertToInteractive('df-37e491f7-e0ce-4bca-8ed6-08e16ca81c40')\"\n",
              "              title=\"Convert this dataframe to an interactive table.\"\n",
              "              style=\"display:none;\">\n",
              "        \n",
              "  <svg xmlns=\"http://www.w3.org/2000/svg\" height=\"24px\"viewBox=\"0 0 24 24\"\n",
              "       width=\"24px\">\n",
              "    <path d=\"M0 0h24v24H0V0z\" fill=\"none\"/>\n",
              "    <path d=\"M18.56 5.44l.94 2.06.94-2.06 2.06-.94-2.06-.94-.94-2.06-.94 2.06-2.06.94zm-11 1L8.5 8.5l.94-2.06 2.06-.94-2.06-.94L8.5 2.5l-.94 2.06-2.06.94zm10 10l.94 2.06.94-2.06 2.06-.94-2.06-.94-.94-2.06-.94 2.06-2.06.94z\"/><path d=\"M17.41 7.96l-1.37-1.37c-.4-.4-.92-.59-1.43-.59-.52 0-1.04.2-1.43.59L10.3 9.45l-7.72 7.72c-.78.78-.78 2.05 0 2.83L4 21.41c.39.39.9.59 1.41.59.51 0 1.02-.2 1.41-.59l7.78-7.78 2.81-2.81c.8-.78.8-2.07 0-2.86zM5.41 20L4 18.59l7.72-7.72 1.47 1.35L5.41 20z\"/>\n",
              "  </svg>\n",
              "      </button>\n",
              "      \n",
              "  <style>\n",
              "    .colab-df-container {\n",
              "      display:flex;\n",
              "      flex-wrap:wrap;\n",
              "      gap: 12px;\n",
              "    }\n",
              "\n",
              "    .colab-df-convert {\n",
              "      background-color: #E8F0FE;\n",
              "      border: none;\n",
              "      border-radius: 50%;\n",
              "      cursor: pointer;\n",
              "      display: none;\n",
              "      fill: #1967D2;\n",
              "      height: 32px;\n",
              "      padding: 0 0 0 0;\n",
              "      width: 32px;\n",
              "    }\n",
              "\n",
              "    .colab-df-convert:hover {\n",
              "      background-color: #E2EBFA;\n",
              "      box-shadow: 0px 1px 2px rgba(60, 64, 67, 0.3), 0px 1px 3px 1px rgba(60, 64, 67, 0.15);\n",
              "      fill: #174EA6;\n",
              "    }\n",
              "\n",
              "    [theme=dark] .colab-df-convert {\n",
              "      background-color: #3B4455;\n",
              "      fill: #D2E3FC;\n",
              "    }\n",
              "\n",
              "    [theme=dark] .colab-df-convert:hover {\n",
              "      background-color: #434B5C;\n",
              "      box-shadow: 0px 1px 3px 1px rgba(0, 0, 0, 0.15);\n",
              "      filter: drop-shadow(0px 1px 2px rgba(0, 0, 0, 0.3));\n",
              "      fill: #FFFFFF;\n",
              "    }\n",
              "  </style>\n",
              "\n",
              "      <script>\n",
              "        const buttonEl =\n",
              "          document.querySelector('#df-37e491f7-e0ce-4bca-8ed6-08e16ca81c40 button.colab-df-convert');\n",
              "        buttonEl.style.display =\n",
              "          google.colab.kernel.accessAllowed ? 'block' : 'none';\n",
              "\n",
              "        async function convertToInteractive(key) {\n",
              "          const element = document.querySelector('#df-37e491f7-e0ce-4bca-8ed6-08e16ca81c40');\n",
              "          const dataTable =\n",
              "            await google.colab.kernel.invokeFunction('convertToInteractive',\n",
              "                                                     [key], {});\n",
              "          if (!dataTable) return;\n",
              "\n",
              "          const docLinkHtml = 'Like what you see? Visit the ' +\n",
              "            '<a target=\"_blank\" href=https://colab.research.google.com/notebooks/data_table.ipynb>data table notebook</a>'\n",
              "            + ' to learn more about interactive tables.';\n",
              "          element.innerHTML = '';\n",
              "          dataTable['output_type'] = 'display_data';\n",
              "          await google.colab.output.renderOutput(dataTable, element);\n",
              "          const docLink = document.createElement('div');\n",
              "          docLink.innerHTML = docLinkHtml;\n",
              "          element.appendChild(docLink);\n",
              "        }\n",
              "      </script>\n",
              "    </div>\n",
              "  </div>\n",
              "  "
            ]
          },
          "metadata": {},
          "execution_count": 2840
        }
      ]
    },
    {
      "cell_type": "code",
      "source": [
        "print(wildfire_set1.columns)"
      ],
      "metadata": {
        "id": "143zMg9KBevC",
        "colab": {
          "base_uri": "https://localhost:8080/"
        },
        "outputId": "4a00d9b8-bd8d-440a-9166-0622a840b003"
      },
      "execution_count": 2841,
      "outputs": [
        {
          "output_type": "stream",
          "name": "stdout",
          "text": [
            "Index(['Unnamed: 0', 'Year', 'Name', 'AcresBurned', 'Fire Size Rank', 'Cause',\n",
            "       'SOURCE_REPORTING_UNIT_NAME', 'DaysBurn', 'Discovery Month',\n",
            "       'Discovered DOY', 'Contained Month', 'Contained DOY', 'Latitude',\n",
            "       'Longitude', 'County', 'CountyIds', 'State', 'OWNER_DESCR',\n",
            "       'NOAA Station', 'Link', 'AWND', 'CLDD', 'DP10', 'DX90', 'PRCP', 'TAVG',\n",
            "       'TMAX', 'TMIN', 'PRCP_6M', 'PRCP_RS', 'DX90_2M', 'DP10_2M',\n",
            "       'Receives Snow', 'Snow Station', 'River Basin', 'Mar_SP', 'Mar_WC',\n",
            "       'Mar_Dens', 'Has_Elevation', 'Elevation'],\n",
            "      dtype='object')\n"
          ]
        }
      ]
    },
    {
      "cell_type": "code",
      "source": [
        "print(wildfire_set2.columns)"
      ],
      "metadata": {
        "id": "2tZQjtnlUWkw",
        "outputId": "449f75f5-8ce0-4b4c-eb11-1497f49e0ea8",
        "colab": {
          "base_uri": "https://localhost:8080/"
        }
      },
      "execution_count": 2842,
      "outputs": [
        {
          "output_type": "stream",
          "name": "stdout",
          "text": [
            "Index(['Unnamed: 0', 'Year', 'Name', 'AcresBurned', 'Fire Size Rank', 'Cause',\n",
            "       'SOURCE_REPORTING_UNIT_NAME', 'DaysBurn', 'Discovery Month',\n",
            "       'Discovered DOY', 'Contained Month', 'Contained DOY', 'Latitude',\n",
            "       'Longitude', 'County', 'CountyIds', 'State', 'OWNER_DESCR',\n",
            "       'NOAA Station', 'Link', 'AWND', 'CLDD', 'DP10', 'DX90', 'PRCP', 'TAVG',\n",
            "       'TMAX', 'TMIN', 'PRCP_6M', 'PRCP_RS', 'DX90_2M', 'DP10_2M',\n",
            "       'Receives Snow', 'Snow Station', 'River Basin', 'Mar_SP', 'Mar_WC',\n",
            "       'Mar_Dens', 'Has_Elevation', 'Elevation'],\n",
            "      dtype='object')\n"
          ]
        }
      ]
    },
    {
      "cell_type": "markdown",
      "source": [
        "Drop all columns that will not be relevant for our classification task:Unnamed: 0, Year, Name, Cause, SOURCE_REPORTING UNIT NAME, DaysBurn, Discovered DOY, Contained Month, Contained DOY, Lat, Long, County Ids, State, OWNER_DESCR, NOAA Station, Link, Snow Station, River Basin"
      ],
      "metadata": {
        "id": "nReNUm94Bsb_"
      }
    },
    {
      "cell_type": "code",
      "source": [
        "wildfire_set1.drop(columns = ['Unnamed: 0', 'Year', 'Name', 'Cause',\n",
        "                      'SOURCE_REPORTING_UNIT_NAME', 'DaysBurn', 'Discovered DOY', 'Contained Month',\n",
        "                      'Contained DOY','Latitude','Longitude','County','CountyIds','State','OWNER_DESCR',\n",
        "                      'NOAA Station', 'Link', 'Snow Station', 'River Basin', 'Has_Elevation'], inplace = True)"
      ],
      "metadata": {
        "id": "lZ8uYSWoCNDE"
      },
      "execution_count": 2843,
      "outputs": []
    },
    {
      "cell_type": "code",
      "source": [
        "wildfire_set2.drop(columns = ['Unnamed: 0', 'Year', 'Name', 'Cause',\n",
        "                      'SOURCE_REPORTING_UNIT_NAME', 'DaysBurn', 'Discovered DOY', 'Contained Month',\n",
        "                      'Contained DOY','Latitude','Longitude','County','CountyIds','State','OWNER_DESCR',\n",
        "                      'NOAA Station', 'Link', 'Snow Station', 'River Basin','Has_Elevation'], inplace = True)"
      ],
      "metadata": {
        "id": "1q_TyyMvElgd"
      },
      "execution_count": 2844,
      "outputs": []
    },
    {
      "cell_type": "markdown",
      "source": [
        "Taking a look at both datasets now that we have dropped the nonrelevant columns"
      ],
      "metadata": {
        "id": "-q4nd7s8BYpV"
      }
    },
    {
      "cell_type": "code",
      "source": [
        "wildfire_set1.head(5)"
      ],
      "metadata": {
        "id": "5_tnOEN-DmQu",
        "colab": {
          "base_uri": "https://localhost:8080/",
          "height": 250
        },
        "outputId": "3e451ec4-41ac-4979-d7a1-e77292924e5c"
      },
      "execution_count": 2845,
      "outputs": [
        {
          "output_type": "execute_result",
          "data": {
            "text/plain": [
              "   AcresBurned Fire Size Rank Discovery Month  AWND  CLDD  DP10  DX90  PRCP  \\\n",
              "0         0.10              A             Feb   5.6   0.0  12.0   0.0  5.33   \n",
              "1         0.25              A             May   6.9   0.0   2.0   0.0  0.81   \n",
              "2         0.10              A             Jun   5.6  36.0   0.0   0.0  0.00   \n",
              "3         0.10              A             Jun   5.6   0.0   1.0   0.0  0.29   \n",
              "4         0.10              A             Jun   5.6   0.0   1.0   0.0  0.29   \n",
              "\n",
              "   TAVG  TMAX  TMIN  PRCP_6M  PRCP_RS  DX90_2M  DP10_2M  Receives Snow  \\\n",
              "0  38.9  43.9  33.9    27.89    49.06      0.0     19.0            1.0   \n",
              "1  47.3  63.0  31.6    14.37    14.76      0.0      3.0            1.0   \n",
              "2  63.1  70.2  56.0    36.71    40.37      0.0     11.0            1.0   \n",
              "3  54.7  72.9  36.5    13.63    14.76      0.0      3.0            1.0   \n",
              "4  54.7  72.9  36.5    13.63    14.76      0.0      3.0            1.0   \n",
              "\n",
              "   Mar_SP  Mar_WC  Mar_Dens  Elevation  \n",
              "0    79.6    34.0      0.43  2965.8432  \n",
              "1   108.6    38.1      0.35  6207.2736  \n",
              "2   108.6    38.1      0.35  3454.6824  \n",
              "3    87.2    28.4      0.33  7759.0920  \n",
              "4    87.2    28.4      0.33  7598.3328  "
            ],
            "text/html": [
              "\n",
              "  <div id=\"df-57299dd1-9276-47b3-805c-507011fc7881\">\n",
              "    <div class=\"colab-df-container\">\n",
              "      <div>\n",
              "<style scoped>\n",
              "    .dataframe tbody tr th:only-of-type {\n",
              "        vertical-align: middle;\n",
              "    }\n",
              "\n",
              "    .dataframe tbody tr th {\n",
              "        vertical-align: top;\n",
              "    }\n",
              "\n",
              "    .dataframe thead th {\n",
              "        text-align: right;\n",
              "    }\n",
              "</style>\n",
              "<table border=\"1\" class=\"dataframe\">\n",
              "  <thead>\n",
              "    <tr style=\"text-align: right;\">\n",
              "      <th></th>\n",
              "      <th>AcresBurned</th>\n",
              "      <th>Fire Size Rank</th>\n",
              "      <th>Discovery Month</th>\n",
              "      <th>AWND</th>\n",
              "      <th>CLDD</th>\n",
              "      <th>DP10</th>\n",
              "      <th>DX90</th>\n",
              "      <th>PRCP</th>\n",
              "      <th>TAVG</th>\n",
              "      <th>TMAX</th>\n",
              "      <th>TMIN</th>\n",
              "      <th>PRCP_6M</th>\n",
              "      <th>PRCP_RS</th>\n",
              "      <th>DX90_2M</th>\n",
              "      <th>DP10_2M</th>\n",
              "      <th>Receives Snow</th>\n",
              "      <th>Mar_SP</th>\n",
              "      <th>Mar_WC</th>\n",
              "      <th>Mar_Dens</th>\n",
              "      <th>Elevation</th>\n",
              "    </tr>\n",
              "  </thead>\n",
              "  <tbody>\n",
              "    <tr>\n",
              "      <th>0</th>\n",
              "      <td>0.10</td>\n",
              "      <td>A</td>\n",
              "      <td>Feb</td>\n",
              "      <td>5.6</td>\n",
              "      <td>0.0</td>\n",
              "      <td>12.0</td>\n",
              "      <td>0.0</td>\n",
              "      <td>5.33</td>\n",
              "      <td>38.9</td>\n",
              "      <td>43.9</td>\n",
              "      <td>33.9</td>\n",
              "      <td>27.89</td>\n",
              "      <td>49.06</td>\n",
              "      <td>0.0</td>\n",
              "      <td>19.0</td>\n",
              "      <td>1.0</td>\n",
              "      <td>79.6</td>\n",
              "      <td>34.0</td>\n",
              "      <td>0.43</td>\n",
              "      <td>2965.8432</td>\n",
              "    </tr>\n",
              "    <tr>\n",
              "      <th>1</th>\n",
              "      <td>0.25</td>\n",
              "      <td>A</td>\n",
              "      <td>May</td>\n",
              "      <td>6.9</td>\n",
              "      <td>0.0</td>\n",
              "      <td>2.0</td>\n",
              "      <td>0.0</td>\n",
              "      <td>0.81</td>\n",
              "      <td>47.3</td>\n",
              "      <td>63.0</td>\n",
              "      <td>31.6</td>\n",
              "      <td>14.37</td>\n",
              "      <td>14.76</td>\n",
              "      <td>0.0</td>\n",
              "      <td>3.0</td>\n",
              "      <td>1.0</td>\n",
              "      <td>108.6</td>\n",
              "      <td>38.1</td>\n",
              "      <td>0.35</td>\n",
              "      <td>6207.2736</td>\n",
              "    </tr>\n",
              "    <tr>\n",
              "      <th>2</th>\n",
              "      <td>0.10</td>\n",
              "      <td>A</td>\n",
              "      <td>Jun</td>\n",
              "      <td>5.6</td>\n",
              "      <td>36.0</td>\n",
              "      <td>0.0</td>\n",
              "      <td>0.0</td>\n",
              "      <td>0.00</td>\n",
              "      <td>63.1</td>\n",
              "      <td>70.2</td>\n",
              "      <td>56.0</td>\n",
              "      <td>36.71</td>\n",
              "      <td>40.37</td>\n",
              "      <td>0.0</td>\n",
              "      <td>11.0</td>\n",
              "      <td>1.0</td>\n",
              "      <td>108.6</td>\n",
              "      <td>38.1</td>\n",
              "      <td>0.35</td>\n",
              "      <td>3454.6824</td>\n",
              "    </tr>\n",
              "    <tr>\n",
              "      <th>3</th>\n",
              "      <td>0.10</td>\n",
              "      <td>A</td>\n",
              "      <td>Jun</td>\n",
              "      <td>5.6</td>\n",
              "      <td>0.0</td>\n",
              "      <td>1.0</td>\n",
              "      <td>0.0</td>\n",
              "      <td>0.29</td>\n",
              "      <td>54.7</td>\n",
              "      <td>72.9</td>\n",
              "      <td>36.5</td>\n",
              "      <td>13.63</td>\n",
              "      <td>14.76</td>\n",
              "      <td>0.0</td>\n",
              "      <td>3.0</td>\n",
              "      <td>1.0</td>\n",
              "      <td>87.2</td>\n",
              "      <td>28.4</td>\n",
              "      <td>0.33</td>\n",
              "      <td>7759.0920</td>\n",
              "    </tr>\n",
              "    <tr>\n",
              "      <th>4</th>\n",
              "      <td>0.10</td>\n",
              "      <td>A</td>\n",
              "      <td>Jun</td>\n",
              "      <td>5.6</td>\n",
              "      <td>0.0</td>\n",
              "      <td>1.0</td>\n",
              "      <td>0.0</td>\n",
              "      <td>0.29</td>\n",
              "      <td>54.7</td>\n",
              "      <td>72.9</td>\n",
              "      <td>36.5</td>\n",
              "      <td>13.63</td>\n",
              "      <td>14.76</td>\n",
              "      <td>0.0</td>\n",
              "      <td>3.0</td>\n",
              "      <td>1.0</td>\n",
              "      <td>87.2</td>\n",
              "      <td>28.4</td>\n",
              "      <td>0.33</td>\n",
              "      <td>7598.3328</td>\n",
              "    </tr>\n",
              "  </tbody>\n",
              "</table>\n",
              "</div>\n",
              "      <button class=\"colab-df-convert\" onclick=\"convertToInteractive('df-57299dd1-9276-47b3-805c-507011fc7881')\"\n",
              "              title=\"Convert this dataframe to an interactive table.\"\n",
              "              style=\"display:none;\">\n",
              "        \n",
              "  <svg xmlns=\"http://www.w3.org/2000/svg\" height=\"24px\"viewBox=\"0 0 24 24\"\n",
              "       width=\"24px\">\n",
              "    <path d=\"M0 0h24v24H0V0z\" fill=\"none\"/>\n",
              "    <path d=\"M18.56 5.44l.94 2.06.94-2.06 2.06-.94-2.06-.94-.94-2.06-.94 2.06-2.06.94zm-11 1L8.5 8.5l.94-2.06 2.06-.94-2.06-.94L8.5 2.5l-.94 2.06-2.06.94zm10 10l.94 2.06.94-2.06 2.06-.94-2.06-.94-.94-2.06-.94 2.06-2.06.94z\"/><path d=\"M17.41 7.96l-1.37-1.37c-.4-.4-.92-.59-1.43-.59-.52 0-1.04.2-1.43.59L10.3 9.45l-7.72 7.72c-.78.78-.78 2.05 0 2.83L4 21.41c.39.39.9.59 1.41.59.51 0 1.02-.2 1.41-.59l7.78-7.78 2.81-2.81c.8-.78.8-2.07 0-2.86zM5.41 20L4 18.59l7.72-7.72 1.47 1.35L5.41 20z\"/>\n",
              "  </svg>\n",
              "      </button>\n",
              "      \n",
              "  <style>\n",
              "    .colab-df-container {\n",
              "      display:flex;\n",
              "      flex-wrap:wrap;\n",
              "      gap: 12px;\n",
              "    }\n",
              "\n",
              "    .colab-df-convert {\n",
              "      background-color: #E8F0FE;\n",
              "      border: none;\n",
              "      border-radius: 50%;\n",
              "      cursor: pointer;\n",
              "      display: none;\n",
              "      fill: #1967D2;\n",
              "      height: 32px;\n",
              "      padding: 0 0 0 0;\n",
              "      width: 32px;\n",
              "    }\n",
              "\n",
              "    .colab-df-convert:hover {\n",
              "      background-color: #E2EBFA;\n",
              "      box-shadow: 0px 1px 2px rgba(60, 64, 67, 0.3), 0px 1px 3px 1px rgba(60, 64, 67, 0.15);\n",
              "      fill: #174EA6;\n",
              "    }\n",
              "\n",
              "    [theme=dark] .colab-df-convert {\n",
              "      background-color: #3B4455;\n",
              "      fill: #D2E3FC;\n",
              "    }\n",
              "\n",
              "    [theme=dark] .colab-df-convert:hover {\n",
              "      background-color: #434B5C;\n",
              "      box-shadow: 0px 1px 3px 1px rgba(0, 0, 0, 0.15);\n",
              "      filter: drop-shadow(0px 1px 2px rgba(0, 0, 0, 0.3));\n",
              "      fill: #FFFFFF;\n",
              "    }\n",
              "  </style>\n",
              "\n",
              "      <script>\n",
              "        const buttonEl =\n",
              "          document.querySelector('#df-57299dd1-9276-47b3-805c-507011fc7881 button.colab-df-convert');\n",
              "        buttonEl.style.display =\n",
              "          google.colab.kernel.accessAllowed ? 'block' : 'none';\n",
              "\n",
              "        async function convertToInteractive(key) {\n",
              "          const element = document.querySelector('#df-57299dd1-9276-47b3-805c-507011fc7881');\n",
              "          const dataTable =\n",
              "            await google.colab.kernel.invokeFunction('convertToInteractive',\n",
              "                                                     [key], {});\n",
              "          if (!dataTable) return;\n",
              "\n",
              "          const docLinkHtml = 'Like what you see? Visit the ' +\n",
              "            '<a target=\"_blank\" href=https://colab.research.google.com/notebooks/data_table.ipynb>data table notebook</a>'\n",
              "            + ' to learn more about interactive tables.';\n",
              "          element.innerHTML = '';\n",
              "          dataTable['output_type'] = 'display_data';\n",
              "          await google.colab.output.renderOutput(dataTable, element);\n",
              "          const docLink = document.createElement('div');\n",
              "          docLink.innerHTML = docLinkHtml;\n",
              "          element.appendChild(docLink);\n",
              "        }\n",
              "      </script>\n",
              "    </div>\n",
              "  </div>\n",
              "  "
            ]
          },
          "metadata": {},
          "execution_count": 2845
        }
      ]
    },
    {
      "cell_type": "code",
      "source": [
        "wildfire_set1.shape"
      ],
      "metadata": {
        "id": "GUbBvvN8D8FG",
        "colab": {
          "base_uri": "https://localhost:8080/"
        },
        "outputId": "d6bddace-efb3-4236-c825-5bde828da3ee"
      },
      "execution_count": 2846,
      "outputs": [
        {
          "output_type": "execute_result",
          "data": {
            "text/plain": [
              "(114558, 20)"
            ]
          },
          "metadata": {},
          "execution_count": 2846
        }
      ]
    },
    {
      "cell_type": "code",
      "source": [
        "wildfire_set2.head(5)"
      ],
      "metadata": {
        "id": "tjwTdwNlJdQP",
        "colab": {
          "base_uri": "https://localhost:8080/",
          "height": 250
        },
        "outputId": "75c54ffe-56a6-4e30-b742-c1be5ab0cb6b"
      },
      "execution_count": 2847,
      "outputs": [
        {
          "output_type": "execute_result",
          "data": {
            "text/plain": [
              "   AcresBurned Fire Size Rank Discovery Month  AWND   CLDD  DP10  DX90  PRCP  \\\n",
              "0     132127.0              G             Jul   6.5    0.0   0.0   0.0  0.00   \n",
              "1      48019.0              G             Jun   6.7  529.0   0.0  22.0  0.00   \n",
              "2      46344.0              G             Aug   6.9  237.0   0.0  23.0  0.00   \n",
              "3      36274.0              G             Aug   6.5  455.0   0.0  28.0  0.00   \n",
              "4      33867.0              G             Aug   4.5    0.0   0.0   0.0  0.02   \n",
              "\n",
              "   TAVG  TMAX  TMIN  PRCP_6M  PRCP_RS  DX90_2M  DP10_2M  Receives Snow  \\\n",
              "0  58.8  65.2  52.4    14.11    21.42      0.0      1.0              0   \n",
              "1  82.6  96.6  68.6     4.68     4.88     15.0      4.0              1   \n",
              "2  72.6  92.6  52.6     2.52     8.09     43.0      0.0              0   \n",
              "3  79.7  94.6  64.7     3.41     6.45     43.0      0.0              0   \n",
              "4  56.4  62.9  49.9    18.03    54.17      0.0      2.0              1   \n",
              "\n",
              "   Mar_SP  Mar_WC  Mar_Dens  Elevation  \n",
              "0     0.0     0.0      0.00   961.2744  \n",
              "1    36.0    16.0      0.44  3389.0664  \n",
              "2     0.0     0.0      0.00  1049.8560  \n",
              "3     0.0     0.0      0.00  4192.8624  \n",
              "4    77.0    34.0      0.44  3244.7112  "
            ],
            "text/html": [
              "\n",
              "  <div id=\"df-a63b0d87-dae4-45a6-9f4b-d5e4322bb01d\">\n",
              "    <div class=\"colab-df-container\">\n",
              "      <div>\n",
              "<style scoped>\n",
              "    .dataframe tbody tr th:only-of-type {\n",
              "        vertical-align: middle;\n",
              "    }\n",
              "\n",
              "    .dataframe tbody tr th {\n",
              "        vertical-align: top;\n",
              "    }\n",
              "\n",
              "    .dataframe thead th {\n",
              "        text-align: right;\n",
              "    }\n",
              "</style>\n",
              "<table border=\"1\" class=\"dataframe\">\n",
              "  <thead>\n",
              "    <tr style=\"text-align: right;\">\n",
              "      <th></th>\n",
              "      <th>AcresBurned</th>\n",
              "      <th>Fire Size Rank</th>\n",
              "      <th>Discovery Month</th>\n",
              "      <th>AWND</th>\n",
              "      <th>CLDD</th>\n",
              "      <th>DP10</th>\n",
              "      <th>DX90</th>\n",
              "      <th>PRCP</th>\n",
              "      <th>TAVG</th>\n",
              "      <th>TMAX</th>\n",
              "      <th>TMIN</th>\n",
              "      <th>PRCP_6M</th>\n",
              "      <th>PRCP_RS</th>\n",
              "      <th>DX90_2M</th>\n",
              "      <th>DP10_2M</th>\n",
              "      <th>Receives Snow</th>\n",
              "      <th>Mar_SP</th>\n",
              "      <th>Mar_WC</th>\n",
              "      <th>Mar_Dens</th>\n",
              "      <th>Elevation</th>\n",
              "    </tr>\n",
              "  </thead>\n",
              "  <tbody>\n",
              "    <tr>\n",
              "      <th>0</th>\n",
              "      <td>132127.0</td>\n",
              "      <td>G</td>\n",
              "      <td>Jul</td>\n",
              "      <td>6.5</td>\n",
              "      <td>0.0</td>\n",
              "      <td>0.0</td>\n",
              "      <td>0.0</td>\n",
              "      <td>0.00</td>\n",
              "      <td>58.8</td>\n",
              "      <td>65.2</td>\n",
              "      <td>52.4</td>\n",
              "      <td>14.11</td>\n",
              "      <td>21.42</td>\n",
              "      <td>0.0</td>\n",
              "      <td>1.0</td>\n",
              "      <td>0</td>\n",
              "      <td>0.0</td>\n",
              "      <td>0.0</td>\n",
              "      <td>0.00</td>\n",
              "      <td>961.2744</td>\n",
              "    </tr>\n",
              "    <tr>\n",
              "      <th>1</th>\n",
              "      <td>48019.0</td>\n",
              "      <td>G</td>\n",
              "      <td>Jun</td>\n",
              "      <td>6.7</td>\n",
              "      <td>529.0</td>\n",
              "      <td>0.0</td>\n",
              "      <td>22.0</td>\n",
              "      <td>0.00</td>\n",
              "      <td>82.6</td>\n",
              "      <td>96.6</td>\n",
              "      <td>68.6</td>\n",
              "      <td>4.68</td>\n",
              "      <td>4.88</td>\n",
              "      <td>15.0</td>\n",
              "      <td>4.0</td>\n",
              "      <td>1</td>\n",
              "      <td>36.0</td>\n",
              "      <td>16.0</td>\n",
              "      <td>0.44</td>\n",
              "      <td>3389.0664</td>\n",
              "    </tr>\n",
              "    <tr>\n",
              "      <th>2</th>\n",
              "      <td>46344.0</td>\n",
              "      <td>G</td>\n",
              "      <td>Aug</td>\n",
              "      <td>6.9</td>\n",
              "      <td>237.0</td>\n",
              "      <td>0.0</td>\n",
              "      <td>23.0</td>\n",
              "      <td>0.00</td>\n",
              "      <td>72.6</td>\n",
              "      <td>92.6</td>\n",
              "      <td>52.6</td>\n",
              "      <td>2.52</td>\n",
              "      <td>8.09</td>\n",
              "      <td>43.0</td>\n",
              "      <td>0.0</td>\n",
              "      <td>0</td>\n",
              "      <td>0.0</td>\n",
              "      <td>0.0</td>\n",
              "      <td>0.00</td>\n",
              "      <td>1049.8560</td>\n",
              "    </tr>\n",
              "    <tr>\n",
              "      <th>3</th>\n",
              "      <td>36274.0</td>\n",
              "      <td>G</td>\n",
              "      <td>Aug</td>\n",
              "      <td>6.5</td>\n",
              "      <td>455.0</td>\n",
              "      <td>0.0</td>\n",
              "      <td>28.0</td>\n",
              "      <td>0.00</td>\n",
              "      <td>79.7</td>\n",
              "      <td>94.6</td>\n",
              "      <td>64.7</td>\n",
              "      <td>3.41</td>\n",
              "      <td>6.45</td>\n",
              "      <td>43.0</td>\n",
              "      <td>0.0</td>\n",
              "      <td>0</td>\n",
              "      <td>0.0</td>\n",
              "      <td>0.0</td>\n",
              "      <td>0.00</td>\n",
              "      <td>4192.8624</td>\n",
              "    </tr>\n",
              "    <tr>\n",
              "      <th>4</th>\n",
              "      <td>33867.0</td>\n",
              "      <td>G</td>\n",
              "      <td>Aug</td>\n",
              "      <td>4.5</td>\n",
              "      <td>0.0</td>\n",
              "      <td>0.0</td>\n",
              "      <td>0.0</td>\n",
              "      <td>0.02</td>\n",
              "      <td>56.4</td>\n",
              "      <td>62.9</td>\n",
              "      <td>49.9</td>\n",
              "      <td>18.03</td>\n",
              "      <td>54.17</td>\n",
              "      <td>0.0</td>\n",
              "      <td>2.0</td>\n",
              "      <td>1</td>\n",
              "      <td>77.0</td>\n",
              "      <td>34.0</td>\n",
              "      <td>0.44</td>\n",
              "      <td>3244.7112</td>\n",
              "    </tr>\n",
              "  </tbody>\n",
              "</table>\n",
              "</div>\n",
              "      <button class=\"colab-df-convert\" onclick=\"convertToInteractive('df-a63b0d87-dae4-45a6-9f4b-d5e4322bb01d')\"\n",
              "              title=\"Convert this dataframe to an interactive table.\"\n",
              "              style=\"display:none;\">\n",
              "        \n",
              "  <svg xmlns=\"http://www.w3.org/2000/svg\" height=\"24px\"viewBox=\"0 0 24 24\"\n",
              "       width=\"24px\">\n",
              "    <path d=\"M0 0h24v24H0V0z\" fill=\"none\"/>\n",
              "    <path d=\"M18.56 5.44l.94 2.06.94-2.06 2.06-.94-2.06-.94-.94-2.06-.94 2.06-2.06.94zm-11 1L8.5 8.5l.94-2.06 2.06-.94-2.06-.94L8.5 2.5l-.94 2.06-2.06.94zm10 10l.94 2.06.94-2.06 2.06-.94-2.06-.94-.94-2.06-.94 2.06-2.06.94z\"/><path d=\"M17.41 7.96l-1.37-1.37c-.4-.4-.92-.59-1.43-.59-.52 0-1.04.2-1.43.59L10.3 9.45l-7.72 7.72c-.78.78-.78 2.05 0 2.83L4 21.41c.39.39.9.59 1.41.59.51 0 1.02-.2 1.41-.59l7.78-7.78 2.81-2.81c.8-.78.8-2.07 0-2.86zM5.41 20L4 18.59l7.72-7.72 1.47 1.35L5.41 20z\"/>\n",
              "  </svg>\n",
              "      </button>\n",
              "      \n",
              "  <style>\n",
              "    .colab-df-container {\n",
              "      display:flex;\n",
              "      flex-wrap:wrap;\n",
              "      gap: 12px;\n",
              "    }\n",
              "\n",
              "    .colab-df-convert {\n",
              "      background-color: #E8F0FE;\n",
              "      border: none;\n",
              "      border-radius: 50%;\n",
              "      cursor: pointer;\n",
              "      display: none;\n",
              "      fill: #1967D2;\n",
              "      height: 32px;\n",
              "      padding: 0 0 0 0;\n",
              "      width: 32px;\n",
              "    }\n",
              "\n",
              "    .colab-df-convert:hover {\n",
              "      background-color: #E2EBFA;\n",
              "      box-shadow: 0px 1px 2px rgba(60, 64, 67, 0.3), 0px 1px 3px 1px rgba(60, 64, 67, 0.15);\n",
              "      fill: #174EA6;\n",
              "    }\n",
              "\n",
              "    [theme=dark] .colab-df-convert {\n",
              "      background-color: #3B4455;\n",
              "      fill: #D2E3FC;\n",
              "    }\n",
              "\n",
              "    [theme=dark] .colab-df-convert:hover {\n",
              "      background-color: #434B5C;\n",
              "      box-shadow: 0px 1px 3px 1px rgba(0, 0, 0, 0.15);\n",
              "      filter: drop-shadow(0px 1px 2px rgba(0, 0, 0, 0.3));\n",
              "      fill: #FFFFFF;\n",
              "    }\n",
              "  </style>\n",
              "\n",
              "      <script>\n",
              "        const buttonEl =\n",
              "          document.querySelector('#df-a63b0d87-dae4-45a6-9f4b-d5e4322bb01d button.colab-df-convert');\n",
              "        buttonEl.style.display =\n",
              "          google.colab.kernel.accessAllowed ? 'block' : 'none';\n",
              "\n",
              "        async function convertToInteractive(key) {\n",
              "          const element = document.querySelector('#df-a63b0d87-dae4-45a6-9f4b-d5e4322bb01d');\n",
              "          const dataTable =\n",
              "            await google.colab.kernel.invokeFunction('convertToInteractive',\n",
              "                                                     [key], {});\n",
              "          if (!dataTable) return;\n",
              "\n",
              "          const docLinkHtml = 'Like what you see? Visit the ' +\n",
              "            '<a target=\"_blank\" href=https://colab.research.google.com/notebooks/data_table.ipynb>data table notebook</a>'\n",
              "            + ' to learn more about interactive tables.';\n",
              "          element.innerHTML = '';\n",
              "          dataTable['output_type'] = 'display_data';\n",
              "          await google.colab.output.renderOutput(dataTable, element);\n",
              "          const docLink = document.createElement('div');\n",
              "          docLink.innerHTML = docLinkHtml;\n",
              "          element.appendChild(docLink);\n",
              "        }\n",
              "      </script>\n",
              "    </div>\n",
              "  </div>\n",
              "  "
            ]
          },
          "metadata": {},
          "execution_count": 2847
        }
      ]
    },
    {
      "cell_type": "code",
      "source": [
        "wildfire_set2.shape"
      ],
      "metadata": {
        "id": "6GGilC4CD906",
        "colab": {
          "base_uri": "https://localhost:8080/"
        },
        "outputId": "27bf18c7-2642-4380-d980-f39e4432587f"
      },
      "execution_count": 2848,
      "outputs": [
        {
          "output_type": "execute_result",
          "data": {
            "text/plain": [
              "(1156, 20)"
            ]
          },
          "metadata": {},
          "execution_count": 2848
        }
      ]
    },
    {
      "cell_type": "markdown",
      "source": [
        "# Investigate the presence of null values in each dataset:\n",
        "Below, we have the count of totall null values in each column for wildfire_set1 and wildfire_set2."
      ],
      "metadata": {
        "id": "5_rDqNJTLWVx"
      }
    },
    {
      "cell_type": "code",
      "source": [
        "print(wildfire_set1.isnull().sum())"
      ],
      "metadata": {
        "id": "or_T8i6DDBwW",
        "colab": {
          "base_uri": "https://localhost:8080/"
        },
        "outputId": "7bceea4d-71f1-4089-d2de-05b7927d6c14"
      },
      "execution_count": 2849,
      "outputs": [
        {
          "output_type": "stream",
          "name": "stdout",
          "text": [
            "AcresBurned           0\n",
            "Fire Size Rank        0\n",
            "Discovery Month       0\n",
            "AWND               6254\n",
            "CLDD               3335\n",
            "DP10               3042\n",
            "DX90               3333\n",
            "PRCP               3042\n",
            "TAVG               3335\n",
            "TMAX               3333\n",
            "TMIN               3285\n",
            "PRCP_6M            2470\n",
            "PRCP_RS            2811\n",
            "DX90_2M            2215\n",
            "DP10_2M            1599\n",
            "Receives Snow       102\n",
            "Mar_SP              102\n",
            "Mar_WC              102\n",
            "Mar_Dens            102\n",
            "Elevation             0\n",
            "dtype: int64\n"
          ]
        }
      ]
    },
    {
      "cell_type": "code",
      "source": [
        "print(wildfire_set2.isnull().sum())"
      ],
      "metadata": {
        "id": "n5pLabm4Dz5W",
        "colab": {
          "base_uri": "https://localhost:8080/"
        },
        "outputId": "21a7e98a-f408-4490-e3e7-02514f3df3d0"
      },
      "execution_count": 2850,
      "outputs": [
        {
          "output_type": "stream",
          "name": "stdout",
          "text": [
            "AcresBurned         3\n",
            "Fire Size Rank      0\n",
            "Discovery Month     0\n",
            "AWND               37\n",
            "CLDD               37\n",
            "DP10               32\n",
            "DX90               34\n",
            "PRCP               32\n",
            "TAVG               37\n",
            "TMAX               34\n",
            "TMIN               37\n",
            "PRCP_6M             7\n",
            "PRCP_RS            10\n",
            "DX90_2M             2\n",
            "DP10_2M             1\n",
            "Receives Snow       0\n",
            "Mar_SP              0\n",
            "Mar_WC              0\n",
            "Mar_Dens            0\n",
            "Elevation           0\n",
            "dtype: int64\n"
          ]
        }
      ]
    },
    {
      "cell_type": "code",
      "source": [
        "wildfire_set1 = wildfire_set1.dropna()"
      ],
      "metadata": {
        "id": "Yq9O7gs5EvlC"
      },
      "execution_count": 2851,
      "outputs": []
    },
    {
      "cell_type": "code",
      "source": [
        "wildfire_set2 = wildfire_set2.dropna()"
      ],
      "metadata": {
        "id": "HehdodiqFMSk"
      },
      "execution_count": 2852,
      "outputs": []
    },
    {
      "cell_type": "markdown",
      "source": [
        "In the two cells above, we drop all null values in both datasets. We are able to drop all nulls in this case because our dataset is large with relatively few null values in each so not much data is lost in this process. Looking at the shapes of each dataframe after the drops, we see that both datasets remain a similar size post drop."
      ],
      "metadata": {
        "id": "z1leCNjYNK7M"
      }
    },
    {
      "cell_type": "code",
      "source": [
        "wildfire_set1.shape"
      ],
      "metadata": {
        "id": "ed-MEhigE8y9",
        "colab": {
          "base_uri": "https://localhost:8080/"
        },
        "outputId": "3422313b-a592-46cf-99e9-fcbc3d05d990"
      },
      "execution_count": 2853,
      "outputs": [
        {
          "output_type": "execute_result",
          "data": {
            "text/plain": [
              "(106024, 20)"
            ]
          },
          "metadata": {},
          "execution_count": 2853
        }
      ]
    },
    {
      "cell_type": "code",
      "source": [
        "wildfire_set2.shape"
      ],
      "metadata": {
        "id": "dAacNqr7FONE",
        "colab": {
          "base_uri": "https://localhost:8080/"
        },
        "outputId": "65dcb06c-453f-44f2-8378-baa356fee748"
      },
      "execution_count": 2854,
      "outputs": [
        {
          "output_type": "execute_result",
          "data": {
            "text/plain": [
              "(1105, 20)"
            ]
          },
          "metadata": {},
          "execution_count": 2854
        }
      ]
    },
    {
      "cell_type": "markdown",
      "source": [
        "# To remind ourselves, as described by the database the original classes are as follows:\n",
        "\n",
        "# A: 0-0.25 acres\n",
        "# B=0.26-9.9 acres\n",
        "# C=10.0-99.9 acres\n",
        "# D=100-299 acres\n",
        "# E=300 to 999 acres\n",
        "# F=1000 to 4999 acres\n",
        "# G=5000+ acres"
      ],
      "metadata": {
        "id": "7CAsMA8VaiJU"
      }
    },
    {
      "cell_type": "markdown",
      "source": [
        "As we can see below from the value counts for the Fire Size Rank column, the first dataset has an overwhelming amount of small wildfires from class A (0-0.25 acres) and class B (0.26-9.9), leading to a large imbalance in the first dataset."
      ],
      "metadata": {
        "id": "uIhcEd_vZ1S8"
      }
    },
    {
      "cell_type": "code",
      "source": [
        "print(wildfire_set1['Fire Size Rank'].value_counts())"
      ],
      "metadata": {
        "id": "Uvpu5l5AZxHX",
        "outputId": "a7890147-6d79-4e8e-f9c5-1d760c8d5c18",
        "colab": {
          "base_uri": "https://localhost:8080/"
        }
      },
      "execution_count": 2855,
      "outputs": [
        {
          "output_type": "stream",
          "name": "stdout",
          "text": [
            "A    55462\n",
            "B    43118\n",
            "C     5097\n",
            "D     1096\n",
            "E      597\n",
            "F      406\n",
            "G      248\n",
            "Name: Fire Size Rank, dtype: int64\n"
          ]
        }
      ]
    },
    {
      "cell_type": "code",
      "source": [
        "print(wildfire_set2['Fire Size Rank'].value_counts())"
      ],
      "metadata": {
        "id": "LhmsM0oVZx4a",
        "outputId": "c973fe57-6c0d-452a-a4b9-7f70cc0dedc9",
        "colab": {
          "base_uri": "https://localhost:8080/"
        }
      },
      "execution_count": 2856,
      "outputs": [
        {
          "output_type": "stream",
          "name": "stdout",
          "text": [
            "C    559\n",
            "D    222\n",
            "E    111\n",
            "F    101\n",
            "G     92\n",
            "A     18\n",
            "B      2\n",
            "Name: Fire Size Rank, dtype: int64\n"
          ]
        }
      ]
    },
    {
      "cell_type": "markdown",
      "source": [
        "Restrict each dataset to wildfires larger than 10 acres since those smaller than that are not substantial and the goal of this project is to predict areas prone to destruction by wildfire\n",
        "\n",
        "\n",
        "I then create new criteria for fire class size to help balance out the first dataset which we will use to train our model:\n",
        "\n",
        "# New Classes for Fire Size Rank:\n",
        "\n",
        "\n",
        "*   Small: 10-20.5 Acres Burned\n",
        "*   Medium: 20.5 - 50 Acres Burned\n",
        "*   Large: 50 - 200 Acres Burned\n",
        "*   Very Large: 200+ Acres Burned\n",
        "\n",
        "\n",
        "\n",
        "\n"
      ],
      "metadata": {
        "id": "VAois_tKZs-C"
      }
    },
    {
      "cell_type": "code",
      "source": [
        "#In this cell, I restrict the first dataset to those wildfires over 10 acres in size\n",
        "#and then redefine the clases as described above to lead to a more balanced spread of the \n",
        "#classes. We want the spread to be balanced amongst the classes since we will train our model on this\n",
        "#larger dataset\n",
        "\n",
        "wildfire1 = wildfire_set1.loc[wildfire_set1['AcresBurned']> 10]\n",
        "\n",
        "for index, rows in wildfire1.iterrows():\n",
        "  size_fire = wildfire1.at[index, 'AcresBurned']\n",
        "  if size_fire >= 10 and size_fire <= 23:\n",
        "    size_class = 'Small'\n",
        "  if size_fire >= 23 and size_fire <= 90:\n",
        "    size_class = 'Medium'\n",
        "  elif size_fire > 90:\n",
        "    size_class = 'Large'\n",
        "  wildfire1.at[index,'Fire Size Rank'] = size_class\n",
        "\n",
        "print(wildfire1['Fire Size Rank'].value_counts())"
      ],
      "metadata": {
        "id": "1gkRVlUoUhU6",
        "outputId": "b255a968-d610-4336-f33e-e3721d48f1d1",
        "colab": {
          "base_uri": "https://localhost:8080/"
        }
      },
      "execution_count": 2857,
      "outputs": [
        {
          "output_type": "stream",
          "name": "stdout",
          "text": [
            "Large     2416\n",
            "Medium    2388\n",
            "Small     1925\n",
            "Name: Fire Size Rank, dtype: int64\n"
          ]
        }
      ]
    },
    {
      "cell_type": "markdown",
      "source": [
        "# Histogram showing the count of each class within the first dataset (we will train on this data):"
      ],
      "metadata": {
        "id": "9W8kEsyxjjmF"
      }
    },
    {
      "cell_type": "code",
      "source": [
        "#Restrict the fires to those over 10 acres for the second dataset\n",
        "#as well \n",
        "\n",
        "wildfire2 = wildfire_set2.loc[wildfire_set2['AcresBurned']> 10]\n",
        "\n",
        "for index, rows in wildfire2.iterrows():\n",
        "  size_fire = wildfire2.at[index, 'AcresBurned']\n",
        "  if size_fire >= 10 and size_fire <= 45:\n",
        "    size_class = 'Small'\n",
        "  if size_fire >= 45 and size_fire <= 160:\n",
        "    size_class = 'Medium'\n",
        "  elif size_fire > 160:\n",
        "    size_class = 'Large'\n",
        "  wildfire2.at[index,'Fire Size Rank'] = size_class\n",
        "\n",
        "\n",
        "print(wildfire2['Fire Size Rank'].value_counts())"
      ],
      "metadata": {
        "id": "vAcsoBz3RTSy",
        "outputId": "3854b074-27c1-442f-af4b-c9dc914d31a0",
        "colab": {
          "base_uri": "https://localhost:8080/"
        }
      },
      "execution_count": 2858,
      "outputs": [
        {
          "output_type": "stream",
          "name": "stdout",
          "text": [
            "Large     405\n",
            "Medium    329\n",
            "Small     311\n",
            "Name: Fire Size Rank, dtype: int64\n"
          ]
        }
      ]
    },
    {
      "cell_type": "code",
      "source": [
        "import matplotlib.pyplot as plt\n",
        "\n",
        "x = wildfire1['Fire Size Rank']\n",
        "\n",
        "plt.xlabel('Class')\n",
        "plt.ylabel('Count')\n",
        "plt.hist(x)\n",
        "plt.show()"
      ],
      "metadata": {
        "id": "seNCpcxKT22l",
        "outputId": "5e169c6b-2fbe-4c88-9071-2e45c59456ff",
        "colab": {
          "base_uri": "https://localhost:8080/",
          "height": 280
        }
      },
      "execution_count": 2859,
      "outputs": [
        {
          "output_type": "display_data",
          "data": {
            "text/plain": [
              "<Figure size 432x288 with 1 Axes>"
            ],
            "image/png": "[encoded data removed]"
          },
          "metadata": {
            "needs_background": "light"
          }
        }
      ]
    },
    {
      "cell_type": "code",
      "source": [
        "#After changing our class labels, we can delete the AcresBurned column in both dataframes since it\n",
        "#will not be a feature we use.\n",
        "wildfire1 = wildfire1.drop(columns = ['AcresBurned'], inplace = False)\n",
        "wildfire2 = wildfire2.drop(columns = ['AcresBurned'], inplace = False)\n",
        "\n",
        "#reset indexes to clean things up\n",
        "wildfire1.reset_index()\n",
        "wildfire2.reset_index()"
      ],
      "metadata": {
        "id": "qIqOqYW-ls-7",
        "outputId": "bf0e518a-326f-4017-c8f0-28736b3a04e4",
        "colab": {
          "base_uri": "https://localhost:8080/",
          "height": 468
        }
      },
      "execution_count": 2860,
      "outputs": [
        {
          "output_type": "execute_result",
          "data": {
            "text/plain": [
              "      index Fire Size Rank Discovery Month  AWND   CLDD  DP10  DX90  PRCP  \\\n",
              "0         0          Large             Jul   6.5    0.0   0.0   0.0  0.00   \n",
              "1         1          Large             Jun   6.7  529.0   0.0  22.0  0.00   \n",
              "2         2          Large             Aug   6.9  237.0   0.0  23.0  0.00   \n",
              "3         3          Large             Aug   6.5  455.0   0.0  28.0  0.00   \n",
              "4         4          Large             Aug   4.5    0.0   0.0   0.0  0.02   \n",
              "...     ...            ...             ...   ...    ...   ...   ...   ...   \n",
              "1040   1139          Small             Jun   7.4  338.0   0.0  22.0  0.00   \n",
              "1041   1140          Small             Oct   5.6  167.0   0.0  11.0  0.00   \n",
              "1042   1141          Small             Oct   7.8   57.0   0.0   1.0  0.02   \n",
              "1043   1142          Small             Sep   5.8  237.0   0.0  14.0  0.00   \n",
              "1044   1143          Small             Sep   6.7  167.0   1.0   9.0  0.18   \n",
              "\n",
              "      TAVG  TMAX  TMIN  PRCP_6M  PRCP_RS  DX90_2M  DP10_2M  Receives Snow  \\\n",
              "0     58.8  65.2  52.4    14.11    21.42      0.0      1.0              0   \n",
              "1     82.6  96.6  68.6     4.68     4.88     15.0      4.0              1   \n",
              "2     72.6  92.6  52.6     2.52     8.09     43.0      0.0              0   \n",
              "3     79.7  94.6  64.7     3.41     6.45     43.0      0.0              0   \n",
              "4     56.4  62.9  49.9    18.03    54.17      0.0      2.0              1   \n",
              "...    ...   ...   ...      ...      ...      ...      ...            ...   \n",
              "1040  76.3  92.6  59.9    25.55    25.71      2.0      7.0              0   \n",
              "1041  69.9  86.1  53.7     0.49    12.66     48.0      0.0              0   \n",
              "1042  63.5  78.8  48.2     3.73    27.33     42.0      3.0              1   \n",
              "1043  72.4  88.7  56.1     3.73    11.86     57.0      0.0              1   \n",
              "1044  69.8  84.3  55.4     4.59    15.20     31.0      0.0              0   \n",
              "\n",
              "      Mar_SP  Mar_WC  Mar_Dens  Elevation  \n",
              "0        0.0     0.0      0.00   961.2744  \n",
              "1       36.0    16.0      0.44  3389.0664  \n",
              "2        0.0     0.0      0.00  1049.8560  \n",
              "3        0.0     0.0      0.00  4192.8624  \n",
              "4       77.0    34.0      0.44  3244.7112  \n",
              "...      ...     ...       ...        ...  \n",
              "1040     0.0     0.0      0.00  2178.4512  \n",
              "1041     0.0     0.0      0.00  1381.2168  \n",
              "1042   159.0    65.0      0.41   623.3520  \n",
              "1043   146.5    64.5      0.44   321.5184  \n",
              "1044     0.0     0.0      0.00  3031.4592  \n",
              "\n",
              "[1045 rows x 20 columns]"
            ],
            "text/html": [
              "\n",
              "  <div id=\"df-182ff9a7-c4d2-4d77-8d51-8e97b895c4f9\">\n",
              "    <div class=\"colab-df-container\">\n",
              "      <div>\n",
              "<style scoped>\n",
              "    .dataframe tbody tr th:only-of-type {\n",
              "        vertical-align: middle;\n",
              "    }\n",
              "\n",
              "    .dataframe tbody tr th {\n",
              "        vertical-align: top;\n",
              "    }\n",
              "\n",
              "    .dataframe thead th {\n",
              "        text-align: right;\n",
              "    }\n",
              "</style>\n",
              "<table border=\"1\" class=\"dataframe\">\n",
              "  <thead>\n",
              "    <tr style=\"text-align: right;\">\n",
              "      <th></th>\n",
              "      <th>index</th>\n",
              "      <th>Fire Size Rank</th>\n",
              "      <th>Discovery Month</th>\n",
              "      <th>AWND</th>\n",
              "      <th>CLDD</th>\n",
              "      <th>DP10</th>\n",
              "      <th>DX90</th>\n",
              "      <th>PRCP</th>\n",
              "      <th>TAVG</th>\n",
              "      <th>TMAX</th>\n",
              "      <th>TMIN</th>\n",
              "      <th>PRCP_6M</th>\n",
              "      <th>PRCP_RS</th>\n",
              "      <th>DX90_2M</th>\n",
              "      <th>DP10_2M</th>\n",
              "      <th>Receives Snow</th>\n",
              "      <th>Mar_SP</th>\n",
              "      <th>Mar_WC</th>\n",
              "      <th>Mar_Dens</th>\n",
              "      <th>Elevation</th>\n",
              "    </tr>\n",
              "  </thead>\n",
              "  <tbody>\n",
              "    <tr>\n",
              "      <th>0</th>\n",
              "      <td>0</td>\n",
              "      <td>Large</td>\n",
              "      <td>Jul</td>\n",
              "      <td>6.5</td>\n",
              "      <td>0.0</td>\n",
              "      <td>0.0</td>\n",
              "      <td>0.0</td>\n",
              "      <td>0.00</td>\n",
              "      <td>58.8</td>\n",
              "      <td>65.2</td>\n",
              "      <td>52.4</td>\n",
              "      <td>14.11</td>\n",
              "      <td>21.42</td>\n",
              "      <td>0.0</td>\n",
              "      <td>1.0</td>\n",
              "      <td>0</td>\n",
              "      <td>0.0</td>\n",
              "      <td>0.0</td>\n",
              "      <td>0.00</td>\n",
              "      <td>961.2744</td>\n",
              "    </tr>\n",
              "    <tr>\n",
              "      <th>1</th>\n",
              "      <td>1</td>\n",
              "      <td>Large</td>\n",
              "      <td>Jun</td>\n",
              "      <td>6.7</td>\n",
              "      <td>529.0</td>\n",
              "      <td>0.0</td>\n",
              "      <td>22.0</td>\n",
              "      <td>0.00</td>\n",
              "      <td>82.6</td>\n",
              "      <td>96.6</td>\n",
              "      <td>68.6</td>\n",
              "      <td>4.68</td>\n",
              "      <td>4.88</td>\n",
              "      <td>15.0</td>\n",
              "      <td>4.0</td>\n",
              "      <td>1</td>\n",
              "      <td>36.0</td>\n",
              "      <td>16.0</td>\n",
              "      <td>0.44</td>\n",
              "      <td>3389.0664</td>\n",
              "    </tr>\n",
              "    <tr>\n",
              "      <th>2</th>\n",
              "      <td>2</td>\n",
              "      <td>Large</td>\n",
              "      <td>Aug</td>\n",
              "      <td>6.9</td>\n",
              "      <td>237.0</td>\n",
              "      <td>0.0</td>\n",
              "      <td>23.0</td>\n",
              "      <td>0.00</td>\n",
              "      <td>72.6</td>\n",
              "      <td>92.6</td>\n",
              "      <td>52.6</td>\n",
              "      <td>2.52</td>\n",
              "      <td>8.09</td>\n",
              "      <td>43.0</td>\n",
              "      <td>0.0</td>\n",
              "      <td>0</td>\n",
              "      <td>0.0</td>\n",
              "      <td>0.0</td>\n",
              "      <td>0.00</td>\n",
              "      <td>1049.8560</td>\n",
              "    </tr>\n",
              "    <tr>\n",
              "      <th>3</th>\n",
              "      <td>3</td>\n",
              "      <td>Large</td>\n",
              "      <td>Aug</td>\n",
              "      <td>6.5</td>\n",
              "      <td>455.0</td>\n",
              "      <td>0.0</td>\n",
              "      <td>28.0</td>\n",
              "      <td>0.00</td>\n",
              "      <td>79.7</td>\n",
              "      <td>94.6</td>\n",
              "      <td>64.7</td>\n",
              "      <td>3.41</td>\n",
              "      <td>6.45</td>\n",
              "      <td>43.0</td>\n",
              "      <td>0.0</td>\n",
              "      <td>0</td>\n",
              "      <td>0.0</td>\n",
              "      <td>0.0</td>\n",
              "      <td>0.00</td>\n",
              "      <td>4192.8624</td>\n",
              "    </tr>\n",
              "    <tr>\n",
              "      <th>4</th>\n",
              "      <td>4</td>\n",
              "      <td>Large</td>\n",
              "      <td>Aug</td>\n",
              "      <td>4.5</td>\n",
              "      <td>0.0</td>\n",
              "      <td>0.0</td>\n",
              "      <td>0.0</td>\n",
              "      <td>0.02</td>\n",
              "      <td>56.4</td>\n",
              "      <td>62.9</td>\n",
              "      <td>49.9</td>\n",
              "      <td>18.03</td>\n",
              "      <td>54.17</td>\n",
              "      <td>0.0</td>\n",
              "      <td>2.0</td>\n",
              "      <td>1</td>\n",
              "      <td>77.0</td>\n",
              "      <td>34.0</td>\n",
              "      <td>0.44</td>\n",
              "      <td>3244.7112</td>\n",
              "    </tr>\n",
              "    <tr>\n",
              "      <th>...</th>\n",
              "      <td>...</td>\n",
              "      <td>...</td>\n",
              "      <td>...</td>\n",
              "      <td>...</td>\n",
              "      <td>...</td>\n",
              "      <td>...</td>\n",
              "      <td>...</td>\n",
              "      <td>...</td>\n",
              "      <td>...</td>\n",
              "      <td>...</td>\n",
              "      <td>...</td>\n",
              "      <td>...</td>\n",
              "      <td>...</td>\n",
              "      <td>...</td>\n",
              "      <td>...</td>\n",
              "      <td>...</td>\n",
              "      <td>...</td>\n",
              "      <td>...</td>\n",
              "      <td>...</td>\n",
              "      <td>...</td>\n",
              "    </tr>\n",
              "    <tr>\n",
              "      <th>1040</th>\n",
              "      <td>1139</td>\n",
              "      <td>Small</td>\n",
              "      <td>Jun</td>\n",
              "      <td>7.4</td>\n",
              "      <td>338.0</td>\n",
              "      <td>0.0</td>\n",
              "      <td>22.0</td>\n",
              "      <td>0.00</td>\n",
              "      <td>76.3</td>\n",
              "      <td>92.6</td>\n",
              "      <td>59.9</td>\n",
              "      <td>25.55</td>\n",
              "      <td>25.71</td>\n",
              "      <td>2.0</td>\n",
              "      <td>7.0</td>\n",
              "      <td>0</td>\n",
              "      <td>0.0</td>\n",
              "      <td>0.0</td>\n",
              "      <td>0.00</td>\n",
              "      <td>2178.4512</td>\n",
              "    </tr>\n",
              "    <tr>\n",
              "      <th>1041</th>\n",
              "      <td>1140</td>\n",
              "      <td>Small</td>\n",
              "      <td>Oct</td>\n",
              "      <td>5.6</td>\n",
              "      <td>167.0</td>\n",
              "      <td>0.0</td>\n",
              "      <td>11.0</td>\n",
              "      <td>0.00</td>\n",
              "      <td>69.9</td>\n",
              "      <td>86.1</td>\n",
              "      <td>53.7</td>\n",
              "      <td>0.49</td>\n",
              "      <td>12.66</td>\n",
              "      <td>48.0</td>\n",
              "      <td>0.0</td>\n",
              "      <td>0</td>\n",
              "      <td>0.0</td>\n",
              "      <td>0.0</td>\n",
              "      <td>0.00</td>\n",
              "      <td>1381.2168</td>\n",
              "    </tr>\n",
              "    <tr>\n",
              "      <th>1042</th>\n",
              "      <td>1141</td>\n",
              "      <td>Small</td>\n",
              "      <td>Oct</td>\n",
              "      <td>7.8</td>\n",
              "      <td>57.0</td>\n",
              "      <td>0.0</td>\n",
              "      <td>1.0</td>\n",
              "      <td>0.02</td>\n",
              "      <td>63.5</td>\n",
              "      <td>78.8</td>\n",
              "      <td>48.2</td>\n",
              "      <td>3.73</td>\n",
              "      <td>27.33</td>\n",
              "      <td>42.0</td>\n",
              "      <td>3.0</td>\n",
              "      <td>1</td>\n",
              "      <td>159.0</td>\n",
              "      <td>65.0</td>\n",
              "      <td>0.41</td>\n",
              "      <td>623.3520</td>\n",
              "    </tr>\n",
              "    <tr>\n",
              "      <th>1043</th>\n",
              "      <td>1142</td>\n",
              "      <td>Small</td>\n",
              "      <td>Sep</td>\n",
              "      <td>5.8</td>\n",
              "      <td>237.0</td>\n",
              "      <td>0.0</td>\n",
              "      <td>14.0</td>\n",
              "      <td>0.00</td>\n",
              "      <td>72.4</td>\n",
              "      <td>88.7</td>\n",
              "      <td>56.1</td>\n",
              "      <td>3.73</td>\n",
              "      <td>11.86</td>\n",
              "      <td>57.0</td>\n",
              "      <td>0.0</td>\n",
              "      <td>1</td>\n",
              "      <td>146.5</td>\n",
              "      <td>64.5</td>\n",
              "      <td>0.44</td>\n",
              "      <td>321.5184</td>\n",
              "    </tr>\n",
              "    <tr>\n",
              "      <th>1044</th>\n",
              "      <td>1143</td>\n",
              "      <td>Small</td>\n",
              "      <td>Sep</td>\n",
              "      <td>6.7</td>\n",
              "      <td>167.0</td>\n",
              "      <td>1.0</td>\n",
              "      <td>9.0</td>\n",
              "      <td>0.18</td>\n",
              "      <td>69.8</td>\n",
              "      <td>84.3</td>\n",
              "      <td>55.4</td>\n",
              "      <td>4.59</td>\n",
              "      <td>15.20</td>\n",
              "      <td>31.0</td>\n",
              "      <td>0.0</td>\n",
              "      <td>0</td>\n",
              "      <td>0.0</td>\n",
              "      <td>0.0</td>\n",
              "      <td>0.00</td>\n",
              "      <td>3031.4592</td>\n",
              "    </tr>\n",
              "  </tbody>\n",
              "</table>\n",
              "<p>1045 rows × 20 columns</p>\n",
              "</div>\n",
              "      <button class=\"colab-df-convert\" onclick=\"convertToInteractive('df-182ff9a7-c4d2-4d77-8d51-8e97b895c4f9')\"\n",
              "              title=\"Convert this dataframe to an interactive table.\"\n",
              "              style=\"display:none;\">\n",
              "        \n",
              "  <svg xmlns=\"http://www.w3.org/2000/svg\" height=\"24px\"viewBox=\"0 0 24 24\"\n",
              "       width=\"24px\">\n",
              "    <path d=\"M0 0h24v24H0V0z\" fill=\"none\"/>\n",
              "    <path d=\"M18.56 5.44l.94 2.06.94-2.06 2.06-.94-2.06-.94-.94-2.06-.94 2.06-2.06.94zm-11 1L8.5 8.5l.94-2.06 2.06-.94-2.06-.94L8.5 2.5l-.94 2.06-2.06.94zm10 10l.94 2.06.94-2.06 2.06-.94-2.06-.94-.94-2.06-.94 2.06-2.06.94z\"/><path d=\"M17.41 7.96l-1.37-1.37c-.4-.4-.92-.59-1.43-.59-.52 0-1.04.2-1.43.59L10.3 9.45l-7.72 7.72c-.78.78-.78 2.05 0 2.83L4 21.41c.39.39.9.59 1.41.59.51 0 1.02-.2 1.41-.59l7.78-7.78 2.81-2.81c.8-.78.8-2.07 0-2.86zM5.41 20L4 18.59l7.72-7.72 1.47 1.35L5.41 20z\"/>\n",
              "  </svg>\n",
              "      </button>\n",
              "      \n",
              "  <style>\n",
              "    .colab-df-container {\n",
              "      display:flex;\n",
              "      flex-wrap:wrap;\n",
              "      gap: 12px;\n",
              "    }\n",
              "\n",
              "    .colab-df-convert {\n",
              "      background-color: #E8F0FE;\n",
              "      border: none;\n",
              "      border-radius: 50%;\n",
              "      cursor: pointer;\n",
              "      display: none;\n",
              "      fill: #1967D2;\n",
              "      height: 32px;\n",
              "      padding: 0 0 0 0;\n",
              "      width: 32px;\n",
              "    }\n",
              "\n",
              "    .colab-df-convert:hover {\n",
              "      background-color: #E2EBFA;\n",
              "      box-shadow: 0px 1px 2px rgba(60, 64, 67, 0.3), 0px 1px 3px 1px rgba(60, 64, 67, 0.15);\n",
              "      fill: #174EA6;\n",
              "    }\n",
              "\n",
              "    [theme=dark] .colab-df-convert {\n",
              "      background-color: #3B4455;\n",
              "      fill: #D2E3FC;\n",
              "    }\n",
              "\n",
              "    [theme=dark] .colab-df-convert:hover {\n",
              "      background-color: #434B5C;\n",
              "      box-shadow: 0px 1px 3px 1px rgba(0, 0, 0, 0.15);\n",
              "      filter: drop-shadow(0px 1px 2px rgba(0, 0, 0, 0.3));\n",
              "      fill: #FFFFFF;\n",
              "    }\n",
              "  </style>\n",
              "\n",
              "      <script>\n",
              "        const buttonEl =\n",
              "          document.querySelector('#df-182ff9a7-c4d2-4d77-8d51-8e97b895c4f9 button.colab-df-convert');\n",
              "        buttonEl.style.display =\n",
              "          google.colab.kernel.accessAllowed ? 'block' : 'none';\n",
              "\n",
              "        async function convertToInteractive(key) {\n",
              "          const element = document.querySelector('#df-182ff9a7-c4d2-4d77-8d51-8e97b895c4f9');\n",
              "          const dataTable =\n",
              "            await google.colab.kernel.invokeFunction('convertToInteractive',\n",
              "                                                     [key], {});\n",
              "          if (!dataTable) return;\n",
              "\n",
              "          const docLinkHtml = 'Like what you see? Visit the ' +\n",
              "            '<a target=\"_blank\" href=https://colab.research.google.com/notebooks/data_table.ipynb>data table notebook</a>'\n",
              "            + ' to learn more about interactive tables.';\n",
              "          element.innerHTML = '';\n",
              "          dataTable['output_type'] = 'display_data';\n",
              "          await google.colab.output.renderOutput(dataTable, element);\n",
              "          const docLink = document.createElement('div');\n",
              "          docLink.innerHTML = docLinkHtml;\n",
              "          element.appendChild(docLink);\n",
              "        }\n",
              "      </script>\n",
              "    </div>\n",
              "  </div>\n",
              "  "
            ]
          },
          "metadata": {},
          "execution_count": 2860
        }
      ]
    },
    {
      "cell_type": "code",
      "source": [
        "print(wildfire1.shape)\n",
        "wildfire1.head(5)"
      ],
      "metadata": {
        "id": "65oLwnJomYT4",
        "outputId": "7c75fde7-77e4-4651-fbfb-0a10287b4f5e",
        "colab": {
          "base_uri": "https://localhost:8080/",
          "height": 223
        }
      },
      "execution_count": 2861,
      "outputs": [
        {
          "output_type": "stream",
          "name": "stdout",
          "text": [
            "(6729, 19)\n"
          ]
        },
        {
          "output_type": "execute_result",
          "data": {
            "text/plain": [
              "   Fire Size Rank Discovery Month  AWND   CLDD  DP10  DX90  PRCP  TAVG   TMAX  \\\n",
              "16          Large             Oct   5.4    0.0   4.0   0.0  3.68  41.0   55.0   \n",
              "17          Large             Oct   5.4    0.0   4.0   0.0  3.68  41.0   55.0   \n",
              "45         Medium             Jul   6.5    4.0   0.0   0.0  0.00  63.2   72.6   \n",
              "66         Medium             Jul   4.7   26.0   0.0   0.0  0.02  63.6   82.5   \n",
              "97          Large             Jul   6.9  701.0   0.0  30.0  0.00  87.6  101.2   \n",
              "\n",
              "    TMIN  PRCP_6M  PRCP_RS  DX90_2M  DP10_2M  Receives Snow  Mar_SP  Mar_WC  \\\n",
              "16  27.0     1.38    14.76      0.0      0.0            1.0     8.0     3.0   \n",
              "17  27.0     1.38    14.76      0.0      0.0            1.0    87.2    28.4   \n",
              "45  53.8    12.55    18.62      0.0      2.0            0.0     0.0     0.0   \n",
              "66  44.7    13.69    18.22      0.0      7.0            1.0    92.0    39.0   \n",
              "97  74.0     6.42     8.49     17.0      2.0            1.0    81.3    31.3   \n",
              "\n",
              "    Mar_Dens  Elevation  \n",
              "16      0.38  6141.6576  \n",
              "17      0.33  5006.5008  \n",
              "45      0.00  2536.0584  \n",
              "66      0.42  6397.5600  \n",
              "97      0.38  2673.8520  "
            ],
            "text/html": [
              "\n",
              "  <div id=\"df-7097a5f1-ec94-4879-b8fa-dcdd892be1c9\">\n",
              "    <div class=\"colab-df-container\">\n",
              "      <div>\n",
              "<style scoped>\n",
              "    .dataframe tbody tr th:only-of-type {\n",
              "        vertical-align: middle;\n",
              "    }\n",
              "\n",
              "    .dataframe tbody tr th {\n",
              "        vertical-align: top;\n",
              "    }\n",
              "\n",
              "    .dataframe thead th {\n",
              "        text-align: right;\n",
              "    }\n",
              "</style>\n",
              "<table border=\"1\" class=\"dataframe\">\n",
              "  <thead>\n",
              "    <tr style=\"text-align: right;\">\n",
              "      <th></th>\n",
              "      <th>Fire Size Rank</th>\n",
              "      <th>Discovery Month</th>\n",
              "      <th>AWND</th>\n",
              "      <th>CLDD</th>\n",
              "      <th>DP10</th>\n",
              "      <th>DX90</th>\n",
              "      <th>PRCP</th>\n",
              "      <th>TAVG</th>\n",
              "      <th>TMAX</th>\n",
              "      <th>TMIN</th>\n",
              "      <th>PRCP_6M</th>\n",
              "      <th>PRCP_RS</th>\n",
              "      <th>DX90_2M</th>\n",
              "      <th>DP10_2M</th>\n",
              "      <th>Receives Snow</th>\n",
              "      <th>Mar_SP</th>\n",
              "      <th>Mar_WC</th>\n",
              "      <th>Mar_Dens</th>\n",
              "      <th>Elevation</th>\n",
              "    </tr>\n",
              "  </thead>\n",
              "  <tbody>\n",
              "    <tr>\n",
              "      <th>16</th>\n",
              "      <td>Large</td>\n",
              "      <td>Oct</td>\n",
              "      <td>5.4</td>\n",
              "      <td>0.0</td>\n",
              "      <td>4.0</td>\n",
              "      <td>0.0</td>\n",
              "      <td>3.68</td>\n",
              "      <td>41.0</td>\n",
              "      <td>55.0</td>\n",
              "      <td>27.0</td>\n",
              "      <td>1.38</td>\n",
              "      <td>14.76</td>\n",
              "      <td>0.0</td>\n",
              "      <td>0.0</td>\n",
              "      <td>1.0</td>\n",
              "      <td>8.0</td>\n",
              "      <td>3.0</td>\n",
              "      <td>0.38</td>\n",
              "      <td>6141.6576</td>\n",
              "    </tr>\n",
              "    <tr>\n",
              "      <th>17</th>\n",
              "      <td>Large</td>\n",
              "      <td>Oct</td>\n",
              "      <td>5.4</td>\n",
              "      <td>0.0</td>\n",
              "      <td>4.0</td>\n",
              "      <td>0.0</td>\n",
              "      <td>3.68</td>\n",
              "      <td>41.0</td>\n",
              "      <td>55.0</td>\n",
              "      <td>27.0</td>\n",
              "      <td>1.38</td>\n",
              "      <td>14.76</td>\n",
              "      <td>0.0</td>\n",
              "      <td>0.0</td>\n",
              "      <td>1.0</td>\n",
              "      <td>87.2</td>\n",
              "      <td>28.4</td>\n",
              "      <td>0.33</td>\n",
              "      <td>5006.5008</td>\n",
              "    </tr>\n",
              "    <tr>\n",
              "      <th>45</th>\n",
              "      <td>Medium</td>\n",
              "      <td>Jul</td>\n",
              "      <td>6.5</td>\n",
              "      <td>4.0</td>\n",
              "      <td>0.0</td>\n",
              "      <td>0.0</td>\n",
              "      <td>0.00</td>\n",
              "      <td>63.2</td>\n",
              "      <td>72.6</td>\n",
              "      <td>53.8</td>\n",
              "      <td>12.55</td>\n",
              "      <td>18.62</td>\n",
              "      <td>0.0</td>\n",
              "      <td>2.0</td>\n",
              "      <td>0.0</td>\n",
              "      <td>0.0</td>\n",
              "      <td>0.0</td>\n",
              "      <td>0.00</td>\n",
              "      <td>2536.0584</td>\n",
              "    </tr>\n",
              "    <tr>\n",
              "      <th>66</th>\n",
              "      <td>Medium</td>\n",
              "      <td>Jul</td>\n",
              "      <td>4.7</td>\n",
              "      <td>26.0</td>\n",
              "      <td>0.0</td>\n",
              "      <td>0.0</td>\n",
              "      <td>0.02</td>\n",
              "      <td>63.6</td>\n",
              "      <td>82.5</td>\n",
              "      <td>44.7</td>\n",
              "      <td>13.69</td>\n",
              "      <td>18.22</td>\n",
              "      <td>0.0</td>\n",
              "      <td>7.0</td>\n",
              "      <td>1.0</td>\n",
              "      <td>92.0</td>\n",
              "      <td>39.0</td>\n",
              "      <td>0.42</td>\n",
              "      <td>6397.5600</td>\n",
              "    </tr>\n",
              "    <tr>\n",
              "      <th>97</th>\n",
              "      <td>Large</td>\n",
              "      <td>Jul</td>\n",
              "      <td>6.9</td>\n",
              "      <td>701.0</td>\n",
              "      <td>0.0</td>\n",
              "      <td>30.0</td>\n",
              "      <td>0.00</td>\n",
              "      <td>87.6</td>\n",
              "      <td>101.2</td>\n",
              "      <td>74.0</td>\n",
              "      <td>6.42</td>\n",
              "      <td>8.49</td>\n",
              "      <td>17.0</td>\n",
              "      <td>2.0</td>\n",
              "      <td>1.0</td>\n",
              "      <td>81.3</td>\n",
              "      <td>31.3</td>\n",
              "      <td>0.38</td>\n",
              "      <td>2673.8520</td>\n",
              "    </tr>\n",
              "  </tbody>\n",
              "</table>\n",
              "</div>\n",
              "      <button class=\"colab-df-convert\" onclick=\"convertToInteractive('df-7097a5f1-ec94-4879-b8fa-dcdd892be1c9')\"\n",
              "              title=\"Convert this dataframe to an interactive table.\"\n",
              "              style=\"display:none;\">\n",
              "        \n",
              "  <svg xmlns=\"http://www.w3.org/2000/svg\" height=\"24px\"viewBox=\"0 0 24 24\"\n",
              "       width=\"24px\">\n",
              "    <path d=\"M0 0h24v24H0V0z\" fill=\"none\"/>\n",
              "    <path d=\"M18.56 5.44l.94 2.06.94-2.06 2.06-.94-2.06-.94-.94-2.06-.94 2.06-2.06.94zm-11 1L8.5 8.5l.94-2.06 2.06-.94-2.06-.94L8.5 2.5l-.94 2.06-2.06.94zm10 10l.94 2.06.94-2.06 2.06-.94-2.06-.94-.94-2.06-.94 2.06-2.06.94z\"/><path d=\"M17.41 7.96l-1.37-1.37c-.4-.4-.92-.59-1.43-.59-.52 0-1.04.2-1.43.59L10.3 9.45l-7.72 7.72c-.78.78-.78 2.05 0 2.83L4 21.41c.39.39.9.59 1.41.59.51 0 1.02-.2 1.41-.59l7.78-7.78 2.81-2.81c.8-.78.8-2.07 0-2.86zM5.41 20L4 18.59l7.72-7.72 1.47 1.35L5.41 20z\"/>\n",
              "  </svg>\n",
              "      </button>\n",
              "      \n",
              "  <style>\n",
              "    .colab-df-container {\n",
              "      display:flex;\n",
              "      flex-wrap:wrap;\n",
              "      gap: 12px;\n",
              "    }\n",
              "\n",
              "    .colab-df-convert {\n",
              "      background-color: #E8F0FE;\n",
              "      border: none;\n",
              "      border-radius: 50%;\n",
              "      cursor: pointer;\n",
              "      display: none;\n",
              "      fill: #1967D2;\n",
              "      height: 32px;\n",
              "      padding: 0 0 0 0;\n",
              "      width: 32px;\n",
              "    }\n",
              "\n",
              "    .colab-df-convert:hover {\n",
              "      background-color: #E2EBFA;\n",
              "      box-shadow: 0px 1px 2px rgba(60, 64, 67, 0.3), 0px 1px 3px 1px rgba(60, 64, 67, 0.15);\n",
              "      fill: #174EA6;\n",
              "    }\n",
              "\n",
              "    [theme=dark] .colab-df-convert {\n",
              "      background-color: #3B4455;\n",
              "      fill: #D2E3FC;\n",
              "    }\n",
              "\n",
              "    [theme=dark] .colab-df-convert:hover {\n",
              "      background-color: #434B5C;\n",
              "      box-shadow: 0px 1px 3px 1px rgba(0, 0, 0, 0.15);\n",
              "      filter: drop-shadow(0px 1px 2px rgba(0, 0, 0, 0.3));\n",
              "      fill: #FFFFFF;\n",
              "    }\n",
              "  </style>\n",
              "\n",
              "      <script>\n",
              "        const buttonEl =\n",
              "          document.querySelector('#df-7097a5f1-ec94-4879-b8fa-dcdd892be1c9 button.colab-df-convert');\n",
              "        buttonEl.style.display =\n",
              "          google.colab.kernel.accessAllowed ? 'block' : 'none';\n",
              "\n",
              "        async function convertToInteractive(key) {\n",
              "          const element = document.querySelector('#df-7097a5f1-ec94-4879-b8fa-dcdd892be1c9');\n",
              "          const dataTable =\n",
              "            await google.colab.kernel.invokeFunction('convertToInteractive',\n",
              "                                                     [key], {});\n",
              "          if (!dataTable) return;\n",
              "\n",
              "          const docLinkHtml = 'Like what you see? Visit the ' +\n",
              "            '<a target=\"_blank\" href=https://colab.research.google.com/notebooks/data_table.ipynb>data table notebook</a>'\n",
              "            + ' to learn more about interactive tables.';\n",
              "          element.innerHTML = '';\n",
              "          dataTable['output_type'] = 'display_data';\n",
              "          await google.colab.output.renderOutput(dataTable, element);\n",
              "          const docLink = document.createElement('div');\n",
              "          docLink.innerHTML = docLinkHtml;\n",
              "          element.appendChild(docLink);\n",
              "        }\n",
              "      </script>\n",
              "    </div>\n",
              "  </div>\n",
              "  "
            ]
          },
          "metadata": {},
          "execution_count": 2861
        }
      ]
    },
    {
      "cell_type": "code",
      "source": [
        "print(wildfire2.shape)\n",
        "wildfire2.head(5)"
      ],
      "metadata": {
        "id": "yocbX79JmaJy",
        "outputId": "12937bdf-bc42-4a25-b8f9-6f46c272a0b3",
        "colab": {
          "base_uri": "https://localhost:8080/",
          "height": 223
        }
      },
      "execution_count": 2862,
      "outputs": [
        {
          "output_type": "stream",
          "name": "stdout",
          "text": [
            "(1045, 19)\n"
          ]
        },
        {
          "output_type": "execute_result",
          "data": {
            "text/plain": [
              "  Fire Size Rank Discovery Month  AWND   CLDD  DP10  DX90  PRCP  TAVG  TMAX  \\\n",
              "0          Large             Jul   6.5    0.0   0.0   0.0  0.00  58.8  65.2   \n",
              "1          Large             Jun   6.7  529.0   0.0  22.0  0.00  82.6  96.6   \n",
              "2          Large             Aug   6.9  237.0   0.0  23.0  0.00  72.6  92.6   \n",
              "3          Large             Aug   6.5  455.0   0.0  28.0  0.00  79.7  94.6   \n",
              "4          Large             Aug   4.5    0.0   0.0   0.0  0.02  56.4  62.9   \n",
              "\n",
              "   TMIN  PRCP_6M  PRCP_RS  DX90_2M  DP10_2M  Receives Snow  Mar_SP  Mar_WC  \\\n",
              "0  52.4    14.11    21.42      0.0      1.0              0     0.0     0.0   \n",
              "1  68.6     4.68     4.88     15.0      4.0              1    36.0    16.0   \n",
              "2  52.6     2.52     8.09     43.0      0.0              0     0.0     0.0   \n",
              "3  64.7     3.41     6.45     43.0      0.0              0     0.0     0.0   \n",
              "4  49.9    18.03    54.17      0.0      2.0              1    77.0    34.0   \n",
              "\n",
              "   Mar_Dens  Elevation  \n",
              "0      0.00   961.2744  \n",
              "1      0.44  3389.0664  \n",
              "2      0.00  1049.8560  \n",
              "3      0.00  4192.8624  \n",
              "4      0.44  3244.7112  "
            ],
            "text/html": [
              "\n",
              "  <div id=\"df-9b7315d6-1bd5-4ec4-9c3e-8b5d3dc3287c\">\n",
              "    <div class=\"colab-df-container\">\n",
              "      <div>\n",
              "<style scoped>\n",
              "    .dataframe tbody tr th:only-of-type {\n",
              "        vertical-align: middle;\n",
              "    }\n",
              "\n",
              "    .dataframe tbody tr th {\n",
              "        vertical-align: top;\n",
              "    }\n",
              "\n",
              "    .dataframe thead th {\n",
              "        text-align: right;\n",
              "    }\n",
              "</style>\n",
              "<table border=\"1\" class=\"dataframe\">\n",
              "  <thead>\n",
              "    <tr style=\"text-align: right;\">\n",
              "      <th></th>\n",
              "      <th>Fire Size Rank</th>\n",
              "      <th>Discovery Month</th>\n",
              "      <th>AWND</th>\n",
              "      <th>CLDD</th>\n",
              "      <th>DP10</th>\n",
              "      <th>DX90</th>\n",
              "      <th>PRCP</th>\n",
              "      <th>TAVG</th>\n",
              "      <th>TMAX</th>\n",
              "      <th>TMIN</th>\n",
              "      <th>PRCP_6M</th>\n",
              "      <th>PRCP_RS</th>\n",
              "      <th>DX90_2M</th>\n",
              "      <th>DP10_2M</th>\n",
              "      <th>Receives Snow</th>\n",
              "      <th>Mar_SP</th>\n",
              "      <th>Mar_WC</th>\n",
              "      <th>Mar_Dens</th>\n",
              "      <th>Elevation</th>\n",
              "    </tr>\n",
              "  </thead>\n",
              "  <tbody>\n",
              "    <tr>\n",
              "      <th>0</th>\n",
              "      <td>Large</td>\n",
              "      <td>Jul</td>\n",
              "      <td>6.5</td>\n",
              "      <td>0.0</td>\n",
              "      <td>0.0</td>\n",
              "      <td>0.0</td>\n",
              "      <td>0.00</td>\n",
              "      <td>58.8</td>\n",
              "      <td>65.2</td>\n",
              "      <td>52.4</td>\n",
              "      <td>14.11</td>\n",
              "      <td>21.42</td>\n",
              "      <td>0.0</td>\n",
              "      <td>1.0</td>\n",
              "      <td>0</td>\n",
              "      <td>0.0</td>\n",
              "      <td>0.0</td>\n",
              "      <td>0.00</td>\n",
              "      <td>961.2744</td>\n",
              "    </tr>\n",
              "    <tr>\n",
              "      <th>1</th>\n",
              "      <td>Large</td>\n",
              "      <td>Jun</td>\n",
              "      <td>6.7</td>\n",
              "      <td>529.0</td>\n",
              "      <td>0.0</td>\n",
              "      <td>22.0</td>\n",
              "      <td>0.00</td>\n",
              "      <td>82.6</td>\n",
              "      <td>96.6</td>\n",
              "      <td>68.6</td>\n",
              "      <td>4.68</td>\n",
              "      <td>4.88</td>\n",
              "      <td>15.0</td>\n",
              "      <td>4.0</td>\n",
              "      <td>1</td>\n",
              "      <td>36.0</td>\n",
              "      <td>16.0</td>\n",
              "      <td>0.44</td>\n",
              "      <td>3389.0664</td>\n",
              "    </tr>\n",
              "    <tr>\n",
              "      <th>2</th>\n",
              "      <td>Large</td>\n",
              "      <td>Aug</td>\n",
              "      <td>6.9</td>\n",
              "      <td>237.0</td>\n",
              "      <td>0.0</td>\n",
              "      <td>23.0</td>\n",
              "      <td>0.00</td>\n",
              "      <td>72.6</td>\n",
              "      <td>92.6</td>\n",
              "      <td>52.6</td>\n",
              "      <td>2.52</td>\n",
              "      <td>8.09</td>\n",
              "      <td>43.0</td>\n",
              "      <td>0.0</td>\n",
              "      <td>0</td>\n",
              "      <td>0.0</td>\n",
              "      <td>0.0</td>\n",
              "      <td>0.00</td>\n",
              "      <td>1049.8560</td>\n",
              "    </tr>\n",
              "    <tr>\n",
              "      <th>3</th>\n",
              "      <td>Large</td>\n",
              "      <td>Aug</td>\n",
              "      <td>6.5</td>\n",
              "      <td>455.0</td>\n",
              "      <td>0.0</td>\n",
              "      <td>28.0</td>\n",
              "      <td>0.00</td>\n",
              "      <td>79.7</td>\n",
              "      <td>94.6</td>\n",
              "      <td>64.7</td>\n",
              "      <td>3.41</td>\n",
              "      <td>6.45</td>\n",
              "      <td>43.0</td>\n",
              "      <td>0.0</td>\n",
              "      <td>0</td>\n",
              "      <td>0.0</td>\n",
              "      <td>0.0</td>\n",
              "      <td>0.00</td>\n",
              "      <td>4192.8624</td>\n",
              "    </tr>\n",
              "    <tr>\n",
              "      <th>4</th>\n",
              "      <td>Large</td>\n",
              "      <td>Aug</td>\n",
              "      <td>4.5</td>\n",
              "      <td>0.0</td>\n",
              "      <td>0.0</td>\n",
              "      <td>0.0</td>\n",
              "      <td>0.02</td>\n",
              "      <td>56.4</td>\n",
              "      <td>62.9</td>\n",
              "      <td>49.9</td>\n",
              "      <td>18.03</td>\n",
              "      <td>54.17</td>\n",
              "      <td>0.0</td>\n",
              "      <td>2.0</td>\n",
              "      <td>1</td>\n",
              "      <td>77.0</td>\n",
              "      <td>34.0</td>\n",
              "      <td>0.44</td>\n",
              "      <td>3244.7112</td>\n",
              "    </tr>\n",
              "  </tbody>\n",
              "</table>\n",
              "</div>\n",
              "      <button class=\"colab-df-convert\" onclick=\"convertToInteractive('df-9b7315d6-1bd5-4ec4-9c3e-8b5d3dc3287c')\"\n",
              "              title=\"Convert this dataframe to an interactive table.\"\n",
              "              style=\"display:none;\">\n",
              "        \n",
              "  <svg xmlns=\"http://www.w3.org/2000/svg\" height=\"24px\"viewBox=\"0 0 24 24\"\n",
              "       width=\"24px\">\n",
              "    <path d=\"M0 0h24v24H0V0z\" fill=\"none\"/>\n",
              "    <path d=\"M18.56 5.44l.94 2.06.94-2.06 2.06-.94-2.06-.94-.94-2.06-.94 2.06-2.06.94zm-11 1L8.5 8.5l.94-2.06 2.06-.94-2.06-.94L8.5 2.5l-.94 2.06-2.06.94zm10 10l.94 2.06.94-2.06 2.06-.94-2.06-.94-.94-2.06-.94 2.06-2.06.94z\"/><path d=\"M17.41 7.96l-1.37-1.37c-.4-.4-.92-.59-1.43-.59-.52 0-1.04.2-1.43.59L10.3 9.45l-7.72 7.72c-.78.78-.78 2.05 0 2.83L4 21.41c.39.39.9.59 1.41.59.51 0 1.02-.2 1.41-.59l7.78-7.78 2.81-2.81c.8-.78.8-2.07 0-2.86zM5.41 20L4 18.59l7.72-7.72 1.47 1.35L5.41 20z\"/>\n",
              "  </svg>\n",
              "      </button>\n",
              "      \n",
              "  <style>\n",
              "    .colab-df-container {\n",
              "      display:flex;\n",
              "      flex-wrap:wrap;\n",
              "      gap: 12px;\n",
              "    }\n",
              "\n",
              "    .colab-df-convert {\n",
              "      background-color: #E8F0FE;\n",
              "      border: none;\n",
              "      border-radius: 50%;\n",
              "      cursor: pointer;\n",
              "      display: none;\n",
              "      fill: #1967D2;\n",
              "      height: 32px;\n",
              "      padding: 0 0 0 0;\n",
              "      width: 32px;\n",
              "    }\n",
              "\n",
              "    .colab-df-convert:hover {\n",
              "      background-color: #E2EBFA;\n",
              "      box-shadow: 0px 1px 2px rgba(60, 64, 67, 0.3), 0px 1px 3px 1px rgba(60, 64, 67, 0.15);\n",
              "      fill: #174EA6;\n",
              "    }\n",
              "\n",
              "    [theme=dark] .colab-df-convert {\n",
              "      background-color: #3B4455;\n",
              "      fill: #D2E3FC;\n",
              "    }\n",
              "\n",
              "    [theme=dark] .colab-df-convert:hover {\n",
              "      background-color: #434B5C;\n",
              "      box-shadow: 0px 1px 3px 1px rgba(0, 0, 0, 0.15);\n",
              "      filter: drop-shadow(0px 1px 2px rgba(0, 0, 0, 0.3));\n",
              "      fill: #FFFFFF;\n",
              "    }\n",
              "  </style>\n",
              "\n",
              "      <script>\n",
              "        const buttonEl =\n",
              "          document.querySelector('#df-9b7315d6-1bd5-4ec4-9c3e-8b5d3dc3287c button.colab-df-convert');\n",
              "        buttonEl.style.display =\n",
              "          google.colab.kernel.accessAllowed ? 'block' : 'none';\n",
              "\n",
              "        async function convertToInteractive(key) {\n",
              "          const element = document.querySelector('#df-9b7315d6-1bd5-4ec4-9c3e-8b5d3dc3287c');\n",
              "          const dataTable =\n",
              "            await google.colab.kernel.invokeFunction('convertToInteractive',\n",
              "                                                     [key], {});\n",
              "          if (!dataTable) return;\n",
              "\n",
              "          const docLinkHtml = 'Like what you see? Visit the ' +\n",
              "            '<a target=\"_blank\" href=https://colab.research.google.com/notebooks/data_table.ipynb>data table notebook</a>'\n",
              "            + ' to learn more about interactive tables.';\n",
              "          element.innerHTML = '';\n",
              "          dataTable['output_type'] = 'display_data';\n",
              "          await google.colab.output.renderOutput(dataTable, element);\n",
              "          const docLink = document.createElement('div');\n",
              "          docLink.innerHTML = docLinkHtml;\n",
              "          element.appendChild(docLink);\n",
              "        }\n",
              "      </script>\n",
              "    </div>\n",
              "  </div>\n",
              "  "
            ]
          },
          "metadata": {},
          "execution_count": 2862
        }
      ]
    },
    {
      "cell_type": "markdown",
      "source": [
        "Double check our datatypes before we proceed with preprocessing and model building. As we can see, all features besides discovery and fire size rank are numerical (of type float) so all we have to do is one hot encode the discovery month of the fire."
      ],
      "metadata": {
        "id": "rUR65XIfD407"
      }
    },
    {
      "cell_type": "code",
      "source": [
        "wildfire1.info()"
      ],
      "metadata": {
        "id": "Bi_rLgPbDzAi",
        "colab": {
          "base_uri": "https://localhost:8080/"
        },
        "outputId": "0e948949-95ce-4064-9c9d-c1b76e373f94"
      },
      "execution_count": 2863,
      "outputs": [
        {
          "output_type": "stream",
          "name": "stdout",
          "text": [
            "<class 'pandas.core.frame.DataFrame'>\n",
            "Int64Index: 6729 entries, 16 to 114534\n",
            "Data columns (total 19 columns):\n",
            " #   Column           Non-Null Count  Dtype  \n",
            "---  ------           --------------  -----  \n",
            " 0   Fire Size Rank   6729 non-null   object \n",
            " 1   Discovery Month  6729 non-null   object \n",
            " 2   AWND             6729 non-null   float64\n",
            " 3   CLDD             6729 non-null   float64\n",
            " 4   DP10             6729 non-null   float64\n",
            " 5   DX90             6729 non-null   float64\n",
            " 6   PRCP             6729 non-null   float64\n",
            " 7   TAVG             6729 non-null   float64\n",
            " 8   TMAX             6729 non-null   float64\n",
            " 9   TMIN             6729 non-null   float64\n",
            " 10  PRCP_6M          6729 non-null   float64\n",
            " 11  PRCP_RS          6729 non-null   float64\n",
            " 12  DX90_2M          6729 non-null   float64\n",
            " 13  DP10_2M          6729 non-null   float64\n",
            " 14  Receives Snow    6729 non-null   float64\n",
            " 15  Mar_SP           6729 non-null   float64\n",
            " 16  Mar_WC           6729 non-null   float64\n",
            " 17  Mar_Dens         6729 non-null   float64\n",
            " 18  Elevation        6729 non-null   float64\n",
            "dtypes: float64(17), object(2)\n",
            "memory usage: 1.3+ MB\n"
          ]
        }
      ]
    },
    {
      "cell_type": "code",
      "source": [
        "wildfire2.info()"
      ],
      "metadata": {
        "id": "Ci06aOQzA-jH",
        "colab": {
          "base_uri": "https://localhost:8080/"
        },
        "outputId": "feeefaf4-f173-46b2-f5a5-545b85cac11f"
      },
      "execution_count": 2864,
      "outputs": [
        {
          "output_type": "stream",
          "name": "stdout",
          "text": [
            "<class 'pandas.core.frame.DataFrame'>\n",
            "Int64Index: 1045 entries, 0 to 1143\n",
            "Data columns (total 19 columns):\n",
            " #   Column           Non-Null Count  Dtype  \n",
            "---  ------           --------------  -----  \n",
            " 0   Fire Size Rank   1045 non-null   object \n",
            " 1   Discovery Month  1045 non-null   object \n",
            " 2   AWND             1045 non-null   float64\n",
            " 3   CLDD             1045 non-null   float64\n",
            " 4   DP10             1045 non-null   float64\n",
            " 5   DX90             1045 non-null   float64\n",
            " 6   PRCP             1045 non-null   float64\n",
            " 7   TAVG             1045 non-null   float64\n",
            " 8   TMAX             1045 non-null   float64\n",
            " 9   TMIN             1045 non-null   float64\n",
            " 10  PRCP_6M          1045 non-null   float64\n",
            " 11  PRCP_RS          1045 non-null   float64\n",
            " 12  DX90_2M          1045 non-null   float64\n",
            " 13  DP10_2M          1045 non-null   float64\n",
            " 14  Receives Snow    1045 non-null   int64  \n",
            " 15  Mar_SP           1045 non-null   float64\n",
            " 16  Mar_WC           1045 non-null   float64\n",
            " 17  Mar_Dens         1045 non-null   float64\n",
            " 18  Elevation        1045 non-null   float64\n",
            "dtypes: float64(16), int64(1), object(2)\n",
            "memory usage: 195.6+ KB\n"
          ]
        }
      ]
    },
    {
      "cell_type": "markdown",
      "source": [
        "# Below we use the describe function to get a general outlook on mean, max, min, and percentiles for each of the numerical features"
      ],
      "metadata": {
        "id": "2rZh5C6Vna38"
      }
    },
    {
      "cell_type": "code",
      "source": [
        "wildfire1.describe()"
      ],
      "metadata": {
        "id": "v4ei0qVc_rdD",
        "colab": {
          "base_uri": "https://localhost:8080/",
          "height": 382
        },
        "outputId": "585df91d-8163-406d-d575-2716a18184ab"
      },
      "execution_count": 2865,
      "outputs": [
        {
          "output_type": "execute_result",
          "data": {
            "text/plain": [
              "              AWND         CLDD         DP10         DX90         PRCP  \\\n",
              "count  6729.000000  6729.000000  6729.000000  6729.000000  6729.000000   \n",
              "mean      6.702541   271.020211     0.523555    15.031654     0.239535   \n",
              "std       1.970851   211.760379     1.206312    11.110703     0.693004   \n",
              "min       1.100000     0.000000     0.000000     0.000000     0.000000   \n",
              "25%       5.100000    77.000000     0.000000     3.000000     0.000000   \n",
              "50%       6.700000   261.000000     0.000000    17.000000     0.000000   \n",
              "75%       7.800000   418.000000     1.000000    25.000000     0.150000   \n",
              "max      16.800000  1113.000000    16.000000    31.000000    18.140000   \n",
              "\n",
              "              TAVG         TMAX         TMIN      PRCP_6M      PRCP_RS  \\\n",
              "count  6729.000000  6729.000000  6729.000000  6729.000000  6729.000000   \n",
              "mean     71.990088    86.781557    57.198172     8.569530    15.063047   \n",
              "std       9.734844    11.500374     8.965508     7.778671    11.702677   \n",
              "min      31.200000    43.400000    16.800000     0.000000     0.140000   \n",
              "25%      65.900000    79.400000    52.500000     3.080000     7.040000   \n",
              "50%      73.500000    89.700000    57.600000     6.600000    11.850000   \n",
              "75%      78.500000    94.900000    62.800000    11.990000    19.820000   \n",
              "max     100.900000   114.300000    89.000000    81.180000    88.290000   \n",
              "\n",
              "           DX90_2M      DP10_2M  Receives Snow       Mar_SP       Mar_WC  \\\n",
              "count  6729.000000  6729.000000    6729.000000  6729.000000  6729.000000   \n",
              "mean     20.626096     2.281914       0.503790    29.737673    12.420672   \n",
              "std      19.374590     3.370507       0.500023    41.377851    18.004252   \n",
              "min       0.000000     0.000000       0.000000     0.000000     0.000000   \n",
              "25%       2.000000     0.000000       0.000000     0.000000     0.000000   \n",
              "50%      15.000000     1.000000       1.000000     0.000000     0.000000   \n",
              "75%      36.000000     3.000000       1.000000    59.600000    23.400000   \n",
              "max      62.000000    28.000000       1.000000   215.000000   113.000000   \n",
              "\n",
              "          Mar_Dens     Elevation  \n",
              "count  6729.000000   6729.000000  \n",
              "mean      0.198037   1999.682461  \n",
              "std       0.228038   1962.810177  \n",
              "min       0.000000   -229.656000  \n",
              "25%       0.000000    439.627200  \n",
              "50%       0.000000   1312.320000  \n",
              "75%       0.400000   3047.863200  \n",
              "max       1.560000  10764.304800  "
            ],
            "text/html": [
              "\n",
              "  <div id=\"df-d02d2fa8-3717-4fc8-96f7-ec22f23d0433\">\n",
              "    <div class=\"colab-df-container\">\n",
              "      <div>\n",
              "<style scoped>\n",
              "    .dataframe tbody tr th:only-of-type {\n",
              "        vertical-align: middle;\n",
              "    }\n",
              "\n",
              "    .dataframe tbody tr th {\n",
              "        vertical-align: top;\n",
              "    }\n",
              "\n",
              "    .dataframe thead th {\n",
              "        text-align: right;\n",
              "    }\n",
              "</style>\n",
              "<table border=\"1\" class=\"dataframe\">\n",
              "  <thead>\n",
              "    <tr style=\"text-align: right;\">\n",
              "      <th></th>\n",
              "      <th>AWND</th>\n",
              "      <th>CLDD</th>\n",
              "      <th>DP10</th>\n",
              "      <th>DX90</th>\n",
              "      <th>PRCP</th>\n",
              "      <th>TAVG</th>\n",
              "      <th>TMAX</th>\n",
              "      <th>TMIN</th>\n",
              "      <th>PRCP_6M</th>\n",
              "      <th>PRCP_RS</th>\n",
              "      <th>DX90_2M</th>\n",
              "      <th>DP10_2M</th>\n",
              "      <th>Receives Snow</th>\n",
              "      <th>Mar_SP</th>\n",
              "      <th>Mar_WC</th>\n",
              "      <th>Mar_Dens</th>\n",
              "      <th>Elevation</th>\n",
              "    </tr>\n",
              "  </thead>\n",
              "  <tbody>\n",
              "    <tr>\n",
              "      <th>count</th>\n",
              "      <td>6729.000000</td>\n",
              "      <td>6729.000000</td>\n",
              "      <td>6729.000000</td>\n",
              "      <td>6729.000000</td>\n",
              "      <td>6729.000000</td>\n",
              "      <td>6729.000000</td>\n",
              "      <td>6729.000000</td>\n",
              "      <td>6729.000000</td>\n",
              "      <td>6729.000000</td>\n",
              "      <td>6729.000000</td>\n",
              "      <td>6729.000000</td>\n",
              "      <td>6729.000000</td>\n",
              "      <td>6729.000000</td>\n",
              "      <td>6729.000000</td>\n",
              "      <td>6729.000000</td>\n",
              "      <td>6729.000000</td>\n",
              "      <td>6729.000000</td>\n",
              "    </tr>\n",
              "    <tr>\n",
              "      <th>mean</th>\n",
              "      <td>6.702541</td>\n",
              "      <td>271.020211</td>\n",
              "      <td>0.523555</td>\n",
              "      <td>15.031654</td>\n",
              "      <td>0.239535</td>\n",
              "      <td>71.990088</td>\n",
              "      <td>86.781557</td>\n",
              "      <td>57.198172</td>\n",
              "      <td>8.569530</td>\n",
              "      <td>15.063047</td>\n",
              "      <td>20.626096</td>\n",
              "      <td>2.281914</td>\n",
              "      <td>0.503790</td>\n",
              "      <td>29.737673</td>\n",
              "      <td>12.420672</td>\n",
              "      <td>0.198037</td>\n",
              "      <td>1999.682461</td>\n",
              "    </tr>\n",
              "    <tr>\n",
              "      <th>std</th>\n",
              "      <td>1.970851</td>\n",
              "      <td>211.760379</td>\n",
              "      <td>1.206312</td>\n",
              "      <td>11.110703</td>\n",
              "      <td>0.693004</td>\n",
              "      <td>9.734844</td>\n",
              "      <td>11.500374</td>\n",
              "      <td>8.965508</td>\n",
              "      <td>7.778671</td>\n",
              "      <td>11.702677</td>\n",
              "      <td>19.374590</td>\n",
              "      <td>3.370507</td>\n",
              "      <td>0.500023</td>\n",
              "      <td>41.377851</td>\n",
              "      <td>18.004252</td>\n",
              "      <td>0.228038</td>\n",
              "      <td>1962.810177</td>\n",
              "    </tr>\n",
              "    <tr>\n",
              "      <th>min</th>\n",
              "      <td>1.100000</td>\n",
              "      <td>0.000000</td>\n",
              "      <td>0.000000</td>\n",
              "      <td>0.000000</td>\n",
              "      <td>0.000000</td>\n",
              "      <td>31.200000</td>\n",
              "      <td>43.400000</td>\n",
              "      <td>16.800000</td>\n",
              "      <td>0.000000</td>\n",
              "      <td>0.140000</td>\n",
              "      <td>0.000000</td>\n",
              "      <td>0.000000</td>\n",
              "      <td>0.000000</td>\n",
              "      <td>0.000000</td>\n",
              "      <td>0.000000</td>\n",
              "      <td>0.000000</td>\n",
              "      <td>-229.656000</td>\n",
              "    </tr>\n",
              "    <tr>\n",
              "      <th>25%</th>\n",
              "      <td>5.100000</td>\n",
              "      <td>77.000000</td>\n",
              "      <td>0.000000</td>\n",
              "      <td>3.000000</td>\n",
              "      <td>0.000000</td>\n",
              "      <td>65.900000</td>\n",
              "      <td>79.400000</td>\n",
              "      <td>52.500000</td>\n",
              "      <td>3.080000</td>\n",
              "      <td>7.040000</td>\n",
              "      <td>2.000000</td>\n",
              "      <td>0.000000</td>\n",
              "      <td>0.000000</td>\n",
              "      <td>0.000000</td>\n",
              "      <td>0.000000</td>\n",
              "      <td>0.000000</td>\n",
              "      <td>439.627200</td>\n",
              "    </tr>\n",
              "    <tr>\n",
              "      <th>50%</th>\n",
              "      <td>6.700000</td>\n",
              "      <td>261.000000</td>\n",
              "      <td>0.000000</td>\n",
              "      <td>17.000000</td>\n",
              "      <td>0.000000</td>\n",
              "      <td>73.500000</td>\n",
              "      <td>89.700000</td>\n",
              "      <td>57.600000</td>\n",
              "      <td>6.600000</td>\n",
              "      <td>11.850000</td>\n",
              "      <td>15.000000</td>\n",
              "      <td>1.000000</td>\n",
              "      <td>1.000000</td>\n",
              "      <td>0.000000</td>\n",
              "      <td>0.000000</td>\n",
              "      <td>0.000000</td>\n",
              "      <td>1312.320000</td>\n",
              "    </tr>\n",
              "    <tr>\n",
              "      <th>75%</th>\n",
              "      <td>7.800000</td>\n",
              "      <td>418.000000</td>\n",
              "      <td>1.000000</td>\n",
              "      <td>25.000000</td>\n",
              "      <td>0.150000</td>\n",
              "      <td>78.500000</td>\n",
              "      <td>94.900000</td>\n",
              "      <td>62.800000</td>\n",
              "      <td>11.990000</td>\n",
              "      <td>19.820000</td>\n",
              "      <td>36.000000</td>\n",
              "      <td>3.000000</td>\n",
              "      <td>1.000000</td>\n",
              "      <td>59.600000</td>\n",
              "      <td>23.400000</td>\n",
              "      <td>0.400000</td>\n",
              "      <td>3047.863200</td>\n",
              "    </tr>\n",
              "    <tr>\n",
              "      <th>max</th>\n",
              "      <td>16.800000</td>\n",
              "      <td>1113.000000</td>\n",
              "      <td>16.000000</td>\n",
              "      <td>31.000000</td>\n",
              "      <td>18.140000</td>\n",
              "      <td>100.900000</td>\n",
              "      <td>114.300000</td>\n",
              "      <td>89.000000</td>\n",
              "      <td>81.180000</td>\n",
              "      <td>88.290000</td>\n",
              "      <td>62.000000</td>\n",
              "      <td>28.000000</td>\n",
              "      <td>1.000000</td>\n",
              "      <td>215.000000</td>\n",
              "      <td>113.000000</td>\n",
              "      <td>1.560000</td>\n",
              "      <td>10764.304800</td>\n",
              "    </tr>\n",
              "  </tbody>\n",
              "</table>\n",
              "</div>\n",
              "      <button class=\"colab-df-convert\" onclick=\"convertToInteractive('df-d02d2fa8-3717-4fc8-96f7-ec22f23d0433')\"\n",
              "              title=\"Convert this dataframe to an interactive table.\"\n",
              "              style=\"display:none;\">\n",
              "        \n",
              "  <svg xmlns=\"http://www.w3.org/2000/svg\" height=\"24px\"viewBox=\"0 0 24 24\"\n",
              "       width=\"24px\">\n",
              "    <path d=\"M0 0h24v24H0V0z\" fill=\"none\"/>\n",
              "    <path d=\"M18.56 5.44l.94 2.06.94-2.06 2.06-.94-2.06-.94-.94-2.06-.94 2.06-2.06.94zm-11 1L8.5 8.5l.94-2.06 2.06-.94-2.06-.94L8.5 2.5l-.94 2.06-2.06.94zm10 10l.94 2.06.94-2.06 2.06-.94-2.06-.94-.94-2.06-.94 2.06-2.06.94z\"/><path d=\"M17.41 7.96l-1.37-1.37c-.4-.4-.92-.59-1.43-.59-.52 0-1.04.2-1.43.59L10.3 9.45l-7.72 7.72c-.78.78-.78 2.05 0 2.83L4 21.41c.39.39.9.59 1.41.59.51 0 1.02-.2 1.41-.59l7.78-7.78 2.81-2.81c.8-.78.8-2.07 0-2.86zM5.41 20L4 18.59l7.72-7.72 1.47 1.35L5.41 20z\"/>\n",
              "  </svg>\n",
              "      </button>\n",
              "      \n",
              "  <style>\n",
              "    .colab-df-container {\n",
              "      display:flex;\n",
              "      flex-wrap:wrap;\n",
              "      gap: 12px;\n",
              "    }\n",
              "\n",
              "    .colab-df-convert {\n",
              "      background-color: #E8F0FE;\n",
              "      border: none;\n",
              "      border-radius: 50%;\n",
              "      cursor: pointer;\n",
              "      display: none;\n",
              "      fill: #1967D2;\n",
              "      height: 32px;\n",
              "      padding: 0 0 0 0;\n",
              "      width: 32px;\n",
              "    }\n",
              "\n",
              "    .colab-df-convert:hover {\n",
              "      background-color: #E2EBFA;\n",
              "      box-shadow: 0px 1px 2px rgba(60, 64, 67, 0.3), 0px 1px 3px 1px rgba(60, 64, 67, 0.15);\n",
              "      fill: #174EA6;\n",
              "    }\n",
              "\n",
              "    [theme=dark] .colab-df-convert {\n",
              "      background-color: #3B4455;\n",
              "      fill: #D2E3FC;\n",
              "    }\n",
              "\n",
              "    [theme=dark] .colab-df-convert:hover {\n",
              "      background-color: #434B5C;\n",
              "      box-shadow: 0px 1px 3px 1px rgba(0, 0, 0, 0.15);\n",
              "      filter: drop-shadow(0px 1px 2px rgba(0, 0, 0, 0.3));\n",
              "      fill: #FFFFFF;\n",
              "    }\n",
              "  </style>\n",
              "\n",
              "      <script>\n",
              "        const buttonEl =\n",
              "          document.querySelector('#df-d02d2fa8-3717-4fc8-96f7-ec22f23d0433 button.colab-df-convert');\n",
              "        buttonEl.style.display =\n",
              "          google.colab.kernel.accessAllowed ? 'block' : 'none';\n",
              "\n",
              "        async function convertToInteractive(key) {\n",
              "          const element = document.querySelector('#df-d02d2fa8-3717-4fc8-96f7-ec22f23d0433');\n",
              "          const dataTable =\n",
              "            await google.colab.kernel.invokeFunction('convertToInteractive',\n",
              "                                                     [key], {});\n",
              "          if (!dataTable) return;\n",
              "\n",
              "          const docLinkHtml = 'Like what you see? Visit the ' +\n",
              "            '<a target=\"_blank\" href=https://colab.research.google.com/notebooks/data_table.ipynb>data table notebook</a>'\n",
              "            + ' to learn more about interactive tables.';\n",
              "          element.innerHTML = '';\n",
              "          dataTable['output_type'] = 'display_data';\n",
              "          await google.colab.output.renderOutput(dataTable, element);\n",
              "          const docLink = document.createElement('div');\n",
              "          docLink.innerHTML = docLinkHtml;\n",
              "          element.appendChild(docLink);\n",
              "        }\n",
              "      </script>\n",
              "    </div>\n",
              "  </div>\n",
              "  "
            ]
          },
          "metadata": {},
          "execution_count": 2865
        }
      ]
    },
    {
      "cell_type": "code",
      "source": [
        "wildfire2.describe()"
      ],
      "metadata": {
        "id": "gB0j5eBj_v4_",
        "colab": {
          "base_uri": "https://localhost:8080/",
          "height": 382
        },
        "outputId": "207fc354-c692-4fae-fc83-d750cc28835d"
      },
      "execution_count": 2866,
      "outputs": [
        {
          "output_type": "execute_result",
          "data": {
            "text/plain": [
              "              AWND         CLDD         DP10         DX90         PRCP  \\\n",
              "count  1045.000000  1045.000000  1045.000000  1045.000000  1045.000000   \n",
              "mean      6.525742   280.460287     0.477512    15.095694     0.214000   \n",
              "std       1.709131   214.381034     1.207703    11.325404     0.747745   \n",
              "min       1.300000     0.000000     0.000000     0.000000     0.000000   \n",
              "25%       5.400000    79.000000     0.000000     3.000000     0.000000   \n",
              "50%       6.500000   274.000000     0.000000    16.000000     0.000000   \n",
              "75%       7.600000   432.000000     0.000000    26.000000     0.100000   \n",
              "max      15.000000  1005.000000    11.000000    31.000000    10.460000   \n",
              "\n",
              "              TAVG         TMAX         TMIN      PRCP_6M      PRCP_RS  \\\n",
              "count  1045.000000  1045.000000  1045.000000  1045.000000  1045.000000   \n",
              "mean     72.681340    87.577225    57.786316    11.086775    20.378737   \n",
              "std       9.078201    10.850520     8.447699     9.622936    15.695159   \n",
              "min      34.000000    49.300000    18.700000     0.000000     0.000000   \n",
              "25%      66.300000    80.300000    52.900000     4.200000    10.180000   \n",
              "50%      73.900000    89.600000    57.900000     8.840000    15.690000   \n",
              "75%      79.200000    95.700000    62.900000    14.510000    25.280000   \n",
              "max      97.400000   111.600000    85.000000    67.960000    87.180000   \n",
              "\n",
              "           DX90_2M      DP10_2M  Receives Snow       Mar_SP       Mar_WC  \\\n",
              "count  1045.000000  1045.000000    1045.000000  1045.000000  1045.000000   \n",
              "mean     22.084211     2.185646       0.428708    29.837608    13.222010   \n",
              "std      20.203481     3.292274       0.495128    46.657148    21.222762   \n",
              "min       0.000000     0.000000       0.000000     0.000000     0.000000   \n",
              "25%       2.000000     0.000000       0.000000     0.000000     0.000000   \n",
              "50%      17.000000     1.000000       0.000000     0.000000     0.000000   \n",
              "75%      40.000000     3.000000       1.000000    51.500000    23.000000   \n",
              "max      62.000000    22.000000       1.000000   178.500000    85.000000   \n",
              "\n",
              "          Mar_Dens    Elevation  \n",
              "count  1045.000000  1045.000000  \n",
              "mean      0.173847  1746.584897  \n",
              "std       0.218215  1585.636503  \n",
              "min       0.000000  -193.567200  \n",
              "25%       0.000000   587.263200  \n",
              "50%       0.000000  1286.073600  \n",
              "75%       0.410000  2345.772000  \n",
              "max       0.580000  8743.332000  "
            ],
            "text/html": [
              "\n",
              "  <div id=\"df-c510a045-b579-44a7-b3be-346771ff18b2\">\n",
              "    <div class=\"colab-df-container\">\n",
              "      <div>\n",
              "<style scoped>\n",
              "    .dataframe tbody tr th:only-of-type {\n",
              "        vertical-align: middle;\n",
              "    }\n",
              "\n",
              "    .dataframe tbody tr th {\n",
              "        vertical-align: top;\n",
              "    }\n",
              "\n",
              "    .dataframe thead th {\n",
              "        text-align: right;\n",
              "    }\n",
              "</style>\n",
              "<table border=\"1\" class=\"dataframe\">\n",
              "  <thead>\n",
              "    <tr style=\"text-align: right;\">\n",
              "      <th></th>\n",
              "      <th>AWND</th>\n",
              "      <th>CLDD</th>\n",
              "      <th>DP10</th>\n",
              "      <th>DX90</th>\n",
              "      <th>PRCP</th>\n",
              "      <th>TAVG</th>\n",
              "      <th>TMAX</th>\n",
              "      <th>TMIN</th>\n",
              "      <th>PRCP_6M</th>\n",
              "      <th>PRCP_RS</th>\n",
              "      <th>DX90_2M</th>\n",
              "      <th>DP10_2M</th>\n",
              "      <th>Receives Snow</th>\n",
              "      <th>Mar_SP</th>\n",
              "      <th>Mar_WC</th>\n",
              "      <th>Mar_Dens</th>\n",
              "      <th>Elevation</th>\n",
              "    </tr>\n",
              "  </thead>\n",
              "  <tbody>\n",
              "    <tr>\n",
              "      <th>count</th>\n",
              "      <td>1045.000000</td>\n",
              "      <td>1045.000000</td>\n",
              "      <td>1045.000000</td>\n",
              "      <td>1045.000000</td>\n",
              "      <td>1045.000000</td>\n",
              "      <td>1045.000000</td>\n",
              "      <td>1045.000000</td>\n",
              "      <td>1045.000000</td>\n",
              "      <td>1045.000000</td>\n",
              "      <td>1045.000000</td>\n",
              "      <td>1045.000000</td>\n",
              "      <td>1045.000000</td>\n",
              "      <td>1045.000000</td>\n",
              "      <td>1045.000000</td>\n",
              "      <td>1045.000000</td>\n",
              "      <td>1045.000000</td>\n",
              "      <td>1045.000000</td>\n",
              "    </tr>\n",
              "    <tr>\n",
              "      <th>mean</th>\n",
              "      <td>6.525742</td>\n",
              "      <td>280.460287</td>\n",
              "      <td>0.477512</td>\n",
              "      <td>15.095694</td>\n",
              "      <td>0.214000</td>\n",
              "      <td>72.681340</td>\n",
              "      <td>87.577225</td>\n",
              "      <td>57.786316</td>\n",
              "      <td>11.086775</td>\n",
              "      <td>20.378737</td>\n",
              "      <td>22.084211</td>\n",
              "      <td>2.185646</td>\n",
              "      <td>0.428708</td>\n",
              "      <td>29.837608</td>\n",
              "      <td>13.222010</td>\n",
              "      <td>0.173847</td>\n",
              "      <td>1746.584897</td>\n",
              "    </tr>\n",
              "    <tr>\n",
              "      <th>std</th>\n",
              "      <td>1.709131</td>\n",
              "      <td>214.381034</td>\n",
              "      <td>1.207703</td>\n",
              "      <td>11.325404</td>\n",
              "      <td>0.747745</td>\n",
              "      <td>9.078201</td>\n",
              "      <td>10.850520</td>\n",
              "      <td>8.447699</td>\n",
              "      <td>9.622936</td>\n",
              "      <td>15.695159</td>\n",
              "      <td>20.203481</td>\n",
              "      <td>3.292274</td>\n",
              "      <td>0.495128</td>\n",
              "      <td>46.657148</td>\n",
              "      <td>21.222762</td>\n",
              "      <td>0.218215</td>\n",
              "      <td>1585.636503</td>\n",
              "    </tr>\n",
              "    <tr>\n",
              "      <th>min</th>\n",
              "      <td>1.300000</td>\n",
              "      <td>0.000000</td>\n",
              "      <td>0.000000</td>\n",
              "      <td>0.000000</td>\n",
              "      <td>0.000000</td>\n",
              "      <td>34.000000</td>\n",
              "      <td>49.300000</td>\n",
              "      <td>18.700000</td>\n",
              "      <td>0.000000</td>\n",
              "      <td>0.000000</td>\n",
              "      <td>0.000000</td>\n",
              "      <td>0.000000</td>\n",
              "      <td>0.000000</td>\n",
              "      <td>0.000000</td>\n",
              "      <td>0.000000</td>\n",
              "      <td>0.000000</td>\n",
              "      <td>-193.567200</td>\n",
              "    </tr>\n",
              "    <tr>\n",
              "      <th>25%</th>\n",
              "      <td>5.400000</td>\n",
              "      <td>79.000000</td>\n",
              "      <td>0.000000</td>\n",
              "      <td>3.000000</td>\n",
              "      <td>0.000000</td>\n",
              "      <td>66.300000</td>\n",
              "      <td>80.300000</td>\n",
              "      <td>52.900000</td>\n",
              "      <td>4.200000</td>\n",
              "      <td>10.180000</td>\n",
              "      <td>2.000000</td>\n",
              "      <td>0.000000</td>\n",
              "      <td>0.000000</td>\n",
              "      <td>0.000000</td>\n",
              "      <td>0.000000</td>\n",
              "      <td>0.000000</td>\n",
              "      <td>587.263200</td>\n",
              "    </tr>\n",
              "    <tr>\n",
              "      <th>50%</th>\n",
              "      <td>6.500000</td>\n",
              "      <td>274.000000</td>\n",
              "      <td>0.000000</td>\n",
              "      <td>16.000000</td>\n",
              "      <td>0.000000</td>\n",
              "      <td>73.900000</td>\n",
              "      <td>89.600000</td>\n",
              "      <td>57.900000</td>\n",
              "      <td>8.840000</td>\n",
              "      <td>15.690000</td>\n",
              "      <td>17.000000</td>\n",
              "      <td>1.000000</td>\n",
              "      <td>0.000000</td>\n",
              "      <td>0.000000</td>\n",
              "      <td>0.000000</td>\n",
              "      <td>0.000000</td>\n",
              "      <td>1286.073600</td>\n",
              "    </tr>\n",
              "    <tr>\n",
              "      <th>75%</th>\n",
              "      <td>7.600000</td>\n",
              "      <td>432.000000</td>\n",
              "      <td>0.000000</td>\n",
              "      <td>26.000000</td>\n",
              "      <td>0.100000</td>\n",
              "      <td>79.200000</td>\n",
              "      <td>95.700000</td>\n",
              "      <td>62.900000</td>\n",
              "      <td>14.510000</td>\n",
              "      <td>25.280000</td>\n",
              "      <td>40.000000</td>\n",
              "      <td>3.000000</td>\n",
              "      <td>1.000000</td>\n",
              "      <td>51.500000</td>\n",
              "      <td>23.000000</td>\n",
              "      <td>0.410000</td>\n",
              "      <td>2345.772000</td>\n",
              "    </tr>\n",
              "    <tr>\n",
              "      <th>max</th>\n",
              "      <td>15.000000</td>\n",
              "      <td>1005.000000</td>\n",
              "      <td>11.000000</td>\n",
              "      <td>31.000000</td>\n",
              "      <td>10.460000</td>\n",
              "      <td>97.400000</td>\n",
              "      <td>111.600000</td>\n",
              "      <td>85.000000</td>\n",
              "      <td>67.960000</td>\n",
              "      <td>87.180000</td>\n",
              "      <td>62.000000</td>\n",
              "      <td>22.000000</td>\n",
              "      <td>1.000000</td>\n",
              "      <td>178.500000</td>\n",
              "      <td>85.000000</td>\n",
              "      <td>0.580000</td>\n",
              "      <td>8743.332000</td>\n",
              "    </tr>\n",
              "  </tbody>\n",
              "</table>\n",
              "</div>\n",
              "      <button class=\"colab-df-convert\" onclick=\"convertToInteractive('df-c510a045-b579-44a7-b3be-346771ff18b2')\"\n",
              "              title=\"Convert this dataframe to an interactive table.\"\n",
              "              style=\"display:none;\">\n",
              "        \n",
              "  <svg xmlns=\"http://www.w3.org/2000/svg\" height=\"24px\"viewBox=\"0 0 24 24\"\n",
              "       width=\"24px\">\n",
              "    <path d=\"M0 0h24v24H0V0z\" fill=\"none\"/>\n",
              "    <path d=\"M18.56 5.44l.94 2.06.94-2.06 2.06-.94-2.06-.94-.94-2.06-.94 2.06-2.06.94zm-11 1L8.5 8.5l.94-2.06 2.06-.94-2.06-.94L8.5 2.5l-.94 2.06-2.06.94zm10 10l.94 2.06.94-2.06 2.06-.94-2.06-.94-.94-2.06-.94 2.06-2.06.94z\"/><path d=\"M17.41 7.96l-1.37-1.37c-.4-.4-.92-.59-1.43-.59-.52 0-1.04.2-1.43.59L10.3 9.45l-7.72 7.72c-.78.78-.78 2.05 0 2.83L4 21.41c.39.39.9.59 1.41.59.51 0 1.02-.2 1.41-.59l7.78-7.78 2.81-2.81c.8-.78.8-2.07 0-2.86zM5.41 20L4 18.59l7.72-7.72 1.47 1.35L5.41 20z\"/>\n",
              "  </svg>\n",
              "      </button>\n",
              "      \n",
              "  <style>\n",
              "    .colab-df-container {\n",
              "      display:flex;\n",
              "      flex-wrap:wrap;\n",
              "      gap: 12px;\n",
              "    }\n",
              "\n",
              "    .colab-df-convert {\n",
              "      background-color: #E8F0FE;\n",
              "      border: none;\n",
              "      border-radius: 50%;\n",
              "      cursor: pointer;\n",
              "      display: none;\n",
              "      fill: #1967D2;\n",
              "      height: 32px;\n",
              "      padding: 0 0 0 0;\n",
              "      width: 32px;\n",
              "    }\n",
              "\n",
              "    .colab-df-convert:hover {\n",
              "      background-color: #E2EBFA;\n",
              "      box-shadow: 0px 1px 2px rgba(60, 64, 67, 0.3), 0px 1px 3px 1px rgba(60, 64, 67, 0.15);\n",
              "      fill: #174EA6;\n",
              "    }\n",
              "\n",
              "    [theme=dark] .colab-df-convert {\n",
              "      background-color: #3B4455;\n",
              "      fill: #D2E3FC;\n",
              "    }\n",
              "\n",
              "    [theme=dark] .colab-df-convert:hover {\n",
              "      background-color: #434B5C;\n",
              "      box-shadow: 0px 1px 3px 1px rgba(0, 0, 0, 0.15);\n",
              "      filter: drop-shadow(0px 1px 2px rgba(0, 0, 0, 0.3));\n",
              "      fill: #FFFFFF;\n",
              "    }\n",
              "  </style>\n",
              "\n",
              "      <script>\n",
              "        const buttonEl =\n",
              "          document.querySelector('#df-c510a045-b579-44a7-b3be-346771ff18b2 button.colab-df-convert');\n",
              "        buttonEl.style.display =\n",
              "          google.colab.kernel.accessAllowed ? 'block' : 'none';\n",
              "\n",
              "        async function convertToInteractive(key) {\n",
              "          const element = document.querySelector('#df-c510a045-b579-44a7-b3be-346771ff18b2');\n",
              "          const dataTable =\n",
              "            await google.colab.kernel.invokeFunction('convertToInteractive',\n",
              "                                                     [key], {});\n",
              "          if (!dataTable) return;\n",
              "\n",
              "          const docLinkHtml = 'Like what you see? Visit the ' +\n",
              "            '<a target=\"_blank\" href=https://colab.research.google.com/notebooks/data_table.ipynb>data table notebook</a>'\n",
              "            + ' to learn more about interactive tables.';\n",
              "          element.innerHTML = '';\n",
              "          dataTable['output_type'] = 'display_data';\n",
              "          await google.colab.output.renderOutput(dataTable, element);\n",
              "          const docLink = document.createElement('div');\n",
              "          docLink.innerHTML = docLinkHtml;\n",
              "          element.appendChild(docLink);\n",
              "        }\n",
              "      </script>\n",
              "    </div>\n",
              "  </div>\n",
              "  "
            ]
          },
          "metadata": {},
          "execution_count": 2866
        }
      ]
    },
    {
      "cell_type": "markdown",
      "source": [
        "# One-Hot Encoding Categorical Variables\n",
        "\n",
        "\n",
        "*   Encode the discovery month (the only categorical variable) in both datasets\n",
        "\n"
      ],
      "metadata": {
        "id": "3waScPx3njr9"
      }
    },
    {
      "cell_type": "code",
      "source": [
        "#Add the dummy columns to the first dataset\n",
        "dummy_month = pd.get_dummies(wildfire1['Discovery Month'])\n",
        "wildfire1 = pd.merge(left = wildfire1, right = dummy_month, left_index = True, right_index = True)\n",
        "wildfire1 = wildfire1.drop(columns = ['Discovery Month'])\n",
        "wildfire1.head(10)"
      ],
      "metadata": {
        "id": "C4NMBTL2nrno",
        "outputId": "bd6492cc-ebc0-4a88-8517-70c986265d4f",
        "colab": {
          "base_uri": "https://localhost:8080/",
          "height": 392
        }
      },
      "execution_count": 2867,
      "outputs": [
        {
          "output_type": "execute_result",
          "data": {
            "text/plain": [
              "    Fire Size Rank  AWND   CLDD  DP10  DX90  PRCP  TAVG   TMAX  TMIN  PRCP_6M  \\\n",
              "16           Large   5.4    0.0   4.0   0.0  3.68  41.0   55.0  27.0     1.38   \n",
              "17           Large   5.4    0.0   4.0   0.0  3.68  41.0   55.0  27.0     1.38   \n",
              "45          Medium   6.5    4.0   0.0   0.0  0.00  63.2   72.6  53.8    12.55   \n",
              "66          Medium   4.7   26.0   0.0   0.0  0.02  63.6   82.5  44.7    13.69   \n",
              "97           Large   6.9  701.0   0.0  30.0  0.00  87.6  101.2  74.0     6.42   \n",
              "137          Small   5.6  568.0   0.0  31.0  0.00  83.3  100.4  66.3     7.98   \n",
              "139          Small   5.6  568.0   0.0  31.0  0.00  83.3  100.4  66.3     7.98   \n",
              "141          Small   7.4  301.0   2.0  28.0  0.58  74.6   94.8  54.4     2.34   \n",
              "164          Small   7.6  274.0   1.0  22.0  0.45  74.4   94.1  54.8     9.72   \n",
              "178          Large   6.5  259.0   1.0  17.0  1.64  73.9   90.9  56.9     6.11   \n",
              "\n",
              "     ...  Dec  Feb  Jan  Jul  Jun  Mar  May  Nov  Oct  Sep  \n",
              "16   ...    0    0    0    0    0    0    0    0    1    0  \n",
              "17   ...    0    0    0    0    0    0    0    0    1    0  \n",
              "45   ...    0    0    0    1    0    0    0    0    0    0  \n",
              "66   ...    0    0    0    1    0    0    0    0    0    0  \n",
              "97   ...    0    0    0    1    0    0    0    0    0    0  \n",
              "137  ...    0    0    0    1    0    0    0    0    0    0  \n",
              "139  ...    0    0    0    1    0    0    0    0    0    0  \n",
              "141  ...    0    0    0    0    0    0    0    0    0    0  \n",
              "164  ...    0    0    0    1    0    0    0    0    0    0  \n",
              "178  ...    0    0    0    0    0    0    0    0    0    0  \n",
              "\n",
              "[10 rows x 30 columns]"
            ],
            "text/html": [
              "\n",
              "  <div id=\"df-831d605e-5360-4aef-a0b5-6b1baf8d34dd\">\n",
              "    <div class=\"colab-df-container\">\n",
              "      <div>\n",
              "<style scoped>\n",
              "    .dataframe tbody tr th:only-of-type {\n",
              "        vertical-align: middle;\n",
              "    }\n",
              "\n",
              "    .dataframe tbody tr th {\n",
              "        vertical-align: top;\n",
              "    }\n",
              "\n",
              "    .dataframe thead th {\n",
              "        text-align: right;\n",
              "    }\n",
              "</style>\n",
              "<table border=\"1\" class=\"dataframe\">\n",
              "  <thead>\n",
              "    <tr style=\"text-align: right;\">\n",
              "      <th></th>\n",
              "      <th>Fire Size Rank</th>\n",
              "      <th>AWND</th>\n",
              "      <th>CLDD</th>\n",
              "      <th>DP10</th>\n",
              "      <th>DX90</th>\n",
              "      <th>PRCP</th>\n",
              "      <th>TAVG</th>\n",
              "      <th>TMAX</th>\n",
              "      <th>TMIN</th>\n",
              "      <th>PRCP_6M</th>\n",
              "      <th>...</th>\n",
              "      <th>Dec</th>\n",
              "      <th>Feb</th>\n",
              "      <th>Jan</th>\n",
              "      <th>Jul</th>\n",
              "      <th>Jun</th>\n",
              "      <th>Mar</th>\n",
              "      <th>May</th>\n",
              "      <th>Nov</th>\n",
              "      <th>Oct</th>\n",
              "      <th>Sep</th>\n",
              "    </tr>\n",
              "  </thead>\n",
              "  <tbody>\n",
              "    <tr>\n",
              "      <th>16</th>\n",
              "      <td>Large</td>\n",
              "      <td>5.4</td>\n",
              "      <td>0.0</td>\n",
              "      <td>4.0</td>\n",
              "      <td>0.0</td>\n",
              "      <td>3.68</td>\n",
              "      <td>41.0</td>\n",
              "      <td>55.0</td>\n",
              "      <td>27.0</td>\n",
              "      <td>1.38</td>\n",
              "      <td>...</td>\n",
              "      <td>0</td>\n",
              "      <td>0</td>\n",
              "      <td>0</td>\n",
              "      <td>0</td>\n",
              "      <td>0</td>\n",
              "      <td>0</td>\n",
              "      <td>0</td>\n",
              "      <td>0</td>\n",
              "      <td>1</td>\n",
              "      <td>0</td>\n",
              "    </tr>\n",
              "    <tr>\n",
              "      <th>17</th>\n",
              "      <td>Large</td>\n",
              "      <td>5.4</td>\n",
              "      <td>0.0</td>\n",
              "      <td>4.0</td>\n",
              "      <td>0.0</td>\n",
              "      <td>3.68</td>\n",
              "      <td>41.0</td>\n",
              "      <td>55.0</td>\n",
              "      <td>27.0</td>\n",
              "      <td>1.38</td>\n",
              "      <td>...</td>\n",
              "      <td>0</td>\n",
              "      <td>0</td>\n",
              "      <td>0</td>\n",
              "      <td>0</td>\n",
              "      <td>0</td>\n",
              "      <td>0</td>\n",
              "      <td>0</td>\n",
              "      <td>0</td>\n",
              "      <td>1</td>\n",
              "      <td>0</td>\n",
              "    </tr>\n",
              "    <tr>\n",
              "      <th>45</th>\n",
              "      <td>Medium</td>\n",
              "      <td>6.5</td>\n",
              "      <td>4.0</td>\n",
              "      <td>0.0</td>\n",
              "      <td>0.0</td>\n",
              "      <td>0.00</td>\n",
              "      <td>63.2</td>\n",
              "      <td>72.6</td>\n",
              "      <td>53.8</td>\n",
              "      <td>12.55</td>\n",
              "      <td>...</td>\n",
              "      <td>0</td>\n",
              "      <td>0</td>\n",
              "      <td>0</td>\n",
              "      <td>1</td>\n",
              "      <td>0</td>\n",
              "      <td>0</td>\n",
              "      <td>0</td>\n",
              "      <td>0</td>\n",
              "      <td>0</td>\n",
              "      <td>0</td>\n",
              "    </tr>\n",
              "    <tr>\n",
              "      <th>66</th>\n",
              "      <td>Medium</td>\n",
              "      <td>4.7</td>\n",
              "      <td>26.0</td>\n",
              "      <td>0.0</td>\n",
              "      <td>0.0</td>\n",
              "      <td>0.02</td>\n",
              "      <td>63.6</td>\n",
              "      <td>82.5</td>\n",
              "      <td>44.7</td>\n",
              "      <td>13.69</td>\n",
              "      <td>...</td>\n",
              "      <td>0</td>\n",
              "      <td>0</td>\n",
              "      <td>0</td>\n",
              "      <td>1</td>\n",
              "      <td>0</td>\n",
              "      <td>0</td>\n",
              "      <td>0</td>\n",
              "      <td>0</td>\n",
              "      <td>0</td>\n",
              "      <td>0</td>\n",
              "    </tr>\n",
              "    <tr>\n",
              "      <th>97</th>\n",
              "      <td>Large</td>\n",
              "      <td>6.9</td>\n",
              "      <td>701.0</td>\n",
              "      <td>0.0</td>\n",
              "      <td>30.0</td>\n",
              "      <td>0.00</td>\n",
              "      <td>87.6</td>\n",
              "      <td>101.2</td>\n",
              "      <td>74.0</td>\n",
              "      <td>6.42</td>\n",
              "      <td>...</td>\n",
              "      <td>0</td>\n",
              "      <td>0</td>\n",
              "      <td>0</td>\n",
              "      <td>1</td>\n",
              "      <td>0</td>\n",
              "      <td>0</td>\n",
              "      <td>0</td>\n",
              "      <td>0</td>\n",
              "      <td>0</td>\n",
              "      <td>0</td>\n",
              "    </tr>\n",
              "    <tr>\n",
              "      <th>137</th>\n",
              "      <td>Small</td>\n",
              "      <td>5.6</td>\n",
              "      <td>568.0</td>\n",
              "      <td>0.0</td>\n",
              "      <td>31.0</td>\n",
              "      <td>0.00</td>\n",
              "      <td>83.3</td>\n",
              "      <td>100.4</td>\n",
              "      <td>66.3</td>\n",
              "      <td>7.98</td>\n",
              "      <td>...</td>\n",
              "      <td>0</td>\n",
              "      <td>0</td>\n",
              "      <td>0</td>\n",
              "      <td>1</td>\n",
              "      <td>0</td>\n",
              "      <td>0</td>\n",
              "      <td>0</td>\n",
              "      <td>0</td>\n",
              "      <td>0</td>\n",
              "      <td>0</td>\n",
              "    </tr>\n",
              "    <tr>\n",
              "      <th>139</th>\n",
              "      <td>Small</td>\n",
              "      <td>5.6</td>\n",
              "      <td>568.0</td>\n",
              "      <td>0.0</td>\n",
              "      <td>31.0</td>\n",
              "      <td>0.00</td>\n",
              "      <td>83.3</td>\n",
              "      <td>100.4</td>\n",
              "      <td>66.3</td>\n",
              "      <td>7.98</td>\n",
              "      <td>...</td>\n",
              "      <td>0</td>\n",
              "      <td>0</td>\n",
              "      <td>0</td>\n",
              "      <td>1</td>\n",
              "      <td>0</td>\n",
              "      <td>0</td>\n",
              "      <td>0</td>\n",
              "      <td>0</td>\n",
              "      <td>0</td>\n",
              "      <td>0</td>\n",
              "    </tr>\n",
              "    <tr>\n",
              "      <th>141</th>\n",
              "      <td>Small</td>\n",
              "      <td>7.4</td>\n",
              "      <td>301.0</td>\n",
              "      <td>2.0</td>\n",
              "      <td>28.0</td>\n",
              "      <td>0.58</td>\n",
              "      <td>74.6</td>\n",
              "      <td>94.8</td>\n",
              "      <td>54.4</td>\n",
              "      <td>2.34</td>\n",
              "      <td>...</td>\n",
              "      <td>0</td>\n",
              "      <td>0</td>\n",
              "      <td>0</td>\n",
              "      <td>0</td>\n",
              "      <td>0</td>\n",
              "      <td>0</td>\n",
              "      <td>0</td>\n",
              "      <td>0</td>\n",
              "      <td>0</td>\n",
              "      <td>0</td>\n",
              "    </tr>\n",
              "    <tr>\n",
              "      <th>164</th>\n",
              "      <td>Small</td>\n",
              "      <td>7.6</td>\n",
              "      <td>274.0</td>\n",
              "      <td>1.0</td>\n",
              "      <td>22.0</td>\n",
              "      <td>0.45</td>\n",
              "      <td>74.4</td>\n",
              "      <td>94.1</td>\n",
              "      <td>54.8</td>\n",
              "      <td>9.72</td>\n",
              "      <td>...</td>\n",
              "      <td>0</td>\n",
              "      <td>0</td>\n",
              "      <td>0</td>\n",
              "      <td>1</td>\n",
              "      <td>0</td>\n",
              "      <td>0</td>\n",
              "      <td>0</td>\n",
              "      <td>0</td>\n",
              "      <td>0</td>\n",
              "      <td>0</td>\n",
              "    </tr>\n",
              "    <tr>\n",
              "      <th>178</th>\n",
              "      <td>Large</td>\n",
              "      <td>6.5</td>\n",
              "      <td>259.0</td>\n",
              "      <td>1.0</td>\n",
              "      <td>17.0</td>\n",
              "      <td>1.64</td>\n",
              "      <td>73.9</td>\n",
              "      <td>90.9</td>\n",
              "      <td>56.9</td>\n",
              "      <td>6.11</td>\n",
              "      <td>...</td>\n",
              "      <td>0</td>\n",
              "      <td>0</td>\n",
              "      <td>0</td>\n",
              "      <td>0</td>\n",
              "      <td>0</td>\n",
              "      <td>0</td>\n",
              "      <td>0</td>\n",
              "      <td>0</td>\n",
              "      <td>0</td>\n",
              "      <td>0</td>\n",
              "    </tr>\n",
              "  </tbody>\n",
              "</table>\n",
              "<p>10 rows × 30 columns</p>\n",
              "</div>\n",
              "      <button class=\"colab-df-convert\" onclick=\"convertToInteractive('df-831d605e-5360-4aef-a0b5-6b1baf8d34dd')\"\n",
              "              title=\"Convert this dataframe to an interactive table.\"\n",
              "              style=\"display:none;\">\n",
              "        \n",
              "  <svg xmlns=\"http://www.w3.org/2000/svg\" height=\"24px\"viewBox=\"0 0 24 24\"\n",
              "       width=\"24px\">\n",
              "    <path d=\"M0 0h24v24H0V0z\" fill=\"none\"/>\n",
              "    <path d=\"M18.56 5.44l.94 2.06.94-2.06 2.06-.94-2.06-.94-.94-2.06-.94 2.06-2.06.94zm-11 1L8.5 8.5l.94-2.06 2.06-.94-2.06-.94L8.5 2.5l-.94 2.06-2.06.94zm10 10l.94 2.06.94-2.06 2.06-.94-2.06-.94-.94-2.06-.94 2.06-2.06.94z\"/><path d=\"M17.41 7.96l-1.37-1.37c-.4-.4-.92-.59-1.43-.59-.52 0-1.04.2-1.43.59L10.3 9.45l-7.72 7.72c-.78.78-.78 2.05 0 2.83L4 21.41c.39.39.9.59 1.41.59.51 0 1.02-.2 1.41-.59l7.78-7.78 2.81-2.81c.8-.78.8-2.07 0-2.86zM5.41 20L4 18.59l7.72-7.72 1.47 1.35L5.41 20z\"/>\n",
              "  </svg>\n",
              "      </button>\n",
              "      \n",
              "  <style>\n",
              "    .colab-df-container {\n",
              "      display:flex;\n",
              "      flex-wrap:wrap;\n",
              "      gap: 12px;\n",
              "    }\n",
              "\n",
              "    .colab-df-convert {\n",
              "      background-color: #E8F0FE;\n",
              "      border: none;\n",
              "      border-radius: 50%;\n",
              "      cursor: pointer;\n",
              "      display: none;\n",
              "      fill: #1967D2;\n",
              "      height: 32px;\n",
              "      padding: 0 0 0 0;\n",
              "      width: 32px;\n",
              "    }\n",
              "\n",
              "    .colab-df-convert:hover {\n",
              "      background-color: #E2EBFA;\n",
              "      box-shadow: 0px 1px 2px rgba(60, 64, 67, 0.3), 0px 1px 3px 1px rgba(60, 64, 67, 0.15);\n",
              "      fill: #174EA6;\n",
              "    }\n",
              "\n",
              "    [theme=dark] .colab-df-convert {\n",
              "      background-color: #3B4455;\n",
              "      fill: #D2E3FC;\n",
              "    }\n",
              "\n",
              "    [theme=dark] .colab-df-convert:hover {\n",
              "      background-color: #434B5C;\n",
              "      box-shadow: 0px 1px 3px 1px rgba(0, 0, 0, 0.15);\n",
              "      filter: drop-shadow(0px 1px 2px rgba(0, 0, 0, 0.3));\n",
              "      fill: #FFFFFF;\n",
              "    }\n",
              "  </style>\n",
              "\n",
              "      <script>\n",
              "        const buttonEl =\n",
              "          document.querySelector('#df-831d605e-5360-4aef-a0b5-6b1baf8d34dd button.colab-df-convert');\n",
              "        buttonEl.style.display =\n",
              "          google.colab.kernel.accessAllowed ? 'block' : 'none';\n",
              "\n",
              "        async function convertToInteractive(key) {\n",
              "          const element = document.querySelector('#df-831d605e-5360-4aef-a0b5-6b1baf8d34dd');\n",
              "          const dataTable =\n",
              "            await google.colab.kernel.invokeFunction('convertToInteractive',\n",
              "                                                     [key], {});\n",
              "          if (!dataTable) return;\n",
              "\n",
              "          const docLinkHtml = 'Like what you see? Visit the ' +\n",
              "            '<a target=\"_blank\" href=https://colab.research.google.com/notebooks/data_table.ipynb>data table notebook</a>'\n",
              "            + ' to learn more about interactive tables.';\n",
              "          element.innerHTML = '';\n",
              "          dataTable['output_type'] = 'display_data';\n",
              "          await google.colab.output.renderOutput(dataTable, element);\n",
              "          const docLink = document.createElement('div');\n",
              "          docLink.innerHTML = docLinkHtml;\n",
              "          element.appendChild(docLink);\n",
              "        }\n",
              "      </script>\n",
              "    </div>\n",
              "  </div>\n",
              "  "
            ]
          },
          "metadata": {},
          "execution_count": 2867
        }
      ]
    },
    {
      "cell_type": "code",
      "source": [
        "#Add the dummy columns to the second dataset\n",
        "dummy_month2 = pd.get_dummies(wildfire2['Discovery Month'])\n",
        "wildfire2 = pd.merge(left = wildfire2, right = dummy_month2, left_index = True, right_index = True)\n",
        "wildfire2 = wildfire2.drop(columns = ['Discovery Month'])\n",
        "wildfire2.head(5)"
      ],
      "metadata": {
        "id": "MWYrjUBho5Co",
        "outputId": "d48d69ab-e611-4fea-e200-73c3721af310",
        "colab": {
          "base_uri": "https://localhost:8080/",
          "height": 235
        }
      },
      "execution_count": 2868,
      "outputs": [
        {
          "output_type": "execute_result",
          "data": {
            "text/plain": [
              "  Fire Size Rank  AWND   CLDD  DP10  DX90  PRCP  TAVG  TMAX  TMIN  PRCP_6M  \\\n",
              "0          Large   6.5    0.0   0.0   0.0  0.00  58.8  65.2  52.4    14.11   \n",
              "1          Large   6.7  529.0   0.0  22.0  0.00  82.6  96.6  68.6     4.68   \n",
              "2          Large   6.9  237.0   0.0  23.0  0.00  72.6  92.6  52.6     2.52   \n",
              "3          Large   6.5  455.0   0.0  28.0  0.00  79.7  94.6  64.7     3.41   \n",
              "4          Large   4.5    0.0   0.0   0.0  0.02  56.4  62.9  49.9    18.03   \n",
              "\n",
              "   ...  Dec  Feb  Jan  Jul  Jun  Mar  May  Nov  Oct  Sep  \n",
              "0  ...    0    0    0    1    0    0    0    0    0    0  \n",
              "1  ...    0    0    0    0    1    0    0    0    0    0  \n",
              "2  ...    0    0    0    0    0    0    0    0    0    0  \n",
              "3  ...    0    0    0    0    0    0    0    0    0    0  \n",
              "4  ...    0    0    0    0    0    0    0    0    0    0  \n",
              "\n",
              "[5 rows x 30 columns]"
            ],
            "text/html": [
              "\n",
              "  <div id=\"df-6961eb73-66fd-4999-930c-68a2559da474\">\n",
              "    <div class=\"colab-df-container\">\n",
              "      <div>\n",
              "<style scoped>\n",
              "    .dataframe tbody tr th:only-of-type {\n",
              "        vertical-align: middle;\n",
              "    }\n",
              "\n",
              "    .dataframe tbody tr th {\n",
              "        vertical-align: top;\n",
              "    }\n",
              "\n",
              "    .dataframe thead th {\n",
              "        text-align: right;\n",
              "    }\n",
              "</style>\n",
              "<table border=\"1\" class=\"dataframe\">\n",
              "  <thead>\n",
              "    <tr style=\"text-align: right;\">\n",
              "      <th></th>\n",
              "      <th>Fire Size Rank</th>\n",
              "      <th>AWND</th>\n",
              "      <th>CLDD</th>\n",
              "      <th>DP10</th>\n",
              "      <th>DX90</th>\n",
              "      <th>PRCP</th>\n",
              "      <th>TAVG</th>\n",
              "      <th>TMAX</th>\n",
              "      <th>TMIN</th>\n",
              "      <th>PRCP_6M</th>\n",
              "      <th>...</th>\n",
              "      <th>Dec</th>\n",
              "      <th>Feb</th>\n",
              "      <th>Jan</th>\n",
              "      <th>Jul</th>\n",
              "      <th>Jun</th>\n",
              "      <th>Mar</th>\n",
              "      <th>May</th>\n",
              "      <th>Nov</th>\n",
              "      <th>Oct</th>\n",
              "      <th>Sep</th>\n",
              "    </tr>\n",
              "  </thead>\n",
              "  <tbody>\n",
              "    <tr>\n",
              "      <th>0</th>\n",
              "      <td>Large</td>\n",
              "      <td>6.5</td>\n",
              "      <td>0.0</td>\n",
              "      <td>0.0</td>\n",
              "      <td>0.0</td>\n",
              "      <td>0.00</td>\n",
              "      <td>58.8</td>\n",
              "      <td>65.2</td>\n",
              "      <td>52.4</td>\n",
              "      <td>14.11</td>\n",
              "      <td>...</td>\n",
              "      <td>0</td>\n",
              "      <td>0</td>\n",
              "      <td>0</td>\n",
              "      <td>1</td>\n",
              "      <td>0</td>\n",
              "      <td>0</td>\n",
              "      <td>0</td>\n",
              "      <td>0</td>\n",
              "      <td>0</td>\n",
              "      <td>0</td>\n",
              "    </tr>\n",
              "    <tr>\n",
              "      <th>1</th>\n",
              "      <td>Large</td>\n",
              "      <td>6.7</td>\n",
              "      <td>529.0</td>\n",
              "      <td>0.0</td>\n",
              "      <td>22.0</td>\n",
              "      <td>0.00</td>\n",
              "      <td>82.6</td>\n",
              "      <td>96.6</td>\n",
              "      <td>68.6</td>\n",
              "      <td>4.68</td>\n",
              "      <td>...</td>\n",
              "      <td>0</td>\n",
              "      <td>0</td>\n",
              "      <td>0</td>\n",
              "      <td>0</td>\n",
              "      <td>1</td>\n",
              "      <td>0</td>\n",
              "      <td>0</td>\n",
              "      <td>0</td>\n",
              "      <td>0</td>\n",
              "      <td>0</td>\n",
              "    </tr>\n",
              "    <tr>\n",
              "      <th>2</th>\n",
              "      <td>Large</td>\n",
              "      <td>6.9</td>\n",
              "      <td>237.0</td>\n",
              "      <td>0.0</td>\n",
              "      <td>23.0</td>\n",
              "      <td>0.00</td>\n",
              "      <td>72.6</td>\n",
              "      <td>92.6</td>\n",
              "      <td>52.6</td>\n",
              "      <td>2.52</td>\n",
              "      <td>...</td>\n",
              "      <td>0</td>\n",
              "      <td>0</td>\n",
              "      <td>0</td>\n",
              "      <td>0</td>\n",
              "      <td>0</td>\n",
              "      <td>0</td>\n",
              "      <td>0</td>\n",
              "      <td>0</td>\n",
              "      <td>0</td>\n",
              "      <td>0</td>\n",
              "    </tr>\n",
              "    <tr>\n",
              "      <th>3</th>\n",
              "      <td>Large</td>\n",
              "      <td>6.5</td>\n",
              "      <td>455.0</td>\n",
              "      <td>0.0</td>\n",
              "      <td>28.0</td>\n",
              "      <td>0.00</td>\n",
              "      <td>79.7</td>\n",
              "      <td>94.6</td>\n",
              "      <td>64.7</td>\n",
              "      <td>3.41</td>\n",
              "      <td>...</td>\n",
              "      <td>0</td>\n",
              "      <td>0</td>\n",
              "      <td>0</td>\n",
              "      <td>0</td>\n",
              "      <td>0</td>\n",
              "      <td>0</td>\n",
              "      <td>0</td>\n",
              "      <td>0</td>\n",
              "      <td>0</td>\n",
              "      <td>0</td>\n",
              "    </tr>\n",
              "    <tr>\n",
              "      <th>4</th>\n",
              "      <td>Large</td>\n",
              "      <td>4.5</td>\n",
              "      <td>0.0</td>\n",
              "      <td>0.0</td>\n",
              "      <td>0.0</td>\n",
              "      <td>0.02</td>\n",
              "      <td>56.4</td>\n",
              "      <td>62.9</td>\n",
              "      <td>49.9</td>\n",
              "      <td>18.03</td>\n",
              "      <td>...</td>\n",
              "      <td>0</td>\n",
              "      <td>0</td>\n",
              "      <td>0</td>\n",
              "      <td>0</td>\n",
              "      <td>0</td>\n",
              "      <td>0</td>\n",
              "      <td>0</td>\n",
              "      <td>0</td>\n",
              "      <td>0</td>\n",
              "      <td>0</td>\n",
              "    </tr>\n",
              "  </tbody>\n",
              "</table>\n",
              "<p>5 rows × 30 columns</p>\n",
              "</div>\n",
              "      <button class=\"colab-df-convert\" onclick=\"convertToInteractive('df-6961eb73-66fd-4999-930c-68a2559da474')\"\n",
              "              title=\"Convert this dataframe to an interactive table.\"\n",
              "              style=\"display:none;\">\n",
              "        \n",
              "  <svg xmlns=\"http://www.w3.org/2000/svg\" height=\"24px\"viewBox=\"0 0 24 24\"\n",
              "       width=\"24px\">\n",
              "    <path d=\"M0 0h24v24H0V0z\" fill=\"none\"/>\n",
              "    <path d=\"M18.56 5.44l.94 2.06.94-2.06 2.06-.94-2.06-.94-.94-2.06-.94 2.06-2.06.94zm-11 1L8.5 8.5l.94-2.06 2.06-.94-2.06-.94L8.5 2.5l-.94 2.06-2.06.94zm10 10l.94 2.06.94-2.06 2.06-.94-2.06-.94-.94-2.06-.94 2.06-2.06.94z\"/><path d=\"M17.41 7.96l-1.37-1.37c-.4-.4-.92-.59-1.43-.59-.52 0-1.04.2-1.43.59L10.3 9.45l-7.72 7.72c-.78.78-.78 2.05 0 2.83L4 21.41c.39.39.9.59 1.41.59.51 0 1.02-.2 1.41-.59l7.78-7.78 2.81-2.81c.8-.78.8-2.07 0-2.86zM5.41 20L4 18.59l7.72-7.72 1.47 1.35L5.41 20z\"/>\n",
              "  </svg>\n",
              "      </button>\n",
              "      \n",
              "  <style>\n",
              "    .colab-df-container {\n",
              "      display:flex;\n",
              "      flex-wrap:wrap;\n",
              "      gap: 12px;\n",
              "    }\n",
              "\n",
              "    .colab-df-convert {\n",
              "      background-color: #E8F0FE;\n",
              "      border: none;\n",
              "      border-radius: 50%;\n",
              "      cursor: pointer;\n",
              "      display: none;\n",
              "      fill: #1967D2;\n",
              "      height: 32px;\n",
              "      padding: 0 0 0 0;\n",
              "      width: 32px;\n",
              "    }\n",
              "\n",
              "    .colab-df-convert:hover {\n",
              "      background-color: #E2EBFA;\n",
              "      box-shadow: 0px 1px 2px rgba(60, 64, 67, 0.3), 0px 1px 3px 1px rgba(60, 64, 67, 0.15);\n",
              "      fill: #174EA6;\n",
              "    }\n",
              "\n",
              "    [theme=dark] .colab-df-convert {\n",
              "      background-color: #3B4455;\n",
              "      fill: #D2E3FC;\n",
              "    }\n",
              "\n",
              "    [theme=dark] .colab-df-convert:hover {\n",
              "      background-color: #434B5C;\n",
              "      box-shadow: 0px 1px 3px 1px rgba(0, 0, 0, 0.15);\n",
              "      filter: drop-shadow(0px 1px 2px rgba(0, 0, 0, 0.3));\n",
              "      fill: #FFFFFF;\n",
              "    }\n",
              "  </style>\n",
              "\n",
              "      <script>\n",
              "        const buttonEl =\n",
              "          document.querySelector('#df-6961eb73-66fd-4999-930c-68a2559da474 button.colab-df-convert');\n",
              "        buttonEl.style.display =\n",
              "          google.colab.kernel.accessAllowed ? 'block' : 'none';\n",
              "\n",
              "        async function convertToInteractive(key) {\n",
              "          const element = document.querySelector('#df-6961eb73-66fd-4999-930c-68a2559da474');\n",
              "          const dataTable =\n",
              "            await google.colab.kernel.invokeFunction('convertToInteractive',\n",
              "                                                     [key], {});\n",
              "          if (!dataTable) return;\n",
              "\n",
              "          const docLinkHtml = 'Like what you see? Visit the ' +\n",
              "            '<a target=\"_blank\" href=https://colab.research.google.com/notebooks/data_table.ipynb>data table notebook</a>'\n",
              "            + ' to learn more about interactive tables.';\n",
              "          element.innerHTML = '';\n",
              "          dataTable['output_type'] = 'display_data';\n",
              "          await google.colab.output.renderOutput(dataTable, element);\n",
              "          const docLink = document.createElement('div');\n",
              "          docLink.innerHTML = docLinkHtml;\n",
              "          element.appendChild(docLink);\n",
              "        }\n",
              "      </script>\n",
              "    </div>\n",
              "  </div>\n",
              "  "
            ]
          },
          "metadata": {},
          "execution_count": 2868
        }
      ]
    },
    {
      "cell_type": "code",
      "source": [
        "#Radomly Shuffle both dataframes to get rid of any pre-existing organization based on size\n",
        "wildfire1 = wildfire1.sample(frac=1).reset_index(drop=True)\n",
        "wildfire2 = wildfire2.sample(frac=1).reset_index(drop=True)"
      ],
      "metadata": {
        "id": "2ZGbL3aDqn3J"
      },
      "execution_count": 2869,
      "outputs": []
    },
    {
      "cell_type": "code",
      "source": [
        "#Write the clean, encoded, and randomly shuffled data to csv's before continuing \n",
        "wildfire1.to_csv('wildfire1_clean.csv')\n",
        "wildfire2.to_csv('wildfire2_clean.csv')"
      ],
      "metadata": {
        "id": "K6UaNKNepeE-"
      },
      "execution_count": 2870,
      "outputs": []
    },
    {
      "cell_type": "markdown",
      "source": [
        "Split the training data into train-test sets"
      ],
      "metadata": {
        "id": "FemK64fS3i80"
      }
    },
    {
      "cell_type": "code",
      "source": [
        "#We will train our models using the first dataset, then see how it performs on our second dataframe containing more recent wildfires in the state of California"
      ],
      "metadata": {
        "id": "0Vg-3iwdqZqp"
      },
      "execution_count": 2871,
      "outputs": []
    },
    {
      "cell_type": "code",
      "source": [
        "import sklearn\n",
        "from sklearn import preprocessing\n",
        "from sklearn.model_selection import train_test_split, cross_val_score\n",
        "from sklearn.preprocessing import MinMaxScaler"
      ],
      "metadata": {
        "id": "kebkzKqcADoB"
      },
      "execution_count": 2872,
      "outputs": []
    },
    {
      "cell_type": "code",
      "source": [
        "from sklearn.metrics import accuracy_score, confusion_matrix, precision_score, recall_score, f1_score, classification_report, ConfusionMatrixDisplay"
      ],
      "metadata": {
        "id": "17tarEVX4UxK"
      },
      "execution_count": 2873,
      "outputs": []
    },
    {
      "cell_type": "code",
      "source": [
        "features = wildfire2.drop(columns = ['Fire Size Rank'])\n",
        "target = wildfire2['Fire Size Rank']\n",
        "X_train, X_test, y_train, y_test = train_test_split(features, target, test_size=0.20, random_state = 8)"
      ],
      "metadata": {
        "id": "KydhTPDg1-3l"
      },
      "execution_count": 2874,
      "outputs": []
    },
    {
      "cell_type": "code",
      "source": [
        "print('X_train dimensions: ', X_train.shape)\n",
        "print('y_train dimensions: ', y_train.shape)\n",
        "print('X_test dimensions: ', X_test.shape)\n",
        "print('y_test dimensions: ', y_test.shape)"
      ],
      "metadata": {
        "id": "UH01GKhj2nCj",
        "outputId": "2933ab31-0a46-42f3-a62b-803c434a3297",
        "colab": {
          "base_uri": "https://localhost:8080/"
        }
      },
      "execution_count": 2875,
      "outputs": [
        {
          "output_type": "stream",
          "name": "stdout",
          "text": [
            "X_train dimensions:  (836, 29)\n",
            "y_train dimensions:  (836,)\n",
            "X_test dimensions:  (209, 29)\n",
            "y_test dimensions:  (209,)\n"
          ]
        }
      ]
    },
    {
      "cell_type": "markdown",
      "source": [
        "Normalize data using min-max-scalar after splitting into train and test"
      ],
      "metadata": {
        "id": "w30t2GCT4t5I"
      }
    },
    {
      "cell_type": "code",
      "source": [
        "scaler = MinMaxScaler()\n",
        "#Normalize the train and test independently after splitting the two\n",
        "X_train_scaled = scaler.fit_transform(X_train)\n",
        "X_test_scaled  = scaler.fit_transform(X_test)"
      ],
      "metadata": {
        "id": "VuekoRIn3GFO"
      },
      "execution_count": 2876,
      "outputs": []
    },
    {
      "cell_type": "markdown",
      "source": [
        "Feature Selection"
      ],
      "metadata": {
        "id": "WMrEnmGD3Yiw"
      }
    },
    {
      "cell_type": "code",
      "source": [
        "from sklearn.feature_selection import SelectKBest, f_classif"
      ],
      "metadata": {
        "id": "DkDuQMM9NLq9"
      },
      "execution_count": 2877,
      "outputs": []
    },
    {
      "cell_type": "markdown",
      "source": [
        "Model Building:"
      ],
      "metadata": {
        "id": "8n4zyV0H3x1M"
      }
    },
    {
      "cell_type": "markdown",
      "source": [
        "# Define a new evaluation metric:\n",
        "Because through experimenting with model building I have found it difficult to build a super accurate classifier with the data we have, I redefine a new evaluation metric that we will call adjusted_accuracy.\n",
        "\n",
        "\n",
        "Essentially, this metric will consider a medium sized fire classified as medium or large and a small fire classified as small or medium to be correct classifications. "
      ],
      "metadata": {
        "id": "dbcNOYXK43GP"
      }
    },
    {
      "cell_type": "code",
      "source": [
        "def adjusted_accuracy(confusion_matrix):\n",
        "  large = confusion_matrix[0][0]\n",
        "  medium_large = confusion_matrix[1][1] + confusion_matrix[1][0]\n",
        "  small_medium = confusion_matrix[2][2] + confusion_matrix[2][1]\n",
        "  total = 0\n",
        "  for lists in confusion_matrix:\n",
        "    for item in lists:\n",
        "      total += item\n",
        "  adjusted_accuracy = (large + medium_large + small_medium)/total\n",
        "  return adjusted_accuracy"
      ],
      "metadata": {
        "id": "RZzt7PrC5Qnc"
      },
      "execution_count": 2878,
      "outputs": []
    },
    {
      "cell_type": "markdown",
      "source": [
        "# KNN Classifier"
      ],
      "metadata": {
        "id": "KKPp8fjfOgNv"
      }
    },
    {
      "cell_type": "code",
      "source": [
        "from sklearn.neighbors import KNeighborsClassifier"
      ],
      "metadata": {
        "id": "4PBInVf64DwC"
      },
      "execution_count": 2879,
      "outputs": []
    },
    {
      "cell_type": "code",
      "source": [
        "#KNN works best with more features"
      ],
      "metadata": {
        "id": "vIygmQcUxM5t"
      },
      "execution_count": 2880,
      "outputs": []
    },
    {
      "cell_type": "code",
      "source": [
        "best_features = SelectKBest(f_classif, k=29)\n",
        "X_kbest_knn = best_features.fit_transform(X_train_scaled, y_train)"
      ],
      "metadata": {
        "id": "dJFJtkvsNN3W"
      },
      "execution_count": 2881,
      "outputs": []
    },
    {
      "cell_type": "code",
      "source": [
        "knn = KNeighborsClassifier(n_neighbors=22, metric = 'manhattan').fit(X_kbest_knn, y_train)\n",
        "cv = cross_val_score(knn, X_kbest_knn, y_train, cv =5)\n",
        "print((cv.mean()))"
      ],
      "metadata": {
        "id": "T-60VdBF5W9L",
        "outputId": "4b3fd73c-7049-4ce7-9057-3f8eaa441c8d",
        "colab": {
          "base_uri": "https://localhost:8080/"
        }
      },
      "execution_count": 2882,
      "outputs": [
        {
          "output_type": "stream",
          "name": "stdout",
          "text": [
            "0.373260621613915\n"
          ]
        }
      ]
    },
    {
      "cell_type": "code",
      "source": [
        "y_pred = knn.predict(X_test_scaled)"
      ],
      "metadata": {
        "id": "h9_20Znf1sKv"
      },
      "execution_count": 2883,
      "outputs": []
    },
    {
      "cell_type": "code",
      "source": [
        "confusion = confusion_matrix(y_test, y_pred)\n",
        "print('Confusion Matrix:')\n",
        "print(confusion)"
      ],
      "metadata": {
        "id": "VVJTl9M62PBm",
        "outputId": "7207935a-ed5a-4e6f-eed9-8de15901d87e",
        "colab": {
          "base_uri": "https://localhost:8080/"
        }
      },
      "execution_count": 2884,
      "outputs": [
        {
          "output_type": "stream",
          "name": "stdout",
          "text": [
            "Confusion Matrix:\n",
            "[[58 14 14]\n",
            " [29 21 17]\n",
            " [30  7 19]]\n"
          ]
        }
      ]
    },
    {
      "cell_type": "code",
      "source": [
        "disp = ConfusionMatrixDisplay.from_estimator(\n",
        "        knn,\n",
        "        X_test_scaled,\n",
        "        y_test,\n",
        "        cmap=plt.cm.Blues,\n",
        "    )\n",
        "\n",
        "print(disp.confusion_matrix)"
      ],
      "metadata": {
        "id": "CTyXALpN2Rlz",
        "outputId": "47b2905c-cb6b-4352-a5ef-7de4baee5472",
        "colab": {
          "base_uri": "https://localhost:8080/",
          "height": 331
        }
      },
      "execution_count": 2885,
      "outputs": [
        {
          "output_type": "stream",
          "name": "stdout",
          "text": [
            "[[58 14 14]\n",
            " [29 21 17]\n",
            " [30  7 19]]\n"
          ]
        },
        {
          "output_type": "display_data",
          "data": {
            "text/plain": [
              "<Figure size 432x288 with 2 Axes>"
            ],
            "image/png": "[encoded data removed]"
          },
          "metadata": {
            "needs_background": "light"
          }
        }
      ]
    },
    {
      "cell_type": "code",
      "source": [
        "print(adjusted_accuracy(confusion))"
      ],
      "metadata": {
        "id": "vIxcyEcW7QMX",
        "outputId": "785a2fba-305d-4c38-8c45-5966a420c74f",
        "colab": {
          "base_uri": "https://localhost:8080/"
        }
      },
      "execution_count": 2886,
      "outputs": [
        {
          "output_type": "stream",
          "name": "stdout",
          "text": [
            "0.6411483253588517\n"
          ]
        }
      ]
    },
    {
      "cell_type": "markdown",
      "source": [
        "# SVM Classifier"
      ],
      "metadata": {
        "id": "L-gpnPT1OiRE"
      }
    },
    {
      "cell_type": "code",
      "source": [
        "from sklearn import svm\n",
        "from sklearn.svm import SVC"
      ],
      "metadata": {
        "id": "zMne7LwO4Ggz"
      },
      "execution_count": 2887,
      "outputs": []
    },
    {
      "cell_type": "code",
      "source": [
        "best_features = SelectKBest(f_classif, k=8)\n",
        "X_kbest = best_features.fit_transform(X_train_scaled, y_train)\n",
        "X_test_kbest = best_features.fit_transform(X_test_scaled, y_test)"
      ],
      "metadata": {
        "id": "sDOHHGS-yWhi",
        "colab": {
          "base_uri": "https://localhost:8080/"
        },
        "outputId": "b2f78ce0-6eb9-4b01-b7d5-020164843c0e"
      },
      "execution_count": 2888,
      "outputs": [
        {
          "output_type": "stream",
          "name": "stderr",
          "text": [
            "/usr/local/lib/python3.7/dist-packages/sklearn/feature_selection/_univariate_selection.py:112: UserWarning: Features [21 24] are constant.\n",
            "  warnings.warn(\"Features %s are constant.\" % constant_features_idx, UserWarning)\n",
            "/usr/local/lib/python3.7/dist-packages/sklearn/feature_selection/_univariate_selection.py:113: RuntimeWarning: invalid value encountered in true_divide\n",
            "  f = msb / msw\n"
          ]
        }
      ]
    },
    {
      "cell_type": "markdown",
      "source": [
        "Try SVM Classifier with linear boundary in addition to with the polynomial and Gaussian kernels. Note: all three perform about the same with our data"
      ],
      "metadata": {
        "id": "eegAVFlUzB17"
      }
    },
    {
      "cell_type": "code",
      "source": [
        "linear_boundary = svm.SVC().fit(X_kbest,y_train)\n",
        "#cv = cross_val_score(linear_boundary, X_kbest, y_train, cv = 5)\n",
        "#print(cv)\n",
        "#print(cv.mean())"
      ],
      "metadata": {
        "id": "TrXQPrwr5T27"
      },
      "execution_count": 2889,
      "outputs": []
    },
    {
      "cell_type": "code",
      "source": [
        "y_pred = linear_boundary.predict(X_test_kbest)"
      ],
      "metadata": {
        "id": "6KHkxdKSwiKx"
      },
      "execution_count": 2890,
      "outputs": []
    },
    {
      "cell_type": "code",
      "source": [
        "confusion = confusion_matrix(y_test, y_pred)\n",
        "print('Confusion Matrix:')\n",
        "print(confusion)"
      ],
      "metadata": {
        "colab": {
          "base_uri": "https://localhost:8080/"
        },
        "id": "R_UCpWlWNAcA",
        "outputId": "d57746e4-b0b6-46a9-d766-03e69239dab8"
      },
      "execution_count": 2891,
      "outputs": [
        {
          "output_type": "stream",
          "name": "stdout",
          "text": [
            "Confusion Matrix:\n",
            "[[63  3 20]\n",
            " [53  3 11]\n",
            " [31  1 24]]\n"
          ]
        }
      ]
    },
    {
      "cell_type": "code",
      "source": [
        "disp = ConfusionMatrixDisplay.from_estimator(\n",
        "        linear_boundary,\n",
        "        X_test_kbest,\n",
        "        y_test,\n",
        "        cmap=plt.cm.Blues,\n",
        "    )\n",
        "\n",
        "print(disp.confusion_matrix)"
      ],
      "metadata": {
        "colab": {
          "base_uri": "https://localhost:8080/",
          "height": 331
        },
        "id": "aifzqZHoP9HY",
        "outputId": "ba2ba0d3-71a3-47ee-8f30-a47577e5fe58"
      },
      "execution_count": 2892,
      "outputs": [
        {
          "output_type": "stream",
          "name": "stdout",
          "text": [
            "[[63  3 20]\n",
            " [53  3 11]\n",
            " [31  1 24]]\n"
          ]
        },
        {
          "output_type": "display_data",
          "data": {
            "text/plain": [
              "<Figure size 432x288 with 2 Axes>"
            ],
            "image/png": "[encoded data removed]"
          },
          "metadata": {
            "needs_background": "light"
          }
        }
      ]
    },
    {
      "cell_type": "code",
      "source": [
        "print(adjusted_accuracy(confusion))"
      ],
      "metadata": {
        "id": "f6dZw6zy7cdL",
        "outputId": "e1d54834-aab0-4d61-fdf0-547f54e0c6fc",
        "colab": {
          "base_uri": "https://localhost:8080/"
        }
      },
      "execution_count": 2893,
      "outputs": [
        {
          "output_type": "stream",
          "name": "stdout",
          "text": [
            "0.6889952153110048\n"
          ]
        }
      ]
    },
    {
      "cell_type": "code",
      "source": [
        "#SVM using the quadratic kernel\n",
        "polynomial_ker = svm.SVC(kernel='poly', degree=2).fit(X_kbest, y_train)\n",
        "#cv = cross_val_score(polynomial_ker, X_kbest, y_train, cv = 5)\n",
        "#print(cv)\n",
        "#print(cv.mean())"
      ],
      "metadata": {
        "id": "pZarvaeL0N5I"
      },
      "execution_count": 2894,
      "outputs": []
    },
    {
      "cell_type": "code",
      "source": [
        "y_pred = polynomial_ker.predict(X_test_kbest)"
      ],
      "metadata": {
        "id": "Nxbpu3Q8NR3m"
      },
      "execution_count": 2895,
      "outputs": []
    },
    {
      "cell_type": "code",
      "source": [
        "confusion = confusion_matrix(y_test, y_pred)\n",
        "print('Confusion Matrix:')\n",
        "print(confusion)"
      ],
      "metadata": {
        "colab": {
          "base_uri": "https://localhost:8080/"
        },
        "id": "PfSJaMEINjKe",
        "outputId": "7f51c319-35e5-46fa-da32-50dec65ea823"
      },
      "execution_count": 2896,
      "outputs": [
        {
          "output_type": "stream",
          "name": "stdout",
          "text": [
            "Confusion Matrix:\n",
            "[[68  4 14]\n",
            " [59  3  5]\n",
            " [43  2 11]]\n"
          ]
        }
      ]
    },
    {
      "cell_type": "code",
      "source": [
        "disp = ConfusionMatrixDisplay.from_estimator(\n",
        "        polynomial_ker,\n",
        "        X_test_kbest,\n",
        "        y_test,\n",
        "        cmap=plt.cm.Blues,\n",
        "    )\n",
        "\n",
        "print(disp.confusion_matrix)"
      ],
      "metadata": {
        "colab": {
          "base_uri": "https://localhost:8080/",
          "height": 331
        },
        "id": "i6FLzDJ5RmDr",
        "outputId": "95994e97-3cfd-4855-cb90-f665424c9557"
      },
      "execution_count": 2897,
      "outputs": [
        {
          "output_type": "stream",
          "name": "stdout",
          "text": [
            "[[68  4 14]\n",
            " [59  3  5]\n",
            " [43  2 11]]\n"
          ]
        },
        {
          "output_type": "display_data",
          "data": {
            "text/plain": [
              "<Figure size 432x288 with 2 Axes>"
            ],
            "image/png": "[encoded data removed]"
          },
          "metadata": {
            "needs_background": "light"
          }
        }
      ]
    },
    {
      "cell_type": "code",
      "source": [
        "print(adjusted_accuracy(confusion))"
      ],
      "metadata": {
        "id": "lbbtvKWR7fwq",
        "outputId": "f619b196-c2c8-48c6-a0b8-0855b39329a8",
        "colab": {
          "base_uri": "https://localhost:8080/"
        }
      },
      "execution_count": 2898,
      "outputs": [
        {
          "output_type": "stream",
          "name": "stdout",
          "text": [
            "0.6842105263157895\n"
          ]
        }
      ]
    },
    {
      "cell_type": "code",
      "source": [
        "#SVM using the degree 3 polynomial kernel\n",
        "poly_kernel_3 = svm.SVC(kernel='poly', degree=3).fit(X_kbest, y_train)\n",
        "#cv = cross_val_score(polynomial_ker, X_kbest, y_train, cv = 5)\n",
        "#print(cv)\n",
        "#print(cv.mean())"
      ],
      "metadata": {
        "id": "-jRuhb0C6ZTA"
      },
      "execution_count": 2899,
      "outputs": []
    },
    {
      "cell_type": "code",
      "source": [
        "y_pred = poly_kernel_3.predict(X_test_kbest)"
      ],
      "metadata": {
        "id": "UMJChf-OOI2B"
      },
      "execution_count": 2900,
      "outputs": []
    },
    {
      "cell_type": "code",
      "source": [
        "confusion = confusion_matrix(y_test, y_pred)\n",
        "print('Confusion Matrix:')\n",
        "print(confusion)"
      ],
      "metadata": {
        "colab": {
          "base_uri": "https://localhost:8080/"
        },
        "id": "fGPqJgvFOR0q",
        "outputId": "c70c6e60-8f6d-497e-8761-94cf0029b63d"
      },
      "execution_count": 2901,
      "outputs": [
        {
          "output_type": "stream",
          "name": "stdout",
          "text": [
            "Confusion Matrix:\n",
            "[[64  7 15]\n",
            " [57  4  6]\n",
            " [44  2 10]]\n"
          ]
        }
      ]
    },
    {
      "cell_type": "code",
      "source": [
        "disp = ConfusionMatrixDisplay.from_estimator(\n",
        "        poly_kernel_3,\n",
        "        X_test_kbest,\n",
        "        y_test,\n",
        "        cmap=plt.cm.Blues,\n",
        "    )\n",
        "\n",
        "print(disp.confusion_matrix)"
      ],
      "metadata": {
        "colab": {
          "base_uri": "https://localhost:8080/",
          "height": 331
        },
        "id": "W7VQaPBeRxg-",
        "outputId": "6cb09cec-3ae1-4cad-b592-3413e9b35cce"
      },
      "execution_count": 2902,
      "outputs": [
        {
          "output_type": "stream",
          "name": "stdout",
          "text": [
            "[[64  7 15]\n",
            " [57  4  6]\n",
            " [44  2 10]]\n"
          ]
        },
        {
          "output_type": "display_data",
          "data": {
            "text/plain": [
              "<Figure size 432x288 with 2 Axes>"
            ],
            "image/png": "[encoded data removed]"
          },
          "metadata": {
            "needs_background": "light"
          }
        }
      ]
    },
    {
      "cell_type": "code",
      "source": [
        "print(adjusted_accuracy(confusion))"
      ],
      "metadata": {
        "id": "bPA4o3Y77hCw",
        "outputId": "f6573b6b-2210-4411-b691-0852b4ff1bb6",
        "colab": {
          "base_uri": "https://localhost:8080/"
        }
      },
      "execution_count": 2903,
      "outputs": [
        {
          "output_type": "stream",
          "name": "stdout",
          "text": [
            "0.6555023923444976\n"
          ]
        }
      ]
    },
    {
      "cell_type": "markdown",
      "source": [
        "# Naive Bayes Classifier\n",
        "\n",
        "\n",
        "*   This algorithm performs well on our dataset\n",
        "\n"
      ],
      "metadata": {
        "id": "Jk9d4KL5POqf"
      }
    },
    {
      "cell_type": "code",
      "source": [
        "from sklearn.naive_bayes import GaussianNB"
      ],
      "metadata": {
        "id": "y8Cdb-uN4bYf"
      },
      "execution_count": 2904,
      "outputs": []
    },
    {
      "cell_type": "code",
      "source": [
        "gnb = GaussianNB().fit(X_kbest, y_train)\n",
        "cv = cross_val_score(gnb, X_kbest, y_train, cv = 5)\n",
        "print(cv)\n",
        "print(cv.mean())"
      ],
      "metadata": {
        "id": "a1UOmIOx31Rj",
        "outputId": "0ef67225-a5f4-42d2-abc8-e019a342b1b0",
        "colab": {
          "base_uri": "https://localhost:8080/"
        }
      },
      "execution_count": 2905,
      "outputs": [
        {
          "output_type": "stream",
          "name": "stdout",
          "text": [
            "[0.375      0.37724551 0.37724551 0.37125749 0.37724551]\n",
            "0.3755988023952096\n"
          ]
        }
      ]
    },
    {
      "cell_type": "code",
      "source": [
        "y_pred = gnb.predict(X_test_kbest)"
      ],
      "metadata": {
        "id": "gOxzSr9yObPR"
      },
      "execution_count": 2906,
      "outputs": []
    },
    {
      "cell_type": "code",
      "source": [
        "confusion = confusion_matrix(y_test, y_pred)\n",
        "print('Confusion Matrix:')\n",
        "print(confusion)"
      ],
      "metadata": {
        "colab": {
          "base_uri": "https://localhost:8080/"
        },
        "id": "y8CPHkEROdIi",
        "outputId": "784381aa-d390-4a87-d282-1d7c8a636d9c"
      },
      "execution_count": 2907,
      "outputs": [
        {
          "output_type": "stream",
          "name": "stdout",
          "text": [
            "Confusion Matrix:\n",
            "[[45  6 35]\n",
            " [26  6 35]\n",
            " [19  8 29]]\n"
          ]
        }
      ]
    },
    {
      "cell_type": "code",
      "source": [
        "disp = ConfusionMatrixDisplay.from_estimator(\n",
        "        gnb,\n",
        "        X_test_kbest,\n",
        "        y_test,\n",
        "        cmap=plt.cm.Blues,\n",
        "    )\n",
        "\n",
        "print(disp.confusion_matrix)"
      ],
      "metadata": {
        "colab": {
          "base_uri": "https://localhost:8080/",
          "height": 335
        },
        "id": "-eDgyJOjR4pC",
        "outputId": "02a450d1-c9d0-4630-8a94-39234fce13fb"
      },
      "execution_count": 2908,
      "outputs": [
        {
          "output_type": "stream",
          "name": "stdout",
          "text": [
            "[[45  6 35]\n",
            " [26  6 35]\n",
            " [19  8 29]]\n"
          ]
        },
        {
          "output_type": "display_data",
          "data": {
            "text/plain": [
              "<Figure size 432x288 with 2 Axes>"
            ],
            "image/png": "[encoded data removed]"
          },
          "metadata": {
            "needs_background": "light"
          }
        }
      ]
    },
    {
      "cell_type": "code",
      "source": [
        "print(adjusted_accuracy(confusion))"
      ],
      "metadata": {
        "id": "3QQyhbe67iYH",
        "outputId": "394c1546-3dbd-4a48-c3af-1b810fbc4d60",
        "colab": {
          "base_uri": "https://localhost:8080/"
        }
      },
      "execution_count": 2909,
      "outputs": [
        {
          "output_type": "stream",
          "name": "stdout",
          "text": [
            "0.5454545454545454\n"
          ]
        }
      ]
    },
    {
      "cell_type": "code",
      "source": [
        "best_features = SelectKBest(f_classif, k=15)\n",
        "X_kbest_other = best_features.fit_transform(X_train_scaled, y_train)"
      ],
      "metadata": {
        "id": "oIjtXM_vzjmn"
      },
      "execution_count": 2910,
      "outputs": []
    },
    {
      "cell_type": "markdown",
      "source": [
        "# Decision Tree Classifier"
      ],
      "metadata": {
        "id": "9TqkiZUsOqL-"
      }
    },
    {
      "cell_type": "code",
      "source": [
        "from sklearn import tree\n",
        "from sklearn.tree import DecisionTreeClassifier"
      ],
      "metadata": {
        "id": "jhXmB_ql4b65"
      },
      "execution_count": 2911,
      "outputs": []
    },
    {
      "cell_type": "code",
      "source": [
        "dt = DecisionTreeClassifier().fit(X_kbest, y_train)\n",
        "cv = cross_val_score(dt, X_kbest, y_train, cv =5)\n",
        "print(cv)\n",
        "print(cv.mean())"
      ],
      "metadata": {
        "id": "aj3LdqGA4jss",
        "outputId": "2041e84d-74f4-47b0-ded5-be1c550b2e09",
        "colab": {
          "base_uri": "https://localhost:8080/"
        }
      },
      "execution_count": 2912,
      "outputs": [
        {
          "output_type": "stream",
          "name": "stdout",
          "text": [
            "[0.32738095 0.37724551 0.32335329 0.34730539 0.33532934]\n",
            "0.3421228970630168\n"
          ]
        }
      ]
    },
    {
      "cell_type": "code",
      "source": [
        "y_pred = dt.predict(X_test_kbest)"
      ],
      "metadata": {
        "id": "c8b27Puj04xI"
      },
      "execution_count": 2913,
      "outputs": []
    },
    {
      "cell_type": "code",
      "source": [
        "confusion = confusion_matrix(y_test, y_pred)\n",
        "print('Confusion Matrix:')\n",
        "print(confusion)"
      ],
      "metadata": {
        "colab": {
          "base_uri": "https://localhost:8080/"
        },
        "id": "YmQNoa7AOriP",
        "outputId": "a53f1d5b-cf4c-4d6f-a640-5a726a598238"
      },
      "execution_count": 2914,
      "outputs": [
        {
          "output_type": "stream",
          "name": "stdout",
          "text": [
            "Confusion Matrix:\n",
            "[[25 14 47]\n",
            " [17 10 40]\n",
            " [ 9 15 32]]\n"
          ]
        }
      ]
    },
    {
      "cell_type": "code",
      "source": [
        "disp = ConfusionMatrixDisplay.from_estimator(\n",
        "        dt,\n",
        "        X_test_kbest,\n",
        "        y_test,\n",
        "        cmap=plt.cm.Blues,\n",
        "    )\n",
        "\n",
        "print(disp.confusion_matrix)"
      ],
      "metadata": {
        "colab": {
          "base_uri": "https://localhost:8080/",
          "height": 331
        },
        "id": "-O-OFyXzSEEP",
        "outputId": "a3028311-e157-4d8c-bc64-60692bfda233"
      },
      "execution_count": 2915,
      "outputs": [
        {
          "output_type": "stream",
          "name": "stdout",
          "text": [
            "[[25 14 47]\n",
            " [17 10 40]\n",
            " [ 9 15 32]]\n"
          ]
        },
        {
          "output_type": "display_data",
          "data": {
            "text/plain": [
              "<Figure size 432x288 with 2 Axes>"
            ],
            "image/png": "[encoded data removed]"
          },
          "metadata": {
            "needs_background": "light"
          }
        }
      ]
    },
    {
      "cell_type": "code",
      "source": [
        "print(adjusted_accuracy(confusion))"
      ],
      "metadata": {
        "id": "TBqsGSq37kYU",
        "outputId": "b31a1484-8346-4a3c-fbfd-04008becd94e",
        "colab": {
          "base_uri": "https://localhost:8080/"
        }
      },
      "execution_count": 2916,
      "outputs": [
        {
          "output_type": "stream",
          "name": "stdout",
          "text": [
            "0.47368421052631576\n"
          ]
        }
      ]
    },
    {
      "cell_type": "markdown",
      "source": [
        "# Random Forest Classifier"
      ],
      "metadata": {
        "id": "7uQRR-OUPFf4"
      }
    },
    {
      "cell_type": "code",
      "source": [
        "from sklearn.ensemble import RandomForestClassifier"
      ],
      "metadata": {
        "id": "1e3swz5a4cjB"
      },
      "execution_count": 2917,
      "outputs": []
    },
    {
      "cell_type": "code",
      "source": [
        "rf = RandomForestClassifier().fit(X_kbest,y_train)\n",
        "cv = cross_val_score(rf, X_kbest, y_train, cv = 5)\n",
        "print(cv)\n",
        "print(cv.mean())"
      ],
      "metadata": {
        "id": "qFZbWzKJ5BsW",
        "outputId": "ba924ed8-dcc5-4851-9da6-11dde07e1037",
        "colab": {
          "base_uri": "https://localhost:8080/"
        }
      },
      "execution_count": 2918,
      "outputs": [
        {
          "output_type": "stream",
          "name": "stdout",
          "text": [
            "[0.29761905 0.37724551 0.33532934 0.38922156 0.41916168]\n",
            "0.3637154262902766\n"
          ]
        }
      ]
    },
    {
      "cell_type": "code",
      "source": [
        "y_pred = rf.predict(X_test_kbest)"
      ],
      "metadata": {
        "id": "C8CUqYgs68pW"
      },
      "execution_count": 2919,
      "outputs": []
    },
    {
      "cell_type": "code",
      "source": [
        "from sklearn.metrics import confusion_matrix\n",
        "confusion = confusion_matrix(y_test, y_pred)\n",
        "print('Confusion Matrix:')\n",
        "print(confusion)"
      ],
      "metadata": {
        "colab": {
          "base_uri": "https://localhost:8080/"
        },
        "id": "S-DP3Ra65s8Y",
        "outputId": "8aec8e69-45a3-4494-ef8e-9aa313c0bb07"
      },
      "execution_count": 2920,
      "outputs": [
        {
          "output_type": "stream",
          "name": "stdout",
          "text": [
            "Confusion Matrix:\n",
            "[[40 19 27]\n",
            " [23 17 27]\n",
            " [12 15 29]]\n"
          ]
        }
      ]
    },
    {
      "cell_type": "code",
      "source": [
        "disp = ConfusionMatrixDisplay.from_estimator(\n",
        "        rf,\n",
        "        X_test_kbest,\n",
        "        y_test,\n",
        "        cmap=plt.cm.Blues,\n",
        "    )\n",
        "\n",
        "print(disp.confusion_matrix)"
      ],
      "metadata": {
        "colab": {
          "base_uri": "https://localhost:8080/",
          "height": 335
        },
        "id": "lafOi6CmSMBy",
        "outputId": "675c58a2-5585-4c4f-eaa3-5c0ad7fe5aaa"
      },
      "execution_count": 2921,
      "outputs": [
        {
          "output_type": "stream",
          "name": "stdout",
          "text": [
            "[[40 19 27]\n",
            " [23 17 27]\n",
            " [12 15 29]]\n"
          ]
        },
        {
          "output_type": "display_data",
          "data": {
            "text/plain": [
              "<Figure size 432x288 with 2 Axes>"
            ],
            "image/png": "[encoded data removed]"
          },
          "metadata": {
            "needs_background": "light"
          }
        }
      ]
    },
    {
      "cell_type": "code",
      "source": [
        "print(adjusted_accuracy(confusion))"
      ],
      "metadata": {
        "id": "QwxtxDY17mqm",
        "outputId": "d9d1a1a9-0566-4981-e350-3964fab30b7b",
        "colab": {
          "base_uri": "https://localhost:8080/"
        }
      },
      "execution_count": 2922,
      "outputs": [
        {
          "output_type": "stream",
          "name": "stdout",
          "text": [
            "0.5933014354066986\n"
          ]
        }
      ]
    },
    {
      "cell_type": "markdown",
      "source": [
        "# Gradient Boost Classifier"
      ],
      "metadata": {
        "id": "5cD71HlgALX-"
      }
    },
    {
      "cell_type": "code",
      "source": [
        "from sklearn.ensemble import GradientBoostingClassifier\n",
        "gb = GradientBoostingClassifier().fit(X_kbest,y_train)\n",
        "cv = cross_val_score(gb, X_kbest, y_train, cv = 5)\n",
        "print(cv)\n",
        "print(cv.mean())"
      ],
      "metadata": {
        "id": "zVXJEgOaANrD",
        "outputId": "931c6d5b-d51b-4846-8ffb-98c997aed594",
        "colab": {
          "base_uri": "https://localhost:8080/"
        }
      },
      "execution_count": 2923,
      "outputs": [
        {
          "output_type": "stream",
          "name": "stdout",
          "text": [
            "[0.30952381 0.36526946 0.35928144 0.29341317 0.38323353]\n",
            "0.3421442828628457\n"
          ]
        }
      ]
    },
    {
      "cell_type": "code",
      "source": [
        "y_pred = gb.predict(X_test_kbest)"
      ],
      "metadata": {
        "id": "AjdXdQNk0Zyr"
      },
      "execution_count": 2924,
      "outputs": []
    },
    {
      "cell_type": "code",
      "source": [
        "confusion = confusion_matrix(y_test, y_pred)\n",
        "print('Confusion Matrix:')\n",
        "print(confusion)"
      ],
      "metadata": {
        "colab": {
          "base_uri": "https://localhost:8080/"
        },
        "id": "L4NaZSht7Q4B",
        "outputId": "9b4e18cb-bb4a-4bbc-b4e0-7ef5c2f7ea51"
      },
      "execution_count": 2925,
      "outputs": [
        {
          "output_type": "stream",
          "name": "stdout",
          "text": [
            "Confusion Matrix:\n",
            "[[46  3 37]\n",
            " [24  2 41]\n",
            " [16  1 39]]\n"
          ]
        }
      ]
    },
    {
      "cell_type": "code",
      "source": [
        "disp = ConfusionMatrixDisplay.from_estimator(\n",
        "        gb,\n",
        "        X_test_kbest,\n",
        "        y_test,\n",
        "        cmap=plt.cm.Blues,\n",
        "    )\n",
        "\n",
        "print(disp.confusion_matrix)"
      ],
      "metadata": {
        "colab": {
          "base_uri": "https://localhost:8080/",
          "height": 331
        },
        "id": "2GTzypNiSTAt",
        "outputId": "252b0946-91b3-4875-deaf-70131679195b"
      },
      "execution_count": 2926,
      "outputs": [
        {
          "output_type": "stream",
          "name": "stdout",
          "text": [
            "[[46  3 37]\n",
            " [24  2 41]\n",
            " [16  1 39]]\n"
          ]
        },
        {
          "output_type": "display_data",
          "data": {
            "text/plain": [
              "<Figure size 432x288 with 2 Axes>"
            ],
            "image/png": "[encoded data removed]"
          },
          "metadata": {
            "needs_background": "light"
          }
        }
      ]
    },
    {
      "cell_type": "code",
      "source": [
        "print(adjusted_accuracy(confusion))"
      ],
      "metadata": {
        "id": "DSFwv-XX7oNW",
        "outputId": "0f664cbb-6d34-4855-e9d1-926e2312afeb",
        "colab": {
          "base_uri": "https://localhost:8080/"
        }
      },
      "execution_count": 2927,
      "outputs": [
        {
          "output_type": "stream",
          "name": "stdout",
          "text": [
            "0.5358851674641149\n"
          ]
        }
      ]
    },
    {
      "cell_type": "markdown",
      "source": [
        "KNN Classifier #2"
      ],
      "metadata": {
        "id": "SCghHWI-zWyA"
      }
    },
    {
      "cell_type": "code",
      "source": [
        "knn2 = KNeighborsClassifier(n_neighbors=10).fit(X_kbest, y_train)\n",
        "cv = cross_val_score(knn, X_kbest_knn, y_train, cv =5)\n",
        "print(cv)\n",
        "print(cv.mean())"
      ],
      "metadata": {
        "id": "Mn888ejozYeS",
        "outputId": "75bd3747-dd0f-4101-aecd-452fb34cbe59",
        "colab": {
          "base_uri": "https://localhost:8080/"
        }
      },
      "execution_count": 2928,
      "outputs": [
        {
          "output_type": "stream",
          "name": "stdout",
          "text": [
            "[0.32738095 0.38922156 0.4011976  0.36526946 0.38323353]\n",
            "0.373260621613915\n"
          ]
        }
      ]
    },
    {
      "cell_type": "code",
      "source": [
        "y_pred = knn2.predict(X_test_kbest)"
      ],
      "metadata": {
        "id": "b4vxQ-c51Uut"
      },
      "execution_count": 2929,
      "outputs": []
    },
    {
      "cell_type": "code",
      "source": [
        "confusion = confusion_matrix(y_test, y_pred)\n",
        "print('Confusion Matrix:')\n",
        "print(confusion)"
      ],
      "metadata": {
        "id": "BCdyX_Xo1d1G",
        "outputId": "c3737ba1-0d26-4c90-834b-7b7d6b137fee",
        "colab": {
          "base_uri": "https://localhost:8080/"
        }
      },
      "execution_count": 2930,
      "outputs": [
        {
          "output_type": "stream",
          "name": "stdout",
          "text": [
            "Confusion Matrix:\n",
            "[[45 17 24]\n",
            " [36 14 17]\n",
            " [24  8 24]]\n"
          ]
        }
      ]
    },
    {
      "cell_type": "code",
      "source": [
        "disp = ConfusionMatrixDisplay.from_estimator(\n",
        "        knn2,\n",
        "        X_test_kbest,\n",
        "        y_test,\n",
        "        cmap=plt.cm.Blues,\n",
        "    )\n",
        "\n",
        "print(disp.confusion_matrix)"
      ],
      "metadata": {
        "id": "WvjT806i1f_q",
        "outputId": "22b2a7e5-840b-4ccc-c14a-39ed5e4174f8",
        "colab": {
          "base_uri": "https://localhost:8080/",
          "height": 335
        }
      },
      "execution_count": 2931,
      "outputs": [
        {
          "output_type": "stream",
          "name": "stdout",
          "text": [
            "[[45 17 24]\n",
            " [36 14 17]\n",
            " [24  8 24]]\n"
          ]
        },
        {
          "output_type": "display_data",
          "data": {
            "text/plain": [
              "<Figure size 432x288 with 2 Axes>"
            ],
            "image/png": "[encoded data removed]"
          },
          "metadata": {
            "needs_background": "light"
          }
        }
      ]
    },
    {
      "cell_type": "code",
      "source": [
        "print(adjusted_accuracy(confusion))"
      ],
      "metadata": {
        "id": "VqZrBLP67p4T",
        "outputId": "32e6bfea-31cc-4ca9-f0f6-f6e96b0e5a19",
        "colab": {
          "base_uri": "https://localhost:8080/"
        }
      },
      "execution_count": 2932,
      "outputs": [
        {
          "output_type": "stream",
          "name": "stdout",
          "text": [
            "0.6076555023923444\n"
          ]
        }
      ]
    },
    {
      "cell_type": "markdown",
      "source": [
        "# Neural Network Multiclass classifier (TensorFlow)\n",
        "- Experiment by changing number of hidden layers and activation functions (sigmoid, relu, softmax)\n",
        "- Change number of epochs and add more hidden layers\n",
        "- Size of input = number of features in the dataset\n",
        "- Size of output = number of classes in the multiclass classification problem"
      ],
      "metadata": {
        "id": "lDY2X1RoOiom"
      }
    },
    {
      "cell_type": "code",
      "source": [
        "import tensorflow as tf\n",
        "from tensorflow import keras\n",
        "from sklearn.model_selection import train_test_split\n",
        "\n",
        "from tensorflow.keras.models import Sequential\n",
        "from tensorflow.keras.layers import Activation, Dense, BatchNormalization, Dropout\n",
        "from tensorflow.keras import optimizers\n",
        "import matplotlib.pyplot as plt\n",
        "import numpy as np \n",
        "import pandas as pd\n",
        "import seaborn as sns"
      ],
      "metadata": {
        "id": "3Ny9rjjb4d-x"
      },
      "execution_count": 2933,
      "outputs": []
    },
    {
      "cell_type": "markdown",
      "source": [
        "# Voting Classifier"
      ],
      "metadata": {
        "id": "kIvL7ZNa_bAt"
      }
    },
    {
      "cell_type": "code",
      "source": [
        "from sklearn.ensemble import VotingClassifier"
      ],
      "metadata": {
        "id": "NLgZnShb_cpg"
      },
      "execution_count": 2934,
      "outputs": []
    }
  ]
}