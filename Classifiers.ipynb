{
  "nbformat": 4,
  "nbformat_minor": 0,
  "metadata": {
    "colab": {
      "name": "Classifiers.ipynb",
      "provenance": [],
      "collapsed_sections": [],
      "authorship_tag": "ABX9TyPeMJti1eKgK1gv54tKxk6E",
      "include_colab_link": true
    },
    "kernelspec": {
      "name": "python3",
      "display_name": "Python 3"
    },
    "language_info": {
      "name": "python"
    }
  },
  "cells": [
    {
      "cell_type": "markdown",
      "metadata": {
        "id": "view-in-github",
        "colab_type": "text"
      },
      "source": [
        "<a href=\"https://colab.research.google.com/github/mnocerino23/Wildfire-Forecaster/blob/main/Classifiers.ipynb\" target=\"_parent\"><img src=\"https://colab.research.google.com/assets/colab-badge.svg\" alt=\"Open In Colab\"/></a>"
      ]
    },
    {
      "cell_type": "code",
      "source": [
        "import sklearn\n",
        "import numpy as np\n",
        "import pandas as pd"
      ],
      "metadata": {
        "id": "LBOYXOy032n7"
      },
      "execution_count": 47,
      "outputs": []
    },
    {
      "cell_type": "code",
      "source": [
        "from sklearn import preprocessing\n",
        "from sklearn.preprocessing import MinMaxScaler"
      ],
      "metadata": {
        "id": "kebkzKqcADoB"
      },
      "execution_count": 48,
      "outputs": []
    },
    {
      "cell_type": "markdown",
      "source": [
        "Address Null Values and Data Smoothing"
      ],
      "metadata": {
        "id": "W1pLJsIC3qMj"
      }
    },
    {
      "cell_type": "markdown",
      "source": [
        "One-hot encode categorical features (e.g. Month discovered)"
      ],
      "metadata": {
        "id": "wDc2L8Va6C6Q"
      }
    },
    {
      "cell_type": "markdown",
      "source": [
        "Bar Charts and Class Definition"
      ],
      "metadata": {
        "id": "MyFlviYl3n8y"
      }
    },
    {
      "cell_type": "markdown",
      "source": [
        "Split the data into train-test sets"
      ],
      "metadata": {
        "id": "FemK64fS3i80"
      }
    },
    {
      "cell_type": "code",
      "source": [
        "from sklearn.model_selection import train_test_split, cross_val_score\n",
        "from sklearn.metrics import accuracy_score, confusion_matrix, precision_score, recall_score, f1_score"
      ],
      "metadata": {
        "id": "17tarEVX4UxK"
      },
      "execution_count": 49,
      "outputs": []
    },
    {
      "cell_type": "markdown",
      "source": [
        "Normalize data using min-max-scalar after splitting into train and test"
      ],
      "metadata": {
        "id": "w30t2GCT4t5I"
      }
    },
    {
      "cell_type": "markdown",
      "source": [
        "Feature Selection"
      ],
      "metadata": {
        "id": "WMrEnmGD3Yiw"
      }
    },
    {
      "cell_type": "code",
      "source": [
        "from sklearn.feature_selection import RFE, SelectKBest"
      ],
      "metadata": {
        "id": "y2gUWnG9401o"
      },
      "execution_count": 50,
      "outputs": []
    },
    {
      "cell_type": "markdown",
      "source": [
        "Cross-Validation"
      ],
      "metadata": {
        "id": "vUHapaAC3Zeq"
      }
    },
    {
      "cell_type": "markdown",
      "source": [
        "Model Building:"
      ],
      "metadata": {
        "id": "8n4zyV0H3x1M"
      }
    },
    {
      "cell_type": "markdown",
      "source": [
        "SVM Classifier"
      ],
      "metadata": {
        "id": "KKPp8fjfOgNv"
      }
    },
    {
      "cell_type": "code",
      "source": [
        "from sklearn import svm\n",
        "from sklearn.svm import SVC"
      ],
      "metadata": {
        "id": "zMne7LwO4Ggz"
      },
      "execution_count": 51,
      "outputs": []
    },
    {
      "cell_type": "markdown",
      "source": [
        "KNN Classifier"
      ],
      "metadata": {
        "id": "L-gpnPT1OiRE"
      }
    },
    {
      "cell_type": "code",
      "source": [
        "from sklearn.neighbors import KNeighborsClassifier"
      ],
      "metadata": {
        "id": "4PBInVf64DwC"
      },
      "execution_count": 52,
      "outputs": []
    },
    {
      "cell_type": "markdown",
      "source": [
        "Naive Bayes Classifier"
      ],
      "metadata": {
        "id": "Jk9d4KL5POqf"
      }
    },
    {
      "cell_type": "code",
      "source": [
        "from sklearn.naive_bayes import GaussianNB"
      ],
      "metadata": {
        "id": "y8Cdb-uN4bYf"
      },
      "execution_count": 53,
      "outputs": []
    },
    {
      "cell_type": "markdown",
      "source": [
        "Decision Tree Classifier"
      ],
      "metadata": {
        "id": "9TqkiZUsOqL-"
      }
    },
    {
      "cell_type": "code",
      "source": [
        "from sklearn import tree\n",
        "from sklearn.tree import DecisionTreeClassifier"
      ],
      "metadata": {
        "id": "jhXmB_ql4b65"
      },
      "execution_count": 54,
      "outputs": []
    },
    {
      "cell_type": "markdown",
      "source": [
        "Random Forest Classifier"
      ],
      "metadata": {
        "id": "7uQRR-OUPFf4"
      }
    },
    {
      "cell_type": "code",
      "source": [
        "from sklearn.ensemble import RandomForestClassifier"
      ],
      "metadata": {
        "id": "1e3swz5a4cjB"
      },
      "execution_count": 55,
      "outputs": []
    },
    {
      "cell_type": "markdown",
      "source": [
        "Gradient Boost Classifier"
      ],
      "metadata": {
        "id": "5cD71HlgALX-"
      }
    },
    {
      "cell_type": "code",
      "source": [
        "from sklearn.ensemble import GradientBoostingClassifier"
      ],
      "metadata": {
        "id": "zVXJEgOaANrD"
      },
      "execution_count": 56,
      "outputs": []
    },
    {
      "cell_type": "markdown",
      "source": [
        "Neural Network Multiclass classifier (TensorFlow)\n",
        "- Experiment by changing number of hidden layers and activation functions (sigmoid, relu, softmax)\n",
        "- Change number of epochs and add more hidden layers\n",
        "- Size of input = number of features in the dataset\n",
        "- Size of output = number of classes in the multiclass classification problem"
      ],
      "metadata": {
        "id": "lDY2X1RoOiom"
      }
    },
    {
      "cell_type": "code",
      "source": [
        "import tensorflow as tf\n",
        "from tensorflow import keras\n",
        "from sklearn.model_selection import train_test_split\n",
        "\n",
        "from tensorflow.keras.models import Sequential\n",
        "from tensorflow.keras.layers import Activation, Dense, BatchNormalization, Dropout\n",
        "from tensorflow.keras import optimizers\n",
        "import matplotlib.pyplot as plt\n",
        "import numpy as np \n",
        "import pandas as pd\n",
        "import seaborn as sns"
      ],
      "metadata": {
        "id": "3Ny9rjjb4d-x"
      },
      "execution_count": 57,
      "outputs": []
    },
    {
      "cell_type": "markdown",
      "source": [
        "Voting Classifier"
      ],
      "metadata": {
        "id": "kIvL7ZNa_bAt"
      }
    },
    {
      "cell_type": "code",
      "source": [
        "from sklearn.ensemble import VotingClassifier"
      ],
      "metadata": {
        "id": "NLgZnShb_cpg"
      },
      "execution_count": 58,
      "outputs": []
    }
  ]
}