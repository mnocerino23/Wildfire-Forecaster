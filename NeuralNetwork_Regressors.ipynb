{
  "nbformat": 4,
  "nbformat_minor": 0,
  "metadata": {
    "colab": {
      "name": "NeuralNetwork_Regressors.ipynb",
      "provenance": [],
      "collapsed_sections": [],
      "authorship_tag": "ABX9TyMQBjAqdGeuJ1ZCp2bDWVtV",
      "include_colab_link": true
    },
    "kernelspec": {
      "name": "python3",
      "display_name": "Python 3"
    },
    "language_info": {
      "name": "python"
    }
  },
  "cells": [
    {
      "cell_type": "markdown",
      "metadata": {
        "id": "view-in-github",
        "colab_type": "text"
      },
      "source": [
        "<a href=\"https://colab.research.google.com/github/mnocerino23/Wildfire-Forecaster/blob/main/NeuralNetwork_Regressors.ipynb\" target=\"_parent\"><img src=\"https://colab.research.google.com/assets/colab-badge.svg\" alt=\"Open In Colab\"/></a>"
      ]
    },
    {
      "cell_type": "markdown",
      "source": [
        "As the classification models have had some difficulties classifying the fires accurately, we will attempt to build regression models (on Acres Burned feature) instead and see if these have more success.\n",
        "\n",
        "I will deploy the following techniques:\n",
        "\n",
        "1.   One-Hot Encoding of Categorical Variables\n",
        "2.   Splitting the Training and Testing data\n",
        "3.   Feature Selection\n",
        "4.   Normalize Data\n",
        "5.   Regressions\n",
        "\n",
        "\n"
      ],
      "metadata": {
        "id": "3ZZd1_RsEVIP"
      }
    },
    {
      "cell_type": "code",
      "source": [
        "import numpy as np\n",
        "import pandas as pd\n",
        "\n",
        "from google.colab import drive\n",
        "drive.mount('/content/drive')\n",
        "\n",
        "#Read in the smaller of the final datasets. The dataset contains around 1200 fires from 2016-2019\n",
        "wildfire_set1 = pd.read_csv('/content/drive/MyDrive/Data_Science_Projects/Wildfires/wildfire_set1_w_allfeatures.csv')"
      ],
      "metadata": {
        "colab": {
          "base_uri": "https://localhost:8080/"
        },
        "id": "NFzMd74aBEyq",
        "outputId": "04620565-9dac-4815-8e29-46a37893edc9"
      },
      "execution_count": 188,
      "outputs": [
        {
          "output_type": "stream",
          "name": "stdout",
          "text": [
            "Drive already mounted at /content/drive; to attempt to forcibly remount, call drive.mount(\"/content/drive\", force_remount=True).\n"
          ]
        },
        {
          "output_type": "stream",
          "name": "stderr",
          "text": [
            "/usr/local/lib/python3.7/dist-packages/IPython/core/interactiveshell.py:2882: DtypeWarning: Columns (10) have mixed types.Specify dtype option on import or set low_memory=False.\n",
            "  exec(code_obj, self.user_global_ns, self.user_ns)\n"
          ]
        }
      ]
    },
    {
      "cell_type": "code",
      "source": [
        "wildfire_set1.head()"
      ],
      "metadata": {
        "colab": {
          "base_uri": "https://localhost:8080/",
          "height": 369
        },
        "id": "bkwikHWNCUk5",
        "outputId": "f9bd3202-25e2-4f58-f4d5-817a5d90c8f8"
      },
      "execution_count": 189,
      "outputs": [
        {
          "output_type": "execute_result",
          "data": {
            "text/plain": [
              "   Unnamed: 0  Year      Name  AcresBurned Fire Size Rank           Cause  \\\n",
              "0           0  2005  FOUNTAIN         0.10              A   Miscellaneous   \n",
              "1           1  2004    PIGEON         0.25              A       Lightning   \n",
              "2           2  2004     SLACK         0.10              A  Debris Burning   \n",
              "3           3  2004      DEER         0.10              A       Lightning   \n",
              "4           4  2004  STEVENOT         0.10              A       Lightning   \n",
              "\n",
              "  SOURCE_REPORTING_UNIT_NAME  DaysBurn Discovery Month  Discovered DOY  ...  \\\n",
              "0     Plumas National Forest       1.0             Feb            33.0  ...   \n",
              "1   Eldorado National Forest       1.0             May           133.0  ...   \n",
              "2   Eldorado National Forest       1.0             Jun           152.0  ...   \n",
              "3   Eldorado National Forest       5.0             Jun           180.0  ...   \n",
              "4   Eldorado National Forest       5.0             Jun           180.0  ...   \n",
              "\n",
              "  DX90_2M  DP10_2M  Receives Snow  Snow Station River Basin  Mar_SP Mar_WC  \\\n",
              "0     0.0     19.0            1.0   eureka_lake     Feather    79.6   34.0   \n",
              "1     0.0      3.0            1.0  ward_creek_2  Lake Tahoe   108.6   38.1   \n",
              "2     0.0     11.0            1.0  ward_creek_2  Lake Tahoe   108.6   38.1   \n",
              "3     0.0      3.0            1.0   echo_summit    American    87.2   28.4   \n",
              "4     0.0      3.0            1.0   echo_summit    American    87.2   28.4   \n",
              "\n",
              "  Mar_Dens Has_Elevation  Elevation  \n",
              "0     0.43             1  2965.8432  \n",
              "1     0.35             1  6207.2736  \n",
              "2     0.35             1  3454.6824  \n",
              "3     0.33             1  7759.0920  \n",
              "4     0.33             1  7598.3328  \n",
              "\n",
              "[5 rows x 40 columns]"
            ],
            "text/html": [
              "\n",
              "  <div id=\"df-5f447fa0-23a2-445c-a91b-ea62fba7018e\">\n",
              "    <div class=\"colab-df-container\">\n",
              "      <div>\n",
              "<style scoped>\n",
              "    .dataframe tbody tr th:only-of-type {\n",
              "        vertical-align: middle;\n",
              "    }\n",
              "\n",
              "    .dataframe tbody tr th {\n",
              "        vertical-align: top;\n",
              "    }\n",
              "\n",
              "    .dataframe thead th {\n",
              "        text-align: right;\n",
              "    }\n",
              "</style>\n",
              "<table border=\"1\" class=\"dataframe\">\n",
              "  <thead>\n",
              "    <tr style=\"text-align: right;\">\n",
              "      <th></th>\n",
              "      <th>Unnamed: 0</th>\n",
              "      <th>Year</th>\n",
              "      <th>Name</th>\n",
              "      <th>AcresBurned</th>\n",
              "      <th>Fire Size Rank</th>\n",
              "      <th>Cause</th>\n",
              "      <th>SOURCE_REPORTING_UNIT_NAME</th>\n",
              "      <th>DaysBurn</th>\n",
              "      <th>Discovery Month</th>\n",
              "      <th>Discovered DOY</th>\n",
              "      <th>...</th>\n",
              "      <th>DX90_2M</th>\n",
              "      <th>DP10_2M</th>\n",
              "      <th>Receives Snow</th>\n",
              "      <th>Snow Station</th>\n",
              "      <th>River Basin</th>\n",
              "      <th>Mar_SP</th>\n",
              "      <th>Mar_WC</th>\n",
              "      <th>Mar_Dens</th>\n",
              "      <th>Has_Elevation</th>\n",
              "      <th>Elevation</th>\n",
              "    </tr>\n",
              "  </thead>\n",
              "  <tbody>\n",
              "    <tr>\n",
              "      <th>0</th>\n",
              "      <td>0</td>\n",
              "      <td>2005</td>\n",
              "      <td>FOUNTAIN</td>\n",
              "      <td>0.10</td>\n",
              "      <td>A</td>\n",
              "      <td>Miscellaneous</td>\n",
              "      <td>Plumas National Forest</td>\n",
              "      <td>1.0</td>\n",
              "      <td>Feb</td>\n",
              "      <td>33.0</td>\n",
              "      <td>...</td>\n",
              "      <td>0.0</td>\n",
              "      <td>19.0</td>\n",
              "      <td>1.0</td>\n",
              "      <td>eureka_lake</td>\n",
              "      <td>Feather</td>\n",
              "      <td>79.6</td>\n",
              "      <td>34.0</td>\n",
              "      <td>0.43</td>\n",
              "      <td>1</td>\n",
              "      <td>2965.8432</td>\n",
              "    </tr>\n",
              "    <tr>\n",
              "      <th>1</th>\n",
              "      <td>1</td>\n",
              "      <td>2004</td>\n",
              "      <td>PIGEON</td>\n",
              "      <td>0.25</td>\n",
              "      <td>A</td>\n",
              "      <td>Lightning</td>\n",
              "      <td>Eldorado National Forest</td>\n",
              "      <td>1.0</td>\n",
              "      <td>May</td>\n",
              "      <td>133.0</td>\n",
              "      <td>...</td>\n",
              "      <td>0.0</td>\n",
              "      <td>3.0</td>\n",
              "      <td>1.0</td>\n",
              "      <td>ward_creek_2</td>\n",
              "      <td>Lake Tahoe</td>\n",
              "      <td>108.6</td>\n",
              "      <td>38.1</td>\n",
              "      <td>0.35</td>\n",
              "      <td>1</td>\n",
              "      <td>6207.2736</td>\n",
              "    </tr>\n",
              "    <tr>\n",
              "      <th>2</th>\n",
              "      <td>2</td>\n",
              "      <td>2004</td>\n",
              "      <td>SLACK</td>\n",
              "      <td>0.10</td>\n",
              "      <td>A</td>\n",
              "      <td>Debris Burning</td>\n",
              "      <td>Eldorado National Forest</td>\n",
              "      <td>1.0</td>\n",
              "      <td>Jun</td>\n",
              "      <td>152.0</td>\n",
              "      <td>...</td>\n",
              "      <td>0.0</td>\n",
              "      <td>11.0</td>\n",
              "      <td>1.0</td>\n",
              "      <td>ward_creek_2</td>\n",
              "      <td>Lake Tahoe</td>\n",
              "      <td>108.6</td>\n",
              "      <td>38.1</td>\n",
              "      <td>0.35</td>\n",
              "      <td>1</td>\n",
              "      <td>3454.6824</td>\n",
              "    </tr>\n",
              "    <tr>\n",
              "      <th>3</th>\n",
              "      <td>3</td>\n",
              "      <td>2004</td>\n",
              "      <td>DEER</td>\n",
              "      <td>0.10</td>\n",
              "      <td>A</td>\n",
              "      <td>Lightning</td>\n",
              "      <td>Eldorado National Forest</td>\n",
              "      <td>5.0</td>\n",
              "      <td>Jun</td>\n",
              "      <td>180.0</td>\n",
              "      <td>...</td>\n",
              "      <td>0.0</td>\n",
              "      <td>3.0</td>\n",
              "      <td>1.0</td>\n",
              "      <td>echo_summit</td>\n",
              "      <td>American</td>\n",
              "      <td>87.2</td>\n",
              "      <td>28.4</td>\n",
              "      <td>0.33</td>\n",
              "      <td>1</td>\n",
              "      <td>7759.0920</td>\n",
              "    </tr>\n",
              "    <tr>\n",
              "      <th>4</th>\n",
              "      <td>4</td>\n",
              "      <td>2004</td>\n",
              "      <td>STEVENOT</td>\n",
              "      <td>0.10</td>\n",
              "      <td>A</td>\n",
              "      <td>Lightning</td>\n",
              "      <td>Eldorado National Forest</td>\n",
              "      <td>5.0</td>\n",
              "      <td>Jun</td>\n",
              "      <td>180.0</td>\n",
              "      <td>...</td>\n",
              "      <td>0.0</td>\n",
              "      <td>3.0</td>\n",
              "      <td>1.0</td>\n",
              "      <td>echo_summit</td>\n",
              "      <td>American</td>\n",
              "      <td>87.2</td>\n",
              "      <td>28.4</td>\n",
              "      <td>0.33</td>\n",
              "      <td>1</td>\n",
              "      <td>7598.3328</td>\n",
              "    </tr>\n",
              "  </tbody>\n",
              "</table>\n",
              "<p>5 rows × 40 columns</p>\n",
              "</div>\n",
              "      <button class=\"colab-df-convert\" onclick=\"convertToInteractive('df-5f447fa0-23a2-445c-a91b-ea62fba7018e')\"\n",
              "              title=\"Convert this dataframe to an interactive table.\"\n",
              "              style=\"display:none;\">\n",
              "        \n",
              "  <svg xmlns=\"http://www.w3.org/2000/svg\" height=\"24px\"viewBox=\"0 0 24 24\"\n",
              "       width=\"24px\">\n",
              "    <path d=\"M0 0h24v24H0V0z\" fill=\"none\"/>\n",
              "    <path d=\"M18.56 5.44l.94 2.06.94-2.06 2.06-.94-2.06-.94-.94-2.06-.94 2.06-2.06.94zm-11 1L8.5 8.5l.94-2.06 2.06-.94-2.06-.94L8.5 2.5l-.94 2.06-2.06.94zm10 10l.94 2.06.94-2.06 2.06-.94-2.06-.94-.94-2.06-.94 2.06-2.06.94z\"/><path d=\"M17.41 7.96l-1.37-1.37c-.4-.4-.92-.59-1.43-.59-.52 0-1.04.2-1.43.59L10.3 9.45l-7.72 7.72c-.78.78-.78 2.05 0 2.83L4 21.41c.39.39.9.59 1.41.59.51 0 1.02-.2 1.41-.59l7.78-7.78 2.81-2.81c.8-.78.8-2.07 0-2.86zM5.41 20L4 18.59l7.72-7.72 1.47 1.35L5.41 20z\"/>\n",
              "  </svg>\n",
              "      </button>\n",
              "      \n",
              "  <style>\n",
              "    .colab-df-container {\n",
              "      display:flex;\n",
              "      flex-wrap:wrap;\n",
              "      gap: 12px;\n",
              "    }\n",
              "\n",
              "    .colab-df-convert {\n",
              "      background-color: #E8F0FE;\n",
              "      border: none;\n",
              "      border-radius: 50%;\n",
              "      cursor: pointer;\n",
              "      display: none;\n",
              "      fill: #1967D2;\n",
              "      height: 32px;\n",
              "      padding: 0 0 0 0;\n",
              "      width: 32px;\n",
              "    }\n",
              "\n",
              "    .colab-df-convert:hover {\n",
              "      background-color: #E2EBFA;\n",
              "      box-shadow: 0px 1px 2px rgba(60, 64, 67, 0.3), 0px 1px 3px 1px rgba(60, 64, 67, 0.15);\n",
              "      fill: #174EA6;\n",
              "    }\n",
              "\n",
              "    [theme=dark] .colab-df-convert {\n",
              "      background-color: #3B4455;\n",
              "      fill: #D2E3FC;\n",
              "    }\n",
              "\n",
              "    [theme=dark] .colab-df-convert:hover {\n",
              "      background-color: #434B5C;\n",
              "      box-shadow: 0px 1px 3px 1px rgba(0, 0, 0, 0.15);\n",
              "      filter: drop-shadow(0px 1px 2px rgba(0, 0, 0, 0.3));\n",
              "      fill: #FFFFFF;\n",
              "    }\n",
              "  </style>\n",
              "\n",
              "      <script>\n",
              "        const buttonEl =\n",
              "          document.querySelector('#df-5f447fa0-23a2-445c-a91b-ea62fba7018e button.colab-df-convert');\n",
              "        buttonEl.style.display =\n",
              "          google.colab.kernel.accessAllowed ? 'block' : 'none';\n",
              "\n",
              "        async function convertToInteractive(key) {\n",
              "          const element = document.querySelector('#df-5f447fa0-23a2-445c-a91b-ea62fba7018e');\n",
              "          const dataTable =\n",
              "            await google.colab.kernel.invokeFunction('convertToInteractive',\n",
              "                                                     [key], {});\n",
              "          if (!dataTable) return;\n",
              "\n",
              "          const docLinkHtml = 'Like what you see? Visit the ' +\n",
              "            '<a target=\"_blank\" href=https://colab.research.google.com/notebooks/data_table.ipynb>data table notebook</a>'\n",
              "            + ' to learn more about interactive tables.';\n",
              "          element.innerHTML = '';\n",
              "          dataTable['output_type'] = 'display_data';\n",
              "          await google.colab.output.renderOutput(dataTable, element);\n",
              "          const docLink = document.createElement('div');\n",
              "          docLink.innerHTML = docLinkHtml;\n",
              "          element.appendChild(docLink);\n",
              "        }\n",
              "      </script>\n",
              "    </div>\n",
              "  </div>\n",
              "  "
            ]
          },
          "metadata": {},
          "execution_count": 189
        }
      ]
    },
    {
      "cell_type": "code",
      "source": [
        "print(wildfire_set1.columns)"
      ],
      "metadata": {
        "id": "2tZQjtnlUWkw",
        "outputId": "e5a01af3-e943-4ee1-f46e-977f8adb54af",
        "colab": {
          "base_uri": "https://localhost:8080/"
        }
      },
      "execution_count": 190,
      "outputs": [
        {
          "output_type": "stream",
          "name": "stdout",
          "text": [
            "Index(['Unnamed: 0', 'Year', 'Name', 'AcresBurned', 'Fire Size Rank', 'Cause',\n",
            "       'SOURCE_REPORTING_UNIT_NAME', 'DaysBurn', 'Discovery Month',\n",
            "       'Discovered DOY', 'Contained Month', 'Contained DOY', 'Latitude',\n",
            "       'Longitude', 'County', 'CountyIds', 'State', 'OWNER_DESCR',\n",
            "       'NOAA Station', 'Link', 'AWND', 'CLDD', 'DP10', 'DX90', 'PRCP', 'TAVG',\n",
            "       'TMAX', 'TMIN', 'PRCP_6M', 'PRCP_RS', 'DX90_2M', 'DP10_2M',\n",
            "       'Receives Snow', 'Snow Station', 'River Basin', 'Mar_SP', 'Mar_WC',\n",
            "       'Mar_Dens', 'Has_Elevation', 'Elevation'],\n",
            "      dtype='object')\n"
          ]
        }
      ]
    },
    {
      "cell_type": "markdown",
      "source": [
        "Drop all columns that will not be relevant for our regression task:Unnamed: 0, Year, Name, Cause, SOURCE_REPORTING UNIT NAME, DaysBurn, Discovered DOY, Contained Month, Contained DOY, Lat, Long, County Ids, State, OWNER_DESCR, NOAA Station, Link, Snow Station, River Basin"
      ],
      "metadata": {
        "id": "nReNUm94Bsb_"
      }
    },
    {
      "cell_type": "code",
      "source": [
        "wildfire_set1.drop(columns = ['Unnamed: 0', 'Year', 'Name', 'Cause', 'Fire Size Rank',\n",
        "                      'SOURCE_REPORTING_UNIT_NAME', 'DaysBurn','Contained Month', 'Discovered DOY',\n",
        "                      'Contained DOY','Latitude','Longitude','County','CountyIds','State','OWNER_DESCR',\n",
        "                      'NOAA Station', 'Link', 'Snow Station', 'River Basin','Has_Elevation'], inplace = True)"
      ],
      "metadata": {
        "id": "1q_TyyMvElgd"
      },
      "execution_count": 191,
      "outputs": []
    },
    {
      "cell_type": "markdown",
      "source": [
        "Taking a look at the dataset now that we have dropped the nonrelevant columns"
      ],
      "metadata": {
        "id": "-q4nd7s8BYpV"
      }
    },
    {
      "cell_type": "code",
      "source": [
        "wildfire_set1.head(5)"
      ],
      "metadata": {
        "id": "tjwTdwNlJdQP",
        "colab": {
          "base_uri": "https://localhost:8080/",
          "height": 287
        },
        "outputId": "a717e448-04a5-45ae-f320-063dd86f2f76"
      },
      "execution_count": 192,
      "outputs": [
        {
          "output_type": "execute_result",
          "data": {
            "text/plain": [
              "   AcresBurned Discovery Month  AWND  CLDD  DP10  DX90  PRCP  TAVG  TMAX  \\\n",
              "0         0.10             Feb   5.6   0.0  12.0   0.0  5.33  38.9  43.9   \n",
              "1         0.25             May   6.9   0.0   2.0   0.0  0.81  47.3  63.0   \n",
              "2         0.10             Jun   5.6  36.0   0.0   0.0  0.00  63.1  70.2   \n",
              "3         0.10             Jun   5.6   0.0   1.0   0.0  0.29  54.7  72.9   \n",
              "4         0.10             Jun   5.6   0.0   1.0   0.0  0.29  54.7  72.9   \n",
              "\n",
              "   TMIN  PRCP_6M  PRCP_RS  DX90_2M  DP10_2M  Receives Snow  Mar_SP  Mar_WC  \\\n",
              "0  33.9    27.89    49.06      0.0     19.0            1.0    79.6    34.0   \n",
              "1  31.6    14.37    14.76      0.0      3.0            1.0   108.6    38.1   \n",
              "2  56.0    36.71    40.37      0.0     11.0            1.0   108.6    38.1   \n",
              "3  36.5    13.63    14.76      0.0      3.0            1.0    87.2    28.4   \n",
              "4  36.5    13.63    14.76      0.0      3.0            1.0    87.2    28.4   \n",
              "\n",
              "   Mar_Dens  Elevation  \n",
              "0      0.43  2965.8432  \n",
              "1      0.35  6207.2736  \n",
              "2      0.35  3454.6824  \n",
              "3      0.33  7759.0920  \n",
              "4      0.33  7598.3328  "
            ],
            "text/html": [
              "\n",
              "  <div id=\"df-561c9844-45bd-487b-bf1c-9966c8a8242c\">\n",
              "    <div class=\"colab-df-container\">\n",
              "      <div>\n",
              "<style scoped>\n",
              "    .dataframe tbody tr th:only-of-type {\n",
              "        vertical-align: middle;\n",
              "    }\n",
              "\n",
              "    .dataframe tbody tr th {\n",
              "        vertical-align: top;\n",
              "    }\n",
              "\n",
              "    .dataframe thead th {\n",
              "        text-align: right;\n",
              "    }\n",
              "</style>\n",
              "<table border=\"1\" class=\"dataframe\">\n",
              "  <thead>\n",
              "    <tr style=\"text-align: right;\">\n",
              "      <th></th>\n",
              "      <th>AcresBurned</th>\n",
              "      <th>Discovery Month</th>\n",
              "      <th>AWND</th>\n",
              "      <th>CLDD</th>\n",
              "      <th>DP10</th>\n",
              "      <th>DX90</th>\n",
              "      <th>PRCP</th>\n",
              "      <th>TAVG</th>\n",
              "      <th>TMAX</th>\n",
              "      <th>TMIN</th>\n",
              "      <th>PRCP_6M</th>\n",
              "      <th>PRCP_RS</th>\n",
              "      <th>DX90_2M</th>\n",
              "      <th>DP10_2M</th>\n",
              "      <th>Receives Snow</th>\n",
              "      <th>Mar_SP</th>\n",
              "      <th>Mar_WC</th>\n",
              "      <th>Mar_Dens</th>\n",
              "      <th>Elevation</th>\n",
              "    </tr>\n",
              "  </thead>\n",
              "  <tbody>\n",
              "    <tr>\n",
              "      <th>0</th>\n",
              "      <td>0.10</td>\n",
              "      <td>Feb</td>\n",
              "      <td>5.6</td>\n",
              "      <td>0.0</td>\n",
              "      <td>12.0</td>\n",
              "      <td>0.0</td>\n",
              "      <td>5.33</td>\n",
              "      <td>38.9</td>\n",
              "      <td>43.9</td>\n",
              "      <td>33.9</td>\n",
              "      <td>27.89</td>\n",
              "      <td>49.06</td>\n",
              "      <td>0.0</td>\n",
              "      <td>19.0</td>\n",
              "      <td>1.0</td>\n",
              "      <td>79.6</td>\n",
              "      <td>34.0</td>\n",
              "      <td>0.43</td>\n",
              "      <td>2965.8432</td>\n",
              "    </tr>\n",
              "    <tr>\n",
              "      <th>1</th>\n",
              "      <td>0.25</td>\n",
              "      <td>May</td>\n",
              "      <td>6.9</td>\n",
              "      <td>0.0</td>\n",
              "      <td>2.0</td>\n",
              "      <td>0.0</td>\n",
              "      <td>0.81</td>\n",
              "      <td>47.3</td>\n",
              "      <td>63.0</td>\n",
              "      <td>31.6</td>\n",
              "      <td>14.37</td>\n",
              "      <td>14.76</td>\n",
              "      <td>0.0</td>\n",
              "      <td>3.0</td>\n",
              "      <td>1.0</td>\n",
              "      <td>108.6</td>\n",
              "      <td>38.1</td>\n",
              "      <td>0.35</td>\n",
              "      <td>6207.2736</td>\n",
              "    </tr>\n",
              "    <tr>\n",
              "      <th>2</th>\n",
              "      <td>0.10</td>\n",
              "      <td>Jun</td>\n",
              "      <td>5.6</td>\n",
              "      <td>36.0</td>\n",
              "      <td>0.0</td>\n",
              "      <td>0.0</td>\n",
              "      <td>0.00</td>\n",
              "      <td>63.1</td>\n",
              "      <td>70.2</td>\n",
              "      <td>56.0</td>\n",
              "      <td>36.71</td>\n",
              "      <td>40.37</td>\n",
              "      <td>0.0</td>\n",
              "      <td>11.0</td>\n",
              "      <td>1.0</td>\n",
              "      <td>108.6</td>\n",
              "      <td>38.1</td>\n",
              "      <td>0.35</td>\n",
              "      <td>3454.6824</td>\n",
              "    </tr>\n",
              "    <tr>\n",
              "      <th>3</th>\n",
              "      <td>0.10</td>\n",
              "      <td>Jun</td>\n",
              "      <td>5.6</td>\n",
              "      <td>0.0</td>\n",
              "      <td>1.0</td>\n",
              "      <td>0.0</td>\n",
              "      <td>0.29</td>\n",
              "      <td>54.7</td>\n",
              "      <td>72.9</td>\n",
              "      <td>36.5</td>\n",
              "      <td>13.63</td>\n",
              "      <td>14.76</td>\n",
              "      <td>0.0</td>\n",
              "      <td>3.0</td>\n",
              "      <td>1.0</td>\n",
              "      <td>87.2</td>\n",
              "      <td>28.4</td>\n",
              "      <td>0.33</td>\n",
              "      <td>7759.0920</td>\n",
              "    </tr>\n",
              "    <tr>\n",
              "      <th>4</th>\n",
              "      <td>0.10</td>\n",
              "      <td>Jun</td>\n",
              "      <td>5.6</td>\n",
              "      <td>0.0</td>\n",
              "      <td>1.0</td>\n",
              "      <td>0.0</td>\n",
              "      <td>0.29</td>\n",
              "      <td>54.7</td>\n",
              "      <td>72.9</td>\n",
              "      <td>36.5</td>\n",
              "      <td>13.63</td>\n",
              "      <td>14.76</td>\n",
              "      <td>0.0</td>\n",
              "      <td>3.0</td>\n",
              "      <td>1.0</td>\n",
              "      <td>87.2</td>\n",
              "      <td>28.4</td>\n",
              "      <td>0.33</td>\n",
              "      <td>7598.3328</td>\n",
              "    </tr>\n",
              "  </tbody>\n",
              "</table>\n",
              "</div>\n",
              "      <button class=\"colab-df-convert\" onclick=\"convertToInteractive('df-561c9844-45bd-487b-bf1c-9966c8a8242c')\"\n",
              "              title=\"Convert this dataframe to an interactive table.\"\n",
              "              style=\"display:none;\">\n",
              "        \n",
              "  <svg xmlns=\"http://www.w3.org/2000/svg\" height=\"24px\"viewBox=\"0 0 24 24\"\n",
              "       width=\"24px\">\n",
              "    <path d=\"M0 0h24v24H0V0z\" fill=\"none\"/>\n",
              "    <path d=\"M18.56 5.44l.94 2.06.94-2.06 2.06-.94-2.06-.94-.94-2.06-.94 2.06-2.06.94zm-11 1L8.5 8.5l.94-2.06 2.06-.94-2.06-.94L8.5 2.5l-.94 2.06-2.06.94zm10 10l.94 2.06.94-2.06 2.06-.94-2.06-.94-.94-2.06-.94 2.06-2.06.94z\"/><path d=\"M17.41 7.96l-1.37-1.37c-.4-.4-.92-.59-1.43-.59-.52 0-1.04.2-1.43.59L10.3 9.45l-7.72 7.72c-.78.78-.78 2.05 0 2.83L4 21.41c.39.39.9.59 1.41.59.51 0 1.02-.2 1.41-.59l7.78-7.78 2.81-2.81c.8-.78.8-2.07 0-2.86zM5.41 20L4 18.59l7.72-7.72 1.47 1.35L5.41 20z\"/>\n",
              "  </svg>\n",
              "      </button>\n",
              "      \n",
              "  <style>\n",
              "    .colab-df-container {\n",
              "      display:flex;\n",
              "      flex-wrap:wrap;\n",
              "      gap: 12px;\n",
              "    }\n",
              "\n",
              "    .colab-df-convert {\n",
              "      background-color: #E8F0FE;\n",
              "      border: none;\n",
              "      border-radius: 50%;\n",
              "      cursor: pointer;\n",
              "      display: none;\n",
              "      fill: #1967D2;\n",
              "      height: 32px;\n",
              "      padding: 0 0 0 0;\n",
              "      width: 32px;\n",
              "    }\n",
              "\n",
              "    .colab-df-convert:hover {\n",
              "      background-color: #E2EBFA;\n",
              "      box-shadow: 0px 1px 2px rgba(60, 64, 67, 0.3), 0px 1px 3px 1px rgba(60, 64, 67, 0.15);\n",
              "      fill: #174EA6;\n",
              "    }\n",
              "\n",
              "    [theme=dark] .colab-df-convert {\n",
              "      background-color: #3B4455;\n",
              "      fill: #D2E3FC;\n",
              "    }\n",
              "\n",
              "    [theme=dark] .colab-df-convert:hover {\n",
              "      background-color: #434B5C;\n",
              "      box-shadow: 0px 1px 3px 1px rgba(0, 0, 0, 0.15);\n",
              "      filter: drop-shadow(0px 1px 2px rgba(0, 0, 0, 0.3));\n",
              "      fill: #FFFFFF;\n",
              "    }\n",
              "  </style>\n",
              "\n",
              "      <script>\n",
              "        const buttonEl =\n",
              "          document.querySelector('#df-561c9844-45bd-487b-bf1c-9966c8a8242c button.colab-df-convert');\n",
              "        buttonEl.style.display =\n",
              "          google.colab.kernel.accessAllowed ? 'block' : 'none';\n",
              "\n",
              "        async function convertToInteractive(key) {\n",
              "          const element = document.querySelector('#df-561c9844-45bd-487b-bf1c-9966c8a8242c');\n",
              "          const dataTable =\n",
              "            await google.colab.kernel.invokeFunction('convertToInteractive',\n",
              "                                                     [key], {});\n",
              "          if (!dataTable) return;\n",
              "\n",
              "          const docLinkHtml = 'Like what you see? Visit the ' +\n",
              "            '<a target=\"_blank\" href=https://colab.research.google.com/notebooks/data_table.ipynb>data table notebook</a>'\n",
              "            + ' to learn more about interactive tables.';\n",
              "          element.innerHTML = '';\n",
              "          dataTable['output_type'] = 'display_data';\n",
              "          await google.colab.output.renderOutput(dataTable, element);\n",
              "          const docLink = document.createElement('div');\n",
              "          docLink.innerHTML = docLinkHtml;\n",
              "          element.appendChild(docLink);\n",
              "        }\n",
              "      </script>\n",
              "    </div>\n",
              "  </div>\n",
              "  "
            ]
          },
          "metadata": {},
          "execution_count": 192
        }
      ]
    },
    {
      "cell_type": "code",
      "source": [
        "wildfire_set1.shape"
      ],
      "metadata": {
        "id": "6GGilC4CD906",
        "colab": {
          "base_uri": "https://localhost:8080/"
        },
        "outputId": "1efcf008-76c8-4f1e-f6dd-c2d68150afc6"
      },
      "execution_count": 193,
      "outputs": [
        {
          "output_type": "execute_result",
          "data": {
            "text/plain": [
              "(114558, 19)"
            ]
          },
          "metadata": {},
          "execution_count": 193
        }
      ]
    },
    {
      "cell_type": "markdown",
      "source": [
        "# Investigate the presence of null values in the dataset:\n",
        "Below, we have the count of totall null values in each column for  wildfire_set1."
      ],
      "metadata": {
        "id": "5_rDqNJTLWVx"
      }
    },
    {
      "cell_type": "code",
      "source": [
        "print(wildfire_set1.isnull().sum())"
      ],
      "metadata": {
        "id": "n5pLabm4Dz5W",
        "colab": {
          "base_uri": "https://localhost:8080/"
        },
        "outputId": "3538cd02-6790-4f6a-8886-794a7ff4543d"
      },
      "execution_count": 194,
      "outputs": [
        {
          "output_type": "stream",
          "name": "stdout",
          "text": [
            "AcresBurned           0\n",
            "Discovery Month       0\n",
            "AWND               6254\n",
            "CLDD               3335\n",
            "DP10               3042\n",
            "DX90               3333\n",
            "PRCP               3042\n",
            "TAVG               3335\n",
            "TMAX               3333\n",
            "TMIN               3285\n",
            "PRCP_6M            2470\n",
            "PRCP_RS            2811\n",
            "DX90_2M            2215\n",
            "DP10_2M            1599\n",
            "Receives Snow       102\n",
            "Mar_SP              102\n",
            "Mar_WC              102\n",
            "Mar_Dens            102\n",
            "Elevation             0\n",
            "dtype: int64\n"
          ]
        }
      ]
    },
    {
      "cell_type": "code",
      "source": [
        "wildfire_set1 = wildfire_set1.dropna()"
      ],
      "metadata": {
        "id": "HehdodiqFMSk"
      },
      "execution_count": 195,
      "outputs": []
    },
    {
      "cell_type": "markdown",
      "source": [
        "In the cell above, we drop all null values in the dataset. We are able to drop all nulls in this case because our dataset is sizeable with relatively few null values in each so not much data is lost in this process. Looking at the shape of the dataframe after the drops, we see that the dataset remains a similar size post drop."
      ],
      "metadata": {
        "id": "z1leCNjYNK7M"
      }
    },
    {
      "cell_type": "code",
      "source": [
        "#we lose around 50 values when dropping NaN's\n",
        "wildfire_set1.shape"
      ],
      "metadata": {
        "id": "dAacNqr7FONE",
        "colab": {
          "base_uri": "https://localhost:8080/"
        },
        "outputId": "20ba5471-5ae8-466a-9fdb-5084cf58e9b3"
      },
      "execution_count": 196,
      "outputs": [
        {
          "output_type": "execute_result",
          "data": {
            "text/plain": [
              "(106024, 19)"
            ]
          },
          "metadata": {},
          "execution_count": 196
        }
      ]
    },
    {
      "cell_type": "markdown",
      "source": [
        "# For our regressions, we will try to predict the number of Acres Burned in the fire"
      ],
      "metadata": {
        "id": "7CAsMA8VaiJU"
      }
    },
    {
      "cell_type": "code",
      "source": [
        "print(wildfire_set1.columns)"
      ],
      "metadata": {
        "colab": {
          "base_uri": "https://localhost:8080/"
        },
        "id": "4euqbgVncG1f",
        "outputId": "3693927b-7f36-449f-a6a2-0cd9df4988ca"
      },
      "execution_count": 197,
      "outputs": [
        {
          "output_type": "stream",
          "name": "stdout",
          "text": [
            "Index(['AcresBurned', 'Discovery Month', 'AWND', 'CLDD', 'DP10', 'DX90',\n",
            "       'PRCP', 'TAVG', 'TMAX', 'TMIN', 'PRCP_6M', 'PRCP_RS', 'DX90_2M',\n",
            "       'DP10_2M', 'Receives Snow', 'Mar_SP', 'Mar_WC', 'Mar_Dens',\n",
            "       'Elevation'],\n",
            "      dtype='object')\n"
          ]
        }
      ]
    },
    {
      "cell_type": "markdown",
      "source": [
        "Double check our datatypes before we proceed with preprocessing and model building. As we can see, all features besides discovery and fire size rank are numerical (of type float or int) so all we have to do is one hot encode the discovery month of the fire."
      ],
      "metadata": {
        "id": "rUR65XIfD407"
      }
    },
    {
      "cell_type": "code",
      "source": [
        "wildfire_set1.info()"
      ],
      "metadata": {
        "id": "Ci06aOQzA-jH",
        "colab": {
          "base_uri": "https://localhost:8080/"
        },
        "outputId": "81797d3a-bc01-4ca0-e950-9abb08588a2e"
      },
      "execution_count": 198,
      "outputs": [
        {
          "output_type": "stream",
          "name": "stdout",
          "text": [
            "<class 'pandas.core.frame.DataFrame'>\n",
            "Int64Index: 106024 entries, 0 to 114557\n",
            "Data columns (total 19 columns):\n",
            " #   Column           Non-Null Count   Dtype  \n",
            "---  ------           --------------   -----  \n",
            " 0   AcresBurned      106024 non-null  float64\n",
            " 1   Discovery Month  106024 non-null  object \n",
            " 2   AWND             106024 non-null  float64\n",
            " 3   CLDD             106024 non-null  float64\n",
            " 4   DP10             106024 non-null  float64\n",
            " 5   DX90             106024 non-null  float64\n",
            " 6   PRCP             106024 non-null  float64\n",
            " 7   TAVG             106024 non-null  float64\n",
            " 8   TMAX             106024 non-null  float64\n",
            " 9   TMIN             106024 non-null  float64\n",
            " 10  PRCP_6M          106024 non-null  float64\n",
            " 11  PRCP_RS          106024 non-null  float64\n",
            " 12  DX90_2M          106024 non-null  float64\n",
            " 13  DP10_2M          106024 non-null  float64\n",
            " 14  Receives Snow    106024 non-null  float64\n",
            " 15  Mar_SP           106024 non-null  float64\n",
            " 16  Mar_WC           106024 non-null  float64\n",
            " 17  Mar_Dens         106024 non-null  float64\n",
            " 18  Elevation        106024 non-null  float64\n",
            "dtypes: float64(18), object(1)\n",
            "memory usage: 16.2+ MB\n"
          ]
        }
      ]
    },
    {
      "cell_type": "markdown",
      "source": [
        "# Below we use the describe function to get a general outlook on mean, max, min, and percentiles for each of the numerical features in the dataset"
      ],
      "metadata": {
        "id": "2rZh5C6Vna38"
      }
    },
    {
      "cell_type": "code",
      "source": [
        "wildfire_set1.describe().transpose()"
      ],
      "metadata": {
        "id": "v4ei0qVc_rdD",
        "colab": {
          "base_uri": "https://localhost:8080/",
          "height": 614
        },
        "outputId": "0bd3a93f-0e43-4030-97b0-4ac65fe778fe"
      },
      "execution_count": 199,
      "outputs": [
        {
          "output_type": "execute_result",
          "data": {
            "text/plain": [
              "                  count         mean          std       min       25%  \\\n",
              "AcresBurned    106024.0    79.390867  2456.308820    0.0010    0.1000   \n",
              "AWND           106024.0     6.294384     1.875589    0.4000    4.9000   \n",
              "CLDD           106024.0   224.058279   215.023594    0.0000   19.0000   \n",
              "DP10           106024.0     0.940853     1.810402    0.0000    0.0000   \n",
              "DX90           106024.0    12.191391    11.505412    0.0000    0.0000   \n",
              "PRCP           106024.0     0.457943     1.135417    0.0000    0.0000   \n",
              "TAVG           106024.0    69.135184    10.958172   18.3000   61.4000   \n",
              "TMAX           106024.0    83.236084    13.094602   33.0000   73.8000   \n",
              "TMIN           106024.0    55.033364     9.797339    3.7000   49.0000   \n",
              "PRCP_6M        106024.0     9.410894     9.301400    0.0000    2.8700   \n",
              "PRCP_RS        106024.0    16.386058    13.181156    0.0200    7.0400   \n",
              "DX90_2M        106024.0    18.299178    19.939243    0.0000    0.0000   \n",
              "DP10_2M        106024.0     3.139883     4.419945    0.0000    0.0000   \n",
              "Receives Snow  106024.0     0.488710     0.499875    0.0000    0.0000   \n",
              "Mar_SP         106024.0    27.645534    40.044686    0.0000    0.0000   \n",
              "Mar_WC         106024.0    11.249224    16.943957    0.0000    0.0000   \n",
              "Mar_Dens       106024.0     0.186137     0.223842    0.0000    0.0000   \n",
              "Elevation      106024.0  2088.400351  2171.618682 -232.9368  341.2032   \n",
              "\n",
              "                     50%        75%          max  \n",
              "AcresBurned       0.2500     1.0000  315578.8000  \n",
              "AWND              6.0000     7.4000      17.2000  \n",
              "CLDD            180.0000   377.0000    1113.0000  \n",
              "DP10              0.0000     1.0000      24.0000  \n",
              "DX90              9.0000    23.0000      31.0000  \n",
              "PRCP              0.0400     0.4100      33.7000  \n",
              "TAVG             70.4000    77.4000     100.9000  \n",
              "TMAX             85.1000    93.8000     114.3000  \n",
              "TMIN             55.8000    61.8000      89.0000  \n",
              "PRCP_6M           6.5900    12.9100      85.9100  \n",
              "PRCP_RS          12.4200    22.3300      88.2900  \n",
              "DX90_2M          10.0000    35.0000      62.0000  \n",
              "DP10_2M           2.0000     4.0000      38.0000  \n",
              "Receives Snow     0.0000     1.0000       1.0000  \n",
              "Mar_SP            0.0000    56.5000     215.0000  \n",
              "Mar_WC            0.0000    20.6000     113.0000  \n",
              "Mar_Dens          0.0000     0.3800       1.5600  \n",
              "Elevation      1322.1624  3188.9376   13047.7416  "
            ],
            "text/html": [
              "\n",
              "  <div id=\"df-e6ddbdc5-3b1a-4469-8810-93ad83fd8e96\">\n",
              "    <div class=\"colab-df-container\">\n",
              "      <div>\n",
              "<style scoped>\n",
              "    .dataframe tbody tr th:only-of-type {\n",
              "        vertical-align: middle;\n",
              "    }\n",
              "\n",
              "    .dataframe tbody tr th {\n",
              "        vertical-align: top;\n",
              "    }\n",
              "\n",
              "    .dataframe thead th {\n",
              "        text-align: right;\n",
              "    }\n",
              "</style>\n",
              "<table border=\"1\" class=\"dataframe\">\n",
              "  <thead>\n",
              "    <tr style=\"text-align: right;\">\n",
              "      <th></th>\n",
              "      <th>count</th>\n",
              "      <th>mean</th>\n",
              "      <th>std</th>\n",
              "      <th>min</th>\n",
              "      <th>25%</th>\n",
              "      <th>50%</th>\n",
              "      <th>75%</th>\n",
              "      <th>max</th>\n",
              "    </tr>\n",
              "  </thead>\n",
              "  <tbody>\n",
              "    <tr>\n",
              "      <th>AcresBurned</th>\n",
              "      <td>106024.0</td>\n",
              "      <td>79.390867</td>\n",
              "      <td>2456.308820</td>\n",
              "      <td>0.0010</td>\n",
              "      <td>0.1000</td>\n",
              "      <td>0.2500</td>\n",
              "      <td>1.0000</td>\n",
              "      <td>315578.8000</td>\n",
              "    </tr>\n",
              "    <tr>\n",
              "      <th>AWND</th>\n",
              "      <td>106024.0</td>\n",
              "      <td>6.294384</td>\n",
              "      <td>1.875589</td>\n",
              "      <td>0.4000</td>\n",
              "      <td>4.9000</td>\n",
              "      <td>6.0000</td>\n",
              "      <td>7.4000</td>\n",
              "      <td>17.2000</td>\n",
              "    </tr>\n",
              "    <tr>\n",
              "      <th>CLDD</th>\n",
              "      <td>106024.0</td>\n",
              "      <td>224.058279</td>\n",
              "      <td>215.023594</td>\n",
              "      <td>0.0000</td>\n",
              "      <td>19.0000</td>\n",
              "      <td>180.0000</td>\n",
              "      <td>377.0000</td>\n",
              "      <td>1113.0000</td>\n",
              "    </tr>\n",
              "    <tr>\n",
              "      <th>DP10</th>\n",
              "      <td>106024.0</td>\n",
              "      <td>0.940853</td>\n",
              "      <td>1.810402</td>\n",
              "      <td>0.0000</td>\n",
              "      <td>0.0000</td>\n",
              "      <td>0.0000</td>\n",
              "      <td>1.0000</td>\n",
              "      <td>24.0000</td>\n",
              "    </tr>\n",
              "    <tr>\n",
              "      <th>DX90</th>\n",
              "      <td>106024.0</td>\n",
              "      <td>12.191391</td>\n",
              "      <td>11.505412</td>\n",
              "      <td>0.0000</td>\n",
              "      <td>0.0000</td>\n",
              "      <td>9.0000</td>\n",
              "      <td>23.0000</td>\n",
              "      <td>31.0000</td>\n",
              "    </tr>\n",
              "    <tr>\n",
              "      <th>PRCP</th>\n",
              "      <td>106024.0</td>\n",
              "      <td>0.457943</td>\n",
              "      <td>1.135417</td>\n",
              "      <td>0.0000</td>\n",
              "      <td>0.0000</td>\n",
              "      <td>0.0400</td>\n",
              "      <td>0.4100</td>\n",
              "      <td>33.7000</td>\n",
              "    </tr>\n",
              "    <tr>\n",
              "      <th>TAVG</th>\n",
              "      <td>106024.0</td>\n",
              "      <td>69.135184</td>\n",
              "      <td>10.958172</td>\n",
              "      <td>18.3000</td>\n",
              "      <td>61.4000</td>\n",
              "      <td>70.4000</td>\n",
              "      <td>77.4000</td>\n",
              "      <td>100.9000</td>\n",
              "    </tr>\n",
              "    <tr>\n",
              "      <th>TMAX</th>\n",
              "      <td>106024.0</td>\n",
              "      <td>83.236084</td>\n",
              "      <td>13.094602</td>\n",
              "      <td>33.0000</td>\n",
              "      <td>73.8000</td>\n",
              "      <td>85.1000</td>\n",
              "      <td>93.8000</td>\n",
              "      <td>114.3000</td>\n",
              "    </tr>\n",
              "    <tr>\n",
              "      <th>TMIN</th>\n",
              "      <td>106024.0</td>\n",
              "      <td>55.033364</td>\n",
              "      <td>9.797339</td>\n",
              "      <td>3.7000</td>\n",
              "      <td>49.0000</td>\n",
              "      <td>55.8000</td>\n",
              "      <td>61.8000</td>\n",
              "      <td>89.0000</td>\n",
              "    </tr>\n",
              "    <tr>\n",
              "      <th>PRCP_6M</th>\n",
              "      <td>106024.0</td>\n",
              "      <td>9.410894</td>\n",
              "      <td>9.301400</td>\n",
              "      <td>0.0000</td>\n",
              "      <td>2.8700</td>\n",
              "      <td>6.5900</td>\n",
              "      <td>12.9100</td>\n",
              "      <td>85.9100</td>\n",
              "    </tr>\n",
              "    <tr>\n",
              "      <th>PRCP_RS</th>\n",
              "      <td>106024.0</td>\n",
              "      <td>16.386058</td>\n",
              "      <td>13.181156</td>\n",
              "      <td>0.0200</td>\n",
              "      <td>7.0400</td>\n",
              "      <td>12.4200</td>\n",
              "      <td>22.3300</td>\n",
              "      <td>88.2900</td>\n",
              "    </tr>\n",
              "    <tr>\n",
              "      <th>DX90_2M</th>\n",
              "      <td>106024.0</td>\n",
              "      <td>18.299178</td>\n",
              "      <td>19.939243</td>\n",
              "      <td>0.0000</td>\n",
              "      <td>0.0000</td>\n",
              "      <td>10.0000</td>\n",
              "      <td>35.0000</td>\n",
              "      <td>62.0000</td>\n",
              "    </tr>\n",
              "    <tr>\n",
              "      <th>DP10_2M</th>\n",
              "      <td>106024.0</td>\n",
              "      <td>3.139883</td>\n",
              "      <td>4.419945</td>\n",
              "      <td>0.0000</td>\n",
              "      <td>0.0000</td>\n",
              "      <td>2.0000</td>\n",
              "      <td>4.0000</td>\n",
              "      <td>38.0000</td>\n",
              "    </tr>\n",
              "    <tr>\n",
              "      <th>Receives Snow</th>\n",
              "      <td>106024.0</td>\n",
              "      <td>0.488710</td>\n",
              "      <td>0.499875</td>\n",
              "      <td>0.0000</td>\n",
              "      <td>0.0000</td>\n",
              "      <td>0.0000</td>\n",
              "      <td>1.0000</td>\n",
              "      <td>1.0000</td>\n",
              "    </tr>\n",
              "    <tr>\n",
              "      <th>Mar_SP</th>\n",
              "      <td>106024.0</td>\n",
              "      <td>27.645534</td>\n",
              "      <td>40.044686</td>\n",
              "      <td>0.0000</td>\n",
              "      <td>0.0000</td>\n",
              "      <td>0.0000</td>\n",
              "      <td>56.5000</td>\n",
              "      <td>215.0000</td>\n",
              "    </tr>\n",
              "    <tr>\n",
              "      <th>Mar_WC</th>\n",
              "      <td>106024.0</td>\n",
              "      <td>11.249224</td>\n",
              "      <td>16.943957</td>\n",
              "      <td>0.0000</td>\n",
              "      <td>0.0000</td>\n",
              "      <td>0.0000</td>\n",
              "      <td>20.6000</td>\n",
              "      <td>113.0000</td>\n",
              "    </tr>\n",
              "    <tr>\n",
              "      <th>Mar_Dens</th>\n",
              "      <td>106024.0</td>\n",
              "      <td>0.186137</td>\n",
              "      <td>0.223842</td>\n",
              "      <td>0.0000</td>\n",
              "      <td>0.0000</td>\n",
              "      <td>0.0000</td>\n",
              "      <td>0.3800</td>\n",
              "      <td>1.5600</td>\n",
              "    </tr>\n",
              "    <tr>\n",
              "      <th>Elevation</th>\n",
              "      <td>106024.0</td>\n",
              "      <td>2088.400351</td>\n",
              "      <td>2171.618682</td>\n",
              "      <td>-232.9368</td>\n",
              "      <td>341.2032</td>\n",
              "      <td>1322.1624</td>\n",
              "      <td>3188.9376</td>\n",
              "      <td>13047.7416</td>\n",
              "    </tr>\n",
              "  </tbody>\n",
              "</table>\n",
              "</div>\n",
              "      <button class=\"colab-df-convert\" onclick=\"convertToInteractive('df-e6ddbdc5-3b1a-4469-8810-93ad83fd8e96')\"\n",
              "              title=\"Convert this dataframe to an interactive table.\"\n",
              "              style=\"display:none;\">\n",
              "        \n",
              "  <svg xmlns=\"http://www.w3.org/2000/svg\" height=\"24px\"viewBox=\"0 0 24 24\"\n",
              "       width=\"24px\">\n",
              "    <path d=\"M0 0h24v24H0V0z\" fill=\"none\"/>\n",
              "    <path d=\"M18.56 5.44l.94 2.06.94-2.06 2.06-.94-2.06-.94-.94-2.06-.94 2.06-2.06.94zm-11 1L8.5 8.5l.94-2.06 2.06-.94-2.06-.94L8.5 2.5l-.94 2.06-2.06.94zm10 10l.94 2.06.94-2.06 2.06-.94-2.06-.94-.94-2.06-.94 2.06-2.06.94z\"/><path d=\"M17.41 7.96l-1.37-1.37c-.4-.4-.92-.59-1.43-.59-.52 0-1.04.2-1.43.59L10.3 9.45l-7.72 7.72c-.78.78-.78 2.05 0 2.83L4 21.41c.39.39.9.59 1.41.59.51 0 1.02-.2 1.41-.59l7.78-7.78 2.81-2.81c.8-.78.8-2.07 0-2.86zM5.41 20L4 18.59l7.72-7.72 1.47 1.35L5.41 20z\"/>\n",
              "  </svg>\n",
              "      </button>\n",
              "      \n",
              "  <style>\n",
              "    .colab-df-container {\n",
              "      display:flex;\n",
              "      flex-wrap:wrap;\n",
              "      gap: 12px;\n",
              "    }\n",
              "\n",
              "    .colab-df-convert {\n",
              "      background-color: #E8F0FE;\n",
              "      border: none;\n",
              "      border-radius: 50%;\n",
              "      cursor: pointer;\n",
              "      display: none;\n",
              "      fill: #1967D2;\n",
              "      height: 32px;\n",
              "      padding: 0 0 0 0;\n",
              "      width: 32px;\n",
              "    }\n",
              "\n",
              "    .colab-df-convert:hover {\n",
              "      background-color: #E2EBFA;\n",
              "      box-shadow: 0px 1px 2px rgba(60, 64, 67, 0.3), 0px 1px 3px 1px rgba(60, 64, 67, 0.15);\n",
              "      fill: #174EA6;\n",
              "    }\n",
              "\n",
              "    [theme=dark] .colab-df-convert {\n",
              "      background-color: #3B4455;\n",
              "      fill: #D2E3FC;\n",
              "    }\n",
              "\n",
              "    [theme=dark] .colab-df-convert:hover {\n",
              "      background-color: #434B5C;\n",
              "      box-shadow: 0px 1px 3px 1px rgba(0, 0, 0, 0.15);\n",
              "      filter: drop-shadow(0px 1px 2px rgba(0, 0, 0, 0.3));\n",
              "      fill: #FFFFFF;\n",
              "    }\n",
              "  </style>\n",
              "\n",
              "      <script>\n",
              "        const buttonEl =\n",
              "          document.querySelector('#df-e6ddbdc5-3b1a-4469-8810-93ad83fd8e96 button.colab-df-convert');\n",
              "        buttonEl.style.display =\n",
              "          google.colab.kernel.accessAllowed ? 'block' : 'none';\n",
              "\n",
              "        async function convertToInteractive(key) {\n",
              "          const element = document.querySelector('#df-e6ddbdc5-3b1a-4469-8810-93ad83fd8e96');\n",
              "          const dataTable =\n",
              "            await google.colab.kernel.invokeFunction('convertToInteractive',\n",
              "                                                     [key], {});\n",
              "          if (!dataTable) return;\n",
              "\n",
              "          const docLinkHtml = 'Like what you see? Visit the ' +\n",
              "            '<a target=\"_blank\" href=https://colab.research.google.com/notebooks/data_table.ipynb>data table notebook</a>'\n",
              "            + ' to learn more about interactive tables.';\n",
              "          element.innerHTML = '';\n",
              "          dataTable['output_type'] = 'display_data';\n",
              "          await google.colab.output.renderOutput(dataTable, element);\n",
              "          const docLink = document.createElement('div');\n",
              "          docLink.innerHTML = docLinkHtml;\n",
              "          element.appendChild(docLink);\n",
              "        }\n",
              "      </script>\n",
              "    </div>\n",
              "  </div>\n",
              "  "
            ]
          },
          "metadata": {},
          "execution_count": 199
        }
      ]
    },
    {
      "cell_type": "markdown",
      "source": [
        "# Some Interesting Takeaways:\n",
        "*   Acres Burned has an average of 5200 acres yet the 50th percentile fire only has 87 acres burned. This tells us there are some extremely massive fires in this dataset contributing to this large mean acres burned\n",
        "*   DP10 and PRCP look to not be the best distinguishing features as 0-50th percentile for both all have 0. This can be attributed to the vast majority of the state of California having undergone extreme drought conditions during the last decade (with some exceptions in rainy coastal areas in Northern California)\n",
        "*  The temperature features seem to have a wide spread which is good\n",
        "*  Three of our engineered weather features DX90_2M, PRCP_6M, PRCP_RS seem to have a healthy spread and diverse values which is good\n",
        "*   Average Elevation that fires in the dataset occurred at is 1760 ft. with 75% occuring under 2398 ft. Interesting to see that most fires begin at lower elevations\n",
        "\n",
        "\n",
        "\n",
        "\n",
        "\n"
      ],
      "metadata": {
        "id": "ZJ0ZOwCVUufx"
      }
    },
    {
      "cell_type": "markdown",
      "source": [
        "# One-Hot Encoding Categorical Variables\n",
        "\n",
        "\n",
        "*   Encode the discovery month (the only categorical variable) in both datasets\n",
        "\n"
      ],
      "metadata": {
        "id": "3waScPx3njr9"
      }
    },
    {
      "cell_type": "code",
      "source": [
        "#Add the dummy columns to the dataset\n",
        "dummy_month = pd.get_dummies(wildfire_set1['Discovery Month'])\n",
        "wildfire_set1 = pd.merge(left = wildfire_set1, right = dummy_month, left_index = True, right_index = True)\n",
        "wildfire_set1 = wildfire_set1.drop(columns = ['Discovery Month'])\n",
        "wildfire_set1.head(10)"
      ],
      "metadata": {
        "id": "C4NMBTL2nrno",
        "outputId": "9c074fa5-f43b-412a-bbd9-26241351d563",
        "colab": {
          "base_uri": "https://localhost:8080/",
          "height": 436
        }
      },
      "execution_count": 200,
      "outputs": [
        {
          "output_type": "execute_result",
          "data": {
            "text/plain": [
              "   AcresBurned  AWND  CLDD  DP10  DX90  PRCP  TAVG  TMAX  TMIN  PRCP_6M  ...  \\\n",
              "0         0.10   5.6   0.0  12.0   0.0  5.33  38.9  43.9  33.9    27.89  ...   \n",
              "1         0.25   6.9   0.0   2.0   0.0  0.81  47.3  63.0  31.6    14.37  ...   \n",
              "2         0.10   5.6  36.0   0.0   0.0  0.00  63.1  70.2  56.0    36.71  ...   \n",
              "3         0.10   5.6   0.0   1.0   0.0  0.29  54.7  72.9  36.5    13.63  ...   \n",
              "4         0.10   5.6   0.0   1.0   0.0  0.29  54.7  72.9  36.5    13.63  ...   \n",
              "5         0.10   5.1   1.0   0.0   0.0  0.00  61.1  79.8  42.3     8.31  ...   \n",
              "6         0.10   5.1   1.0   0.0   0.0  0.00  61.1  79.8  42.3     8.31  ...   \n",
              "7         0.80   6.5   7.0   9.0   0.0  4.99  55.5  67.0  44.0    25.91  ...   \n",
              "8         1.00   6.5   7.0   9.0   0.0  4.99  55.5  67.0  44.0    25.91  ...   \n",
              "9         0.10   5.1   1.0   0.0   0.0  0.00  61.1  79.8  42.3     8.31  ...   \n",
              "\n",
              "   Dec  Feb  Jan  Jul  Jun  Mar  May  Nov  Oct  Sep  \n",
              "0    0    1    0    0    0    0    0    0    0    0  \n",
              "1    0    0    0    0    0    0    1    0    0    0  \n",
              "2    0    0    0    0    1    0    0    0    0    0  \n",
              "3    0    0    0    0    1    0    0    0    0    0  \n",
              "4    0    0    0    0    1    0    0    0    0    0  \n",
              "5    0    0    0    1    0    0    0    0    0    0  \n",
              "6    0    0    0    1    0    0    0    0    0    0  \n",
              "7    0    0    0    0    0    1    0    0    0    0  \n",
              "8    0    0    0    0    0    1    0    0    0    0  \n",
              "9    0    0    0    1    0    0    0    0    0    0  \n",
              "\n",
              "[10 rows x 30 columns]"
            ],
            "text/html": [
              "\n",
              "  <div id=\"df-0ac7861f-838a-4afc-ae41-764dbebccbed\">\n",
              "    <div class=\"colab-df-container\">\n",
              "      <div>\n",
              "<style scoped>\n",
              "    .dataframe tbody tr th:only-of-type {\n",
              "        vertical-align: middle;\n",
              "    }\n",
              "\n",
              "    .dataframe tbody tr th {\n",
              "        vertical-align: top;\n",
              "    }\n",
              "\n",
              "    .dataframe thead th {\n",
              "        text-align: right;\n",
              "    }\n",
              "</style>\n",
              "<table border=\"1\" class=\"dataframe\">\n",
              "  <thead>\n",
              "    <tr style=\"text-align: right;\">\n",
              "      <th></th>\n",
              "      <th>AcresBurned</th>\n",
              "      <th>AWND</th>\n",
              "      <th>CLDD</th>\n",
              "      <th>DP10</th>\n",
              "      <th>DX90</th>\n",
              "      <th>PRCP</th>\n",
              "      <th>TAVG</th>\n",
              "      <th>TMAX</th>\n",
              "      <th>TMIN</th>\n",
              "      <th>PRCP_6M</th>\n",
              "      <th>...</th>\n",
              "      <th>Dec</th>\n",
              "      <th>Feb</th>\n",
              "      <th>Jan</th>\n",
              "      <th>Jul</th>\n",
              "      <th>Jun</th>\n",
              "      <th>Mar</th>\n",
              "      <th>May</th>\n",
              "      <th>Nov</th>\n",
              "      <th>Oct</th>\n",
              "      <th>Sep</th>\n",
              "    </tr>\n",
              "  </thead>\n",
              "  <tbody>\n",
              "    <tr>\n",
              "      <th>0</th>\n",
              "      <td>0.10</td>\n",
              "      <td>5.6</td>\n",
              "      <td>0.0</td>\n",
              "      <td>12.0</td>\n",
              "      <td>0.0</td>\n",
              "      <td>5.33</td>\n",
              "      <td>38.9</td>\n",
              "      <td>43.9</td>\n",
              "      <td>33.9</td>\n",
              "      <td>27.89</td>\n",
              "      <td>...</td>\n",
              "      <td>0</td>\n",
              "      <td>1</td>\n",
              "      <td>0</td>\n",
              "      <td>0</td>\n",
              "      <td>0</td>\n",
              "      <td>0</td>\n",
              "      <td>0</td>\n",
              "      <td>0</td>\n",
              "      <td>0</td>\n",
              "      <td>0</td>\n",
              "    </tr>\n",
              "    <tr>\n",
              "      <th>1</th>\n",
              "      <td>0.25</td>\n",
              "      <td>6.9</td>\n",
              "      <td>0.0</td>\n",
              "      <td>2.0</td>\n",
              "      <td>0.0</td>\n",
              "      <td>0.81</td>\n",
              "      <td>47.3</td>\n",
              "      <td>63.0</td>\n",
              "      <td>31.6</td>\n",
              "      <td>14.37</td>\n",
              "      <td>...</td>\n",
              "      <td>0</td>\n",
              "      <td>0</td>\n",
              "      <td>0</td>\n",
              "      <td>0</td>\n",
              "      <td>0</td>\n",
              "      <td>0</td>\n",
              "      <td>1</td>\n",
              "      <td>0</td>\n",
              "      <td>0</td>\n",
              "      <td>0</td>\n",
              "    </tr>\n",
              "    <tr>\n",
              "      <th>2</th>\n",
              "      <td>0.10</td>\n",
              "      <td>5.6</td>\n",
              "      <td>36.0</td>\n",
              "      <td>0.0</td>\n",
              "      <td>0.0</td>\n",
              "      <td>0.00</td>\n",
              "      <td>63.1</td>\n",
              "      <td>70.2</td>\n",
              "      <td>56.0</td>\n",
              "      <td>36.71</td>\n",
              "      <td>...</td>\n",
              "      <td>0</td>\n",
              "      <td>0</td>\n",
              "      <td>0</td>\n",
              "      <td>0</td>\n",
              "      <td>1</td>\n",
              "      <td>0</td>\n",
              "      <td>0</td>\n",
              "      <td>0</td>\n",
              "      <td>0</td>\n",
              "      <td>0</td>\n",
              "    </tr>\n",
              "    <tr>\n",
              "      <th>3</th>\n",
              "      <td>0.10</td>\n",
              "      <td>5.6</td>\n",
              "      <td>0.0</td>\n",
              "      <td>1.0</td>\n",
              "      <td>0.0</td>\n",
              "      <td>0.29</td>\n",
              "      <td>54.7</td>\n",
              "      <td>72.9</td>\n",
              "      <td>36.5</td>\n",
              "      <td>13.63</td>\n",
              "      <td>...</td>\n",
              "      <td>0</td>\n",
              "      <td>0</td>\n",
              "      <td>0</td>\n",
              "      <td>0</td>\n",
              "      <td>1</td>\n",
              "      <td>0</td>\n",
              "      <td>0</td>\n",
              "      <td>0</td>\n",
              "      <td>0</td>\n",
              "      <td>0</td>\n",
              "    </tr>\n",
              "    <tr>\n",
              "      <th>4</th>\n",
              "      <td>0.10</td>\n",
              "      <td>5.6</td>\n",
              "      <td>0.0</td>\n",
              "      <td>1.0</td>\n",
              "      <td>0.0</td>\n",
              "      <td>0.29</td>\n",
              "      <td>54.7</td>\n",
              "      <td>72.9</td>\n",
              "      <td>36.5</td>\n",
              "      <td>13.63</td>\n",
              "      <td>...</td>\n",
              "      <td>0</td>\n",
              "      <td>0</td>\n",
              "      <td>0</td>\n",
              "      <td>0</td>\n",
              "      <td>1</td>\n",
              "      <td>0</td>\n",
              "      <td>0</td>\n",
              "      <td>0</td>\n",
              "      <td>0</td>\n",
              "      <td>0</td>\n",
              "    </tr>\n",
              "    <tr>\n",
              "      <th>5</th>\n",
              "      <td>0.10</td>\n",
              "      <td>5.1</td>\n",
              "      <td>1.0</td>\n",
              "      <td>0.0</td>\n",
              "      <td>0.0</td>\n",
              "      <td>0.00</td>\n",
              "      <td>61.1</td>\n",
              "      <td>79.8</td>\n",
              "      <td>42.3</td>\n",
              "      <td>8.31</td>\n",
              "      <td>...</td>\n",
              "      <td>0</td>\n",
              "      <td>0</td>\n",
              "      <td>0</td>\n",
              "      <td>1</td>\n",
              "      <td>0</td>\n",
              "      <td>0</td>\n",
              "      <td>0</td>\n",
              "      <td>0</td>\n",
              "      <td>0</td>\n",
              "      <td>0</td>\n",
              "    </tr>\n",
              "    <tr>\n",
              "      <th>6</th>\n",
              "      <td>0.10</td>\n",
              "      <td>5.1</td>\n",
              "      <td>1.0</td>\n",
              "      <td>0.0</td>\n",
              "      <td>0.0</td>\n",
              "      <td>0.00</td>\n",
              "      <td>61.1</td>\n",
              "      <td>79.8</td>\n",
              "      <td>42.3</td>\n",
              "      <td>8.31</td>\n",
              "      <td>...</td>\n",
              "      <td>0</td>\n",
              "      <td>0</td>\n",
              "      <td>0</td>\n",
              "      <td>1</td>\n",
              "      <td>0</td>\n",
              "      <td>0</td>\n",
              "      <td>0</td>\n",
              "      <td>0</td>\n",
              "      <td>0</td>\n",
              "      <td>0</td>\n",
              "    </tr>\n",
              "    <tr>\n",
              "      <th>7</th>\n",
              "      <td>0.80</td>\n",
              "      <td>6.5</td>\n",
              "      <td>7.0</td>\n",
              "      <td>9.0</td>\n",
              "      <td>0.0</td>\n",
              "      <td>4.99</td>\n",
              "      <td>55.5</td>\n",
              "      <td>67.0</td>\n",
              "      <td>44.0</td>\n",
              "      <td>25.91</td>\n",
              "      <td>...</td>\n",
              "      <td>0</td>\n",
              "      <td>0</td>\n",
              "      <td>0</td>\n",
              "      <td>0</td>\n",
              "      <td>0</td>\n",
              "      <td>1</td>\n",
              "      <td>0</td>\n",
              "      <td>0</td>\n",
              "      <td>0</td>\n",
              "      <td>0</td>\n",
              "    </tr>\n",
              "    <tr>\n",
              "      <th>8</th>\n",
              "      <td>1.00</td>\n",
              "      <td>6.5</td>\n",
              "      <td>7.0</td>\n",
              "      <td>9.0</td>\n",
              "      <td>0.0</td>\n",
              "      <td>4.99</td>\n",
              "      <td>55.5</td>\n",
              "      <td>67.0</td>\n",
              "      <td>44.0</td>\n",
              "      <td>25.91</td>\n",
              "      <td>...</td>\n",
              "      <td>0</td>\n",
              "      <td>0</td>\n",
              "      <td>0</td>\n",
              "      <td>0</td>\n",
              "      <td>0</td>\n",
              "      <td>1</td>\n",
              "      <td>0</td>\n",
              "      <td>0</td>\n",
              "      <td>0</td>\n",
              "      <td>0</td>\n",
              "    </tr>\n",
              "    <tr>\n",
              "      <th>9</th>\n",
              "      <td>0.10</td>\n",
              "      <td>5.1</td>\n",
              "      <td>1.0</td>\n",
              "      <td>0.0</td>\n",
              "      <td>0.0</td>\n",
              "      <td>0.00</td>\n",
              "      <td>61.1</td>\n",
              "      <td>79.8</td>\n",
              "      <td>42.3</td>\n",
              "      <td>8.31</td>\n",
              "      <td>...</td>\n",
              "      <td>0</td>\n",
              "      <td>0</td>\n",
              "      <td>0</td>\n",
              "      <td>1</td>\n",
              "      <td>0</td>\n",
              "      <td>0</td>\n",
              "      <td>0</td>\n",
              "      <td>0</td>\n",
              "      <td>0</td>\n",
              "      <td>0</td>\n",
              "    </tr>\n",
              "  </tbody>\n",
              "</table>\n",
              "<p>10 rows × 30 columns</p>\n",
              "</div>\n",
              "      <button class=\"colab-df-convert\" onclick=\"convertToInteractive('df-0ac7861f-838a-4afc-ae41-764dbebccbed')\"\n",
              "              title=\"Convert this dataframe to an interactive table.\"\n",
              "              style=\"display:none;\">\n",
              "        \n",
              "  <svg xmlns=\"http://www.w3.org/2000/svg\" height=\"24px\"viewBox=\"0 0 24 24\"\n",
              "       width=\"24px\">\n",
              "    <path d=\"M0 0h24v24H0V0z\" fill=\"none\"/>\n",
              "    <path d=\"M18.56 5.44l.94 2.06.94-2.06 2.06-.94-2.06-.94-.94-2.06-.94 2.06-2.06.94zm-11 1L8.5 8.5l.94-2.06 2.06-.94-2.06-.94L8.5 2.5l-.94 2.06-2.06.94zm10 10l.94 2.06.94-2.06 2.06-.94-2.06-.94-.94-2.06-.94 2.06-2.06.94z\"/><path d=\"M17.41 7.96l-1.37-1.37c-.4-.4-.92-.59-1.43-.59-.52 0-1.04.2-1.43.59L10.3 9.45l-7.72 7.72c-.78.78-.78 2.05 0 2.83L4 21.41c.39.39.9.59 1.41.59.51 0 1.02-.2 1.41-.59l7.78-7.78 2.81-2.81c.8-.78.8-2.07 0-2.86zM5.41 20L4 18.59l7.72-7.72 1.47 1.35L5.41 20z\"/>\n",
              "  </svg>\n",
              "      </button>\n",
              "      \n",
              "  <style>\n",
              "    .colab-df-container {\n",
              "      display:flex;\n",
              "      flex-wrap:wrap;\n",
              "      gap: 12px;\n",
              "    }\n",
              "\n",
              "    .colab-df-convert {\n",
              "      background-color: #E8F0FE;\n",
              "      border: none;\n",
              "      border-radius: 50%;\n",
              "      cursor: pointer;\n",
              "      display: none;\n",
              "      fill: #1967D2;\n",
              "      height: 32px;\n",
              "      padding: 0 0 0 0;\n",
              "      width: 32px;\n",
              "    }\n",
              "\n",
              "    .colab-df-convert:hover {\n",
              "      background-color: #E2EBFA;\n",
              "      box-shadow: 0px 1px 2px rgba(60, 64, 67, 0.3), 0px 1px 3px 1px rgba(60, 64, 67, 0.15);\n",
              "      fill: #174EA6;\n",
              "    }\n",
              "\n",
              "    [theme=dark] .colab-df-convert {\n",
              "      background-color: #3B4455;\n",
              "      fill: #D2E3FC;\n",
              "    }\n",
              "\n",
              "    [theme=dark] .colab-df-convert:hover {\n",
              "      background-color: #434B5C;\n",
              "      box-shadow: 0px 1px 3px 1px rgba(0, 0, 0, 0.15);\n",
              "      filter: drop-shadow(0px 1px 2px rgba(0, 0, 0, 0.3));\n",
              "      fill: #FFFFFF;\n",
              "    }\n",
              "  </style>\n",
              "\n",
              "      <script>\n",
              "        const buttonEl =\n",
              "          document.querySelector('#df-0ac7861f-838a-4afc-ae41-764dbebccbed button.colab-df-convert');\n",
              "        buttonEl.style.display =\n",
              "          google.colab.kernel.accessAllowed ? 'block' : 'none';\n",
              "\n",
              "        async function convertToInteractive(key) {\n",
              "          const element = document.querySelector('#df-0ac7861f-838a-4afc-ae41-764dbebccbed');\n",
              "          const dataTable =\n",
              "            await google.colab.kernel.invokeFunction('convertToInteractive',\n",
              "                                                     [key], {});\n",
              "          if (!dataTable) return;\n",
              "\n",
              "          const docLinkHtml = 'Like what you see? Visit the ' +\n",
              "            '<a target=\"_blank\" href=https://colab.research.google.com/notebooks/data_table.ipynb>data table notebook</a>'\n",
              "            + ' to learn more about interactive tables.';\n",
              "          element.innerHTML = '';\n",
              "          dataTable['output_type'] = 'display_data';\n",
              "          await google.colab.output.renderOutput(dataTable, element);\n",
              "          const docLink = document.createElement('div');\n",
              "          docLink.innerHTML = docLinkHtml;\n",
              "          element.appendChild(docLink);\n",
              "        }\n",
              "      </script>\n",
              "    </div>\n",
              "  </div>\n",
              "  "
            ]
          },
          "metadata": {},
          "execution_count": 200
        }
      ]
    },
    {
      "cell_type": "code",
      "source": [
        "#Radomly Shuffle the dataframe to get rid of any pre-existing organization based on size\n",
        "wildfire_set1 = wildfire_set1.sample(frac=1).reset_index(drop=True)"
      ],
      "metadata": {
        "id": "2ZGbL3aDqn3J"
      },
      "execution_count": 201,
      "outputs": []
    },
    {
      "cell_type": "code",
      "source": [
        "wildfire_set1.head()"
      ],
      "metadata": {
        "id": "c3TE3f7hXhpU",
        "outputId": "be84595e-e953-464a-8b63-82cc702878dd",
        "colab": {
          "base_uri": "https://localhost:8080/",
          "height": 279
        }
      },
      "execution_count": 202,
      "outputs": [
        {
          "output_type": "execute_result",
          "data": {
            "text/plain": [
              "   AcresBurned  AWND   CLDD  DP10  DX90  PRCP  TAVG  TMAX  TMIN  PRCP_6M  ...  \\\n",
              "0          0.4   8.1   21.0   0.0   0.0  0.03  59.1  72.7  45.5     0.48  ...   \n",
              "1          0.1   4.3  216.0   0.0  13.0  0.00  72.0  89.3  54.6    14.98  ...   \n",
              "2          0.5   3.1    6.0   0.0   1.0  0.00  60.5  70.2  50.8     8.42  ...   \n",
              "3          3.0   6.7  516.0   0.0  30.0  0.00  81.6  97.5  65.8    12.97  ...   \n",
              "4          0.3   7.4  165.0   2.0   9.0  0.67  68.7  82.6  54.8     7.30  ...   \n",
              "\n",
              "   Dec  Feb  Jan  Jul  Jun  Mar  May  Nov  Oct  Sep  \n",
              "0    0    0    0    0    0    0    0    1    0    0  \n",
              "1    0    0    0    0    0    0    0    0    0    0  \n",
              "2    0    0    0    0    0    0    0    0    0    1  \n",
              "3    0    0    0    1    0    0    0    0    0    0  \n",
              "4    0    0    0    0    0    0    1    0    0    0  \n",
              "\n",
              "[5 rows x 30 columns]"
            ],
            "text/html": [
              "\n",
              "  <div id=\"df-7796d7dc-da79-4c2f-b88f-b4849d158aad\">\n",
              "    <div class=\"colab-df-container\">\n",
              "      <div>\n",
              "<style scoped>\n",
              "    .dataframe tbody tr th:only-of-type {\n",
              "        vertical-align: middle;\n",
              "    }\n",
              "\n",
              "    .dataframe tbody tr th {\n",
              "        vertical-align: top;\n",
              "    }\n",
              "\n",
              "    .dataframe thead th {\n",
              "        text-align: right;\n",
              "    }\n",
              "</style>\n",
              "<table border=\"1\" class=\"dataframe\">\n",
              "  <thead>\n",
              "    <tr style=\"text-align: right;\">\n",
              "      <th></th>\n",
              "      <th>AcresBurned</th>\n",
              "      <th>AWND</th>\n",
              "      <th>CLDD</th>\n",
              "      <th>DP10</th>\n",
              "      <th>DX90</th>\n",
              "      <th>PRCP</th>\n",
              "      <th>TAVG</th>\n",
              "      <th>TMAX</th>\n",
              "      <th>TMIN</th>\n",
              "      <th>PRCP_6M</th>\n",
              "      <th>...</th>\n",
              "      <th>Dec</th>\n",
              "      <th>Feb</th>\n",
              "      <th>Jan</th>\n",
              "      <th>Jul</th>\n",
              "      <th>Jun</th>\n",
              "      <th>Mar</th>\n",
              "      <th>May</th>\n",
              "      <th>Nov</th>\n",
              "      <th>Oct</th>\n",
              "      <th>Sep</th>\n",
              "    </tr>\n",
              "  </thead>\n",
              "  <tbody>\n",
              "    <tr>\n",
              "      <th>0</th>\n",
              "      <td>0.4</td>\n",
              "      <td>8.1</td>\n",
              "      <td>21.0</td>\n",
              "      <td>0.0</td>\n",
              "      <td>0.0</td>\n",
              "      <td>0.03</td>\n",
              "      <td>59.1</td>\n",
              "      <td>72.7</td>\n",
              "      <td>45.5</td>\n",
              "      <td>0.48</td>\n",
              "      <td>...</td>\n",
              "      <td>0</td>\n",
              "      <td>0</td>\n",
              "      <td>0</td>\n",
              "      <td>0</td>\n",
              "      <td>0</td>\n",
              "      <td>0</td>\n",
              "      <td>0</td>\n",
              "      <td>1</td>\n",
              "      <td>0</td>\n",
              "      <td>0</td>\n",
              "    </tr>\n",
              "    <tr>\n",
              "      <th>1</th>\n",
              "      <td>0.1</td>\n",
              "      <td>4.3</td>\n",
              "      <td>216.0</td>\n",
              "      <td>0.0</td>\n",
              "      <td>13.0</td>\n",
              "      <td>0.00</td>\n",
              "      <td>72.0</td>\n",
              "      <td>89.3</td>\n",
              "      <td>54.6</td>\n",
              "      <td>14.98</td>\n",
              "      <td>...</td>\n",
              "      <td>0</td>\n",
              "      <td>0</td>\n",
              "      <td>0</td>\n",
              "      <td>0</td>\n",
              "      <td>0</td>\n",
              "      <td>0</td>\n",
              "      <td>0</td>\n",
              "      <td>0</td>\n",
              "      <td>0</td>\n",
              "      <td>0</td>\n",
              "    </tr>\n",
              "    <tr>\n",
              "      <th>2</th>\n",
              "      <td>0.5</td>\n",
              "      <td>3.1</td>\n",
              "      <td>6.0</td>\n",
              "      <td>0.0</td>\n",
              "      <td>1.0</td>\n",
              "      <td>0.00</td>\n",
              "      <td>60.5</td>\n",
              "      <td>70.2</td>\n",
              "      <td>50.8</td>\n",
              "      <td>8.42</td>\n",
              "      <td>...</td>\n",
              "      <td>0</td>\n",
              "      <td>0</td>\n",
              "      <td>0</td>\n",
              "      <td>0</td>\n",
              "      <td>0</td>\n",
              "      <td>0</td>\n",
              "      <td>0</td>\n",
              "      <td>0</td>\n",
              "      <td>0</td>\n",
              "      <td>1</td>\n",
              "    </tr>\n",
              "    <tr>\n",
              "      <th>3</th>\n",
              "      <td>3.0</td>\n",
              "      <td>6.7</td>\n",
              "      <td>516.0</td>\n",
              "      <td>0.0</td>\n",
              "      <td>30.0</td>\n",
              "      <td>0.00</td>\n",
              "      <td>81.6</td>\n",
              "      <td>97.5</td>\n",
              "      <td>65.8</td>\n",
              "      <td>12.97</td>\n",
              "      <td>...</td>\n",
              "      <td>0</td>\n",
              "      <td>0</td>\n",
              "      <td>0</td>\n",
              "      <td>1</td>\n",
              "      <td>0</td>\n",
              "      <td>0</td>\n",
              "      <td>0</td>\n",
              "      <td>0</td>\n",
              "      <td>0</td>\n",
              "      <td>0</td>\n",
              "    </tr>\n",
              "    <tr>\n",
              "      <th>4</th>\n",
              "      <td>0.3</td>\n",
              "      <td>7.4</td>\n",
              "      <td>165.0</td>\n",
              "      <td>2.0</td>\n",
              "      <td>9.0</td>\n",
              "      <td>0.67</td>\n",
              "      <td>68.7</td>\n",
              "      <td>82.6</td>\n",
              "      <td>54.8</td>\n",
              "      <td>7.30</td>\n",
              "      <td>...</td>\n",
              "      <td>0</td>\n",
              "      <td>0</td>\n",
              "      <td>0</td>\n",
              "      <td>0</td>\n",
              "      <td>0</td>\n",
              "      <td>0</td>\n",
              "      <td>1</td>\n",
              "      <td>0</td>\n",
              "      <td>0</td>\n",
              "      <td>0</td>\n",
              "    </tr>\n",
              "  </tbody>\n",
              "</table>\n",
              "<p>5 rows × 30 columns</p>\n",
              "</div>\n",
              "      <button class=\"colab-df-convert\" onclick=\"convertToInteractive('df-7796d7dc-da79-4c2f-b88f-b4849d158aad')\"\n",
              "              title=\"Convert this dataframe to an interactive table.\"\n",
              "              style=\"display:none;\">\n",
              "        \n",
              "  <svg xmlns=\"http://www.w3.org/2000/svg\" height=\"24px\"viewBox=\"0 0 24 24\"\n",
              "       width=\"24px\">\n",
              "    <path d=\"M0 0h24v24H0V0z\" fill=\"none\"/>\n",
              "    <path d=\"M18.56 5.44l.94 2.06.94-2.06 2.06-.94-2.06-.94-.94-2.06-.94 2.06-2.06.94zm-11 1L8.5 8.5l.94-2.06 2.06-.94-2.06-.94L8.5 2.5l-.94 2.06-2.06.94zm10 10l.94 2.06.94-2.06 2.06-.94-2.06-.94-.94-2.06-.94 2.06-2.06.94z\"/><path d=\"M17.41 7.96l-1.37-1.37c-.4-.4-.92-.59-1.43-.59-.52 0-1.04.2-1.43.59L10.3 9.45l-7.72 7.72c-.78.78-.78 2.05 0 2.83L4 21.41c.39.39.9.59 1.41.59.51 0 1.02-.2 1.41-.59l7.78-7.78 2.81-2.81c.8-.78.8-2.07 0-2.86zM5.41 20L4 18.59l7.72-7.72 1.47 1.35L5.41 20z\"/>\n",
              "  </svg>\n",
              "      </button>\n",
              "      \n",
              "  <style>\n",
              "    .colab-df-container {\n",
              "      display:flex;\n",
              "      flex-wrap:wrap;\n",
              "      gap: 12px;\n",
              "    }\n",
              "\n",
              "    .colab-df-convert {\n",
              "      background-color: #E8F0FE;\n",
              "      border: none;\n",
              "      border-radius: 50%;\n",
              "      cursor: pointer;\n",
              "      display: none;\n",
              "      fill: #1967D2;\n",
              "      height: 32px;\n",
              "      padding: 0 0 0 0;\n",
              "      width: 32px;\n",
              "    }\n",
              "\n",
              "    .colab-df-convert:hover {\n",
              "      background-color: #E2EBFA;\n",
              "      box-shadow: 0px 1px 2px rgba(60, 64, 67, 0.3), 0px 1px 3px 1px rgba(60, 64, 67, 0.15);\n",
              "      fill: #174EA6;\n",
              "    }\n",
              "\n",
              "    [theme=dark] .colab-df-convert {\n",
              "      background-color: #3B4455;\n",
              "      fill: #D2E3FC;\n",
              "    }\n",
              "\n",
              "    [theme=dark] .colab-df-convert:hover {\n",
              "      background-color: #434B5C;\n",
              "      box-shadow: 0px 1px 3px 1px rgba(0, 0, 0, 0.15);\n",
              "      filter: drop-shadow(0px 1px 2px rgba(0, 0, 0, 0.3));\n",
              "      fill: #FFFFFF;\n",
              "    }\n",
              "  </style>\n",
              "\n",
              "      <script>\n",
              "        const buttonEl =\n",
              "          document.querySelector('#df-7796d7dc-da79-4c2f-b88f-b4849d158aad button.colab-df-convert');\n",
              "        buttonEl.style.display =\n",
              "          google.colab.kernel.accessAllowed ? 'block' : 'none';\n",
              "\n",
              "        async function convertToInteractive(key) {\n",
              "          const element = document.querySelector('#df-7796d7dc-da79-4c2f-b88f-b4849d158aad');\n",
              "          const dataTable =\n",
              "            await google.colab.kernel.invokeFunction('convertToInteractive',\n",
              "                                                     [key], {});\n",
              "          if (!dataTable) return;\n",
              "\n",
              "          const docLinkHtml = 'Like what you see? Visit the ' +\n",
              "            '<a target=\"_blank\" href=https://colab.research.google.com/notebooks/data_table.ipynb>data table notebook</a>'\n",
              "            + ' to learn more about interactive tables.';\n",
              "          element.innerHTML = '';\n",
              "          dataTable['output_type'] = 'display_data';\n",
              "          await google.colab.output.renderOutput(dataTable, element);\n",
              "          const docLink = document.createElement('div');\n",
              "          docLink.innerHTML = docLinkHtml;\n",
              "          element.appendChild(docLink);\n",
              "        }\n",
              "      </script>\n",
              "    </div>\n",
              "  </div>\n",
              "  "
            ]
          },
          "metadata": {},
          "execution_count": 202
        }
      ]
    },
    {
      "cell_type": "code",
      "source": [
        "#Write the clean, encoded, and randomly shuffled data to csv before continuing \n",
        "wildfire_set1.to_csv('wildfire1_regression_clean.csv')"
      ],
      "metadata": {
        "id": "K6UaNKNepeE-"
      },
      "execution_count": 203,
      "outputs": []
    },
    {
      "cell_type": "markdown",
      "source": [
        "Split the data into train-test sets"
      ],
      "metadata": {
        "id": "FemK64fS3i80"
      }
    },
    {
      "cell_type": "code",
      "source": [
        "#We will train our models using the more recent dataset"
      ],
      "metadata": {
        "id": "0Vg-3iwdqZqp"
      },
      "execution_count": 204,
      "outputs": []
    },
    {
      "cell_type": "code",
      "source": [
        "import sklearn\n",
        "from sklearn import preprocessing\n",
        "from sklearn.model_selection import train_test_split, cross_val_score\n",
        "from sklearn.preprocessing import MinMaxScaler"
      ],
      "metadata": {
        "id": "kebkzKqcADoB"
      },
      "execution_count": 205,
      "outputs": []
    },
    {
      "cell_type": "code",
      "source": [
        "from sklearn.metrics import accuracy_score, confusion_matrix, precision_score, recall_score, f1_score, classification_report, ConfusionMatrixDisplay"
      ],
      "metadata": {
        "id": "17tarEVX4UxK"
      },
      "execution_count": 206,
      "outputs": []
    },
    {
      "cell_type": "markdown",
      "source": [
        "Utilize an 80-20 train test split on our large dataset"
      ],
      "metadata": {
        "id": "sygMrzT2S3ai"
      }
    },
    {
      "cell_type": "code",
      "source": [
        "train_data, test_data = train_test_split(wildfire_set1, test_size = 0.2, random_state = 1)"
      ],
      "metadata": {
        "id": "zUeoj5hASdCQ"
      },
      "execution_count": 207,
      "outputs": []
    },
    {
      "cell_type": "markdown",
      "source": [
        "Print the shape of training and testing datasets after the split to make sure we have done this correctly"
      ],
      "metadata": {
        "id": "UngO_p81S2QF"
      }
    },
    {
      "cell_type": "code",
      "source": [
        "print(train_data.shape)\n",
        "print(test_data.shape)"
      ],
      "metadata": {
        "colab": {
          "base_uri": "https://localhost:8080/"
        },
        "id": "wdRQAp2xSqsr",
        "outputId": "6c16d0f9-2a61-4fef-8285-cc9822a83b21"
      },
      "execution_count": 208,
      "outputs": [
        {
          "output_type": "stream",
          "name": "stdout",
          "text": [
            "(84819, 30)\n",
            "(21205, 30)\n"
          ]
        }
      ]
    },
    {
      "cell_type": "markdown",
      "source": [
        "# Feature Selection"
      ],
      "metadata": {
        "id": "W-hf1_xHYsQn"
      }
    },
    {
      "cell_type": "code",
      "source": [
        "from sklearn import linear_model"
      ],
      "metadata": {
        "id": "wpBTb4x06sHo"
      },
      "execution_count": 209,
      "outputs": []
    },
    {
      "cell_type": "code",
      "source": [
        "from sklearn.feature_selection import SelectKBest, f_regression"
      ],
      "metadata": {
        "id": "0UV_3N_a8Wrx"
      },
      "execution_count": 210,
      "outputs": []
    },
    {
      "cell_type": "code",
      "source": [
        "top_features_ordered = []"
      ],
      "metadata": {
        "id": "tZg5IEbo9ALv"
      },
      "execution_count": 211,
      "outputs": []
    },
    {
      "cell_type": "code",
      "source": [
        "train_target = train_data['AcresBurned']\n",
        "train_features = train_data.drop(columns = ['AcresBurned'])"
      ],
      "metadata": {
        "id": "miqd3g-N9Tmd"
      },
      "execution_count": 212,
      "outputs": []
    },
    {
      "cell_type": "code",
      "source": [
        "test_target = test_data['AcresBurned']\n",
        "test_features = test_data.drop(columns = ['AcresBurned'])"
      ],
      "metadata": {
        "id": "1fIcO6xhcqTW"
      },
      "execution_count": 213,
      "outputs": []
    },
    {
      "cell_type": "markdown",
      "source": [
        "Select the 6 best features using sklearn's SelectKBest (leads to lowest MAE)"
      ],
      "metadata": {
        "id": "_WqC2hHKZ8-s"
      }
    },
    {
      "cell_type": "code",
      "source": [
        "best_features = SelectKBest(f_regression, k=29)\n",
        "k_best_data = best_features.fit_transform(train_features, train_target)\n",
        "mask = best_features.get_support()\n",
        "new_features = train_features.columns[mask]\n",
        "for item in new_features:\n",
        "  if item not in top_features_ordered:\n",
        "    top_features_ordered.append(item)"
      ],
      "metadata": {
        "id": "gPXhEhYG9AzQ"
      },
      "execution_count": 214,
      "outputs": []
    },
    {
      "cell_type": "code",
      "source": [
        "count = 1\n",
        "for item in top_features_ordered:\n",
        "  print(count, '. ', item)\n",
        "  count += 1"
      ],
      "metadata": {
        "colab": {
          "base_uri": "https://localhost:8080/"
        },
        "id": "B9MYQL8NZSuY",
        "outputId": "1988f362-f17e-4cb9-a732-606478b34d02"
      },
      "execution_count": 215,
      "outputs": [
        {
          "output_type": "stream",
          "name": "stdout",
          "text": [
            "1 .  AWND\n",
            "2 .  CLDD\n",
            "3 .  DP10\n",
            "4 .  DX90\n",
            "5 .  PRCP\n",
            "6 .  TAVG\n",
            "7 .  TMAX\n",
            "8 .  TMIN\n",
            "9 .  PRCP_6M\n",
            "10 .  PRCP_RS\n",
            "11 .  DX90_2M\n",
            "12 .  DP10_2M\n",
            "13 .  Receives Snow\n",
            "14 .  Mar_SP\n",
            "15 .  Mar_WC\n",
            "16 .  Mar_Dens\n",
            "17 .  Elevation\n",
            "18 .  Apr\n",
            "19 .  Aug\n",
            "20 .  Dec\n",
            "21 .  Feb\n",
            "22 .  Jan\n",
            "23 .  Jul\n",
            "24 .  Jun\n",
            "25 .  Mar\n",
            "26 .  May\n",
            "27 .  Nov\n",
            "28 .  Oct\n",
            "29 .  Sep\n"
          ]
        }
      ]
    },
    {
      "cell_type": "markdown",
      "source": [
        "# Now we normalize the train and test sets independently"
      ],
      "metadata": {
        "id": "9xX-YAX9Tv9z"
      }
    },
    {
      "cell_type": "code",
      "source": [
        "train_data_selected_X = train_features[top_features_ordered]\n",
        "train_data_y = train_target\n",
        "\n",
        "test_data_selected_X = test_features[top_features_ordered]\n",
        "test_data_y = test_target"
      ],
      "metadata": {
        "id": "nXtXfA7naVPi"
      },
      "execution_count": 216,
      "outputs": []
    },
    {
      "cell_type": "code",
      "source": [
        "print('Train Features:')\n",
        "print('train_data_X dimensions: ', train_data_selected_X.shape)\n",
        "print('train_data_y dimensions:', train_data_y.shape, '\\n')\n",
        "\n",
        "print('Test Features:')\n",
        "print('test_data_X dimensions: ', test_data_selected_X.shape)\n",
        "print('test_data_y dimensions:', test_data_y.shape, '\\n')"
      ],
      "metadata": {
        "colab": {
          "base_uri": "https://localhost:8080/"
        },
        "id": "upFDwdf7dAzx",
        "outputId": "5621d4f2-91d6-4903-e3b4-10dd800adc35"
      },
      "execution_count": 217,
      "outputs": [
        {
          "output_type": "stream",
          "name": "stdout",
          "text": [
            "Train Features:\n",
            "train_data_X dimensions:  (84819, 29)\n",
            "train_data_y dimensions: (84819,) \n",
            "\n",
            "Test Features:\n",
            "test_data_X dimensions:  (21205, 29)\n",
            "test_data_y dimensions: (21205,) \n",
            "\n"
          ]
        }
      ]
    },
    {
      "cell_type": "markdown",
      "source": [
        "Normalize data using min-max-scalar (every feature will normalized so that range of values is 0-1) after splitting into train and test"
      ],
      "metadata": {
        "id": "w30t2GCT4t5I"
      }
    },
    {
      "cell_type": "code",
      "source": [
        "from sklearn.preprocessing import MinMaxScaler"
      ],
      "metadata": {
        "id": "LWYj2qjShnW1"
      },
      "execution_count": 218,
      "outputs": []
    },
    {
      "cell_type": "code",
      "source": [
        "#utilize minmax scaler normalization\n",
        "scaler = MinMaxScaler()\n",
        "\n",
        "#Normalize the train, validate, and test independently after splitting\n",
        "train_data_X = scaler.fit_transform(train_data_selected_X)\n",
        "#train_target = scaler(train_target)\n",
        "\n",
        "test_data_X = scaler.fit_transform(test_data_selected_X)\n",
        "#train_target = scaler(test_target)"
      ],
      "metadata": {
        "id": "VuekoRIn3GFO"
      },
      "execution_count": 219,
      "outputs": []
    },
    {
      "cell_type": "markdown",
      "source": [
        "# Fit the model using our normalized features to predict Acres Burned"
      ],
      "metadata": {
        "id": "IO_p5lpDiuVN"
      }
    },
    {
      "cell_type": "markdown",
      "source": [
        "#Deep Neural Network Regressor (all features):"
      ],
      "metadata": {
        "id": "49GVKk4efWpZ"
      }
    },
    {
      "cell_type": "code",
      "source": [
        "import tensorflow as tf\n",
        "from tensorflow import keras\n",
        "from sklearn.model_selection import train_test_split\n",
        "\n",
        "from tensorflow.keras.models import Sequential\n",
        "from tensorflow.keras.layers import Activation, Dense, BatchNormalization, Dropout\n",
        "from tensorflow.keras import optimizers\n",
        "import matplotlib.pyplot as plt\n",
        "import numpy as np \n",
        "import pandas as pd\n",
        "import seaborn as sns"
      ],
      "metadata": {
        "id": "DcUNRZ45fbyd"
      },
      "execution_count": 220,
      "outputs": []
    },
    {
      "cell_type": "code",
      "source": [
        "print('Train Features:')\n",
        "print('train_data_X dimensions: ', train_data_selected_X.shape)\n",
        "print('train_data_y dimensions:', train_data_y.shape, '\\n')\n",
        "\n",
        "print('Test Features:')\n",
        "print('test_data_X dimensions: ', test_data_selected_X.shape)\n",
        "print('test_data_y dimensions:', test_data_y.shape, '\\n')"
      ],
      "metadata": {
        "colab": {
          "base_uri": "https://localhost:8080/"
        },
        "id": "k7cHAAfAgSCK",
        "outputId": "9f4f73b6-e596-4966-cc9f-c7a796e05a22"
      },
      "execution_count": 221,
      "outputs": [
        {
          "output_type": "stream",
          "name": "stdout",
          "text": [
            "Train Features:\n",
            "train_data_X dimensions:  (84819, 29)\n",
            "train_data_y dimensions: (84819,) \n",
            "\n",
            "Test Features:\n",
            "test_data_X dimensions:  (21205, 29)\n",
            "test_data_y dimensions: (21205,) \n",
            "\n"
          ]
        }
      ]
    },
    {
      "cell_type": "markdown",
      "source": [
        "# Neural Network Regressor #1:"
      ],
      "metadata": {
        "id": "MqiowXy_feF-"
      }
    },
    {
      "cell_type": "code",
      "source": [
        "tf.random.set_seed(5)\n",
        "\n",
        "#neural network using 25 best input features and 75 epochs\n",
        "network1 = tf.keras.models.Sequential()\n",
        "network1.add(tf.keras.Input(shape=(29,)))\n",
        "network1.add(tf.keras.layers.Dense(10, activation='relu'))\n",
        "network1.add(tf.keras.layers.Dense(10, activation='relu'))\n",
        "network1.add(tf.keras.layers.Dense(1))\n",
        "\n",
        "network1.compile(\n",
        "   loss=tf.keras.losses.MeanAbsoluteError(),\n",
        "   optimizer=tf.keras.optimizers.Adam(),\n",
        "   metrics='mean_absolute_error')\n",
        "\n",
        "history1 = network1.fit(train_data_X, train_data_y, epochs=20,validation_data=(test_data_X,test_data_y))"
      ],
      "metadata": {
        "id": "4hWgbvewfinV",
        "outputId": "d7ee6410-a4e5-41df-c537-4230351b60c8",
        "colab": {
          "base_uri": "https://localhost:8080/"
        }
      },
      "execution_count": 222,
      "outputs": [
        {
          "output_type": "stream",
          "name": "stdout",
          "text": [
            "Epoch 1/20\n",
            "2651/2651 [==============================] - 6s 2ms/step - loss: 78.1561 - mean_absolute_error: 78.1561 - val_loss: 83.7290 - val_mean_absolute_error: 83.7290\n",
            "Epoch 2/20\n",
            "2651/2651 [==============================] - 5s 2ms/step - loss: 78.1470 - mean_absolute_error: 78.1470 - val_loss: 83.7245 - val_mean_absolute_error: 83.7245\n",
            "Epoch 3/20\n",
            "2651/2651 [==============================] - 6s 2ms/step - loss: 78.1455 - mean_absolute_error: 78.1455 - val_loss: 83.7237 - val_mean_absolute_error: 83.7237\n",
            "Epoch 4/20\n",
            "2651/2651 [==============================] - 5s 2ms/step - loss: 78.1447 - mean_absolute_error: 78.1447 - val_loss: 83.7240 - val_mean_absolute_error: 83.7240\n",
            "Epoch 5/20\n",
            "2651/2651 [==============================] - 6s 2ms/step - loss: 78.1445 - mean_absolute_error: 78.1445 - val_loss: 83.7257 - val_mean_absolute_error: 83.7257\n",
            "Epoch 6/20\n",
            "2651/2651 [==============================] - 6s 2ms/step - loss: 78.1438 - mean_absolute_error: 78.1438 - val_loss: 83.7231 - val_mean_absolute_error: 83.7231\n",
            "Epoch 7/20\n",
            "2651/2651 [==============================] - 6s 2ms/step - loss: 78.1433 - mean_absolute_error: 78.1433 - val_loss: 83.7231 - val_mean_absolute_error: 83.7231\n",
            "Epoch 8/20\n",
            "2651/2651 [==============================] - 6s 2ms/step - loss: 78.1429 - mean_absolute_error: 78.1429 - val_loss: 83.7245 - val_mean_absolute_error: 83.7245\n",
            "Epoch 9/20\n",
            "2651/2651 [==============================] - 6s 2ms/step - loss: 78.1426 - mean_absolute_error: 78.1426 - val_loss: 83.7224 - val_mean_absolute_error: 83.7224\n",
            "Epoch 10/20\n",
            "2651/2651 [==============================] - 5s 2ms/step - loss: 78.1422 - mean_absolute_error: 78.1422 - val_loss: 83.7230 - val_mean_absolute_error: 83.7230\n",
            "Epoch 11/20\n",
            "2651/2651 [==============================] - 5s 2ms/step - loss: 78.1418 - mean_absolute_error: 78.1418 - val_loss: 83.7227 - val_mean_absolute_error: 83.7227\n",
            "Epoch 12/20\n",
            "2651/2651 [==============================] - 6s 2ms/step - loss: 78.1416 - mean_absolute_error: 78.1416 - val_loss: 83.7202 - val_mean_absolute_error: 83.7202\n",
            "Epoch 13/20\n",
            "2651/2651 [==============================] - 6s 2ms/step - loss: 78.1411 - mean_absolute_error: 78.1411 - val_loss: 83.7219 - val_mean_absolute_error: 83.7219\n",
            "Epoch 14/20\n",
            "2651/2651 [==============================] - 5s 2ms/step - loss: 78.1413 - mean_absolute_error: 78.1413 - val_loss: 83.7198 - val_mean_absolute_error: 83.7198\n",
            "Epoch 15/20\n",
            "2651/2651 [==============================] - 6s 2ms/step - loss: 78.1408 - mean_absolute_error: 78.1408 - val_loss: 83.7226 - val_mean_absolute_error: 83.7226\n",
            "Epoch 16/20\n",
            "2651/2651 [==============================] - 6s 2ms/step - loss: 78.1404 - mean_absolute_error: 78.1404 - val_loss: 83.7197 - val_mean_absolute_error: 83.7197\n",
            "Epoch 17/20\n",
            "2651/2651 [==============================] - 5s 2ms/step - loss: 78.1406 - mean_absolute_error: 78.1406 - val_loss: 83.7194 - val_mean_absolute_error: 83.7194\n",
            "Epoch 18/20\n",
            "2651/2651 [==============================] - 6s 2ms/step - loss: 78.1401 - mean_absolute_error: 78.1401 - val_loss: 83.7210 - val_mean_absolute_error: 83.7210\n",
            "Epoch 19/20\n",
            "2651/2651 [==============================] - 5s 2ms/step - loss: 78.1401 - mean_absolute_error: 78.1401 - val_loss: 83.7187 - val_mean_absolute_error: 83.7187\n",
            "Epoch 20/20\n",
            "2651/2651 [==============================] - 5s 2ms/step - loss: 78.1401 - mean_absolute_error: 78.1401 - val_loss: 83.7191 - val_mean_absolute_error: 83.7191\n"
          ]
        }
      ]
    },
    {
      "cell_type": "code",
      "source": [
        "from matplotlib import pyplot as plt\n",
        "plt.plot(history1.history['mean_absolute_error'])\n",
        "plt.plot(history1.history['val_mean_absolute_error'])\n",
        "plt.title('Model MAE')\n",
        "plt.ylabel('Mean Absolute Error (MAE)')\n",
        "plt.xlabel('Epoch')\n",
        "plt.legend(['Train', 'Cross-Validation'], loc='upper right')\n",
        "plt.show()"
      ],
      "metadata": {
        "id": "3Pxa-KmefjnE",
        "outputId": "725353c9-357f-4596-94c5-e1eea8094d32",
        "colab": {
          "base_uri": "https://localhost:8080/",
          "height": 295
        }
      },
      "execution_count": 223,
      "outputs": [
        {
          "output_type": "display_data",
          "data": {
            "text/plain": [
              "<Figure size 432x288 with 1 Axes>"
            ],
            "image/png": "[encoded data removed]"
          },
          "metadata": {
            "needs_background": "light"
          }
        }
      ]
    },
    {
      "cell_type": "markdown",
      "source": [
        "# Neural Network Regressor #2:"
      ],
      "metadata": {
        "id": "ar0fQNSJfmTA"
      }
    },
    {
      "cell_type": "code",
      "source": [
        "tf.random.set_seed(5)\n",
        "\n",
        "from tensorflow.keras.losses import MeanSquaredLogarithmicError\n",
        "\n",
        "network2 = tf.keras.models.Sequential()\n",
        "network2.add(tf.keras.Input(shape=(29,)))\n",
        "network2.add(tf.keras.layers.Dense(8, activation='relu'))\n",
        "network2.add(tf.keras.layers.Dense(8, activation='tanh'))\n",
        "network2.add(tf.keras.layers.Dense(8, activation='relu'))\n",
        "network2.add(tf.keras.layers.Dense(1))\n",
        "\n",
        "network2.compile(\n",
        "   loss=tf.keras.losses.MeanAbsoluteError(),\n",
        "   optimizer=tf.keras.optimizers.Adam(),\n",
        "   metrics= 'mean_absolute_error')\n",
        "\n",
        "history2 = network2.fit(train_data_X, train_data_y, epochs=10,validation_data=(test_data_X,test_data_y))"
      ],
      "metadata": {
        "colab": {
          "base_uri": "https://localhost:8080/"
        },
        "id": "Qx1YpotCflx3",
        "outputId": "18aed84c-2de9-44fa-e275-e51dfaa4e2ef"
      },
      "execution_count": 224,
      "outputs": [
        {
          "output_type": "stream",
          "name": "stdout",
          "text": [
            "Epoch 1/10\n",
            "2651/2651 [==============================] - 6s 2ms/step - loss: 78.1577 - mean_absolute_error: 78.1577 - val_loss: 83.7294 - val_mean_absolute_error: 83.7294\n",
            "Epoch 2/10\n",
            "2651/2651 [==============================] - 5s 2ms/step - loss: 78.1467 - mean_absolute_error: 78.1467 - val_loss: 83.7237 - val_mean_absolute_error: 83.7237\n",
            "Epoch 3/10\n",
            "2651/2651 [==============================] - 5s 2ms/step - loss: 78.1448 - mean_absolute_error: 78.1448 - val_loss: 83.7235 - val_mean_absolute_error: 83.7235\n",
            "Epoch 4/10\n",
            "2651/2651 [==============================] - 5s 2ms/step - loss: 78.1438 - mean_absolute_error: 78.1438 - val_loss: 83.7227 - val_mean_absolute_error: 83.7227\n",
            "Epoch 5/10\n",
            "2651/2651 [==============================] - 5s 2ms/step - loss: 78.1430 - mean_absolute_error: 78.1430 - val_loss: 83.7211 - val_mean_absolute_error: 83.7211\n",
            "Epoch 6/10\n",
            "2651/2651 [==============================] - 5s 2ms/step - loss: 78.1422 - mean_absolute_error: 78.1422 - val_loss: 83.7210 - val_mean_absolute_error: 83.7210\n",
            "Epoch 7/10\n",
            "2651/2651 [==============================] - 5s 2ms/step - loss: 78.1416 - mean_absolute_error: 78.1416 - val_loss: 83.7229 - val_mean_absolute_error: 83.7229\n",
            "Epoch 8/10\n",
            "2651/2651 [==============================] - 5s 2ms/step - loss: 78.1411 - mean_absolute_error: 78.1411 - val_loss: 83.7211 - val_mean_absolute_error: 83.7211\n",
            "Epoch 9/10\n",
            "2651/2651 [==============================] - 5s 2ms/step - loss: 78.1408 - mean_absolute_error: 78.1408 - val_loss: 83.7216 - val_mean_absolute_error: 83.7216\n",
            "Epoch 10/10\n",
            "2651/2651 [==============================] - 5s 2ms/step - loss: 78.1403 - mean_absolute_error: 78.1403 - val_loss: 83.7199 - val_mean_absolute_error: 83.7199\n"
          ]
        }
      ]
    },
    {
      "cell_type": "markdown",
      "source": [
        "I'm a little confused as this model does not learn at all. However, it performs very well"
      ],
      "metadata": {
        "id": "ocP4XQYBd03v"
      }
    },
    {
      "cell_type": "code",
      "source": [
        "from matplotlib import pyplot as plt\n",
        "plt.plot(history2.history['mean_absolute_error'])\n",
        "plt.plot(history2.history['val_mean_absolute_error'])\n",
        "plt.title('Model MAE')\n",
        "plt.ylabel('Mean Absolute Error (MAE)')\n",
        "plt.xlabel('Epoch')\n",
        "plt.legend(['Train', 'Cross-Validation'], loc='upper right')\n",
        "plt.show()"
      ],
      "metadata": {
        "id": "_XaSojuKZIYB",
        "outputId": "4c233e36-0e45-40be-b4d1-96cc365d675d",
        "colab": {
          "base_uri": "https://localhost:8080/",
          "height": 295
        }
      },
      "execution_count": 225,
      "outputs": [
        {
          "output_type": "display_data",
          "data": {
            "text/plain": [
              "<Figure size 432x288 with 1 Axes>"
            ],
            "image/png": "[encoded data removed]"
          },
          "metadata": {
            "needs_background": "light"
          }
        }
      ]
    },
    {
      "cell_type": "markdown",
      "source": [
        "I experimented with different layers, activation functions, and but all gave pretty much identical results. They all perform well but models are not learning at all."
      ],
      "metadata": {
        "id": "Se3B_ymze4y0"
      }
    },
    {
      "cell_type": "code",
      "source": [
        "tf.random.set_seed(5)\n",
        "\n",
        "network3 = tf.keras.models.Sequential()\n",
        "network3.add(tf.keras.Input(shape=(29,)))\n",
        "network3.add(tf.keras.layers.Dense(20, activation='relu'))\n",
        "network3.add(tf.keras.layers.Dense(1))\n",
        "\n",
        "network3.compile(\n",
        "   loss=tf.keras.losses.MeanAbsoluteError(),\n",
        "   optimizer=tf.keras.optimizers.Adam(),\n",
        "   metrics='mean_absolute_error')\n",
        "\n",
        "history3 = network3.fit(train_data_X, train_data_y, epochs=10,validation_data=(test_data_X,test_data_y))"
      ],
      "metadata": {
        "id": "GTpMzGZbeEp2",
        "outputId": "e016b5f2-b103-4d78-c18f-29c54e13c652",
        "colab": {
          "base_uri": "https://localhost:8080/"
        }
      },
      "execution_count": 226,
      "outputs": [
        {
          "output_type": "stream",
          "name": "stdout",
          "text": [
            "Epoch 1/10\n",
            "2651/2651 [==============================] - 5s 2ms/step - loss: 78.1584 - mean_absolute_error: 78.1584 - val_loss: 83.7349 - val_mean_absolute_error: 83.7349\n",
            "Epoch 2/10\n",
            "2651/2651 [==============================] - 5s 2ms/step - loss: 78.1506 - mean_absolute_error: 78.1506 - val_loss: 83.7273 - val_mean_absolute_error: 83.7273\n",
            "Epoch 3/10\n",
            "2651/2651 [==============================] - 5s 2ms/step - loss: 78.1472 - mean_absolute_error: 78.1472 - val_loss: 83.7276 - val_mean_absolute_error: 83.7276\n",
            "Epoch 4/10\n",
            "2651/2651 [==============================] - 5s 2ms/step - loss: 78.1457 - mean_absolute_error: 78.1457 - val_loss: 83.7250 - val_mean_absolute_error: 83.7250\n",
            "Epoch 5/10\n",
            "2651/2651 [==============================] - 5s 2ms/step - loss: 78.1448 - mean_absolute_error: 78.1448 - val_loss: 83.7255 - val_mean_absolute_error: 83.7255\n",
            "Epoch 6/10\n",
            "2651/2651 [==============================] - 5s 2ms/step - loss: 78.1441 - mean_absolute_error: 78.1441 - val_loss: 83.7234 - val_mean_absolute_error: 83.7234\n",
            "Epoch 7/10\n",
            "2651/2651 [==============================] - 5s 2ms/step - loss: 78.1436 - mean_absolute_error: 78.1436 - val_loss: 83.7250 - val_mean_absolute_error: 83.7250\n",
            "Epoch 8/10\n",
            "2651/2651 [==============================] - 5s 2ms/step - loss: 78.1430 - mean_absolute_error: 78.1430 - val_loss: 83.7228 - val_mean_absolute_error: 83.7228\n",
            "Epoch 9/10\n",
            "2651/2651 [==============================] - 5s 2ms/step - loss: 78.1427 - mean_absolute_error: 78.1427 - val_loss: 83.7221 - val_mean_absolute_error: 83.7221\n",
            "Epoch 10/10\n",
            "2651/2651 [==============================] - 5s 2ms/step - loss: 78.1423 - mean_absolute_error: 78.1423 - val_loss: 83.7217 - val_mean_absolute_error: 83.7217\n"
          ]
        }
      ]
    },
    {
      "cell_type": "code",
      "source": [
        "from matplotlib import pyplot as plt\n",
        "plt.plot(history3.history['mean_absolute_error'])\n",
        "plt.plot(history3.history['val_mean_absolute_error'])\n",
        "plt.title('Model MAE')\n",
        "plt.ylabel('Mean Absolute Error (MAE)')\n",
        "plt.xlabel('Epoch')\n",
        "plt.legend(['Train', 'Cross-Validation'], loc='upper right')\n",
        "plt.show()"
      ],
      "metadata": {
        "id": "Bv1FKD6UeiTQ",
        "outputId": "0fda3d3c-fa5a-4731-c69b-2645c0e46162",
        "colab": {
          "base_uri": "https://localhost:8080/",
          "height": 295
        }
      },
      "execution_count": 227,
      "outputs": [
        {
          "output_type": "display_data",
          "data": {
            "text/plain": [
              "<Figure size 432x288 with 1 Axes>"
            ],
            "image/png": "[encoded data removed]"
          },
          "metadata": {
            "needs_background": "light"
          }
        }
      ]
    }
  ]
}