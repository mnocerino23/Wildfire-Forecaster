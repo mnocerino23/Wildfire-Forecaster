{
  "nbformat": 4,
  "nbformat_minor": 0,
  "metadata": {
    "colab": {
      "name": "Regression_LargeDataset.ipynb",
      "provenance": [],
      "collapsed_sections": [],
      "authorship_tag": "ABX9TyM0CimY1ObXgSNqQVxela9G",
      "include_colab_link": true
    },
    "kernelspec": {
      "name": "python3",
      "display_name": "Python 3"
    },
    "language_info": {
      "name": "python"
    }
  },
  "cells": [
    {
      "cell_type": "markdown",
      "metadata": {
        "id": "view-in-github",
        "colab_type": "text"
      },
      "source": [
        "<a href=\"https://colab.research.google.com/github/mnocerino23/Wildfire-Forecaster/blob/main/Regression_LargeDataset.ipynb\" target=\"_parent\"><img src=\"https://colab.research.google.com/assets/colab-badge.svg\" alt=\"Open In Colab\"/></a>"
      ]
    },
    {
      "cell_type": "markdown",
      "source": [
        "As the classification models have had some difficulties classifying the fires accurately, we will attempt to build regression models (on Acres Burned feature) instead and see if these have more success.\n",
        "\n",
        "I will deploy the following techniques:\n",
        "\n",
        "1.   One-Hot Encoding of Categorical Variables\n",
        "2.   Splitting the Training and Testing data\n",
        "3.   Feature Selection\n",
        "4.   Normalize Data\n",
        "5.   Regressions\n",
        "\n",
        "\n"
      ],
      "metadata": {
        "id": "3ZZd1_RsEVIP"
      }
    },
    {
      "cell_type": "code",
      "source": [
        "import numpy as np\n",
        "import pandas as pd\n",
        "\n",
        "from google.colab import drive\n",
        "drive.mount('/content/drive')\n",
        "\n",
        "#Read in the smaller of the final datasets. The dataset contains around 1200 fires from 2016-2019\n",
        "wildfire_set1 = pd.read_csv('/content/drive/MyDrive/Data_Science_Projects/Wildfires/wildfire_set1_w_allfeatures.csv')"
      ],
      "metadata": {
        "colab": {
          "base_uri": "https://localhost:8080/"
        },
        "id": "NFzMd74aBEyq",
        "outputId": "5ebf3500-2165-475f-fca1-cabb14f8deb7"
      },
      "execution_count": 122,
      "outputs": [
        {
          "output_type": "stream",
          "name": "stdout",
          "text": [
            "Drive already mounted at /content/drive; to attempt to forcibly remount, call drive.mount(\"/content/drive\", force_remount=True).\n"
          ]
        },
        {
          "output_type": "stream",
          "name": "stderr",
          "text": [
            "/usr/local/lib/python3.7/dist-packages/IPython/core/interactiveshell.py:2882: DtypeWarning: Columns (10) have mixed types.Specify dtype option on import or set low_memory=False.\n",
            "  exec(code_obj, self.user_global_ns, self.user_ns)\n"
          ]
        }
      ]
    },
    {
      "cell_type": "code",
      "source": [
        "wildfire_set1.head()"
      ],
      "metadata": {
        "colab": {
          "base_uri": "https://localhost:8080/",
          "height": 369
        },
        "id": "bkwikHWNCUk5",
        "outputId": "c02eb367-0d2c-4361-ac6c-27f2350bbda6"
      },
      "execution_count": 123,
      "outputs": [
        {
          "output_type": "execute_result",
          "data": {
            "text/plain": [
              "   Unnamed: 0  Year      Name  AcresBurned Fire Size Rank           Cause  \\\n",
              "0           0  2005  FOUNTAIN         0.10              A   Miscellaneous   \n",
              "1           1  2004    PIGEON         0.25              A       Lightning   \n",
              "2           2  2004     SLACK         0.10              A  Debris Burning   \n",
              "3           3  2004      DEER         0.10              A       Lightning   \n",
              "4           4  2004  STEVENOT         0.10              A       Lightning   \n",
              "\n",
              "  SOURCE_REPORTING_UNIT_NAME  DaysBurn Discovery Month  Discovered DOY  ...  \\\n",
              "0     Plumas National Forest       1.0             Feb            33.0  ...   \n",
              "1   Eldorado National Forest       1.0             May           133.0  ...   \n",
              "2   Eldorado National Forest       1.0             Jun           152.0  ...   \n",
              "3   Eldorado National Forest       5.0             Jun           180.0  ...   \n",
              "4   Eldorado National Forest       5.0             Jun           180.0  ...   \n",
              "\n",
              "  DX90_2M  DP10_2M  Receives Snow  Snow Station River Basin  Mar_SP Mar_WC  \\\n",
              "0     0.0     19.0            1.0   eureka_lake     Feather    79.6   34.0   \n",
              "1     0.0      3.0            1.0  ward_creek_2  Lake Tahoe   108.6   38.1   \n",
              "2     0.0     11.0            1.0  ward_creek_2  Lake Tahoe   108.6   38.1   \n",
              "3     0.0      3.0            1.0   echo_summit    American    87.2   28.4   \n",
              "4     0.0      3.0            1.0   echo_summit    American    87.2   28.4   \n",
              "\n",
              "  Mar_Dens Has_Elevation  Elevation  \n",
              "0     0.43             1  2965.8432  \n",
              "1     0.35             1  6207.2736  \n",
              "2     0.35             1  3454.6824  \n",
              "3     0.33             1  7759.0920  \n",
              "4     0.33             1  7598.3328  \n",
              "\n",
              "[5 rows x 40 columns]"
            ],
            "text/html": [
              "\n",
              "  <div id=\"df-3424fd70-dcdd-488c-a4db-9f2160e56a6c\">\n",
              "    <div class=\"colab-df-container\">\n",
              "      <div>\n",
              "<style scoped>\n",
              "    .dataframe tbody tr th:only-of-type {\n",
              "        vertical-align: middle;\n",
              "    }\n",
              "\n",
              "    .dataframe tbody tr th {\n",
              "        vertical-align: top;\n",
              "    }\n",
              "\n",
              "    .dataframe thead th {\n",
              "        text-align: right;\n",
              "    }\n",
              "</style>\n",
              "<table border=\"1\" class=\"dataframe\">\n",
              "  <thead>\n",
              "    <tr style=\"text-align: right;\">\n",
              "      <th></th>\n",
              "      <th>Unnamed: 0</th>\n",
              "      <th>Year</th>\n",
              "      <th>Name</th>\n",
              "      <th>AcresBurned</th>\n",
              "      <th>Fire Size Rank</th>\n",
              "      <th>Cause</th>\n",
              "      <th>SOURCE_REPORTING_UNIT_NAME</th>\n",
              "      <th>DaysBurn</th>\n",
              "      <th>Discovery Month</th>\n",
              "      <th>Discovered DOY</th>\n",
              "      <th>...</th>\n",
              "      <th>DX90_2M</th>\n",
              "      <th>DP10_2M</th>\n",
              "      <th>Receives Snow</th>\n",
              "      <th>Snow Station</th>\n",
              "      <th>River Basin</th>\n",
              "      <th>Mar_SP</th>\n",
              "      <th>Mar_WC</th>\n",
              "      <th>Mar_Dens</th>\n",
              "      <th>Has_Elevation</th>\n",
              "      <th>Elevation</th>\n",
              "    </tr>\n",
              "  </thead>\n",
              "  <tbody>\n",
              "    <tr>\n",
              "      <th>0</th>\n",
              "      <td>0</td>\n",
              "      <td>2005</td>\n",
              "      <td>FOUNTAIN</td>\n",
              "      <td>0.10</td>\n",
              "      <td>A</td>\n",
              "      <td>Miscellaneous</td>\n",
              "      <td>Plumas National Forest</td>\n",
              "      <td>1.0</td>\n",
              "      <td>Feb</td>\n",
              "      <td>33.0</td>\n",
              "      <td>...</td>\n",
              "      <td>0.0</td>\n",
              "      <td>19.0</td>\n",
              "      <td>1.0</td>\n",
              "      <td>eureka_lake</td>\n",
              "      <td>Feather</td>\n",
              "      <td>79.6</td>\n",
              "      <td>34.0</td>\n",
              "      <td>0.43</td>\n",
              "      <td>1</td>\n",
              "      <td>2965.8432</td>\n",
              "    </tr>\n",
              "    <tr>\n",
              "      <th>1</th>\n",
              "      <td>1</td>\n",
              "      <td>2004</td>\n",
              "      <td>PIGEON</td>\n",
              "      <td>0.25</td>\n",
              "      <td>A</td>\n",
              "      <td>Lightning</td>\n",
              "      <td>Eldorado National Forest</td>\n",
              "      <td>1.0</td>\n",
              "      <td>May</td>\n",
              "      <td>133.0</td>\n",
              "      <td>...</td>\n",
              "      <td>0.0</td>\n",
              "      <td>3.0</td>\n",
              "      <td>1.0</td>\n",
              "      <td>ward_creek_2</td>\n",
              "      <td>Lake Tahoe</td>\n",
              "      <td>108.6</td>\n",
              "      <td>38.1</td>\n",
              "      <td>0.35</td>\n",
              "      <td>1</td>\n",
              "      <td>6207.2736</td>\n",
              "    </tr>\n",
              "    <tr>\n",
              "      <th>2</th>\n",
              "      <td>2</td>\n",
              "      <td>2004</td>\n",
              "      <td>SLACK</td>\n",
              "      <td>0.10</td>\n",
              "      <td>A</td>\n",
              "      <td>Debris Burning</td>\n",
              "      <td>Eldorado National Forest</td>\n",
              "      <td>1.0</td>\n",
              "      <td>Jun</td>\n",
              "      <td>152.0</td>\n",
              "      <td>...</td>\n",
              "      <td>0.0</td>\n",
              "      <td>11.0</td>\n",
              "      <td>1.0</td>\n",
              "      <td>ward_creek_2</td>\n",
              "      <td>Lake Tahoe</td>\n",
              "      <td>108.6</td>\n",
              "      <td>38.1</td>\n",
              "      <td>0.35</td>\n",
              "      <td>1</td>\n",
              "      <td>3454.6824</td>\n",
              "    </tr>\n",
              "    <tr>\n",
              "      <th>3</th>\n",
              "      <td>3</td>\n",
              "      <td>2004</td>\n",
              "      <td>DEER</td>\n",
              "      <td>0.10</td>\n",
              "      <td>A</td>\n",
              "      <td>Lightning</td>\n",
              "      <td>Eldorado National Forest</td>\n",
              "      <td>5.0</td>\n",
              "      <td>Jun</td>\n",
              "      <td>180.0</td>\n",
              "      <td>...</td>\n",
              "      <td>0.0</td>\n",
              "      <td>3.0</td>\n",
              "      <td>1.0</td>\n",
              "      <td>echo_summit</td>\n",
              "      <td>American</td>\n",
              "      <td>87.2</td>\n",
              "      <td>28.4</td>\n",
              "      <td>0.33</td>\n",
              "      <td>1</td>\n",
              "      <td>7759.0920</td>\n",
              "    </tr>\n",
              "    <tr>\n",
              "      <th>4</th>\n",
              "      <td>4</td>\n",
              "      <td>2004</td>\n",
              "      <td>STEVENOT</td>\n",
              "      <td>0.10</td>\n",
              "      <td>A</td>\n",
              "      <td>Lightning</td>\n",
              "      <td>Eldorado National Forest</td>\n",
              "      <td>5.0</td>\n",
              "      <td>Jun</td>\n",
              "      <td>180.0</td>\n",
              "      <td>...</td>\n",
              "      <td>0.0</td>\n",
              "      <td>3.0</td>\n",
              "      <td>1.0</td>\n",
              "      <td>echo_summit</td>\n",
              "      <td>American</td>\n",
              "      <td>87.2</td>\n",
              "      <td>28.4</td>\n",
              "      <td>0.33</td>\n",
              "      <td>1</td>\n",
              "      <td>7598.3328</td>\n",
              "    </tr>\n",
              "  </tbody>\n",
              "</table>\n",
              "<p>5 rows × 40 columns</p>\n",
              "</div>\n",
              "      <button class=\"colab-df-convert\" onclick=\"convertToInteractive('df-3424fd70-dcdd-488c-a4db-9f2160e56a6c')\"\n",
              "              title=\"Convert this dataframe to an interactive table.\"\n",
              "              style=\"display:none;\">\n",
              "        \n",
              "  <svg xmlns=\"http://www.w3.org/2000/svg\" height=\"24px\"viewBox=\"0 0 24 24\"\n",
              "       width=\"24px\">\n",
              "    <path d=\"M0 0h24v24H0V0z\" fill=\"none\"/>\n",
              "    <path d=\"M18.56 5.44l.94 2.06.94-2.06 2.06-.94-2.06-.94-.94-2.06-.94 2.06-2.06.94zm-11 1L8.5 8.5l.94-2.06 2.06-.94-2.06-.94L8.5 2.5l-.94 2.06-2.06.94zm10 10l.94 2.06.94-2.06 2.06-.94-2.06-.94-.94-2.06-.94 2.06-2.06.94z\"/><path d=\"M17.41 7.96l-1.37-1.37c-.4-.4-.92-.59-1.43-.59-.52 0-1.04.2-1.43.59L10.3 9.45l-7.72 7.72c-.78.78-.78 2.05 0 2.83L4 21.41c.39.39.9.59 1.41.59.51 0 1.02-.2 1.41-.59l7.78-7.78 2.81-2.81c.8-.78.8-2.07 0-2.86zM5.41 20L4 18.59l7.72-7.72 1.47 1.35L5.41 20z\"/>\n",
              "  </svg>\n",
              "      </button>\n",
              "      \n",
              "  <style>\n",
              "    .colab-df-container {\n",
              "      display:flex;\n",
              "      flex-wrap:wrap;\n",
              "      gap: 12px;\n",
              "    }\n",
              "\n",
              "    .colab-df-convert {\n",
              "      background-color: #E8F0FE;\n",
              "      border: none;\n",
              "      border-radius: 50%;\n",
              "      cursor: pointer;\n",
              "      display: none;\n",
              "      fill: #1967D2;\n",
              "      height: 32px;\n",
              "      padding: 0 0 0 0;\n",
              "      width: 32px;\n",
              "    }\n",
              "\n",
              "    .colab-df-convert:hover {\n",
              "      background-color: #E2EBFA;\n",
              "      box-shadow: 0px 1px 2px rgba(60, 64, 67, 0.3), 0px 1px 3px 1px rgba(60, 64, 67, 0.15);\n",
              "      fill: #174EA6;\n",
              "    }\n",
              "\n",
              "    [theme=dark] .colab-df-convert {\n",
              "      background-color: #3B4455;\n",
              "      fill: #D2E3FC;\n",
              "    }\n",
              "\n",
              "    [theme=dark] .colab-df-convert:hover {\n",
              "      background-color: #434B5C;\n",
              "      box-shadow: 0px 1px 3px 1px rgba(0, 0, 0, 0.15);\n",
              "      filter: drop-shadow(0px 1px 2px rgba(0, 0, 0, 0.3));\n",
              "      fill: #FFFFFF;\n",
              "    }\n",
              "  </style>\n",
              "\n",
              "      <script>\n",
              "        const buttonEl =\n",
              "          document.querySelector('#df-3424fd70-dcdd-488c-a4db-9f2160e56a6c button.colab-df-convert');\n",
              "        buttonEl.style.display =\n",
              "          google.colab.kernel.accessAllowed ? 'block' : 'none';\n",
              "\n",
              "        async function convertToInteractive(key) {\n",
              "          const element = document.querySelector('#df-3424fd70-dcdd-488c-a4db-9f2160e56a6c');\n",
              "          const dataTable =\n",
              "            await google.colab.kernel.invokeFunction('convertToInteractive',\n",
              "                                                     [key], {});\n",
              "          if (!dataTable) return;\n",
              "\n",
              "          const docLinkHtml = 'Like what you see? Visit the ' +\n",
              "            '<a target=\"_blank\" href=https://colab.research.google.com/notebooks/data_table.ipynb>data table notebook</a>'\n",
              "            + ' to learn more about interactive tables.';\n",
              "          element.innerHTML = '';\n",
              "          dataTable['output_type'] = 'display_data';\n",
              "          await google.colab.output.renderOutput(dataTable, element);\n",
              "          const docLink = document.createElement('div');\n",
              "          docLink.innerHTML = docLinkHtml;\n",
              "          element.appendChild(docLink);\n",
              "        }\n",
              "      </script>\n",
              "    </div>\n",
              "  </div>\n",
              "  "
            ]
          },
          "metadata": {},
          "execution_count": 123
        }
      ]
    },
    {
      "cell_type": "code",
      "source": [
        "print(wildfire_set1.columns)"
      ],
      "metadata": {
        "id": "2tZQjtnlUWkw",
        "outputId": "b33cbeea-e209-4c15-b37b-27dad90304eb",
        "colab": {
          "base_uri": "https://localhost:8080/"
        }
      },
      "execution_count": 124,
      "outputs": [
        {
          "output_type": "stream",
          "name": "stdout",
          "text": [
            "Index(['Unnamed: 0', 'Year', 'Name', 'AcresBurned', 'Fire Size Rank', 'Cause',\n",
            "       'SOURCE_REPORTING_UNIT_NAME', 'DaysBurn', 'Discovery Month',\n",
            "       'Discovered DOY', 'Contained Month', 'Contained DOY', 'Latitude',\n",
            "       'Longitude', 'County', 'CountyIds', 'State', 'OWNER_DESCR',\n",
            "       'NOAA Station', 'Link', 'AWND', 'CLDD', 'DP10', 'DX90', 'PRCP', 'TAVG',\n",
            "       'TMAX', 'TMIN', 'PRCP_6M', 'PRCP_RS', 'DX90_2M', 'DP10_2M',\n",
            "       'Receives Snow', 'Snow Station', 'River Basin', 'Mar_SP', 'Mar_WC',\n",
            "       'Mar_Dens', 'Has_Elevation', 'Elevation'],\n",
            "      dtype='object')\n"
          ]
        }
      ]
    },
    {
      "cell_type": "markdown",
      "source": [
        "Drop all columns that will not be relevant for our regression task:Unnamed: 0, Year, Name, Cause, SOURCE_REPORTING UNIT NAME, DaysBurn, Discovered DOY, Contained Month, Contained DOY, Lat, Long, County Ids, State, OWNER_DESCR, NOAA Station, Link, Snow Station, River Basin"
      ],
      "metadata": {
        "id": "nReNUm94Bsb_"
      }
    },
    {
      "cell_type": "code",
      "source": [
        "wildfire_set1.drop(columns = ['Unnamed: 0', 'Year', 'Name', 'Cause', 'Fire Size Rank',\n",
        "                      'SOURCE_REPORTING_UNIT_NAME', 'DaysBurn','Contained Month', 'Discovered DOY',\n",
        "                      'Contained DOY','Latitude','Longitude','County','CountyIds','State','OWNER_DESCR',\n",
        "                      'NOAA Station', 'Link', 'Snow Station', 'River Basin','Has_Elevation'], inplace = True)"
      ],
      "metadata": {
        "id": "1q_TyyMvElgd"
      },
      "execution_count": 125,
      "outputs": []
    },
    {
      "cell_type": "markdown",
      "source": [
        "Taking a look at the dataset now that we have dropped the nonrelevant columns"
      ],
      "metadata": {
        "id": "-q4nd7s8BYpV"
      }
    },
    {
      "cell_type": "code",
      "source": [
        "wildfire_set1.head(5)"
      ],
      "metadata": {
        "id": "tjwTdwNlJdQP",
        "colab": {
          "base_uri": "https://localhost:8080/",
          "height": 206
        },
        "outputId": "570c7bc2-18f0-4dcf-c0d9-435cc9417730"
      },
      "execution_count": 126,
      "outputs": [
        {
          "output_type": "execute_result",
          "data": {
            "text/plain": [
              "   AcresBurned Discovery Month  AWND  CLDD  DP10  DX90  PRCP  TAVG  TMAX  \\\n",
              "0         0.10             Feb   5.6   0.0  12.0   0.0  5.33  38.9  43.9   \n",
              "1         0.25             May   6.9   0.0   2.0   0.0  0.81  47.3  63.0   \n",
              "2         0.10             Jun   5.6  36.0   0.0   0.0  0.00  63.1  70.2   \n",
              "3         0.10             Jun   5.6   0.0   1.0   0.0  0.29  54.7  72.9   \n",
              "4         0.10             Jun   5.6   0.0   1.0   0.0  0.29  54.7  72.9   \n",
              "\n",
              "   TMIN  PRCP_6M  PRCP_RS  DX90_2M  DP10_2M  Receives Snow  Mar_SP  Mar_WC  \\\n",
              "0  33.9    27.89    49.06      0.0     19.0            1.0    79.6    34.0   \n",
              "1  31.6    14.37    14.76      0.0      3.0            1.0   108.6    38.1   \n",
              "2  56.0    36.71    40.37      0.0     11.0            1.0   108.6    38.1   \n",
              "3  36.5    13.63    14.76      0.0      3.0            1.0    87.2    28.4   \n",
              "4  36.5    13.63    14.76      0.0      3.0            1.0    87.2    28.4   \n",
              "\n",
              "   Mar_Dens  Elevation  \n",
              "0      0.43  2965.8432  \n",
              "1      0.35  6207.2736  \n",
              "2      0.35  3454.6824  \n",
              "3      0.33  7759.0920  \n",
              "4      0.33  7598.3328  "
            ],
            "text/html": [
              "\n",
              "  <div id=\"df-f1fb84fd-752c-47c3-ad89-23a57d9bbc9e\">\n",
              "    <div class=\"colab-df-container\">\n",
              "      <div>\n",
              "<style scoped>\n",
              "    .dataframe tbody tr th:only-of-type {\n",
              "        vertical-align: middle;\n",
              "    }\n",
              "\n",
              "    .dataframe tbody tr th {\n",
              "        vertical-align: top;\n",
              "    }\n",
              "\n",
              "    .dataframe thead th {\n",
              "        text-align: right;\n",
              "    }\n",
              "</style>\n",
              "<table border=\"1\" class=\"dataframe\">\n",
              "  <thead>\n",
              "    <tr style=\"text-align: right;\">\n",
              "      <th></th>\n",
              "      <th>AcresBurned</th>\n",
              "      <th>Discovery Month</th>\n",
              "      <th>AWND</th>\n",
              "      <th>CLDD</th>\n",
              "      <th>DP10</th>\n",
              "      <th>DX90</th>\n",
              "      <th>PRCP</th>\n",
              "      <th>TAVG</th>\n",
              "      <th>TMAX</th>\n",
              "      <th>TMIN</th>\n",
              "      <th>PRCP_6M</th>\n",
              "      <th>PRCP_RS</th>\n",
              "      <th>DX90_2M</th>\n",
              "      <th>DP10_2M</th>\n",
              "      <th>Receives Snow</th>\n",
              "      <th>Mar_SP</th>\n",
              "      <th>Mar_WC</th>\n",
              "      <th>Mar_Dens</th>\n",
              "      <th>Elevation</th>\n",
              "    </tr>\n",
              "  </thead>\n",
              "  <tbody>\n",
              "    <tr>\n",
              "      <th>0</th>\n",
              "      <td>0.10</td>\n",
              "      <td>Feb</td>\n",
              "      <td>5.6</td>\n",
              "      <td>0.0</td>\n",
              "      <td>12.0</td>\n",
              "      <td>0.0</td>\n",
              "      <td>5.33</td>\n",
              "      <td>38.9</td>\n",
              "      <td>43.9</td>\n",
              "      <td>33.9</td>\n",
              "      <td>27.89</td>\n",
              "      <td>49.06</td>\n",
              "      <td>0.0</td>\n",
              "      <td>19.0</td>\n",
              "      <td>1.0</td>\n",
              "      <td>79.6</td>\n",
              "      <td>34.0</td>\n",
              "      <td>0.43</td>\n",
              "      <td>2965.8432</td>\n",
              "    </tr>\n",
              "    <tr>\n",
              "      <th>1</th>\n",
              "      <td>0.25</td>\n",
              "      <td>May</td>\n",
              "      <td>6.9</td>\n",
              "      <td>0.0</td>\n",
              "      <td>2.0</td>\n",
              "      <td>0.0</td>\n",
              "      <td>0.81</td>\n",
              "      <td>47.3</td>\n",
              "      <td>63.0</td>\n",
              "      <td>31.6</td>\n",
              "      <td>14.37</td>\n",
              "      <td>14.76</td>\n",
              "      <td>0.0</td>\n",
              "      <td>3.0</td>\n",
              "      <td>1.0</td>\n",
              "      <td>108.6</td>\n",
              "      <td>38.1</td>\n",
              "      <td>0.35</td>\n",
              "      <td>6207.2736</td>\n",
              "    </tr>\n",
              "    <tr>\n",
              "      <th>2</th>\n",
              "      <td>0.10</td>\n",
              "      <td>Jun</td>\n",
              "      <td>5.6</td>\n",
              "      <td>36.0</td>\n",
              "      <td>0.0</td>\n",
              "      <td>0.0</td>\n",
              "      <td>0.00</td>\n",
              "      <td>63.1</td>\n",
              "      <td>70.2</td>\n",
              "      <td>56.0</td>\n",
              "      <td>36.71</td>\n",
              "      <td>40.37</td>\n",
              "      <td>0.0</td>\n",
              "      <td>11.0</td>\n",
              "      <td>1.0</td>\n",
              "      <td>108.6</td>\n",
              "      <td>38.1</td>\n",
              "      <td>0.35</td>\n",
              "      <td>3454.6824</td>\n",
              "    </tr>\n",
              "    <tr>\n",
              "      <th>3</th>\n",
              "      <td>0.10</td>\n",
              "      <td>Jun</td>\n",
              "      <td>5.6</td>\n",
              "      <td>0.0</td>\n",
              "      <td>1.0</td>\n",
              "      <td>0.0</td>\n",
              "      <td>0.29</td>\n",
              "      <td>54.7</td>\n",
              "      <td>72.9</td>\n",
              "      <td>36.5</td>\n",
              "      <td>13.63</td>\n",
              "      <td>14.76</td>\n",
              "      <td>0.0</td>\n",
              "      <td>3.0</td>\n",
              "      <td>1.0</td>\n",
              "      <td>87.2</td>\n",
              "      <td>28.4</td>\n",
              "      <td>0.33</td>\n",
              "      <td>7759.0920</td>\n",
              "    </tr>\n",
              "    <tr>\n",
              "      <th>4</th>\n",
              "      <td>0.10</td>\n",
              "      <td>Jun</td>\n",
              "      <td>5.6</td>\n",
              "      <td>0.0</td>\n",
              "      <td>1.0</td>\n",
              "      <td>0.0</td>\n",
              "      <td>0.29</td>\n",
              "      <td>54.7</td>\n",
              "      <td>72.9</td>\n",
              "      <td>36.5</td>\n",
              "      <td>13.63</td>\n",
              "      <td>14.76</td>\n",
              "      <td>0.0</td>\n",
              "      <td>3.0</td>\n",
              "      <td>1.0</td>\n",
              "      <td>87.2</td>\n",
              "      <td>28.4</td>\n",
              "      <td>0.33</td>\n",
              "      <td>7598.3328</td>\n",
              "    </tr>\n",
              "  </tbody>\n",
              "</table>\n",
              "</div>\n",
              "      <button class=\"colab-df-convert\" onclick=\"convertToInteractive('df-f1fb84fd-752c-47c3-ad89-23a57d9bbc9e')\"\n",
              "              title=\"Convert this dataframe to an interactive table.\"\n",
              "              style=\"display:none;\">\n",
              "        \n",
              "  <svg xmlns=\"http://www.w3.org/2000/svg\" height=\"24px\"viewBox=\"0 0 24 24\"\n",
              "       width=\"24px\">\n",
              "    <path d=\"M0 0h24v24H0V0z\" fill=\"none\"/>\n",
              "    <path d=\"M18.56 5.44l.94 2.06.94-2.06 2.06-.94-2.06-.94-.94-2.06-.94 2.06-2.06.94zm-11 1L8.5 8.5l.94-2.06 2.06-.94-2.06-.94L8.5 2.5l-.94 2.06-2.06.94zm10 10l.94 2.06.94-2.06 2.06-.94-2.06-.94-.94-2.06-.94 2.06-2.06.94z\"/><path d=\"M17.41 7.96l-1.37-1.37c-.4-.4-.92-.59-1.43-.59-.52 0-1.04.2-1.43.59L10.3 9.45l-7.72 7.72c-.78.78-.78 2.05 0 2.83L4 21.41c.39.39.9.59 1.41.59.51 0 1.02-.2 1.41-.59l7.78-7.78 2.81-2.81c.8-.78.8-2.07 0-2.86zM5.41 20L4 18.59l7.72-7.72 1.47 1.35L5.41 20z\"/>\n",
              "  </svg>\n",
              "      </button>\n",
              "      \n",
              "  <style>\n",
              "    .colab-df-container {\n",
              "      display:flex;\n",
              "      flex-wrap:wrap;\n",
              "      gap: 12px;\n",
              "    }\n",
              "\n",
              "    .colab-df-convert {\n",
              "      background-color: #E8F0FE;\n",
              "      border: none;\n",
              "      border-radius: 50%;\n",
              "      cursor: pointer;\n",
              "      display: none;\n",
              "      fill: #1967D2;\n",
              "      height: 32px;\n",
              "      padding: 0 0 0 0;\n",
              "      width: 32px;\n",
              "    }\n",
              "\n",
              "    .colab-df-convert:hover {\n",
              "      background-color: #E2EBFA;\n",
              "      box-shadow: 0px 1px 2px rgba(60, 64, 67, 0.3), 0px 1px 3px 1px rgba(60, 64, 67, 0.15);\n",
              "      fill: #174EA6;\n",
              "    }\n",
              "\n",
              "    [theme=dark] .colab-df-convert {\n",
              "      background-color: #3B4455;\n",
              "      fill: #D2E3FC;\n",
              "    }\n",
              "\n",
              "    [theme=dark] .colab-df-convert:hover {\n",
              "      background-color: #434B5C;\n",
              "      box-shadow: 0px 1px 3px 1px rgba(0, 0, 0, 0.15);\n",
              "      filter: drop-shadow(0px 1px 2px rgba(0, 0, 0, 0.3));\n",
              "      fill: #FFFFFF;\n",
              "    }\n",
              "  </style>\n",
              "\n",
              "      <script>\n",
              "        const buttonEl =\n",
              "          document.querySelector('#df-f1fb84fd-752c-47c3-ad89-23a57d9bbc9e button.colab-df-convert');\n",
              "        buttonEl.style.display =\n",
              "          google.colab.kernel.accessAllowed ? 'block' : 'none';\n",
              "\n",
              "        async function convertToInteractive(key) {\n",
              "          const element = document.querySelector('#df-f1fb84fd-752c-47c3-ad89-23a57d9bbc9e');\n",
              "          const dataTable =\n",
              "            await google.colab.kernel.invokeFunction('convertToInteractive',\n",
              "                                                     [key], {});\n",
              "          if (!dataTable) return;\n",
              "\n",
              "          const docLinkHtml = 'Like what you see? Visit the ' +\n",
              "            '<a target=\"_blank\" href=https://colab.research.google.com/notebooks/data_table.ipynb>data table notebook</a>'\n",
              "            + ' to learn more about interactive tables.';\n",
              "          element.innerHTML = '';\n",
              "          dataTable['output_type'] = 'display_data';\n",
              "          await google.colab.output.renderOutput(dataTable, element);\n",
              "          const docLink = document.createElement('div');\n",
              "          docLink.innerHTML = docLinkHtml;\n",
              "          element.appendChild(docLink);\n",
              "        }\n",
              "      </script>\n",
              "    </div>\n",
              "  </div>\n",
              "  "
            ]
          },
          "metadata": {},
          "execution_count": 126
        }
      ]
    },
    {
      "cell_type": "code",
      "source": [
        "wildfire_set1.shape"
      ],
      "metadata": {
        "id": "6GGilC4CD906",
        "colab": {
          "base_uri": "https://localhost:8080/"
        },
        "outputId": "72f88b4d-5454-4813-8ea0-30353477c771"
      },
      "execution_count": 127,
      "outputs": [
        {
          "output_type": "execute_result",
          "data": {
            "text/plain": [
              "(114558, 19)"
            ]
          },
          "metadata": {},
          "execution_count": 127
        }
      ]
    },
    {
      "cell_type": "markdown",
      "source": [
        "# Investigate the presence of null values in the dataset:\n",
        "Below, we have the count of totall null values in each column for  wildfire_set1."
      ],
      "metadata": {
        "id": "5_rDqNJTLWVx"
      }
    },
    {
      "cell_type": "code",
      "source": [
        "print(wildfire_set1.isnull().sum())"
      ],
      "metadata": {
        "id": "n5pLabm4Dz5W",
        "colab": {
          "base_uri": "https://localhost:8080/"
        },
        "outputId": "0949dddd-b712-4adf-f583-06c65e77dd77"
      },
      "execution_count": 128,
      "outputs": [
        {
          "output_type": "stream",
          "name": "stdout",
          "text": [
            "AcresBurned           0\n",
            "Discovery Month       0\n",
            "AWND               6254\n",
            "CLDD               3335\n",
            "DP10               3042\n",
            "DX90               3333\n",
            "PRCP               3042\n",
            "TAVG               3335\n",
            "TMAX               3333\n",
            "TMIN               3285\n",
            "PRCP_6M            2470\n",
            "PRCP_RS            2811\n",
            "DX90_2M            2215\n",
            "DP10_2M            1599\n",
            "Receives Snow       102\n",
            "Mar_SP              102\n",
            "Mar_WC              102\n",
            "Mar_Dens            102\n",
            "Elevation             0\n",
            "dtype: int64\n"
          ]
        }
      ]
    },
    {
      "cell_type": "code",
      "source": [
        "wildfire_set1 = wildfire_set1.dropna()"
      ],
      "metadata": {
        "id": "HehdodiqFMSk"
      },
      "execution_count": 129,
      "outputs": []
    },
    {
      "cell_type": "markdown",
      "source": [
        "In the cell above, we drop all null values in the dataset. We are able to drop all nulls in this case because our dataset is sizeable with relatively few null values in each so not much data is lost in this process. Looking at the shape of the dataframe after the drops, we see that the dataset remains a similar size post drop."
      ],
      "metadata": {
        "id": "z1leCNjYNK7M"
      }
    },
    {
      "cell_type": "code",
      "source": [
        "#we lose around 50 values when dropping NaN's\n",
        "wildfire_set1.shape"
      ],
      "metadata": {
        "id": "dAacNqr7FONE",
        "colab": {
          "base_uri": "https://localhost:8080/"
        },
        "outputId": "f67216d0-0e46-418d-fb03-e6c0f49d0880"
      },
      "execution_count": 130,
      "outputs": [
        {
          "output_type": "execute_result",
          "data": {
            "text/plain": [
              "(106024, 19)"
            ]
          },
          "metadata": {},
          "execution_count": 130
        }
      ]
    },
    {
      "cell_type": "markdown",
      "source": [
        "# For our regressions, we will try to predict the number of Acres Burned in the fire"
      ],
      "metadata": {
        "id": "7CAsMA8VaiJU"
      }
    },
    {
      "cell_type": "code",
      "source": [
        "print(wildfire_set1.columns)"
      ],
      "metadata": {
        "colab": {
          "base_uri": "https://localhost:8080/"
        },
        "id": "4euqbgVncG1f",
        "outputId": "49d08765-053a-4176-9f08-22576f0489fd"
      },
      "execution_count": 131,
      "outputs": [
        {
          "output_type": "stream",
          "name": "stdout",
          "text": [
            "Index(['AcresBurned', 'Discovery Month', 'AWND', 'CLDD', 'DP10', 'DX90',\n",
            "       'PRCP', 'TAVG', 'TMAX', 'TMIN', 'PRCP_6M', 'PRCP_RS', 'DX90_2M',\n",
            "       'DP10_2M', 'Receives Snow', 'Mar_SP', 'Mar_WC', 'Mar_Dens',\n",
            "       'Elevation'],\n",
            "      dtype='object')\n"
          ]
        }
      ]
    },
    {
      "cell_type": "markdown",
      "source": [
        "Double check our datatypes before we proceed with preprocessing and model building. As we can see, all features besides discovery and fire size rank are numerical (of type float or int) so all we have to do is one hot encode the discovery month of the fire."
      ],
      "metadata": {
        "id": "rUR65XIfD407"
      }
    },
    {
      "cell_type": "code",
      "source": [
        "wildfire_set1.info()"
      ],
      "metadata": {
        "id": "Ci06aOQzA-jH",
        "colab": {
          "base_uri": "https://localhost:8080/"
        },
        "outputId": "de9821fa-6406-47d4-f055-417a85a32910"
      },
      "execution_count": 132,
      "outputs": [
        {
          "output_type": "stream",
          "name": "stdout",
          "text": [
            "<class 'pandas.core.frame.DataFrame'>\n",
            "Int64Index: 106024 entries, 0 to 114557\n",
            "Data columns (total 19 columns):\n",
            " #   Column           Non-Null Count   Dtype  \n",
            "---  ------           --------------   -----  \n",
            " 0   AcresBurned      106024 non-null  float64\n",
            " 1   Discovery Month  106024 non-null  object \n",
            " 2   AWND             106024 non-null  float64\n",
            " 3   CLDD             106024 non-null  float64\n",
            " 4   DP10             106024 non-null  float64\n",
            " 5   DX90             106024 non-null  float64\n",
            " 6   PRCP             106024 non-null  float64\n",
            " 7   TAVG             106024 non-null  float64\n",
            " 8   TMAX             106024 non-null  float64\n",
            " 9   TMIN             106024 non-null  float64\n",
            " 10  PRCP_6M          106024 non-null  float64\n",
            " 11  PRCP_RS          106024 non-null  float64\n",
            " 12  DX90_2M          106024 non-null  float64\n",
            " 13  DP10_2M          106024 non-null  float64\n",
            " 14  Receives Snow    106024 non-null  float64\n",
            " 15  Mar_SP           106024 non-null  float64\n",
            " 16  Mar_WC           106024 non-null  float64\n",
            " 17  Mar_Dens         106024 non-null  float64\n",
            " 18  Elevation        106024 non-null  float64\n",
            "dtypes: float64(18), object(1)\n",
            "memory usage: 16.2+ MB\n"
          ]
        }
      ]
    },
    {
      "cell_type": "markdown",
      "source": [
        "# Below we use the describe function to get a general outlook on mean, max, min, and percentiles for each of the numerical features in the dataset"
      ],
      "metadata": {
        "id": "2rZh5C6Vna38"
      }
    },
    {
      "cell_type": "code",
      "source": [
        "wildfire_set1.describe().transpose()"
      ],
      "metadata": {
        "id": "v4ei0qVc_rdD",
        "colab": {
          "base_uri": "https://localhost:8080/",
          "height": 614
        },
        "outputId": "fafb55bb-8ffa-4ce7-c358-3b87ef83e6bf"
      },
      "execution_count": 133,
      "outputs": [
        {
          "output_type": "execute_result",
          "data": {
            "text/plain": [
              "                  count         mean          std       min       25%  \\\n",
              "AcresBurned    106024.0    79.390867  2456.308820    0.0010    0.1000   \n",
              "AWND           106024.0     6.294384     1.875589    0.4000    4.9000   \n",
              "CLDD           106024.0   224.058279   215.023594    0.0000   19.0000   \n",
              "DP10           106024.0     0.940853     1.810402    0.0000    0.0000   \n",
              "DX90           106024.0    12.191391    11.505412    0.0000    0.0000   \n",
              "PRCP           106024.0     0.457943     1.135417    0.0000    0.0000   \n",
              "TAVG           106024.0    69.135184    10.958172   18.3000   61.4000   \n",
              "TMAX           106024.0    83.236084    13.094602   33.0000   73.8000   \n",
              "TMIN           106024.0    55.033364     9.797339    3.7000   49.0000   \n",
              "PRCP_6M        106024.0     9.410894     9.301400    0.0000    2.8700   \n",
              "PRCP_RS        106024.0    16.386058    13.181156    0.0200    7.0400   \n",
              "DX90_2M        106024.0    18.299178    19.939243    0.0000    0.0000   \n",
              "DP10_2M        106024.0     3.139883     4.419945    0.0000    0.0000   \n",
              "Receives Snow  106024.0     0.488710     0.499875    0.0000    0.0000   \n",
              "Mar_SP         106024.0    27.645534    40.044686    0.0000    0.0000   \n",
              "Mar_WC         106024.0    11.249224    16.943957    0.0000    0.0000   \n",
              "Mar_Dens       106024.0     0.186137     0.223842    0.0000    0.0000   \n",
              "Elevation      106024.0  2088.400351  2171.618682 -232.9368  341.2032   \n",
              "\n",
              "                     50%        75%          max  \n",
              "AcresBurned       0.2500     1.0000  315578.8000  \n",
              "AWND              6.0000     7.4000      17.2000  \n",
              "CLDD            180.0000   377.0000    1113.0000  \n",
              "DP10              0.0000     1.0000      24.0000  \n",
              "DX90              9.0000    23.0000      31.0000  \n",
              "PRCP              0.0400     0.4100      33.7000  \n",
              "TAVG             70.4000    77.4000     100.9000  \n",
              "TMAX             85.1000    93.8000     114.3000  \n",
              "TMIN             55.8000    61.8000      89.0000  \n",
              "PRCP_6M           6.5900    12.9100      85.9100  \n",
              "PRCP_RS          12.4200    22.3300      88.2900  \n",
              "DX90_2M          10.0000    35.0000      62.0000  \n",
              "DP10_2M           2.0000     4.0000      38.0000  \n",
              "Receives Snow     0.0000     1.0000       1.0000  \n",
              "Mar_SP            0.0000    56.5000     215.0000  \n",
              "Mar_WC            0.0000    20.6000     113.0000  \n",
              "Mar_Dens          0.0000     0.3800       1.5600  \n",
              "Elevation      1322.1624  3188.9376   13047.7416  "
            ],
            "text/html": [
              "\n",
              "  <div id=\"df-106e9886-f9c8-49d9-825b-79a832b19647\">\n",
              "    <div class=\"colab-df-container\">\n",
              "      <div>\n",
              "<style scoped>\n",
              "    .dataframe tbody tr th:only-of-type {\n",
              "        vertical-align: middle;\n",
              "    }\n",
              "\n",
              "    .dataframe tbody tr th {\n",
              "        vertical-align: top;\n",
              "    }\n",
              "\n",
              "    .dataframe thead th {\n",
              "        text-align: right;\n",
              "    }\n",
              "</style>\n",
              "<table border=\"1\" class=\"dataframe\">\n",
              "  <thead>\n",
              "    <tr style=\"text-align: right;\">\n",
              "      <th></th>\n",
              "      <th>count</th>\n",
              "      <th>mean</th>\n",
              "      <th>std</th>\n",
              "      <th>min</th>\n",
              "      <th>25%</th>\n",
              "      <th>50%</th>\n",
              "      <th>75%</th>\n",
              "      <th>max</th>\n",
              "    </tr>\n",
              "  </thead>\n",
              "  <tbody>\n",
              "    <tr>\n",
              "      <th>AcresBurned</th>\n",
              "      <td>106024.0</td>\n",
              "      <td>79.390867</td>\n",
              "      <td>2456.308820</td>\n",
              "      <td>0.0010</td>\n",
              "      <td>0.1000</td>\n",
              "      <td>0.2500</td>\n",
              "      <td>1.0000</td>\n",
              "      <td>315578.8000</td>\n",
              "    </tr>\n",
              "    <tr>\n",
              "      <th>AWND</th>\n",
              "      <td>106024.0</td>\n",
              "      <td>6.294384</td>\n",
              "      <td>1.875589</td>\n",
              "      <td>0.4000</td>\n",
              "      <td>4.9000</td>\n",
              "      <td>6.0000</td>\n",
              "      <td>7.4000</td>\n",
              "      <td>17.2000</td>\n",
              "    </tr>\n",
              "    <tr>\n",
              "      <th>CLDD</th>\n",
              "      <td>106024.0</td>\n",
              "      <td>224.058279</td>\n",
              "      <td>215.023594</td>\n",
              "      <td>0.0000</td>\n",
              "      <td>19.0000</td>\n",
              "      <td>180.0000</td>\n",
              "      <td>377.0000</td>\n",
              "      <td>1113.0000</td>\n",
              "    </tr>\n",
              "    <tr>\n",
              "      <th>DP10</th>\n",
              "      <td>106024.0</td>\n",
              "      <td>0.940853</td>\n",
              "      <td>1.810402</td>\n",
              "      <td>0.0000</td>\n",
              "      <td>0.0000</td>\n",
              "      <td>0.0000</td>\n",
              "      <td>1.0000</td>\n",
              "      <td>24.0000</td>\n",
              "    </tr>\n",
              "    <tr>\n",
              "      <th>DX90</th>\n",
              "      <td>106024.0</td>\n",
              "      <td>12.191391</td>\n",
              "      <td>11.505412</td>\n",
              "      <td>0.0000</td>\n",
              "      <td>0.0000</td>\n",
              "      <td>9.0000</td>\n",
              "      <td>23.0000</td>\n",
              "      <td>31.0000</td>\n",
              "    </tr>\n",
              "    <tr>\n",
              "      <th>PRCP</th>\n",
              "      <td>106024.0</td>\n",
              "      <td>0.457943</td>\n",
              "      <td>1.135417</td>\n",
              "      <td>0.0000</td>\n",
              "      <td>0.0000</td>\n",
              "      <td>0.0400</td>\n",
              "      <td>0.4100</td>\n",
              "      <td>33.7000</td>\n",
              "    </tr>\n",
              "    <tr>\n",
              "      <th>TAVG</th>\n",
              "      <td>106024.0</td>\n",
              "      <td>69.135184</td>\n",
              "      <td>10.958172</td>\n",
              "      <td>18.3000</td>\n",
              "      <td>61.4000</td>\n",
              "      <td>70.4000</td>\n",
              "      <td>77.4000</td>\n",
              "      <td>100.9000</td>\n",
              "    </tr>\n",
              "    <tr>\n",
              "      <th>TMAX</th>\n",
              "      <td>106024.0</td>\n",
              "      <td>83.236084</td>\n",
              "      <td>13.094602</td>\n",
              "      <td>33.0000</td>\n",
              "      <td>73.8000</td>\n",
              "      <td>85.1000</td>\n",
              "      <td>93.8000</td>\n",
              "      <td>114.3000</td>\n",
              "    </tr>\n",
              "    <tr>\n",
              "      <th>TMIN</th>\n",
              "      <td>106024.0</td>\n",
              "      <td>55.033364</td>\n",
              "      <td>9.797339</td>\n",
              "      <td>3.7000</td>\n",
              "      <td>49.0000</td>\n",
              "      <td>55.8000</td>\n",
              "      <td>61.8000</td>\n",
              "      <td>89.0000</td>\n",
              "    </tr>\n",
              "    <tr>\n",
              "      <th>PRCP_6M</th>\n",
              "      <td>106024.0</td>\n",
              "      <td>9.410894</td>\n",
              "      <td>9.301400</td>\n",
              "      <td>0.0000</td>\n",
              "      <td>2.8700</td>\n",
              "      <td>6.5900</td>\n",
              "      <td>12.9100</td>\n",
              "      <td>85.9100</td>\n",
              "    </tr>\n",
              "    <tr>\n",
              "      <th>PRCP_RS</th>\n",
              "      <td>106024.0</td>\n",
              "      <td>16.386058</td>\n",
              "      <td>13.181156</td>\n",
              "      <td>0.0200</td>\n",
              "      <td>7.0400</td>\n",
              "      <td>12.4200</td>\n",
              "      <td>22.3300</td>\n",
              "      <td>88.2900</td>\n",
              "    </tr>\n",
              "    <tr>\n",
              "      <th>DX90_2M</th>\n",
              "      <td>106024.0</td>\n",
              "      <td>18.299178</td>\n",
              "      <td>19.939243</td>\n",
              "      <td>0.0000</td>\n",
              "      <td>0.0000</td>\n",
              "      <td>10.0000</td>\n",
              "      <td>35.0000</td>\n",
              "      <td>62.0000</td>\n",
              "    </tr>\n",
              "    <tr>\n",
              "      <th>DP10_2M</th>\n",
              "      <td>106024.0</td>\n",
              "      <td>3.139883</td>\n",
              "      <td>4.419945</td>\n",
              "      <td>0.0000</td>\n",
              "      <td>0.0000</td>\n",
              "      <td>2.0000</td>\n",
              "      <td>4.0000</td>\n",
              "      <td>38.0000</td>\n",
              "    </tr>\n",
              "    <tr>\n",
              "      <th>Receives Snow</th>\n",
              "      <td>106024.0</td>\n",
              "      <td>0.488710</td>\n",
              "      <td>0.499875</td>\n",
              "      <td>0.0000</td>\n",
              "      <td>0.0000</td>\n",
              "      <td>0.0000</td>\n",
              "      <td>1.0000</td>\n",
              "      <td>1.0000</td>\n",
              "    </tr>\n",
              "    <tr>\n",
              "      <th>Mar_SP</th>\n",
              "      <td>106024.0</td>\n",
              "      <td>27.645534</td>\n",
              "      <td>40.044686</td>\n",
              "      <td>0.0000</td>\n",
              "      <td>0.0000</td>\n",
              "      <td>0.0000</td>\n",
              "      <td>56.5000</td>\n",
              "      <td>215.0000</td>\n",
              "    </tr>\n",
              "    <tr>\n",
              "      <th>Mar_WC</th>\n",
              "      <td>106024.0</td>\n",
              "      <td>11.249224</td>\n",
              "      <td>16.943957</td>\n",
              "      <td>0.0000</td>\n",
              "      <td>0.0000</td>\n",
              "      <td>0.0000</td>\n",
              "      <td>20.6000</td>\n",
              "      <td>113.0000</td>\n",
              "    </tr>\n",
              "    <tr>\n",
              "      <th>Mar_Dens</th>\n",
              "      <td>106024.0</td>\n",
              "      <td>0.186137</td>\n",
              "      <td>0.223842</td>\n",
              "      <td>0.0000</td>\n",
              "      <td>0.0000</td>\n",
              "      <td>0.0000</td>\n",
              "      <td>0.3800</td>\n",
              "      <td>1.5600</td>\n",
              "    </tr>\n",
              "    <tr>\n",
              "      <th>Elevation</th>\n",
              "      <td>106024.0</td>\n",
              "      <td>2088.400351</td>\n",
              "      <td>2171.618682</td>\n",
              "      <td>-232.9368</td>\n",
              "      <td>341.2032</td>\n",
              "      <td>1322.1624</td>\n",
              "      <td>3188.9376</td>\n",
              "      <td>13047.7416</td>\n",
              "    </tr>\n",
              "  </tbody>\n",
              "</table>\n",
              "</div>\n",
              "      <button class=\"colab-df-convert\" onclick=\"convertToInteractive('df-106e9886-f9c8-49d9-825b-79a832b19647')\"\n",
              "              title=\"Convert this dataframe to an interactive table.\"\n",
              "              style=\"display:none;\">\n",
              "        \n",
              "  <svg xmlns=\"http://www.w3.org/2000/svg\" height=\"24px\"viewBox=\"0 0 24 24\"\n",
              "       width=\"24px\">\n",
              "    <path d=\"M0 0h24v24H0V0z\" fill=\"none\"/>\n",
              "    <path d=\"M18.56 5.44l.94 2.06.94-2.06 2.06-.94-2.06-.94-.94-2.06-.94 2.06-2.06.94zm-11 1L8.5 8.5l.94-2.06 2.06-.94-2.06-.94L8.5 2.5l-.94 2.06-2.06.94zm10 10l.94 2.06.94-2.06 2.06-.94-2.06-.94-.94-2.06-.94 2.06-2.06.94z\"/><path d=\"M17.41 7.96l-1.37-1.37c-.4-.4-.92-.59-1.43-.59-.52 0-1.04.2-1.43.59L10.3 9.45l-7.72 7.72c-.78.78-.78 2.05 0 2.83L4 21.41c.39.39.9.59 1.41.59.51 0 1.02-.2 1.41-.59l7.78-7.78 2.81-2.81c.8-.78.8-2.07 0-2.86zM5.41 20L4 18.59l7.72-7.72 1.47 1.35L5.41 20z\"/>\n",
              "  </svg>\n",
              "      </button>\n",
              "      \n",
              "  <style>\n",
              "    .colab-df-container {\n",
              "      display:flex;\n",
              "      flex-wrap:wrap;\n",
              "      gap: 12px;\n",
              "    }\n",
              "\n",
              "    .colab-df-convert {\n",
              "      background-color: #E8F0FE;\n",
              "      border: none;\n",
              "      border-radius: 50%;\n",
              "      cursor: pointer;\n",
              "      display: none;\n",
              "      fill: #1967D2;\n",
              "      height: 32px;\n",
              "      padding: 0 0 0 0;\n",
              "      width: 32px;\n",
              "    }\n",
              "\n",
              "    .colab-df-convert:hover {\n",
              "      background-color: #E2EBFA;\n",
              "      box-shadow: 0px 1px 2px rgba(60, 64, 67, 0.3), 0px 1px 3px 1px rgba(60, 64, 67, 0.15);\n",
              "      fill: #174EA6;\n",
              "    }\n",
              "\n",
              "    [theme=dark] .colab-df-convert {\n",
              "      background-color: #3B4455;\n",
              "      fill: #D2E3FC;\n",
              "    }\n",
              "\n",
              "    [theme=dark] .colab-df-convert:hover {\n",
              "      background-color: #434B5C;\n",
              "      box-shadow: 0px 1px 3px 1px rgba(0, 0, 0, 0.15);\n",
              "      filter: drop-shadow(0px 1px 2px rgba(0, 0, 0, 0.3));\n",
              "      fill: #FFFFFF;\n",
              "    }\n",
              "  </style>\n",
              "\n",
              "      <script>\n",
              "        const buttonEl =\n",
              "          document.querySelector('#df-106e9886-f9c8-49d9-825b-79a832b19647 button.colab-df-convert');\n",
              "        buttonEl.style.display =\n",
              "          google.colab.kernel.accessAllowed ? 'block' : 'none';\n",
              "\n",
              "        async function convertToInteractive(key) {\n",
              "          const element = document.querySelector('#df-106e9886-f9c8-49d9-825b-79a832b19647');\n",
              "          const dataTable =\n",
              "            await google.colab.kernel.invokeFunction('convertToInteractive',\n",
              "                                                     [key], {});\n",
              "          if (!dataTable) return;\n",
              "\n",
              "          const docLinkHtml = 'Like what you see? Visit the ' +\n",
              "            '<a target=\"_blank\" href=https://colab.research.google.com/notebooks/data_table.ipynb>data table notebook</a>'\n",
              "            + ' to learn more about interactive tables.';\n",
              "          element.innerHTML = '';\n",
              "          dataTable['output_type'] = 'display_data';\n",
              "          await google.colab.output.renderOutput(dataTable, element);\n",
              "          const docLink = document.createElement('div');\n",
              "          docLink.innerHTML = docLinkHtml;\n",
              "          element.appendChild(docLink);\n",
              "        }\n",
              "      </script>\n",
              "    </div>\n",
              "  </div>\n",
              "  "
            ]
          },
          "metadata": {},
          "execution_count": 133
        }
      ]
    },
    {
      "cell_type": "markdown",
      "source": [
        "# Some Interesting Takeaways:\n",
        "*   Acres Burned has an average of 5200 acres yet the 50th percentile fire only has 87 acres burned. This tells us there are some extremely massive fires in this dataset contributing to this large mean acres burned\n",
        "*   DP10 and PRCP look to not be the best distinguishing features as 0-50th percentile for both all have 0. This can be attributed to the vast majority of the state of California having undergone extreme drought conditions during the last decade (with some exceptions in rainy coastal areas in Northern California)\n",
        "*  The temperature features seem to have a wide spread which is good\n",
        "*  Three of our engineered weather features DX90_2M, PRCP_6M, PRCP_RS seem to have a healthy spread and diverse values which is good\n",
        "*   Average Elevation that fires in the dataset occurred at is 1760 ft. with 75% occuring under 2398 ft. Interesting to see that most fires begin at lower elevations\n",
        "\n",
        "\n",
        "\n",
        "\n",
        "\n"
      ],
      "metadata": {
        "id": "ZJ0ZOwCVUufx"
      }
    },
    {
      "cell_type": "markdown",
      "source": [
        "# One-Hot Encoding Categorical Variables\n",
        "\n",
        "\n",
        "*   Encode the discovery month (the only categorical variable) in both datasets\n",
        "\n"
      ],
      "metadata": {
        "id": "3waScPx3njr9"
      }
    },
    {
      "cell_type": "code",
      "source": [
        "#Add the dummy columns to the dataset\n",
        "dummy_month = pd.get_dummies(wildfire_set1['Discovery Month'])\n",
        "wildfire_set1 = pd.merge(left = wildfire_set1, right = dummy_month, left_index = True, right_index = True)\n",
        "wildfire_set1 = wildfire_set1.drop(columns = ['Discovery Month'])\n",
        "wildfire_set1.head(10)"
      ],
      "metadata": {
        "id": "C4NMBTL2nrno",
        "outputId": "a362d487-5f29-436d-9d7c-5d2763900666",
        "colab": {
          "base_uri": "https://localhost:8080/",
          "height": 392
        }
      },
      "execution_count": 134,
      "outputs": [
        {
          "output_type": "execute_result",
          "data": {
            "text/plain": [
              "   AcresBurned  AWND  CLDD  DP10  DX90  PRCP  TAVG  TMAX  TMIN  PRCP_6M  ...  \\\n",
              "0         0.10   5.6   0.0  12.0   0.0  5.33  38.9  43.9  33.9    27.89  ...   \n",
              "1         0.25   6.9   0.0   2.0   0.0  0.81  47.3  63.0  31.6    14.37  ...   \n",
              "2         0.10   5.6  36.0   0.0   0.0  0.00  63.1  70.2  56.0    36.71  ...   \n",
              "3         0.10   5.6   0.0   1.0   0.0  0.29  54.7  72.9  36.5    13.63  ...   \n",
              "4         0.10   5.6   0.0   1.0   0.0  0.29  54.7  72.9  36.5    13.63  ...   \n",
              "5         0.10   5.1   1.0   0.0   0.0  0.00  61.1  79.8  42.3     8.31  ...   \n",
              "6         0.10   5.1   1.0   0.0   0.0  0.00  61.1  79.8  42.3     8.31  ...   \n",
              "7         0.80   6.5   7.0   9.0   0.0  4.99  55.5  67.0  44.0    25.91  ...   \n",
              "8         1.00   6.5   7.0   9.0   0.0  4.99  55.5  67.0  44.0    25.91  ...   \n",
              "9         0.10   5.1   1.0   0.0   0.0  0.00  61.1  79.8  42.3     8.31  ...   \n",
              "\n",
              "   Dec  Feb  Jan  Jul  Jun  Mar  May  Nov  Oct  Sep  \n",
              "0    0    1    0    0    0    0    0    0    0    0  \n",
              "1    0    0    0    0    0    0    1    0    0    0  \n",
              "2    0    0    0    0    1    0    0    0    0    0  \n",
              "3    0    0    0    0    1    0    0    0    0    0  \n",
              "4    0    0    0    0    1    0    0    0    0    0  \n",
              "5    0    0    0    1    0    0    0    0    0    0  \n",
              "6    0    0    0    1    0    0    0    0    0    0  \n",
              "7    0    0    0    0    0    1    0    0    0    0  \n",
              "8    0    0    0    0    0    1    0    0    0    0  \n",
              "9    0    0    0    1    0    0    0    0    0    0  \n",
              "\n",
              "[10 rows x 30 columns]"
            ],
            "text/html": [
              "\n",
              "  <div id=\"df-302d62c8-69c8-4090-af35-6dd8ef6c5e44\">\n",
              "    <div class=\"colab-df-container\">\n",
              "      <div>\n",
              "<style scoped>\n",
              "    .dataframe tbody tr th:only-of-type {\n",
              "        vertical-align: middle;\n",
              "    }\n",
              "\n",
              "    .dataframe tbody tr th {\n",
              "        vertical-align: top;\n",
              "    }\n",
              "\n",
              "    .dataframe thead th {\n",
              "        text-align: right;\n",
              "    }\n",
              "</style>\n",
              "<table border=\"1\" class=\"dataframe\">\n",
              "  <thead>\n",
              "    <tr style=\"text-align: right;\">\n",
              "      <th></th>\n",
              "      <th>AcresBurned</th>\n",
              "      <th>AWND</th>\n",
              "      <th>CLDD</th>\n",
              "      <th>DP10</th>\n",
              "      <th>DX90</th>\n",
              "      <th>PRCP</th>\n",
              "      <th>TAVG</th>\n",
              "      <th>TMAX</th>\n",
              "      <th>TMIN</th>\n",
              "      <th>PRCP_6M</th>\n",
              "      <th>...</th>\n",
              "      <th>Dec</th>\n",
              "      <th>Feb</th>\n",
              "      <th>Jan</th>\n",
              "      <th>Jul</th>\n",
              "      <th>Jun</th>\n",
              "      <th>Mar</th>\n",
              "      <th>May</th>\n",
              "      <th>Nov</th>\n",
              "      <th>Oct</th>\n",
              "      <th>Sep</th>\n",
              "    </tr>\n",
              "  </thead>\n",
              "  <tbody>\n",
              "    <tr>\n",
              "      <th>0</th>\n",
              "      <td>0.10</td>\n",
              "      <td>5.6</td>\n",
              "      <td>0.0</td>\n",
              "      <td>12.0</td>\n",
              "      <td>0.0</td>\n",
              "      <td>5.33</td>\n",
              "      <td>38.9</td>\n",
              "      <td>43.9</td>\n",
              "      <td>33.9</td>\n",
              "      <td>27.89</td>\n",
              "      <td>...</td>\n",
              "      <td>0</td>\n",
              "      <td>1</td>\n",
              "      <td>0</td>\n",
              "      <td>0</td>\n",
              "      <td>0</td>\n",
              "      <td>0</td>\n",
              "      <td>0</td>\n",
              "      <td>0</td>\n",
              "      <td>0</td>\n",
              "      <td>0</td>\n",
              "    </tr>\n",
              "    <tr>\n",
              "      <th>1</th>\n",
              "      <td>0.25</td>\n",
              "      <td>6.9</td>\n",
              "      <td>0.0</td>\n",
              "      <td>2.0</td>\n",
              "      <td>0.0</td>\n",
              "      <td>0.81</td>\n",
              "      <td>47.3</td>\n",
              "      <td>63.0</td>\n",
              "      <td>31.6</td>\n",
              "      <td>14.37</td>\n",
              "      <td>...</td>\n",
              "      <td>0</td>\n",
              "      <td>0</td>\n",
              "      <td>0</td>\n",
              "      <td>0</td>\n",
              "      <td>0</td>\n",
              "      <td>0</td>\n",
              "      <td>1</td>\n",
              "      <td>0</td>\n",
              "      <td>0</td>\n",
              "      <td>0</td>\n",
              "    </tr>\n",
              "    <tr>\n",
              "      <th>2</th>\n",
              "      <td>0.10</td>\n",
              "      <td>5.6</td>\n",
              "      <td>36.0</td>\n",
              "      <td>0.0</td>\n",
              "      <td>0.0</td>\n",
              "      <td>0.00</td>\n",
              "      <td>63.1</td>\n",
              "      <td>70.2</td>\n",
              "      <td>56.0</td>\n",
              "      <td>36.71</td>\n",
              "      <td>...</td>\n",
              "      <td>0</td>\n",
              "      <td>0</td>\n",
              "      <td>0</td>\n",
              "      <td>0</td>\n",
              "      <td>1</td>\n",
              "      <td>0</td>\n",
              "      <td>0</td>\n",
              "      <td>0</td>\n",
              "      <td>0</td>\n",
              "      <td>0</td>\n",
              "    </tr>\n",
              "    <tr>\n",
              "      <th>3</th>\n",
              "      <td>0.10</td>\n",
              "      <td>5.6</td>\n",
              "      <td>0.0</td>\n",
              "      <td>1.0</td>\n",
              "      <td>0.0</td>\n",
              "      <td>0.29</td>\n",
              "      <td>54.7</td>\n",
              "      <td>72.9</td>\n",
              "      <td>36.5</td>\n",
              "      <td>13.63</td>\n",
              "      <td>...</td>\n",
              "      <td>0</td>\n",
              "      <td>0</td>\n",
              "      <td>0</td>\n",
              "      <td>0</td>\n",
              "      <td>1</td>\n",
              "      <td>0</td>\n",
              "      <td>0</td>\n",
              "      <td>0</td>\n",
              "      <td>0</td>\n",
              "      <td>0</td>\n",
              "    </tr>\n",
              "    <tr>\n",
              "      <th>4</th>\n",
              "      <td>0.10</td>\n",
              "      <td>5.6</td>\n",
              "      <td>0.0</td>\n",
              "      <td>1.0</td>\n",
              "      <td>0.0</td>\n",
              "      <td>0.29</td>\n",
              "      <td>54.7</td>\n",
              "      <td>72.9</td>\n",
              "      <td>36.5</td>\n",
              "      <td>13.63</td>\n",
              "      <td>...</td>\n",
              "      <td>0</td>\n",
              "      <td>0</td>\n",
              "      <td>0</td>\n",
              "      <td>0</td>\n",
              "      <td>1</td>\n",
              "      <td>0</td>\n",
              "      <td>0</td>\n",
              "      <td>0</td>\n",
              "      <td>0</td>\n",
              "      <td>0</td>\n",
              "    </tr>\n",
              "    <tr>\n",
              "      <th>5</th>\n",
              "      <td>0.10</td>\n",
              "      <td>5.1</td>\n",
              "      <td>1.0</td>\n",
              "      <td>0.0</td>\n",
              "      <td>0.0</td>\n",
              "      <td>0.00</td>\n",
              "      <td>61.1</td>\n",
              "      <td>79.8</td>\n",
              "      <td>42.3</td>\n",
              "      <td>8.31</td>\n",
              "      <td>...</td>\n",
              "      <td>0</td>\n",
              "      <td>0</td>\n",
              "      <td>0</td>\n",
              "      <td>1</td>\n",
              "      <td>0</td>\n",
              "      <td>0</td>\n",
              "      <td>0</td>\n",
              "      <td>0</td>\n",
              "      <td>0</td>\n",
              "      <td>0</td>\n",
              "    </tr>\n",
              "    <tr>\n",
              "      <th>6</th>\n",
              "      <td>0.10</td>\n",
              "      <td>5.1</td>\n",
              "      <td>1.0</td>\n",
              "      <td>0.0</td>\n",
              "      <td>0.0</td>\n",
              "      <td>0.00</td>\n",
              "      <td>61.1</td>\n",
              "      <td>79.8</td>\n",
              "      <td>42.3</td>\n",
              "      <td>8.31</td>\n",
              "      <td>...</td>\n",
              "      <td>0</td>\n",
              "      <td>0</td>\n",
              "      <td>0</td>\n",
              "      <td>1</td>\n",
              "      <td>0</td>\n",
              "      <td>0</td>\n",
              "      <td>0</td>\n",
              "      <td>0</td>\n",
              "      <td>0</td>\n",
              "      <td>0</td>\n",
              "    </tr>\n",
              "    <tr>\n",
              "      <th>7</th>\n",
              "      <td>0.80</td>\n",
              "      <td>6.5</td>\n",
              "      <td>7.0</td>\n",
              "      <td>9.0</td>\n",
              "      <td>0.0</td>\n",
              "      <td>4.99</td>\n",
              "      <td>55.5</td>\n",
              "      <td>67.0</td>\n",
              "      <td>44.0</td>\n",
              "      <td>25.91</td>\n",
              "      <td>...</td>\n",
              "      <td>0</td>\n",
              "      <td>0</td>\n",
              "      <td>0</td>\n",
              "      <td>0</td>\n",
              "      <td>0</td>\n",
              "      <td>1</td>\n",
              "      <td>0</td>\n",
              "      <td>0</td>\n",
              "      <td>0</td>\n",
              "      <td>0</td>\n",
              "    </tr>\n",
              "    <tr>\n",
              "      <th>8</th>\n",
              "      <td>1.00</td>\n",
              "      <td>6.5</td>\n",
              "      <td>7.0</td>\n",
              "      <td>9.0</td>\n",
              "      <td>0.0</td>\n",
              "      <td>4.99</td>\n",
              "      <td>55.5</td>\n",
              "      <td>67.0</td>\n",
              "      <td>44.0</td>\n",
              "      <td>25.91</td>\n",
              "      <td>...</td>\n",
              "      <td>0</td>\n",
              "      <td>0</td>\n",
              "      <td>0</td>\n",
              "      <td>0</td>\n",
              "      <td>0</td>\n",
              "      <td>1</td>\n",
              "      <td>0</td>\n",
              "      <td>0</td>\n",
              "      <td>0</td>\n",
              "      <td>0</td>\n",
              "    </tr>\n",
              "    <tr>\n",
              "      <th>9</th>\n",
              "      <td>0.10</td>\n",
              "      <td>5.1</td>\n",
              "      <td>1.0</td>\n",
              "      <td>0.0</td>\n",
              "      <td>0.0</td>\n",
              "      <td>0.00</td>\n",
              "      <td>61.1</td>\n",
              "      <td>79.8</td>\n",
              "      <td>42.3</td>\n",
              "      <td>8.31</td>\n",
              "      <td>...</td>\n",
              "      <td>0</td>\n",
              "      <td>0</td>\n",
              "      <td>0</td>\n",
              "      <td>1</td>\n",
              "      <td>0</td>\n",
              "      <td>0</td>\n",
              "      <td>0</td>\n",
              "      <td>0</td>\n",
              "      <td>0</td>\n",
              "      <td>0</td>\n",
              "    </tr>\n",
              "  </tbody>\n",
              "</table>\n",
              "<p>10 rows × 30 columns</p>\n",
              "</div>\n",
              "      <button class=\"colab-df-convert\" onclick=\"convertToInteractive('df-302d62c8-69c8-4090-af35-6dd8ef6c5e44')\"\n",
              "              title=\"Convert this dataframe to an interactive table.\"\n",
              "              style=\"display:none;\">\n",
              "        \n",
              "  <svg xmlns=\"http://www.w3.org/2000/svg\" height=\"24px\"viewBox=\"0 0 24 24\"\n",
              "       width=\"24px\">\n",
              "    <path d=\"M0 0h24v24H0V0z\" fill=\"none\"/>\n",
              "    <path d=\"M18.56 5.44l.94 2.06.94-2.06 2.06-.94-2.06-.94-.94-2.06-.94 2.06-2.06.94zm-11 1L8.5 8.5l.94-2.06 2.06-.94-2.06-.94L8.5 2.5l-.94 2.06-2.06.94zm10 10l.94 2.06.94-2.06 2.06-.94-2.06-.94-.94-2.06-.94 2.06-2.06.94z\"/><path d=\"M17.41 7.96l-1.37-1.37c-.4-.4-.92-.59-1.43-.59-.52 0-1.04.2-1.43.59L10.3 9.45l-7.72 7.72c-.78.78-.78 2.05 0 2.83L4 21.41c.39.39.9.59 1.41.59.51 0 1.02-.2 1.41-.59l7.78-7.78 2.81-2.81c.8-.78.8-2.07 0-2.86zM5.41 20L4 18.59l7.72-7.72 1.47 1.35L5.41 20z\"/>\n",
              "  </svg>\n",
              "      </button>\n",
              "      \n",
              "  <style>\n",
              "    .colab-df-container {\n",
              "      display:flex;\n",
              "      flex-wrap:wrap;\n",
              "      gap: 12px;\n",
              "    }\n",
              "\n",
              "    .colab-df-convert {\n",
              "      background-color: #E8F0FE;\n",
              "      border: none;\n",
              "      border-radius: 50%;\n",
              "      cursor: pointer;\n",
              "      display: none;\n",
              "      fill: #1967D2;\n",
              "      height: 32px;\n",
              "      padding: 0 0 0 0;\n",
              "      width: 32px;\n",
              "    }\n",
              "\n",
              "    .colab-df-convert:hover {\n",
              "      background-color: #E2EBFA;\n",
              "      box-shadow: 0px 1px 2px rgba(60, 64, 67, 0.3), 0px 1px 3px 1px rgba(60, 64, 67, 0.15);\n",
              "      fill: #174EA6;\n",
              "    }\n",
              "\n",
              "    [theme=dark] .colab-df-convert {\n",
              "      background-color: #3B4455;\n",
              "      fill: #D2E3FC;\n",
              "    }\n",
              "\n",
              "    [theme=dark] .colab-df-convert:hover {\n",
              "      background-color: #434B5C;\n",
              "      box-shadow: 0px 1px 3px 1px rgba(0, 0, 0, 0.15);\n",
              "      filter: drop-shadow(0px 1px 2px rgba(0, 0, 0, 0.3));\n",
              "      fill: #FFFFFF;\n",
              "    }\n",
              "  </style>\n",
              "\n",
              "      <script>\n",
              "        const buttonEl =\n",
              "          document.querySelector('#df-302d62c8-69c8-4090-af35-6dd8ef6c5e44 button.colab-df-convert');\n",
              "        buttonEl.style.display =\n",
              "          google.colab.kernel.accessAllowed ? 'block' : 'none';\n",
              "\n",
              "        async function convertToInteractive(key) {\n",
              "          const element = document.querySelector('#df-302d62c8-69c8-4090-af35-6dd8ef6c5e44');\n",
              "          const dataTable =\n",
              "            await google.colab.kernel.invokeFunction('convertToInteractive',\n",
              "                                                     [key], {});\n",
              "          if (!dataTable) return;\n",
              "\n",
              "          const docLinkHtml = 'Like what you see? Visit the ' +\n",
              "            '<a target=\"_blank\" href=https://colab.research.google.com/notebooks/data_table.ipynb>data table notebook</a>'\n",
              "            + ' to learn more about interactive tables.';\n",
              "          element.innerHTML = '';\n",
              "          dataTable['output_type'] = 'display_data';\n",
              "          await google.colab.output.renderOutput(dataTable, element);\n",
              "          const docLink = document.createElement('div');\n",
              "          docLink.innerHTML = docLinkHtml;\n",
              "          element.appendChild(docLink);\n",
              "        }\n",
              "      </script>\n",
              "    </div>\n",
              "  </div>\n",
              "  "
            ]
          },
          "metadata": {},
          "execution_count": 134
        }
      ]
    },
    {
      "cell_type": "code",
      "source": [
        "#Radomly Shuffle the dataframe to get rid of any pre-existing organization based on size\n",
        "wildfire_set1 = wildfire_set1.sample(frac=1).reset_index(drop=True)"
      ],
      "metadata": {
        "id": "2ZGbL3aDqn3J"
      },
      "execution_count": 135,
      "outputs": []
    },
    {
      "cell_type": "code",
      "source": [
        "wildfire_set1.head()"
      ],
      "metadata": {
        "id": "c3TE3f7hXhpU",
        "outputId": "644dcee5-2483-46b6-c6d1-ed4d87988f8f",
        "colab": {
          "base_uri": "https://localhost:8080/",
          "height": 235
        }
      },
      "execution_count": 136,
      "outputs": [
        {
          "output_type": "execute_result",
          "data": {
            "text/plain": [
              "   AcresBurned  AWND   CLDD  DP10  DX90  PRCP  TAVG   TMAX  TMIN  PRCP_6M  \\\n",
              "0         0.10   5.1  227.0   0.0   2.0  0.00  71.9   79.8  63.9    10.23   \n",
              "1         0.20   4.9    0.0   1.0   0.0  0.33  55.3   74.7  35.9     2.09   \n",
              "2         0.20   5.4  616.0   0.0  31.0  0.05  84.8  102.2  67.5    17.87   \n",
              "3         1.25   5.6   39.0   2.0   4.0  0.72  58.5   72.9  44.2    18.53   \n",
              "4         0.30   4.9  322.0   1.0  20.0  0.49  75.7   91.5  60.0     6.55   \n",
              "\n",
              "   ...  Dec  Feb  Jan  Jul  Jun  Mar  May  Nov  Oct  Sep  \n",
              "0  ...    0    0    0    0    0    0    0    0    0    0  \n",
              "1  ...    0    0    0    0    0    0    0    0    0    1  \n",
              "2  ...    0    0    0    1    0    0    0    0    0    0  \n",
              "3  ...    0    0    0    0    0    0    0    0    0    0  \n",
              "4  ...    0    0    0    0    0    0    0    0    0    1  \n",
              "\n",
              "[5 rows x 30 columns]"
            ],
            "text/html": [
              "\n",
              "  <div id=\"df-f3359f2e-5291-4e3c-add7-cfdcbaae9518\">\n",
              "    <div class=\"colab-df-container\">\n",
              "      <div>\n",
              "<style scoped>\n",
              "    .dataframe tbody tr th:only-of-type {\n",
              "        vertical-align: middle;\n",
              "    }\n",
              "\n",
              "    .dataframe tbody tr th {\n",
              "        vertical-align: top;\n",
              "    }\n",
              "\n",
              "    .dataframe thead th {\n",
              "        text-align: right;\n",
              "    }\n",
              "</style>\n",
              "<table border=\"1\" class=\"dataframe\">\n",
              "  <thead>\n",
              "    <tr style=\"text-align: right;\">\n",
              "      <th></th>\n",
              "      <th>AcresBurned</th>\n",
              "      <th>AWND</th>\n",
              "      <th>CLDD</th>\n",
              "      <th>DP10</th>\n",
              "      <th>DX90</th>\n",
              "      <th>PRCP</th>\n",
              "      <th>TAVG</th>\n",
              "      <th>TMAX</th>\n",
              "      <th>TMIN</th>\n",
              "      <th>PRCP_6M</th>\n",
              "      <th>...</th>\n",
              "      <th>Dec</th>\n",
              "      <th>Feb</th>\n",
              "      <th>Jan</th>\n",
              "      <th>Jul</th>\n",
              "      <th>Jun</th>\n",
              "      <th>Mar</th>\n",
              "      <th>May</th>\n",
              "      <th>Nov</th>\n",
              "      <th>Oct</th>\n",
              "      <th>Sep</th>\n",
              "    </tr>\n",
              "  </thead>\n",
              "  <tbody>\n",
              "    <tr>\n",
              "      <th>0</th>\n",
              "      <td>0.10</td>\n",
              "      <td>5.1</td>\n",
              "      <td>227.0</td>\n",
              "      <td>0.0</td>\n",
              "      <td>2.0</td>\n",
              "      <td>0.00</td>\n",
              "      <td>71.9</td>\n",
              "      <td>79.8</td>\n",
              "      <td>63.9</td>\n",
              "      <td>10.23</td>\n",
              "      <td>...</td>\n",
              "      <td>0</td>\n",
              "      <td>0</td>\n",
              "      <td>0</td>\n",
              "      <td>0</td>\n",
              "      <td>0</td>\n",
              "      <td>0</td>\n",
              "      <td>0</td>\n",
              "      <td>0</td>\n",
              "      <td>0</td>\n",
              "      <td>0</td>\n",
              "    </tr>\n",
              "    <tr>\n",
              "      <th>1</th>\n",
              "      <td>0.20</td>\n",
              "      <td>4.9</td>\n",
              "      <td>0.0</td>\n",
              "      <td>1.0</td>\n",
              "      <td>0.0</td>\n",
              "      <td>0.33</td>\n",
              "      <td>55.3</td>\n",
              "      <td>74.7</td>\n",
              "      <td>35.9</td>\n",
              "      <td>2.09</td>\n",
              "      <td>...</td>\n",
              "      <td>0</td>\n",
              "      <td>0</td>\n",
              "      <td>0</td>\n",
              "      <td>0</td>\n",
              "      <td>0</td>\n",
              "      <td>0</td>\n",
              "      <td>0</td>\n",
              "      <td>0</td>\n",
              "      <td>0</td>\n",
              "      <td>1</td>\n",
              "    </tr>\n",
              "    <tr>\n",
              "      <th>2</th>\n",
              "      <td>0.20</td>\n",
              "      <td>5.4</td>\n",
              "      <td>616.0</td>\n",
              "      <td>0.0</td>\n",
              "      <td>31.0</td>\n",
              "      <td>0.05</td>\n",
              "      <td>84.8</td>\n",
              "      <td>102.2</td>\n",
              "      <td>67.5</td>\n",
              "      <td>17.87</td>\n",
              "      <td>...</td>\n",
              "      <td>0</td>\n",
              "      <td>0</td>\n",
              "      <td>0</td>\n",
              "      <td>1</td>\n",
              "      <td>0</td>\n",
              "      <td>0</td>\n",
              "      <td>0</td>\n",
              "      <td>0</td>\n",
              "      <td>0</td>\n",
              "      <td>0</td>\n",
              "    </tr>\n",
              "    <tr>\n",
              "      <th>3</th>\n",
              "      <td>1.25</td>\n",
              "      <td>5.6</td>\n",
              "      <td>39.0</td>\n",
              "      <td>2.0</td>\n",
              "      <td>4.0</td>\n",
              "      <td>0.72</td>\n",
              "      <td>58.5</td>\n",
              "      <td>72.9</td>\n",
              "      <td>44.2</td>\n",
              "      <td>18.53</td>\n",
              "      <td>...</td>\n",
              "      <td>0</td>\n",
              "      <td>0</td>\n",
              "      <td>0</td>\n",
              "      <td>0</td>\n",
              "      <td>0</td>\n",
              "      <td>0</td>\n",
              "      <td>0</td>\n",
              "      <td>0</td>\n",
              "      <td>0</td>\n",
              "      <td>0</td>\n",
              "    </tr>\n",
              "    <tr>\n",
              "      <th>4</th>\n",
              "      <td>0.30</td>\n",
              "      <td>4.9</td>\n",
              "      <td>322.0</td>\n",
              "      <td>1.0</td>\n",
              "      <td>20.0</td>\n",
              "      <td>0.49</td>\n",
              "      <td>75.7</td>\n",
              "      <td>91.5</td>\n",
              "      <td>60.0</td>\n",
              "      <td>6.55</td>\n",
              "      <td>...</td>\n",
              "      <td>0</td>\n",
              "      <td>0</td>\n",
              "      <td>0</td>\n",
              "      <td>0</td>\n",
              "      <td>0</td>\n",
              "      <td>0</td>\n",
              "      <td>0</td>\n",
              "      <td>0</td>\n",
              "      <td>0</td>\n",
              "      <td>1</td>\n",
              "    </tr>\n",
              "  </tbody>\n",
              "</table>\n",
              "<p>5 rows × 30 columns</p>\n",
              "</div>\n",
              "      <button class=\"colab-df-convert\" onclick=\"convertToInteractive('df-f3359f2e-5291-4e3c-add7-cfdcbaae9518')\"\n",
              "              title=\"Convert this dataframe to an interactive table.\"\n",
              "              style=\"display:none;\">\n",
              "        \n",
              "  <svg xmlns=\"http://www.w3.org/2000/svg\" height=\"24px\"viewBox=\"0 0 24 24\"\n",
              "       width=\"24px\">\n",
              "    <path d=\"M0 0h24v24H0V0z\" fill=\"none\"/>\n",
              "    <path d=\"M18.56 5.44l.94 2.06.94-2.06 2.06-.94-2.06-.94-.94-2.06-.94 2.06-2.06.94zm-11 1L8.5 8.5l.94-2.06 2.06-.94-2.06-.94L8.5 2.5l-.94 2.06-2.06.94zm10 10l.94 2.06.94-2.06 2.06-.94-2.06-.94-.94-2.06-.94 2.06-2.06.94z\"/><path d=\"M17.41 7.96l-1.37-1.37c-.4-.4-.92-.59-1.43-.59-.52 0-1.04.2-1.43.59L10.3 9.45l-7.72 7.72c-.78.78-.78 2.05 0 2.83L4 21.41c.39.39.9.59 1.41.59.51 0 1.02-.2 1.41-.59l7.78-7.78 2.81-2.81c.8-.78.8-2.07 0-2.86zM5.41 20L4 18.59l7.72-7.72 1.47 1.35L5.41 20z\"/>\n",
              "  </svg>\n",
              "      </button>\n",
              "      \n",
              "  <style>\n",
              "    .colab-df-container {\n",
              "      display:flex;\n",
              "      flex-wrap:wrap;\n",
              "      gap: 12px;\n",
              "    }\n",
              "\n",
              "    .colab-df-convert {\n",
              "      background-color: #E8F0FE;\n",
              "      border: none;\n",
              "      border-radius: 50%;\n",
              "      cursor: pointer;\n",
              "      display: none;\n",
              "      fill: #1967D2;\n",
              "      height: 32px;\n",
              "      padding: 0 0 0 0;\n",
              "      width: 32px;\n",
              "    }\n",
              "\n",
              "    .colab-df-convert:hover {\n",
              "      background-color: #E2EBFA;\n",
              "      box-shadow: 0px 1px 2px rgba(60, 64, 67, 0.3), 0px 1px 3px 1px rgba(60, 64, 67, 0.15);\n",
              "      fill: #174EA6;\n",
              "    }\n",
              "\n",
              "    [theme=dark] .colab-df-convert {\n",
              "      background-color: #3B4455;\n",
              "      fill: #D2E3FC;\n",
              "    }\n",
              "\n",
              "    [theme=dark] .colab-df-convert:hover {\n",
              "      background-color: #434B5C;\n",
              "      box-shadow: 0px 1px 3px 1px rgba(0, 0, 0, 0.15);\n",
              "      filter: drop-shadow(0px 1px 2px rgba(0, 0, 0, 0.3));\n",
              "      fill: #FFFFFF;\n",
              "    }\n",
              "  </style>\n",
              "\n",
              "      <script>\n",
              "        const buttonEl =\n",
              "          document.querySelector('#df-f3359f2e-5291-4e3c-add7-cfdcbaae9518 button.colab-df-convert');\n",
              "        buttonEl.style.display =\n",
              "          google.colab.kernel.accessAllowed ? 'block' : 'none';\n",
              "\n",
              "        async function convertToInteractive(key) {\n",
              "          const element = document.querySelector('#df-f3359f2e-5291-4e3c-add7-cfdcbaae9518');\n",
              "          const dataTable =\n",
              "            await google.colab.kernel.invokeFunction('convertToInteractive',\n",
              "                                                     [key], {});\n",
              "          if (!dataTable) return;\n",
              "\n",
              "          const docLinkHtml = 'Like what you see? Visit the ' +\n",
              "            '<a target=\"_blank\" href=https://colab.research.google.com/notebooks/data_table.ipynb>data table notebook</a>'\n",
              "            + ' to learn more about interactive tables.';\n",
              "          element.innerHTML = '';\n",
              "          dataTable['output_type'] = 'display_data';\n",
              "          await google.colab.output.renderOutput(dataTable, element);\n",
              "          const docLink = document.createElement('div');\n",
              "          docLink.innerHTML = docLinkHtml;\n",
              "          element.appendChild(docLink);\n",
              "        }\n",
              "      </script>\n",
              "    </div>\n",
              "  </div>\n",
              "  "
            ]
          },
          "metadata": {},
          "execution_count": 136
        }
      ]
    },
    {
      "cell_type": "code",
      "source": [
        "#Write the clean, encoded, and randomly shuffled data to csv before continuing \n",
        "wildfire_set1.to_csv('wildfire1_regression_clean.csv')"
      ],
      "metadata": {
        "id": "K6UaNKNepeE-"
      },
      "execution_count": 137,
      "outputs": []
    },
    {
      "cell_type": "markdown",
      "source": [
        "Split the data into train-test sets"
      ],
      "metadata": {
        "id": "FemK64fS3i80"
      }
    },
    {
      "cell_type": "code",
      "source": [
        "#We will train our models using the more recent dataset"
      ],
      "metadata": {
        "id": "0Vg-3iwdqZqp"
      },
      "execution_count": 138,
      "outputs": []
    },
    {
      "cell_type": "code",
      "source": [
        "import sklearn\n",
        "from sklearn import preprocessing\n",
        "from sklearn.model_selection import train_test_split, cross_val_score\n",
        "from sklearn.preprocessing import MinMaxScaler"
      ],
      "metadata": {
        "id": "kebkzKqcADoB"
      },
      "execution_count": 139,
      "outputs": []
    },
    {
      "cell_type": "code",
      "source": [
        "from sklearn.metrics import accuracy_score, confusion_matrix, precision_score, recall_score, f1_score, classification_report, ConfusionMatrixDisplay"
      ],
      "metadata": {
        "id": "17tarEVX4UxK"
      },
      "execution_count": 140,
      "outputs": []
    },
    {
      "cell_type": "markdown",
      "source": [
        "Utilize an 80-20 train test split on our large dataset"
      ],
      "metadata": {
        "id": "sygMrzT2S3ai"
      }
    },
    {
      "cell_type": "code",
      "source": [
        "train_data, test_data = train_test_split(wildfire_set1, test_size = 0.2, random_state = 1)"
      ],
      "metadata": {
        "id": "zUeoj5hASdCQ"
      },
      "execution_count": 141,
      "outputs": []
    },
    {
      "cell_type": "markdown",
      "source": [
        "Print the shape of training and testing datasets after the split to make sure we have done this correctly"
      ],
      "metadata": {
        "id": "UngO_p81S2QF"
      }
    },
    {
      "cell_type": "code",
      "source": [
        "print(train_data.shape)\n",
        "print(test_data.shape)"
      ],
      "metadata": {
        "colab": {
          "base_uri": "https://localhost:8080/"
        },
        "id": "wdRQAp2xSqsr",
        "outputId": "a7951a51-a982-46b7-ca1e-289cd9351d1a"
      },
      "execution_count": 142,
      "outputs": [
        {
          "output_type": "stream",
          "name": "stdout",
          "text": [
            "(84819, 30)\n",
            "(21205, 30)\n"
          ]
        }
      ]
    },
    {
      "cell_type": "markdown",
      "source": [
        "# Feature Selection"
      ],
      "metadata": {
        "id": "W-hf1_xHYsQn"
      }
    },
    {
      "cell_type": "code",
      "source": [
        "from sklearn import linear_model"
      ],
      "metadata": {
        "id": "wpBTb4x06sHo"
      },
      "execution_count": 143,
      "outputs": []
    },
    {
      "cell_type": "code",
      "source": [
        "from sklearn.feature_selection import SelectKBest, f_regression"
      ],
      "metadata": {
        "id": "0UV_3N_a8Wrx"
      },
      "execution_count": 144,
      "outputs": []
    },
    {
      "cell_type": "code",
      "source": [
        "top_features_ordered = []"
      ],
      "metadata": {
        "id": "tZg5IEbo9ALv"
      },
      "execution_count": 145,
      "outputs": []
    },
    {
      "cell_type": "code",
      "source": [
        "train_target = train_data['AcresBurned']\n",
        "train_features = train_data.drop(columns = ['AcresBurned'])"
      ],
      "metadata": {
        "id": "miqd3g-N9Tmd"
      },
      "execution_count": 146,
      "outputs": []
    },
    {
      "cell_type": "code",
      "source": [
        "test_target = test_data['AcresBurned']\n",
        "test_features = test_data.drop(columns = ['AcresBurned'])"
      ],
      "metadata": {
        "id": "1fIcO6xhcqTW"
      },
      "execution_count": 147,
      "outputs": []
    },
    {
      "cell_type": "markdown",
      "source": [
        "Select the 6 best features using sklearn's SelectKBest (leads to lowest MAE)"
      ],
      "metadata": {
        "id": "_WqC2hHKZ8-s"
      }
    },
    {
      "cell_type": "code",
      "source": [
        "best_features = SelectKBest(f_regression, k=6)\n",
        "k_best_data = best_features.fit_transform(train_features, train_target)\n",
        "mask = best_features.get_support()\n",
        "new_features = train_features.columns[mask]\n",
        "for item in new_features:\n",
        "  if item not in top_features_ordered:\n",
        "    top_features_ordered.append(item)"
      ],
      "metadata": {
        "id": "gPXhEhYG9AzQ"
      },
      "execution_count": 148,
      "outputs": []
    },
    {
      "cell_type": "code",
      "source": [
        "count = 1\n",
        "for item in top_features_ordered:\n",
        "  print(count, '. ', item)\n",
        "  count += 1"
      ],
      "metadata": {
        "colab": {
          "base_uri": "https://localhost:8080/"
        },
        "id": "B9MYQL8NZSuY",
        "outputId": "974e3595-e771-41f0-de63-01354bbdbdef"
      },
      "execution_count": 149,
      "outputs": [
        {
          "output_type": "stream",
          "name": "stdout",
          "text": [
            "1 .  DP10\n",
            "2 .  PRCP\n",
            "3 .  TMIN\n",
            "4 .  DP10_2M\n",
            "5 .  Elevation\n",
            "6 .  May\n"
          ]
        }
      ]
    },
    {
      "cell_type": "markdown",
      "source": [
        "# Now we normalize the train and test sets independently"
      ],
      "metadata": {
        "id": "9xX-YAX9Tv9z"
      }
    },
    {
      "cell_type": "code",
      "source": [
        "train_data_selected_X = train_features[top_features_ordered]\n",
        "train_data_y = train_target\n",
        "\n",
        "test_data_selected_X = test_features[top_features_ordered]\n",
        "test_data_y = test_target"
      ],
      "metadata": {
        "id": "nXtXfA7naVPi"
      },
      "execution_count": 150,
      "outputs": []
    },
    {
      "cell_type": "code",
      "source": [
        "print('Train Features:')\n",
        "print('train_data_X dimensions: ', train_data_selected_X.shape)\n",
        "print('train_data_y dimensions:', train_data_y.shape, '\\n')\n",
        "\n",
        "print('Test Features:')\n",
        "print('test_data_X dimensions: ', test_data_selected_X.shape)\n",
        "print('test_data_y dimensions:', test_data_y.shape, '\\n')"
      ],
      "metadata": {
        "colab": {
          "base_uri": "https://localhost:8080/"
        },
        "id": "upFDwdf7dAzx",
        "outputId": "789012f1-04e6-4224-cf27-dd563dba0848"
      },
      "execution_count": 151,
      "outputs": [
        {
          "output_type": "stream",
          "name": "stdout",
          "text": [
            "Train Features:\n",
            "train_data_X dimensions:  (84819, 6)\n",
            "train_data_y dimensions: (84819,) \n",
            "\n",
            "Test Features:\n",
            "test_data_X dimensions:  (21205, 6)\n",
            "test_data_y dimensions: (21205,) \n",
            "\n"
          ]
        }
      ]
    },
    {
      "cell_type": "markdown",
      "source": [
        "Normalize data using min-max-scalar (every feature will normalized so that range of values is 0-1) after splitting into train and test"
      ],
      "metadata": {
        "id": "w30t2GCT4t5I"
      }
    },
    {
      "cell_type": "code",
      "source": [
        "from sklearn.preprocessing import MinMaxScaler"
      ],
      "metadata": {
        "id": "LWYj2qjShnW1"
      },
      "execution_count": 152,
      "outputs": []
    },
    {
      "cell_type": "code",
      "source": [
        "#utilize minmax scaler normalization\n",
        "scaler = MinMaxScaler()\n",
        "\n",
        "#Normalize the train, validate, and test independently after splitting\n",
        "train_data_X = scaler.fit_transform(train_data_selected_X)\n",
        "#train_target = scaler(train_target)\n",
        "\n",
        "test_data_X = scaler.fit_transform(test_data_selected_X)\n",
        "#train_target = scaler(test_target)"
      ],
      "metadata": {
        "id": "VuekoRIn3GFO"
      },
      "execution_count": 153,
      "outputs": []
    },
    {
      "cell_type": "markdown",
      "source": [
        "# Fit the model using our normalized features to predict Acres Burned"
      ],
      "metadata": {
        "id": "IO_p5lpDiuVN"
      }
    },
    {
      "cell_type": "code",
      "source": [
        "multivariate_regression = linear_model.LinearRegression()\n",
        "multivariate_regression.fit(train_data_X, train_data_y)"
      ],
      "metadata": {
        "colab": {
          "base_uri": "https://localhost:8080/"
        },
        "id": "8z_ayADv6tIv",
        "outputId": "b74eeb8e-584e-49b1-90c3-6270b4b2c34f"
      },
      "execution_count": 154,
      "outputs": [
        {
          "output_type": "execute_result",
          "data": {
            "text/plain": [
              "LinearRegression()"
            ]
          },
          "metadata": {},
          "execution_count": 154
        }
      ]
    },
    {
      "cell_type": "markdown",
      "source": [
        "Model coefficients: (Beta's)"
      ],
      "metadata": {
        "id": "KQz2mYP0i1my"
      }
    },
    {
      "cell_type": "code",
      "source": [
        "multivariate_regression.coef_"
      ],
      "metadata": {
        "colab": {
          "base_uri": "https://localhost:8080/"
        },
        "id": "36liNGgHiEt5",
        "outputId": "349ad7ae-a783-42f1-90c0-a2ba7d59d1fe"
      },
      "execution_count": 155,
      "outputs": [
        {
          "output_type": "execute_result",
          "data": {
            "text/plain": [
              "array([-117.65851164,  -70.88946277,   67.36741474, -202.80882786,\n",
              "        222.26928684,  -36.11012713])"
            ]
          },
          "metadata": {},
          "execution_count": 155
        }
      ]
    },
    {
      "cell_type": "markdown",
      "source": [
        "Model intercept:"
      ],
      "metadata": {
        "id": "zDZd8K4Ni4Fi"
      }
    },
    {
      "cell_type": "code",
      "source": [
        "multivariate_regression.intercept_"
      ],
      "metadata": {
        "colab": {
          "base_uri": "https://localhost:8080/"
        },
        "id": "5rKTJkShirml",
        "outputId": "ba102b98-e596-4897-9956-34617dd6071b"
      },
      "execution_count": 156,
      "outputs": [
        {
          "output_type": "execute_result",
          "data": {
            "text/plain": [
              "27.964751185174407"
            ]
          },
          "metadata": {},
          "execution_count": 156
        }
      ]
    },
    {
      "cell_type": "code",
      "source": [
        "from sklearn import metrics\n",
        "import numpy as np"
      ],
      "metadata": {
        "id": "MW4vchlLhkrQ"
      },
      "execution_count": 157,
      "outputs": []
    },
    {
      "cell_type": "code",
      "source": [
        "y_predicted = multivariate_regression.predict(test_data_X)"
      ],
      "metadata": {
        "id": "Qx-qkNuRgB5n"
      },
      "execution_count": 158,
      "outputs": []
    },
    {
      "cell_type": "code",
      "source": [
        "print('Mean Squared Error: ', metrics.mean_squared_error(test_data_y, y_predicted), '\\n')\n",
        "print('Mean Absolute Error: ', metrics.mean_absolute_error(test_data_y, y_predicted), '\\n')\n",
        "print('Root Mean Squared Error: ', np.sqrt(metrics.mean_squared_error(test_data_y, y_predicted)))"
      ],
      "metadata": {
        "colab": {
          "base_uri": "https://localhost:8080/"
        },
        "id": "3jr-UBVgjEfc",
        "outputId": "01dff92b-a714-403b-94c3-839a0a48d71c"
      },
      "execution_count": 159,
      "outputs": [
        {
          "output_type": "stream",
          "name": "stdout",
          "text": [
            "Mean Squared Error:  5016393.899297369 \n",
            "\n",
            "Mean Absolute Error:  150.37781667721984 \n",
            "\n",
            "Root Mean Squared Error:  2239.7307649129098\n"
          ]
        }
      ]
    },
    {
      "cell_type": "markdown",
      "source": [
        "Note: The multivariate linear regression performs MUCH better on the large dataset with a MAE of 142 acres vs. that of 137 acres when trained on the small dataset"
      ],
      "metadata": {
        "id": "aOA69qz2y1N1"
      }
    },
    {
      "cell_type": "markdown",
      "source": [
        "Now, test this model on our second dataset to see if it generalizes well"
      ],
      "metadata": {
        "id": "zztRazlyb0OI"
      }
    },
    {
      "cell_type": "code",
      "source": [
        "wildfire_set2 = pd.read_csv('/content/drive/MyDrive/Data_Science_Projects/Wildfires/wildfire_set2_w_allfeatures.csv')"
      ],
      "metadata": {
        "id": "yqJtLheL1OGM"
      },
      "execution_count": 160,
      "outputs": []
    },
    {
      "cell_type": "code",
      "source": [
        "print(wildfire_set2.columns)"
      ],
      "metadata": {
        "colab": {
          "base_uri": "https://localhost:8080/"
        },
        "id": "16G72Y3w2yPV",
        "outputId": "ea496f32-99b3-4c81-d60b-f146108cbe19"
      },
      "execution_count": 161,
      "outputs": [
        {
          "output_type": "stream",
          "name": "stdout",
          "text": [
            "Index(['Unnamed: 0', 'Year', 'Name', 'AcresBurned', 'Fire Size Rank', 'Cause',\n",
            "       'SOURCE_REPORTING_UNIT_NAME', 'DaysBurn', 'Discovery Month',\n",
            "       'Discovered DOY', 'Contained Month', 'Contained DOY', 'Latitude',\n",
            "       'Longitude', 'County', 'CountyIds', 'State', 'OWNER_DESCR',\n",
            "       'NOAA Station', 'Link', 'AWND', 'CLDD', 'DP10', 'DX90', 'PRCP', 'TAVG',\n",
            "       'TMAX', 'TMIN', 'PRCP_6M', 'PRCP_RS', 'DX90_2M', 'DP10_2M',\n",
            "       'Receives Snow', 'Snow Station', 'River Basin', 'Mar_SP', 'Mar_WC',\n",
            "       'Mar_Dens', 'Has_Elevation', 'Elevation'],\n",
            "      dtype='object')\n"
          ]
        }
      ]
    },
    {
      "cell_type": "code",
      "source": [
        "wildfire_set2.drop(columns = ['Unnamed: 0', 'Year', 'Name', 'Cause', 'Fire Size Rank',\n",
        "                      'SOURCE_REPORTING_UNIT_NAME', 'DaysBurn','Contained Month', 'Discovered DOY',\n",
        "                      'Contained DOY','Latitude','Longitude','County','CountyIds','State','OWNER_DESCR',\n",
        "                      'NOAA Station', 'Link', 'Snow Station', 'River Basin','Has_Elevation'], inplace = True)"
      ],
      "metadata": {
        "id": "XTB5bEZX27aE"
      },
      "execution_count": 162,
      "outputs": []
    },
    {
      "cell_type": "code",
      "source": [
        "wildfire_set2.info()"
      ],
      "metadata": {
        "colab": {
          "base_uri": "https://localhost:8080/"
        },
        "id": "_KF6GoQn28t2",
        "outputId": "b516b181-f7c0-4044-a20b-5eb5e24caa2e"
      },
      "execution_count": 163,
      "outputs": [
        {
          "output_type": "stream",
          "name": "stdout",
          "text": [
            "<class 'pandas.core.frame.DataFrame'>\n",
            "RangeIndex: 1156 entries, 0 to 1155\n",
            "Data columns (total 19 columns):\n",
            " #   Column           Non-Null Count  Dtype  \n",
            "---  ------           --------------  -----  \n",
            " 0   AcresBurned      1153 non-null   float64\n",
            " 1   Discovery Month  1156 non-null   object \n",
            " 2   AWND             1119 non-null   float64\n",
            " 3   CLDD             1119 non-null   float64\n",
            " 4   DP10             1124 non-null   float64\n",
            " 5   DX90             1122 non-null   float64\n",
            " 6   PRCP             1124 non-null   float64\n",
            " 7   TAVG             1119 non-null   float64\n",
            " 8   TMAX             1122 non-null   float64\n",
            " 9   TMIN             1119 non-null   float64\n",
            " 10  PRCP_6M          1149 non-null   float64\n",
            " 11  PRCP_RS          1146 non-null   float64\n",
            " 12  DX90_2M          1154 non-null   float64\n",
            " 13  DP10_2M          1155 non-null   float64\n",
            " 14  Receives Snow    1156 non-null   int64  \n",
            " 15  Mar_SP           1156 non-null   float64\n",
            " 16  Mar_WC           1156 non-null   float64\n",
            " 17  Mar_Dens         1156 non-null   float64\n",
            " 18  Elevation        1156 non-null   float64\n",
            "dtypes: float64(17), int64(1), object(1)\n",
            "memory usage: 171.7+ KB\n"
          ]
        }
      ]
    },
    {
      "cell_type": "code",
      "source": [
        "wildfire_set2 = wildfire_set2.dropna()"
      ],
      "metadata": {
        "id": "fdRyEHzM3BzX"
      },
      "execution_count": 164,
      "outputs": []
    },
    {
      "cell_type": "code",
      "source": [
        "dummy_month = pd.get_dummies(wildfire_set2['Discovery Month'])\n",
        "wildfire_set2 = pd.merge(left = wildfire_set2, right = dummy_month, left_index = True, right_index = True)\n",
        "wildfire_set2 = wildfire_set2.drop(columns = ['Discovery Month'])\n",
        "wildfire_set2.head(10)"
      ],
      "metadata": {
        "colab": {
          "base_uri": "https://localhost:8080/",
          "height": 392
        },
        "id": "MR9fhdiH3JBq",
        "outputId": "b2ea7cd4-bebb-4120-eff4-83456d5194cb"
      },
      "execution_count": 165,
      "outputs": [
        {
          "output_type": "execute_result",
          "data": {
            "text/plain": [
              "   AcresBurned  AWND   CLDD  DP10  DX90  PRCP  TAVG  TMAX  TMIN  PRCP_6M  ...  \\\n",
              "0     132127.0   6.5    0.0   0.0   0.0  0.00  58.8  65.2  52.4    14.11  ...   \n",
              "1      48019.0   6.7  529.0   0.0  22.0  0.00  82.6  96.6  68.6     4.68  ...   \n",
              "2      46344.0   6.9  237.0   0.0  23.0  0.00  72.6  92.6  52.6     2.52  ...   \n",
              "3      36274.0   6.5  455.0   0.0  28.0  0.00  79.7  94.6  64.7     3.41  ...   \n",
              "4      33867.0   4.5    0.0   0.0   0.0  0.02  56.4  62.9  49.9    18.03  ...   \n",
              "5      29322.0   6.0  629.0   0.0  31.0  0.00  85.3  99.2  71.4     2.15  ...   \n",
              "6      12518.0   6.3   53.0   0.0   3.0  0.00  64.1  76.2  52.0     3.84  ...   \n",
              "7       8110.0   6.5  455.0   0.0  28.0  0.00  79.7  94.6  64.7     3.41  ...   \n",
              "8       7609.0   8.3  216.0   0.0  18.0  0.00  71.2  91.5  50.9     7.63  ...   \n",
              "9       7474.0   5.6   19.0   0.0   0.0  0.01  63.1  71.0  55.3     9.62  ...   \n",
              "\n",
              "   Dec  Feb  Jan  Jul  Jun  Mar  May  Nov  Oct  Sep  \n",
              "0    0    0    0    1    0    0    0    0    0    0  \n",
              "1    0    0    0    0    1    0    0    0    0    0  \n",
              "2    0    0    0    0    0    0    0    0    0    0  \n",
              "3    0    0    0    0    0    0    0    0    0    0  \n",
              "4    0    0    0    0    0    0    0    0    0    0  \n",
              "5    0    0    0    0    0    0    0    0    0    0  \n",
              "6    0    0    0    0    0    0    0    0    0    1  \n",
              "7    0    0    0    0    0    0    0    0    0    0  \n",
              "8    0    0    0    0    1    0    0    0    0    0  \n",
              "9    0    0    0    0    1    0    0    0    0    0  \n",
              "\n",
              "[10 rows x 30 columns]"
            ],
            "text/html": [
              "\n",
              "  <div id=\"df-99e73541-ec26-49e0-872e-8586464696db\">\n",
              "    <div class=\"colab-df-container\">\n",
              "      <div>\n",
              "<style scoped>\n",
              "    .dataframe tbody tr th:only-of-type {\n",
              "        vertical-align: middle;\n",
              "    }\n",
              "\n",
              "    .dataframe tbody tr th {\n",
              "        vertical-align: top;\n",
              "    }\n",
              "\n",
              "    .dataframe thead th {\n",
              "        text-align: right;\n",
              "    }\n",
              "</style>\n",
              "<table border=\"1\" class=\"dataframe\">\n",
              "  <thead>\n",
              "    <tr style=\"text-align: right;\">\n",
              "      <th></th>\n",
              "      <th>AcresBurned</th>\n",
              "      <th>AWND</th>\n",
              "      <th>CLDD</th>\n",
              "      <th>DP10</th>\n",
              "      <th>DX90</th>\n",
              "      <th>PRCP</th>\n",
              "      <th>TAVG</th>\n",
              "      <th>TMAX</th>\n",
              "      <th>TMIN</th>\n",
              "      <th>PRCP_6M</th>\n",
              "      <th>...</th>\n",
              "      <th>Dec</th>\n",
              "      <th>Feb</th>\n",
              "      <th>Jan</th>\n",
              "      <th>Jul</th>\n",
              "      <th>Jun</th>\n",
              "      <th>Mar</th>\n",
              "      <th>May</th>\n",
              "      <th>Nov</th>\n",
              "      <th>Oct</th>\n",
              "      <th>Sep</th>\n",
              "    </tr>\n",
              "  </thead>\n",
              "  <tbody>\n",
              "    <tr>\n",
              "      <th>0</th>\n",
              "      <td>132127.0</td>\n",
              "      <td>6.5</td>\n",
              "      <td>0.0</td>\n",
              "      <td>0.0</td>\n",
              "      <td>0.0</td>\n",
              "      <td>0.00</td>\n",
              "      <td>58.8</td>\n",
              "      <td>65.2</td>\n",
              "      <td>52.4</td>\n",
              "      <td>14.11</td>\n",
              "      <td>...</td>\n",
              "      <td>0</td>\n",
              "      <td>0</td>\n",
              "      <td>0</td>\n",
              "      <td>1</td>\n",
              "      <td>0</td>\n",
              "      <td>0</td>\n",
              "      <td>0</td>\n",
              "      <td>0</td>\n",
              "      <td>0</td>\n",
              "      <td>0</td>\n",
              "    </tr>\n",
              "    <tr>\n",
              "      <th>1</th>\n",
              "      <td>48019.0</td>\n",
              "      <td>6.7</td>\n",
              "      <td>529.0</td>\n",
              "      <td>0.0</td>\n",
              "      <td>22.0</td>\n",
              "      <td>0.00</td>\n",
              "      <td>82.6</td>\n",
              "      <td>96.6</td>\n",
              "      <td>68.6</td>\n",
              "      <td>4.68</td>\n",
              "      <td>...</td>\n",
              "      <td>0</td>\n",
              "      <td>0</td>\n",
              "      <td>0</td>\n",
              "      <td>0</td>\n",
              "      <td>1</td>\n",
              "      <td>0</td>\n",
              "      <td>0</td>\n",
              "      <td>0</td>\n",
              "      <td>0</td>\n",
              "      <td>0</td>\n",
              "    </tr>\n",
              "    <tr>\n",
              "      <th>2</th>\n",
              "      <td>46344.0</td>\n",
              "      <td>6.9</td>\n",
              "      <td>237.0</td>\n",
              "      <td>0.0</td>\n",
              "      <td>23.0</td>\n",
              "      <td>0.00</td>\n",
              "      <td>72.6</td>\n",
              "      <td>92.6</td>\n",
              "      <td>52.6</td>\n",
              "      <td>2.52</td>\n",
              "      <td>...</td>\n",
              "      <td>0</td>\n",
              "      <td>0</td>\n",
              "      <td>0</td>\n",
              "      <td>0</td>\n",
              "      <td>0</td>\n",
              "      <td>0</td>\n",
              "      <td>0</td>\n",
              "      <td>0</td>\n",
              "      <td>0</td>\n",
              "      <td>0</td>\n",
              "    </tr>\n",
              "    <tr>\n",
              "      <th>3</th>\n",
              "      <td>36274.0</td>\n",
              "      <td>6.5</td>\n",
              "      <td>455.0</td>\n",
              "      <td>0.0</td>\n",
              "      <td>28.0</td>\n",
              "      <td>0.00</td>\n",
              "      <td>79.7</td>\n",
              "      <td>94.6</td>\n",
              "      <td>64.7</td>\n",
              "      <td>3.41</td>\n",
              "      <td>...</td>\n",
              "      <td>0</td>\n",
              "      <td>0</td>\n",
              "      <td>0</td>\n",
              "      <td>0</td>\n",
              "      <td>0</td>\n",
              "      <td>0</td>\n",
              "      <td>0</td>\n",
              "      <td>0</td>\n",
              "      <td>0</td>\n",
              "      <td>0</td>\n",
              "    </tr>\n",
              "    <tr>\n",
              "      <th>4</th>\n",
              "      <td>33867.0</td>\n",
              "      <td>4.5</td>\n",
              "      <td>0.0</td>\n",
              "      <td>0.0</td>\n",
              "      <td>0.0</td>\n",
              "      <td>0.02</td>\n",
              "      <td>56.4</td>\n",
              "      <td>62.9</td>\n",
              "      <td>49.9</td>\n",
              "      <td>18.03</td>\n",
              "      <td>...</td>\n",
              "      <td>0</td>\n",
              "      <td>0</td>\n",
              "      <td>0</td>\n",
              "      <td>0</td>\n",
              "      <td>0</td>\n",
              "      <td>0</td>\n",
              "      <td>0</td>\n",
              "      <td>0</td>\n",
              "      <td>0</td>\n",
              "      <td>0</td>\n",
              "    </tr>\n",
              "    <tr>\n",
              "      <th>5</th>\n",
              "      <td>29322.0</td>\n",
              "      <td>6.0</td>\n",
              "      <td>629.0</td>\n",
              "      <td>0.0</td>\n",
              "      <td>31.0</td>\n",
              "      <td>0.00</td>\n",
              "      <td>85.3</td>\n",
              "      <td>99.2</td>\n",
              "      <td>71.4</td>\n",
              "      <td>2.15</td>\n",
              "      <td>...</td>\n",
              "      <td>0</td>\n",
              "      <td>0</td>\n",
              "      <td>0</td>\n",
              "      <td>0</td>\n",
              "      <td>0</td>\n",
              "      <td>0</td>\n",
              "      <td>0</td>\n",
              "      <td>0</td>\n",
              "      <td>0</td>\n",
              "      <td>0</td>\n",
              "    </tr>\n",
              "    <tr>\n",
              "      <th>6</th>\n",
              "      <td>12518.0</td>\n",
              "      <td>6.3</td>\n",
              "      <td>53.0</td>\n",
              "      <td>0.0</td>\n",
              "      <td>3.0</td>\n",
              "      <td>0.00</td>\n",
              "      <td>64.1</td>\n",
              "      <td>76.2</td>\n",
              "      <td>52.0</td>\n",
              "      <td>3.84</td>\n",
              "      <td>...</td>\n",
              "      <td>0</td>\n",
              "      <td>0</td>\n",
              "      <td>0</td>\n",
              "      <td>0</td>\n",
              "      <td>0</td>\n",
              "      <td>0</td>\n",
              "      <td>0</td>\n",
              "      <td>0</td>\n",
              "      <td>0</td>\n",
              "      <td>1</td>\n",
              "    </tr>\n",
              "    <tr>\n",
              "      <th>7</th>\n",
              "      <td>8110.0</td>\n",
              "      <td>6.5</td>\n",
              "      <td>455.0</td>\n",
              "      <td>0.0</td>\n",
              "      <td>28.0</td>\n",
              "      <td>0.00</td>\n",
              "      <td>79.7</td>\n",
              "      <td>94.6</td>\n",
              "      <td>64.7</td>\n",
              "      <td>3.41</td>\n",
              "      <td>...</td>\n",
              "      <td>0</td>\n",
              "      <td>0</td>\n",
              "      <td>0</td>\n",
              "      <td>0</td>\n",
              "      <td>0</td>\n",
              "      <td>0</td>\n",
              "      <td>0</td>\n",
              "      <td>0</td>\n",
              "      <td>0</td>\n",
              "      <td>0</td>\n",
              "    </tr>\n",
              "    <tr>\n",
              "      <th>8</th>\n",
              "      <td>7609.0</td>\n",
              "      <td>8.3</td>\n",
              "      <td>216.0</td>\n",
              "      <td>0.0</td>\n",
              "      <td>18.0</td>\n",
              "      <td>0.00</td>\n",
              "      <td>71.2</td>\n",
              "      <td>91.5</td>\n",
              "      <td>50.9</td>\n",
              "      <td>7.63</td>\n",
              "      <td>...</td>\n",
              "      <td>0</td>\n",
              "      <td>0</td>\n",
              "      <td>0</td>\n",
              "      <td>0</td>\n",
              "      <td>1</td>\n",
              "      <td>0</td>\n",
              "      <td>0</td>\n",
              "      <td>0</td>\n",
              "      <td>0</td>\n",
              "      <td>0</td>\n",
              "    </tr>\n",
              "    <tr>\n",
              "      <th>9</th>\n",
              "      <td>7474.0</td>\n",
              "      <td>5.6</td>\n",
              "      <td>19.0</td>\n",
              "      <td>0.0</td>\n",
              "      <td>0.0</td>\n",
              "      <td>0.01</td>\n",
              "      <td>63.1</td>\n",
              "      <td>71.0</td>\n",
              "      <td>55.3</td>\n",
              "      <td>9.62</td>\n",
              "      <td>...</td>\n",
              "      <td>0</td>\n",
              "      <td>0</td>\n",
              "      <td>0</td>\n",
              "      <td>0</td>\n",
              "      <td>1</td>\n",
              "      <td>0</td>\n",
              "      <td>0</td>\n",
              "      <td>0</td>\n",
              "      <td>0</td>\n",
              "      <td>0</td>\n",
              "    </tr>\n",
              "  </tbody>\n",
              "</table>\n",
              "<p>10 rows × 30 columns</p>\n",
              "</div>\n",
              "      <button class=\"colab-df-convert\" onclick=\"convertToInteractive('df-99e73541-ec26-49e0-872e-8586464696db')\"\n",
              "              title=\"Convert this dataframe to an interactive table.\"\n",
              "              style=\"display:none;\">\n",
              "        \n",
              "  <svg xmlns=\"http://www.w3.org/2000/svg\" height=\"24px\"viewBox=\"0 0 24 24\"\n",
              "       width=\"24px\">\n",
              "    <path d=\"M0 0h24v24H0V0z\" fill=\"none\"/>\n",
              "    <path d=\"M18.56 5.44l.94 2.06.94-2.06 2.06-.94-2.06-.94-.94-2.06-.94 2.06-2.06.94zm-11 1L8.5 8.5l.94-2.06 2.06-.94-2.06-.94L8.5 2.5l-.94 2.06-2.06.94zm10 10l.94 2.06.94-2.06 2.06-.94-2.06-.94-.94-2.06-.94 2.06-2.06.94z\"/><path d=\"M17.41 7.96l-1.37-1.37c-.4-.4-.92-.59-1.43-.59-.52 0-1.04.2-1.43.59L10.3 9.45l-7.72 7.72c-.78.78-.78 2.05 0 2.83L4 21.41c.39.39.9.59 1.41.59.51 0 1.02-.2 1.41-.59l7.78-7.78 2.81-2.81c.8-.78.8-2.07 0-2.86zM5.41 20L4 18.59l7.72-7.72 1.47 1.35L5.41 20z\"/>\n",
              "  </svg>\n",
              "      </button>\n",
              "      \n",
              "  <style>\n",
              "    .colab-df-container {\n",
              "      display:flex;\n",
              "      flex-wrap:wrap;\n",
              "      gap: 12px;\n",
              "    }\n",
              "\n",
              "    .colab-df-convert {\n",
              "      background-color: #E8F0FE;\n",
              "      border: none;\n",
              "      border-radius: 50%;\n",
              "      cursor: pointer;\n",
              "      display: none;\n",
              "      fill: #1967D2;\n",
              "      height: 32px;\n",
              "      padding: 0 0 0 0;\n",
              "      width: 32px;\n",
              "    }\n",
              "\n",
              "    .colab-df-convert:hover {\n",
              "      background-color: #E2EBFA;\n",
              "      box-shadow: 0px 1px 2px rgba(60, 64, 67, 0.3), 0px 1px 3px 1px rgba(60, 64, 67, 0.15);\n",
              "      fill: #174EA6;\n",
              "    }\n",
              "\n",
              "    [theme=dark] .colab-df-convert {\n",
              "      background-color: #3B4455;\n",
              "      fill: #D2E3FC;\n",
              "    }\n",
              "\n",
              "    [theme=dark] .colab-df-convert:hover {\n",
              "      background-color: #434B5C;\n",
              "      box-shadow: 0px 1px 3px 1px rgba(0, 0, 0, 0.15);\n",
              "      filter: drop-shadow(0px 1px 2px rgba(0, 0, 0, 0.3));\n",
              "      fill: #FFFFFF;\n",
              "    }\n",
              "  </style>\n",
              "\n",
              "      <script>\n",
              "        const buttonEl =\n",
              "          document.querySelector('#df-99e73541-ec26-49e0-872e-8586464696db button.colab-df-convert');\n",
              "        buttonEl.style.display =\n",
              "          google.colab.kernel.accessAllowed ? 'block' : 'none';\n",
              "\n",
              "        async function convertToInteractive(key) {\n",
              "          const element = document.querySelector('#df-99e73541-ec26-49e0-872e-8586464696db');\n",
              "          const dataTable =\n",
              "            await google.colab.kernel.invokeFunction('convertToInteractive',\n",
              "                                                     [key], {});\n",
              "          if (!dataTable) return;\n",
              "\n",
              "          const docLinkHtml = 'Like what you see? Visit the ' +\n",
              "            '<a target=\"_blank\" href=https://colab.research.google.com/notebooks/data_table.ipynb>data table notebook</a>'\n",
              "            + ' to learn more about interactive tables.';\n",
              "          element.innerHTML = '';\n",
              "          dataTable['output_type'] = 'display_data';\n",
              "          await google.colab.output.renderOutput(dataTable, element);\n",
              "          const docLink = document.createElement('div');\n",
              "          docLink.innerHTML = docLinkHtml;\n",
              "          element.appendChild(docLink);\n",
              "        }\n",
              "      </script>\n",
              "    </div>\n",
              "  </div>\n",
              "  "
            ]
          },
          "metadata": {},
          "execution_count": 165
        }
      ]
    },
    {
      "cell_type": "code",
      "source": [
        "test2_target = wildfire_set2['AcresBurned']\n",
        "test2_features = wildfire_set2.drop(columns = ['AcresBurned'])"
      ],
      "metadata": {
        "id": "E4jp1yDq39jk"
      },
      "execution_count": 166,
      "outputs": []
    },
    {
      "cell_type": "code",
      "source": [
        "test2_data_selected_X = test2_features[top_features_ordered]\n",
        "test2_data_y = test2_target"
      ],
      "metadata": {
        "id": "LgSiGrhy4Iwy"
      },
      "execution_count": 167,
      "outputs": []
    },
    {
      "cell_type": "code",
      "source": [
        "print('Test 2 Features:')\n",
        "print('test_data_X dimensions: ', test2_data_selected_X.shape)\n",
        "print('test_data_y dimensions:', test2_data_y.shape, '\\n')"
      ],
      "metadata": {
        "colab": {
          "base_uri": "https://localhost:8080/"
        },
        "id": "3Xr5ui-8353k",
        "outputId": "d98b2116-24dc-432b-958d-4c03c6932d56"
      },
      "execution_count": 168,
      "outputs": [
        {
          "output_type": "stream",
          "name": "stdout",
          "text": [
            "Test 2 Features:\n",
            "test_data_X dimensions:  (1105, 6)\n",
            "test_data_y dimensions: (1105,) \n",
            "\n"
          ]
        }
      ]
    },
    {
      "cell_type": "code",
      "source": [
        "test2_data_X = scaler.fit_transform(test2_data_selected_X)\n",
        "#train_target = scaler(test_target)"
      ],
      "metadata": {
        "id": "oHR5yc4q315A"
      },
      "execution_count": 169,
      "outputs": []
    },
    {
      "cell_type": "code",
      "source": [
        "y_predicted2 = multivariate_regression.predict(test2_data_X)"
      ],
      "metadata": {
        "id": "niVPhpB43Ohk"
      },
      "execution_count": 170,
      "outputs": []
    },
    {
      "cell_type": "code",
      "source": [
        "print('Mean Squared Error: ', metrics.mean_squared_error(test2_data_y, y_predicted2), '\\n')\n",
        "print('Mean Absolute Error: ', metrics.mean_absolute_error(test2_data_y, y_predicted2), '\\n')\n",
        "print('Root Mean Squared Error: ', np.sqrt(metrics.mean_squared_error(test2_data_y, y_predicted2)))"
      ],
      "metadata": {
        "colab": {
          "base_uri": "https://localhost:8080/"
        },
        "id": "ctJa4eVU3Tcw",
        "outputId": "cf27021e-8310-4495-c277-b1474d8464ea"
      },
      "execution_count": 171,
      "outputs": [
        {
          "output_type": "stream",
          "name": "stdout",
          "text": [
            "Mean Squared Error:  1003861853.1779767 \n",
            "\n",
            "Mean Absolute Error:  5171.99173715242 \n",
            "\n",
            "Root Mean Squared Error:  31683.77902299498\n"
          ]
        }
      ]
    },
    {
      "cell_type": "markdown",
      "source": [
        "Try Ridge and Lasso Regressions to see if these outperform standard multivariate linear regression:"
      ],
      "metadata": {
        "id": "Ri4XAvOnb5Ya"
      }
    },
    {
      "cell_type": "markdown",
      "source": [
        "# Ridge Regression:"
      ],
      "metadata": {
        "id": "YNXDV0GbeyNx"
      }
    },
    {
      "cell_type": "code",
      "source": [
        "from sklearn.linear_model import Ridge"
      ],
      "metadata": {
        "id": "ncVKQPH0cEqC"
      },
      "execution_count": 172,
      "outputs": []
    },
    {
      "cell_type": "code",
      "source": [
        "ridge_regression = Ridge(alpha = 150)\n",
        "ridge_regression.fit(train_data_X, train_data_y)"
      ],
      "metadata": {
        "colab": {
          "base_uri": "https://localhost:8080/"
        },
        "id": "2DSi0nNncgQ5",
        "outputId": "d52b0e23-6563-4632-9584-faf1451f48c2"
      },
      "execution_count": 173,
      "outputs": [
        {
          "output_type": "execute_result",
          "data": {
            "text/plain": [
              "Ridge(alpha=150)"
            ]
          },
          "metadata": {},
          "execution_count": 173
        }
      ]
    },
    {
      "cell_type": "code",
      "source": [
        "ridge_regression.coef_"
      ],
      "metadata": {
        "colab": {
          "base_uri": "https://localhost:8080/"
        },
        "id": "a9oJy6MicieQ",
        "outputId": "7ea02f24-730f-44ec-caed-22df13a46b28"
      },
      "execution_count": 174,
      "outputs": [
        {
          "output_type": "execute_result",
          "data": {
            "text/plain": [
              "array([-104.28840989,  -44.25466757,   71.34567497, -183.11653553,\n",
              "        208.71609905,  -37.8840907 ])"
            ]
          },
          "metadata": {},
          "execution_count": 174
        }
      ]
    },
    {
      "cell_type": "code",
      "source": [
        "ridge_regression.intercept_"
      ],
      "metadata": {
        "colab": {
          "base_uri": "https://localhost:8080/"
        },
        "id": "ypGf5XIOciiA",
        "outputId": "b0c27ec5-2132-4333-bcd4-77eff26ae21b"
      },
      "execution_count": 175,
      "outputs": [
        {
          "output_type": "execute_result",
          "data": {
            "text/plain": [
              "25.604524985134013"
            ]
          },
          "metadata": {},
          "execution_count": 175
        }
      ]
    },
    {
      "cell_type": "code",
      "source": [
        "y_predicted = ridge_regression.predict(test_data_X)"
      ],
      "metadata": {
        "id": "oehyzBYhcilx"
      },
      "execution_count": 176,
      "outputs": []
    },
    {
      "cell_type": "markdown",
      "source": [
        "# MAE for Ridge Regression is slightly lower"
      ],
      "metadata": {
        "id": "PHmaV7Wrdivq"
      }
    },
    {
      "cell_type": "code",
      "source": [
        "print('Mean Squared Error: ', metrics.mean_squared_error(test_data_y, y_predicted), '\\n')\n",
        "print('Mean Absolute Error: ', metrics.mean_absolute_error(test_data_y, y_predicted), '\\n')\n",
        "print('Root Mean Squared Error: ', np.sqrt(metrics.mean_squared_error(test_data_y, y_predicted)))"
      ],
      "metadata": {
        "colab": {
          "base_uri": "https://localhost:8080/"
        },
        "id": "R0Px32dqdOBs",
        "outputId": "989eae4a-e9be-4203-e7f8-e58cde3b9565"
      },
      "execution_count": 177,
      "outputs": [
        {
          "output_type": "stream",
          "name": "stdout",
          "text": [
            "Mean Squared Error:  5016307.662354434 \n",
            "\n",
            "Mean Absolute Error:  148.90233118864955 \n",
            "\n",
            "Root Mean Squared Error:  2239.711513198616\n"
          ]
        }
      ]
    },
    {
      "cell_type": "markdown",
      "source": [
        "# Lasso Regression:"
      ],
      "metadata": {
        "id": "l5aByEUHe5iY"
      }
    },
    {
      "cell_type": "code",
      "source": [
        "from sklearn.linear_model import Lasso"
      ],
      "metadata": {
        "id": "XyTYNSOse2ZD"
      },
      "execution_count": 178,
      "outputs": []
    },
    {
      "cell_type": "code",
      "source": [
        "lasso_regression = Lasso(alpha = 1.5)\n",
        "lasso_regression.fit(train_data_X, train_data_y)"
      ],
      "metadata": {
        "colab": {
          "base_uri": "https://localhost:8080/"
        },
        "id": "1QBdMsC2cipE",
        "outputId": "2b5842f7-db2b-49a4-c1c7-c20a8e814482"
      },
      "execution_count": 179,
      "outputs": [
        {
          "output_type": "execute_result",
          "data": {
            "text/plain": [
              "Lasso(alpha=1.5)"
            ]
          },
          "metadata": {},
          "execution_count": 179
        }
      ]
    },
    {
      "cell_type": "code",
      "source": [
        "lasso_regression.coef_"
      ],
      "metadata": {
        "colab": {
          "base_uri": "https://localhost:8080/"
        },
        "id": "8WHSlU7aeV9N",
        "outputId": "962e84c0-9072-40ca-c1ac-6068d950d0dd"
      },
      "execution_count": 180,
      "outputs": [
        {
          "output_type": "execute_result",
          "data": {
            "text/plain": [
              "array([  -0.        ,   -0.        ,   17.6403265 , -149.56322524,\n",
              "        170.4415365 ,  -29.91057196])"
            ]
          },
          "metadata": {},
          "execution_count": 180
        }
      ]
    },
    {
      "cell_type": "code",
      "source": [
        "lasso_regression.intercept_"
      ],
      "metadata": {
        "colab": {
          "base_uri": "https://localhost:8080/"
        },
        "id": "H9-ZSIrveYgU",
        "outputId": "92aa9612-2aa3-418b-93a5-906dd232e388"
      },
      "execution_count": 181,
      "outputs": [
        {
          "output_type": "execute_result",
          "data": {
            "text/plain": [
              "56.30639670544453"
            ]
          },
          "metadata": {},
          "execution_count": 181
        }
      ]
    },
    {
      "cell_type": "code",
      "source": [
        "y_predicted = lasso_regression.predict(test_data_X)"
      ],
      "metadata": {
        "id": "l1zjk2tvebet"
      },
      "execution_count": 182,
      "outputs": []
    },
    {
      "cell_type": "code",
      "source": [
        "print('Mean Squared Error: ', metrics.mean_squared_error(test_data_y, y_predicted), '\\n')\n",
        "print('Mean Absolute Error: ', metrics.mean_absolute_error(test_data_y, y_predicted), '\\n')\n",
        "print('Root Mean Squared Error: ', np.sqrt(metrics.mean_squared_error(test_data_y, y_predicted)))"
      ],
      "metadata": {
        "colab": {
          "base_uri": "https://localhost:8080/"
        },
        "id": "6h20f_SlelpE",
        "outputId": "a6b7c5f0-398c-411f-f50d-132229bf8e05"
      },
      "execution_count": 183,
      "outputs": [
        {
          "output_type": "stream",
          "name": "stdout",
          "text": [
            "Mean Squared Error:  5016345.93656785 \n",
            "\n",
            "Mean Absolute Error:  148.28017823537246 \n",
            "\n",
            "Root Mean Squared Error:  2239.720057633956\n"
          ]
        }
      ]
    },
    {
      "cell_type": "markdown",
      "source": [
        "#Deep Neural Network Regressor (using 6 best features):"
      ],
      "metadata": {
        "id": "49GVKk4efWpZ"
      }
    },
    {
      "cell_type": "code",
      "source": [
        "import tensorflow as tf\n",
        "from tensorflow import keras\n",
        "from sklearn.model_selection import train_test_split\n",
        "\n",
        "from tensorflow.keras.models import Sequential\n",
        "from tensorflow.keras.layers import Activation, Dense, BatchNormalization, Dropout\n",
        "from tensorflow.keras import optimizers\n",
        "import matplotlib.pyplot as plt\n",
        "import numpy as np \n",
        "import pandas as pd\n",
        "import seaborn as sns"
      ],
      "metadata": {
        "id": "DcUNRZ45fbyd"
      },
      "execution_count": 184,
      "outputs": []
    },
    {
      "cell_type": "code",
      "source": [
        "print('Train Features:')\n",
        "print('train_data_X dimensions: ', train_data_selected_X.shape)\n",
        "print('train_data_y dimensions:', train_data_y.shape, '\\n')\n",
        "\n",
        "print('Test Features:')\n",
        "print('test_data_X dimensions: ', test_data_selected_X.shape)\n",
        "print('test_data_y dimensions:', test_data_y.shape, '\\n')"
      ],
      "metadata": {
        "colab": {
          "base_uri": "https://localhost:8080/"
        },
        "id": "k7cHAAfAgSCK",
        "outputId": "c85413e9-03a1-48f3-fc42-8ed1c896400b"
      },
      "execution_count": 185,
      "outputs": [
        {
          "output_type": "stream",
          "name": "stdout",
          "text": [
            "Train Features:\n",
            "train_data_X dimensions:  (84819, 6)\n",
            "train_data_y dimensions: (84819,) \n",
            "\n",
            "Test Features:\n",
            "test_data_X dimensions:  (21205, 6)\n",
            "test_data_y dimensions: (21205,) \n",
            "\n"
          ]
        }
      ]
    },
    {
      "cell_type": "markdown",
      "source": [
        "# Neural Network Regressor #1:"
      ],
      "metadata": {
        "id": "MqiowXy_feF-"
      }
    },
    {
      "cell_type": "code",
      "source": [
        "tf.random.set_seed(5)\n",
        "\n",
        "network1 = tf.keras.models.Sequential()\n",
        "network1.add(tf.keras.Input(shape=(6,)))\n",
        "network1.add(tf.keras.layers.Dense(15, activation='relu'))\n",
        "network1.add(tf.keras.layers.Dense(15, activation='tanh'))\n",
        "network1.add(tf.keras.layers.Dense(15, activation='relu'))\n",
        "network1.add(tf.keras.layers.Dense(1))\n",
        "\n",
        "network1.compile(\n",
        "   loss=tf.keras.losses.MeanAbsoluteError(),\n",
        "   optimizer=tf.keras.optimizers.Adam(),\n",
        "   metrics='mean_absolute_error')\n",
        "\n",
        "history1 = network1.fit(train_data_X, train_data_y, epochs=10,validation_data=(test_data_X,test_data_y))"
      ],
      "metadata": {
        "id": "4hWgbvewfinV",
        "outputId": "f8201294-8675-4a41-8721-dc4ccbec38e0",
        "colab": {
          "base_uri": "https://localhost:8080/"
        }
      },
      "execution_count": 187,
      "outputs": [
        {
          "output_type": "stream",
          "name": "stdout",
          "text": [
            "Epoch 1/10\n",
            "2651/2651 [==============================] - 16s 5ms/step - loss: 81.2104 - mean_absolute_error: 81.2104 - val_loss: 71.5364 - val_mean_absolute_error: 71.5364\n",
            "Epoch 2/10\n",
            "2651/2651 [==============================] - 10s 4ms/step - loss: 81.2084 - mean_absolute_error: 81.2084 - val_loss: 71.5385 - val_mean_absolute_error: 71.5385\n",
            "Epoch 3/10\n",
            "2651/2651 [==============================] - 6s 2ms/step - loss: 81.2076 - mean_absolute_error: 81.2076 - val_loss: 71.5333 - val_mean_absolute_error: 71.5333\n",
            "Epoch 4/10\n",
            "2651/2651 [==============================] - 5s 2ms/step - loss: 81.2068 - mean_absolute_error: 81.2068 - val_loss: 71.5337 - val_mean_absolute_error: 71.5337\n",
            "Epoch 5/10\n",
            "2651/2651 [==============================] - 6s 2ms/step - loss: 81.2064 - mean_absolute_error: 81.2064 - val_loss: 71.5332 - val_mean_absolute_error: 71.5332\n",
            "Epoch 6/10\n",
            "2651/2651 [==============================] - 6s 2ms/step - loss: 81.2060 - mean_absolute_error: 81.2060 - val_loss: 71.5319 - val_mean_absolute_error: 71.5319\n",
            "Epoch 7/10\n",
            "2651/2651 [==============================] - 6s 2ms/step - loss: 81.2058 - mean_absolute_error: 81.2058 - val_loss: 71.5296 - val_mean_absolute_error: 71.5296\n",
            "Epoch 8/10\n",
            "2651/2651 [==============================] - 6s 2ms/step - loss: 81.2052 - mean_absolute_error: 81.2052 - val_loss: 71.5298 - val_mean_absolute_error: 71.5298\n",
            "Epoch 9/10\n",
            "2651/2651 [==============================] - 5s 2ms/step - loss: 81.2050 - mean_absolute_error: 81.2050 - val_loss: 71.5293 - val_mean_absolute_error: 71.5293\n",
            "Epoch 10/10\n",
            "2651/2651 [==============================] - 6s 2ms/step - loss: 81.2045 - mean_absolute_error: 81.2045 - val_loss: 71.5303 - val_mean_absolute_error: 71.5303\n"
          ]
        }
      ]
    },
    {
      "cell_type": "code",
      "source": [
        "from matplotlib import pyplot as plt\n",
        "plt.plot(history1.history['mean_absolute_error'])\n",
        "plt.plot(history1.history['val_mean_absolute_error'])\n",
        "plt.title('Model MAE')\n",
        "plt.ylabel('Mean Absolute Error (MAE)')\n",
        "plt.xlabel('Epoch')\n",
        "plt.legend(['Train', 'Cross-Validation'], loc='upper right')\n",
        "plt.show()"
      ],
      "metadata": {
        "id": "3Pxa-KmefjnE",
        "outputId": "aa1c9aab-770a-467d-df9d-e1070ce6872c",
        "colab": {
          "base_uri": "https://localhost:8080/",
          "height": 295
        }
      },
      "execution_count": 188,
      "outputs": [
        {
          "output_type": "display_data",
          "data": {
            "text/plain": [
              "<Figure size 432x288 with 1 Axes>"
            ],
            "image/png": "[encoded data removed]"
          },
          "metadata": {
            "needs_background": "light"
          }
        }
      ]
    },
    {
      "cell_type": "markdown",
      "source": [
        "# Neural Network Regressor #2:"
      ],
      "metadata": {
        "id": "ar0fQNSJfmTA"
      }
    },
    {
      "cell_type": "code",
      "source": [
        "tf.random.set_seed(5)\n",
        "\n",
        "network = tf.keras.models.Sequential()\n",
        "network.add(tf.keras.Input(shape=(6,)))\n",
        "network.add(tf.keras.layers.Dense(8, activation='relu'))\n",
        "network.add(tf.keras.layers.Dense(8, activation='tanh'))\n",
        "network.add(tf.keras.layers.Dense(8, activation='relu'))\n",
        "network.add(tf.keras.layers.Dense(1))\n",
        "\n",
        "network.compile(\n",
        "   loss=tf.keras.losses.MeanAbsoluteError(),\n",
        "   optimizer=tf.keras.optimizers.Adam(),\n",
        "   metrics='mean_absolute_error')\n",
        "\n",
        "history = network.fit(train_data_X, train_data_y, epochs=10,validation_data=(test_data_X,test_data_y))"
      ],
      "metadata": {
        "colab": {
          "base_uri": "https://localhost:8080/"
        },
        "id": "Qx1YpotCflx3",
        "outputId": "d4224ee9-4205-4a5c-b4ab-41631f6c56db"
      },
      "execution_count": 189,
      "outputs": [
        {
          "output_type": "stream",
          "name": "stdout",
          "text": [
            "Epoch 1/10\n",
            "2651/2651 [==============================] - 6s 2ms/step - loss: 81.2112 - mean_absolute_error: 81.2112 - val_loss: 71.5348 - val_mean_absolute_error: 71.5348\n",
            "Epoch 2/10\n",
            "2651/2651 [==============================] - 6s 2ms/step - loss: 81.2082 - mean_absolute_error: 81.2082 - val_loss: 71.5344 - val_mean_absolute_error: 71.5344\n",
            "Epoch 3/10\n",
            "2651/2651 [==============================] - 5s 2ms/step - loss: 81.2077 - mean_absolute_error: 81.2077 - val_loss: 71.5329 - val_mean_absolute_error: 71.5329\n",
            "Epoch 4/10\n",
            "2651/2651 [==============================] - 6s 2ms/step - loss: 81.2069 - mean_absolute_error: 81.2069 - val_loss: 71.5326 - val_mean_absolute_error: 71.5326\n",
            "Epoch 5/10\n",
            "2651/2651 [==============================] - 5s 2ms/step - loss: 81.2062 - mean_absolute_error: 81.2062 - val_loss: 71.5335 - val_mean_absolute_error: 71.5335\n",
            "Epoch 6/10\n",
            "2651/2651 [==============================] - 6s 2ms/step - loss: 81.2059 - mean_absolute_error: 81.2059 - val_loss: 71.5321 - val_mean_absolute_error: 71.5321\n",
            "Epoch 7/10\n",
            "2651/2651 [==============================] - 7s 2ms/step - loss: 81.2057 - mean_absolute_error: 81.2057 - val_loss: 71.5298 - val_mean_absolute_error: 71.5298\n",
            "Epoch 8/10\n",
            "2651/2651 [==============================] - 5s 2ms/step - loss: 81.2053 - mean_absolute_error: 81.2053 - val_loss: 71.5311 - val_mean_absolute_error: 71.5311\n",
            "Epoch 9/10\n",
            "2651/2651 [==============================] - 5s 2ms/step - loss: 81.2052 - mean_absolute_error: 81.2052 - val_loss: 71.5299 - val_mean_absolute_error: 71.5299\n",
            "Epoch 10/10\n",
            "2651/2651 [==============================] - 5s 2ms/step - loss: 81.2049 - mean_absolute_error: 81.2049 - val_loss: 71.5302 - val_mean_absolute_error: 71.5302\n"
          ]
        }
      ]
    },
    {
      "cell_type": "markdown",
      "source": [
        "I'm a little confused as this model does not learn at all. However, it performs very well"
      ],
      "metadata": {
        "id": "ocP4XQYBd03v"
      }
    },
    {
      "cell_type": "code",
      "source": [
        "from matplotlib import pyplot as plt\n",
        "plt.plot(history.history['mean_absolute_error'])\n",
        "plt.plot(history.history['val_mean_absolute_error'])\n",
        "plt.title('Model MAE')\n",
        "plt.ylabel('Mean Absolute Error (MAE)')\n",
        "plt.xlabel('Epoch')\n",
        "plt.legend(['Train', 'Cross-Validation'], loc='upper right')\n",
        "plt.show()"
      ],
      "metadata": {
        "id": "_XaSojuKZIYB",
        "outputId": "579084f4-a1ed-438e-e233-12128cfd7580",
        "colab": {
          "base_uri": "https://localhost:8080/",
          "height": 295
        }
      },
      "execution_count": 190,
      "outputs": [
        {
          "output_type": "display_data",
          "data": {
            "text/plain": [
              "<Figure size 432x288 with 1 Axes>"
            ],
            "image/png": "[encoded data removed]"
          },
          "metadata": {
            "needs_background": "light"
          }
        }
      ]
    },
    {
      "cell_type": "markdown",
      "source": [
        "I experimented with different layers, activation functions, and but all gave pretty much identical results. They all perform well but models are not learning at all."
      ],
      "metadata": {
        "id": "Se3B_ymze4y0"
      }
    },
    {
      "cell_type": "code",
      "source": [
        "tf.random.set_seed(5)\n",
        "\n",
        "network2 = tf.keras.models.Sequential()\n",
        "network2.add(tf.keras.Input(shape=(6,)))\n",
        "network2.add(tf.keras.layers.Dense(20, activation='relu'))\n",
        "network2.add(tf.keras.layers.Dense(1))\n",
        "\n",
        "network2.compile(\n",
        "   loss=tf.keras.losses.MeanAbsoluteError(),\n",
        "   optimizer=tf.keras.optimizers.Adam(),\n",
        "   metrics='mean_absolute_error')\n",
        "\n",
        "history2 = network2.fit(train_data_X, train_data_y, epochs=10,validation_data=(test_data_X,test_data_y))"
      ],
      "metadata": {
        "id": "GTpMzGZbeEp2",
        "outputId": "c5fc81dc-dac9-4a6e-a9f9-92d2eb078b31",
        "colab": {
          "base_uri": "https://localhost:8080/"
        }
      },
      "execution_count": 191,
      "outputs": [
        {
          "output_type": "stream",
          "name": "stdout",
          "text": [
            "Epoch 1/10\n",
            "2651/2651 [==============================] - 5s 2ms/step - loss: 81.2148 - mean_absolute_error: 81.2148 - val_loss: 71.5355 - val_mean_absolute_error: 71.5355\n",
            "Epoch 2/10\n",
            "2651/2651 [==============================] - 5s 2ms/step - loss: 81.2089 - mean_absolute_error: 81.2089 - val_loss: 71.5346 - val_mean_absolute_error: 71.5346\n",
            "Epoch 3/10\n",
            "2651/2651 [==============================] - 5s 2ms/step - loss: 81.2084 - mean_absolute_error: 81.2084 - val_loss: 71.5341 - val_mean_absolute_error: 71.5341\n",
            "Epoch 4/10\n",
            "2651/2651 [==============================] - 5s 2ms/step - loss: 81.2081 - mean_absolute_error: 81.2081 - val_loss: 71.5347 - val_mean_absolute_error: 71.5347\n",
            "Epoch 5/10\n",
            "2651/2651 [==============================] - 5s 2ms/step - loss: 81.2080 - mean_absolute_error: 81.2080 - val_loss: 71.5337 - val_mean_absolute_error: 71.5337\n",
            "Epoch 6/10\n",
            "2651/2651 [==============================] - 5s 2ms/step - loss: 81.2079 - mean_absolute_error: 81.2079 - val_loss: 71.5333 - val_mean_absolute_error: 71.5333\n",
            "Epoch 7/10\n",
            "2651/2651 [==============================] - 5s 2ms/step - loss: 81.2079 - mean_absolute_error: 81.2079 - val_loss: 71.5322 - val_mean_absolute_error: 71.5322\n",
            "Epoch 8/10\n",
            "2651/2651 [==============================] - 5s 2ms/step - loss: 81.2074 - mean_absolute_error: 81.2074 - val_loss: 71.5335 - val_mean_absolute_error: 71.5335\n",
            "Epoch 9/10\n",
            "2651/2651 [==============================] - 4s 2ms/step - loss: 81.2074 - mean_absolute_error: 81.2074 - val_loss: 71.5326 - val_mean_absolute_error: 71.5326\n",
            "Epoch 10/10\n",
            "2651/2651 [==============================] - 5s 2ms/step - loss: 81.2071 - mean_absolute_error: 81.2071 - val_loss: 71.5334 - val_mean_absolute_error: 71.5334\n"
          ]
        }
      ]
    },
    {
      "cell_type": "code",
      "source": [
        "from matplotlib import pyplot as plt\n",
        "plt.plot(history2.history['mean_absolute_error'])\n",
        "plt.plot(history2.history['val_mean_absolute_error'])\n",
        "plt.title('Model MAE')\n",
        "plt.ylabel('Mean Absolute Error (MAE)')\n",
        "plt.xlabel('Epoch')\n",
        "plt.legend(['Train', 'Cross-Validation'], loc='upper right')\n",
        "plt.show()"
      ],
      "metadata": {
        "id": "Bv1FKD6UeiTQ",
        "outputId": "86bfeb00-5a74-4745-8cf3-cf2b7173567e",
        "colab": {
          "base_uri": "https://localhost:8080/",
          "height": 295
        }
      },
      "execution_count": 192,
      "outputs": [
        {
          "output_type": "display_data",
          "data": {
            "text/plain": [
              "<Figure size 432x288 with 1 Axes>"
            ],
            "image/png": "[encoded data removed]"
          },
          "metadata": {
            "needs_background": "light"
          }
        }
      ]
    }
  ]
}