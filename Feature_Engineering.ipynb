{
  "nbformat": 4,
  "nbformat_minor": 0,
  "metadata": {
    "colab": {
      "name": "Feature_Engineering.ipynb",
      "provenance": [],
      "authorship_tag": "ABX9TyO3mvF5am2CKRkCvTt/FViG",
      "include_colab_link": true
    },
    "kernelspec": {
      "name": "python3",
      "display_name": "Python 3"
    },
    "language_info": {
      "name": "python"
    }
  },
  "cells": [
    {
      "cell_type": "markdown",
      "metadata": {
        "id": "view-in-github",
        "colab_type": "text"
      },
      "source": [
        "<a href=\"https://colab.research.google.com/github/mnocerino23/Wildfire-Forecaster/blob/main/Feature_Engineering.ipynb\" target=\"_parent\"><img src=\"https://colab.research.google.com/assets/colab-badge.svg\" alt=\"Open In Colab\"/></a>"
      ]
    },
    {
      "cell_type": "code",
      "execution_count": null,
      "metadata": {
        "id": "mehnBWeD30Ke"
      },
      "outputs": [],
      "source": [
        "#Next steps\n",
        "#1. drop NaN values\n",
        "#2. Map longtitude and latitude to zip code of the wildfire\n",
        "#3. Add in NOAA weather features"
      ]
    },
    {
      "cell_type": "code",
      "source": [
        "#Feature Engineering\n",
        "\n",
        "#zipcode - get from \n",
        "#Population of zip code - does presence humans affect wildfires?\n",
        "#information on snowfall\n",
        "\n",
        "#month began\n",
        "\n",
        "#monthly percipitation\n",
        "\n",
        "#average temperatures\n",
        "#days exceeding 90\n",
        "\n",
        "#Some kind of way to determine if an area has already burned. A largely burned area is less likely to burn in future years\n",
        "#build a function to see if a wildfire was in the area within the past x amount of years (use latitude and longitude w acres burned)\n",
        "#rec areae\n"
      ],
      "metadata": {
        "id": "TrEjJOZP36Y7"
      },
      "execution_count": null,
      "outputs": []
    },
    {
      "cell_type": "code",
      "source": [
        "#Write a function that gives fire's US zip code given coordinates in longitude and latitude\n",
        "#Help from stack overflow: https://gis.stackexchange.com/questions/352961/convert-lat-lon-to-zip-postal-code-using-python\n",
        "import geopy as gp\n",
        "from geopy import Nominatim\n",
        "\n",
        "def coordinates_to_zipcode(lat, long, geolocater):\n",
        "  location = geolocater.reverse((lat, long))\n",
        "  if 'postcode' in location.raw['address'].keys():\n",
        "    #print(location)\n",
        "    return location.raw['address']['postcode']\n",
        "  else:\n",
        "    #print('None')\n",
        "    return 'NaN'\n",
        "\n",
        "geolocater = gp.Nominatim(user_agent='my-application')\n",
        "print(coordinates_to_zipcode(40.036944, -121.005833, geolocater))"
      ],
      "metadata": {
        "id": "x4ItwiSg38rv"
      },
      "execution_count": null,
      "outputs": []
    },
    {
      "cell_type": "code",
      "source": [
        "wildfires['ZIP'] = ''\n",
        "for index, row in wildfires.iterrows():\n",
        "  wildfires.at[index,'ZIP'] = coordinates_to_zipcode(wildfires.at[index,'LATITUDE'], wildfires.at[index,'LONGITUDE'], geolocater)"
      ],
      "metadata": {
        "id": "P8r5K2mB4AYu"
      },
      "execution_count": null,
      "outputs": []
    }
  ]
}