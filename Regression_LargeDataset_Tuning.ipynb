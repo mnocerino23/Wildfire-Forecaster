{
  "nbformat": 4,
  "nbformat_minor": 0,
  "metadata": {
    "colab": {
      "name": "Regression_LargeDataset_Tuning.ipynb",
      "provenance": [],
      "collapsed_sections": [],
      "authorship_tag": "ABX9TyNme2seKO4dTnrcmXeJn1kT",
      "include_colab_link": true
    },
    "kernelspec": {
      "name": "python3",
      "display_name": "Python 3"
    },
    "language_info": {
      "name": "python"
    }
  },
  "cells": [
    {
      "cell_type": "markdown",
      "metadata": {
        "id": "view-in-github",
        "colab_type": "text"
      },
      "source": [
        "<a href=\"https://colab.research.google.com/github/mnocerino23/Wildfire-Forecaster/blob/main/Regression_LargeDataset_Tuning.ipynb\" target=\"_parent\"><img src=\"https://colab.research.google.com/assets/colab-badge.svg\" alt=\"Open In Colab\"/></a>"
      ]
    },
    {
      "cell_type": "markdown",
      "source": [
        "# Having found and selected features that provide good regression models using linear, ridge, lasso, and decision tree regressors, I will now try to tune the performance of these models\n",
        "\n",
        "# In this Jupyter Notebook, I will use GridSearch Cross Validation in Scikit-learn to find the hyperparemeters that optimize the performance of theses models.\n",
        "\n"
      ],
      "metadata": {
        "id": "3ZZd1_RsEVIP"
      }
    },
    {
      "cell_type": "code",
      "source": [
        "import numpy as np\n",
        "import pandas as pd\n",
        "\n",
        "from google.colab import drive\n",
        "drive.mount('/content/drive')\n",
        "\n",
        "#Read in the smaller of the final datasets. The dataset contains around 1200 fires from 2016-2019\n",
        "wildfire_set1 = pd.read_csv('/content/drive/MyDrive/Data_Science_Projects/Wildfires/wildfire_set1_w_allfeatures.csv')"
      ],
      "metadata": {
        "colab": {
          "base_uri": "https://localhost:8080/"
        },
        "id": "NFzMd74aBEyq",
        "outputId": "be12f5a1-f05b-44ae-c88e-906c02fc7174"
      },
      "execution_count": 377,
      "outputs": [
        {
          "output_type": "stream",
          "name": "stdout",
          "text": [
            "Drive already mounted at /content/drive; to attempt to forcibly remount, call drive.mount(\"/content/drive\", force_remount=True).\n"
          ]
        },
        {
          "output_type": "stream",
          "name": "stderr",
          "text": [
            "/usr/local/lib/python3.7/dist-packages/IPython/core/interactiveshell.py:3326: DtypeWarning: Columns (10) have mixed types.Specify dtype option on import or set low_memory=False.\n",
            "  exec(code_obj, self.user_global_ns, self.user_ns)\n"
          ]
        }
      ]
    },
    {
      "cell_type": "code",
      "source": [
        "wildfire_set1.head()"
      ],
      "metadata": {
        "colab": {
          "base_uri": "https://localhost:8080/",
          "height": 369
        },
        "id": "bkwikHWNCUk5",
        "outputId": "46f87f48-6838-42b4-c261-c811cebdf36d"
      },
      "execution_count": 378,
      "outputs": [
        {
          "output_type": "execute_result",
          "data": {
            "text/plain": [
              "   Unnamed: 0  Year      Name  AcresBurned Fire Size Rank           Cause  \\\n",
              "0           0  2005  FOUNTAIN         0.10              A   Miscellaneous   \n",
              "1           1  2004    PIGEON         0.25              A       Lightning   \n",
              "2           2  2004     SLACK         0.10              A  Debris Burning   \n",
              "3           3  2004      DEER         0.10              A       Lightning   \n",
              "4           4  2004  STEVENOT         0.10              A       Lightning   \n",
              "\n",
              "  SOURCE_REPORTING_UNIT_NAME  DaysBurn Discovery Month  Discovered DOY  ...  \\\n",
              "0     Plumas National Forest       1.0             Feb            33.0  ...   \n",
              "1   Eldorado National Forest       1.0             May           133.0  ...   \n",
              "2   Eldorado National Forest       1.0             Jun           152.0  ...   \n",
              "3   Eldorado National Forest       5.0             Jun           180.0  ...   \n",
              "4   Eldorado National Forest       5.0             Jun           180.0  ...   \n",
              "\n",
              "  DX90_2M  DP10_2M  Receives Snow  Snow Station River Basin  Mar_SP Mar_WC  \\\n",
              "0     0.0     19.0            1.0   eureka_lake     Feather    79.6   34.0   \n",
              "1     0.0      3.0            1.0  ward_creek_2  Lake Tahoe   108.6   38.1   \n",
              "2     0.0     11.0            1.0  ward_creek_2  Lake Tahoe   108.6   38.1   \n",
              "3     0.0      3.0            1.0   echo_summit    American    87.2   28.4   \n",
              "4     0.0      3.0            1.0   echo_summit    American    87.2   28.4   \n",
              "\n",
              "  Mar_Dens Has_Elevation  Elevation  \n",
              "0     0.43             1  2965.8432  \n",
              "1     0.35             1  6207.2736  \n",
              "2     0.35             1  3454.6824  \n",
              "3     0.33             1  7759.0920  \n",
              "4     0.33             1  7598.3328  \n",
              "\n",
              "[5 rows x 40 columns]"
            ],
            "text/html": [
              "\n",
              "  <div id=\"df-78a60783-2626-456b-bb37-d2d035b3ed9e\">\n",
              "    <div class=\"colab-df-container\">\n",
              "      <div>\n",
              "<style scoped>\n",
              "    .dataframe tbody tr th:only-of-type {\n",
              "        vertical-align: middle;\n",
              "    }\n",
              "\n",
              "    .dataframe tbody tr th {\n",
              "        vertical-align: top;\n",
              "    }\n",
              "\n",
              "    .dataframe thead th {\n",
              "        text-align: right;\n",
              "    }\n",
              "</style>\n",
              "<table border=\"1\" class=\"dataframe\">\n",
              "  <thead>\n",
              "    <tr style=\"text-align: right;\">\n",
              "      <th></th>\n",
              "      <th>Unnamed: 0</th>\n",
              "      <th>Year</th>\n",
              "      <th>Name</th>\n",
              "      <th>AcresBurned</th>\n",
              "      <th>Fire Size Rank</th>\n",
              "      <th>Cause</th>\n",
              "      <th>SOURCE_REPORTING_UNIT_NAME</th>\n",
              "      <th>DaysBurn</th>\n",
              "      <th>Discovery Month</th>\n",
              "      <th>Discovered DOY</th>\n",
              "      <th>...</th>\n",
              "      <th>DX90_2M</th>\n",
              "      <th>DP10_2M</th>\n",
              "      <th>Receives Snow</th>\n",
              "      <th>Snow Station</th>\n",
              "      <th>River Basin</th>\n",
              "      <th>Mar_SP</th>\n",
              "      <th>Mar_WC</th>\n",
              "      <th>Mar_Dens</th>\n",
              "      <th>Has_Elevation</th>\n",
              "      <th>Elevation</th>\n",
              "    </tr>\n",
              "  </thead>\n",
              "  <tbody>\n",
              "    <tr>\n",
              "      <th>0</th>\n",
              "      <td>0</td>\n",
              "      <td>2005</td>\n",
              "      <td>FOUNTAIN</td>\n",
              "      <td>0.10</td>\n",
              "      <td>A</td>\n",
              "      <td>Miscellaneous</td>\n",
              "      <td>Plumas National Forest</td>\n",
              "      <td>1.0</td>\n",
              "      <td>Feb</td>\n",
              "      <td>33.0</td>\n",
              "      <td>...</td>\n",
              "      <td>0.0</td>\n",
              "      <td>19.0</td>\n",
              "      <td>1.0</td>\n",
              "      <td>eureka_lake</td>\n",
              "      <td>Feather</td>\n",
              "      <td>79.6</td>\n",
              "      <td>34.0</td>\n",
              "      <td>0.43</td>\n",
              "      <td>1</td>\n",
              "      <td>2965.8432</td>\n",
              "    </tr>\n",
              "    <tr>\n",
              "      <th>1</th>\n",
              "      <td>1</td>\n",
              "      <td>2004</td>\n",
              "      <td>PIGEON</td>\n",
              "      <td>0.25</td>\n",
              "      <td>A</td>\n",
              "      <td>Lightning</td>\n",
              "      <td>Eldorado National Forest</td>\n",
              "      <td>1.0</td>\n",
              "      <td>May</td>\n",
              "      <td>133.0</td>\n",
              "      <td>...</td>\n",
              "      <td>0.0</td>\n",
              "      <td>3.0</td>\n",
              "      <td>1.0</td>\n",
              "      <td>ward_creek_2</td>\n",
              "      <td>Lake Tahoe</td>\n",
              "      <td>108.6</td>\n",
              "      <td>38.1</td>\n",
              "      <td>0.35</td>\n",
              "      <td>1</td>\n",
              "      <td>6207.2736</td>\n",
              "    </tr>\n",
              "    <tr>\n",
              "      <th>2</th>\n",
              "      <td>2</td>\n",
              "      <td>2004</td>\n",
              "      <td>SLACK</td>\n",
              "      <td>0.10</td>\n",
              "      <td>A</td>\n",
              "      <td>Debris Burning</td>\n",
              "      <td>Eldorado National Forest</td>\n",
              "      <td>1.0</td>\n",
              "      <td>Jun</td>\n",
              "      <td>152.0</td>\n",
              "      <td>...</td>\n",
              "      <td>0.0</td>\n",
              "      <td>11.0</td>\n",
              "      <td>1.0</td>\n",
              "      <td>ward_creek_2</td>\n",
              "      <td>Lake Tahoe</td>\n",
              "      <td>108.6</td>\n",
              "      <td>38.1</td>\n",
              "      <td>0.35</td>\n",
              "      <td>1</td>\n",
              "      <td>3454.6824</td>\n",
              "    </tr>\n",
              "    <tr>\n",
              "      <th>3</th>\n",
              "      <td>3</td>\n",
              "      <td>2004</td>\n",
              "      <td>DEER</td>\n",
              "      <td>0.10</td>\n",
              "      <td>A</td>\n",
              "      <td>Lightning</td>\n",
              "      <td>Eldorado National Forest</td>\n",
              "      <td>5.0</td>\n",
              "      <td>Jun</td>\n",
              "      <td>180.0</td>\n",
              "      <td>...</td>\n",
              "      <td>0.0</td>\n",
              "      <td>3.0</td>\n",
              "      <td>1.0</td>\n",
              "      <td>echo_summit</td>\n",
              "      <td>American</td>\n",
              "      <td>87.2</td>\n",
              "      <td>28.4</td>\n",
              "      <td>0.33</td>\n",
              "      <td>1</td>\n",
              "      <td>7759.0920</td>\n",
              "    </tr>\n",
              "    <tr>\n",
              "      <th>4</th>\n",
              "      <td>4</td>\n",
              "      <td>2004</td>\n",
              "      <td>STEVENOT</td>\n",
              "      <td>0.10</td>\n",
              "      <td>A</td>\n",
              "      <td>Lightning</td>\n",
              "      <td>Eldorado National Forest</td>\n",
              "      <td>5.0</td>\n",
              "      <td>Jun</td>\n",
              "      <td>180.0</td>\n",
              "      <td>...</td>\n",
              "      <td>0.0</td>\n",
              "      <td>3.0</td>\n",
              "      <td>1.0</td>\n",
              "      <td>echo_summit</td>\n",
              "      <td>American</td>\n",
              "      <td>87.2</td>\n",
              "      <td>28.4</td>\n",
              "      <td>0.33</td>\n",
              "      <td>1</td>\n",
              "      <td>7598.3328</td>\n",
              "    </tr>\n",
              "  </tbody>\n",
              "</table>\n",
              "<p>5 rows × 40 columns</p>\n",
              "</div>\n",
              "      <button class=\"colab-df-convert\" onclick=\"convertToInteractive('df-78a60783-2626-456b-bb37-d2d035b3ed9e')\"\n",
              "              title=\"Convert this dataframe to an interactive table.\"\n",
              "              style=\"display:none;\">\n",
              "        \n",
              "  <svg xmlns=\"http://www.w3.org/2000/svg\" height=\"24px\"viewBox=\"0 0 24 24\"\n",
              "       width=\"24px\">\n",
              "    <path d=\"M0 0h24v24H0V0z\" fill=\"none\"/>\n",
              "    <path d=\"M18.56 5.44l.94 2.06.94-2.06 2.06-.94-2.06-.94-.94-2.06-.94 2.06-2.06.94zm-11 1L8.5 8.5l.94-2.06 2.06-.94-2.06-.94L8.5 2.5l-.94 2.06-2.06.94zm10 10l.94 2.06.94-2.06 2.06-.94-2.06-.94-.94-2.06-.94 2.06-2.06.94z\"/><path d=\"M17.41 7.96l-1.37-1.37c-.4-.4-.92-.59-1.43-.59-.52 0-1.04.2-1.43.59L10.3 9.45l-7.72 7.72c-.78.78-.78 2.05 0 2.83L4 21.41c.39.39.9.59 1.41.59.51 0 1.02-.2 1.41-.59l7.78-7.78 2.81-2.81c.8-.78.8-2.07 0-2.86zM5.41 20L4 18.59l7.72-7.72 1.47 1.35L5.41 20z\"/>\n",
              "  </svg>\n",
              "      </button>\n",
              "      \n",
              "  <style>\n",
              "    .colab-df-container {\n",
              "      display:flex;\n",
              "      flex-wrap:wrap;\n",
              "      gap: 12px;\n",
              "    }\n",
              "\n",
              "    .colab-df-convert {\n",
              "      background-color: #E8F0FE;\n",
              "      border: none;\n",
              "      border-radius: 50%;\n",
              "      cursor: pointer;\n",
              "      display: none;\n",
              "      fill: #1967D2;\n",
              "      height: 32px;\n",
              "      padding: 0 0 0 0;\n",
              "      width: 32px;\n",
              "    }\n",
              "\n",
              "    .colab-df-convert:hover {\n",
              "      background-color: #E2EBFA;\n",
              "      box-shadow: 0px 1px 2px rgba(60, 64, 67, 0.3), 0px 1px 3px 1px rgba(60, 64, 67, 0.15);\n",
              "      fill: #174EA6;\n",
              "    }\n",
              "\n",
              "    [theme=dark] .colab-df-convert {\n",
              "      background-color: #3B4455;\n",
              "      fill: #D2E3FC;\n",
              "    }\n",
              "\n",
              "    [theme=dark] .colab-df-convert:hover {\n",
              "      background-color: #434B5C;\n",
              "      box-shadow: 0px 1px 3px 1px rgba(0, 0, 0, 0.15);\n",
              "      filter: drop-shadow(0px 1px 2px rgba(0, 0, 0, 0.3));\n",
              "      fill: #FFFFFF;\n",
              "    }\n",
              "  </style>\n",
              "\n",
              "      <script>\n",
              "        const buttonEl =\n",
              "          document.querySelector('#df-78a60783-2626-456b-bb37-d2d035b3ed9e button.colab-df-convert');\n",
              "        buttonEl.style.display =\n",
              "          google.colab.kernel.accessAllowed ? 'block' : 'none';\n",
              "\n",
              "        async function convertToInteractive(key) {\n",
              "          const element = document.querySelector('#df-78a60783-2626-456b-bb37-d2d035b3ed9e');\n",
              "          const dataTable =\n",
              "            await google.colab.kernel.invokeFunction('convertToInteractive',\n",
              "                                                     [key], {});\n",
              "          if (!dataTable) return;\n",
              "\n",
              "          const docLinkHtml = 'Like what you see? Visit the ' +\n",
              "            '<a target=\"_blank\" href=https://colab.research.google.com/notebooks/data_table.ipynb>data table notebook</a>'\n",
              "            + ' to learn more about interactive tables.';\n",
              "          element.innerHTML = '';\n",
              "          dataTable['output_type'] = 'display_data';\n",
              "          await google.colab.output.renderOutput(dataTable, element);\n",
              "          const docLink = document.createElement('div');\n",
              "          docLink.innerHTML = docLinkHtml;\n",
              "          element.appendChild(docLink);\n",
              "        }\n",
              "      </script>\n",
              "    </div>\n",
              "  </div>\n",
              "  "
            ]
          },
          "metadata": {},
          "execution_count": 378
        }
      ]
    },
    {
      "cell_type": "code",
      "source": [
        "print(wildfire_set1.columns)"
      ],
      "metadata": {
        "id": "2tZQjtnlUWkw",
        "outputId": "57b735c6-dde8-4dc1-e62c-c6735e405750",
        "colab": {
          "base_uri": "https://localhost:8080/"
        }
      },
      "execution_count": 379,
      "outputs": [
        {
          "output_type": "stream",
          "name": "stdout",
          "text": [
            "Index(['Unnamed: 0', 'Year', 'Name', 'AcresBurned', 'Fire Size Rank', 'Cause',\n",
            "       'SOURCE_REPORTING_UNIT_NAME', 'DaysBurn', 'Discovery Month',\n",
            "       'Discovered DOY', 'Contained Month', 'Contained DOY', 'Latitude',\n",
            "       'Longitude', 'County', 'CountyIds', 'State', 'OWNER_DESCR',\n",
            "       'NOAA Station', 'Link', 'AWND', 'CLDD', 'DP10', 'DX90', 'PRCP', 'TAVG',\n",
            "       'TMAX', 'TMIN', 'PRCP_6M', 'PRCP_RS', 'DX90_2M', 'DP10_2M',\n",
            "       'Receives Snow', 'Snow Station', 'River Basin', 'Mar_SP', 'Mar_WC',\n",
            "       'Mar_Dens', 'Has_Elevation', 'Elevation'],\n",
            "      dtype='object')\n"
          ]
        }
      ]
    },
    {
      "cell_type": "markdown",
      "source": [
        "Drop all columns that will not be relevant for our regression task:Unnamed: 0, Year, Name, Cause, SOURCE_REPORTING UNIT NAME, DaysBurn, Discovered DOY, Contained Month, Contained DOY, Lat, Long, County Ids, State, OWNER_DESCR, NOAA Station, Link, Snow Station, River Basin"
      ],
      "metadata": {
        "id": "nReNUm94Bsb_"
      }
    },
    {
      "cell_type": "code",
      "source": [
        "wildfire_set1.drop(columns = ['Unnamed: 0', 'Year', 'Name', 'Cause', 'Fire Size Rank',\n",
        "                      'SOURCE_REPORTING_UNIT_NAME', 'DaysBurn','Contained Month', 'Discovered DOY',\n",
        "                      'Contained DOY','Latitude','Longitude','County','CountyIds','State','OWNER_DESCR',\n",
        "                      'NOAA Station', 'Link', 'Snow Station', 'River Basin','Has_Elevation'], inplace = True)"
      ],
      "metadata": {
        "id": "1q_TyyMvElgd"
      },
      "execution_count": 380,
      "outputs": []
    },
    {
      "cell_type": "markdown",
      "source": [
        "Taking a look at the dataset now that we have dropped the nonrelevant columns"
      ],
      "metadata": {
        "id": "-q4nd7s8BYpV"
      }
    },
    {
      "cell_type": "code",
      "source": [
        "wildfire_set1.head(5)"
      ],
      "metadata": {
        "id": "tjwTdwNlJdQP",
        "colab": {
          "base_uri": "https://localhost:8080/",
          "height": 206
        },
        "outputId": "001efc10-70ec-4f95-c089-08ec021c8ff9"
      },
      "execution_count": 381,
      "outputs": [
        {
          "output_type": "execute_result",
          "data": {
            "text/plain": [
              "   AcresBurned Discovery Month  AWND  CLDD  DP10  DX90  PRCP  TAVG  TMAX  \\\n",
              "0         0.10             Feb   5.6   0.0  12.0   0.0  5.33  38.9  43.9   \n",
              "1         0.25             May   6.9   0.0   2.0   0.0  0.81  47.3  63.0   \n",
              "2         0.10             Jun   5.6  36.0   0.0   0.0  0.00  63.1  70.2   \n",
              "3         0.10             Jun   5.6   0.0   1.0   0.0  0.29  54.7  72.9   \n",
              "4         0.10             Jun   5.6   0.0   1.0   0.0  0.29  54.7  72.9   \n",
              "\n",
              "   TMIN  PRCP_6M  PRCP_RS  DX90_2M  DP10_2M  Receives Snow  Mar_SP  Mar_WC  \\\n",
              "0  33.9    27.89    49.06      0.0     19.0            1.0    79.6    34.0   \n",
              "1  31.6    14.37    14.76      0.0      3.0            1.0   108.6    38.1   \n",
              "2  56.0    36.71    40.37      0.0     11.0            1.0   108.6    38.1   \n",
              "3  36.5    13.63    14.76      0.0      3.0            1.0    87.2    28.4   \n",
              "4  36.5    13.63    14.76      0.0      3.0            1.0    87.2    28.4   \n",
              "\n",
              "   Mar_Dens  Elevation  \n",
              "0      0.43  2965.8432  \n",
              "1      0.35  6207.2736  \n",
              "2      0.35  3454.6824  \n",
              "3      0.33  7759.0920  \n",
              "4      0.33  7598.3328  "
            ],
            "text/html": [
              "\n",
              "  <div id=\"df-d6fb2d50-0454-4190-a0c4-a55ae84984b7\">\n",
              "    <div class=\"colab-df-container\">\n",
              "      <div>\n",
              "<style scoped>\n",
              "    .dataframe tbody tr th:only-of-type {\n",
              "        vertical-align: middle;\n",
              "    }\n",
              "\n",
              "    .dataframe tbody tr th {\n",
              "        vertical-align: top;\n",
              "    }\n",
              "\n",
              "    .dataframe thead th {\n",
              "        text-align: right;\n",
              "    }\n",
              "</style>\n",
              "<table border=\"1\" class=\"dataframe\">\n",
              "  <thead>\n",
              "    <tr style=\"text-align: right;\">\n",
              "      <th></th>\n",
              "      <th>AcresBurned</th>\n",
              "      <th>Discovery Month</th>\n",
              "      <th>AWND</th>\n",
              "      <th>CLDD</th>\n",
              "      <th>DP10</th>\n",
              "      <th>DX90</th>\n",
              "      <th>PRCP</th>\n",
              "      <th>TAVG</th>\n",
              "      <th>TMAX</th>\n",
              "      <th>TMIN</th>\n",
              "      <th>PRCP_6M</th>\n",
              "      <th>PRCP_RS</th>\n",
              "      <th>DX90_2M</th>\n",
              "      <th>DP10_2M</th>\n",
              "      <th>Receives Snow</th>\n",
              "      <th>Mar_SP</th>\n",
              "      <th>Mar_WC</th>\n",
              "      <th>Mar_Dens</th>\n",
              "      <th>Elevation</th>\n",
              "    </tr>\n",
              "  </thead>\n",
              "  <tbody>\n",
              "    <tr>\n",
              "      <th>0</th>\n",
              "      <td>0.10</td>\n",
              "      <td>Feb</td>\n",
              "      <td>5.6</td>\n",
              "      <td>0.0</td>\n",
              "      <td>12.0</td>\n",
              "      <td>0.0</td>\n",
              "      <td>5.33</td>\n",
              "      <td>38.9</td>\n",
              "      <td>43.9</td>\n",
              "      <td>33.9</td>\n",
              "      <td>27.89</td>\n",
              "      <td>49.06</td>\n",
              "      <td>0.0</td>\n",
              "      <td>19.0</td>\n",
              "      <td>1.0</td>\n",
              "      <td>79.6</td>\n",
              "      <td>34.0</td>\n",
              "      <td>0.43</td>\n",
              "      <td>2965.8432</td>\n",
              "    </tr>\n",
              "    <tr>\n",
              "      <th>1</th>\n",
              "      <td>0.25</td>\n",
              "      <td>May</td>\n",
              "      <td>6.9</td>\n",
              "      <td>0.0</td>\n",
              "      <td>2.0</td>\n",
              "      <td>0.0</td>\n",
              "      <td>0.81</td>\n",
              "      <td>47.3</td>\n",
              "      <td>63.0</td>\n",
              "      <td>31.6</td>\n",
              "      <td>14.37</td>\n",
              "      <td>14.76</td>\n",
              "      <td>0.0</td>\n",
              "      <td>3.0</td>\n",
              "      <td>1.0</td>\n",
              "      <td>108.6</td>\n",
              "      <td>38.1</td>\n",
              "      <td>0.35</td>\n",
              "      <td>6207.2736</td>\n",
              "    </tr>\n",
              "    <tr>\n",
              "      <th>2</th>\n",
              "      <td>0.10</td>\n",
              "      <td>Jun</td>\n",
              "      <td>5.6</td>\n",
              "      <td>36.0</td>\n",
              "      <td>0.0</td>\n",
              "      <td>0.0</td>\n",
              "      <td>0.00</td>\n",
              "      <td>63.1</td>\n",
              "      <td>70.2</td>\n",
              "      <td>56.0</td>\n",
              "      <td>36.71</td>\n",
              "      <td>40.37</td>\n",
              "      <td>0.0</td>\n",
              "      <td>11.0</td>\n",
              "      <td>1.0</td>\n",
              "      <td>108.6</td>\n",
              "      <td>38.1</td>\n",
              "      <td>0.35</td>\n",
              "      <td>3454.6824</td>\n",
              "    </tr>\n",
              "    <tr>\n",
              "      <th>3</th>\n",
              "      <td>0.10</td>\n",
              "      <td>Jun</td>\n",
              "      <td>5.6</td>\n",
              "      <td>0.0</td>\n",
              "      <td>1.0</td>\n",
              "      <td>0.0</td>\n",
              "      <td>0.29</td>\n",
              "      <td>54.7</td>\n",
              "      <td>72.9</td>\n",
              "      <td>36.5</td>\n",
              "      <td>13.63</td>\n",
              "      <td>14.76</td>\n",
              "      <td>0.0</td>\n",
              "      <td>3.0</td>\n",
              "      <td>1.0</td>\n",
              "      <td>87.2</td>\n",
              "      <td>28.4</td>\n",
              "      <td>0.33</td>\n",
              "      <td>7759.0920</td>\n",
              "    </tr>\n",
              "    <tr>\n",
              "      <th>4</th>\n",
              "      <td>0.10</td>\n",
              "      <td>Jun</td>\n",
              "      <td>5.6</td>\n",
              "      <td>0.0</td>\n",
              "      <td>1.0</td>\n",
              "      <td>0.0</td>\n",
              "      <td>0.29</td>\n",
              "      <td>54.7</td>\n",
              "      <td>72.9</td>\n",
              "      <td>36.5</td>\n",
              "      <td>13.63</td>\n",
              "      <td>14.76</td>\n",
              "      <td>0.0</td>\n",
              "      <td>3.0</td>\n",
              "      <td>1.0</td>\n",
              "      <td>87.2</td>\n",
              "      <td>28.4</td>\n",
              "      <td>0.33</td>\n",
              "      <td>7598.3328</td>\n",
              "    </tr>\n",
              "  </tbody>\n",
              "</table>\n",
              "</div>\n",
              "      <button class=\"colab-df-convert\" onclick=\"convertToInteractive('df-d6fb2d50-0454-4190-a0c4-a55ae84984b7')\"\n",
              "              title=\"Convert this dataframe to an interactive table.\"\n",
              "              style=\"display:none;\">\n",
              "        \n",
              "  <svg xmlns=\"http://www.w3.org/2000/svg\" height=\"24px\"viewBox=\"0 0 24 24\"\n",
              "       width=\"24px\">\n",
              "    <path d=\"M0 0h24v24H0V0z\" fill=\"none\"/>\n",
              "    <path d=\"M18.56 5.44l.94 2.06.94-2.06 2.06-.94-2.06-.94-.94-2.06-.94 2.06-2.06.94zm-11 1L8.5 8.5l.94-2.06 2.06-.94-2.06-.94L8.5 2.5l-.94 2.06-2.06.94zm10 10l.94 2.06.94-2.06 2.06-.94-2.06-.94-.94-2.06-.94 2.06-2.06.94z\"/><path d=\"M17.41 7.96l-1.37-1.37c-.4-.4-.92-.59-1.43-.59-.52 0-1.04.2-1.43.59L10.3 9.45l-7.72 7.72c-.78.78-.78 2.05 0 2.83L4 21.41c.39.39.9.59 1.41.59.51 0 1.02-.2 1.41-.59l7.78-7.78 2.81-2.81c.8-.78.8-2.07 0-2.86zM5.41 20L4 18.59l7.72-7.72 1.47 1.35L5.41 20z\"/>\n",
              "  </svg>\n",
              "      </button>\n",
              "      \n",
              "  <style>\n",
              "    .colab-df-container {\n",
              "      display:flex;\n",
              "      flex-wrap:wrap;\n",
              "      gap: 12px;\n",
              "    }\n",
              "\n",
              "    .colab-df-convert {\n",
              "      background-color: #E8F0FE;\n",
              "      border: none;\n",
              "      border-radius: 50%;\n",
              "      cursor: pointer;\n",
              "      display: none;\n",
              "      fill: #1967D2;\n",
              "      height: 32px;\n",
              "      padding: 0 0 0 0;\n",
              "      width: 32px;\n",
              "    }\n",
              "\n",
              "    .colab-df-convert:hover {\n",
              "      background-color: #E2EBFA;\n",
              "      box-shadow: 0px 1px 2px rgba(60, 64, 67, 0.3), 0px 1px 3px 1px rgba(60, 64, 67, 0.15);\n",
              "      fill: #174EA6;\n",
              "    }\n",
              "\n",
              "    [theme=dark] .colab-df-convert {\n",
              "      background-color: #3B4455;\n",
              "      fill: #D2E3FC;\n",
              "    }\n",
              "\n",
              "    [theme=dark] .colab-df-convert:hover {\n",
              "      background-color: #434B5C;\n",
              "      box-shadow: 0px 1px 3px 1px rgba(0, 0, 0, 0.15);\n",
              "      filter: drop-shadow(0px 1px 2px rgba(0, 0, 0, 0.3));\n",
              "      fill: #FFFFFF;\n",
              "    }\n",
              "  </style>\n",
              "\n",
              "      <script>\n",
              "        const buttonEl =\n",
              "          document.querySelector('#df-d6fb2d50-0454-4190-a0c4-a55ae84984b7 button.colab-df-convert');\n",
              "        buttonEl.style.display =\n",
              "          google.colab.kernel.accessAllowed ? 'block' : 'none';\n",
              "\n",
              "        async function convertToInteractive(key) {\n",
              "          const element = document.querySelector('#df-d6fb2d50-0454-4190-a0c4-a55ae84984b7');\n",
              "          const dataTable =\n",
              "            await google.colab.kernel.invokeFunction('convertToInteractive',\n",
              "                                                     [key], {});\n",
              "          if (!dataTable) return;\n",
              "\n",
              "          const docLinkHtml = 'Like what you see? Visit the ' +\n",
              "            '<a target=\"_blank\" href=https://colab.research.google.com/notebooks/data_table.ipynb>data table notebook</a>'\n",
              "            + ' to learn more about interactive tables.';\n",
              "          element.innerHTML = '';\n",
              "          dataTable['output_type'] = 'display_data';\n",
              "          await google.colab.output.renderOutput(dataTable, element);\n",
              "          const docLink = document.createElement('div');\n",
              "          docLink.innerHTML = docLinkHtml;\n",
              "          element.appendChild(docLink);\n",
              "        }\n",
              "      </script>\n",
              "    </div>\n",
              "  </div>\n",
              "  "
            ]
          },
          "metadata": {},
          "execution_count": 381
        }
      ]
    },
    {
      "cell_type": "code",
      "source": [
        "wildfire_set1.shape"
      ],
      "metadata": {
        "id": "6GGilC4CD906",
        "colab": {
          "base_uri": "https://localhost:8080/"
        },
        "outputId": "5a4633da-0aa2-442c-eb18-bffd0ffa776c"
      },
      "execution_count": 382,
      "outputs": [
        {
          "output_type": "execute_result",
          "data": {
            "text/plain": [
              "(114558, 19)"
            ]
          },
          "metadata": {},
          "execution_count": 382
        }
      ]
    },
    {
      "cell_type": "markdown",
      "source": [
        "# Investigate the presence of null values in the dataset:\n",
        "Below, we have the count of totall null values in each column for  wildfire_set1."
      ],
      "metadata": {
        "id": "5_rDqNJTLWVx"
      }
    },
    {
      "cell_type": "code",
      "source": [
        "print(wildfire_set1.isnull().sum())"
      ],
      "metadata": {
        "id": "n5pLabm4Dz5W",
        "colab": {
          "base_uri": "https://localhost:8080/"
        },
        "outputId": "17d0605e-1e70-48ed-b96f-1dadb263672f"
      },
      "execution_count": 383,
      "outputs": [
        {
          "output_type": "stream",
          "name": "stdout",
          "text": [
            "AcresBurned           0\n",
            "Discovery Month       0\n",
            "AWND               6254\n",
            "CLDD               3335\n",
            "DP10               3042\n",
            "DX90               3333\n",
            "PRCP               3042\n",
            "TAVG               3335\n",
            "TMAX               3333\n",
            "TMIN               3285\n",
            "PRCP_6M            2470\n",
            "PRCP_RS            2811\n",
            "DX90_2M            2215\n",
            "DP10_2M            1599\n",
            "Receives Snow       102\n",
            "Mar_SP              102\n",
            "Mar_WC              102\n",
            "Mar_Dens            102\n",
            "Elevation             0\n",
            "dtype: int64\n"
          ]
        }
      ]
    },
    {
      "cell_type": "code",
      "source": [
        "wildfire_set1 = wildfire_set1.dropna()"
      ],
      "metadata": {
        "id": "HehdodiqFMSk"
      },
      "execution_count": 384,
      "outputs": []
    },
    {
      "cell_type": "markdown",
      "source": [
        "In the cell above, we drop all null values in the dataset. We are able to drop all nulls in this case because our dataset is sizeable with relatively few null values in each so not much data is lost in this process. Looking at the shape of the dataframe after the drops, we see that the dataset remains a similar size post drop."
      ],
      "metadata": {
        "id": "z1leCNjYNK7M"
      }
    },
    {
      "cell_type": "code",
      "source": [
        "#we lose around 50 values when dropping NaN's\n",
        "wildfire_set1.shape"
      ],
      "metadata": {
        "id": "dAacNqr7FONE",
        "colab": {
          "base_uri": "https://localhost:8080/"
        },
        "outputId": "57b8fe08-0096-42c5-938f-cb4bd5350d15"
      },
      "execution_count": 385,
      "outputs": [
        {
          "output_type": "execute_result",
          "data": {
            "text/plain": [
              "(106024, 19)"
            ]
          },
          "metadata": {},
          "execution_count": 385
        }
      ]
    },
    {
      "cell_type": "markdown",
      "source": [
        "# For our regressions, we will try to predict the number of Acres Burned in the fire"
      ],
      "metadata": {
        "id": "7CAsMA8VaiJU"
      }
    },
    {
      "cell_type": "code",
      "source": [
        "print(wildfire_set1.columns)"
      ],
      "metadata": {
        "colab": {
          "base_uri": "https://localhost:8080/"
        },
        "id": "4euqbgVncG1f",
        "outputId": "18570411-f964-42b0-d742-807fc7a2c161"
      },
      "execution_count": 386,
      "outputs": [
        {
          "output_type": "stream",
          "name": "stdout",
          "text": [
            "Index(['AcresBurned', 'Discovery Month', 'AWND', 'CLDD', 'DP10', 'DX90',\n",
            "       'PRCP', 'TAVG', 'TMAX', 'TMIN', 'PRCP_6M', 'PRCP_RS', 'DX90_2M',\n",
            "       'DP10_2M', 'Receives Snow', 'Mar_SP', 'Mar_WC', 'Mar_Dens',\n",
            "       'Elevation'],\n",
            "      dtype='object')\n"
          ]
        }
      ]
    },
    {
      "cell_type": "markdown",
      "source": [
        "Double check our datatypes before we proceed with preprocessing and model building. As we can see, all features besides discovery and fire size rank are numerical (of type float or int) so all we have to do is one hot encode the discovery month of the fire."
      ],
      "metadata": {
        "id": "rUR65XIfD407"
      }
    },
    {
      "cell_type": "code",
      "source": [
        "wildfire_set1.info()"
      ],
      "metadata": {
        "id": "Ci06aOQzA-jH",
        "colab": {
          "base_uri": "https://localhost:8080/"
        },
        "outputId": "3b327f87-3e5e-4aad-c484-92ff78d48c1e"
      },
      "execution_count": 387,
      "outputs": [
        {
          "output_type": "stream",
          "name": "stdout",
          "text": [
            "<class 'pandas.core.frame.DataFrame'>\n",
            "Int64Index: 106024 entries, 0 to 114557\n",
            "Data columns (total 19 columns):\n",
            " #   Column           Non-Null Count   Dtype  \n",
            "---  ------           --------------   -----  \n",
            " 0   AcresBurned      106024 non-null  float64\n",
            " 1   Discovery Month  106024 non-null  object \n",
            " 2   AWND             106024 non-null  float64\n",
            " 3   CLDD             106024 non-null  float64\n",
            " 4   DP10             106024 non-null  float64\n",
            " 5   DX90             106024 non-null  float64\n",
            " 6   PRCP             106024 non-null  float64\n",
            " 7   TAVG             106024 non-null  float64\n",
            " 8   TMAX             106024 non-null  float64\n",
            " 9   TMIN             106024 non-null  float64\n",
            " 10  PRCP_6M          106024 non-null  float64\n",
            " 11  PRCP_RS          106024 non-null  float64\n",
            " 12  DX90_2M          106024 non-null  float64\n",
            " 13  DP10_2M          106024 non-null  float64\n",
            " 14  Receives Snow    106024 non-null  float64\n",
            " 15  Mar_SP           106024 non-null  float64\n",
            " 16  Mar_WC           106024 non-null  float64\n",
            " 17  Mar_Dens         106024 non-null  float64\n",
            " 18  Elevation        106024 non-null  float64\n",
            "dtypes: float64(18), object(1)\n",
            "memory usage: 16.2+ MB\n"
          ]
        }
      ]
    },
    {
      "cell_type": "markdown",
      "source": [
        "# One-Hot Encoding Categorical Variables\n",
        "\n",
        "\n",
        "*   Encode the discovery month (the only categorical variable) in both datasets\n",
        "\n"
      ],
      "metadata": {
        "id": "3waScPx3njr9"
      }
    },
    {
      "cell_type": "code",
      "source": [
        "#Add the dummy columns to the dataset\n",
        "dummy_month = pd.get_dummies(wildfire_set1['Discovery Month'])\n",
        "wildfire_set1 = pd.merge(left = wildfire_set1, right = dummy_month, left_index = True, right_index = True)\n",
        "wildfire_set1 = wildfire_set1.drop(columns = ['Discovery Month'])\n",
        "wildfire_set1.head(10)"
      ],
      "metadata": {
        "id": "C4NMBTL2nrno",
        "outputId": "7e8e0f0b-33df-4746-affd-a1cac7d48044",
        "colab": {
          "base_uri": "https://localhost:8080/",
          "height": 392
        }
      },
      "execution_count": 388,
      "outputs": [
        {
          "output_type": "execute_result",
          "data": {
            "text/plain": [
              "   AcresBurned  AWND  CLDD  DP10  DX90  PRCP  TAVG  TMAX  TMIN  PRCP_6M  ...  \\\n",
              "0         0.10   5.6   0.0  12.0   0.0  5.33  38.9  43.9  33.9    27.89  ...   \n",
              "1         0.25   6.9   0.0   2.0   0.0  0.81  47.3  63.0  31.6    14.37  ...   \n",
              "2         0.10   5.6  36.0   0.0   0.0  0.00  63.1  70.2  56.0    36.71  ...   \n",
              "3         0.10   5.6   0.0   1.0   0.0  0.29  54.7  72.9  36.5    13.63  ...   \n",
              "4         0.10   5.6   0.0   1.0   0.0  0.29  54.7  72.9  36.5    13.63  ...   \n",
              "5         0.10   5.1   1.0   0.0   0.0  0.00  61.1  79.8  42.3     8.31  ...   \n",
              "6         0.10   5.1   1.0   0.0   0.0  0.00  61.1  79.8  42.3     8.31  ...   \n",
              "7         0.80   6.5   7.0   9.0   0.0  4.99  55.5  67.0  44.0    25.91  ...   \n",
              "8         1.00   6.5   7.0   9.0   0.0  4.99  55.5  67.0  44.0    25.91  ...   \n",
              "9         0.10   5.1   1.0   0.0   0.0  0.00  61.1  79.8  42.3     8.31  ...   \n",
              "\n",
              "   Dec  Feb  Jan  Jul  Jun  Mar  May  Nov  Oct  Sep  \n",
              "0    0    1    0    0    0    0    0    0    0    0  \n",
              "1    0    0    0    0    0    0    1    0    0    0  \n",
              "2    0    0    0    0    1    0    0    0    0    0  \n",
              "3    0    0    0    0    1    0    0    0    0    0  \n",
              "4    0    0    0    0    1    0    0    0    0    0  \n",
              "5    0    0    0    1    0    0    0    0    0    0  \n",
              "6    0    0    0    1    0    0    0    0    0    0  \n",
              "7    0    0    0    0    0    1    0    0    0    0  \n",
              "8    0    0    0    0    0    1    0    0    0    0  \n",
              "9    0    0    0    1    0    0    0    0    0    0  \n",
              "\n",
              "[10 rows x 30 columns]"
            ],
            "text/html": [
              "\n",
              "  <div id=\"df-a4687da1-54ec-4af7-be58-79c16c683fec\">\n",
              "    <div class=\"colab-df-container\">\n",
              "      <div>\n",
              "<style scoped>\n",
              "    .dataframe tbody tr th:only-of-type {\n",
              "        vertical-align: middle;\n",
              "    }\n",
              "\n",
              "    .dataframe tbody tr th {\n",
              "        vertical-align: top;\n",
              "    }\n",
              "\n",
              "    .dataframe thead th {\n",
              "        text-align: right;\n",
              "    }\n",
              "</style>\n",
              "<table border=\"1\" class=\"dataframe\">\n",
              "  <thead>\n",
              "    <tr style=\"text-align: right;\">\n",
              "      <th></th>\n",
              "      <th>AcresBurned</th>\n",
              "      <th>AWND</th>\n",
              "      <th>CLDD</th>\n",
              "      <th>DP10</th>\n",
              "      <th>DX90</th>\n",
              "      <th>PRCP</th>\n",
              "      <th>TAVG</th>\n",
              "      <th>TMAX</th>\n",
              "      <th>TMIN</th>\n",
              "      <th>PRCP_6M</th>\n",
              "      <th>...</th>\n",
              "      <th>Dec</th>\n",
              "      <th>Feb</th>\n",
              "      <th>Jan</th>\n",
              "      <th>Jul</th>\n",
              "      <th>Jun</th>\n",
              "      <th>Mar</th>\n",
              "      <th>May</th>\n",
              "      <th>Nov</th>\n",
              "      <th>Oct</th>\n",
              "      <th>Sep</th>\n",
              "    </tr>\n",
              "  </thead>\n",
              "  <tbody>\n",
              "    <tr>\n",
              "      <th>0</th>\n",
              "      <td>0.10</td>\n",
              "      <td>5.6</td>\n",
              "      <td>0.0</td>\n",
              "      <td>12.0</td>\n",
              "      <td>0.0</td>\n",
              "      <td>5.33</td>\n",
              "      <td>38.9</td>\n",
              "      <td>43.9</td>\n",
              "      <td>33.9</td>\n",
              "      <td>27.89</td>\n",
              "      <td>...</td>\n",
              "      <td>0</td>\n",
              "      <td>1</td>\n",
              "      <td>0</td>\n",
              "      <td>0</td>\n",
              "      <td>0</td>\n",
              "      <td>0</td>\n",
              "      <td>0</td>\n",
              "      <td>0</td>\n",
              "      <td>0</td>\n",
              "      <td>0</td>\n",
              "    </tr>\n",
              "    <tr>\n",
              "      <th>1</th>\n",
              "      <td>0.25</td>\n",
              "      <td>6.9</td>\n",
              "      <td>0.0</td>\n",
              "      <td>2.0</td>\n",
              "      <td>0.0</td>\n",
              "      <td>0.81</td>\n",
              "      <td>47.3</td>\n",
              "      <td>63.0</td>\n",
              "      <td>31.6</td>\n",
              "      <td>14.37</td>\n",
              "      <td>...</td>\n",
              "      <td>0</td>\n",
              "      <td>0</td>\n",
              "      <td>0</td>\n",
              "      <td>0</td>\n",
              "      <td>0</td>\n",
              "      <td>0</td>\n",
              "      <td>1</td>\n",
              "      <td>0</td>\n",
              "      <td>0</td>\n",
              "      <td>0</td>\n",
              "    </tr>\n",
              "    <tr>\n",
              "      <th>2</th>\n",
              "      <td>0.10</td>\n",
              "      <td>5.6</td>\n",
              "      <td>36.0</td>\n",
              "      <td>0.0</td>\n",
              "      <td>0.0</td>\n",
              "      <td>0.00</td>\n",
              "      <td>63.1</td>\n",
              "      <td>70.2</td>\n",
              "      <td>56.0</td>\n",
              "      <td>36.71</td>\n",
              "      <td>...</td>\n",
              "      <td>0</td>\n",
              "      <td>0</td>\n",
              "      <td>0</td>\n",
              "      <td>0</td>\n",
              "      <td>1</td>\n",
              "      <td>0</td>\n",
              "      <td>0</td>\n",
              "      <td>0</td>\n",
              "      <td>0</td>\n",
              "      <td>0</td>\n",
              "    </tr>\n",
              "    <tr>\n",
              "      <th>3</th>\n",
              "      <td>0.10</td>\n",
              "      <td>5.6</td>\n",
              "      <td>0.0</td>\n",
              "      <td>1.0</td>\n",
              "      <td>0.0</td>\n",
              "      <td>0.29</td>\n",
              "      <td>54.7</td>\n",
              "      <td>72.9</td>\n",
              "      <td>36.5</td>\n",
              "      <td>13.63</td>\n",
              "      <td>...</td>\n",
              "      <td>0</td>\n",
              "      <td>0</td>\n",
              "      <td>0</td>\n",
              "      <td>0</td>\n",
              "      <td>1</td>\n",
              "      <td>0</td>\n",
              "      <td>0</td>\n",
              "      <td>0</td>\n",
              "      <td>0</td>\n",
              "      <td>0</td>\n",
              "    </tr>\n",
              "    <tr>\n",
              "      <th>4</th>\n",
              "      <td>0.10</td>\n",
              "      <td>5.6</td>\n",
              "      <td>0.0</td>\n",
              "      <td>1.0</td>\n",
              "      <td>0.0</td>\n",
              "      <td>0.29</td>\n",
              "      <td>54.7</td>\n",
              "      <td>72.9</td>\n",
              "      <td>36.5</td>\n",
              "      <td>13.63</td>\n",
              "      <td>...</td>\n",
              "      <td>0</td>\n",
              "      <td>0</td>\n",
              "      <td>0</td>\n",
              "      <td>0</td>\n",
              "      <td>1</td>\n",
              "      <td>0</td>\n",
              "      <td>0</td>\n",
              "      <td>0</td>\n",
              "      <td>0</td>\n",
              "      <td>0</td>\n",
              "    </tr>\n",
              "    <tr>\n",
              "      <th>5</th>\n",
              "      <td>0.10</td>\n",
              "      <td>5.1</td>\n",
              "      <td>1.0</td>\n",
              "      <td>0.0</td>\n",
              "      <td>0.0</td>\n",
              "      <td>0.00</td>\n",
              "      <td>61.1</td>\n",
              "      <td>79.8</td>\n",
              "      <td>42.3</td>\n",
              "      <td>8.31</td>\n",
              "      <td>...</td>\n",
              "      <td>0</td>\n",
              "      <td>0</td>\n",
              "      <td>0</td>\n",
              "      <td>1</td>\n",
              "      <td>0</td>\n",
              "      <td>0</td>\n",
              "      <td>0</td>\n",
              "      <td>0</td>\n",
              "      <td>0</td>\n",
              "      <td>0</td>\n",
              "    </tr>\n",
              "    <tr>\n",
              "      <th>6</th>\n",
              "      <td>0.10</td>\n",
              "      <td>5.1</td>\n",
              "      <td>1.0</td>\n",
              "      <td>0.0</td>\n",
              "      <td>0.0</td>\n",
              "      <td>0.00</td>\n",
              "      <td>61.1</td>\n",
              "      <td>79.8</td>\n",
              "      <td>42.3</td>\n",
              "      <td>8.31</td>\n",
              "      <td>...</td>\n",
              "      <td>0</td>\n",
              "      <td>0</td>\n",
              "      <td>0</td>\n",
              "      <td>1</td>\n",
              "      <td>0</td>\n",
              "      <td>0</td>\n",
              "      <td>0</td>\n",
              "      <td>0</td>\n",
              "      <td>0</td>\n",
              "      <td>0</td>\n",
              "    </tr>\n",
              "    <tr>\n",
              "      <th>7</th>\n",
              "      <td>0.80</td>\n",
              "      <td>6.5</td>\n",
              "      <td>7.0</td>\n",
              "      <td>9.0</td>\n",
              "      <td>0.0</td>\n",
              "      <td>4.99</td>\n",
              "      <td>55.5</td>\n",
              "      <td>67.0</td>\n",
              "      <td>44.0</td>\n",
              "      <td>25.91</td>\n",
              "      <td>...</td>\n",
              "      <td>0</td>\n",
              "      <td>0</td>\n",
              "      <td>0</td>\n",
              "      <td>0</td>\n",
              "      <td>0</td>\n",
              "      <td>1</td>\n",
              "      <td>0</td>\n",
              "      <td>0</td>\n",
              "      <td>0</td>\n",
              "      <td>0</td>\n",
              "    </tr>\n",
              "    <tr>\n",
              "      <th>8</th>\n",
              "      <td>1.00</td>\n",
              "      <td>6.5</td>\n",
              "      <td>7.0</td>\n",
              "      <td>9.0</td>\n",
              "      <td>0.0</td>\n",
              "      <td>4.99</td>\n",
              "      <td>55.5</td>\n",
              "      <td>67.0</td>\n",
              "      <td>44.0</td>\n",
              "      <td>25.91</td>\n",
              "      <td>...</td>\n",
              "      <td>0</td>\n",
              "      <td>0</td>\n",
              "      <td>0</td>\n",
              "      <td>0</td>\n",
              "      <td>0</td>\n",
              "      <td>1</td>\n",
              "      <td>0</td>\n",
              "      <td>0</td>\n",
              "      <td>0</td>\n",
              "      <td>0</td>\n",
              "    </tr>\n",
              "    <tr>\n",
              "      <th>9</th>\n",
              "      <td>0.10</td>\n",
              "      <td>5.1</td>\n",
              "      <td>1.0</td>\n",
              "      <td>0.0</td>\n",
              "      <td>0.0</td>\n",
              "      <td>0.00</td>\n",
              "      <td>61.1</td>\n",
              "      <td>79.8</td>\n",
              "      <td>42.3</td>\n",
              "      <td>8.31</td>\n",
              "      <td>...</td>\n",
              "      <td>0</td>\n",
              "      <td>0</td>\n",
              "      <td>0</td>\n",
              "      <td>1</td>\n",
              "      <td>0</td>\n",
              "      <td>0</td>\n",
              "      <td>0</td>\n",
              "      <td>0</td>\n",
              "      <td>0</td>\n",
              "      <td>0</td>\n",
              "    </tr>\n",
              "  </tbody>\n",
              "</table>\n",
              "<p>10 rows × 30 columns</p>\n",
              "</div>\n",
              "      <button class=\"colab-df-convert\" onclick=\"convertToInteractive('df-a4687da1-54ec-4af7-be58-79c16c683fec')\"\n",
              "              title=\"Convert this dataframe to an interactive table.\"\n",
              "              style=\"display:none;\">\n",
              "        \n",
              "  <svg xmlns=\"http://www.w3.org/2000/svg\" height=\"24px\"viewBox=\"0 0 24 24\"\n",
              "       width=\"24px\">\n",
              "    <path d=\"M0 0h24v24H0V0z\" fill=\"none\"/>\n",
              "    <path d=\"M18.56 5.44l.94 2.06.94-2.06 2.06-.94-2.06-.94-.94-2.06-.94 2.06-2.06.94zm-11 1L8.5 8.5l.94-2.06 2.06-.94-2.06-.94L8.5 2.5l-.94 2.06-2.06.94zm10 10l.94 2.06.94-2.06 2.06-.94-2.06-.94-.94-2.06-.94 2.06-2.06.94z\"/><path d=\"M17.41 7.96l-1.37-1.37c-.4-.4-.92-.59-1.43-.59-.52 0-1.04.2-1.43.59L10.3 9.45l-7.72 7.72c-.78.78-.78 2.05 0 2.83L4 21.41c.39.39.9.59 1.41.59.51 0 1.02-.2 1.41-.59l7.78-7.78 2.81-2.81c.8-.78.8-2.07 0-2.86zM5.41 20L4 18.59l7.72-7.72 1.47 1.35L5.41 20z\"/>\n",
              "  </svg>\n",
              "      </button>\n",
              "      \n",
              "  <style>\n",
              "    .colab-df-container {\n",
              "      display:flex;\n",
              "      flex-wrap:wrap;\n",
              "      gap: 12px;\n",
              "    }\n",
              "\n",
              "    .colab-df-convert {\n",
              "      background-color: #E8F0FE;\n",
              "      border: none;\n",
              "      border-radius: 50%;\n",
              "      cursor: pointer;\n",
              "      display: none;\n",
              "      fill: #1967D2;\n",
              "      height: 32px;\n",
              "      padding: 0 0 0 0;\n",
              "      width: 32px;\n",
              "    }\n",
              "\n",
              "    .colab-df-convert:hover {\n",
              "      background-color: #E2EBFA;\n",
              "      box-shadow: 0px 1px 2px rgba(60, 64, 67, 0.3), 0px 1px 3px 1px rgba(60, 64, 67, 0.15);\n",
              "      fill: #174EA6;\n",
              "    }\n",
              "\n",
              "    [theme=dark] .colab-df-convert {\n",
              "      background-color: #3B4455;\n",
              "      fill: #D2E3FC;\n",
              "    }\n",
              "\n",
              "    [theme=dark] .colab-df-convert:hover {\n",
              "      background-color: #434B5C;\n",
              "      box-shadow: 0px 1px 3px 1px rgba(0, 0, 0, 0.15);\n",
              "      filter: drop-shadow(0px 1px 2px rgba(0, 0, 0, 0.3));\n",
              "      fill: #FFFFFF;\n",
              "    }\n",
              "  </style>\n",
              "\n",
              "      <script>\n",
              "        const buttonEl =\n",
              "          document.querySelector('#df-a4687da1-54ec-4af7-be58-79c16c683fec button.colab-df-convert');\n",
              "        buttonEl.style.display =\n",
              "          google.colab.kernel.accessAllowed ? 'block' : 'none';\n",
              "\n",
              "        async function convertToInteractive(key) {\n",
              "          const element = document.querySelector('#df-a4687da1-54ec-4af7-be58-79c16c683fec');\n",
              "          const dataTable =\n",
              "            await google.colab.kernel.invokeFunction('convertToInteractive',\n",
              "                                                     [key], {});\n",
              "          if (!dataTable) return;\n",
              "\n",
              "          const docLinkHtml = 'Like what you see? Visit the ' +\n",
              "            '<a target=\"_blank\" href=https://colab.research.google.com/notebooks/data_table.ipynb>data table notebook</a>'\n",
              "            + ' to learn more about interactive tables.';\n",
              "          element.innerHTML = '';\n",
              "          dataTable['output_type'] = 'display_data';\n",
              "          await google.colab.output.renderOutput(dataTable, element);\n",
              "          const docLink = document.createElement('div');\n",
              "          docLink.innerHTML = docLinkHtml;\n",
              "          element.appendChild(docLink);\n",
              "        }\n",
              "      </script>\n",
              "    </div>\n",
              "  </div>\n",
              "  "
            ]
          },
          "metadata": {},
          "execution_count": 388
        }
      ]
    },
    {
      "cell_type": "code",
      "source": [
        "wildfire_set1.head()"
      ],
      "metadata": {
        "id": "c3TE3f7hXhpU",
        "outputId": "f3f5dc5c-09c2-42fa-e181-4ef1d6140a7c",
        "colab": {
          "base_uri": "https://localhost:8080/",
          "height": 235
        }
      },
      "execution_count": 389,
      "outputs": [
        {
          "output_type": "execute_result",
          "data": {
            "text/plain": [
              "   AcresBurned  AWND  CLDD  DP10  DX90  PRCP  TAVG  TMAX  TMIN  PRCP_6M  ...  \\\n",
              "0         0.10   5.6   0.0  12.0   0.0  5.33  38.9  43.9  33.9    27.89  ...   \n",
              "1         0.25   6.9   0.0   2.0   0.0  0.81  47.3  63.0  31.6    14.37  ...   \n",
              "2         0.10   5.6  36.0   0.0   0.0  0.00  63.1  70.2  56.0    36.71  ...   \n",
              "3         0.10   5.6   0.0   1.0   0.0  0.29  54.7  72.9  36.5    13.63  ...   \n",
              "4         0.10   5.6   0.0   1.0   0.0  0.29  54.7  72.9  36.5    13.63  ...   \n",
              "\n",
              "   Dec  Feb  Jan  Jul  Jun  Mar  May  Nov  Oct  Sep  \n",
              "0    0    1    0    0    0    0    0    0    0    0  \n",
              "1    0    0    0    0    0    0    1    0    0    0  \n",
              "2    0    0    0    0    1    0    0    0    0    0  \n",
              "3    0    0    0    0    1    0    0    0    0    0  \n",
              "4    0    0    0    0    1    0    0    0    0    0  \n",
              "\n",
              "[5 rows x 30 columns]"
            ],
            "text/html": [
              "\n",
              "  <div id=\"df-a19a7765-c8cb-40d2-8ec3-05842b34389a\">\n",
              "    <div class=\"colab-df-container\">\n",
              "      <div>\n",
              "<style scoped>\n",
              "    .dataframe tbody tr th:only-of-type {\n",
              "        vertical-align: middle;\n",
              "    }\n",
              "\n",
              "    .dataframe tbody tr th {\n",
              "        vertical-align: top;\n",
              "    }\n",
              "\n",
              "    .dataframe thead th {\n",
              "        text-align: right;\n",
              "    }\n",
              "</style>\n",
              "<table border=\"1\" class=\"dataframe\">\n",
              "  <thead>\n",
              "    <tr style=\"text-align: right;\">\n",
              "      <th></th>\n",
              "      <th>AcresBurned</th>\n",
              "      <th>AWND</th>\n",
              "      <th>CLDD</th>\n",
              "      <th>DP10</th>\n",
              "      <th>DX90</th>\n",
              "      <th>PRCP</th>\n",
              "      <th>TAVG</th>\n",
              "      <th>TMAX</th>\n",
              "      <th>TMIN</th>\n",
              "      <th>PRCP_6M</th>\n",
              "      <th>...</th>\n",
              "      <th>Dec</th>\n",
              "      <th>Feb</th>\n",
              "      <th>Jan</th>\n",
              "      <th>Jul</th>\n",
              "      <th>Jun</th>\n",
              "      <th>Mar</th>\n",
              "      <th>May</th>\n",
              "      <th>Nov</th>\n",
              "      <th>Oct</th>\n",
              "      <th>Sep</th>\n",
              "    </tr>\n",
              "  </thead>\n",
              "  <tbody>\n",
              "    <tr>\n",
              "      <th>0</th>\n",
              "      <td>0.10</td>\n",
              "      <td>5.6</td>\n",
              "      <td>0.0</td>\n",
              "      <td>12.0</td>\n",
              "      <td>0.0</td>\n",
              "      <td>5.33</td>\n",
              "      <td>38.9</td>\n",
              "      <td>43.9</td>\n",
              "      <td>33.9</td>\n",
              "      <td>27.89</td>\n",
              "      <td>...</td>\n",
              "      <td>0</td>\n",
              "      <td>1</td>\n",
              "      <td>0</td>\n",
              "      <td>0</td>\n",
              "      <td>0</td>\n",
              "      <td>0</td>\n",
              "      <td>0</td>\n",
              "      <td>0</td>\n",
              "      <td>0</td>\n",
              "      <td>0</td>\n",
              "    </tr>\n",
              "    <tr>\n",
              "      <th>1</th>\n",
              "      <td>0.25</td>\n",
              "      <td>6.9</td>\n",
              "      <td>0.0</td>\n",
              "      <td>2.0</td>\n",
              "      <td>0.0</td>\n",
              "      <td>0.81</td>\n",
              "      <td>47.3</td>\n",
              "      <td>63.0</td>\n",
              "      <td>31.6</td>\n",
              "      <td>14.37</td>\n",
              "      <td>...</td>\n",
              "      <td>0</td>\n",
              "      <td>0</td>\n",
              "      <td>0</td>\n",
              "      <td>0</td>\n",
              "      <td>0</td>\n",
              "      <td>0</td>\n",
              "      <td>1</td>\n",
              "      <td>0</td>\n",
              "      <td>0</td>\n",
              "      <td>0</td>\n",
              "    </tr>\n",
              "    <tr>\n",
              "      <th>2</th>\n",
              "      <td>0.10</td>\n",
              "      <td>5.6</td>\n",
              "      <td>36.0</td>\n",
              "      <td>0.0</td>\n",
              "      <td>0.0</td>\n",
              "      <td>0.00</td>\n",
              "      <td>63.1</td>\n",
              "      <td>70.2</td>\n",
              "      <td>56.0</td>\n",
              "      <td>36.71</td>\n",
              "      <td>...</td>\n",
              "      <td>0</td>\n",
              "      <td>0</td>\n",
              "      <td>0</td>\n",
              "      <td>0</td>\n",
              "      <td>1</td>\n",
              "      <td>0</td>\n",
              "      <td>0</td>\n",
              "      <td>0</td>\n",
              "      <td>0</td>\n",
              "      <td>0</td>\n",
              "    </tr>\n",
              "    <tr>\n",
              "      <th>3</th>\n",
              "      <td>0.10</td>\n",
              "      <td>5.6</td>\n",
              "      <td>0.0</td>\n",
              "      <td>1.0</td>\n",
              "      <td>0.0</td>\n",
              "      <td>0.29</td>\n",
              "      <td>54.7</td>\n",
              "      <td>72.9</td>\n",
              "      <td>36.5</td>\n",
              "      <td>13.63</td>\n",
              "      <td>...</td>\n",
              "      <td>0</td>\n",
              "      <td>0</td>\n",
              "      <td>0</td>\n",
              "      <td>0</td>\n",
              "      <td>1</td>\n",
              "      <td>0</td>\n",
              "      <td>0</td>\n",
              "      <td>0</td>\n",
              "      <td>0</td>\n",
              "      <td>0</td>\n",
              "    </tr>\n",
              "    <tr>\n",
              "      <th>4</th>\n",
              "      <td>0.10</td>\n",
              "      <td>5.6</td>\n",
              "      <td>0.0</td>\n",
              "      <td>1.0</td>\n",
              "      <td>0.0</td>\n",
              "      <td>0.29</td>\n",
              "      <td>54.7</td>\n",
              "      <td>72.9</td>\n",
              "      <td>36.5</td>\n",
              "      <td>13.63</td>\n",
              "      <td>...</td>\n",
              "      <td>0</td>\n",
              "      <td>0</td>\n",
              "      <td>0</td>\n",
              "      <td>0</td>\n",
              "      <td>1</td>\n",
              "      <td>0</td>\n",
              "      <td>0</td>\n",
              "      <td>0</td>\n",
              "      <td>0</td>\n",
              "      <td>0</td>\n",
              "    </tr>\n",
              "  </tbody>\n",
              "</table>\n",
              "<p>5 rows × 30 columns</p>\n",
              "</div>\n",
              "      <button class=\"colab-df-convert\" onclick=\"convertToInteractive('df-a19a7765-c8cb-40d2-8ec3-05842b34389a')\"\n",
              "              title=\"Convert this dataframe to an interactive table.\"\n",
              "              style=\"display:none;\">\n",
              "        \n",
              "  <svg xmlns=\"http://www.w3.org/2000/svg\" height=\"24px\"viewBox=\"0 0 24 24\"\n",
              "       width=\"24px\">\n",
              "    <path d=\"M0 0h24v24H0V0z\" fill=\"none\"/>\n",
              "    <path d=\"M18.56 5.44l.94 2.06.94-2.06 2.06-.94-2.06-.94-.94-2.06-.94 2.06-2.06.94zm-11 1L8.5 8.5l.94-2.06 2.06-.94-2.06-.94L8.5 2.5l-.94 2.06-2.06.94zm10 10l.94 2.06.94-2.06 2.06-.94-2.06-.94-.94-2.06-.94 2.06-2.06.94z\"/><path d=\"M17.41 7.96l-1.37-1.37c-.4-.4-.92-.59-1.43-.59-.52 0-1.04.2-1.43.59L10.3 9.45l-7.72 7.72c-.78.78-.78 2.05 0 2.83L4 21.41c.39.39.9.59 1.41.59.51 0 1.02-.2 1.41-.59l7.78-7.78 2.81-2.81c.8-.78.8-2.07 0-2.86zM5.41 20L4 18.59l7.72-7.72 1.47 1.35L5.41 20z\"/>\n",
              "  </svg>\n",
              "      </button>\n",
              "      \n",
              "  <style>\n",
              "    .colab-df-container {\n",
              "      display:flex;\n",
              "      flex-wrap:wrap;\n",
              "      gap: 12px;\n",
              "    }\n",
              "\n",
              "    .colab-df-convert {\n",
              "      background-color: #E8F0FE;\n",
              "      border: none;\n",
              "      border-radius: 50%;\n",
              "      cursor: pointer;\n",
              "      display: none;\n",
              "      fill: #1967D2;\n",
              "      height: 32px;\n",
              "      padding: 0 0 0 0;\n",
              "      width: 32px;\n",
              "    }\n",
              "\n",
              "    .colab-df-convert:hover {\n",
              "      background-color: #E2EBFA;\n",
              "      box-shadow: 0px 1px 2px rgba(60, 64, 67, 0.3), 0px 1px 3px 1px rgba(60, 64, 67, 0.15);\n",
              "      fill: #174EA6;\n",
              "    }\n",
              "\n",
              "    [theme=dark] .colab-df-convert {\n",
              "      background-color: #3B4455;\n",
              "      fill: #D2E3FC;\n",
              "    }\n",
              "\n",
              "    [theme=dark] .colab-df-convert:hover {\n",
              "      background-color: #434B5C;\n",
              "      box-shadow: 0px 1px 3px 1px rgba(0, 0, 0, 0.15);\n",
              "      filter: drop-shadow(0px 1px 2px rgba(0, 0, 0, 0.3));\n",
              "      fill: #FFFFFF;\n",
              "    }\n",
              "  </style>\n",
              "\n",
              "      <script>\n",
              "        const buttonEl =\n",
              "          document.querySelector('#df-a19a7765-c8cb-40d2-8ec3-05842b34389a button.colab-df-convert');\n",
              "        buttonEl.style.display =\n",
              "          google.colab.kernel.accessAllowed ? 'block' : 'none';\n",
              "\n",
              "        async function convertToInteractive(key) {\n",
              "          const element = document.querySelector('#df-a19a7765-c8cb-40d2-8ec3-05842b34389a');\n",
              "          const dataTable =\n",
              "            await google.colab.kernel.invokeFunction('convertToInteractive',\n",
              "                                                     [key], {});\n",
              "          if (!dataTable) return;\n",
              "\n",
              "          const docLinkHtml = 'Like what you see? Visit the ' +\n",
              "            '<a target=\"_blank\" href=https://colab.research.google.com/notebooks/data_table.ipynb>data table notebook</a>'\n",
              "            + ' to learn more about interactive tables.';\n",
              "          element.innerHTML = '';\n",
              "          dataTable['output_type'] = 'display_data';\n",
              "          await google.colab.output.renderOutput(dataTable, element);\n",
              "          const docLink = document.createElement('div');\n",
              "          docLink.innerHTML = docLinkHtml;\n",
              "          element.appendChild(docLink);\n",
              "        }\n",
              "      </script>\n",
              "    </div>\n",
              "  </div>\n",
              "  "
            ]
          },
          "metadata": {},
          "execution_count": 389
        }
      ]
    },
    {
      "cell_type": "code",
      "source": [
        "#Write the clean, encoded, and randomly shuffled data to csv before continuing \n",
        "wildfire_set1.to_csv('wildfire1_regression_clean.csv')"
      ],
      "metadata": {
        "id": "K6UaNKNepeE-"
      },
      "execution_count": 390,
      "outputs": []
    },
    {
      "cell_type": "markdown",
      "source": [
        "Split the data into train-test sets"
      ],
      "metadata": {
        "id": "FemK64fS3i80"
      }
    },
    {
      "cell_type": "code",
      "source": [
        "#We will train our models using the larger dataset"
      ],
      "metadata": {
        "id": "0Vg-3iwdqZqp"
      },
      "execution_count": 391,
      "outputs": []
    },
    {
      "cell_type": "code",
      "source": [
        "import sklearn\n",
        "from sklearn import preprocessing\n",
        "from sklearn.model_selection import train_test_split, cross_val_score\n",
        "from sklearn.preprocessing import MinMaxScaler"
      ],
      "metadata": {
        "id": "kebkzKqcADoB"
      },
      "execution_count": 392,
      "outputs": []
    },
    {
      "cell_type": "code",
      "source": [
        "from sklearn.metrics import accuracy_score, confusion_matrix, precision_score, recall_score, f1_score, classification_report, ConfusionMatrixDisplay"
      ],
      "metadata": {
        "id": "17tarEVX4UxK"
      },
      "execution_count": 393,
      "outputs": []
    },
    {
      "cell_type": "markdown",
      "source": [
        "Utilize an 80-20 train test split on our large dataset"
      ],
      "metadata": {
        "id": "sygMrzT2S3ai"
      }
    },
    {
      "cell_type": "code",
      "source": [
        "train_data, test_data = train_test_split(wildfire_set1, test_size = 0.2, random_state = 1)"
      ],
      "metadata": {
        "id": "zUeoj5hASdCQ"
      },
      "execution_count": 394,
      "outputs": []
    },
    {
      "cell_type": "markdown",
      "source": [
        "Print the shape of training and testing datasets after the split to make sure we have done this correctly"
      ],
      "metadata": {
        "id": "UngO_p81S2QF"
      }
    },
    {
      "cell_type": "code",
      "source": [
        "print(train_data.shape)\n",
        "print(test_data.shape)"
      ],
      "metadata": {
        "colab": {
          "base_uri": "https://localhost:8080/"
        },
        "id": "wdRQAp2xSqsr",
        "outputId": "157ebc93-75ed-49bb-c1e8-17bd1735ced9"
      },
      "execution_count": 395,
      "outputs": [
        {
          "output_type": "stream",
          "name": "stdout",
          "text": [
            "(84819, 30)\n",
            "(21205, 30)\n"
          ]
        }
      ]
    },
    {
      "cell_type": "markdown",
      "source": [
        "# Feature Selection"
      ],
      "metadata": {
        "id": "W-hf1_xHYsQn"
      }
    },
    {
      "cell_type": "code",
      "source": [
        "from sklearn import linear_model"
      ],
      "metadata": {
        "id": "wpBTb4x06sHo"
      },
      "execution_count": 396,
      "outputs": []
    },
    {
      "cell_type": "code",
      "source": [
        "from sklearn.feature_selection import SelectKBest, f_regression"
      ],
      "metadata": {
        "id": "0UV_3N_a8Wrx"
      },
      "execution_count": 397,
      "outputs": []
    },
    {
      "cell_type": "code",
      "source": [
        "top_features_ordered = []"
      ],
      "metadata": {
        "id": "tZg5IEbo9ALv"
      },
      "execution_count": 398,
      "outputs": []
    },
    {
      "cell_type": "code",
      "source": [
        "train_target = train_data['AcresBurned']\n",
        "train_features = train_data.drop(columns = ['AcresBurned'])"
      ],
      "metadata": {
        "id": "miqd3g-N9Tmd"
      },
      "execution_count": 399,
      "outputs": []
    },
    {
      "cell_type": "code",
      "source": [
        "test_target = test_data['AcresBurned']\n",
        "test_features = test_data.drop(columns = ['AcresBurned'])"
      ],
      "metadata": {
        "id": "1fIcO6xhcqTW"
      },
      "execution_count": 400,
      "outputs": []
    },
    {
      "cell_type": "markdown",
      "source": [
        "Select the 6 best features using sklearn's SelectKBest (leads to lowest MAE)"
      ],
      "metadata": {
        "id": "_WqC2hHKZ8-s"
      }
    },
    {
      "cell_type": "code",
      "source": [
        "best_features = SelectKBest(f_regression, k=10)\n",
        "k_best_data = best_features.fit_transform(train_features, train_target)\n",
        "mask = best_features.get_support()\n",
        "new_features = train_features.columns[mask]\n",
        "for item in new_features:\n",
        "  if item not in top_features_ordered:\n",
        "    top_features_ordered.append(item)"
      ],
      "metadata": {
        "id": "gPXhEhYG9AzQ"
      },
      "execution_count": 401,
      "outputs": []
    },
    {
      "cell_type": "code",
      "source": [
        "count = 1\n",
        "for item in top_features_ordered:\n",
        "  print(count, '. ', item)\n",
        "  count += 1"
      ],
      "metadata": {
        "colab": {
          "base_uri": "https://localhost:8080/"
        },
        "id": "B9MYQL8NZSuY",
        "outputId": "af99e7ec-ea3a-417c-f70b-2c9c0ec3c467"
      },
      "execution_count": 402,
      "outputs": [
        {
          "output_type": "stream",
          "name": "stdout",
          "text": [
            "1 .  DP10\n",
            "2 .  PRCP\n",
            "3 .  TAVG\n",
            "4 .  TMIN\n",
            "5 .  PRCP_6M\n",
            "6 .  DX90_2M\n",
            "7 .  DP10_2M\n",
            "8 .  Elevation\n",
            "9 .  May\n",
            "10 .  Oct\n"
          ]
        }
      ]
    },
    {
      "cell_type": "markdown",
      "source": [
        "# Now we normalize the train and test sets independently. In the previous notebook, we found that the features PRCP_6M, TAVG, TMIN, DX90_2M, Jul, May, Oct help us produce the best model"
      ],
      "metadata": {
        "id": "9xX-YAX9Tv9z"
      }
    },
    {
      "cell_type": "code",
      "source": [
        "#train_data_selected_X = train_features[top_features_ordered] k = 6, lasso MAE= 148\n",
        "#train_data_selected_X = train_features[['PRCP_6M','TAVG','TMIN','DX90_2M','Elevation','Aug','May','Oct']] linear mae = 131\n",
        "#train_data_selected_X = train_features[['PRCP_6M','TAVG','TMIN','DX90_2M','Elevation','May','Oct','Apr']] #linear mae = 132 \n",
        "#train_data_selected_X = train_features[['PRCP_6M','TAVG','TMIN','DX90_2M','Elevation','May','Oct']] linear mae = 130\n",
        "#train_data_selected_X = train_features[['PRCP_6M', 'TMIN','DX90_2M','Elevation','Oct','May']] linear mae = 133\n",
        "#train_data_selected_X = train_features[['PRCP_6M','TAVG','TMIN','DX90_2M','Elevation','Jul','May','Oct']] linear mae = 130\n",
        "#train_data_selected_X = train_features[['PRCP_6M','TAVG','TMIN','DX90_2M','Apr','May','Oct']] #linear mae = 125\n",
        "\n",
        "train_data_selected_X = train_features[['PRCP_6M','TAVG','TMIN','DX90_2M','Jul','May','Oct']] #linear mae = 123\n",
        "\n",
        "train_data_y = train_target\n",
        "\n",
        "#test_data_selected_X = test_features[top_features_ordered]\n",
        "#test_data_selected_X = test_features[['PRCP_6M','TAVG','TMIN','DX90_2M','Elevation','Aug','May','Oct']]\n",
        "#test_data_selected_X = test_features[['PRCP_6M','TAVG','TMIN','DX90_2M','Elevation','May','Oct','Apr']]\n",
        "#test_data_selected_X = test_features[['PRCP_6M','TAVG','TMIN','DX90_2M','Elevation','May','Oct']]\n",
        "#test_data_selected_X = test_features[['PRCP_6M','TMIN','DX90_2M','Elevation','Oct','May']]\n",
        "#test_data_selected_X = test_features[['PRCP_6M','TAVG','TMIN','DX90_2M','Elevation','Jul','May','Oct']]\n",
        "#test_data_selected_X = test_features[['PRCP_6M','TAVG','TMIN','DX90_2M','Apr','May','Oct']]\n",
        "\n",
        "test_data_selected_X = test_features[['PRCP_6M','TAVG','TMIN','DX90_2M','Jul','May','Oct']]\n",
        "\n",
        "test_data_y = test_target\n",
        "\n",
        "\n",
        "#crucial features - PRCP_6M, May, Oct, TMIN, TAVG, DX90_2M, elevation\n",
        "#neutral - PRCP\n",
        "#less important\n",
        "#not important - Aug, Apr"
      ],
      "metadata": {
        "id": "nXtXfA7naVPi"
      },
      "execution_count": 403,
      "outputs": []
    },
    {
      "cell_type": "code",
      "source": [
        "print('Train Features:')\n",
        "print('train_data_X dimensions: ', train_data_selected_X.shape)\n",
        "print('train_data_y dimensions:', train_data_y.shape, '\\n')\n",
        "\n",
        "print('Test Features:')\n",
        "print('test_data_X dimensions: ', test_data_selected_X.shape)\n",
        "print('test_data_y dimensions:', test_data_y.shape, '\\n')"
      ],
      "metadata": {
        "colab": {
          "base_uri": "https://localhost:8080/"
        },
        "id": "upFDwdf7dAzx",
        "outputId": "51a875b7-b529-4469-c493-0c3db4bf547b"
      },
      "execution_count": 404,
      "outputs": [
        {
          "output_type": "stream",
          "name": "stdout",
          "text": [
            "Train Features:\n",
            "train_data_X dimensions:  (84819, 7)\n",
            "train_data_y dimensions: (84819,) \n",
            "\n",
            "Test Features:\n",
            "test_data_X dimensions:  (21205, 7)\n",
            "test_data_y dimensions: (21205,) \n",
            "\n"
          ]
        }
      ]
    },
    {
      "cell_type": "markdown",
      "source": [
        "Normalize data using min-max-scalar (every feature will normalized so that range of values is 0-1) after splitting into train and test"
      ],
      "metadata": {
        "id": "w30t2GCT4t5I"
      }
    },
    {
      "cell_type": "code",
      "source": [
        "from sklearn.preprocessing import MinMaxScaler"
      ],
      "metadata": {
        "id": "LWYj2qjShnW1"
      },
      "execution_count": 405,
      "outputs": []
    },
    {
      "cell_type": "code",
      "source": [
        "#utilize minmax scaler normalization\n",
        "scaler = MinMaxScaler()\n",
        "\n",
        "#Normalize the train, validate, and test independently after splitting\n",
        "train_data_X = scaler.fit_transform(train_data_selected_X)\n",
        "#train_target = scaler(train_target)\n",
        "\n",
        "test_data_X = scaler.fit_transform(test_data_selected_X)\n",
        "#train_target = scaler(test_target)"
      ],
      "metadata": {
        "id": "VuekoRIn3GFO"
      },
      "execution_count": 406,
      "outputs": []
    },
    {
      "cell_type": "markdown",
      "source": [
        "# Fit the model using our normalized features to predict Acres Burned"
      ],
      "metadata": {
        "id": "IO_p5lpDiuVN"
      }
    },
    {
      "cell_type": "code",
      "source": [
        "multivariate_regression = linear_model.LinearRegression()\n",
        "multivariate_regression.fit(train_data_X, train_data_y)"
      ],
      "metadata": {
        "colab": {
          "base_uri": "https://localhost:8080/"
        },
        "id": "8z_ayADv6tIv",
        "outputId": "24c92a38-7133-43b6-985a-aed863f229ca"
      },
      "execution_count": 407,
      "outputs": [
        {
          "output_type": "execute_result",
          "data": {
            "text/plain": [
              "LinearRegression()"
            ]
          },
          "metadata": {},
          "execution_count": 407
        }
      ]
    },
    {
      "cell_type": "markdown",
      "source": [
        "Model coefficients: (Beta's)"
      ],
      "metadata": {
        "id": "KQz2mYP0i1my"
      }
    },
    {
      "cell_type": "code",
      "source": [
        "multivariate_regression.coef_"
      ],
      "metadata": {
        "colab": {
          "base_uri": "https://localhost:8080/"
        },
        "id": "36liNGgHiEt5",
        "outputId": "4dcf881e-3441-4201-a309-f9467ecac7af"
      },
      "execution_count": 408,
      "outputs": [
        {
          "output_type": "execute_result",
          "data": {
            "text/plain": [
              "array([-148.539494  , -205.46045123,  456.50830964,  -13.6892896 ,\n",
              "         10.33495093,  -51.04024601,  118.18250191])"
            ]
          },
          "metadata": {},
          "execution_count": 408
        }
      ]
    },
    {
      "cell_type": "markdown",
      "source": [
        "Model intercept:"
      ],
      "metadata": {
        "id": "zDZd8K4Ni4Fi"
      }
    },
    {
      "cell_type": "code",
      "source": [
        "multivariate_regression.intercept_"
      ],
      "metadata": {
        "colab": {
          "base_uri": "https://localhost:8080/"
        },
        "id": "5rKTJkShirml",
        "outputId": "6c8e55ac-a67e-42fc-b501-c3ab75bdd4e9"
      },
      "execution_count": 409,
      "outputs": [
        {
          "output_type": "execute_result",
          "data": {
            "text/plain": [
              "-49.49346612388253"
            ]
          },
          "metadata": {},
          "execution_count": 409
        }
      ]
    },
    {
      "cell_type": "code",
      "source": [
        "from sklearn import metrics\n",
        "import numpy as np"
      ],
      "metadata": {
        "id": "MW4vchlLhkrQ"
      },
      "execution_count": 410,
      "outputs": []
    },
    {
      "cell_type": "code",
      "source": [
        "y_pred_linear = multivariate_regression.predict(test_data_X)"
      ],
      "metadata": {
        "id": "Qx-qkNuRgB5n"
      },
      "execution_count": 411,
      "outputs": []
    },
    {
      "cell_type": "code",
      "source": [
        "print('Mean Squared Error: ', metrics.mean_squared_error(test_data_y, y_pred_linear), '\\n')\n",
        "print('Mean Absolute Error: ', metrics.mean_absolute_error(test_data_y, y_pred_linear), '\\n')\n",
        "print('Root Mean Squared Error: ', np.sqrt(metrics.mean_squared_error(test_data_y, y_pred_linear)))"
      ],
      "metadata": {
        "colab": {
          "base_uri": "https://localhost:8080/"
        },
        "id": "3jr-UBVgjEfc",
        "outputId": "11ff5c70-1740-45ff-b63f-55f5aef18c9f"
      },
      "execution_count": 412,
      "outputs": [
        {
          "output_type": "stream",
          "name": "stdout",
          "text": [
            "Mean Squared Error:  1741618.5339609734 \n",
            "\n",
            "Mean Absolute Error:  123.71031243185534 \n",
            "\n",
            "Root Mean Squared Error:  1319.7039569391968\n"
          ]
        }
      ]
    },
    {
      "cell_type": "markdown",
      "source": [
        "Now use GridSearchCV to find best values of alpha for Ridge and Lasso Regressions"
      ],
      "metadata": {
        "id": "Ri4XAvOnb5Ya"
      }
    },
    {
      "cell_type": "markdown",
      "source": [
        "# Ridge Regression:"
      ],
      "metadata": {
        "id": "YNXDV0GbeyNx"
      }
    },
    {
      "cell_type": "code",
      "source": [
        "from sklearn.linear_model import Ridge\n",
        "from sklearn.model_selection import GridSearchCV"
      ],
      "metadata": {
        "id": "ncVKQPH0cEqC"
      },
      "execution_count": 413,
      "outputs": []
    },
    {
      "cell_type": "code",
      "source": [
        "#use gridsearchCV with alpha values 0-12 to find the alpha that produces the best model\n",
        "\n",
        "ridge_search = GridSearchCV(Ridge(), {\n",
        "    'alpha': [0.025,0.05,0.075,0.1,0.25,0.5,0.75,1,1.25,1.5,1.75,2,2.25,2.5,2.75,3\n",
        "              ,3.25,3.5,3.75,4,4.25,4.5,4.75,5,5.25,5.5,5.75,6,6.25,6.5,6.75,7,\n",
        "              7.25,7.5,7.75,8,8.25,8.5,8.75,9,9.25,9.5,9.75,10,10.25,10.5, 10.75, 11, \n",
        "              11.25, 11.5, 11.75, 12]\n",
        "}, cv = 5, scoring = 'neg_mean_absolute_error', return_train_score = False)\n",
        "ridge_search.fit(train_data_X, train_data_y)\n",
        "pd.DataFrame(ridge_search.cv_results_)[['param_alpha', 'params', 'mean_test_score','rank_test_score']].sort_values(by = ['rank_test_score'])[0:5]"
      ],
      "metadata": {
        "colab": {
          "base_uri": "https://localhost:8080/",
          "height": 206
        },
        "id": "v4Y1yY3qdNYh",
        "outputId": "3f7be3c4-a010-491a-8154-ca719bfb8670"
      },
      "execution_count": 414,
      "outputs": [
        {
          "output_type": "execute_result",
          "data": {
            "text/plain": [
              "   param_alpha            params  mean_test_score  rank_test_score\n",
              "51          12     {'alpha': 12}      -161.728186                1\n",
              "50       11.75  {'alpha': 11.75}      -161.729949                2\n",
              "49        11.5   {'alpha': 11.5}      -161.731725                3\n",
              "48       11.25  {'alpha': 11.25}      -161.733511                4\n",
              "47          11     {'alpha': 11}      -161.735309                5"
            ],
            "text/html": [
              "\n",
              "  <div id=\"df-7b8f87d2-f0d0-4052-8be9-05861e8b31d1\">\n",
              "    <div class=\"colab-df-container\">\n",
              "      <div>\n",
              "<style scoped>\n",
              "    .dataframe tbody tr th:only-of-type {\n",
              "        vertical-align: middle;\n",
              "    }\n",
              "\n",
              "    .dataframe tbody tr th {\n",
              "        vertical-align: top;\n",
              "    }\n",
              "\n",
              "    .dataframe thead th {\n",
              "        text-align: right;\n",
              "    }\n",
              "</style>\n",
              "<table border=\"1\" class=\"dataframe\">\n",
              "  <thead>\n",
              "    <tr style=\"text-align: right;\">\n",
              "      <th></th>\n",
              "      <th>param_alpha</th>\n",
              "      <th>params</th>\n",
              "      <th>mean_test_score</th>\n",
              "      <th>rank_test_score</th>\n",
              "    </tr>\n",
              "  </thead>\n",
              "  <tbody>\n",
              "    <tr>\n",
              "      <th>51</th>\n",
              "      <td>12</td>\n",
              "      <td>{'alpha': 12}</td>\n",
              "      <td>-161.728186</td>\n",
              "      <td>1</td>\n",
              "    </tr>\n",
              "    <tr>\n",
              "      <th>50</th>\n",
              "      <td>11.75</td>\n",
              "      <td>{'alpha': 11.75}</td>\n",
              "      <td>-161.729949</td>\n",
              "      <td>2</td>\n",
              "    </tr>\n",
              "    <tr>\n",
              "      <th>49</th>\n",
              "      <td>11.5</td>\n",
              "      <td>{'alpha': 11.5}</td>\n",
              "      <td>-161.731725</td>\n",
              "      <td>3</td>\n",
              "    </tr>\n",
              "    <tr>\n",
              "      <th>48</th>\n",
              "      <td>11.25</td>\n",
              "      <td>{'alpha': 11.25}</td>\n",
              "      <td>-161.733511</td>\n",
              "      <td>4</td>\n",
              "    </tr>\n",
              "    <tr>\n",
              "      <th>47</th>\n",
              "      <td>11</td>\n",
              "      <td>{'alpha': 11}</td>\n",
              "      <td>-161.735309</td>\n",
              "      <td>5</td>\n",
              "    </tr>\n",
              "  </tbody>\n",
              "</table>\n",
              "</div>\n",
              "      <button class=\"colab-df-convert\" onclick=\"convertToInteractive('df-7b8f87d2-f0d0-4052-8be9-05861e8b31d1')\"\n",
              "              title=\"Convert this dataframe to an interactive table.\"\n",
              "              style=\"display:none;\">\n",
              "        \n",
              "  <svg xmlns=\"http://www.w3.org/2000/svg\" height=\"24px\"viewBox=\"0 0 24 24\"\n",
              "       width=\"24px\">\n",
              "    <path d=\"M0 0h24v24H0V0z\" fill=\"none\"/>\n",
              "    <path d=\"M18.56 5.44l.94 2.06.94-2.06 2.06-.94-2.06-.94-.94-2.06-.94 2.06-2.06.94zm-11 1L8.5 8.5l.94-2.06 2.06-.94-2.06-.94L8.5 2.5l-.94 2.06-2.06.94zm10 10l.94 2.06.94-2.06 2.06-.94-2.06-.94-.94-2.06-.94 2.06-2.06.94z\"/><path d=\"M17.41 7.96l-1.37-1.37c-.4-.4-.92-.59-1.43-.59-.52 0-1.04.2-1.43.59L10.3 9.45l-7.72 7.72c-.78.78-.78 2.05 0 2.83L4 21.41c.39.39.9.59 1.41.59.51 0 1.02-.2 1.41-.59l7.78-7.78 2.81-2.81c.8-.78.8-2.07 0-2.86zM5.41 20L4 18.59l7.72-7.72 1.47 1.35L5.41 20z\"/>\n",
              "  </svg>\n",
              "      </button>\n",
              "      \n",
              "  <style>\n",
              "    .colab-df-container {\n",
              "      display:flex;\n",
              "      flex-wrap:wrap;\n",
              "      gap: 12px;\n",
              "    }\n",
              "\n",
              "    .colab-df-convert {\n",
              "      background-color: #E8F0FE;\n",
              "      border: none;\n",
              "      border-radius: 50%;\n",
              "      cursor: pointer;\n",
              "      display: none;\n",
              "      fill: #1967D2;\n",
              "      height: 32px;\n",
              "      padding: 0 0 0 0;\n",
              "      width: 32px;\n",
              "    }\n",
              "\n",
              "    .colab-df-convert:hover {\n",
              "      background-color: #E2EBFA;\n",
              "      box-shadow: 0px 1px 2px rgba(60, 64, 67, 0.3), 0px 1px 3px 1px rgba(60, 64, 67, 0.15);\n",
              "      fill: #174EA6;\n",
              "    }\n",
              "\n",
              "    [theme=dark] .colab-df-convert {\n",
              "      background-color: #3B4455;\n",
              "      fill: #D2E3FC;\n",
              "    }\n",
              "\n",
              "    [theme=dark] .colab-df-convert:hover {\n",
              "      background-color: #434B5C;\n",
              "      box-shadow: 0px 1px 3px 1px rgba(0, 0, 0, 0.15);\n",
              "      filter: drop-shadow(0px 1px 2px rgba(0, 0, 0, 0.3));\n",
              "      fill: #FFFFFF;\n",
              "    }\n",
              "  </style>\n",
              "\n",
              "      <script>\n",
              "        const buttonEl =\n",
              "          document.querySelector('#df-7b8f87d2-f0d0-4052-8be9-05861e8b31d1 button.colab-df-convert');\n",
              "        buttonEl.style.display =\n",
              "          google.colab.kernel.accessAllowed ? 'block' : 'none';\n",
              "\n",
              "        async function convertToInteractive(key) {\n",
              "          const element = document.querySelector('#df-7b8f87d2-f0d0-4052-8be9-05861e8b31d1');\n",
              "          const dataTable =\n",
              "            await google.colab.kernel.invokeFunction('convertToInteractive',\n",
              "                                                     [key], {});\n",
              "          if (!dataTable) return;\n",
              "\n",
              "          const docLinkHtml = 'Like what you see? Visit the ' +\n",
              "            '<a target=\"_blank\" href=https://colab.research.google.com/notebooks/data_table.ipynb>data table notebook</a>'\n",
              "            + ' to learn more about interactive tables.';\n",
              "          element.innerHTML = '';\n",
              "          dataTable['output_type'] = 'display_data';\n",
              "          await google.colab.output.renderOutput(dataTable, element);\n",
              "          const docLink = document.createElement('div');\n",
              "          docLink.innerHTML = docLinkHtml;\n",
              "          element.appendChild(docLink);\n",
              "        }\n",
              "      </script>\n",
              "    </div>\n",
              "  </div>\n",
              "  "
            ]
          },
          "metadata": {},
          "execution_count": 414
        }
      ]
    },
    {
      "cell_type": "code",
      "source": [
        "ridge_search.best_params_"
      ],
      "metadata": {
        "colab": {
          "base_uri": "https://localhost:8080/"
        },
        "id": "BoHddD1Rf-Ht",
        "outputId": "25aadfcc-6dd0-4b0f-d265-fd5b2fc80bcc"
      },
      "execution_count": 415,
      "outputs": [
        {
          "output_type": "execute_result",
          "data": {
            "text/plain": [
              "{'alpha': 12}"
            ]
          },
          "metadata": {},
          "execution_count": 415
        }
      ]
    },
    {
      "cell_type": "markdown",
      "source": [
        "# Reproduce the tuned ridge regression and get the other evaluation metrics such as MSE and RMSE"
      ],
      "metadata": {
        "id": "kkVKxz7QjQ6k"
      }
    },
    {
      "cell_type": "code",
      "source": [
        "ridge_regression = Ridge(alpha = 12)\n",
        "ridge_regression.fit(train_data_X, train_data_y)"
      ],
      "metadata": {
        "colab": {
          "base_uri": "https://localhost:8080/"
        },
        "id": "2DSi0nNncgQ5",
        "outputId": "34d34970-81bc-47bb-e0ef-4223e26e3ffa"
      },
      "execution_count": 416,
      "outputs": [
        {
          "output_type": "execute_result",
          "data": {
            "text/plain": [
              "Ridge(alpha=12)"
            ]
          },
          "metadata": {},
          "execution_count": 416
        }
      ]
    },
    {
      "cell_type": "code",
      "source": [
        "ridge_regression.coef_"
      ],
      "metadata": {
        "colab": {
          "base_uri": "https://localhost:8080/"
        },
        "id": "a9oJy6MicieQ",
        "outputId": "adb16032-df2c-4c1d-d0f9-67e4cdf7441d"
      },
      "execution_count": 417,
      "outputs": [
        {
          "output_type": "execute_result",
          "data": {
            "text/plain": [
              "array([-140.58102285, -150.73132995,  396.02387446,  -15.70587457,\n",
              "         10.22890432,  -51.67707316,  119.18172407])"
            ]
          },
          "metadata": {},
          "execution_count": 417
        }
      ]
    },
    {
      "cell_type": "code",
      "source": [
        "ridge_regression.intercept_"
      ],
      "metadata": {
        "colab": {
          "base_uri": "https://localhost:8080/"
        },
        "id": "ypGf5XIOciiA",
        "outputId": "9a788e35-7f41-48c2-eb34-9f7ead78deea"
      },
      "execution_count": 418,
      "outputs": [
        {
          "output_type": "execute_result",
          "data": {
            "text/plain": [
              "-47.03662518515797"
            ]
          },
          "metadata": {},
          "execution_count": 418
        }
      ]
    },
    {
      "cell_type": "code",
      "source": [
        "y_pred_ridge = ridge_regression.predict(test_data_X)"
      ],
      "metadata": {
        "id": "oehyzBYhcilx"
      },
      "execution_count": 419,
      "outputs": []
    },
    {
      "cell_type": "markdown",
      "source": [
        "# MAE for Ridge Regression is slightly lower"
      ],
      "metadata": {
        "id": "PHmaV7Wrdivq"
      }
    },
    {
      "cell_type": "code",
      "source": [
        "print('Mean Squared Error: ', metrics.mean_squared_error(test_data_y, y_pred_ridge), '\\n')\n",
        "print('Mean Absolute Error: ', metrics.mean_absolute_error(test_data_y, y_pred_ridge), '\\n')\n",
        "print('Root Mean Squared Error: ', np.sqrt(metrics.mean_squared_error(test_data_y, y_pred_ridge)))"
      ],
      "metadata": {
        "colab": {
          "base_uri": "https://localhost:8080/"
        },
        "id": "R0Px32dqdOBs",
        "outputId": "fb42c58a-b13a-463b-ebb4-8a9264906913"
      },
      "execution_count": 420,
      "outputs": [
        {
          "output_type": "stream",
          "name": "stdout",
          "text": [
            "Mean Squared Error:  1741648.8914379447 \n",
            "\n",
            "Mean Absolute Error:  124.34611173831203 \n",
            "\n",
            "Root Mean Squared Error:  1319.7154585129117\n"
          ]
        }
      ]
    },
    {
      "cell_type": "markdown",
      "source": [
        "# Lasso Regression:"
      ],
      "metadata": {
        "id": "l5aByEUHe5iY"
      }
    },
    {
      "cell_type": "code",
      "source": [
        "from sklearn.linear_model import Lasso"
      ],
      "metadata": {
        "id": "XyTYNSOse2ZD"
      },
      "execution_count": 421,
      "outputs": []
    },
    {
      "cell_type": "code",
      "source": [
        "lasso_search = GridSearchCV(Lasso(), {\n",
        "    'alpha': [0.025,0.05, 0.075,0.1, 0.125,0.15,0.2, 0.25,0.5,0.75,1.0,1.25,1.5,1.75,2.0, 2.25,2.5,2.75,\n",
        "              3.0,3.25,3.5,3.75,4,4.25,4.5,4.75,5,5.25,5.5,5.75,6,6.25,6.5,\n",
        "              6.75,7,7.25,7.5,7.75,8,8.25, 8.5, 8.75, 9, 9.25, 9.5, 9.75, 10, 10.25, 10.5, 10.75, 11, \n",
        "              11.25, 11.5, 11.75, 12, 12.25, 12.5, 12.75, 13]\n",
        "}, cv = 5, scoring = 'neg_mean_absolute_error', return_train_score = False)\n",
        "lasso_search.fit(train_data_X, train_data_y)\n",
        "pd.DataFrame(lasso_search.cv_results_)[['param_alpha', 'params', 'mean_test_score','rank_test_score']].sort_values(by = ['rank_test_score'])[0:5]"
      ],
      "metadata": {
        "colab": {
          "base_uri": "https://localhost:8080/",
          "height": 206
        },
        "id": "P4lPGhU5doGI",
        "outputId": "75a0634f-9100-413b-8e0f-4c3bad25ff2f"
      },
      "execution_count": 422,
      "outputs": [
        {
          "output_type": "execute_result",
          "data": {
            "text/plain": [
              "   param_alpha            params  mean_test_score  rank_test_score\n",
              "58          13     {'alpha': 13}      -160.649931                1\n",
              "56        12.5   {'alpha': 12.5}      -160.649931                1\n",
              "55       12.25  {'alpha': 12.25}      -160.649931                1\n",
              "54          12     {'alpha': 12}      -160.649931                1\n",
              "53       11.75  {'alpha': 11.75}      -160.649931                1"
            ],
            "text/html": [
              "\n",
              "  <div id=\"df-ca6ad172-ac2e-4064-9c93-0be4c75bbfb0\">\n",
              "    <div class=\"colab-df-container\">\n",
              "      <div>\n",
              "<style scoped>\n",
              "    .dataframe tbody tr th:only-of-type {\n",
              "        vertical-align: middle;\n",
              "    }\n",
              "\n",
              "    .dataframe tbody tr th {\n",
              "        vertical-align: top;\n",
              "    }\n",
              "\n",
              "    .dataframe thead th {\n",
              "        text-align: right;\n",
              "    }\n",
              "</style>\n",
              "<table border=\"1\" class=\"dataframe\">\n",
              "  <thead>\n",
              "    <tr style=\"text-align: right;\">\n",
              "      <th></th>\n",
              "      <th>param_alpha</th>\n",
              "      <th>params</th>\n",
              "      <th>mean_test_score</th>\n",
              "      <th>rank_test_score</th>\n",
              "    </tr>\n",
              "  </thead>\n",
              "  <tbody>\n",
              "    <tr>\n",
              "      <th>58</th>\n",
              "      <td>13</td>\n",
              "      <td>{'alpha': 13}</td>\n",
              "      <td>-160.649931</td>\n",
              "      <td>1</td>\n",
              "    </tr>\n",
              "    <tr>\n",
              "      <th>56</th>\n",
              "      <td>12.5</td>\n",
              "      <td>{'alpha': 12.5}</td>\n",
              "      <td>-160.649931</td>\n",
              "      <td>1</td>\n",
              "    </tr>\n",
              "    <tr>\n",
              "      <th>55</th>\n",
              "      <td>12.25</td>\n",
              "      <td>{'alpha': 12.25}</td>\n",
              "      <td>-160.649931</td>\n",
              "      <td>1</td>\n",
              "    </tr>\n",
              "    <tr>\n",
              "      <th>54</th>\n",
              "      <td>12</td>\n",
              "      <td>{'alpha': 12}</td>\n",
              "      <td>-160.649931</td>\n",
              "      <td>1</td>\n",
              "    </tr>\n",
              "    <tr>\n",
              "      <th>53</th>\n",
              "      <td>11.75</td>\n",
              "      <td>{'alpha': 11.75}</td>\n",
              "      <td>-160.649931</td>\n",
              "      <td>1</td>\n",
              "    </tr>\n",
              "  </tbody>\n",
              "</table>\n",
              "</div>\n",
              "      <button class=\"colab-df-convert\" onclick=\"convertToInteractive('df-ca6ad172-ac2e-4064-9c93-0be4c75bbfb0')\"\n",
              "              title=\"Convert this dataframe to an interactive table.\"\n",
              "              style=\"display:none;\">\n",
              "        \n",
              "  <svg xmlns=\"http://www.w3.org/2000/svg\" height=\"24px\"viewBox=\"0 0 24 24\"\n",
              "       width=\"24px\">\n",
              "    <path d=\"M0 0h24v24H0V0z\" fill=\"none\"/>\n",
              "    <path d=\"M18.56 5.44l.94 2.06.94-2.06 2.06-.94-2.06-.94-.94-2.06-.94 2.06-2.06.94zm-11 1L8.5 8.5l.94-2.06 2.06-.94-2.06-.94L8.5 2.5l-.94 2.06-2.06.94zm10 10l.94 2.06.94-2.06 2.06-.94-2.06-.94-.94-2.06-.94 2.06-2.06.94z\"/><path d=\"M17.41 7.96l-1.37-1.37c-.4-.4-.92-.59-1.43-.59-.52 0-1.04.2-1.43.59L10.3 9.45l-7.72 7.72c-.78.78-.78 2.05 0 2.83L4 21.41c.39.39.9.59 1.41.59.51 0 1.02-.2 1.41-.59l7.78-7.78 2.81-2.81c.8-.78.8-2.07 0-2.86zM5.41 20L4 18.59l7.72-7.72 1.47 1.35L5.41 20z\"/>\n",
              "  </svg>\n",
              "      </button>\n",
              "      \n",
              "  <style>\n",
              "    .colab-df-container {\n",
              "      display:flex;\n",
              "      flex-wrap:wrap;\n",
              "      gap: 12px;\n",
              "    }\n",
              "\n",
              "    .colab-df-convert {\n",
              "      background-color: #E8F0FE;\n",
              "      border: none;\n",
              "      border-radius: 50%;\n",
              "      cursor: pointer;\n",
              "      display: none;\n",
              "      fill: #1967D2;\n",
              "      height: 32px;\n",
              "      padding: 0 0 0 0;\n",
              "      width: 32px;\n",
              "    }\n",
              "\n",
              "    .colab-df-convert:hover {\n",
              "      background-color: #E2EBFA;\n",
              "      box-shadow: 0px 1px 2px rgba(60, 64, 67, 0.3), 0px 1px 3px 1px rgba(60, 64, 67, 0.15);\n",
              "      fill: #174EA6;\n",
              "    }\n",
              "\n",
              "    [theme=dark] .colab-df-convert {\n",
              "      background-color: #3B4455;\n",
              "      fill: #D2E3FC;\n",
              "    }\n",
              "\n",
              "    [theme=dark] .colab-df-convert:hover {\n",
              "      background-color: #434B5C;\n",
              "      box-shadow: 0px 1px 3px 1px rgba(0, 0, 0, 0.15);\n",
              "      filter: drop-shadow(0px 1px 2px rgba(0, 0, 0, 0.3));\n",
              "      fill: #FFFFFF;\n",
              "    }\n",
              "  </style>\n",
              "\n",
              "      <script>\n",
              "        const buttonEl =\n",
              "          document.querySelector('#df-ca6ad172-ac2e-4064-9c93-0be4c75bbfb0 button.colab-df-convert');\n",
              "        buttonEl.style.display =\n",
              "          google.colab.kernel.accessAllowed ? 'block' : 'none';\n",
              "\n",
              "        async function convertToInteractive(key) {\n",
              "          const element = document.querySelector('#df-ca6ad172-ac2e-4064-9c93-0be4c75bbfb0');\n",
              "          const dataTable =\n",
              "            await google.colab.kernel.invokeFunction('convertToInteractive',\n",
              "                                                     [key], {});\n",
              "          if (!dataTable) return;\n",
              "\n",
              "          const docLinkHtml = 'Like what you see? Visit the ' +\n",
              "            '<a target=\"_blank\" href=https://colab.research.google.com/notebooks/data_table.ipynb>data table notebook</a>'\n",
              "            + ' to learn more about interactive tables.';\n",
              "          element.innerHTML = '';\n",
              "          dataTable['output_type'] = 'display_data';\n",
              "          await google.colab.output.renderOutput(dataTable, element);\n",
              "          const docLink = document.createElement('div');\n",
              "          docLink.innerHTML = docLinkHtml;\n",
              "          element.appendChild(docLink);\n",
              "        }\n",
              "      </script>\n",
              "    </div>\n",
              "  </div>\n",
              "  "
            ]
          },
          "metadata": {},
          "execution_count": 422
        }
      ]
    },
    {
      "cell_type": "code",
      "source": [
        "lasso_search.best_params_"
      ],
      "metadata": {
        "colab": {
          "base_uri": "https://localhost:8080/"
        },
        "id": "SL0Iac1nmozI",
        "outputId": "5c103a3e-0a0c-4a33-ef9a-10f1130a0b3a"
      },
      "execution_count": 425,
      "outputs": [
        {
          "output_type": "execute_result",
          "data": {
            "text/plain": [
              "{'alpha': 10.25}"
            ]
          },
          "metadata": {},
          "execution_count": 425
        }
      ]
    },
    {
      "cell_type": "code",
      "source": [
        "#building the optimal lasso model with alpha = 10.25\n",
        "lasso_regression = Lasso(alpha = 10.25)\n",
        "lasso_regression.fit(train_data_X, train_data_y)"
      ],
      "metadata": {
        "colab": {
          "base_uri": "https://localhost:8080/"
        },
        "id": "1QBdMsC2cipE",
        "outputId": "6b804403-9d7a-4109-de57-4574f5f41c67"
      },
      "execution_count": 426,
      "outputs": [
        {
          "output_type": "execute_result",
          "data": {
            "text/plain": [
              "Lasso(alpha=10.25)"
            ]
          },
          "metadata": {},
          "execution_count": 426
        }
      ]
    },
    {
      "cell_type": "code",
      "source": [
        "lasso_regression.coef_"
      ],
      "metadata": {
        "colab": {
          "base_uri": "https://localhost:8080/"
        },
        "id": "8WHSlU7aeV9N",
        "outputId": "2aafe80b-c313-4015-9452-a606b9b3be5c"
      },
      "execution_count": 427,
      "outputs": [
        {
          "output_type": "execute_result",
          "data": {
            "text/plain": [
              "array([-0.,  0.,  0.,  0.,  0., -0.,  0.])"
            ]
          },
          "metadata": {},
          "execution_count": 427
        }
      ]
    },
    {
      "cell_type": "code",
      "source": [
        "lasso_regression.intercept_"
      ],
      "metadata": {
        "colab": {
          "base_uri": "https://localhost:8080/"
        },
        "id": "H9-ZSIrveYgU",
        "outputId": "08b41e01-a284-455a-c0e7-0b5f17e75225"
      },
      "execution_count": 428,
      "outputs": [
        {
          "output_type": "execute_result",
          "data": {
            "text/plain": [
              "84.30695919546328"
            ]
          },
          "metadata": {},
          "execution_count": 428
        }
      ]
    },
    {
      "cell_type": "code",
      "source": [
        "y_pred_lasso = lasso_regression.predict(test_data_X)"
      ],
      "metadata": {
        "id": "l1zjk2tvebet"
      },
      "execution_count": 429,
      "outputs": []
    },
    {
      "cell_type": "code",
      "source": [
        "print('Mean Squared Error: ', metrics.mean_squared_error(test_data_y, y_pred_lasso), '\\n')\n",
        "print('Mean Absolute Error: ', metrics.mean_absolute_error(test_data_y, y_pred_lasso), '\\n')\n",
        "print('Root Mean Squared Error: ', np.sqrt(metrics.mean_squared_error(test_data_y, y_pred_lasso)))"
      ],
      "metadata": {
        "colab": {
          "base_uri": "https://localhost:8080/"
        },
        "id": "6h20f_SlelpE",
        "outputId": "52f211c4-2512-47e7-ab34-96bdde19eda2"
      },
      "execution_count": 430,
      "outputs": [
        {
          "output_type": "stream",
          "name": "stdout",
          "text": [
            "Mean Squared Error:  1740940.1333282352 \n",
            "\n",
            "Mean Absolute Error:  135.81701024175982 \n",
            "\n",
            "Root Mean Squared Error:  1319.4469043232605\n"
          ]
        }
      ]
    },
    {
      "cell_type": "markdown",
      "source": [
        "# Decision Tree Regressor"
      ],
      "metadata": {
        "id": "9R3omsz1zMDE"
      }
    },
    {
      "cell_type": "code",
      "source": [
        "from sklearn.tree import DecisionTreeRegressor"
      ],
      "metadata": {
        "id": "F3XX6q6_zOPn"
      },
      "execution_count": 431,
      "outputs": []
    },
    {
      "cell_type": "code",
      "source": [
        "decisiontree_search = GridSearchCV(DecisionTreeRegressor(), {\n",
        "    'max_depth': [1,2,3,4,5],\n",
        "    'max_features': [None,'sqrt','auto','log2']\n",
        "}, cv = 5, scoring = 'neg_mean_absolute_error', return_train_score = False)\n",
        "decisiontree_search.fit(train_data_X, train_data_y)\n",
        "pd.DataFrame(decisiontree_search.cv_results_)[['param_max_depth','param_max_features', 'params', 'mean_test_score','rank_test_score']].sort_values(by = ['rank_test_score'])[0:5]"
      ],
      "metadata": {
        "id": "TspTb1RizkyU",
        "colab": {
          "base_uri": "https://localhost:8080/",
          "height": 206
        },
        "outputId": "27d0c8e7-7a58-4e96-8db2-a9999b33d25f"
      },
      "execution_count": 432,
      "outputs": [
        {
          "output_type": "execute_result",
          "data": {
            "text/plain": [
              "   param_max_depth param_max_features  \\\n",
              "15               4               log2   \n",
              "19               5               log2   \n",
              "17               5               sqrt   \n",
              "4                2               None   \n",
              "6                2               auto   \n",
              "\n",
              "                                      params  mean_test_score  rank_test_score  \n",
              "15  {'max_depth': 4, 'max_features': 'log2'}      -159.168214                1  \n",
              "19  {'max_depth': 5, 'max_features': 'log2'}      -159.446159                2  \n",
              "17  {'max_depth': 5, 'max_features': 'sqrt'}      -160.261242                3  \n",
              "4     {'max_depth': 2, 'max_features': None}      -160.493808                4  \n",
              "6   {'max_depth': 2, 'max_features': 'auto'}      -160.493808                5  "
            ],
            "text/html": [
              "\n",
              "  <div id=\"df-789f1a85-6c4e-469e-b5c2-eef23579a627\">\n",
              "    <div class=\"colab-df-container\">\n",
              "      <div>\n",
              "<style scoped>\n",
              "    .dataframe tbody tr th:only-of-type {\n",
              "        vertical-align: middle;\n",
              "    }\n",
              "\n",
              "    .dataframe tbody tr th {\n",
              "        vertical-align: top;\n",
              "    }\n",
              "\n",
              "    .dataframe thead th {\n",
              "        text-align: right;\n",
              "    }\n",
              "</style>\n",
              "<table border=\"1\" class=\"dataframe\">\n",
              "  <thead>\n",
              "    <tr style=\"text-align: right;\">\n",
              "      <th></th>\n",
              "      <th>param_max_depth</th>\n",
              "      <th>param_max_features</th>\n",
              "      <th>params</th>\n",
              "      <th>mean_test_score</th>\n",
              "      <th>rank_test_score</th>\n",
              "    </tr>\n",
              "  </thead>\n",
              "  <tbody>\n",
              "    <tr>\n",
              "      <th>15</th>\n",
              "      <td>4</td>\n",
              "      <td>log2</td>\n",
              "      <td>{'max_depth': 4, 'max_features': 'log2'}</td>\n",
              "      <td>-159.168214</td>\n",
              "      <td>1</td>\n",
              "    </tr>\n",
              "    <tr>\n",
              "      <th>19</th>\n",
              "      <td>5</td>\n",
              "      <td>log2</td>\n",
              "      <td>{'max_depth': 5, 'max_features': 'log2'}</td>\n",
              "      <td>-159.446159</td>\n",
              "      <td>2</td>\n",
              "    </tr>\n",
              "    <tr>\n",
              "      <th>17</th>\n",
              "      <td>5</td>\n",
              "      <td>sqrt</td>\n",
              "      <td>{'max_depth': 5, 'max_features': 'sqrt'}</td>\n",
              "      <td>-160.261242</td>\n",
              "      <td>3</td>\n",
              "    </tr>\n",
              "    <tr>\n",
              "      <th>4</th>\n",
              "      <td>2</td>\n",
              "      <td>None</td>\n",
              "      <td>{'max_depth': 2, 'max_features': None}</td>\n",
              "      <td>-160.493808</td>\n",
              "      <td>4</td>\n",
              "    </tr>\n",
              "    <tr>\n",
              "      <th>6</th>\n",
              "      <td>2</td>\n",
              "      <td>auto</td>\n",
              "      <td>{'max_depth': 2, 'max_features': 'auto'}</td>\n",
              "      <td>-160.493808</td>\n",
              "      <td>5</td>\n",
              "    </tr>\n",
              "  </tbody>\n",
              "</table>\n",
              "</div>\n",
              "      <button class=\"colab-df-convert\" onclick=\"convertToInteractive('df-789f1a85-6c4e-469e-b5c2-eef23579a627')\"\n",
              "              title=\"Convert this dataframe to an interactive table.\"\n",
              "              style=\"display:none;\">\n",
              "        \n",
              "  <svg xmlns=\"http://www.w3.org/2000/svg\" height=\"24px\"viewBox=\"0 0 24 24\"\n",
              "       width=\"24px\">\n",
              "    <path d=\"M0 0h24v24H0V0z\" fill=\"none\"/>\n",
              "    <path d=\"M18.56 5.44l.94 2.06.94-2.06 2.06-.94-2.06-.94-.94-2.06-.94 2.06-2.06.94zm-11 1L8.5 8.5l.94-2.06 2.06-.94-2.06-.94L8.5 2.5l-.94 2.06-2.06.94zm10 10l.94 2.06.94-2.06 2.06-.94-2.06-.94-.94-2.06-.94 2.06-2.06.94z\"/><path d=\"M17.41 7.96l-1.37-1.37c-.4-.4-.92-.59-1.43-.59-.52 0-1.04.2-1.43.59L10.3 9.45l-7.72 7.72c-.78.78-.78 2.05 0 2.83L4 21.41c.39.39.9.59 1.41.59.51 0 1.02-.2 1.41-.59l7.78-7.78 2.81-2.81c.8-.78.8-2.07 0-2.86zM5.41 20L4 18.59l7.72-7.72 1.47 1.35L5.41 20z\"/>\n",
              "  </svg>\n",
              "      </button>\n",
              "      \n",
              "  <style>\n",
              "    .colab-df-container {\n",
              "      display:flex;\n",
              "      flex-wrap:wrap;\n",
              "      gap: 12px;\n",
              "    }\n",
              "\n",
              "    .colab-df-convert {\n",
              "      background-color: #E8F0FE;\n",
              "      border: none;\n",
              "      border-radius: 50%;\n",
              "      cursor: pointer;\n",
              "      display: none;\n",
              "      fill: #1967D2;\n",
              "      height: 32px;\n",
              "      padding: 0 0 0 0;\n",
              "      width: 32px;\n",
              "    }\n",
              "\n",
              "    .colab-df-convert:hover {\n",
              "      background-color: #E2EBFA;\n",
              "      box-shadow: 0px 1px 2px rgba(60, 64, 67, 0.3), 0px 1px 3px 1px rgba(60, 64, 67, 0.15);\n",
              "      fill: #174EA6;\n",
              "    }\n",
              "\n",
              "    [theme=dark] .colab-df-convert {\n",
              "      background-color: #3B4455;\n",
              "      fill: #D2E3FC;\n",
              "    }\n",
              "\n",
              "    [theme=dark] .colab-df-convert:hover {\n",
              "      background-color: #434B5C;\n",
              "      box-shadow: 0px 1px 3px 1px rgba(0, 0, 0, 0.15);\n",
              "      filter: drop-shadow(0px 1px 2px rgba(0, 0, 0, 0.3));\n",
              "      fill: #FFFFFF;\n",
              "    }\n",
              "  </style>\n",
              "\n",
              "      <script>\n",
              "        const buttonEl =\n",
              "          document.querySelector('#df-789f1a85-6c4e-469e-b5c2-eef23579a627 button.colab-df-convert');\n",
              "        buttonEl.style.display =\n",
              "          google.colab.kernel.accessAllowed ? 'block' : 'none';\n",
              "\n",
              "        async function convertToInteractive(key) {\n",
              "          const element = document.querySelector('#df-789f1a85-6c4e-469e-b5c2-eef23579a627');\n",
              "          const dataTable =\n",
              "            await google.colab.kernel.invokeFunction('convertToInteractive',\n",
              "                                                     [key], {});\n",
              "          if (!dataTable) return;\n",
              "\n",
              "          const docLinkHtml = 'Like what you see? Visit the ' +\n",
              "            '<a target=\"_blank\" href=https://colab.research.google.com/notebooks/data_table.ipynb>data table notebook</a>'\n",
              "            + ' to learn more about interactive tables.';\n",
              "          element.innerHTML = '';\n",
              "          dataTable['output_type'] = 'display_data';\n",
              "          await google.colab.output.renderOutput(dataTable, element);\n",
              "          const docLink = document.createElement('div');\n",
              "          docLink.innerHTML = docLinkHtml;\n",
              "          element.appendChild(docLink);\n",
              "        }\n",
              "      </script>\n",
              "    </div>\n",
              "  </div>\n",
              "  "
            ]
          },
          "metadata": {},
          "execution_count": 432
        }
      ]
    },
    {
      "cell_type": "code",
      "source": [
        "#best parameters for our decision tree regressor\n",
        "decisiontree_search.best_params_"
      ],
      "metadata": {
        "colab": {
          "base_uri": "https://localhost:8080/"
        },
        "id": "Bzu__e_ngZib",
        "outputId": "a7e452e2-a404-4132-c191-d974de3d5627"
      },
      "execution_count": 433,
      "outputs": [
        {
          "output_type": "execute_result",
          "data": {
            "text/plain": [
              "{'max_depth': 4, 'max_features': 'log2'}"
            ]
          },
          "metadata": {},
          "execution_count": 433
        }
      ]
    },
    {
      "cell_type": "code",
      "source": [
        "decision_tree = DecisionTreeRegressor(max_depth= 4, max_features= 'log2')"
      ],
      "metadata": {
        "id": "aKQcXG8vgtjO"
      },
      "execution_count": 434,
      "outputs": []
    },
    {
      "cell_type": "code",
      "source": [
        "decision_tree.fit(train_data_selected_X, train_data_y)"
      ],
      "metadata": {
        "id": "kS0PpcNVzmYq",
        "outputId": "e04ec645-c324-432b-d8c3-aa30f51f0355",
        "colab": {
          "base_uri": "https://localhost:8080/"
        }
      },
      "execution_count": 435,
      "outputs": [
        {
          "output_type": "execute_result",
          "data": {
            "text/plain": [
              "DecisionTreeRegressor(max_depth=4, max_features='log2')"
            ]
          },
          "metadata": {},
          "execution_count": 435
        }
      ]
    },
    {
      "cell_type": "code",
      "source": [
        "y_pred_dt = decision_tree.predict(test_data_selected_X)"
      ],
      "metadata": {
        "id": "Zno94h6Kzq05"
      },
      "execution_count": 436,
      "outputs": []
    },
    {
      "cell_type": "code",
      "source": [
        "print('Mean Squared Error: ', metrics.mean_squared_error(test_data_y, y_pred_dt), '\\n')\n",
        "print('Mean Absolute Error: ', metrics.mean_absolute_error(test_data_y, y_pred_dt), '\\n')\n",
        "print('Root Mean Squared Error: ', np.sqrt(metrics.mean_squared_error(test_data_y, y_pred_dt)))"
      ],
      "metadata": {
        "id": "kg1RRZfozsgi",
        "outputId": "bcf7efe8-9272-485e-cea4-414f53149991",
        "colab": {
          "base_uri": "https://localhost:8080/"
        }
      },
      "execution_count": 437,
      "outputs": [
        {
          "output_type": "stream",
          "name": "stdout",
          "text": [
            "Mean Squared Error:  1743656.5962538852 \n",
            "\n",
            "Mean Absolute Error:  135.1614930843049 \n",
            "\n",
            "Root Mean Squared Error:  1320.4758976421665\n"
          ]
        }
      ]
    },
    {
      "cell_type": "markdown",
      "source": [
        "Create a table titled wildfire_regressions_tuned to hold the results of our various regressions"
      ],
      "metadata": {
        "id": "5_rSm46VnmGc"
      }
    },
    {
      "cell_type": "code",
      "source": [
        "wildfire_regressions_tuned = pd.DataFrame(columns = ['Model Type', 'Parameters', 'Features Used', 'Number of Features', 'MSE', 'MAE', 'RMSE'])"
      ],
      "metadata": {
        "id": "5Y_dk646j2Wn"
      },
      "execution_count": 438,
      "outputs": []
    },
    {
      "cell_type": "code",
      "source": [
        "wildfire_regressions_tuned['Model Type'] = ['Multivariate Linear', 'Ridge', 'Lasso','Decision Tree']\n",
        "wildfire_regressions_tuned['Parameters'] = ['', ridge_search.best_params_, lasso_search.best_params_, decisiontree_search.best_params_]\n",
        "wildfire_regressions_tuned['Number of Features'] = [7,7,7,7]\n",
        "wildfire_regressions_tuned['Features Used'] = [['PRCP_6M','TAVG','TMIN','DX90_2M','Jul','May','Oct'],\n",
        "                                          ['PRCP_6M','TAVG','TMIN','DX90_2M','Jul','May','Oct'],\n",
        "                                          ['PRCP_6M','TAVG','TMIN','DX90_2M','Jul','May','Oct'],\n",
        "                                          ['PRCP_6M','TAVG','TMIN','DX90_2M','Jul','May','Oct']]"
      ],
      "metadata": {
        "id": "b4eBx7YQjwUP"
      },
      "execution_count": 439,
      "outputs": []
    },
    {
      "cell_type": "code",
      "source": [
        "wildfire_regressions_tuned"
      ],
      "metadata": {
        "colab": {
          "base_uri": "https://localhost:8080/",
          "height": 175
        },
        "id": "4v9oiR9jkdVY",
        "outputId": "7406062b-712b-4801-ba74-92dcac1ea03f"
      },
      "execution_count": 440,
      "outputs": [
        {
          "output_type": "execute_result",
          "data": {
            "text/plain": [
              "            Model Type                                Parameters  \\\n",
              "0  Multivariate Linear                                             \n",
              "1                Ridge                             {'alpha': 12}   \n",
              "2                Lasso                          {'alpha': 10.25}   \n",
              "3        Decision Tree  {'max_depth': 4, 'max_features': 'log2'}   \n",
              "\n",
              "                                   Features Used  Number of Features  MSE  \\\n",
              "0  [PRCP_6M, TAVG, TMIN, DX90_2M, Jul, May, Oct]                   7  NaN   \n",
              "1  [PRCP_6M, TAVG, TMIN, DX90_2M, Jul, May, Oct]                   7  NaN   \n",
              "2  [PRCP_6M, TAVG, TMIN, DX90_2M, Jul, May, Oct]                   7  NaN   \n",
              "3  [PRCP_6M, TAVG, TMIN, DX90_2M, Jul, May, Oct]                   7  NaN   \n",
              "\n",
              "   MAE RMSE  \n",
              "0  NaN  NaN  \n",
              "1  NaN  NaN  \n",
              "2  NaN  NaN  \n",
              "3  NaN  NaN  "
            ],
            "text/html": [
              "\n",
              "  <div id=\"df-49233971-781c-40ac-b024-c9f7912dc7b8\">\n",
              "    <div class=\"colab-df-container\">\n",
              "      <div>\n",
              "<style scoped>\n",
              "    .dataframe tbody tr th:only-of-type {\n",
              "        vertical-align: middle;\n",
              "    }\n",
              "\n",
              "    .dataframe tbody tr th {\n",
              "        vertical-align: top;\n",
              "    }\n",
              "\n",
              "    .dataframe thead th {\n",
              "        text-align: right;\n",
              "    }\n",
              "</style>\n",
              "<table border=\"1\" class=\"dataframe\">\n",
              "  <thead>\n",
              "    <tr style=\"text-align: right;\">\n",
              "      <th></th>\n",
              "      <th>Model Type</th>\n",
              "      <th>Parameters</th>\n",
              "      <th>Features Used</th>\n",
              "      <th>Number of Features</th>\n",
              "      <th>MSE</th>\n",
              "      <th>MAE</th>\n",
              "      <th>RMSE</th>\n",
              "    </tr>\n",
              "  </thead>\n",
              "  <tbody>\n",
              "    <tr>\n",
              "      <th>0</th>\n",
              "      <td>Multivariate Linear</td>\n",
              "      <td></td>\n",
              "      <td>[PRCP_6M, TAVG, TMIN, DX90_2M, Jul, May, Oct]</td>\n",
              "      <td>7</td>\n",
              "      <td>NaN</td>\n",
              "      <td>NaN</td>\n",
              "      <td>NaN</td>\n",
              "    </tr>\n",
              "    <tr>\n",
              "      <th>1</th>\n",
              "      <td>Ridge</td>\n",
              "      <td>{'alpha': 12}</td>\n",
              "      <td>[PRCP_6M, TAVG, TMIN, DX90_2M, Jul, May, Oct]</td>\n",
              "      <td>7</td>\n",
              "      <td>NaN</td>\n",
              "      <td>NaN</td>\n",
              "      <td>NaN</td>\n",
              "    </tr>\n",
              "    <tr>\n",
              "      <th>2</th>\n",
              "      <td>Lasso</td>\n",
              "      <td>{'alpha': 10.25}</td>\n",
              "      <td>[PRCP_6M, TAVG, TMIN, DX90_2M, Jul, May, Oct]</td>\n",
              "      <td>7</td>\n",
              "      <td>NaN</td>\n",
              "      <td>NaN</td>\n",
              "      <td>NaN</td>\n",
              "    </tr>\n",
              "    <tr>\n",
              "      <th>3</th>\n",
              "      <td>Decision Tree</td>\n",
              "      <td>{'max_depth': 4, 'max_features': 'log2'}</td>\n",
              "      <td>[PRCP_6M, TAVG, TMIN, DX90_2M, Jul, May, Oct]</td>\n",
              "      <td>7</td>\n",
              "      <td>NaN</td>\n",
              "      <td>NaN</td>\n",
              "      <td>NaN</td>\n",
              "    </tr>\n",
              "  </tbody>\n",
              "</table>\n",
              "</div>\n",
              "      <button class=\"colab-df-convert\" onclick=\"convertToInteractive('df-49233971-781c-40ac-b024-c9f7912dc7b8')\"\n",
              "              title=\"Convert this dataframe to an interactive table.\"\n",
              "              style=\"display:none;\">\n",
              "        \n",
              "  <svg xmlns=\"http://www.w3.org/2000/svg\" height=\"24px\"viewBox=\"0 0 24 24\"\n",
              "       width=\"24px\">\n",
              "    <path d=\"M0 0h24v24H0V0z\" fill=\"none\"/>\n",
              "    <path d=\"M18.56 5.44l.94 2.06.94-2.06 2.06-.94-2.06-.94-.94-2.06-.94 2.06-2.06.94zm-11 1L8.5 8.5l.94-2.06 2.06-.94-2.06-.94L8.5 2.5l-.94 2.06-2.06.94zm10 10l.94 2.06.94-2.06 2.06-.94-2.06-.94-.94-2.06-.94 2.06-2.06.94z\"/><path d=\"M17.41 7.96l-1.37-1.37c-.4-.4-.92-.59-1.43-.59-.52 0-1.04.2-1.43.59L10.3 9.45l-7.72 7.72c-.78.78-.78 2.05 0 2.83L4 21.41c.39.39.9.59 1.41.59.51 0 1.02-.2 1.41-.59l7.78-7.78 2.81-2.81c.8-.78.8-2.07 0-2.86zM5.41 20L4 18.59l7.72-7.72 1.47 1.35L5.41 20z\"/>\n",
              "  </svg>\n",
              "      </button>\n",
              "      \n",
              "  <style>\n",
              "    .colab-df-container {\n",
              "      display:flex;\n",
              "      flex-wrap:wrap;\n",
              "      gap: 12px;\n",
              "    }\n",
              "\n",
              "    .colab-df-convert {\n",
              "      background-color: #E8F0FE;\n",
              "      border: none;\n",
              "      border-radius: 50%;\n",
              "      cursor: pointer;\n",
              "      display: none;\n",
              "      fill: #1967D2;\n",
              "      height: 32px;\n",
              "      padding: 0 0 0 0;\n",
              "      width: 32px;\n",
              "    }\n",
              "\n",
              "    .colab-df-convert:hover {\n",
              "      background-color: #E2EBFA;\n",
              "      box-shadow: 0px 1px 2px rgba(60, 64, 67, 0.3), 0px 1px 3px 1px rgba(60, 64, 67, 0.15);\n",
              "      fill: #174EA6;\n",
              "    }\n",
              "\n",
              "    [theme=dark] .colab-df-convert {\n",
              "      background-color: #3B4455;\n",
              "      fill: #D2E3FC;\n",
              "    }\n",
              "\n",
              "    [theme=dark] .colab-df-convert:hover {\n",
              "      background-color: #434B5C;\n",
              "      box-shadow: 0px 1px 3px 1px rgba(0, 0, 0, 0.15);\n",
              "      filter: drop-shadow(0px 1px 2px rgba(0, 0, 0, 0.3));\n",
              "      fill: #FFFFFF;\n",
              "    }\n",
              "  </style>\n",
              "\n",
              "      <script>\n",
              "        const buttonEl =\n",
              "          document.querySelector('#df-49233971-781c-40ac-b024-c9f7912dc7b8 button.colab-df-convert');\n",
              "        buttonEl.style.display =\n",
              "          google.colab.kernel.accessAllowed ? 'block' : 'none';\n",
              "\n",
              "        async function convertToInteractive(key) {\n",
              "          const element = document.querySelector('#df-49233971-781c-40ac-b024-c9f7912dc7b8');\n",
              "          const dataTable =\n",
              "            await google.colab.kernel.invokeFunction('convertToInteractive',\n",
              "                                                     [key], {});\n",
              "          if (!dataTable) return;\n",
              "\n",
              "          const docLinkHtml = 'Like what you see? Visit the ' +\n",
              "            '<a target=\"_blank\" href=https://colab.research.google.com/notebooks/data_table.ipynb>data table notebook</a>'\n",
              "            + ' to learn more about interactive tables.';\n",
              "          element.innerHTML = '';\n",
              "          dataTable['output_type'] = 'display_data';\n",
              "          await google.colab.output.renderOutput(dataTable, element);\n",
              "          const docLink = document.createElement('div');\n",
              "          docLink.innerHTML = docLinkHtml;\n",
              "          element.appendChild(docLink);\n",
              "        }\n",
              "      </script>\n",
              "    </div>\n",
              "  </div>\n",
              "  "
            ]
          },
          "metadata": {},
          "execution_count": 440
        }
      ]
    },
    {
      "cell_type": "code",
      "source": [
        "mse = []\n",
        "mse.append(metrics.mean_squared_error(test_data_y, y_pred_linear))\n",
        "mse.append(metrics.mean_squared_error(test_data_y, y_pred_ridge))\n",
        "mse.append(metrics.mean_squared_error(test_data_y, y_pred_lasso))\n",
        "mse.append(metrics.mean_squared_error(test_data_y, y_pred_dt))\n",
        "\n",
        "mae = []\n",
        "mae.append(metrics.mean_absolute_error(test_data_y, y_pred_linear))\n",
        "mae.append(metrics.mean_absolute_error(test_data_y, y_pred_ridge))\n",
        "mae.append(metrics.mean_absolute_error(test_data_y, y_pred_lasso))\n",
        "mae.append(metrics.mean_absolute_error(test_data_y, y_pred_dt))\n",
        "\n",
        "rmse = []\n",
        "rmse.append(np.sqrt(metrics.mean_squared_error(test_data_y, y_pred_linear)))\n",
        "rmse.append(np.sqrt(metrics.mean_squared_error(test_data_y, y_pred_ridge)))\n",
        "rmse.append(np.sqrt(metrics.mean_squared_error(test_data_y, y_pred_lasso)))\n",
        "rmse.append(np.sqrt(metrics.mean_squared_error(test_data_y, y_pred_dt)))"
      ],
      "metadata": {
        "id": "7M8V44shjxLn"
      },
      "execution_count": 441,
      "outputs": []
    },
    {
      "cell_type": "code",
      "source": [
        "wildfire_regressions_tuned['MSE'] = mse\n",
        "wildfire_regressions_tuned['MAE'] = mae\n",
        "wildfire_regressions_tuned['RMSE'] = rmse"
      ],
      "metadata": {
        "id": "IHtWvb9Rlyug"
      },
      "execution_count": 442,
      "outputs": []
    },
    {
      "cell_type": "markdown",
      "source": [
        "# Below we have a table with the final regression model results that help us predict acres burned by a wildfire given input features PRCP_6M, TAVG, TMIN, DX90_2M, Jul, May, Oct"
      ],
      "metadata": {
        "id": "2kV1A0lRm5uD"
      }
    },
    {
      "cell_type": "code",
      "source": [
        "wildfire_regressions_tuned.sort_values(by = ['MAE']).reset_index(drop = True)"
      ],
      "metadata": {
        "colab": {
          "base_uri": "https://localhost:8080/",
          "height": 175
        },
        "id": "MGglP1Ckjz1W",
        "outputId": "80559e56-2f4f-479e-88f4-d1e6037b76ec"
      },
      "execution_count": 443,
      "outputs": [
        {
          "output_type": "execute_result",
          "data": {
            "text/plain": [
              "            Model Type                                Parameters  \\\n",
              "0  Multivariate Linear                                             \n",
              "1                Ridge                             {'alpha': 12}   \n",
              "2        Decision Tree  {'max_depth': 4, 'max_features': 'log2'}   \n",
              "3                Lasso                          {'alpha': 10.25}   \n",
              "\n",
              "                                   Features Used  Number of Features  \\\n",
              "0  [PRCP_6M, TAVG, TMIN, DX90_2M, Jul, May, Oct]                   7   \n",
              "1  [PRCP_6M, TAVG, TMIN, DX90_2M, Jul, May, Oct]                   7   \n",
              "2  [PRCP_6M, TAVG, TMIN, DX90_2M, Jul, May, Oct]                   7   \n",
              "3  [PRCP_6M, TAVG, TMIN, DX90_2M, Jul, May, Oct]                   7   \n",
              "\n",
              "            MSE         MAE         RMSE  \n",
              "0  1.741619e+06  123.710312  1319.703957  \n",
              "1  1.741649e+06  124.346112  1319.715459  \n",
              "2  1.743657e+06  135.161493  1320.475898  \n",
              "3  1.740940e+06  135.817010  1319.446904  "
            ],
            "text/html": [
              "\n",
              "  <div id=\"df-3f16222d-5cfd-4112-aa78-bcf1eca4d7eb\">\n",
              "    <div class=\"colab-df-container\">\n",
              "      <div>\n",
              "<style scoped>\n",
              "    .dataframe tbody tr th:only-of-type {\n",
              "        vertical-align: middle;\n",
              "    }\n",
              "\n",
              "    .dataframe tbody tr th {\n",
              "        vertical-align: top;\n",
              "    }\n",
              "\n",
              "    .dataframe thead th {\n",
              "        text-align: right;\n",
              "    }\n",
              "</style>\n",
              "<table border=\"1\" class=\"dataframe\">\n",
              "  <thead>\n",
              "    <tr style=\"text-align: right;\">\n",
              "      <th></th>\n",
              "      <th>Model Type</th>\n",
              "      <th>Parameters</th>\n",
              "      <th>Features Used</th>\n",
              "      <th>Number of Features</th>\n",
              "      <th>MSE</th>\n",
              "      <th>MAE</th>\n",
              "      <th>RMSE</th>\n",
              "    </tr>\n",
              "  </thead>\n",
              "  <tbody>\n",
              "    <tr>\n",
              "      <th>0</th>\n",
              "      <td>Multivariate Linear</td>\n",
              "      <td></td>\n",
              "      <td>[PRCP_6M, TAVG, TMIN, DX90_2M, Jul, May, Oct]</td>\n",
              "      <td>7</td>\n",
              "      <td>1.741619e+06</td>\n",
              "      <td>123.710312</td>\n",
              "      <td>1319.703957</td>\n",
              "    </tr>\n",
              "    <tr>\n",
              "      <th>1</th>\n",
              "      <td>Ridge</td>\n",
              "      <td>{'alpha': 12}</td>\n",
              "      <td>[PRCP_6M, TAVG, TMIN, DX90_2M, Jul, May, Oct]</td>\n",
              "      <td>7</td>\n",
              "      <td>1.741649e+06</td>\n",
              "      <td>124.346112</td>\n",
              "      <td>1319.715459</td>\n",
              "    </tr>\n",
              "    <tr>\n",
              "      <th>2</th>\n",
              "      <td>Decision Tree</td>\n",
              "      <td>{'max_depth': 4, 'max_features': 'log2'}</td>\n",
              "      <td>[PRCP_6M, TAVG, TMIN, DX90_2M, Jul, May, Oct]</td>\n",
              "      <td>7</td>\n",
              "      <td>1.743657e+06</td>\n",
              "      <td>135.161493</td>\n",
              "      <td>1320.475898</td>\n",
              "    </tr>\n",
              "    <tr>\n",
              "      <th>3</th>\n",
              "      <td>Lasso</td>\n",
              "      <td>{'alpha': 10.25}</td>\n",
              "      <td>[PRCP_6M, TAVG, TMIN, DX90_2M, Jul, May, Oct]</td>\n",
              "      <td>7</td>\n",
              "      <td>1.740940e+06</td>\n",
              "      <td>135.817010</td>\n",
              "      <td>1319.446904</td>\n",
              "    </tr>\n",
              "  </tbody>\n",
              "</table>\n",
              "</div>\n",
              "      <button class=\"colab-df-convert\" onclick=\"convertToInteractive('df-3f16222d-5cfd-4112-aa78-bcf1eca4d7eb')\"\n",
              "              title=\"Convert this dataframe to an interactive table.\"\n",
              "              style=\"display:none;\">\n",
              "        \n",
              "  <svg xmlns=\"http://www.w3.org/2000/svg\" height=\"24px\"viewBox=\"0 0 24 24\"\n",
              "       width=\"24px\">\n",
              "    <path d=\"M0 0h24v24H0V0z\" fill=\"none\"/>\n",
              "    <path d=\"M18.56 5.44l.94 2.06.94-2.06 2.06-.94-2.06-.94-.94-2.06-.94 2.06-2.06.94zm-11 1L8.5 8.5l.94-2.06 2.06-.94-2.06-.94L8.5 2.5l-.94 2.06-2.06.94zm10 10l.94 2.06.94-2.06 2.06-.94-2.06-.94-.94-2.06-.94 2.06-2.06.94z\"/><path d=\"M17.41 7.96l-1.37-1.37c-.4-.4-.92-.59-1.43-.59-.52 0-1.04.2-1.43.59L10.3 9.45l-7.72 7.72c-.78.78-.78 2.05 0 2.83L4 21.41c.39.39.9.59 1.41.59.51 0 1.02-.2 1.41-.59l7.78-7.78 2.81-2.81c.8-.78.8-2.07 0-2.86zM5.41 20L4 18.59l7.72-7.72 1.47 1.35L5.41 20z\"/>\n",
              "  </svg>\n",
              "      </button>\n",
              "      \n",
              "  <style>\n",
              "    .colab-df-container {\n",
              "      display:flex;\n",
              "      flex-wrap:wrap;\n",
              "      gap: 12px;\n",
              "    }\n",
              "\n",
              "    .colab-df-convert {\n",
              "      background-color: #E8F0FE;\n",
              "      border: none;\n",
              "      border-radius: 50%;\n",
              "      cursor: pointer;\n",
              "      display: none;\n",
              "      fill: #1967D2;\n",
              "      height: 32px;\n",
              "      padding: 0 0 0 0;\n",
              "      width: 32px;\n",
              "    }\n",
              "\n",
              "    .colab-df-convert:hover {\n",
              "      background-color: #E2EBFA;\n",
              "      box-shadow: 0px 1px 2px rgba(60, 64, 67, 0.3), 0px 1px 3px 1px rgba(60, 64, 67, 0.15);\n",
              "      fill: #174EA6;\n",
              "    }\n",
              "\n",
              "    [theme=dark] .colab-df-convert {\n",
              "      background-color: #3B4455;\n",
              "      fill: #D2E3FC;\n",
              "    }\n",
              "\n",
              "    [theme=dark] .colab-df-convert:hover {\n",
              "      background-color: #434B5C;\n",
              "      box-shadow: 0px 1px 3px 1px rgba(0, 0, 0, 0.15);\n",
              "      filter: drop-shadow(0px 1px 2px rgba(0, 0, 0, 0.3));\n",
              "      fill: #FFFFFF;\n",
              "    }\n",
              "  </style>\n",
              "\n",
              "      <script>\n",
              "        const buttonEl =\n",
              "          document.querySelector('#df-3f16222d-5cfd-4112-aa78-bcf1eca4d7eb button.colab-df-convert');\n",
              "        buttonEl.style.display =\n",
              "          google.colab.kernel.accessAllowed ? 'block' : 'none';\n",
              "\n",
              "        async function convertToInteractive(key) {\n",
              "          const element = document.querySelector('#df-3f16222d-5cfd-4112-aa78-bcf1eca4d7eb');\n",
              "          const dataTable =\n",
              "            await google.colab.kernel.invokeFunction('convertToInteractive',\n",
              "                                                     [key], {});\n",
              "          if (!dataTable) return;\n",
              "\n",
              "          const docLinkHtml = 'Like what you see? Visit the ' +\n",
              "            '<a target=\"_blank\" href=https://colab.research.google.com/notebooks/data_table.ipynb>data table notebook</a>'\n",
              "            + ' to learn more about interactive tables.';\n",
              "          element.innerHTML = '';\n",
              "          dataTable['output_type'] = 'display_data';\n",
              "          await google.colab.output.renderOutput(dataTable, element);\n",
              "          const docLink = document.createElement('div');\n",
              "          docLink.innerHTML = docLinkHtml;\n",
              "          element.appendChild(docLink);\n",
              "        }\n",
              "      </script>\n",
              "    </div>\n",
              "  </div>\n",
              "  "
            ]
          },
          "metadata": {},
          "execution_count": 443
        }
      ]
    }
  ]
}