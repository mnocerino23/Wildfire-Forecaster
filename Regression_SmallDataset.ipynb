{
  "nbformat": 4,
  "nbformat_minor": 0,
  "metadata": {
    "colab": {
      "name": "Regression_SmallDataset.ipynb",
      "provenance": [],
      "collapsed_sections": [],
      "authorship_tag": "ABX9TyNBHaeVntA4DDzWBBJ4tjyi",
      "include_colab_link": true
    },
    "kernelspec": {
      "name": "python3",
      "display_name": "Python 3"
    },
    "language_info": {
      "name": "python"
    }
  },
  "cells": [
    {
      "cell_type": "markdown",
      "metadata": {
        "id": "view-in-github",
        "colab_type": "text"
      },
      "source": [
        "<a href=\"https://colab.research.google.com/github/mnocerino23/Wildfire-Forecaster/blob/main/Regression_SmallDataset.ipynb\" target=\"_parent\"><img src=\"https://colab.research.google.com/assets/colab-badge.svg\" alt=\"Open In Colab\"/></a>"
      ]
    },
    {
      "cell_type": "markdown",
      "source": [
        "As the classification models have had some difficulties classifying the fires accurately, we will attempt to build regression models (on Acres Burned feature) instead and see if these have more success.\n",
        "\n",
        "I will deploy the following techniques:\n",
        "\n",
        "1.   One-Hot Encoding of Categorical Variables\n",
        "2.   Splitting the Training and Testing data\n",
        "3.   Normalizing Data\n",
        "4.   Feature Selection\n",
        "5.   Regressions\n",
        "\n",
        "\n"
      ],
      "metadata": {
        "id": "3ZZd1_RsEVIP"
      }
    },
    {
      "cell_type": "code",
      "source": [
        "import numpy as np\n",
        "import pandas as pd\n",
        "\n",
        "from google.colab import drive\n",
        "drive.mount('/content/drive')\n",
        "\n",
        "#Read in the smaller of the final datasets. The dataset contains around 1200 fires from 2016-2019\n",
        "wildfire_set2 = pd.read_csv('/content/drive/MyDrive/Data_Science_Projects/Wildfires/wildfire_set2_w_allfeatures.csv')"
      ],
      "metadata": {
        "colab": {
          "base_uri": "https://localhost:8080/"
        },
        "id": "NFzMd74aBEyq",
        "outputId": "3c7ab4e6-f1bf-4506-a834-4ee86e4d4beb"
      },
      "execution_count": 1066,
      "outputs": [
        {
          "output_type": "stream",
          "name": "stdout",
          "text": [
            "Drive already mounted at /content/drive; to attempt to forcibly remount, call drive.mount(\"/content/drive\", force_remount=True).\n"
          ]
        }
      ]
    },
    {
      "cell_type": "code",
      "source": [
        "wildfire_set2.head()"
      ],
      "metadata": {
        "colab": {
          "base_uri": "https://localhost:8080/",
          "height": 404
        },
        "id": "bkwikHWNCUk5",
        "outputId": "e0efcc6a-1ec3-4e65-dce3-52028d20c687"
      },
      "execution_count": 1067,
      "outputs": [
        {
          "output_type": "execute_result",
          "data": {
            "text/plain": [
              "   Unnamed: 0  Year            Name  AcresBurned Fire Size Rank  Cause  \\\n",
              "0           0  2016  Soberanes Fire     132127.0              G    NaN   \n",
              "1           1  2016    Erskine Fire      48019.0              G    NaN   \n",
              "2           2  2016    Chimney Fire      46344.0              G    NaN   \n",
              "3           3  2016   Blue Cut Fire      36274.0              G    NaN   \n",
              "4           4  2016        Gap Fire      33867.0              G    NaN   \n",
              "\n",
              "   SOURCE_REPORTING_UNIT_NAME  DaysBurn Discovery Month  Discovered DOY  ...  \\\n",
              "0                         NaN      83.0             Jul             NaN  ...   \n",
              "1                         NaN      18.0             Jun             NaN  ...   \n",
              "2                         NaN      24.0             Aug             NaN  ...   \n",
              "3                         NaN       7.0             Aug             NaN  ...   \n",
              "4                         NaN       1.0             Aug             NaN  ...   \n",
              "\n",
              "  DX90_2M  DP10_2M  Receives Snow  Snow Station River Basin Mar_SP Mar_WC  \\\n",
              "0     0.0      1.0              0           NaN         NaN    0.0    0.0   \n",
              "1    15.0      4.0              1  mineral_king      Kaweah   36.0   16.0   \n",
              "2    43.0      0.0              0           NaN         NaN    0.0    0.0   \n",
              "3    43.0      0.0              0           NaN         NaN    0.0    0.0   \n",
              "4     0.0      2.0              1   parks_creek      Shasta   77.0   34.0   \n",
              "\n",
              "   Mar_Dens Has_Elevation  Elevation  \n",
              "0      0.00             1   961.2744  \n",
              "1      0.44             1  3389.0664  \n",
              "2      0.00             1  1049.8560  \n",
              "3      0.00             1  4192.8624  \n",
              "4      0.44             1  3244.7112  \n",
              "\n",
              "[5 rows x 40 columns]"
            ],
            "text/html": [
              "\n",
              "  <div id=\"df-bae7b153-9952-45e1-b782-0f7473ecae39\">\n",
              "    <div class=\"colab-df-container\">\n",
              "      <div>\n",
              "<style scoped>\n",
              "    .dataframe tbody tr th:only-of-type {\n",
              "        vertical-align: middle;\n",
              "    }\n",
              "\n",
              "    .dataframe tbody tr th {\n",
              "        vertical-align: top;\n",
              "    }\n",
              "\n",
              "    .dataframe thead th {\n",
              "        text-align: right;\n",
              "    }\n",
              "</style>\n",
              "<table border=\"1\" class=\"dataframe\">\n",
              "  <thead>\n",
              "    <tr style=\"text-align: right;\">\n",
              "      <th></th>\n",
              "      <th>Unnamed: 0</th>\n",
              "      <th>Year</th>\n",
              "      <th>Name</th>\n",
              "      <th>AcresBurned</th>\n",
              "      <th>Fire Size Rank</th>\n",
              "      <th>Cause</th>\n",
              "      <th>SOURCE_REPORTING_UNIT_NAME</th>\n",
              "      <th>DaysBurn</th>\n",
              "      <th>Discovery Month</th>\n",
              "      <th>Discovered DOY</th>\n",
              "      <th>...</th>\n",
              "      <th>DX90_2M</th>\n",
              "      <th>DP10_2M</th>\n",
              "      <th>Receives Snow</th>\n",
              "      <th>Snow Station</th>\n",
              "      <th>River Basin</th>\n",
              "      <th>Mar_SP</th>\n",
              "      <th>Mar_WC</th>\n",
              "      <th>Mar_Dens</th>\n",
              "      <th>Has_Elevation</th>\n",
              "      <th>Elevation</th>\n",
              "    </tr>\n",
              "  </thead>\n",
              "  <tbody>\n",
              "    <tr>\n",
              "      <th>0</th>\n",
              "      <td>0</td>\n",
              "      <td>2016</td>\n",
              "      <td>Soberanes Fire</td>\n",
              "      <td>132127.0</td>\n",
              "      <td>G</td>\n",
              "      <td>NaN</td>\n",
              "      <td>NaN</td>\n",
              "      <td>83.0</td>\n",
              "      <td>Jul</td>\n",
              "      <td>NaN</td>\n",
              "      <td>...</td>\n",
              "      <td>0.0</td>\n",
              "      <td>1.0</td>\n",
              "      <td>0</td>\n",
              "      <td>NaN</td>\n",
              "      <td>NaN</td>\n",
              "      <td>0.0</td>\n",
              "      <td>0.0</td>\n",
              "      <td>0.00</td>\n",
              "      <td>1</td>\n",
              "      <td>961.2744</td>\n",
              "    </tr>\n",
              "    <tr>\n",
              "      <th>1</th>\n",
              "      <td>1</td>\n",
              "      <td>2016</td>\n",
              "      <td>Erskine Fire</td>\n",
              "      <td>48019.0</td>\n",
              "      <td>G</td>\n",
              "      <td>NaN</td>\n",
              "      <td>NaN</td>\n",
              "      <td>18.0</td>\n",
              "      <td>Jun</td>\n",
              "      <td>NaN</td>\n",
              "      <td>...</td>\n",
              "      <td>15.0</td>\n",
              "      <td>4.0</td>\n",
              "      <td>1</td>\n",
              "      <td>mineral_king</td>\n",
              "      <td>Kaweah</td>\n",
              "      <td>36.0</td>\n",
              "      <td>16.0</td>\n",
              "      <td>0.44</td>\n",
              "      <td>1</td>\n",
              "      <td>3389.0664</td>\n",
              "    </tr>\n",
              "    <tr>\n",
              "      <th>2</th>\n",
              "      <td>2</td>\n",
              "      <td>2016</td>\n",
              "      <td>Chimney Fire</td>\n",
              "      <td>46344.0</td>\n",
              "      <td>G</td>\n",
              "      <td>NaN</td>\n",
              "      <td>NaN</td>\n",
              "      <td>24.0</td>\n",
              "      <td>Aug</td>\n",
              "      <td>NaN</td>\n",
              "      <td>...</td>\n",
              "      <td>43.0</td>\n",
              "      <td>0.0</td>\n",
              "      <td>0</td>\n",
              "      <td>NaN</td>\n",
              "      <td>NaN</td>\n",
              "      <td>0.0</td>\n",
              "      <td>0.0</td>\n",
              "      <td>0.00</td>\n",
              "      <td>1</td>\n",
              "      <td>1049.8560</td>\n",
              "    </tr>\n",
              "    <tr>\n",
              "      <th>3</th>\n",
              "      <td>3</td>\n",
              "      <td>2016</td>\n",
              "      <td>Blue Cut Fire</td>\n",
              "      <td>36274.0</td>\n",
              "      <td>G</td>\n",
              "      <td>NaN</td>\n",
              "      <td>NaN</td>\n",
              "      <td>7.0</td>\n",
              "      <td>Aug</td>\n",
              "      <td>NaN</td>\n",
              "      <td>...</td>\n",
              "      <td>43.0</td>\n",
              "      <td>0.0</td>\n",
              "      <td>0</td>\n",
              "      <td>NaN</td>\n",
              "      <td>NaN</td>\n",
              "      <td>0.0</td>\n",
              "      <td>0.0</td>\n",
              "      <td>0.00</td>\n",
              "      <td>1</td>\n",
              "      <td>4192.8624</td>\n",
              "    </tr>\n",
              "    <tr>\n",
              "      <th>4</th>\n",
              "      <td>4</td>\n",
              "      <td>2016</td>\n",
              "      <td>Gap Fire</td>\n",
              "      <td>33867.0</td>\n",
              "      <td>G</td>\n",
              "      <td>NaN</td>\n",
              "      <td>NaN</td>\n",
              "      <td>1.0</td>\n",
              "      <td>Aug</td>\n",
              "      <td>NaN</td>\n",
              "      <td>...</td>\n",
              "      <td>0.0</td>\n",
              "      <td>2.0</td>\n",
              "      <td>1</td>\n",
              "      <td>parks_creek</td>\n",
              "      <td>Shasta</td>\n",
              "      <td>77.0</td>\n",
              "      <td>34.0</td>\n",
              "      <td>0.44</td>\n",
              "      <td>1</td>\n",
              "      <td>3244.7112</td>\n",
              "    </tr>\n",
              "  </tbody>\n",
              "</table>\n",
              "<p>5 rows × 40 columns</p>\n",
              "</div>\n",
              "      <button class=\"colab-df-convert\" onclick=\"convertToInteractive('df-bae7b153-9952-45e1-b782-0f7473ecae39')\"\n",
              "              title=\"Convert this dataframe to an interactive table.\"\n",
              "              style=\"display:none;\">\n",
              "        \n",
              "  <svg xmlns=\"http://www.w3.org/2000/svg\" height=\"24px\"viewBox=\"0 0 24 24\"\n",
              "       width=\"24px\">\n",
              "    <path d=\"M0 0h24v24H0V0z\" fill=\"none\"/>\n",
              "    <path d=\"M18.56 5.44l.94 2.06.94-2.06 2.06-.94-2.06-.94-.94-2.06-.94 2.06-2.06.94zm-11 1L8.5 8.5l.94-2.06 2.06-.94-2.06-.94L8.5 2.5l-.94 2.06-2.06.94zm10 10l.94 2.06.94-2.06 2.06-.94-2.06-.94-.94-2.06-.94 2.06-2.06.94z\"/><path d=\"M17.41 7.96l-1.37-1.37c-.4-.4-.92-.59-1.43-.59-.52 0-1.04.2-1.43.59L10.3 9.45l-7.72 7.72c-.78.78-.78 2.05 0 2.83L4 21.41c.39.39.9.59 1.41.59.51 0 1.02-.2 1.41-.59l7.78-7.78 2.81-2.81c.8-.78.8-2.07 0-2.86zM5.41 20L4 18.59l7.72-7.72 1.47 1.35L5.41 20z\"/>\n",
              "  </svg>\n",
              "      </button>\n",
              "      \n",
              "  <style>\n",
              "    .colab-df-container {\n",
              "      display:flex;\n",
              "      flex-wrap:wrap;\n",
              "      gap: 12px;\n",
              "    }\n",
              "\n",
              "    .colab-df-convert {\n",
              "      background-color: #E8F0FE;\n",
              "      border: none;\n",
              "      border-radius: 50%;\n",
              "      cursor: pointer;\n",
              "      display: none;\n",
              "      fill: #1967D2;\n",
              "      height: 32px;\n",
              "      padding: 0 0 0 0;\n",
              "      width: 32px;\n",
              "    }\n",
              "\n",
              "    .colab-df-convert:hover {\n",
              "      background-color: #E2EBFA;\n",
              "      box-shadow: 0px 1px 2px rgba(60, 64, 67, 0.3), 0px 1px 3px 1px rgba(60, 64, 67, 0.15);\n",
              "      fill: #174EA6;\n",
              "    }\n",
              "\n",
              "    [theme=dark] .colab-df-convert {\n",
              "      background-color: #3B4455;\n",
              "      fill: #D2E3FC;\n",
              "    }\n",
              "\n",
              "    [theme=dark] .colab-df-convert:hover {\n",
              "      background-color: #434B5C;\n",
              "      box-shadow: 0px 1px 3px 1px rgba(0, 0, 0, 0.15);\n",
              "      filter: drop-shadow(0px 1px 2px rgba(0, 0, 0, 0.3));\n",
              "      fill: #FFFFFF;\n",
              "    }\n",
              "  </style>\n",
              "\n",
              "      <script>\n",
              "        const buttonEl =\n",
              "          document.querySelector('#df-bae7b153-9952-45e1-b782-0f7473ecae39 button.colab-df-convert');\n",
              "        buttonEl.style.display =\n",
              "          google.colab.kernel.accessAllowed ? 'block' : 'none';\n",
              "\n",
              "        async function convertToInteractive(key) {\n",
              "          const element = document.querySelector('#df-bae7b153-9952-45e1-b782-0f7473ecae39');\n",
              "          const dataTable =\n",
              "            await google.colab.kernel.invokeFunction('convertToInteractive',\n",
              "                                                     [key], {});\n",
              "          if (!dataTable) return;\n",
              "\n",
              "          const docLinkHtml = 'Like what you see? Visit the ' +\n",
              "            '<a target=\"_blank\" href=https://colab.research.google.com/notebooks/data_table.ipynb>data table notebook</a>'\n",
              "            + ' to learn more about interactive tables.';\n",
              "          element.innerHTML = '';\n",
              "          dataTable['output_type'] = 'display_data';\n",
              "          await google.colab.output.renderOutput(dataTable, element);\n",
              "          const docLink = document.createElement('div');\n",
              "          docLink.innerHTML = docLinkHtml;\n",
              "          element.appendChild(docLink);\n",
              "        }\n",
              "      </script>\n",
              "    </div>\n",
              "  </div>\n",
              "  "
            ]
          },
          "metadata": {},
          "execution_count": 1067
        }
      ]
    },
    {
      "cell_type": "code",
      "source": [
        "print(wildfire_set2.columns)"
      ],
      "metadata": {
        "id": "2tZQjtnlUWkw",
        "outputId": "7955130d-c714-4f03-cefa-9812ea31dbea",
        "colab": {
          "base_uri": "https://localhost:8080/"
        }
      },
      "execution_count": 1068,
      "outputs": [
        {
          "output_type": "stream",
          "name": "stdout",
          "text": [
            "Index(['Unnamed: 0', 'Year', 'Name', 'AcresBurned', 'Fire Size Rank', 'Cause',\n",
            "       'SOURCE_REPORTING_UNIT_NAME', 'DaysBurn', 'Discovery Month',\n",
            "       'Discovered DOY', 'Contained Month', 'Contained DOY', 'Latitude',\n",
            "       'Longitude', 'County', 'CountyIds', 'State', 'OWNER_DESCR',\n",
            "       'NOAA Station', 'Link', 'AWND', 'CLDD', 'DP10', 'DX90', 'PRCP', 'TAVG',\n",
            "       'TMAX', 'TMIN', 'PRCP_6M', 'PRCP_RS', 'DX90_2M', 'DP10_2M',\n",
            "       'Receives Snow', 'Snow Station', 'River Basin', 'Mar_SP', 'Mar_WC',\n",
            "       'Mar_Dens', 'Has_Elevation', 'Elevation'],\n",
            "      dtype='object')\n"
          ]
        }
      ]
    },
    {
      "cell_type": "markdown",
      "source": [
        "Drop all columns that will not be relevant for our regression task:Unnamed: 0, Year, Name, Cause, SOURCE_REPORTING UNIT NAME, DaysBurn, Discovered DOY, Contained Month, Contained DOY, Lat, Long, County Ids, State, OWNER_DESCR, NOAA Station, Link, Snow Station, River Basin"
      ],
      "metadata": {
        "id": "nReNUm94Bsb_"
      }
    },
    {
      "cell_type": "code",
      "source": [
        "wildfire_set2.drop(columns = ['Unnamed: 0', 'Year', 'Name', 'Cause', 'Fire Size Rank',\n",
        "                      'SOURCE_REPORTING_UNIT_NAME', 'DaysBurn','Contained Month', 'Discovered DOY',\n",
        "                      'Contained DOY','Latitude','Longitude','County','CountyIds','State','OWNER_DESCR',\n",
        "                      'NOAA Station', 'Link', 'Snow Station', 'River Basin','Has_Elevation'], inplace = True)"
      ],
      "metadata": {
        "id": "1q_TyyMvElgd"
      },
      "execution_count": 1069,
      "outputs": []
    },
    {
      "cell_type": "markdown",
      "source": [
        "Taking a look at the dataset now that we have dropped the nonrelevant columns"
      ],
      "metadata": {
        "id": "-q4nd7s8BYpV"
      }
    },
    {
      "cell_type": "code",
      "source": [
        "wildfire_set2.head(5)"
      ],
      "metadata": {
        "id": "tjwTdwNlJdQP",
        "colab": {
          "base_uri": "https://localhost:8080/",
          "height": 267
        },
        "outputId": "1fc3ec6c-3e7c-4344-a0aa-27eded2de6bc"
      },
      "execution_count": 1070,
      "outputs": [
        {
          "output_type": "execute_result",
          "data": {
            "text/plain": [
              "   AcresBurned Discovery Month  AWND   CLDD  DP10  DX90  PRCP  TAVG  TMAX  \\\n",
              "0     132127.0             Jul   6.5    0.0   0.0   0.0  0.00  58.8  65.2   \n",
              "1      48019.0             Jun   6.7  529.0   0.0  22.0  0.00  82.6  96.6   \n",
              "2      46344.0             Aug   6.9  237.0   0.0  23.0  0.00  72.6  92.6   \n",
              "3      36274.0             Aug   6.5  455.0   0.0  28.0  0.00  79.7  94.6   \n",
              "4      33867.0             Aug   4.5    0.0   0.0   0.0  0.02  56.4  62.9   \n",
              "\n",
              "   TMIN  PRCP_6M  PRCP_RS  DX90_2M  DP10_2M  Receives Snow  Mar_SP  Mar_WC  \\\n",
              "0  52.4    14.11    21.42      0.0      1.0              0     0.0     0.0   \n",
              "1  68.6     4.68     4.88     15.0      4.0              1    36.0    16.0   \n",
              "2  52.6     2.52     8.09     43.0      0.0              0     0.0     0.0   \n",
              "3  64.7     3.41     6.45     43.0      0.0              0     0.0     0.0   \n",
              "4  49.9    18.03    54.17      0.0      2.0              1    77.0    34.0   \n",
              "\n",
              "   Mar_Dens  Elevation  \n",
              "0      0.00   961.2744  \n",
              "1      0.44  3389.0664  \n",
              "2      0.00  1049.8560  \n",
              "3      0.00  4192.8624  \n",
              "4      0.44  3244.7112  "
            ],
            "text/html": [
              "\n",
              "  <div id=\"df-7dbd8da4-c8d0-4dc9-b7c4-e6dc39b45fc2\">\n",
              "    <div class=\"colab-df-container\">\n",
              "      <div>\n",
              "<style scoped>\n",
              "    .dataframe tbody tr th:only-of-type {\n",
              "        vertical-align: middle;\n",
              "    }\n",
              "\n",
              "    .dataframe tbody tr th {\n",
              "        vertical-align: top;\n",
              "    }\n",
              "\n",
              "    .dataframe thead th {\n",
              "        text-align: right;\n",
              "    }\n",
              "</style>\n",
              "<table border=\"1\" class=\"dataframe\">\n",
              "  <thead>\n",
              "    <tr style=\"text-align: right;\">\n",
              "      <th></th>\n",
              "      <th>AcresBurned</th>\n",
              "      <th>Discovery Month</th>\n",
              "      <th>AWND</th>\n",
              "      <th>CLDD</th>\n",
              "      <th>DP10</th>\n",
              "      <th>DX90</th>\n",
              "      <th>PRCP</th>\n",
              "      <th>TAVG</th>\n",
              "      <th>TMAX</th>\n",
              "      <th>TMIN</th>\n",
              "      <th>PRCP_6M</th>\n",
              "      <th>PRCP_RS</th>\n",
              "      <th>DX90_2M</th>\n",
              "      <th>DP10_2M</th>\n",
              "      <th>Receives Snow</th>\n",
              "      <th>Mar_SP</th>\n",
              "      <th>Mar_WC</th>\n",
              "      <th>Mar_Dens</th>\n",
              "      <th>Elevation</th>\n",
              "    </tr>\n",
              "  </thead>\n",
              "  <tbody>\n",
              "    <tr>\n",
              "      <th>0</th>\n",
              "      <td>132127.0</td>\n",
              "      <td>Jul</td>\n",
              "      <td>6.5</td>\n",
              "      <td>0.0</td>\n",
              "      <td>0.0</td>\n",
              "      <td>0.0</td>\n",
              "      <td>0.00</td>\n",
              "      <td>58.8</td>\n",
              "      <td>65.2</td>\n",
              "      <td>52.4</td>\n",
              "      <td>14.11</td>\n",
              "      <td>21.42</td>\n",
              "      <td>0.0</td>\n",
              "      <td>1.0</td>\n",
              "      <td>0</td>\n",
              "      <td>0.0</td>\n",
              "      <td>0.0</td>\n",
              "      <td>0.00</td>\n",
              "      <td>961.2744</td>\n",
              "    </tr>\n",
              "    <tr>\n",
              "      <th>1</th>\n",
              "      <td>48019.0</td>\n",
              "      <td>Jun</td>\n",
              "      <td>6.7</td>\n",
              "      <td>529.0</td>\n",
              "      <td>0.0</td>\n",
              "      <td>22.0</td>\n",
              "      <td>0.00</td>\n",
              "      <td>82.6</td>\n",
              "      <td>96.6</td>\n",
              "      <td>68.6</td>\n",
              "      <td>4.68</td>\n",
              "      <td>4.88</td>\n",
              "      <td>15.0</td>\n",
              "      <td>4.0</td>\n",
              "      <td>1</td>\n",
              "      <td>36.0</td>\n",
              "      <td>16.0</td>\n",
              "      <td>0.44</td>\n",
              "      <td>3389.0664</td>\n",
              "    </tr>\n",
              "    <tr>\n",
              "      <th>2</th>\n",
              "      <td>46344.0</td>\n",
              "      <td>Aug</td>\n",
              "      <td>6.9</td>\n",
              "      <td>237.0</td>\n",
              "      <td>0.0</td>\n",
              "      <td>23.0</td>\n",
              "      <td>0.00</td>\n",
              "      <td>72.6</td>\n",
              "      <td>92.6</td>\n",
              "      <td>52.6</td>\n",
              "      <td>2.52</td>\n",
              "      <td>8.09</td>\n",
              "      <td>43.0</td>\n",
              "      <td>0.0</td>\n",
              "      <td>0</td>\n",
              "      <td>0.0</td>\n",
              "      <td>0.0</td>\n",
              "      <td>0.00</td>\n",
              "      <td>1049.8560</td>\n",
              "    </tr>\n",
              "    <tr>\n",
              "      <th>3</th>\n",
              "      <td>36274.0</td>\n",
              "      <td>Aug</td>\n",
              "      <td>6.5</td>\n",
              "      <td>455.0</td>\n",
              "      <td>0.0</td>\n",
              "      <td>28.0</td>\n",
              "      <td>0.00</td>\n",
              "      <td>79.7</td>\n",
              "      <td>94.6</td>\n",
              "      <td>64.7</td>\n",
              "      <td>3.41</td>\n",
              "      <td>6.45</td>\n",
              "      <td>43.0</td>\n",
              "      <td>0.0</td>\n",
              "      <td>0</td>\n",
              "      <td>0.0</td>\n",
              "      <td>0.0</td>\n",
              "      <td>0.00</td>\n",
              "      <td>4192.8624</td>\n",
              "    </tr>\n",
              "    <tr>\n",
              "      <th>4</th>\n",
              "      <td>33867.0</td>\n",
              "      <td>Aug</td>\n",
              "      <td>4.5</td>\n",
              "      <td>0.0</td>\n",
              "      <td>0.0</td>\n",
              "      <td>0.0</td>\n",
              "      <td>0.02</td>\n",
              "      <td>56.4</td>\n",
              "      <td>62.9</td>\n",
              "      <td>49.9</td>\n",
              "      <td>18.03</td>\n",
              "      <td>54.17</td>\n",
              "      <td>0.0</td>\n",
              "      <td>2.0</td>\n",
              "      <td>1</td>\n",
              "      <td>77.0</td>\n",
              "      <td>34.0</td>\n",
              "      <td>0.44</td>\n",
              "      <td>3244.7112</td>\n",
              "    </tr>\n",
              "  </tbody>\n",
              "</table>\n",
              "</div>\n",
              "      <button class=\"colab-df-convert\" onclick=\"convertToInteractive('df-7dbd8da4-c8d0-4dc9-b7c4-e6dc39b45fc2')\"\n",
              "              title=\"Convert this dataframe to an interactive table.\"\n",
              "              style=\"display:none;\">\n",
              "        \n",
              "  <svg xmlns=\"http://www.w3.org/2000/svg\" height=\"24px\"viewBox=\"0 0 24 24\"\n",
              "       width=\"24px\">\n",
              "    <path d=\"M0 0h24v24H0V0z\" fill=\"none\"/>\n",
              "    <path d=\"M18.56 5.44l.94 2.06.94-2.06 2.06-.94-2.06-.94-.94-2.06-.94 2.06-2.06.94zm-11 1L8.5 8.5l.94-2.06 2.06-.94-2.06-.94L8.5 2.5l-.94 2.06-2.06.94zm10 10l.94 2.06.94-2.06 2.06-.94-2.06-.94-.94-2.06-.94 2.06-2.06.94z\"/><path d=\"M17.41 7.96l-1.37-1.37c-.4-.4-.92-.59-1.43-.59-.52 0-1.04.2-1.43.59L10.3 9.45l-7.72 7.72c-.78.78-.78 2.05 0 2.83L4 21.41c.39.39.9.59 1.41.59.51 0 1.02-.2 1.41-.59l7.78-7.78 2.81-2.81c.8-.78.8-2.07 0-2.86zM5.41 20L4 18.59l7.72-7.72 1.47 1.35L5.41 20z\"/>\n",
              "  </svg>\n",
              "      </button>\n",
              "      \n",
              "  <style>\n",
              "    .colab-df-container {\n",
              "      display:flex;\n",
              "      flex-wrap:wrap;\n",
              "      gap: 12px;\n",
              "    }\n",
              "\n",
              "    .colab-df-convert {\n",
              "      background-color: #E8F0FE;\n",
              "      border: none;\n",
              "      border-radius: 50%;\n",
              "      cursor: pointer;\n",
              "      display: none;\n",
              "      fill: #1967D2;\n",
              "      height: 32px;\n",
              "      padding: 0 0 0 0;\n",
              "      width: 32px;\n",
              "    }\n",
              "\n",
              "    .colab-df-convert:hover {\n",
              "      background-color: #E2EBFA;\n",
              "      box-shadow: 0px 1px 2px rgba(60, 64, 67, 0.3), 0px 1px 3px 1px rgba(60, 64, 67, 0.15);\n",
              "      fill: #174EA6;\n",
              "    }\n",
              "\n",
              "    [theme=dark] .colab-df-convert {\n",
              "      background-color: #3B4455;\n",
              "      fill: #D2E3FC;\n",
              "    }\n",
              "\n",
              "    [theme=dark] .colab-df-convert:hover {\n",
              "      background-color: #434B5C;\n",
              "      box-shadow: 0px 1px 3px 1px rgba(0, 0, 0, 0.15);\n",
              "      filter: drop-shadow(0px 1px 2px rgba(0, 0, 0, 0.3));\n",
              "      fill: #FFFFFF;\n",
              "    }\n",
              "  </style>\n",
              "\n",
              "      <script>\n",
              "        const buttonEl =\n",
              "          document.querySelector('#df-7dbd8da4-c8d0-4dc9-b7c4-e6dc39b45fc2 button.colab-df-convert');\n",
              "        buttonEl.style.display =\n",
              "          google.colab.kernel.accessAllowed ? 'block' : 'none';\n",
              "\n",
              "        async function convertToInteractive(key) {\n",
              "          const element = document.querySelector('#df-7dbd8da4-c8d0-4dc9-b7c4-e6dc39b45fc2');\n",
              "          const dataTable =\n",
              "            await google.colab.kernel.invokeFunction('convertToInteractive',\n",
              "                                                     [key], {});\n",
              "          if (!dataTable) return;\n",
              "\n",
              "          const docLinkHtml = 'Like what you see? Visit the ' +\n",
              "            '<a target=\"_blank\" href=https://colab.research.google.com/notebooks/data_table.ipynb>data table notebook</a>'\n",
              "            + ' to learn more about interactive tables.';\n",
              "          element.innerHTML = '';\n",
              "          dataTable['output_type'] = 'display_data';\n",
              "          await google.colab.output.renderOutput(dataTable, element);\n",
              "          const docLink = document.createElement('div');\n",
              "          docLink.innerHTML = docLinkHtml;\n",
              "          element.appendChild(docLink);\n",
              "        }\n",
              "      </script>\n",
              "    </div>\n",
              "  </div>\n",
              "  "
            ]
          },
          "metadata": {},
          "execution_count": 1070
        }
      ]
    },
    {
      "cell_type": "code",
      "source": [
        "wildfire_set2.shape"
      ],
      "metadata": {
        "id": "6GGilC4CD906",
        "colab": {
          "base_uri": "https://localhost:8080/"
        },
        "outputId": "107dec4d-0264-4e6a-f6de-43aca4b41f53"
      },
      "execution_count": 1071,
      "outputs": [
        {
          "output_type": "execute_result",
          "data": {
            "text/plain": [
              "(1156, 19)"
            ]
          },
          "metadata": {},
          "execution_count": 1071
        }
      ]
    },
    {
      "cell_type": "markdown",
      "source": [
        "# Investigate the presence of null values in the dataset:\n",
        "Below, we have the count of totall null values in each column for  wildfire_set2."
      ],
      "metadata": {
        "id": "5_rDqNJTLWVx"
      }
    },
    {
      "cell_type": "code",
      "source": [
        "print(wildfire_set2.isnull().sum())"
      ],
      "metadata": {
        "id": "n5pLabm4Dz5W",
        "colab": {
          "base_uri": "https://localhost:8080/"
        },
        "outputId": "0eece451-3638-4d06-f5f7-c4b20c49402c"
      },
      "execution_count": 1072,
      "outputs": [
        {
          "output_type": "stream",
          "name": "stdout",
          "text": [
            "AcresBurned         3\n",
            "Discovery Month     0\n",
            "AWND               37\n",
            "CLDD               37\n",
            "DP10               32\n",
            "DX90               34\n",
            "PRCP               32\n",
            "TAVG               37\n",
            "TMAX               34\n",
            "TMIN               37\n",
            "PRCP_6M             7\n",
            "PRCP_RS            10\n",
            "DX90_2M             2\n",
            "DP10_2M             1\n",
            "Receives Snow       0\n",
            "Mar_SP              0\n",
            "Mar_WC              0\n",
            "Mar_Dens            0\n",
            "Elevation           0\n",
            "dtype: int64\n"
          ]
        }
      ]
    },
    {
      "cell_type": "code",
      "source": [
        "wildfire_set2 = wildfire_set2.dropna()"
      ],
      "metadata": {
        "id": "HehdodiqFMSk"
      },
      "execution_count": 1073,
      "outputs": []
    },
    {
      "cell_type": "markdown",
      "source": [
        "In the cell above, we drop all null values in the dataset. We are able to drop all nulls in this case because our dataset is sizeable with relatively few null values in each so not much data is lost in this process. Looking at the shape of the dataframe after the drops, we see that the dataset remains a similar size post drop."
      ],
      "metadata": {
        "id": "z1leCNjYNK7M"
      }
    },
    {
      "cell_type": "code",
      "source": [
        "#we lose around 50 values when dropping NaN's\n",
        "wildfire_set2.shape"
      ],
      "metadata": {
        "id": "dAacNqr7FONE",
        "colab": {
          "base_uri": "https://localhost:8080/"
        },
        "outputId": "fb55e5ba-20de-407d-b4f1-db392ded4381"
      },
      "execution_count": 1074,
      "outputs": [
        {
          "output_type": "execute_result",
          "data": {
            "text/plain": [
              "(1105, 19)"
            ]
          },
          "metadata": {},
          "execution_count": 1074
        }
      ]
    },
    {
      "cell_type": "markdown",
      "source": [
        "# For our regressions, we will try to predict the number of Acres Burned in the fire"
      ],
      "metadata": {
        "id": "7CAsMA8VaiJU"
      }
    },
    {
      "cell_type": "code",
      "source": [
        "print(wildfire_set2.columns)"
      ],
      "metadata": {
        "colab": {
          "base_uri": "https://localhost:8080/"
        },
        "id": "4euqbgVncG1f",
        "outputId": "7c0f5ca4-d651-4f12-94c7-d7b4639f9851"
      },
      "execution_count": 1075,
      "outputs": [
        {
          "output_type": "stream",
          "name": "stdout",
          "text": [
            "Index(['AcresBurned', 'Discovery Month', 'AWND', 'CLDD', 'DP10', 'DX90',\n",
            "       'PRCP', 'TAVG', 'TMAX', 'TMIN', 'PRCP_6M', 'PRCP_RS', 'DX90_2M',\n",
            "       'DP10_2M', 'Receives Snow', 'Mar_SP', 'Mar_WC', 'Mar_Dens',\n",
            "       'Elevation'],\n",
            "      dtype='object')\n"
          ]
        }
      ]
    },
    {
      "cell_type": "markdown",
      "source": [
        "Double check our datatypes before we proceed with preprocessing and model building. As we can see, all features besides discovery and fire size rank are numerical (of type float or int) so all we have to do is one hot encode the discovery month of the fire."
      ],
      "metadata": {
        "id": "rUR65XIfD407"
      }
    },
    {
      "cell_type": "code",
      "source": [
        "wildfire_set2.info()"
      ],
      "metadata": {
        "id": "Ci06aOQzA-jH",
        "colab": {
          "base_uri": "https://localhost:8080/"
        },
        "outputId": "75bafd6a-893c-4839-ae34-fc5864729012"
      },
      "execution_count": 1076,
      "outputs": [
        {
          "output_type": "stream",
          "name": "stdout",
          "text": [
            "<class 'pandas.core.frame.DataFrame'>\n",
            "Int64Index: 1105 entries, 0 to 1152\n",
            "Data columns (total 19 columns):\n",
            " #   Column           Non-Null Count  Dtype  \n",
            "---  ------           --------------  -----  \n",
            " 0   AcresBurned      1105 non-null   float64\n",
            " 1   Discovery Month  1105 non-null   object \n",
            " 2   AWND             1105 non-null   float64\n",
            " 3   CLDD             1105 non-null   float64\n",
            " 4   DP10             1105 non-null   float64\n",
            " 5   DX90             1105 non-null   float64\n",
            " 6   PRCP             1105 non-null   float64\n",
            " 7   TAVG             1105 non-null   float64\n",
            " 8   TMAX             1105 non-null   float64\n",
            " 9   TMIN             1105 non-null   float64\n",
            " 10  PRCP_6M          1105 non-null   float64\n",
            " 11  PRCP_RS          1105 non-null   float64\n",
            " 12  DX90_2M          1105 non-null   float64\n",
            " 13  DP10_2M          1105 non-null   float64\n",
            " 14  Receives Snow    1105 non-null   int64  \n",
            " 15  Mar_SP           1105 non-null   float64\n",
            " 16  Mar_WC           1105 non-null   float64\n",
            " 17  Mar_Dens         1105 non-null   float64\n",
            " 18  Elevation        1105 non-null   float64\n",
            "dtypes: float64(17), int64(1), object(1)\n",
            "memory usage: 172.7+ KB\n"
          ]
        }
      ]
    },
    {
      "cell_type": "markdown",
      "source": [
        "# Below we use the describe function to get a general outlook on mean, max, min, and percentiles for each of the numerical features in the dataset"
      ],
      "metadata": {
        "id": "2rZh5C6Vna38"
      }
    },
    {
      "cell_type": "code",
      "source": [
        "wildfire_set2.describe().transpose()"
      ],
      "metadata": {
        "id": "v4ei0qVc_rdD",
        "colab": {
          "base_uri": "https://localhost:8080/",
          "height": 614
        },
        "outputId": "0152e2aa-be0f-4da4-9d39-27507765acfe"
      },
      "execution_count": 1077,
      "outputs": [
        {
          "output_type": "execute_result",
          "data": {
            "text/plain": [
              "                count         mean           std       min       25%  \\\n",
              "AcresBurned    1105.0  5205.014480  31284.394585    0.0000   32.0000   \n",
              "AWND           1105.0     6.550679      1.735019    1.3000    5.4000   \n",
              "CLDD           1105.0   279.669683    216.201422    0.0000   77.0000   \n",
              "DP10           1105.0     0.509502      1.296648    0.0000    0.0000   \n",
              "DX90           1105.0    14.961991     11.369550    0.0000    3.0000   \n",
              "PRCP           1105.0     0.231213      0.806560    0.0000    0.0000   \n",
              "TAVG           1105.0    72.610679      9.188062   34.0000   66.0000   \n",
              "TMAX           1105.0    87.442172     11.012137   49.3000   80.1000   \n",
              "TMIN           1105.0    57.779186      8.497258   18.7000   52.7000   \n",
              "PRCP_6M        1105.0    11.244308     10.023728    0.0000    4.2000   \n",
              "PRCP_RS        1105.0    20.578145     16.059792    0.0000   10.1800   \n",
              "DX90_2M        1105.0    21.949321     20.230178    0.0000    2.0000   \n",
              "DP10_2M        1105.0     2.277828      3.515198    0.0000    0.0000   \n",
              "Receives Snow  1105.0     0.428959      0.495152    0.0000    0.0000   \n",
              "Mar_SP         1105.0    30.188959     46.938597    0.0000    0.0000   \n",
              "Mar_WC         1105.0    13.364253     21.364592    0.0000    0.0000   \n",
              "Mar_Dens       1105.0     0.173900      0.217974    0.0000    0.0000   \n",
              "Elevation      1105.0  1761.650055   1611.525884 -203.4096  580.7016   \n",
              "\n",
              "                     50%        75%         max  \n",
              "AcresBurned      87.0000   370.0000  410203.000  \n",
              "AWND              6.5000     7.6000      15.000  \n",
              "CLDD            272.0000   432.0000    1005.000  \n",
              "DP10              0.0000     0.0000      12.000  \n",
              "DX90             16.0000    26.0000      31.000  \n",
              "PRCP              0.0000     0.1000      10.460  \n",
              "TAVG             73.8000    79.3000      97.400  \n",
              "TMAX             89.6000    95.7000     111.600  \n",
              "TMIN             57.9000    63.4000      85.000  \n",
              "PRCP_6M           8.8400    14.5800      67.970  \n",
              "PRCP_RS          15.7400    25.2800      87.180  \n",
              "DX90_2M          16.0000    40.0000      62.000  \n",
              "DP10_2M           1.0000     3.0000      25.000  \n",
              "Receives Snow     0.0000     1.0000       1.000  \n",
              "Mar_SP            0.0000    51.5000     178.500  \n",
              "Mar_WC            0.0000    23.5000      85.000  \n",
              "Mar_Dens          0.0000     0.4200       0.580  \n",
              "Elevation      1289.3544  2398.2648    8743.332  "
            ],
            "text/html": [
              "\n",
              "  <div id=\"df-5b6148d4-71df-4306-b5fa-790b8dc7ff55\">\n",
              "    <div class=\"colab-df-container\">\n",
              "      <div>\n",
              "<style scoped>\n",
              "    .dataframe tbody tr th:only-of-type {\n",
              "        vertical-align: middle;\n",
              "    }\n",
              "\n",
              "    .dataframe tbody tr th {\n",
              "        vertical-align: top;\n",
              "    }\n",
              "\n",
              "    .dataframe thead th {\n",
              "        text-align: right;\n",
              "    }\n",
              "</style>\n",
              "<table border=\"1\" class=\"dataframe\">\n",
              "  <thead>\n",
              "    <tr style=\"text-align: right;\">\n",
              "      <th></th>\n",
              "      <th>count</th>\n",
              "      <th>mean</th>\n",
              "      <th>std</th>\n",
              "      <th>min</th>\n",
              "      <th>25%</th>\n",
              "      <th>50%</th>\n",
              "      <th>75%</th>\n",
              "      <th>max</th>\n",
              "    </tr>\n",
              "  </thead>\n",
              "  <tbody>\n",
              "    <tr>\n",
              "      <th>AcresBurned</th>\n",
              "      <td>1105.0</td>\n",
              "      <td>5205.014480</td>\n",
              "      <td>31284.394585</td>\n",
              "      <td>0.0000</td>\n",
              "      <td>32.0000</td>\n",
              "      <td>87.0000</td>\n",
              "      <td>370.0000</td>\n",
              "      <td>410203.000</td>\n",
              "    </tr>\n",
              "    <tr>\n",
              "      <th>AWND</th>\n",
              "      <td>1105.0</td>\n",
              "      <td>6.550679</td>\n",
              "      <td>1.735019</td>\n",
              "      <td>1.3000</td>\n",
              "      <td>5.4000</td>\n",
              "      <td>6.5000</td>\n",
              "      <td>7.6000</td>\n",
              "      <td>15.000</td>\n",
              "    </tr>\n",
              "    <tr>\n",
              "      <th>CLDD</th>\n",
              "      <td>1105.0</td>\n",
              "      <td>279.669683</td>\n",
              "      <td>216.201422</td>\n",
              "      <td>0.0000</td>\n",
              "      <td>77.0000</td>\n",
              "      <td>272.0000</td>\n",
              "      <td>432.0000</td>\n",
              "      <td>1005.000</td>\n",
              "    </tr>\n",
              "    <tr>\n",
              "      <th>DP10</th>\n",
              "      <td>1105.0</td>\n",
              "      <td>0.509502</td>\n",
              "      <td>1.296648</td>\n",
              "      <td>0.0000</td>\n",
              "      <td>0.0000</td>\n",
              "      <td>0.0000</td>\n",
              "      <td>0.0000</td>\n",
              "      <td>12.000</td>\n",
              "    </tr>\n",
              "    <tr>\n",
              "      <th>DX90</th>\n",
              "      <td>1105.0</td>\n",
              "      <td>14.961991</td>\n",
              "      <td>11.369550</td>\n",
              "      <td>0.0000</td>\n",
              "      <td>3.0000</td>\n",
              "      <td>16.0000</td>\n",
              "      <td>26.0000</td>\n",
              "      <td>31.000</td>\n",
              "    </tr>\n",
              "    <tr>\n",
              "      <th>PRCP</th>\n",
              "      <td>1105.0</td>\n",
              "      <td>0.231213</td>\n",
              "      <td>0.806560</td>\n",
              "      <td>0.0000</td>\n",
              "      <td>0.0000</td>\n",
              "      <td>0.0000</td>\n",
              "      <td>0.1000</td>\n",
              "      <td>10.460</td>\n",
              "    </tr>\n",
              "    <tr>\n",
              "      <th>TAVG</th>\n",
              "      <td>1105.0</td>\n",
              "      <td>72.610679</td>\n",
              "      <td>9.188062</td>\n",
              "      <td>34.0000</td>\n",
              "      <td>66.0000</td>\n",
              "      <td>73.8000</td>\n",
              "      <td>79.3000</td>\n",
              "      <td>97.400</td>\n",
              "    </tr>\n",
              "    <tr>\n",
              "      <th>TMAX</th>\n",
              "      <td>1105.0</td>\n",
              "      <td>87.442172</td>\n",
              "      <td>11.012137</td>\n",
              "      <td>49.3000</td>\n",
              "      <td>80.1000</td>\n",
              "      <td>89.6000</td>\n",
              "      <td>95.7000</td>\n",
              "      <td>111.600</td>\n",
              "    </tr>\n",
              "    <tr>\n",
              "      <th>TMIN</th>\n",
              "      <td>1105.0</td>\n",
              "      <td>57.779186</td>\n",
              "      <td>8.497258</td>\n",
              "      <td>18.7000</td>\n",
              "      <td>52.7000</td>\n",
              "      <td>57.9000</td>\n",
              "      <td>63.4000</td>\n",
              "      <td>85.000</td>\n",
              "    </tr>\n",
              "    <tr>\n",
              "      <th>PRCP_6M</th>\n",
              "      <td>1105.0</td>\n",
              "      <td>11.244308</td>\n",
              "      <td>10.023728</td>\n",
              "      <td>0.0000</td>\n",
              "      <td>4.2000</td>\n",
              "      <td>8.8400</td>\n",
              "      <td>14.5800</td>\n",
              "      <td>67.970</td>\n",
              "    </tr>\n",
              "    <tr>\n",
              "      <th>PRCP_RS</th>\n",
              "      <td>1105.0</td>\n",
              "      <td>20.578145</td>\n",
              "      <td>16.059792</td>\n",
              "      <td>0.0000</td>\n",
              "      <td>10.1800</td>\n",
              "      <td>15.7400</td>\n",
              "      <td>25.2800</td>\n",
              "      <td>87.180</td>\n",
              "    </tr>\n",
              "    <tr>\n",
              "      <th>DX90_2M</th>\n",
              "      <td>1105.0</td>\n",
              "      <td>21.949321</td>\n",
              "      <td>20.230178</td>\n",
              "      <td>0.0000</td>\n",
              "      <td>2.0000</td>\n",
              "      <td>16.0000</td>\n",
              "      <td>40.0000</td>\n",
              "      <td>62.000</td>\n",
              "    </tr>\n",
              "    <tr>\n",
              "      <th>DP10_2M</th>\n",
              "      <td>1105.0</td>\n",
              "      <td>2.277828</td>\n",
              "      <td>3.515198</td>\n",
              "      <td>0.0000</td>\n",
              "      <td>0.0000</td>\n",
              "      <td>1.0000</td>\n",
              "      <td>3.0000</td>\n",
              "      <td>25.000</td>\n",
              "    </tr>\n",
              "    <tr>\n",
              "      <th>Receives Snow</th>\n",
              "      <td>1105.0</td>\n",
              "      <td>0.428959</td>\n",
              "      <td>0.495152</td>\n",
              "      <td>0.0000</td>\n",
              "      <td>0.0000</td>\n",
              "      <td>0.0000</td>\n",
              "      <td>1.0000</td>\n",
              "      <td>1.000</td>\n",
              "    </tr>\n",
              "    <tr>\n",
              "      <th>Mar_SP</th>\n",
              "      <td>1105.0</td>\n",
              "      <td>30.188959</td>\n",
              "      <td>46.938597</td>\n",
              "      <td>0.0000</td>\n",
              "      <td>0.0000</td>\n",
              "      <td>0.0000</td>\n",
              "      <td>51.5000</td>\n",
              "      <td>178.500</td>\n",
              "    </tr>\n",
              "    <tr>\n",
              "      <th>Mar_WC</th>\n",
              "      <td>1105.0</td>\n",
              "      <td>13.364253</td>\n",
              "      <td>21.364592</td>\n",
              "      <td>0.0000</td>\n",
              "      <td>0.0000</td>\n",
              "      <td>0.0000</td>\n",
              "      <td>23.5000</td>\n",
              "      <td>85.000</td>\n",
              "    </tr>\n",
              "    <tr>\n",
              "      <th>Mar_Dens</th>\n",
              "      <td>1105.0</td>\n",
              "      <td>0.173900</td>\n",
              "      <td>0.217974</td>\n",
              "      <td>0.0000</td>\n",
              "      <td>0.0000</td>\n",
              "      <td>0.0000</td>\n",
              "      <td>0.4200</td>\n",
              "      <td>0.580</td>\n",
              "    </tr>\n",
              "    <tr>\n",
              "      <th>Elevation</th>\n",
              "      <td>1105.0</td>\n",
              "      <td>1761.650055</td>\n",
              "      <td>1611.525884</td>\n",
              "      <td>-203.4096</td>\n",
              "      <td>580.7016</td>\n",
              "      <td>1289.3544</td>\n",
              "      <td>2398.2648</td>\n",
              "      <td>8743.332</td>\n",
              "    </tr>\n",
              "  </tbody>\n",
              "</table>\n",
              "</div>\n",
              "      <button class=\"colab-df-convert\" onclick=\"convertToInteractive('df-5b6148d4-71df-4306-b5fa-790b8dc7ff55')\"\n",
              "              title=\"Convert this dataframe to an interactive table.\"\n",
              "              style=\"display:none;\">\n",
              "        \n",
              "  <svg xmlns=\"http://www.w3.org/2000/svg\" height=\"24px\"viewBox=\"0 0 24 24\"\n",
              "       width=\"24px\">\n",
              "    <path d=\"M0 0h24v24H0V0z\" fill=\"none\"/>\n",
              "    <path d=\"M18.56 5.44l.94 2.06.94-2.06 2.06-.94-2.06-.94-.94-2.06-.94 2.06-2.06.94zm-11 1L8.5 8.5l.94-2.06 2.06-.94-2.06-.94L8.5 2.5l-.94 2.06-2.06.94zm10 10l.94 2.06.94-2.06 2.06-.94-2.06-.94-.94-2.06-.94 2.06-2.06.94z\"/><path d=\"M17.41 7.96l-1.37-1.37c-.4-.4-.92-.59-1.43-.59-.52 0-1.04.2-1.43.59L10.3 9.45l-7.72 7.72c-.78.78-.78 2.05 0 2.83L4 21.41c.39.39.9.59 1.41.59.51 0 1.02-.2 1.41-.59l7.78-7.78 2.81-2.81c.8-.78.8-2.07 0-2.86zM5.41 20L4 18.59l7.72-7.72 1.47 1.35L5.41 20z\"/>\n",
              "  </svg>\n",
              "      </button>\n",
              "      \n",
              "  <style>\n",
              "    .colab-df-container {\n",
              "      display:flex;\n",
              "      flex-wrap:wrap;\n",
              "      gap: 12px;\n",
              "    }\n",
              "\n",
              "    .colab-df-convert {\n",
              "      background-color: #E8F0FE;\n",
              "      border: none;\n",
              "      border-radius: 50%;\n",
              "      cursor: pointer;\n",
              "      display: none;\n",
              "      fill: #1967D2;\n",
              "      height: 32px;\n",
              "      padding: 0 0 0 0;\n",
              "      width: 32px;\n",
              "    }\n",
              "\n",
              "    .colab-df-convert:hover {\n",
              "      background-color: #E2EBFA;\n",
              "      box-shadow: 0px 1px 2px rgba(60, 64, 67, 0.3), 0px 1px 3px 1px rgba(60, 64, 67, 0.15);\n",
              "      fill: #174EA6;\n",
              "    }\n",
              "\n",
              "    [theme=dark] .colab-df-convert {\n",
              "      background-color: #3B4455;\n",
              "      fill: #D2E3FC;\n",
              "    }\n",
              "\n",
              "    [theme=dark] .colab-df-convert:hover {\n",
              "      background-color: #434B5C;\n",
              "      box-shadow: 0px 1px 3px 1px rgba(0, 0, 0, 0.15);\n",
              "      filter: drop-shadow(0px 1px 2px rgba(0, 0, 0, 0.3));\n",
              "      fill: #FFFFFF;\n",
              "    }\n",
              "  </style>\n",
              "\n",
              "      <script>\n",
              "        const buttonEl =\n",
              "          document.querySelector('#df-5b6148d4-71df-4306-b5fa-790b8dc7ff55 button.colab-df-convert');\n",
              "        buttonEl.style.display =\n",
              "          google.colab.kernel.accessAllowed ? 'block' : 'none';\n",
              "\n",
              "        async function convertToInteractive(key) {\n",
              "          const element = document.querySelector('#df-5b6148d4-71df-4306-b5fa-790b8dc7ff55');\n",
              "          const dataTable =\n",
              "            await google.colab.kernel.invokeFunction('convertToInteractive',\n",
              "                                                     [key], {});\n",
              "          if (!dataTable) return;\n",
              "\n",
              "          const docLinkHtml = 'Like what you see? Visit the ' +\n",
              "            '<a target=\"_blank\" href=https://colab.research.google.com/notebooks/data_table.ipynb>data table notebook</a>'\n",
              "            + ' to learn more about interactive tables.';\n",
              "          element.innerHTML = '';\n",
              "          dataTable['output_type'] = 'display_data';\n",
              "          await google.colab.output.renderOutput(dataTable, element);\n",
              "          const docLink = document.createElement('div');\n",
              "          docLink.innerHTML = docLinkHtml;\n",
              "          element.appendChild(docLink);\n",
              "        }\n",
              "      </script>\n",
              "    </div>\n",
              "  </div>\n",
              "  "
            ]
          },
          "metadata": {},
          "execution_count": 1077
        }
      ]
    },
    {
      "cell_type": "markdown",
      "source": [
        "# Some Interesting Takeaways:\n",
        "*   Acres Burned has an average of 5200 acres yet the 50th percentile fire only has 87 acres burned. This tells us there are some extremely massive fires in this dataset contributing to this large mean acres burned\n",
        "*   DP10 and PRCP look to not be the best distinguishing features as 0-50th percentile for both all have 0. This can be attributed to the vast majority of the state of California having undergone extreme drought conditions during the last decade (with some exceptions in rainy coastal areas in Northern California)\n",
        "*  The temperature features seem to have a wide spread which is good\n",
        "*  Three of our engineered weather features DX90_2M, PRCP_6M, PRCP_RS seem to have a healthy spread and diverse values which is good\n",
        "*   Average Elevation that fires in the dataset occurred at is 1760 ft. with 75% occuring under 2398 ft. Interesting to see that most fires begin at lower elevations\n",
        "\n",
        "\n",
        "\n",
        "\n",
        "\n"
      ],
      "metadata": {
        "id": "ZJ0ZOwCVUufx"
      }
    },
    {
      "cell_type": "markdown",
      "source": [
        "# One-Hot Encoding Categorical Variables\n",
        "\n",
        "\n",
        "*   Encode the discovery month (the only categorical variable) in both datasets\n",
        "\n"
      ],
      "metadata": {
        "id": "3waScPx3njr9"
      }
    },
    {
      "cell_type": "code",
      "source": [
        "#Add the dummy columns to the dataset\n",
        "dummy_month = pd.get_dummies(wildfire_set2['Discovery Month'])\n",
        "wildfire_set2 = pd.merge(left = wildfire_set2, right = dummy_month, left_index = True, right_index = True)\n",
        "wildfire_set2 = wildfire_set2.drop(columns = ['Discovery Month'])\n",
        "wildfire_set2.head(10)"
      ],
      "metadata": {
        "id": "C4NMBTL2nrno",
        "outputId": "fe156e83-534b-40e2-dcf1-63b6b9dbca9c",
        "colab": {
          "base_uri": "https://localhost:8080/",
          "height": 392
        }
      },
      "execution_count": 1078,
      "outputs": [
        {
          "output_type": "execute_result",
          "data": {
            "text/plain": [
              "   AcresBurned  AWND   CLDD  DP10  DX90  PRCP  TAVG  TMAX  TMIN  PRCP_6M  ...  \\\n",
              "0     132127.0   6.5    0.0   0.0   0.0  0.00  58.8  65.2  52.4    14.11  ...   \n",
              "1      48019.0   6.7  529.0   0.0  22.0  0.00  82.6  96.6  68.6     4.68  ...   \n",
              "2      46344.0   6.9  237.0   0.0  23.0  0.00  72.6  92.6  52.6     2.52  ...   \n",
              "3      36274.0   6.5  455.0   0.0  28.0  0.00  79.7  94.6  64.7     3.41  ...   \n",
              "4      33867.0   4.5    0.0   0.0   0.0  0.02  56.4  62.9  49.9    18.03  ...   \n",
              "5      29322.0   6.0  629.0   0.0  31.0  0.00  85.3  99.2  71.4     2.15  ...   \n",
              "6      12518.0   6.3   53.0   0.0   3.0  0.00  64.1  76.2  52.0     3.84  ...   \n",
              "7       8110.0   6.5  455.0   0.0  28.0  0.00  79.7  94.6  64.7     3.41  ...   \n",
              "8       7609.0   8.3  216.0   0.0  18.0  0.00  71.2  91.5  50.9     7.63  ...   \n",
              "9       7474.0   5.6   19.0   0.0   0.0  0.01  63.1  71.0  55.3     9.62  ...   \n",
              "\n",
              "   Dec  Feb  Jan  Jul  Jun  Mar  May  Nov  Oct  Sep  \n",
              "0    0    0    0    1    0    0    0    0    0    0  \n",
              "1    0    0    0    0    1    0    0    0    0    0  \n",
              "2    0    0    0    0    0    0    0    0    0    0  \n",
              "3    0    0    0    0    0    0    0    0    0    0  \n",
              "4    0    0    0    0    0    0    0    0    0    0  \n",
              "5    0    0    0    0    0    0    0    0    0    0  \n",
              "6    0    0    0    0    0    0    0    0    0    1  \n",
              "7    0    0    0    0    0    0    0    0    0    0  \n",
              "8    0    0    0    0    1    0    0    0    0    0  \n",
              "9    0    0    0    0    1    0    0    0    0    0  \n",
              "\n",
              "[10 rows x 30 columns]"
            ],
            "text/html": [
              "\n",
              "  <div id=\"df-7fe15042-e5d5-4f30-b8a1-486c99573d65\">\n",
              "    <div class=\"colab-df-container\">\n",
              "      <div>\n",
              "<style scoped>\n",
              "    .dataframe tbody tr th:only-of-type {\n",
              "        vertical-align: middle;\n",
              "    }\n",
              "\n",
              "    .dataframe tbody tr th {\n",
              "        vertical-align: top;\n",
              "    }\n",
              "\n",
              "    .dataframe thead th {\n",
              "        text-align: right;\n",
              "    }\n",
              "</style>\n",
              "<table border=\"1\" class=\"dataframe\">\n",
              "  <thead>\n",
              "    <tr style=\"text-align: right;\">\n",
              "      <th></th>\n",
              "      <th>AcresBurned</th>\n",
              "      <th>AWND</th>\n",
              "      <th>CLDD</th>\n",
              "      <th>DP10</th>\n",
              "      <th>DX90</th>\n",
              "      <th>PRCP</th>\n",
              "      <th>TAVG</th>\n",
              "      <th>TMAX</th>\n",
              "      <th>TMIN</th>\n",
              "      <th>PRCP_6M</th>\n",
              "      <th>...</th>\n",
              "      <th>Dec</th>\n",
              "      <th>Feb</th>\n",
              "      <th>Jan</th>\n",
              "      <th>Jul</th>\n",
              "      <th>Jun</th>\n",
              "      <th>Mar</th>\n",
              "      <th>May</th>\n",
              "      <th>Nov</th>\n",
              "      <th>Oct</th>\n",
              "      <th>Sep</th>\n",
              "    </tr>\n",
              "  </thead>\n",
              "  <tbody>\n",
              "    <tr>\n",
              "      <th>0</th>\n",
              "      <td>132127.0</td>\n",
              "      <td>6.5</td>\n",
              "      <td>0.0</td>\n",
              "      <td>0.0</td>\n",
              "      <td>0.0</td>\n",
              "      <td>0.00</td>\n",
              "      <td>58.8</td>\n",
              "      <td>65.2</td>\n",
              "      <td>52.4</td>\n",
              "      <td>14.11</td>\n",
              "      <td>...</td>\n",
              "      <td>0</td>\n",
              "      <td>0</td>\n",
              "      <td>0</td>\n",
              "      <td>1</td>\n",
              "      <td>0</td>\n",
              "      <td>0</td>\n",
              "      <td>0</td>\n",
              "      <td>0</td>\n",
              "      <td>0</td>\n",
              "      <td>0</td>\n",
              "    </tr>\n",
              "    <tr>\n",
              "      <th>1</th>\n",
              "      <td>48019.0</td>\n",
              "      <td>6.7</td>\n",
              "      <td>529.0</td>\n",
              "      <td>0.0</td>\n",
              "      <td>22.0</td>\n",
              "      <td>0.00</td>\n",
              "      <td>82.6</td>\n",
              "      <td>96.6</td>\n",
              "      <td>68.6</td>\n",
              "      <td>4.68</td>\n",
              "      <td>...</td>\n",
              "      <td>0</td>\n",
              "      <td>0</td>\n",
              "      <td>0</td>\n",
              "      <td>0</td>\n",
              "      <td>1</td>\n",
              "      <td>0</td>\n",
              "      <td>0</td>\n",
              "      <td>0</td>\n",
              "      <td>0</td>\n",
              "      <td>0</td>\n",
              "    </tr>\n",
              "    <tr>\n",
              "      <th>2</th>\n",
              "      <td>46344.0</td>\n",
              "      <td>6.9</td>\n",
              "      <td>237.0</td>\n",
              "      <td>0.0</td>\n",
              "      <td>23.0</td>\n",
              "      <td>0.00</td>\n",
              "      <td>72.6</td>\n",
              "      <td>92.6</td>\n",
              "      <td>52.6</td>\n",
              "      <td>2.52</td>\n",
              "      <td>...</td>\n",
              "      <td>0</td>\n",
              "      <td>0</td>\n",
              "      <td>0</td>\n",
              "      <td>0</td>\n",
              "      <td>0</td>\n",
              "      <td>0</td>\n",
              "      <td>0</td>\n",
              "      <td>0</td>\n",
              "      <td>0</td>\n",
              "      <td>0</td>\n",
              "    </tr>\n",
              "    <tr>\n",
              "      <th>3</th>\n",
              "      <td>36274.0</td>\n",
              "      <td>6.5</td>\n",
              "      <td>455.0</td>\n",
              "      <td>0.0</td>\n",
              "      <td>28.0</td>\n",
              "      <td>0.00</td>\n",
              "      <td>79.7</td>\n",
              "      <td>94.6</td>\n",
              "      <td>64.7</td>\n",
              "      <td>3.41</td>\n",
              "      <td>...</td>\n",
              "      <td>0</td>\n",
              "      <td>0</td>\n",
              "      <td>0</td>\n",
              "      <td>0</td>\n",
              "      <td>0</td>\n",
              "      <td>0</td>\n",
              "      <td>0</td>\n",
              "      <td>0</td>\n",
              "      <td>0</td>\n",
              "      <td>0</td>\n",
              "    </tr>\n",
              "    <tr>\n",
              "      <th>4</th>\n",
              "      <td>33867.0</td>\n",
              "      <td>4.5</td>\n",
              "      <td>0.0</td>\n",
              "      <td>0.0</td>\n",
              "      <td>0.0</td>\n",
              "      <td>0.02</td>\n",
              "      <td>56.4</td>\n",
              "      <td>62.9</td>\n",
              "      <td>49.9</td>\n",
              "      <td>18.03</td>\n",
              "      <td>...</td>\n",
              "      <td>0</td>\n",
              "      <td>0</td>\n",
              "      <td>0</td>\n",
              "      <td>0</td>\n",
              "      <td>0</td>\n",
              "      <td>0</td>\n",
              "      <td>0</td>\n",
              "      <td>0</td>\n",
              "      <td>0</td>\n",
              "      <td>0</td>\n",
              "    </tr>\n",
              "    <tr>\n",
              "      <th>5</th>\n",
              "      <td>29322.0</td>\n",
              "      <td>6.0</td>\n",
              "      <td>629.0</td>\n",
              "      <td>0.0</td>\n",
              "      <td>31.0</td>\n",
              "      <td>0.00</td>\n",
              "      <td>85.3</td>\n",
              "      <td>99.2</td>\n",
              "      <td>71.4</td>\n",
              "      <td>2.15</td>\n",
              "      <td>...</td>\n",
              "      <td>0</td>\n",
              "      <td>0</td>\n",
              "      <td>0</td>\n",
              "      <td>0</td>\n",
              "      <td>0</td>\n",
              "      <td>0</td>\n",
              "      <td>0</td>\n",
              "      <td>0</td>\n",
              "      <td>0</td>\n",
              "      <td>0</td>\n",
              "    </tr>\n",
              "    <tr>\n",
              "      <th>6</th>\n",
              "      <td>12518.0</td>\n",
              "      <td>6.3</td>\n",
              "      <td>53.0</td>\n",
              "      <td>0.0</td>\n",
              "      <td>3.0</td>\n",
              "      <td>0.00</td>\n",
              "      <td>64.1</td>\n",
              "      <td>76.2</td>\n",
              "      <td>52.0</td>\n",
              "      <td>3.84</td>\n",
              "      <td>...</td>\n",
              "      <td>0</td>\n",
              "      <td>0</td>\n",
              "      <td>0</td>\n",
              "      <td>0</td>\n",
              "      <td>0</td>\n",
              "      <td>0</td>\n",
              "      <td>0</td>\n",
              "      <td>0</td>\n",
              "      <td>0</td>\n",
              "      <td>1</td>\n",
              "    </tr>\n",
              "    <tr>\n",
              "      <th>7</th>\n",
              "      <td>8110.0</td>\n",
              "      <td>6.5</td>\n",
              "      <td>455.0</td>\n",
              "      <td>0.0</td>\n",
              "      <td>28.0</td>\n",
              "      <td>0.00</td>\n",
              "      <td>79.7</td>\n",
              "      <td>94.6</td>\n",
              "      <td>64.7</td>\n",
              "      <td>3.41</td>\n",
              "      <td>...</td>\n",
              "      <td>0</td>\n",
              "      <td>0</td>\n",
              "      <td>0</td>\n",
              "      <td>0</td>\n",
              "      <td>0</td>\n",
              "      <td>0</td>\n",
              "      <td>0</td>\n",
              "      <td>0</td>\n",
              "      <td>0</td>\n",
              "      <td>0</td>\n",
              "    </tr>\n",
              "    <tr>\n",
              "      <th>8</th>\n",
              "      <td>7609.0</td>\n",
              "      <td>8.3</td>\n",
              "      <td>216.0</td>\n",
              "      <td>0.0</td>\n",
              "      <td>18.0</td>\n",
              "      <td>0.00</td>\n",
              "      <td>71.2</td>\n",
              "      <td>91.5</td>\n",
              "      <td>50.9</td>\n",
              "      <td>7.63</td>\n",
              "      <td>...</td>\n",
              "      <td>0</td>\n",
              "      <td>0</td>\n",
              "      <td>0</td>\n",
              "      <td>0</td>\n",
              "      <td>1</td>\n",
              "      <td>0</td>\n",
              "      <td>0</td>\n",
              "      <td>0</td>\n",
              "      <td>0</td>\n",
              "      <td>0</td>\n",
              "    </tr>\n",
              "    <tr>\n",
              "      <th>9</th>\n",
              "      <td>7474.0</td>\n",
              "      <td>5.6</td>\n",
              "      <td>19.0</td>\n",
              "      <td>0.0</td>\n",
              "      <td>0.0</td>\n",
              "      <td>0.01</td>\n",
              "      <td>63.1</td>\n",
              "      <td>71.0</td>\n",
              "      <td>55.3</td>\n",
              "      <td>9.62</td>\n",
              "      <td>...</td>\n",
              "      <td>0</td>\n",
              "      <td>0</td>\n",
              "      <td>0</td>\n",
              "      <td>0</td>\n",
              "      <td>1</td>\n",
              "      <td>0</td>\n",
              "      <td>0</td>\n",
              "      <td>0</td>\n",
              "      <td>0</td>\n",
              "      <td>0</td>\n",
              "    </tr>\n",
              "  </tbody>\n",
              "</table>\n",
              "<p>10 rows × 30 columns</p>\n",
              "</div>\n",
              "      <button class=\"colab-df-convert\" onclick=\"convertToInteractive('df-7fe15042-e5d5-4f30-b8a1-486c99573d65')\"\n",
              "              title=\"Convert this dataframe to an interactive table.\"\n",
              "              style=\"display:none;\">\n",
              "        \n",
              "  <svg xmlns=\"http://www.w3.org/2000/svg\" height=\"24px\"viewBox=\"0 0 24 24\"\n",
              "       width=\"24px\">\n",
              "    <path d=\"M0 0h24v24H0V0z\" fill=\"none\"/>\n",
              "    <path d=\"M18.56 5.44l.94 2.06.94-2.06 2.06-.94-2.06-.94-.94-2.06-.94 2.06-2.06.94zm-11 1L8.5 8.5l.94-2.06 2.06-.94-2.06-.94L8.5 2.5l-.94 2.06-2.06.94zm10 10l.94 2.06.94-2.06 2.06-.94-2.06-.94-.94-2.06-.94 2.06-2.06.94z\"/><path d=\"M17.41 7.96l-1.37-1.37c-.4-.4-.92-.59-1.43-.59-.52 0-1.04.2-1.43.59L10.3 9.45l-7.72 7.72c-.78.78-.78 2.05 0 2.83L4 21.41c.39.39.9.59 1.41.59.51 0 1.02-.2 1.41-.59l7.78-7.78 2.81-2.81c.8-.78.8-2.07 0-2.86zM5.41 20L4 18.59l7.72-7.72 1.47 1.35L5.41 20z\"/>\n",
              "  </svg>\n",
              "      </button>\n",
              "      \n",
              "  <style>\n",
              "    .colab-df-container {\n",
              "      display:flex;\n",
              "      flex-wrap:wrap;\n",
              "      gap: 12px;\n",
              "    }\n",
              "\n",
              "    .colab-df-convert {\n",
              "      background-color: #E8F0FE;\n",
              "      border: none;\n",
              "      border-radius: 50%;\n",
              "      cursor: pointer;\n",
              "      display: none;\n",
              "      fill: #1967D2;\n",
              "      height: 32px;\n",
              "      padding: 0 0 0 0;\n",
              "      width: 32px;\n",
              "    }\n",
              "\n",
              "    .colab-df-convert:hover {\n",
              "      background-color: #E2EBFA;\n",
              "      box-shadow: 0px 1px 2px rgba(60, 64, 67, 0.3), 0px 1px 3px 1px rgba(60, 64, 67, 0.15);\n",
              "      fill: #174EA6;\n",
              "    }\n",
              "\n",
              "    [theme=dark] .colab-df-convert {\n",
              "      background-color: #3B4455;\n",
              "      fill: #D2E3FC;\n",
              "    }\n",
              "\n",
              "    [theme=dark] .colab-df-convert:hover {\n",
              "      background-color: #434B5C;\n",
              "      box-shadow: 0px 1px 3px 1px rgba(0, 0, 0, 0.15);\n",
              "      filter: drop-shadow(0px 1px 2px rgba(0, 0, 0, 0.3));\n",
              "      fill: #FFFFFF;\n",
              "    }\n",
              "  </style>\n",
              "\n",
              "      <script>\n",
              "        const buttonEl =\n",
              "          document.querySelector('#df-7fe15042-e5d5-4f30-b8a1-486c99573d65 button.colab-df-convert');\n",
              "        buttonEl.style.display =\n",
              "          google.colab.kernel.accessAllowed ? 'block' : 'none';\n",
              "\n",
              "        async function convertToInteractive(key) {\n",
              "          const element = document.querySelector('#df-7fe15042-e5d5-4f30-b8a1-486c99573d65');\n",
              "          const dataTable =\n",
              "            await google.colab.kernel.invokeFunction('convertToInteractive',\n",
              "                                                     [key], {});\n",
              "          if (!dataTable) return;\n",
              "\n",
              "          const docLinkHtml = 'Like what you see? Visit the ' +\n",
              "            '<a target=\"_blank\" href=https://colab.research.google.com/notebooks/data_table.ipynb>data table notebook</a>'\n",
              "            + ' to learn more about interactive tables.';\n",
              "          element.innerHTML = '';\n",
              "          dataTable['output_type'] = 'display_data';\n",
              "          await google.colab.output.renderOutput(dataTable, element);\n",
              "          const docLink = document.createElement('div');\n",
              "          docLink.innerHTML = docLinkHtml;\n",
              "          element.appendChild(docLink);\n",
              "        }\n",
              "      </script>\n",
              "    </div>\n",
              "  </div>\n",
              "  "
            ]
          },
          "metadata": {},
          "execution_count": 1078
        }
      ]
    },
    {
      "cell_type": "code",
      "source": [
        "#Radomly Shuffle the dataframe to get rid of any pre-existing organization based on size\n",
        "wildfire_set2 = wildfire_set2.sample(frac=1).reset_index(drop=True)"
      ],
      "metadata": {
        "id": "2ZGbL3aDqn3J"
      },
      "execution_count": 1079,
      "outputs": []
    },
    {
      "cell_type": "code",
      "source": [
        "wildfire_set2.head()"
      ],
      "metadata": {
        "id": "c3TE3f7hXhpU",
        "outputId": "7182a0a0-2472-41e7-b99e-30f5b8b1be69",
        "colab": {
          "base_uri": "https://localhost:8080/",
          "height": 235
        }
      },
      "execution_count": 1080,
      "outputs": [
        {
          "output_type": "execute_result",
          "data": {
            "text/plain": [
              "   AcresBurned  AWND   CLDD  DP10  DX90  PRCP  TAVG   TMAX  TMIN  PRCP_6M  \\\n",
              "0         44.0   8.1  277.0   0.0  11.0  0.07  73.9   88.2  59.6    10.81   \n",
              "1         31.0   5.1  674.0   0.0  30.0  0.00  86.7  103.2  70.3    14.05   \n",
              "2         33.0   6.0  274.0   0.0  21.0  0.00  74.1   91.6  56.6     7.45   \n",
              "3      17357.0   4.7   31.0   1.0   5.0  0.21  62.2   81.4  43.1     4.89   \n",
              "4        150.0   4.5  112.0   0.0   0.0  0.00  68.6   76.9  60.3     8.96   \n",
              "\n",
              "   ...  Dec  Feb  Jan  Jul  Jun  Mar  May  Nov  Oct  Sep  \n",
              "0  ...    0    0    0    0    0    0    0    0    0    0  \n",
              "1  ...    0    0    0    1    0    0    0    0    0    0  \n",
              "2  ...    0    0    0    0    0    0    0    0    0    1  \n",
              "3  ...    0    0    0    0    0    0    0    0    1    0  \n",
              "4  ...    0    0    0    1    0    0    0    0    0    0  \n",
              "\n",
              "[5 rows x 30 columns]"
            ],
            "text/html": [
              "\n",
              "  <div id=\"df-5f75a9dd-d822-41f2-97d3-f1c1bf6c6c6a\">\n",
              "    <div class=\"colab-df-container\">\n",
              "      <div>\n",
              "<style scoped>\n",
              "    .dataframe tbody tr th:only-of-type {\n",
              "        vertical-align: middle;\n",
              "    }\n",
              "\n",
              "    .dataframe tbody tr th {\n",
              "        vertical-align: top;\n",
              "    }\n",
              "\n",
              "    .dataframe thead th {\n",
              "        text-align: right;\n",
              "    }\n",
              "</style>\n",
              "<table border=\"1\" class=\"dataframe\">\n",
              "  <thead>\n",
              "    <tr style=\"text-align: right;\">\n",
              "      <th></th>\n",
              "      <th>AcresBurned</th>\n",
              "      <th>AWND</th>\n",
              "      <th>CLDD</th>\n",
              "      <th>DP10</th>\n",
              "      <th>DX90</th>\n",
              "      <th>PRCP</th>\n",
              "      <th>TAVG</th>\n",
              "      <th>TMAX</th>\n",
              "      <th>TMIN</th>\n",
              "      <th>PRCP_6M</th>\n",
              "      <th>...</th>\n",
              "      <th>Dec</th>\n",
              "      <th>Feb</th>\n",
              "      <th>Jan</th>\n",
              "      <th>Jul</th>\n",
              "      <th>Jun</th>\n",
              "      <th>Mar</th>\n",
              "      <th>May</th>\n",
              "      <th>Nov</th>\n",
              "      <th>Oct</th>\n",
              "      <th>Sep</th>\n",
              "    </tr>\n",
              "  </thead>\n",
              "  <tbody>\n",
              "    <tr>\n",
              "      <th>0</th>\n",
              "      <td>44.0</td>\n",
              "      <td>8.1</td>\n",
              "      <td>277.0</td>\n",
              "      <td>0.0</td>\n",
              "      <td>11.0</td>\n",
              "      <td>0.07</td>\n",
              "      <td>73.9</td>\n",
              "      <td>88.2</td>\n",
              "      <td>59.6</td>\n",
              "      <td>10.81</td>\n",
              "      <td>...</td>\n",
              "      <td>0</td>\n",
              "      <td>0</td>\n",
              "      <td>0</td>\n",
              "      <td>0</td>\n",
              "      <td>0</td>\n",
              "      <td>0</td>\n",
              "      <td>0</td>\n",
              "      <td>0</td>\n",
              "      <td>0</td>\n",
              "      <td>0</td>\n",
              "    </tr>\n",
              "    <tr>\n",
              "      <th>1</th>\n",
              "      <td>31.0</td>\n",
              "      <td>5.1</td>\n",
              "      <td>674.0</td>\n",
              "      <td>0.0</td>\n",
              "      <td>30.0</td>\n",
              "      <td>0.00</td>\n",
              "      <td>86.7</td>\n",
              "      <td>103.2</td>\n",
              "      <td>70.3</td>\n",
              "      <td>14.05</td>\n",
              "      <td>...</td>\n",
              "      <td>0</td>\n",
              "      <td>0</td>\n",
              "      <td>0</td>\n",
              "      <td>1</td>\n",
              "      <td>0</td>\n",
              "      <td>0</td>\n",
              "      <td>0</td>\n",
              "      <td>0</td>\n",
              "      <td>0</td>\n",
              "      <td>0</td>\n",
              "    </tr>\n",
              "    <tr>\n",
              "      <th>2</th>\n",
              "      <td>33.0</td>\n",
              "      <td>6.0</td>\n",
              "      <td>274.0</td>\n",
              "      <td>0.0</td>\n",
              "      <td>21.0</td>\n",
              "      <td>0.00</td>\n",
              "      <td>74.1</td>\n",
              "      <td>91.6</td>\n",
              "      <td>56.6</td>\n",
              "      <td>7.45</td>\n",
              "      <td>...</td>\n",
              "      <td>0</td>\n",
              "      <td>0</td>\n",
              "      <td>0</td>\n",
              "      <td>0</td>\n",
              "      <td>0</td>\n",
              "      <td>0</td>\n",
              "      <td>0</td>\n",
              "      <td>0</td>\n",
              "      <td>0</td>\n",
              "      <td>1</td>\n",
              "    </tr>\n",
              "    <tr>\n",
              "      <th>3</th>\n",
              "      <td>17357.0</td>\n",
              "      <td>4.7</td>\n",
              "      <td>31.0</td>\n",
              "      <td>1.0</td>\n",
              "      <td>5.0</td>\n",
              "      <td>0.21</td>\n",
              "      <td>62.2</td>\n",
              "      <td>81.4</td>\n",
              "      <td>43.1</td>\n",
              "      <td>4.89</td>\n",
              "      <td>...</td>\n",
              "      <td>0</td>\n",
              "      <td>0</td>\n",
              "      <td>0</td>\n",
              "      <td>0</td>\n",
              "      <td>0</td>\n",
              "      <td>0</td>\n",
              "      <td>0</td>\n",
              "      <td>0</td>\n",
              "      <td>1</td>\n",
              "      <td>0</td>\n",
              "    </tr>\n",
              "    <tr>\n",
              "      <th>4</th>\n",
              "      <td>150.0</td>\n",
              "      <td>4.5</td>\n",
              "      <td>112.0</td>\n",
              "      <td>0.0</td>\n",
              "      <td>0.0</td>\n",
              "      <td>0.00</td>\n",
              "      <td>68.6</td>\n",
              "      <td>76.9</td>\n",
              "      <td>60.3</td>\n",
              "      <td>8.96</td>\n",
              "      <td>...</td>\n",
              "      <td>0</td>\n",
              "      <td>0</td>\n",
              "      <td>0</td>\n",
              "      <td>1</td>\n",
              "      <td>0</td>\n",
              "      <td>0</td>\n",
              "      <td>0</td>\n",
              "      <td>0</td>\n",
              "      <td>0</td>\n",
              "      <td>0</td>\n",
              "    </tr>\n",
              "  </tbody>\n",
              "</table>\n",
              "<p>5 rows × 30 columns</p>\n",
              "</div>\n",
              "      <button class=\"colab-df-convert\" onclick=\"convertToInteractive('df-5f75a9dd-d822-41f2-97d3-f1c1bf6c6c6a')\"\n",
              "              title=\"Convert this dataframe to an interactive table.\"\n",
              "              style=\"display:none;\">\n",
              "        \n",
              "  <svg xmlns=\"http://www.w3.org/2000/svg\" height=\"24px\"viewBox=\"0 0 24 24\"\n",
              "       width=\"24px\">\n",
              "    <path d=\"M0 0h24v24H0V0z\" fill=\"none\"/>\n",
              "    <path d=\"M18.56 5.44l.94 2.06.94-2.06 2.06-.94-2.06-.94-.94-2.06-.94 2.06-2.06.94zm-11 1L8.5 8.5l.94-2.06 2.06-.94-2.06-.94L8.5 2.5l-.94 2.06-2.06.94zm10 10l.94 2.06.94-2.06 2.06-.94-2.06-.94-.94-2.06-.94 2.06-2.06.94z\"/><path d=\"M17.41 7.96l-1.37-1.37c-.4-.4-.92-.59-1.43-.59-.52 0-1.04.2-1.43.59L10.3 9.45l-7.72 7.72c-.78.78-.78 2.05 0 2.83L4 21.41c.39.39.9.59 1.41.59.51 0 1.02-.2 1.41-.59l7.78-7.78 2.81-2.81c.8-.78.8-2.07 0-2.86zM5.41 20L4 18.59l7.72-7.72 1.47 1.35L5.41 20z\"/>\n",
              "  </svg>\n",
              "      </button>\n",
              "      \n",
              "  <style>\n",
              "    .colab-df-container {\n",
              "      display:flex;\n",
              "      flex-wrap:wrap;\n",
              "      gap: 12px;\n",
              "    }\n",
              "\n",
              "    .colab-df-convert {\n",
              "      background-color: #E8F0FE;\n",
              "      border: none;\n",
              "      border-radius: 50%;\n",
              "      cursor: pointer;\n",
              "      display: none;\n",
              "      fill: #1967D2;\n",
              "      height: 32px;\n",
              "      padding: 0 0 0 0;\n",
              "      width: 32px;\n",
              "    }\n",
              "\n",
              "    .colab-df-convert:hover {\n",
              "      background-color: #E2EBFA;\n",
              "      box-shadow: 0px 1px 2px rgba(60, 64, 67, 0.3), 0px 1px 3px 1px rgba(60, 64, 67, 0.15);\n",
              "      fill: #174EA6;\n",
              "    }\n",
              "\n",
              "    [theme=dark] .colab-df-convert {\n",
              "      background-color: #3B4455;\n",
              "      fill: #D2E3FC;\n",
              "    }\n",
              "\n",
              "    [theme=dark] .colab-df-convert:hover {\n",
              "      background-color: #434B5C;\n",
              "      box-shadow: 0px 1px 3px 1px rgba(0, 0, 0, 0.15);\n",
              "      filter: drop-shadow(0px 1px 2px rgba(0, 0, 0, 0.3));\n",
              "      fill: #FFFFFF;\n",
              "    }\n",
              "  </style>\n",
              "\n",
              "      <script>\n",
              "        const buttonEl =\n",
              "          document.querySelector('#df-5f75a9dd-d822-41f2-97d3-f1c1bf6c6c6a button.colab-df-convert');\n",
              "        buttonEl.style.display =\n",
              "          google.colab.kernel.accessAllowed ? 'block' : 'none';\n",
              "\n",
              "        async function convertToInteractive(key) {\n",
              "          const element = document.querySelector('#df-5f75a9dd-d822-41f2-97d3-f1c1bf6c6c6a');\n",
              "          const dataTable =\n",
              "            await google.colab.kernel.invokeFunction('convertToInteractive',\n",
              "                                                     [key], {});\n",
              "          if (!dataTable) return;\n",
              "\n",
              "          const docLinkHtml = 'Like what you see? Visit the ' +\n",
              "            '<a target=\"_blank\" href=https://colab.research.google.com/notebooks/data_table.ipynb>data table notebook</a>'\n",
              "            + ' to learn more about interactive tables.';\n",
              "          element.innerHTML = '';\n",
              "          dataTable['output_type'] = 'display_data';\n",
              "          await google.colab.output.renderOutput(dataTable, element);\n",
              "          const docLink = document.createElement('div');\n",
              "          docLink.innerHTML = docLinkHtml;\n",
              "          element.appendChild(docLink);\n",
              "        }\n",
              "      </script>\n",
              "    </div>\n",
              "  </div>\n",
              "  "
            ]
          },
          "metadata": {},
          "execution_count": 1080
        }
      ]
    },
    {
      "cell_type": "code",
      "source": [
        "#Write the clean, encoded, and randomly shuffled data to csv before continuing \n",
        "wildfire_set2.to_csv('wildfire2_regression_clean.csv')"
      ],
      "metadata": {
        "id": "K6UaNKNepeE-"
      },
      "execution_count": 1081,
      "outputs": []
    },
    {
      "cell_type": "markdown",
      "source": [
        "Split the data into train-test sets"
      ],
      "metadata": {
        "id": "FemK64fS3i80"
      }
    },
    {
      "cell_type": "code",
      "source": [
        "#We will train our models using the more recent dataset"
      ],
      "metadata": {
        "id": "0Vg-3iwdqZqp"
      },
      "execution_count": 1082,
      "outputs": []
    },
    {
      "cell_type": "code",
      "source": [
        "import sklearn\n",
        "from sklearn import preprocessing\n",
        "from sklearn.model_selection import train_test_split, cross_val_score\n",
        "from sklearn.preprocessing import MinMaxScaler"
      ],
      "metadata": {
        "id": "kebkzKqcADoB"
      },
      "execution_count": 1083,
      "outputs": []
    },
    {
      "cell_type": "code",
      "source": [
        "from sklearn.metrics import accuracy_score, confusion_matrix, precision_score, recall_score, f1_score, classification_report, ConfusionMatrixDisplay"
      ],
      "metadata": {
        "id": "17tarEVX4UxK"
      },
      "execution_count": 1084,
      "outputs": []
    },
    {
      "cell_type": "markdown",
      "source": [
        "Utilize an 80-20 train test split on our large dataset"
      ],
      "metadata": {
        "id": "sygMrzT2S3ai"
      }
    },
    {
      "cell_type": "code",
      "source": [
        "train_data, test_data = train_test_split(wildfire_set2, test_size = 0.2, random_state = 1)"
      ],
      "metadata": {
        "id": "zUeoj5hASdCQ"
      },
      "execution_count": 1085,
      "outputs": []
    },
    {
      "cell_type": "markdown",
      "source": [
        "Print the shape of training and testing datasets after the split to make sure we have done this correctly"
      ],
      "metadata": {
        "id": "UngO_p81S2QF"
      }
    },
    {
      "cell_type": "code",
      "source": [
        "print(train_data.shape)\n",
        "print(test_data.shape)"
      ],
      "metadata": {
        "colab": {
          "base_uri": "https://localhost:8080/"
        },
        "id": "wdRQAp2xSqsr",
        "outputId": "a85bfd70-2c41-4bd4-82dc-1a32304b0c4f"
      },
      "execution_count": 1086,
      "outputs": [
        {
          "output_type": "stream",
          "name": "stdout",
          "text": [
            "(884, 30)\n",
            "(221, 30)\n"
          ]
        }
      ]
    },
    {
      "cell_type": "markdown",
      "source": [
        "# Feature Selection"
      ],
      "metadata": {
        "id": "W-hf1_xHYsQn"
      }
    },
    {
      "cell_type": "code",
      "source": [
        "from sklearn import linear_model"
      ],
      "metadata": {
        "id": "wpBTb4x06sHo"
      },
      "execution_count": 1087,
      "outputs": []
    },
    {
      "cell_type": "code",
      "source": [
        "from sklearn.feature_selection import SelectKBest, f_regression"
      ],
      "metadata": {
        "id": "0UV_3N_a8Wrx"
      },
      "execution_count": 1088,
      "outputs": []
    },
    {
      "cell_type": "code",
      "source": [
        "top_features_ordered = []"
      ],
      "metadata": {
        "id": "tZg5IEbo9ALv"
      },
      "execution_count": 1089,
      "outputs": []
    },
    {
      "cell_type": "code",
      "source": [
        "train_target = train_data['AcresBurned']\n",
        "train_features = train_data.drop(columns = ['AcresBurned'])"
      ],
      "metadata": {
        "id": "miqd3g-N9Tmd"
      },
      "execution_count": 1090,
      "outputs": []
    },
    {
      "cell_type": "code",
      "source": [
        "test_target = test_data['AcresBurned']\n",
        "test_features = test_data.drop(columns = ['AcresBurned'])"
      ],
      "metadata": {
        "id": "1fIcO6xhcqTW"
      },
      "execution_count": 1091,
      "outputs": []
    },
    {
      "cell_type": "markdown",
      "source": [
        "Select the 20 best features using sklearn's SelectKBest"
      ],
      "metadata": {
        "id": "_WqC2hHKZ8-s"
      }
    },
    {
      "cell_type": "code",
      "source": [
        "best_features = SelectKBest(f_regression, k=10)\n",
        "k_best_data = best_features.fit_transform(train_features, train_target)\n",
        "mask = best_features.get_support()\n",
        "new_features = train_features.columns[mask]\n",
        "for item in new_features:\n",
        "  if item not in top_features_ordered:\n",
        "    top_features_ordered.append(item)"
      ],
      "metadata": {
        "colab": {
          "base_uri": "https://localhost:8080/"
        },
        "id": "gPXhEhYG9AzQ",
        "outputId": "ee96c336-78fc-4163-ae92-3e16db91b44f"
      },
      "execution_count": 1092,
      "outputs": [
        {
          "output_type": "stream",
          "name": "stderr",
          "text": [
            "/usr/local/lib/python3.7/dist-packages/sklearn/feature_selection/_univariate_selection.py:289: RuntimeWarning: invalid value encountered in true_divide\n",
            "  correlation_coefficient /= X_norms\n"
          ]
        }
      ]
    },
    {
      "cell_type": "code",
      "source": [
        "count = 1\n",
        "for item in top_features_ordered:\n",
        "  print(count, '. ', item)\n",
        "  count += 1"
      ],
      "metadata": {
        "colab": {
          "base_uri": "https://localhost:8080/"
        },
        "id": "B9MYQL8NZSuY",
        "outputId": "6b4c045b-87d1-4105-cb9d-d2561f968bac"
      },
      "execution_count": 1093,
      "outputs": [
        {
          "output_type": "stream",
          "name": "stdout",
          "text": [
            "1 .  AWND\n",
            "2 .  DX90\n",
            "3 .  DP10_2M\n",
            "4 .  Receives Snow\n",
            "5 .  Mar_SP\n",
            "6 .  Mar_WC\n",
            "7 .  Dec\n",
            "8 .  Jul\n",
            "9 .  Jun\n",
            "10 .  May\n"
          ]
        }
      ]
    },
    {
      "cell_type": "markdown",
      "source": [
        "# Now we normalize the train and test sets independently"
      ],
      "metadata": {
        "id": "9xX-YAX9Tv9z"
      }
    },
    {
      "cell_type": "code",
      "source": [
        "train_data_selected_X = train_features[top_features_ordered]\n",
        "train_data_y = train_target\n",
        "\n",
        "test_data_selected_X = test_features[top_features_ordered]\n",
        "test_data_y = test_target"
      ],
      "metadata": {
        "id": "nXtXfA7naVPi"
      },
      "execution_count": 1094,
      "outputs": []
    },
    {
      "cell_type": "code",
      "source": [
        "print('Train Features:')\n",
        "print('train_data_X dimensions: ', train_data_selected_X.shape)\n",
        "print('train_data_y dimensions:', train_data_y.shape, '\\n')\n",
        "\n",
        "print('Test Features:')\n",
        "print('test_data_X dimensions: ', test_data_selected_X.shape)\n",
        "print('test_data_y dimensions:', test_data_y.shape, '\\n')"
      ],
      "metadata": {
        "colab": {
          "base_uri": "https://localhost:8080/"
        },
        "id": "upFDwdf7dAzx",
        "outputId": "773d4a33-c0eb-4e97-8138-6f382fb13391"
      },
      "execution_count": 1095,
      "outputs": [
        {
          "output_type": "stream",
          "name": "stdout",
          "text": [
            "Train Features:\n",
            "train_data_X dimensions:  (884, 10)\n",
            "train_data_y dimensions: (884,) \n",
            "\n",
            "Test Features:\n",
            "test_data_X dimensions:  (221, 10)\n",
            "test_data_y dimensions: (221,) \n",
            "\n"
          ]
        }
      ]
    },
    {
      "cell_type": "markdown",
      "source": [
        "Normalize data using min-max-scalar (every feature will normalized so that range of values is 0-1) after splitting into train and test"
      ],
      "metadata": {
        "id": "w30t2GCT4t5I"
      }
    },
    {
      "cell_type": "code",
      "source": [
        "from sklearn.preprocessing import MinMaxScaler"
      ],
      "metadata": {
        "id": "LWYj2qjShnW1"
      },
      "execution_count": 1096,
      "outputs": []
    },
    {
      "cell_type": "code",
      "source": [
        "#utilize minmax scaler normalization\n",
        "scaler = MinMaxScaler()\n",
        "\n",
        "#Normalize the train, validate, and test independently after splitting\n",
        "train_data_X = scaler.fit_transform(train_data_selected_X)\n",
        "#train_target = scaler(train_target)\n",
        "\n",
        "test_data_X = scaler.fit_transform(test_data_selected_X)\n",
        "#train_target = scaler(test_target)"
      ],
      "metadata": {
        "id": "VuekoRIn3GFO"
      },
      "execution_count": 1097,
      "outputs": []
    },
    {
      "cell_type": "markdown",
      "source": [
        "# Fit the model using our normalized features to predict Acres Burned"
      ],
      "metadata": {
        "id": "IO_p5lpDiuVN"
      }
    },
    {
      "cell_type": "code",
      "source": [
        "multivariate_regression = linear_model.LinearRegression()\n",
        "multivariate_regression.fit(train_data_X, train_data_y)"
      ],
      "metadata": {
        "colab": {
          "base_uri": "https://localhost:8080/"
        },
        "id": "8z_ayADv6tIv",
        "outputId": "4215de03-4591-4ddc-b840-44d4bfb78543"
      },
      "execution_count": 1098,
      "outputs": [
        {
          "output_type": "execute_result",
          "data": {
            "text/plain": [
              "LinearRegression()"
            ]
          },
          "metadata": {},
          "execution_count": 1098
        }
      ]
    },
    {
      "cell_type": "markdown",
      "source": [
        "Model coefficients: (Beta's)"
      ],
      "metadata": {
        "id": "KQz2mYP0i1my"
      }
    },
    {
      "cell_type": "code",
      "source": [
        "multivariate_regression.coef_"
      ],
      "metadata": {
        "colab": {
          "base_uri": "https://localhost:8080/"
        },
        "id": "36liNGgHiEt5",
        "outputId": "ae38e64e-3635-4a97-a2ef-0f734233c75e"
      },
      "execution_count": 1099,
      "outputs": [
        {
          "output_type": "execute_result",
          "data": {
            "text/plain": [
              "array([-26874.32984386,   2117.81049147, -11800.71799227,  -1828.44103599,\n",
              "         7156.0599161 ,  -9939.62652506,  22627.10007144,   8601.50054135,\n",
              "         2738.38673382,   3416.26380078])"
            ]
          },
          "metadata": {},
          "execution_count": 1099
        }
      ]
    },
    {
      "cell_type": "markdown",
      "source": [
        "Model intercept:"
      ],
      "metadata": {
        "id": "zDZd8K4Ni4Fi"
      }
    },
    {
      "cell_type": "code",
      "source": [
        "multivariate_regression.intercept_"
      ],
      "metadata": {
        "colab": {
          "base_uri": "https://localhost:8080/"
        },
        "id": "5rKTJkShirml",
        "outputId": "74750f54-d942-4cb4-d762-92e533441002"
      },
      "execution_count": 1100,
      "outputs": [
        {
          "output_type": "execute_result",
          "data": {
            "text/plain": [
              "13794.158092445427"
            ]
          },
          "metadata": {},
          "execution_count": 1100
        }
      ]
    },
    {
      "cell_type": "code",
      "source": [
        "from sklearn import metrics\n",
        "import numpy as np"
      ],
      "metadata": {
        "id": "MW4vchlLhkrQ"
      },
      "execution_count": 1101,
      "outputs": []
    },
    {
      "cell_type": "code",
      "source": [
        "y_predicted = multivariate_regression.predict(test_data_X)"
      ],
      "metadata": {
        "id": "Qx-qkNuRgB5n"
      },
      "execution_count": 1102,
      "outputs": []
    },
    {
      "cell_type": "code",
      "source": [
        "print('Mean Squared Error: ', metrics.mean_squared_error(test_data_y, y_predicted), '\\n')\n",
        "print('Mean Absolute Error: ', metrics.mean_absolute_error(test_data_y, y_predicted), '\\n')\n",
        "print('Root Mean Squared Error: ', np.sqrt(metrics.mean_squared_error(test_data_y, y_predicted)))"
      ],
      "metadata": {
        "colab": {
          "base_uri": "https://localhost:8080/"
        },
        "id": "3jr-UBVgjEfc",
        "outputId": "a3295693-c5eb-4df2-8aa8-4bac95d8eccb"
      },
      "execution_count": 1103,
      "outputs": [
        {
          "output_type": "stream",
          "name": "stdout",
          "text": [
            "Mean Squared Error:  487229436.42280996 \n",
            "\n",
            "Mean Absolute Error:  8550.464828559452 \n",
            "\n",
            "Root Mean Squared Error:  22073.274256956305\n"
          ]
        }
      ]
    }
  ]
}