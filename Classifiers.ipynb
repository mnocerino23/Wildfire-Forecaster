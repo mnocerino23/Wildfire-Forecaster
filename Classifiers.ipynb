{
  "nbformat": 4,
  "nbformat_minor": 0,
  "metadata": {
    "colab": {
      "name": "Classifiers.ipynb",
      "provenance": [],
      "collapsed_sections": [],
      "authorship_tag": "ABX9TyORkFfPpfy03OA+aUzg5c2x",
      "include_colab_link": true
    },
    "kernelspec": {
      "name": "python3",
      "display_name": "Python 3"
    },
    "language_info": {
      "name": "python"
    }
  },
  "cells": [
    {
      "cell_type": "markdown",
      "metadata": {
        "id": "view-in-github",
        "colab_type": "text"
      },
      "source": [
        "<a href=\"https://colab.research.google.com/github/mnocerino23/Wildfire-Forecaster/blob/main/Classifiers.ipynb\" target=\"_parent\"><img src=\"https://colab.research.google.com/assets/colab-badge.svg\" alt=\"Open In Colab\"/></a>"
      ]
    },
    {
      "cell_type": "markdown",
      "source": [
        "Now that we have gathered data from kaggle, NOAA, the California Department of Water resources, and the Open-Elevation API into two consistent datasets, we will drop columns that are not necessary for training our models and take care of some final preprocessing.\n",
        "\n",
        "In this file, I will start to build multi-class classifiers using Support Vector Machine, Gaussian Naive Bayes, Decision Tree, Random Forest, KNN, Gradient Boosting, and Neural Networks. \n",
        "\n",
        "The target feature will be ***Fire Size Class*** as we want to predict the size/risk of a large fire given certain weather and snow conditions.\n",
        "\n",
        "\n",
        "I will deploy the following techniques:\n",
        "\n",
        "1.   One-Hot Encoding of Categorical Variables\n",
        "2.   Feature Selection\n",
        "3.   Splitting the training and testing data\n",
        "4.   Cross-Validation\n",
        "\n"
      ],
      "metadata": {
        "id": "3ZZd1_RsEVIP"
      }
    },
    {
      "cell_type": "code",
      "source": [
        "import sklearn\n",
        "import numpy as np\n",
        "import pandas as pd\n",
        "\n",
        "from google.colab import drive\n",
        "drive.mount('/content/drive')\n",
        "\n",
        "#Read in the two final datasets. The first contains over 110,000 fires from 2001-2015 while the second has 1,000 more recent, larger fires.\n",
        "wildfire_set1 = pd.read_csv('/content/drive/MyDrive/Data_Science_Projects/Wildfires/wildfire_set1_w_allfeatures.csv')\n",
        "wildfire_set2 = pd.read_csv('/content/drive/MyDrive/Data_Science_Projects/Wildfires/wildfire_set2_w_allfeatures.csv')"
      ],
      "metadata": {
        "colab": {
          "base_uri": "https://localhost:8080/"
        },
        "id": "NFzMd74aBEyq",
        "outputId": "949f6fba-085b-4320-9e54-f1357d079b31"
      },
      "execution_count": 15,
      "outputs": [
        {
          "output_type": "stream",
          "name": "stdout",
          "text": [
            "Drive already mounted at /content/drive; to attempt to forcibly remount, call drive.mount(\"/content/drive\", force_remount=True).\n"
          ]
        },
        {
          "output_type": "stream",
          "name": "stderr",
          "text": [
            "/usr/local/lib/python3.7/dist-packages/IPython/core/interactiveshell.py:2882: DtypeWarning: Columns (10) have mixed types.Specify dtype option on import or set low_memory=False.\n",
            "  exec(code_obj, self.user_global_ns, self.user_ns)\n"
          ]
        }
      ]
    },
    {
      "cell_type": "code",
      "source": [
        "wildfire_set1.head(5)"
      ],
      "metadata": {
        "id": "TQAuZoO6CQ-7",
        "outputId": "2c7b1eba-45ca-4bce-e5f1-e5ccb684ff8b",
        "colab": {
          "base_uri": "https://localhost:8080/",
          "height": 369
        }
      },
      "execution_count": 16,
      "outputs": [
        {
          "output_type": "execute_result",
          "data": {
            "text/plain": [
              "   Unnamed: 0  Year      Name  AcresBurned Fire Size Rank           Cause  \\\n",
              "0           0  2005  FOUNTAIN         0.10              A   Miscellaneous   \n",
              "1           1  2004    PIGEON         0.25              A       Lightning   \n",
              "2           2  2004     SLACK         0.10              A  Debris Burning   \n",
              "3           3  2004      DEER         0.10              A       Lightning   \n",
              "4           4  2004  STEVENOT         0.10              A       Lightning   \n",
              "\n",
              "  SOURCE_REPORTING_UNIT_NAME  DaysBurn Discovery Month  Discovered DOY  ...  \\\n",
              "0     Plumas National Forest       1.0             Feb            33.0  ...   \n",
              "1   Eldorado National Forest       1.0             May           133.0  ...   \n",
              "2   Eldorado National Forest       1.0             Jun           152.0  ...   \n",
              "3   Eldorado National Forest       5.0             Jun           180.0  ...   \n",
              "4   Eldorado National Forest       5.0             Jun           180.0  ...   \n",
              "\n",
              "  DX90_2M  DP10_2M  Receives Snow  Snow Station River Basin  Mar_SP Mar_WC  \\\n",
              "0     0.0     19.0            1.0   eureka_lake     Feather    79.6   34.0   \n",
              "1     0.0      3.0            1.0  ward_creek_2  Lake Tahoe   108.6   38.1   \n",
              "2     0.0     11.0            1.0  ward_creek_2  Lake Tahoe   108.6   38.1   \n",
              "3     0.0      3.0            1.0   echo_summit    American    87.2   28.4   \n",
              "4     0.0      3.0            1.0   echo_summit    American    87.2   28.4   \n",
              "\n",
              "  Mar_Dens Has_Elevation  Elevation  \n",
              "0     0.43             1  2965.8432  \n",
              "1     0.35             1  6207.2736  \n",
              "2     0.35             1  3454.6824  \n",
              "3     0.33             1  7759.0920  \n",
              "4     0.33             1  7598.3328  \n",
              "\n",
              "[5 rows x 40 columns]"
            ],
            "text/html": [
              "\n",
              "  <div id=\"df-d26fff2e-b9fd-4dd0-91ee-fefdfcb03805\">\n",
              "    <div class=\"colab-df-container\">\n",
              "      <div>\n",
              "<style scoped>\n",
              "    .dataframe tbody tr th:only-of-type {\n",
              "        vertical-align: middle;\n",
              "    }\n",
              "\n",
              "    .dataframe tbody tr th {\n",
              "        vertical-align: top;\n",
              "    }\n",
              "\n",
              "    .dataframe thead th {\n",
              "        text-align: right;\n",
              "    }\n",
              "</style>\n",
              "<table border=\"1\" class=\"dataframe\">\n",
              "  <thead>\n",
              "    <tr style=\"text-align: right;\">\n",
              "      <th></th>\n",
              "      <th>Unnamed: 0</th>\n",
              "      <th>Year</th>\n",
              "      <th>Name</th>\n",
              "      <th>AcresBurned</th>\n",
              "      <th>Fire Size Rank</th>\n",
              "      <th>Cause</th>\n",
              "      <th>SOURCE_REPORTING_UNIT_NAME</th>\n",
              "      <th>DaysBurn</th>\n",
              "      <th>Discovery Month</th>\n",
              "      <th>Discovered DOY</th>\n",
              "      <th>...</th>\n",
              "      <th>DX90_2M</th>\n",
              "      <th>DP10_2M</th>\n",
              "      <th>Receives Snow</th>\n",
              "      <th>Snow Station</th>\n",
              "      <th>River Basin</th>\n",
              "      <th>Mar_SP</th>\n",
              "      <th>Mar_WC</th>\n",
              "      <th>Mar_Dens</th>\n",
              "      <th>Has_Elevation</th>\n",
              "      <th>Elevation</th>\n",
              "    </tr>\n",
              "  </thead>\n",
              "  <tbody>\n",
              "    <tr>\n",
              "      <th>0</th>\n",
              "      <td>0</td>\n",
              "      <td>2005</td>\n",
              "      <td>FOUNTAIN</td>\n",
              "      <td>0.10</td>\n",
              "      <td>A</td>\n",
              "      <td>Miscellaneous</td>\n",
              "      <td>Plumas National Forest</td>\n",
              "      <td>1.0</td>\n",
              "      <td>Feb</td>\n",
              "      <td>33.0</td>\n",
              "      <td>...</td>\n",
              "      <td>0.0</td>\n",
              "      <td>19.0</td>\n",
              "      <td>1.0</td>\n",
              "      <td>eureka_lake</td>\n",
              "      <td>Feather</td>\n",
              "      <td>79.6</td>\n",
              "      <td>34.0</td>\n",
              "      <td>0.43</td>\n",
              "      <td>1</td>\n",
              "      <td>2965.8432</td>\n",
              "    </tr>\n",
              "    <tr>\n",
              "      <th>1</th>\n",
              "      <td>1</td>\n",
              "      <td>2004</td>\n",
              "      <td>PIGEON</td>\n",
              "      <td>0.25</td>\n",
              "      <td>A</td>\n",
              "      <td>Lightning</td>\n",
              "      <td>Eldorado National Forest</td>\n",
              "      <td>1.0</td>\n",
              "      <td>May</td>\n",
              "      <td>133.0</td>\n",
              "      <td>...</td>\n",
              "      <td>0.0</td>\n",
              "      <td>3.0</td>\n",
              "      <td>1.0</td>\n",
              "      <td>ward_creek_2</td>\n",
              "      <td>Lake Tahoe</td>\n",
              "      <td>108.6</td>\n",
              "      <td>38.1</td>\n",
              "      <td>0.35</td>\n",
              "      <td>1</td>\n",
              "      <td>6207.2736</td>\n",
              "    </tr>\n",
              "    <tr>\n",
              "      <th>2</th>\n",
              "      <td>2</td>\n",
              "      <td>2004</td>\n",
              "      <td>SLACK</td>\n",
              "      <td>0.10</td>\n",
              "      <td>A</td>\n",
              "      <td>Debris Burning</td>\n",
              "      <td>Eldorado National Forest</td>\n",
              "      <td>1.0</td>\n",
              "      <td>Jun</td>\n",
              "      <td>152.0</td>\n",
              "      <td>...</td>\n",
              "      <td>0.0</td>\n",
              "      <td>11.0</td>\n",
              "      <td>1.0</td>\n",
              "      <td>ward_creek_2</td>\n",
              "      <td>Lake Tahoe</td>\n",
              "      <td>108.6</td>\n",
              "      <td>38.1</td>\n",
              "      <td>0.35</td>\n",
              "      <td>1</td>\n",
              "      <td>3454.6824</td>\n",
              "    </tr>\n",
              "    <tr>\n",
              "      <th>3</th>\n",
              "      <td>3</td>\n",
              "      <td>2004</td>\n",
              "      <td>DEER</td>\n",
              "      <td>0.10</td>\n",
              "      <td>A</td>\n",
              "      <td>Lightning</td>\n",
              "      <td>Eldorado National Forest</td>\n",
              "      <td>5.0</td>\n",
              "      <td>Jun</td>\n",
              "      <td>180.0</td>\n",
              "      <td>...</td>\n",
              "      <td>0.0</td>\n",
              "      <td>3.0</td>\n",
              "      <td>1.0</td>\n",
              "      <td>echo_summit</td>\n",
              "      <td>American</td>\n",
              "      <td>87.2</td>\n",
              "      <td>28.4</td>\n",
              "      <td>0.33</td>\n",
              "      <td>1</td>\n",
              "      <td>7759.0920</td>\n",
              "    </tr>\n",
              "    <tr>\n",
              "      <th>4</th>\n",
              "      <td>4</td>\n",
              "      <td>2004</td>\n",
              "      <td>STEVENOT</td>\n",
              "      <td>0.10</td>\n",
              "      <td>A</td>\n",
              "      <td>Lightning</td>\n",
              "      <td>Eldorado National Forest</td>\n",
              "      <td>5.0</td>\n",
              "      <td>Jun</td>\n",
              "      <td>180.0</td>\n",
              "      <td>...</td>\n",
              "      <td>0.0</td>\n",
              "      <td>3.0</td>\n",
              "      <td>1.0</td>\n",
              "      <td>echo_summit</td>\n",
              "      <td>American</td>\n",
              "      <td>87.2</td>\n",
              "      <td>28.4</td>\n",
              "      <td>0.33</td>\n",
              "      <td>1</td>\n",
              "      <td>7598.3328</td>\n",
              "    </tr>\n",
              "  </tbody>\n",
              "</table>\n",
              "<p>5 rows × 40 columns</p>\n",
              "</div>\n",
              "      <button class=\"colab-df-convert\" onclick=\"convertToInteractive('df-d26fff2e-b9fd-4dd0-91ee-fefdfcb03805')\"\n",
              "              title=\"Convert this dataframe to an interactive table.\"\n",
              "              style=\"display:none;\">\n",
              "        \n",
              "  <svg xmlns=\"http://www.w3.org/2000/svg\" height=\"24px\"viewBox=\"0 0 24 24\"\n",
              "       width=\"24px\">\n",
              "    <path d=\"M0 0h24v24H0V0z\" fill=\"none\"/>\n",
              "    <path d=\"M18.56 5.44l.94 2.06.94-2.06 2.06-.94-2.06-.94-.94-2.06-.94 2.06-2.06.94zm-11 1L8.5 8.5l.94-2.06 2.06-.94-2.06-.94L8.5 2.5l-.94 2.06-2.06.94zm10 10l.94 2.06.94-2.06 2.06-.94-2.06-.94-.94-2.06-.94 2.06-2.06.94z\"/><path d=\"M17.41 7.96l-1.37-1.37c-.4-.4-.92-.59-1.43-.59-.52 0-1.04.2-1.43.59L10.3 9.45l-7.72 7.72c-.78.78-.78 2.05 0 2.83L4 21.41c.39.39.9.59 1.41.59.51 0 1.02-.2 1.41-.59l7.78-7.78 2.81-2.81c.8-.78.8-2.07 0-2.86zM5.41 20L4 18.59l7.72-7.72 1.47 1.35L5.41 20z\"/>\n",
              "  </svg>\n",
              "      </button>\n",
              "      \n",
              "  <style>\n",
              "    .colab-df-container {\n",
              "      display:flex;\n",
              "      flex-wrap:wrap;\n",
              "      gap: 12px;\n",
              "    }\n",
              "\n",
              "    .colab-df-convert {\n",
              "      background-color: #E8F0FE;\n",
              "      border: none;\n",
              "      border-radius: 50%;\n",
              "      cursor: pointer;\n",
              "      display: none;\n",
              "      fill: #1967D2;\n",
              "      height: 32px;\n",
              "      padding: 0 0 0 0;\n",
              "      width: 32px;\n",
              "    }\n",
              "\n",
              "    .colab-df-convert:hover {\n",
              "      background-color: #E2EBFA;\n",
              "      box-shadow: 0px 1px 2px rgba(60, 64, 67, 0.3), 0px 1px 3px 1px rgba(60, 64, 67, 0.15);\n",
              "      fill: #174EA6;\n",
              "    }\n",
              "\n",
              "    [theme=dark] .colab-df-convert {\n",
              "      background-color: #3B4455;\n",
              "      fill: #D2E3FC;\n",
              "    }\n",
              "\n",
              "    [theme=dark] .colab-df-convert:hover {\n",
              "      background-color: #434B5C;\n",
              "      box-shadow: 0px 1px 3px 1px rgba(0, 0, 0, 0.15);\n",
              "      filter: drop-shadow(0px 1px 2px rgba(0, 0, 0, 0.3));\n",
              "      fill: #FFFFFF;\n",
              "    }\n",
              "  </style>\n",
              "\n",
              "      <script>\n",
              "        const buttonEl =\n",
              "          document.querySelector('#df-d26fff2e-b9fd-4dd0-91ee-fefdfcb03805 button.colab-df-convert');\n",
              "        buttonEl.style.display =\n",
              "          google.colab.kernel.accessAllowed ? 'block' : 'none';\n",
              "\n",
              "        async function convertToInteractive(key) {\n",
              "          const element = document.querySelector('#df-d26fff2e-b9fd-4dd0-91ee-fefdfcb03805');\n",
              "          const dataTable =\n",
              "            await google.colab.kernel.invokeFunction('convertToInteractive',\n",
              "                                                     [key], {});\n",
              "          if (!dataTable) return;\n",
              "\n",
              "          const docLinkHtml = 'Like what you see? Visit the ' +\n",
              "            '<a target=\"_blank\" href=https://colab.research.google.com/notebooks/data_table.ipynb>data table notebook</a>'\n",
              "            + ' to learn more about interactive tables.';\n",
              "          element.innerHTML = '';\n",
              "          dataTable['output_type'] = 'display_data';\n",
              "          await google.colab.output.renderOutput(dataTable, element);\n",
              "          const docLink = document.createElement('div');\n",
              "          docLink.innerHTML = docLinkHtml;\n",
              "          element.appendChild(docLink);\n",
              "        }\n",
              "      </script>\n",
              "    </div>\n",
              "  </div>\n",
              "  "
            ]
          },
          "metadata": {},
          "execution_count": 16
        }
      ]
    },
    {
      "cell_type": "code",
      "source": [
        "wildfire_set2.head()"
      ],
      "metadata": {
        "id": "bkwikHWNCUk5",
        "outputId": "e884428d-54e4-495a-deb8-28bfbff9b783",
        "colab": {
          "base_uri": "https://localhost:8080/",
          "height": 404
        }
      },
      "execution_count": 17,
      "outputs": [
        {
          "output_type": "execute_result",
          "data": {
            "text/plain": [
              "   Unnamed: 0  Year            Name  AcresBurned Fire Size Rank  Cause  \\\n",
              "0           0  2016  Soberanes Fire     132127.0              G    NaN   \n",
              "1           1  2016    Erskine Fire      48019.0              G    NaN   \n",
              "2           2  2016    Chimney Fire      46344.0              G    NaN   \n",
              "3           3  2016   Blue Cut Fire      36274.0              G    NaN   \n",
              "4           4  2016        Gap Fire      33867.0              G    NaN   \n",
              "\n",
              "   SOURCE_REPORTING_UNIT_NAME  DaysBurn Discovery Month  Discovered DOY  ...  \\\n",
              "0                         NaN      83.0             Jul             NaN  ...   \n",
              "1                         NaN      18.0             Jun             NaN  ...   \n",
              "2                         NaN      24.0             Aug             NaN  ...   \n",
              "3                         NaN       7.0             Aug             NaN  ...   \n",
              "4                         NaN       1.0             Aug             NaN  ...   \n",
              "\n",
              "  DX90_2M  DP10_2M  Receives Snow  Snow Station River Basin Mar_SP Mar_WC  \\\n",
              "0     0.0      1.0              0           NaN         NaN    0.0    0.0   \n",
              "1    15.0      4.0              1  mineral_king      Kaweah   36.0   16.0   \n",
              "2    43.0      0.0              0           NaN         NaN    0.0    0.0   \n",
              "3    43.0      0.0              0           NaN         NaN    0.0    0.0   \n",
              "4     0.0      2.0              1   parks_creek      Shasta   77.0   34.0   \n",
              "\n",
              "   Mar_Dens Has_Elevation  Elevation  \n",
              "0      0.00             1   961.2744  \n",
              "1      0.44             1  3389.0664  \n",
              "2      0.00             1  1049.8560  \n",
              "3      0.00             1  4192.8624  \n",
              "4      0.44             1  3244.7112  \n",
              "\n",
              "[5 rows x 40 columns]"
            ],
            "text/html": [
              "\n",
              "  <div id=\"df-2420b630-0906-4d44-8afb-a20856740061\">\n",
              "    <div class=\"colab-df-container\">\n",
              "      <div>\n",
              "<style scoped>\n",
              "    .dataframe tbody tr th:only-of-type {\n",
              "        vertical-align: middle;\n",
              "    }\n",
              "\n",
              "    .dataframe tbody tr th {\n",
              "        vertical-align: top;\n",
              "    }\n",
              "\n",
              "    .dataframe thead th {\n",
              "        text-align: right;\n",
              "    }\n",
              "</style>\n",
              "<table border=\"1\" class=\"dataframe\">\n",
              "  <thead>\n",
              "    <tr style=\"text-align: right;\">\n",
              "      <th></th>\n",
              "      <th>Unnamed: 0</th>\n",
              "      <th>Year</th>\n",
              "      <th>Name</th>\n",
              "      <th>AcresBurned</th>\n",
              "      <th>Fire Size Rank</th>\n",
              "      <th>Cause</th>\n",
              "      <th>SOURCE_REPORTING_UNIT_NAME</th>\n",
              "      <th>DaysBurn</th>\n",
              "      <th>Discovery Month</th>\n",
              "      <th>Discovered DOY</th>\n",
              "      <th>...</th>\n",
              "      <th>DX90_2M</th>\n",
              "      <th>DP10_2M</th>\n",
              "      <th>Receives Snow</th>\n",
              "      <th>Snow Station</th>\n",
              "      <th>River Basin</th>\n",
              "      <th>Mar_SP</th>\n",
              "      <th>Mar_WC</th>\n",
              "      <th>Mar_Dens</th>\n",
              "      <th>Has_Elevation</th>\n",
              "      <th>Elevation</th>\n",
              "    </tr>\n",
              "  </thead>\n",
              "  <tbody>\n",
              "    <tr>\n",
              "      <th>0</th>\n",
              "      <td>0</td>\n",
              "      <td>2016</td>\n",
              "      <td>Soberanes Fire</td>\n",
              "      <td>132127.0</td>\n",
              "      <td>G</td>\n",
              "      <td>NaN</td>\n",
              "      <td>NaN</td>\n",
              "      <td>83.0</td>\n",
              "      <td>Jul</td>\n",
              "      <td>NaN</td>\n",
              "      <td>...</td>\n",
              "      <td>0.0</td>\n",
              "      <td>1.0</td>\n",
              "      <td>0</td>\n",
              "      <td>NaN</td>\n",
              "      <td>NaN</td>\n",
              "      <td>0.0</td>\n",
              "      <td>0.0</td>\n",
              "      <td>0.00</td>\n",
              "      <td>1</td>\n",
              "      <td>961.2744</td>\n",
              "    </tr>\n",
              "    <tr>\n",
              "      <th>1</th>\n",
              "      <td>1</td>\n",
              "      <td>2016</td>\n",
              "      <td>Erskine Fire</td>\n",
              "      <td>48019.0</td>\n",
              "      <td>G</td>\n",
              "      <td>NaN</td>\n",
              "      <td>NaN</td>\n",
              "      <td>18.0</td>\n",
              "      <td>Jun</td>\n",
              "      <td>NaN</td>\n",
              "      <td>...</td>\n",
              "      <td>15.0</td>\n",
              "      <td>4.0</td>\n",
              "      <td>1</td>\n",
              "      <td>mineral_king</td>\n",
              "      <td>Kaweah</td>\n",
              "      <td>36.0</td>\n",
              "      <td>16.0</td>\n",
              "      <td>0.44</td>\n",
              "      <td>1</td>\n",
              "      <td>3389.0664</td>\n",
              "    </tr>\n",
              "    <tr>\n",
              "      <th>2</th>\n",
              "      <td>2</td>\n",
              "      <td>2016</td>\n",
              "      <td>Chimney Fire</td>\n",
              "      <td>46344.0</td>\n",
              "      <td>G</td>\n",
              "      <td>NaN</td>\n",
              "      <td>NaN</td>\n",
              "      <td>24.0</td>\n",
              "      <td>Aug</td>\n",
              "      <td>NaN</td>\n",
              "      <td>...</td>\n",
              "      <td>43.0</td>\n",
              "      <td>0.0</td>\n",
              "      <td>0</td>\n",
              "      <td>NaN</td>\n",
              "      <td>NaN</td>\n",
              "      <td>0.0</td>\n",
              "      <td>0.0</td>\n",
              "      <td>0.00</td>\n",
              "      <td>1</td>\n",
              "      <td>1049.8560</td>\n",
              "    </tr>\n",
              "    <tr>\n",
              "      <th>3</th>\n",
              "      <td>3</td>\n",
              "      <td>2016</td>\n",
              "      <td>Blue Cut Fire</td>\n",
              "      <td>36274.0</td>\n",
              "      <td>G</td>\n",
              "      <td>NaN</td>\n",
              "      <td>NaN</td>\n",
              "      <td>7.0</td>\n",
              "      <td>Aug</td>\n",
              "      <td>NaN</td>\n",
              "      <td>...</td>\n",
              "      <td>43.0</td>\n",
              "      <td>0.0</td>\n",
              "      <td>0</td>\n",
              "      <td>NaN</td>\n",
              "      <td>NaN</td>\n",
              "      <td>0.0</td>\n",
              "      <td>0.0</td>\n",
              "      <td>0.00</td>\n",
              "      <td>1</td>\n",
              "      <td>4192.8624</td>\n",
              "    </tr>\n",
              "    <tr>\n",
              "      <th>4</th>\n",
              "      <td>4</td>\n",
              "      <td>2016</td>\n",
              "      <td>Gap Fire</td>\n",
              "      <td>33867.0</td>\n",
              "      <td>G</td>\n",
              "      <td>NaN</td>\n",
              "      <td>NaN</td>\n",
              "      <td>1.0</td>\n",
              "      <td>Aug</td>\n",
              "      <td>NaN</td>\n",
              "      <td>...</td>\n",
              "      <td>0.0</td>\n",
              "      <td>2.0</td>\n",
              "      <td>1</td>\n",
              "      <td>parks_creek</td>\n",
              "      <td>Shasta</td>\n",
              "      <td>77.0</td>\n",
              "      <td>34.0</td>\n",
              "      <td>0.44</td>\n",
              "      <td>1</td>\n",
              "      <td>3244.7112</td>\n",
              "    </tr>\n",
              "  </tbody>\n",
              "</table>\n",
              "<p>5 rows × 40 columns</p>\n",
              "</div>\n",
              "      <button class=\"colab-df-convert\" onclick=\"convertToInteractive('df-2420b630-0906-4d44-8afb-a20856740061')\"\n",
              "              title=\"Convert this dataframe to an interactive table.\"\n",
              "              style=\"display:none;\">\n",
              "        \n",
              "  <svg xmlns=\"http://www.w3.org/2000/svg\" height=\"24px\"viewBox=\"0 0 24 24\"\n",
              "       width=\"24px\">\n",
              "    <path d=\"M0 0h24v24H0V0z\" fill=\"none\"/>\n",
              "    <path d=\"M18.56 5.44l.94 2.06.94-2.06 2.06-.94-2.06-.94-.94-2.06-.94 2.06-2.06.94zm-11 1L8.5 8.5l.94-2.06 2.06-.94-2.06-.94L8.5 2.5l-.94 2.06-2.06.94zm10 10l.94 2.06.94-2.06 2.06-.94-2.06-.94-.94-2.06-.94 2.06-2.06.94z\"/><path d=\"M17.41 7.96l-1.37-1.37c-.4-.4-.92-.59-1.43-.59-.52 0-1.04.2-1.43.59L10.3 9.45l-7.72 7.72c-.78.78-.78 2.05 0 2.83L4 21.41c.39.39.9.59 1.41.59.51 0 1.02-.2 1.41-.59l7.78-7.78 2.81-2.81c.8-.78.8-2.07 0-2.86zM5.41 20L4 18.59l7.72-7.72 1.47 1.35L5.41 20z\"/>\n",
              "  </svg>\n",
              "      </button>\n",
              "      \n",
              "  <style>\n",
              "    .colab-df-container {\n",
              "      display:flex;\n",
              "      flex-wrap:wrap;\n",
              "      gap: 12px;\n",
              "    }\n",
              "\n",
              "    .colab-df-convert {\n",
              "      background-color: #E8F0FE;\n",
              "      border: none;\n",
              "      border-radius: 50%;\n",
              "      cursor: pointer;\n",
              "      display: none;\n",
              "      fill: #1967D2;\n",
              "      height: 32px;\n",
              "      padding: 0 0 0 0;\n",
              "      width: 32px;\n",
              "    }\n",
              "\n",
              "    .colab-df-convert:hover {\n",
              "      background-color: #E2EBFA;\n",
              "      box-shadow: 0px 1px 2px rgba(60, 64, 67, 0.3), 0px 1px 3px 1px rgba(60, 64, 67, 0.15);\n",
              "      fill: #174EA6;\n",
              "    }\n",
              "\n",
              "    [theme=dark] .colab-df-convert {\n",
              "      background-color: #3B4455;\n",
              "      fill: #D2E3FC;\n",
              "    }\n",
              "\n",
              "    [theme=dark] .colab-df-convert:hover {\n",
              "      background-color: #434B5C;\n",
              "      box-shadow: 0px 1px 3px 1px rgba(0, 0, 0, 0.15);\n",
              "      filter: drop-shadow(0px 1px 2px rgba(0, 0, 0, 0.3));\n",
              "      fill: #FFFFFF;\n",
              "    }\n",
              "  </style>\n",
              "\n",
              "      <script>\n",
              "        const buttonEl =\n",
              "          document.querySelector('#df-2420b630-0906-4d44-8afb-a20856740061 button.colab-df-convert');\n",
              "        buttonEl.style.display =\n",
              "          google.colab.kernel.accessAllowed ? 'block' : 'none';\n",
              "\n",
              "        async function convertToInteractive(key) {\n",
              "          const element = document.querySelector('#df-2420b630-0906-4d44-8afb-a20856740061');\n",
              "          const dataTable =\n",
              "            await google.colab.kernel.invokeFunction('convertToInteractive',\n",
              "                                                     [key], {});\n",
              "          if (!dataTable) return;\n",
              "\n",
              "          const docLinkHtml = 'Like what you see? Visit the ' +\n",
              "            '<a target=\"_blank\" href=https://colab.research.google.com/notebooks/data_table.ipynb>data table notebook</a>'\n",
              "            + ' to learn more about interactive tables.';\n",
              "          element.innerHTML = '';\n",
              "          dataTable['output_type'] = 'display_data';\n",
              "          await google.colab.output.renderOutput(dataTable, element);\n",
              "          const docLink = document.createElement('div');\n",
              "          docLink.innerHTML = docLinkHtml;\n",
              "          element.appendChild(docLink);\n",
              "        }\n",
              "      </script>\n",
              "    </div>\n",
              "  </div>\n",
              "  "
            ]
          },
          "metadata": {},
          "execution_count": 17
        }
      ]
    },
    {
      "cell_type": "code",
      "source": [
        "print(wildfire_set1.columns)"
      ],
      "metadata": {
        "id": "143zMg9KBevC",
        "outputId": "a3a0c2e4-097c-4f56-c095-7c71cb3c47ec",
        "colab": {
          "base_uri": "https://localhost:8080/"
        }
      },
      "execution_count": 18,
      "outputs": [
        {
          "output_type": "stream",
          "name": "stdout",
          "text": [
            "Index(['Unnamed: 0', 'Year', 'Name', 'AcresBurned', 'Fire Size Rank', 'Cause',\n",
            "       'SOURCE_REPORTING_UNIT_NAME', 'DaysBurn', 'Discovery Month',\n",
            "       'Discovered DOY', 'Contained Month', 'Contained DOY', 'Latitude',\n",
            "       'Longitude', 'County', 'CountyIds', 'State', 'OWNER_DESCR',\n",
            "       'NOAA Station', 'Link', 'AWND', 'CLDD', 'DP10', 'DX90', 'PRCP', 'TAVG',\n",
            "       'TMAX', 'TMIN', 'PRCP_6M', 'PRCP_RS', 'DX90_2M', 'DP10_2M',\n",
            "       'Receives Snow', 'Snow Station', 'River Basin', 'Mar_SP', 'Mar_WC',\n",
            "       'Mar_Dens', 'Has_Elevation', 'Elevation'],\n",
            "      dtype='object')\n"
          ]
        }
      ]
    },
    {
      "cell_type": "code",
      "source": [
        "print(wildfire_set2.columns)"
      ],
      "metadata": {
        "id": "2tZQjtnlUWkw",
        "outputId": "79a8fc8e-0288-46f8-eb30-233289b15d22",
        "colab": {
          "base_uri": "https://localhost:8080/"
        }
      },
      "execution_count": 19,
      "outputs": [
        {
          "output_type": "stream",
          "name": "stdout",
          "text": [
            "Index(['Unnamed: 0', 'Year', 'Name', 'AcresBurned', 'Fire Size Rank', 'Cause',\n",
            "       'SOURCE_REPORTING_UNIT_NAME', 'DaysBurn', 'Discovery Month',\n",
            "       'Discovered DOY', 'Contained Month', 'Contained DOY', 'Latitude',\n",
            "       'Longitude', 'County', 'CountyIds', 'State', 'OWNER_DESCR',\n",
            "       'NOAA Station', 'Link', 'AWND', 'CLDD', 'DP10', 'DX90', 'PRCP', 'TAVG',\n",
            "       'TMAX', 'TMIN', 'PRCP_6M', 'PRCP_RS', 'DX90_2M', 'DP10_2M',\n",
            "       'Receives Snow', 'Snow Station', 'River Basin', 'Mar_SP', 'Mar_WC',\n",
            "       'Mar_Dens', 'Has_Elevation', 'Elevation'],\n",
            "      dtype='object')\n"
          ]
        }
      ]
    },
    {
      "cell_type": "markdown",
      "source": [
        "Drop all columns that will not be relevant for our classification task:Unnamed: 0, Year, Name, Cause, SOURCE_REPORTING UNIT NAME, DaysBurn, Discovered DOY, Contained Month, Contained DOY, Lat, Long, County Ids, State, OWNER_DESCR, NOAA Station, Link, Snow Station, River Basin"
      ],
      "metadata": {
        "id": "nReNUm94Bsb_"
      }
    },
    {
      "cell_type": "code",
      "source": [
        "wildfire_set1.drop(columns = ['Unnamed: 0', 'Year', 'Name', 'Cause',\n",
        "                      'SOURCE_REPORTING_UNIT_NAME', 'DaysBurn', 'Discovered DOY', 'Contained Month',\n",
        "                      'Contained DOY','Latitude','Longitude','County','CountyIds','State','OWNER_DESCR',\n",
        "                      'NOAA Station', 'Link', 'Snow Station', 'River Basin', 'Has_Elevation'], inplace = True)"
      ],
      "metadata": {
        "id": "lZ8uYSWoCNDE"
      },
      "execution_count": 20,
      "outputs": []
    },
    {
      "cell_type": "code",
      "source": [
        "wildfire_set2.drop(columns = ['Unnamed: 0', 'Year', 'Name', 'Cause',\n",
        "                      'SOURCE_REPORTING_UNIT_NAME', 'DaysBurn', 'Discovered DOY', 'Contained Month',\n",
        "                      'Contained DOY','Latitude','Longitude','County','CountyIds','State','OWNER_DESCR',\n",
        "                      'NOAA Station', 'Link', 'Snow Station', 'River Basin','Has_Elevation'], inplace = True)"
      ],
      "metadata": {
        "id": "1q_TyyMvElgd"
      },
      "execution_count": 21,
      "outputs": []
    },
    {
      "cell_type": "markdown",
      "source": [
        "Taking a look at both datasets now that we have dropped the nonrelevant columns"
      ],
      "metadata": {
        "id": "-q4nd7s8BYpV"
      }
    },
    {
      "cell_type": "code",
      "source": [
        "wildfire_set1.head(5)"
      ],
      "metadata": {
        "id": "5_tnOEN-DmQu",
        "outputId": "7423d716-a059-4aa1-930a-3f9cd4bd43fc",
        "colab": {
          "base_uri": "https://localhost:8080/",
          "height": 285
        }
      },
      "execution_count": 22,
      "outputs": [
        {
          "output_type": "execute_result",
          "data": {
            "text/plain": [
              "   AcresBurned Fire Size Rank Discovery Month  AWND  CLDD  DP10  DX90  PRCP  \\\n",
              "0         0.10              A             Feb   5.6   0.0  12.0   0.0  5.33   \n",
              "1         0.25              A             May   6.9   0.0   2.0   0.0  0.81   \n",
              "2         0.10              A             Jun   5.6  36.0   0.0   0.0  0.00   \n",
              "3         0.10              A             Jun   5.6   0.0   1.0   0.0  0.29   \n",
              "4         0.10              A             Jun   5.6   0.0   1.0   0.0  0.29   \n",
              "\n",
              "   TAVG  TMAX  TMIN  PRCP_6M  PRCP_RS  DX90_2M  DP10_2M  Receives Snow  \\\n",
              "0  38.9  43.9  33.9    27.89    49.06      0.0     19.0            1.0   \n",
              "1  47.3  63.0  31.6    14.37    14.76      0.0      3.0            1.0   \n",
              "2  63.1  70.2  56.0    36.71    40.37      0.0     11.0            1.0   \n",
              "3  54.7  72.9  36.5    13.63    14.76      0.0      3.0            1.0   \n",
              "4  54.7  72.9  36.5    13.63    14.76      0.0      3.0            1.0   \n",
              "\n",
              "   Mar_SP  Mar_WC  Mar_Dens  Elevation  \n",
              "0    79.6    34.0      0.43  2965.8432  \n",
              "1   108.6    38.1      0.35  6207.2736  \n",
              "2   108.6    38.1      0.35  3454.6824  \n",
              "3    87.2    28.4      0.33  7759.0920  \n",
              "4    87.2    28.4      0.33  7598.3328  "
            ],
            "text/html": [
              "\n",
              "  <div id=\"df-8d9ae8d7-1099-438e-9eaa-7e85927f0cdc\">\n",
              "    <div class=\"colab-df-container\">\n",
              "      <div>\n",
              "<style scoped>\n",
              "    .dataframe tbody tr th:only-of-type {\n",
              "        vertical-align: middle;\n",
              "    }\n",
              "\n",
              "    .dataframe tbody tr th {\n",
              "        vertical-align: top;\n",
              "    }\n",
              "\n",
              "    .dataframe thead th {\n",
              "        text-align: right;\n",
              "    }\n",
              "</style>\n",
              "<table border=\"1\" class=\"dataframe\">\n",
              "  <thead>\n",
              "    <tr style=\"text-align: right;\">\n",
              "      <th></th>\n",
              "      <th>AcresBurned</th>\n",
              "      <th>Fire Size Rank</th>\n",
              "      <th>Discovery Month</th>\n",
              "      <th>AWND</th>\n",
              "      <th>CLDD</th>\n",
              "      <th>DP10</th>\n",
              "      <th>DX90</th>\n",
              "      <th>PRCP</th>\n",
              "      <th>TAVG</th>\n",
              "      <th>TMAX</th>\n",
              "      <th>TMIN</th>\n",
              "      <th>PRCP_6M</th>\n",
              "      <th>PRCP_RS</th>\n",
              "      <th>DX90_2M</th>\n",
              "      <th>DP10_2M</th>\n",
              "      <th>Receives Snow</th>\n",
              "      <th>Mar_SP</th>\n",
              "      <th>Mar_WC</th>\n",
              "      <th>Mar_Dens</th>\n",
              "      <th>Elevation</th>\n",
              "    </tr>\n",
              "  </thead>\n",
              "  <tbody>\n",
              "    <tr>\n",
              "      <th>0</th>\n",
              "      <td>0.10</td>\n",
              "      <td>A</td>\n",
              "      <td>Feb</td>\n",
              "      <td>5.6</td>\n",
              "      <td>0.0</td>\n",
              "      <td>12.0</td>\n",
              "      <td>0.0</td>\n",
              "      <td>5.33</td>\n",
              "      <td>38.9</td>\n",
              "      <td>43.9</td>\n",
              "      <td>33.9</td>\n",
              "      <td>27.89</td>\n",
              "      <td>49.06</td>\n",
              "      <td>0.0</td>\n",
              "      <td>19.0</td>\n",
              "      <td>1.0</td>\n",
              "      <td>79.6</td>\n",
              "      <td>34.0</td>\n",
              "      <td>0.43</td>\n",
              "      <td>2965.8432</td>\n",
              "    </tr>\n",
              "    <tr>\n",
              "      <th>1</th>\n",
              "      <td>0.25</td>\n",
              "      <td>A</td>\n",
              "      <td>May</td>\n",
              "      <td>6.9</td>\n",
              "      <td>0.0</td>\n",
              "      <td>2.0</td>\n",
              "      <td>0.0</td>\n",
              "      <td>0.81</td>\n",
              "      <td>47.3</td>\n",
              "      <td>63.0</td>\n",
              "      <td>31.6</td>\n",
              "      <td>14.37</td>\n",
              "      <td>14.76</td>\n",
              "      <td>0.0</td>\n",
              "      <td>3.0</td>\n",
              "      <td>1.0</td>\n",
              "      <td>108.6</td>\n",
              "      <td>38.1</td>\n",
              "      <td>0.35</td>\n",
              "      <td>6207.2736</td>\n",
              "    </tr>\n",
              "    <tr>\n",
              "      <th>2</th>\n",
              "      <td>0.10</td>\n",
              "      <td>A</td>\n",
              "      <td>Jun</td>\n",
              "      <td>5.6</td>\n",
              "      <td>36.0</td>\n",
              "      <td>0.0</td>\n",
              "      <td>0.0</td>\n",
              "      <td>0.00</td>\n",
              "      <td>63.1</td>\n",
              "      <td>70.2</td>\n",
              "      <td>56.0</td>\n",
              "      <td>36.71</td>\n",
              "      <td>40.37</td>\n",
              "      <td>0.0</td>\n",
              "      <td>11.0</td>\n",
              "      <td>1.0</td>\n",
              "      <td>108.6</td>\n",
              "      <td>38.1</td>\n",
              "      <td>0.35</td>\n",
              "      <td>3454.6824</td>\n",
              "    </tr>\n",
              "    <tr>\n",
              "      <th>3</th>\n",
              "      <td>0.10</td>\n",
              "      <td>A</td>\n",
              "      <td>Jun</td>\n",
              "      <td>5.6</td>\n",
              "      <td>0.0</td>\n",
              "      <td>1.0</td>\n",
              "      <td>0.0</td>\n",
              "      <td>0.29</td>\n",
              "      <td>54.7</td>\n",
              "      <td>72.9</td>\n",
              "      <td>36.5</td>\n",
              "      <td>13.63</td>\n",
              "      <td>14.76</td>\n",
              "      <td>0.0</td>\n",
              "      <td>3.0</td>\n",
              "      <td>1.0</td>\n",
              "      <td>87.2</td>\n",
              "      <td>28.4</td>\n",
              "      <td>0.33</td>\n",
              "      <td>7759.0920</td>\n",
              "    </tr>\n",
              "    <tr>\n",
              "      <th>4</th>\n",
              "      <td>0.10</td>\n",
              "      <td>A</td>\n",
              "      <td>Jun</td>\n",
              "      <td>5.6</td>\n",
              "      <td>0.0</td>\n",
              "      <td>1.0</td>\n",
              "      <td>0.0</td>\n",
              "      <td>0.29</td>\n",
              "      <td>54.7</td>\n",
              "      <td>72.9</td>\n",
              "      <td>36.5</td>\n",
              "      <td>13.63</td>\n",
              "      <td>14.76</td>\n",
              "      <td>0.0</td>\n",
              "      <td>3.0</td>\n",
              "      <td>1.0</td>\n",
              "      <td>87.2</td>\n",
              "      <td>28.4</td>\n",
              "      <td>0.33</td>\n",
              "      <td>7598.3328</td>\n",
              "    </tr>\n",
              "  </tbody>\n",
              "</table>\n",
              "</div>\n",
              "      <button class=\"colab-df-convert\" onclick=\"convertToInteractive('df-8d9ae8d7-1099-438e-9eaa-7e85927f0cdc')\"\n",
              "              title=\"Convert this dataframe to an interactive table.\"\n",
              "              style=\"display:none;\">\n",
              "        \n",
              "  <svg xmlns=\"http://www.w3.org/2000/svg\" height=\"24px\"viewBox=\"0 0 24 24\"\n",
              "       width=\"24px\">\n",
              "    <path d=\"M0 0h24v24H0V0z\" fill=\"none\"/>\n",
              "    <path d=\"M18.56 5.44l.94 2.06.94-2.06 2.06-.94-2.06-.94-.94-2.06-.94 2.06-2.06.94zm-11 1L8.5 8.5l.94-2.06 2.06-.94-2.06-.94L8.5 2.5l-.94 2.06-2.06.94zm10 10l.94 2.06.94-2.06 2.06-.94-2.06-.94-.94-2.06-.94 2.06-2.06.94z\"/><path d=\"M17.41 7.96l-1.37-1.37c-.4-.4-.92-.59-1.43-.59-.52 0-1.04.2-1.43.59L10.3 9.45l-7.72 7.72c-.78.78-.78 2.05 0 2.83L4 21.41c.39.39.9.59 1.41.59.51 0 1.02-.2 1.41-.59l7.78-7.78 2.81-2.81c.8-.78.8-2.07 0-2.86zM5.41 20L4 18.59l7.72-7.72 1.47 1.35L5.41 20z\"/>\n",
              "  </svg>\n",
              "      </button>\n",
              "      \n",
              "  <style>\n",
              "    .colab-df-container {\n",
              "      display:flex;\n",
              "      flex-wrap:wrap;\n",
              "      gap: 12px;\n",
              "    }\n",
              "\n",
              "    .colab-df-convert {\n",
              "      background-color: #E8F0FE;\n",
              "      border: none;\n",
              "      border-radius: 50%;\n",
              "      cursor: pointer;\n",
              "      display: none;\n",
              "      fill: #1967D2;\n",
              "      height: 32px;\n",
              "      padding: 0 0 0 0;\n",
              "      width: 32px;\n",
              "    }\n",
              "\n",
              "    .colab-df-convert:hover {\n",
              "      background-color: #E2EBFA;\n",
              "      box-shadow: 0px 1px 2px rgba(60, 64, 67, 0.3), 0px 1px 3px 1px rgba(60, 64, 67, 0.15);\n",
              "      fill: #174EA6;\n",
              "    }\n",
              "\n",
              "    [theme=dark] .colab-df-convert {\n",
              "      background-color: #3B4455;\n",
              "      fill: #D2E3FC;\n",
              "    }\n",
              "\n",
              "    [theme=dark] .colab-df-convert:hover {\n",
              "      background-color: #434B5C;\n",
              "      box-shadow: 0px 1px 3px 1px rgba(0, 0, 0, 0.15);\n",
              "      filter: drop-shadow(0px 1px 2px rgba(0, 0, 0, 0.3));\n",
              "      fill: #FFFFFF;\n",
              "    }\n",
              "  </style>\n",
              "\n",
              "      <script>\n",
              "        const buttonEl =\n",
              "          document.querySelector('#df-8d9ae8d7-1099-438e-9eaa-7e85927f0cdc button.colab-df-convert');\n",
              "        buttonEl.style.display =\n",
              "          google.colab.kernel.accessAllowed ? 'block' : 'none';\n",
              "\n",
              "        async function convertToInteractive(key) {\n",
              "          const element = document.querySelector('#df-8d9ae8d7-1099-438e-9eaa-7e85927f0cdc');\n",
              "          const dataTable =\n",
              "            await google.colab.kernel.invokeFunction('convertToInteractive',\n",
              "                                                     [key], {});\n",
              "          if (!dataTable) return;\n",
              "\n",
              "          const docLinkHtml = 'Like what you see? Visit the ' +\n",
              "            '<a target=\"_blank\" href=https://colab.research.google.com/notebooks/data_table.ipynb>data table notebook</a>'\n",
              "            + ' to learn more about interactive tables.';\n",
              "          element.innerHTML = '';\n",
              "          dataTable['output_type'] = 'display_data';\n",
              "          await google.colab.output.renderOutput(dataTable, element);\n",
              "          const docLink = document.createElement('div');\n",
              "          docLink.innerHTML = docLinkHtml;\n",
              "          element.appendChild(docLink);\n",
              "        }\n",
              "      </script>\n",
              "    </div>\n",
              "  </div>\n",
              "  "
            ]
          },
          "metadata": {},
          "execution_count": 22
        }
      ]
    },
    {
      "cell_type": "code",
      "source": [
        "wildfire_set1.shape"
      ],
      "metadata": {
        "id": "GUbBvvN8D8FG",
        "outputId": "314a0a4b-d5e6-4b7a-acbb-db98ede5aa7e",
        "colab": {
          "base_uri": "https://localhost:8080/"
        }
      },
      "execution_count": 23,
      "outputs": [
        {
          "output_type": "execute_result",
          "data": {
            "text/plain": [
              "(114558, 20)"
            ]
          },
          "metadata": {},
          "execution_count": 23
        }
      ]
    },
    {
      "cell_type": "code",
      "source": [
        "wildfire_set2.head(5)"
      ],
      "metadata": {
        "id": "tjwTdwNlJdQP",
        "outputId": "0b9aced2-2fb6-4029-eb04-545093c73540",
        "colab": {
          "base_uri": "https://localhost:8080/",
          "height": 285
        }
      },
      "execution_count": 24,
      "outputs": [
        {
          "output_type": "execute_result",
          "data": {
            "text/plain": [
              "   AcresBurned Fire Size Rank Discovery Month  AWND   CLDD  DP10  DX90  PRCP  \\\n",
              "0     132127.0              G             Jul   6.5    0.0   0.0   0.0  0.00   \n",
              "1      48019.0              G             Jun   6.7  529.0   0.0  22.0  0.00   \n",
              "2      46344.0              G             Aug   6.9  237.0   0.0  23.0  0.00   \n",
              "3      36274.0              G             Aug   6.5  455.0   0.0  28.0  0.00   \n",
              "4      33867.0              G             Aug   4.5    0.0   0.0   0.0  0.02   \n",
              "\n",
              "   TAVG  TMAX  TMIN  PRCP_6M  PRCP_RS  DX90_2M  DP10_2M  Receives Snow  \\\n",
              "0  58.8  65.2  52.4    14.11    21.42      0.0      1.0              0   \n",
              "1  82.6  96.6  68.6     4.68     4.88     15.0      4.0              1   \n",
              "2  72.6  92.6  52.6     2.52     8.09     43.0      0.0              0   \n",
              "3  79.7  94.6  64.7     3.41     6.45     43.0      0.0              0   \n",
              "4  56.4  62.9  49.9    18.03    54.17      0.0      2.0              1   \n",
              "\n",
              "   Mar_SP  Mar_WC  Mar_Dens  Elevation  \n",
              "0     0.0     0.0      0.00   961.2744  \n",
              "1    36.0    16.0      0.44  3389.0664  \n",
              "2     0.0     0.0      0.00  1049.8560  \n",
              "3     0.0     0.0      0.00  4192.8624  \n",
              "4    77.0    34.0      0.44  3244.7112  "
            ],
            "text/html": [
              "\n",
              "  <div id=\"df-8f5918be-c2a8-4279-8c77-4e4c8c009e5e\">\n",
              "    <div class=\"colab-df-container\">\n",
              "      <div>\n",
              "<style scoped>\n",
              "    .dataframe tbody tr th:only-of-type {\n",
              "        vertical-align: middle;\n",
              "    }\n",
              "\n",
              "    .dataframe tbody tr th {\n",
              "        vertical-align: top;\n",
              "    }\n",
              "\n",
              "    .dataframe thead th {\n",
              "        text-align: right;\n",
              "    }\n",
              "</style>\n",
              "<table border=\"1\" class=\"dataframe\">\n",
              "  <thead>\n",
              "    <tr style=\"text-align: right;\">\n",
              "      <th></th>\n",
              "      <th>AcresBurned</th>\n",
              "      <th>Fire Size Rank</th>\n",
              "      <th>Discovery Month</th>\n",
              "      <th>AWND</th>\n",
              "      <th>CLDD</th>\n",
              "      <th>DP10</th>\n",
              "      <th>DX90</th>\n",
              "      <th>PRCP</th>\n",
              "      <th>TAVG</th>\n",
              "      <th>TMAX</th>\n",
              "      <th>TMIN</th>\n",
              "      <th>PRCP_6M</th>\n",
              "      <th>PRCP_RS</th>\n",
              "      <th>DX90_2M</th>\n",
              "      <th>DP10_2M</th>\n",
              "      <th>Receives Snow</th>\n",
              "      <th>Mar_SP</th>\n",
              "      <th>Mar_WC</th>\n",
              "      <th>Mar_Dens</th>\n",
              "      <th>Elevation</th>\n",
              "    </tr>\n",
              "  </thead>\n",
              "  <tbody>\n",
              "    <tr>\n",
              "      <th>0</th>\n",
              "      <td>132127.0</td>\n",
              "      <td>G</td>\n",
              "      <td>Jul</td>\n",
              "      <td>6.5</td>\n",
              "      <td>0.0</td>\n",
              "      <td>0.0</td>\n",
              "      <td>0.0</td>\n",
              "      <td>0.00</td>\n",
              "      <td>58.8</td>\n",
              "      <td>65.2</td>\n",
              "      <td>52.4</td>\n",
              "      <td>14.11</td>\n",
              "      <td>21.42</td>\n",
              "      <td>0.0</td>\n",
              "      <td>1.0</td>\n",
              "      <td>0</td>\n",
              "      <td>0.0</td>\n",
              "      <td>0.0</td>\n",
              "      <td>0.00</td>\n",
              "      <td>961.2744</td>\n",
              "    </tr>\n",
              "    <tr>\n",
              "      <th>1</th>\n",
              "      <td>48019.0</td>\n",
              "      <td>G</td>\n",
              "      <td>Jun</td>\n",
              "      <td>6.7</td>\n",
              "      <td>529.0</td>\n",
              "      <td>0.0</td>\n",
              "      <td>22.0</td>\n",
              "      <td>0.00</td>\n",
              "      <td>82.6</td>\n",
              "      <td>96.6</td>\n",
              "      <td>68.6</td>\n",
              "      <td>4.68</td>\n",
              "      <td>4.88</td>\n",
              "      <td>15.0</td>\n",
              "      <td>4.0</td>\n",
              "      <td>1</td>\n",
              "      <td>36.0</td>\n",
              "      <td>16.0</td>\n",
              "      <td>0.44</td>\n",
              "      <td>3389.0664</td>\n",
              "    </tr>\n",
              "    <tr>\n",
              "      <th>2</th>\n",
              "      <td>46344.0</td>\n",
              "      <td>G</td>\n",
              "      <td>Aug</td>\n",
              "      <td>6.9</td>\n",
              "      <td>237.0</td>\n",
              "      <td>0.0</td>\n",
              "      <td>23.0</td>\n",
              "      <td>0.00</td>\n",
              "      <td>72.6</td>\n",
              "      <td>92.6</td>\n",
              "      <td>52.6</td>\n",
              "      <td>2.52</td>\n",
              "      <td>8.09</td>\n",
              "      <td>43.0</td>\n",
              "      <td>0.0</td>\n",
              "      <td>0</td>\n",
              "      <td>0.0</td>\n",
              "      <td>0.0</td>\n",
              "      <td>0.00</td>\n",
              "      <td>1049.8560</td>\n",
              "    </tr>\n",
              "    <tr>\n",
              "      <th>3</th>\n",
              "      <td>36274.0</td>\n",
              "      <td>G</td>\n",
              "      <td>Aug</td>\n",
              "      <td>6.5</td>\n",
              "      <td>455.0</td>\n",
              "      <td>0.0</td>\n",
              "      <td>28.0</td>\n",
              "      <td>0.00</td>\n",
              "      <td>79.7</td>\n",
              "      <td>94.6</td>\n",
              "      <td>64.7</td>\n",
              "      <td>3.41</td>\n",
              "      <td>6.45</td>\n",
              "      <td>43.0</td>\n",
              "      <td>0.0</td>\n",
              "      <td>0</td>\n",
              "      <td>0.0</td>\n",
              "      <td>0.0</td>\n",
              "      <td>0.00</td>\n",
              "      <td>4192.8624</td>\n",
              "    </tr>\n",
              "    <tr>\n",
              "      <th>4</th>\n",
              "      <td>33867.0</td>\n",
              "      <td>G</td>\n",
              "      <td>Aug</td>\n",
              "      <td>4.5</td>\n",
              "      <td>0.0</td>\n",
              "      <td>0.0</td>\n",
              "      <td>0.0</td>\n",
              "      <td>0.02</td>\n",
              "      <td>56.4</td>\n",
              "      <td>62.9</td>\n",
              "      <td>49.9</td>\n",
              "      <td>18.03</td>\n",
              "      <td>54.17</td>\n",
              "      <td>0.0</td>\n",
              "      <td>2.0</td>\n",
              "      <td>1</td>\n",
              "      <td>77.0</td>\n",
              "      <td>34.0</td>\n",
              "      <td>0.44</td>\n",
              "      <td>3244.7112</td>\n",
              "    </tr>\n",
              "  </tbody>\n",
              "</table>\n",
              "</div>\n",
              "      <button class=\"colab-df-convert\" onclick=\"convertToInteractive('df-8f5918be-c2a8-4279-8c77-4e4c8c009e5e')\"\n",
              "              title=\"Convert this dataframe to an interactive table.\"\n",
              "              style=\"display:none;\">\n",
              "        \n",
              "  <svg xmlns=\"http://www.w3.org/2000/svg\" height=\"24px\"viewBox=\"0 0 24 24\"\n",
              "       width=\"24px\">\n",
              "    <path d=\"M0 0h24v24H0V0z\" fill=\"none\"/>\n",
              "    <path d=\"M18.56 5.44l.94 2.06.94-2.06 2.06-.94-2.06-.94-.94-2.06-.94 2.06-2.06.94zm-11 1L8.5 8.5l.94-2.06 2.06-.94-2.06-.94L8.5 2.5l-.94 2.06-2.06.94zm10 10l.94 2.06.94-2.06 2.06-.94-2.06-.94-.94-2.06-.94 2.06-2.06.94z\"/><path d=\"M17.41 7.96l-1.37-1.37c-.4-.4-.92-.59-1.43-.59-.52 0-1.04.2-1.43.59L10.3 9.45l-7.72 7.72c-.78.78-.78 2.05 0 2.83L4 21.41c.39.39.9.59 1.41.59.51 0 1.02-.2 1.41-.59l7.78-7.78 2.81-2.81c.8-.78.8-2.07 0-2.86zM5.41 20L4 18.59l7.72-7.72 1.47 1.35L5.41 20z\"/>\n",
              "  </svg>\n",
              "      </button>\n",
              "      \n",
              "  <style>\n",
              "    .colab-df-container {\n",
              "      display:flex;\n",
              "      flex-wrap:wrap;\n",
              "      gap: 12px;\n",
              "    }\n",
              "\n",
              "    .colab-df-convert {\n",
              "      background-color: #E8F0FE;\n",
              "      border: none;\n",
              "      border-radius: 50%;\n",
              "      cursor: pointer;\n",
              "      display: none;\n",
              "      fill: #1967D2;\n",
              "      height: 32px;\n",
              "      padding: 0 0 0 0;\n",
              "      width: 32px;\n",
              "    }\n",
              "\n",
              "    .colab-df-convert:hover {\n",
              "      background-color: #E2EBFA;\n",
              "      box-shadow: 0px 1px 2px rgba(60, 64, 67, 0.3), 0px 1px 3px 1px rgba(60, 64, 67, 0.15);\n",
              "      fill: #174EA6;\n",
              "    }\n",
              "\n",
              "    [theme=dark] .colab-df-convert {\n",
              "      background-color: #3B4455;\n",
              "      fill: #D2E3FC;\n",
              "    }\n",
              "\n",
              "    [theme=dark] .colab-df-convert:hover {\n",
              "      background-color: #434B5C;\n",
              "      box-shadow: 0px 1px 3px 1px rgba(0, 0, 0, 0.15);\n",
              "      filter: drop-shadow(0px 1px 2px rgba(0, 0, 0, 0.3));\n",
              "      fill: #FFFFFF;\n",
              "    }\n",
              "  </style>\n",
              "\n",
              "      <script>\n",
              "        const buttonEl =\n",
              "          document.querySelector('#df-8f5918be-c2a8-4279-8c77-4e4c8c009e5e button.colab-df-convert');\n",
              "        buttonEl.style.display =\n",
              "          google.colab.kernel.accessAllowed ? 'block' : 'none';\n",
              "\n",
              "        async function convertToInteractive(key) {\n",
              "          const element = document.querySelector('#df-8f5918be-c2a8-4279-8c77-4e4c8c009e5e');\n",
              "          const dataTable =\n",
              "            await google.colab.kernel.invokeFunction('convertToInteractive',\n",
              "                                                     [key], {});\n",
              "          if (!dataTable) return;\n",
              "\n",
              "          const docLinkHtml = 'Like what you see? Visit the ' +\n",
              "            '<a target=\"_blank\" href=https://colab.research.google.com/notebooks/data_table.ipynb>data table notebook</a>'\n",
              "            + ' to learn more about interactive tables.';\n",
              "          element.innerHTML = '';\n",
              "          dataTable['output_type'] = 'display_data';\n",
              "          await google.colab.output.renderOutput(dataTable, element);\n",
              "          const docLink = document.createElement('div');\n",
              "          docLink.innerHTML = docLinkHtml;\n",
              "          element.appendChild(docLink);\n",
              "        }\n",
              "      </script>\n",
              "    </div>\n",
              "  </div>\n",
              "  "
            ]
          },
          "metadata": {},
          "execution_count": 24
        }
      ]
    },
    {
      "cell_type": "code",
      "source": [
        "wildfire_set2.shape"
      ],
      "metadata": {
        "id": "6GGilC4CD906",
        "outputId": "f7b21de7-a346-4acf-fc83-ef5fe8486887",
        "colab": {
          "base_uri": "https://localhost:8080/"
        }
      },
      "execution_count": 25,
      "outputs": [
        {
          "output_type": "execute_result",
          "data": {
            "text/plain": [
              "(1156, 20)"
            ]
          },
          "metadata": {},
          "execution_count": 25
        }
      ]
    },
    {
      "cell_type": "code",
      "source": [
        "print(wildfire_set1.isnull().sum())"
      ],
      "metadata": {
        "id": "or_T8i6DDBwW",
        "outputId": "2d3f9e90-55f2-4c3d-86ba-1269f28bab47",
        "colab": {
          "base_uri": "https://localhost:8080/"
        }
      },
      "execution_count": 26,
      "outputs": [
        {
          "output_type": "stream",
          "name": "stdout",
          "text": [
            "AcresBurned           0\n",
            "Fire Size Rank        0\n",
            "Discovery Month       0\n",
            "AWND               6254\n",
            "CLDD               3335\n",
            "DP10               3042\n",
            "DX90               3333\n",
            "PRCP               3042\n",
            "TAVG               3335\n",
            "TMAX               3333\n",
            "TMIN               3285\n",
            "PRCP_6M            2470\n",
            "PRCP_RS            2811\n",
            "DX90_2M            2215\n",
            "DP10_2M            1599\n",
            "Receives Snow       102\n",
            "Mar_SP              102\n",
            "Mar_WC              102\n",
            "Mar_Dens            102\n",
            "Elevation             0\n",
            "dtype: int64\n"
          ]
        }
      ]
    },
    {
      "cell_type": "code",
      "source": [
        "wildfire_set1 = wildfire_set1.dropna()"
      ],
      "metadata": {
        "id": "Yq9O7gs5EvlC"
      },
      "execution_count": 27,
      "outputs": []
    },
    {
      "cell_type": "code",
      "source": [
        "wildfire_set1.shape"
      ],
      "metadata": {
        "id": "ed-MEhigE8y9",
        "outputId": "96735705-c074-48cd-85f5-0474d8351f01",
        "colab": {
          "base_uri": "https://localhost:8080/"
        }
      },
      "execution_count": 28,
      "outputs": [
        {
          "output_type": "execute_result",
          "data": {
            "text/plain": [
              "(106024, 20)"
            ]
          },
          "metadata": {},
          "execution_count": 28
        }
      ]
    },
    {
      "cell_type": "code",
      "source": [
        "print(wildfire_set2.isnull().sum())"
      ],
      "metadata": {
        "id": "n5pLabm4Dz5W",
        "outputId": "c4ef7311-6240-475f-9d15-2abfd12993b9",
        "colab": {
          "base_uri": "https://localhost:8080/"
        }
      },
      "execution_count": 29,
      "outputs": [
        {
          "output_type": "stream",
          "name": "stdout",
          "text": [
            "AcresBurned         3\n",
            "Fire Size Rank      0\n",
            "Discovery Month     0\n",
            "AWND               37\n",
            "CLDD               37\n",
            "DP10               32\n",
            "DX90               34\n",
            "PRCP               32\n",
            "TAVG               37\n",
            "TMAX               34\n",
            "TMIN               37\n",
            "PRCP_6M             7\n",
            "PRCP_RS            10\n",
            "DX90_2M             2\n",
            "DP10_2M             1\n",
            "Receives Snow       0\n",
            "Mar_SP              0\n",
            "Mar_WC              0\n",
            "Mar_Dens            0\n",
            "Elevation           0\n",
            "dtype: int64\n"
          ]
        }
      ]
    },
    {
      "cell_type": "code",
      "source": [
        "wildfire_set2 = wildfire_set2.dropna()"
      ],
      "metadata": {
        "id": "HehdodiqFMSk"
      },
      "execution_count": 30,
      "outputs": []
    },
    {
      "cell_type": "code",
      "source": [
        "wildfire_set2.shape"
      ],
      "metadata": {
        "id": "dAacNqr7FONE",
        "outputId": "8214cd5e-1c25-420b-bc53-2579d621ea67",
        "colab": {
          "base_uri": "https://localhost:8080/"
        }
      },
      "execution_count": 31,
      "outputs": [
        {
          "output_type": "execute_result",
          "data": {
            "text/plain": [
              "(1105, 20)"
            ]
          },
          "metadata": {},
          "execution_count": 31
        }
      ]
    },
    {
      "cell_type": "code",
      "source": [
        "print(wildfire_set2['Fire Size Rank'].value_counts())"
      ],
      "metadata": {
        "id": "qFGqNz0bJtS8"
      },
      "execution_count": null,
      "outputs": []
    },
    {
      "cell_type": "markdown",
      "source": [
        "Double check our datatypes before we proceed with preprocessing and model building. As we can see, all features besides county and fire size rank are numerical (of type float) so all we have to do is one hot encode these two categorial "
      ],
      "metadata": {
        "id": "rUR65XIfD407"
      }
    },
    {
      "cell_type": "code",
      "source": [
        "wildfire_set1.info()"
      ],
      "metadata": {
        "id": "Bi_rLgPbDzAi"
      },
      "execution_count": null,
      "outputs": []
    },
    {
      "cell_type": "code",
      "source": [
        "wildfire_set2.info()"
      ],
      "metadata": {
        "id": "Ci06aOQzA-jH"
      },
      "execution_count": null,
      "outputs": []
    },
    {
      "cell_type": "code",
      "source": [
        "wildfire_set1.describe()"
      ],
      "metadata": {
        "id": "v4ei0qVc_rdD"
      },
      "execution_count": null,
      "outputs": []
    },
    {
      "cell_type": "code",
      "source": [
        "wildfire_set2.describe()"
      ],
      "metadata": {
        "id": "gB0j5eBj_v4_"
      },
      "execution_count": null,
      "outputs": []
    },
    {
      "cell_type": "code",
      "source": [
        "from sklearn import preprocessing\n",
        "from sklearn.preprocessing import MinMaxScaler"
      ],
      "metadata": {
        "id": "kebkzKqcADoB"
      },
      "execution_count": null,
      "outputs": []
    },
    {
      "cell_type": "markdown",
      "source": [
        "Address Null Values and Data Smoothing"
      ],
      "metadata": {
        "id": "W1pLJsIC3qMj"
      }
    },
    {
      "cell_type": "markdown",
      "source": [
        "One-hot encode categorical features (e.g. Month discovered)"
      ],
      "metadata": {
        "id": "wDc2L8Va6C6Q"
      }
    },
    {
      "cell_type": "markdown",
      "source": [
        "Bar Charts and Class Definition"
      ],
      "metadata": {
        "id": "MyFlviYl3n8y"
      }
    },
    {
      "cell_type": "markdown",
      "source": [
        "Split the data into train-test sets"
      ],
      "metadata": {
        "id": "FemK64fS3i80"
      }
    },
    {
      "cell_type": "code",
      "source": [
        "from sklearn.model_selection import train_test_split, cross_val_score\n",
        "from sklearn.metrics import accuracy_score, confusion_matrix, precision_score, recall_score, f1_score"
      ],
      "metadata": {
        "id": "17tarEVX4UxK"
      },
      "execution_count": null,
      "outputs": []
    },
    {
      "cell_type": "markdown",
      "source": [
        "Normalize data using min-max-scalar after splitting into train and test"
      ],
      "metadata": {
        "id": "w30t2GCT4t5I"
      }
    },
    {
      "cell_type": "markdown",
      "source": [
        "Feature Selection"
      ],
      "metadata": {
        "id": "WMrEnmGD3Yiw"
      }
    },
    {
      "cell_type": "code",
      "source": [
        "from sklearn.feature_selection import RFE, SelectKBest"
      ],
      "metadata": {
        "id": "y2gUWnG9401o"
      },
      "execution_count": null,
      "outputs": []
    },
    {
      "cell_type": "markdown",
      "source": [
        "Cross-Validation"
      ],
      "metadata": {
        "id": "vUHapaAC3Zeq"
      }
    },
    {
      "cell_type": "markdown",
      "source": [
        "Model Building:"
      ],
      "metadata": {
        "id": "8n4zyV0H3x1M"
      }
    },
    {
      "cell_type": "markdown",
      "source": [
        "# KNN Classifier"
      ],
      "metadata": {
        "id": "KKPp8fjfOgNv"
      }
    },
    {
      "cell_type": "code",
      "source": [
        "from sklearn import svm\n",
        "from sklearn.svm import SVC"
      ],
      "metadata": {
        "id": "zMne7LwO4Ggz"
      },
      "execution_count": null,
      "outputs": []
    },
    {
      "cell_type": "markdown",
      "source": [
        "# SVM Classifier"
      ],
      "metadata": {
        "id": "L-gpnPT1OiRE"
      }
    },
    {
      "cell_type": "code",
      "source": [
        "from sklearn.neighbors import KNeighborsClassifier"
      ],
      "metadata": {
        "id": "4PBInVf64DwC"
      },
      "execution_count": null,
      "outputs": []
    },
    {
      "cell_type": "markdown",
      "source": [
        "# Naive Bayes Classifier"
      ],
      "metadata": {
        "id": "Jk9d4KL5POqf"
      }
    },
    {
      "cell_type": "code",
      "source": [
        "from sklearn.naive_bayes import GaussianNB"
      ],
      "metadata": {
        "id": "y8Cdb-uN4bYf"
      },
      "execution_count": null,
      "outputs": []
    },
    {
      "cell_type": "markdown",
      "source": [
        "# Decision Tree Classifier"
      ],
      "metadata": {
        "id": "9TqkiZUsOqL-"
      }
    },
    {
      "cell_type": "code",
      "source": [
        "from sklearn import tree\n",
        "from sklearn.tree import DecisionTreeClassifier"
      ],
      "metadata": {
        "id": "jhXmB_ql4b65"
      },
      "execution_count": null,
      "outputs": []
    },
    {
      "cell_type": "markdown",
      "source": [
        "# Random Forest Classifier"
      ],
      "metadata": {
        "id": "7uQRR-OUPFf4"
      }
    },
    {
      "cell_type": "code",
      "source": [
        "from sklearn.ensemble import RandomForestClassifier"
      ],
      "metadata": {
        "id": "1e3swz5a4cjB"
      },
      "execution_count": null,
      "outputs": []
    },
    {
      "cell_type": "markdown",
      "source": [
        "# Gradient Boost Classifier"
      ],
      "metadata": {
        "id": "5cD71HlgALX-"
      }
    },
    {
      "cell_type": "code",
      "source": [
        "from sklearn.ensemble import GradientBoostingClassifier"
      ],
      "metadata": {
        "id": "zVXJEgOaANrD"
      },
      "execution_count": null,
      "outputs": []
    },
    {
      "cell_type": "markdown",
      "source": [
        "# Neural Network Multiclass classifier (TensorFlow)\n",
        "- Experiment by changing number of hidden layers and activation functions (sigmoid, relu, softmax)\n",
        "- Change number of epochs and add more hidden layers\n",
        "- Size of input = number of features in the dataset\n",
        "- Size of output = number of classes in the multiclass classification problem"
      ],
      "metadata": {
        "id": "lDY2X1RoOiom"
      }
    },
    {
      "cell_type": "code",
      "source": [
        "import tensorflow as tf\n",
        "from tensorflow import keras\n",
        "from sklearn.model_selection import train_test_split\n",
        "\n",
        "from tensorflow.keras.models import Sequential\n",
        "from tensorflow.keras.layers import Activation, Dense, BatchNormalization, Dropout\n",
        "from tensorflow.keras import optimizers\n",
        "import matplotlib.pyplot as plt\n",
        "import numpy as np \n",
        "import pandas as pd\n",
        "import seaborn as sns"
      ],
      "metadata": {
        "id": "3Ny9rjjb4d-x"
      },
      "execution_count": null,
      "outputs": []
    },
    {
      "cell_type": "markdown",
      "source": [
        "# Voting Classifier"
      ],
      "metadata": {
        "id": "kIvL7ZNa_bAt"
      }
    },
    {
      "cell_type": "code",
      "source": [
        "from sklearn.ensemble import VotingClassifier"
      ],
      "metadata": {
        "id": "NLgZnShb_cpg"
      },
      "execution_count": null,
      "outputs": []
    }
  ]
}