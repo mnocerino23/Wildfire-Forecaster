{
  "nbformat": 4,
  "nbformat_minor": 0,
  "metadata": {
    "colab": {
      "name": "Final_Prepping.ipynb",
      "provenance": [],
      "authorship_tag": "ABX9TyOLGaIiHFyifNukCUU/ao5A",
      "include_colab_link": true
    },
    "kernelspec": {
      "name": "python3",
      "display_name": "Python 3"
    },
    "language_info": {
      "name": "python"
    }
  },
  "cells": [
    {
      "cell_type": "markdown",
      "metadata": {
        "id": "view-in-github",
        "colab_type": "text"
      },
      "source": [
        "<a href=\"https://colab.research.google.com/github/mnocerino23/Wildfire-Forecaster/blob/main/Final_Prepping.ipynb\" target=\"_parent\"><img src=\"https://colab.research.google.com/assets/colab-badge.svg\" alt=\"Open In Colab\"/></a>"
      ]
    },
    {
      "cell_type": "markdown",
      "source": [
        "In this Jupyter Notebook, I will \n",
        "\n",
        "\n",
        "I will then decide how to handle null values and make some final changes before we begin applying machine learning techniques."
      ],
      "metadata": {
        "id": "DVEn9w8Zu77a"
      }
    },
    {
      "cell_type": "code",
      "execution_count": 5,
      "metadata": {
        "colab": {
          "base_uri": "https://localhost:8080/"
        },
        "id": "axXxLm-4uGOM",
        "outputId": "5f3681e8-9937-49a6-f128-2e297bf0d13b"
      },
      "outputs": [
        {
          "output_type": "stream",
          "name": "stdout",
          "text": [
            "Drive already mounted at /content/drive; to attempt to forcibly remount, call drive.mount(\"/content/drive\", force_remount=True).\n"
          ]
        }
      ],
      "source": [
        "import pandas as pd\n",
        "from google.colab import drive\n",
        "drive.mount('/content/drive')\n",
        "\n",
        "#Read in the larger dataset (2001-2015) including NOAA weather data and engineered features\n",
        "wildfires1 = pd.read_csv('/content/drive/MyDrive/Data_Science_Projects/Wildfires/CA_wildfires_with_weather.csv')\n",
        "\n",
        "#Read in the smaller dataset (2016-2019) including NOAA weather data and engineered features\n",
        "wildfires2 = pd.read_csv('/content/drive/MyDrive/Data_Science_Projects/Wildfires/CA_wildfires_recent_with_weather.csv')\n",
        "\n",
        "#Read in the snow data that I gathered in the CDEC snow data jupyter notebook\n",
        "snow = pd.read_csv('/content/drive/MyDrive/Data_Science_Projects/Wildfires/CA_SnowData.csv')"
      ]
    },
    {
      "cell_type": "markdown",
      "source": [
        "The dictionary below contains all 58 counties in the state of California mapped to a 0 (meaning they do not receive snow) and a 1 (if the county receives snowfall). \n",
        "\n",
        "To add in snowfall data, I will use the following procedure:\n"
      ],
      "metadata": {
        "id": "Ymc-c1coEyek"
      }
    },
    {
      "cell_type": "code",
      "source": [
        "receives_snow = {'Alameda': 0, 'Alpine': 1, 'Amador':1, 'Butte': 0,\n",
        "                 'Calaveras': 1, 'Colusa': 0, 'Contra Costa': 0,\n",
        "                 'Del Norte': 0, 'El Dorado': 1,\n",
        "                 'Fresno': 1 , 'Glenn': 0,'Humboldt': 0,'Imperial':0,\n",
        "                 'Inyo': 1, 'Kern': 1, 'Kings': 0, 'Lake': 0,'Lassen': 1 ,'Los Angeles': 0,\n",
        "                 'Madera': 1, 'Marin': 0, 'Mariposa': 1, 'Mendocino': 0,\n",
        "                 'Merced': 0, 'Modoc': 1,'Mono': 1, 'Monterey': 0,\n",
        "                 'Napa': 0, 'Nevada': 1, 'Orange': 0, 'Placer': 1, 'Plumas': 1,\n",
        "                 'Riverside': 0, 'Sacramento': 0, 'San Benito': 0, \n",
        "                 'San Bernardino': 0, 'San Diego': 0, 'San Francisco': 0, \n",
        "                 'San Joaquin': 0, 'San Luis Obispo': 0, 'San Mateo': 0,\n",
        "                 'Santa Barbara': 0, 'Santa Clara': 0, 'Santa Cruz': 0,\n",
        "                 'Shasta': 1, 'Sierra': 1 , 'Siskiyou': 1, 'Solano': 0, 'Sonoma': 0, \n",
        "                 'Stanislaus': 1, 'Sutter': 0, 'Tehama': 1, 'Trinity': 1, \n",
        "                 'Tulare':1, 'Tuolumne': 1, 'Ventura': 0, 'Yolo': 0, 'Yuba': 1}"
      ],
      "metadata": {
        "id": "9BkJ0_Im7tcZ"
      },
      "execution_count": 12,
      "outputs": []
    },
    {
      "cell_type": "markdown",
      "source": [
        "If the county of the fire is known, we add in the value for that county key in the receives_snow dictionary. However, if the county has an NaN value we don't do anything for now."
      ],
      "metadata": {
        "id": "kjKA4JM7H2xn"
      }
    },
    {
      "cell_type": "code",
      "source": [
        "wildfires1['Receives Snow'] = ''\n",
        "wildfires2['Receives Snow'] = ''"
      ],
      "metadata": {
        "id": "h-chHE_DF4te"
      },
      "execution_count": 18,
      "outputs": []
    },
    {
      "cell_type": "code",
      "source": [
        ""
      ],
      "metadata": {
        "id": "-R9AXPX5IXlg"
      },
      "execution_count": null,
      "outputs": []
    }
  ]
}