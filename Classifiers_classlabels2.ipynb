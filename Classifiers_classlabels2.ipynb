{
  "nbformat": 4,
  "nbformat_minor": 0,
  "metadata": {
    "colab": {
      "name": "Classifiers_classlabels2.ipynb",
      "provenance": [],
      "authorship_tag": "ABX9TyNnuV5ZK2K6xycWjgRVUgd9",
      "include_colab_link": true
    },
    "kernelspec": {
      "name": "python3",
      "display_name": "Python 3"
    },
    "language_info": {
      "name": "python"
    }
  },
  "cells": [
    {
      "cell_type": "markdown",
      "metadata": {
        "id": "view-in-github",
        "colab_type": "text"
      },
      "source": [
        "<a href=\"https://colab.research.google.com/github/mnocerino23/Wildfire-Forecaster/blob/main/Classifiers_classlabels2.ipynb\" target=\"_parent\"><img src=\"https://colab.research.google.com/assets/colab-badge.svg\" alt=\"Open In Colab\"/></a>"
      ]
    },
    {
      "cell_type": "markdown",
      "source": [
        "Now that we have gathered data from kaggle, NOAA, the California Department of Water resources, and the Open-Elevation API into two consistent datasets, we will drop columns that are not necessary for training our models and take care of some final preprocessing.\n",
        "\n",
        "In this file, I will start to build multi-class classifiers using Support Vector Machine, Gaussian Naive Bayes, Decision Tree, Random Forest, KNN, Gradient Boosting, and Neural Networks. \n",
        "\n",
        "The target feature will be ***Fire Size Class*** as we want to predict the size/risk of a large fire given certain weather and snow conditions.\n",
        "\n",
        "\n",
        "I will deploy the following techniques:\n",
        "\n",
        "1.   One-Hot Encoding of Categorical Variables\n",
        "2.   Feature Selection\n",
        "3.   Splitting the training and testing data\n",
        "4.   Cross-Validation"
      ],
      "metadata": {
        "id": "-I3LKR6MgBl0"
      }
    },
    {
      "cell_type": "code",
      "execution_count": 1,
      "metadata": {
        "colab": {
          "base_uri": "https://localhost:8080/"
        },
        "id": "HrMUdZtAf4H0",
        "outputId": "ef448203-8da2-45aa-c961-09d873ffd804"
      },
      "outputs": [
        {
          "output_type": "stream",
          "name": "stdout",
          "text": [
            "Mounted at /content/drive\n"
          ]
        },
        {
          "output_type": "stream",
          "name": "stderr",
          "text": [
            "/usr/local/lib/python3.7/dist-packages/IPython/core/interactiveshell.py:2882: DtypeWarning: Columns (10) have mixed types.Specify dtype option on import or set low_memory=False.\n",
            "  exec(code_obj, self.user_global_ns, self.user_ns)\n"
          ]
        }
      ],
      "source": [
        "import sklearn\n",
        "import numpy as np\n",
        "import pandas as pd\n",
        "\n",
        "from google.colab import drive\n",
        "drive.mount('/content/drive')\n",
        "\n",
        "#Read in the two final datasets. The first contains over 110,000 fires from 2001-2015 while the second has 1,000 more recent, larger fires.\n",
        "wildfire_set1 = pd.read_csv('/content/drive/MyDrive/Data_Science_Projects/Wildfires/wildfire_set1_w_allfeatures.csv')\n",
        "wildfire_set2 = pd.read_csv('/content/drive/MyDrive/Data_Science_Projects/Wildfires/wildfire_set2_w_allfeatures.csv')"
      ]
    },
    {
      "cell_type": "code",
      "source": [
        "wildfire_set1.head(5)"
      ],
      "metadata": {
        "colab": {
          "base_uri": "https://localhost:8080/",
          "height": 369
        },
        "id": "aO-f1JZ6gE_J",
        "outputId": "54f8e228-8840-4865-dca7-cb89d15116be"
      },
      "execution_count": 2,
      "outputs": [
        {
          "output_type": "execute_result",
          "data": {
            "text/plain": [
              "   Unnamed: 0  Year      Name  AcresBurned Fire Size Rank           Cause  \\\n",
              "0           0  2005  FOUNTAIN         0.10              A   Miscellaneous   \n",
              "1           1  2004    PIGEON         0.25              A       Lightning   \n",
              "2           2  2004     SLACK         0.10              A  Debris Burning   \n",
              "3           3  2004      DEER         0.10              A       Lightning   \n",
              "4           4  2004  STEVENOT         0.10              A       Lightning   \n",
              "\n",
              "  SOURCE_REPORTING_UNIT_NAME  DaysBurn Discovery Month  Discovered DOY  ...  \\\n",
              "0     Plumas National Forest       1.0             Feb            33.0  ...   \n",
              "1   Eldorado National Forest       1.0             May           133.0  ...   \n",
              "2   Eldorado National Forest       1.0             Jun           152.0  ...   \n",
              "3   Eldorado National Forest       5.0             Jun           180.0  ...   \n",
              "4   Eldorado National Forest       5.0             Jun           180.0  ...   \n",
              "\n",
              "  DX90_2M  DP10_2M  Receives Snow  Snow Station River Basin  Mar_SP Mar_WC  \\\n",
              "0     0.0     19.0            1.0   eureka_lake     Feather    79.6   34.0   \n",
              "1     0.0      3.0            1.0  ward_creek_2  Lake Tahoe   108.6   38.1   \n",
              "2     0.0     11.0            1.0  ward_creek_2  Lake Tahoe   108.6   38.1   \n",
              "3     0.0      3.0            1.0   echo_summit    American    87.2   28.4   \n",
              "4     0.0      3.0            1.0   echo_summit    American    87.2   28.4   \n",
              "\n",
              "  Mar_Dens Has_Elevation  Elevation  \n",
              "0     0.43             1  2965.8432  \n",
              "1     0.35             1  6207.2736  \n",
              "2     0.35             1  3454.6824  \n",
              "3     0.33             1  7759.0920  \n",
              "4     0.33             1  7598.3328  \n",
              "\n",
              "[5 rows x 40 columns]"
            ],
            "text/html": [
              "\n",
              "  <div id=\"df-2df129a9-7855-46a1-893d-fdaeae875285\">\n",
              "    <div class=\"colab-df-container\">\n",
              "      <div>\n",
              "<style scoped>\n",
              "    .dataframe tbody tr th:only-of-type {\n",
              "        vertical-align: middle;\n",
              "    }\n",
              "\n",
              "    .dataframe tbody tr th {\n",
              "        vertical-align: top;\n",
              "    }\n",
              "\n",
              "    .dataframe thead th {\n",
              "        text-align: right;\n",
              "    }\n",
              "</style>\n",
              "<table border=\"1\" class=\"dataframe\">\n",
              "  <thead>\n",
              "    <tr style=\"text-align: right;\">\n",
              "      <th></th>\n",
              "      <th>Unnamed: 0</th>\n",
              "      <th>Year</th>\n",
              "      <th>Name</th>\n",
              "      <th>AcresBurned</th>\n",
              "      <th>Fire Size Rank</th>\n",
              "      <th>Cause</th>\n",
              "      <th>SOURCE_REPORTING_UNIT_NAME</th>\n",
              "      <th>DaysBurn</th>\n",
              "      <th>Discovery Month</th>\n",
              "      <th>Discovered DOY</th>\n",
              "      <th>...</th>\n",
              "      <th>DX90_2M</th>\n",
              "      <th>DP10_2M</th>\n",
              "      <th>Receives Snow</th>\n",
              "      <th>Snow Station</th>\n",
              "      <th>River Basin</th>\n",
              "      <th>Mar_SP</th>\n",
              "      <th>Mar_WC</th>\n",
              "      <th>Mar_Dens</th>\n",
              "      <th>Has_Elevation</th>\n",
              "      <th>Elevation</th>\n",
              "    </tr>\n",
              "  </thead>\n",
              "  <tbody>\n",
              "    <tr>\n",
              "      <th>0</th>\n",
              "      <td>0</td>\n",
              "      <td>2005</td>\n",
              "      <td>FOUNTAIN</td>\n",
              "      <td>0.10</td>\n",
              "      <td>A</td>\n",
              "      <td>Miscellaneous</td>\n",
              "      <td>Plumas National Forest</td>\n",
              "      <td>1.0</td>\n",
              "      <td>Feb</td>\n",
              "      <td>33.0</td>\n",
              "      <td>...</td>\n",
              "      <td>0.0</td>\n",
              "      <td>19.0</td>\n",
              "      <td>1.0</td>\n",
              "      <td>eureka_lake</td>\n",
              "      <td>Feather</td>\n",
              "      <td>79.6</td>\n",
              "      <td>34.0</td>\n",
              "      <td>0.43</td>\n",
              "      <td>1</td>\n",
              "      <td>2965.8432</td>\n",
              "    </tr>\n",
              "    <tr>\n",
              "      <th>1</th>\n",
              "      <td>1</td>\n",
              "      <td>2004</td>\n",
              "      <td>PIGEON</td>\n",
              "      <td>0.25</td>\n",
              "      <td>A</td>\n",
              "      <td>Lightning</td>\n",
              "      <td>Eldorado National Forest</td>\n",
              "      <td>1.0</td>\n",
              "      <td>May</td>\n",
              "      <td>133.0</td>\n",
              "      <td>...</td>\n",
              "      <td>0.0</td>\n",
              "      <td>3.0</td>\n",
              "      <td>1.0</td>\n",
              "      <td>ward_creek_2</td>\n",
              "      <td>Lake Tahoe</td>\n",
              "      <td>108.6</td>\n",
              "      <td>38.1</td>\n",
              "      <td>0.35</td>\n",
              "      <td>1</td>\n",
              "      <td>6207.2736</td>\n",
              "    </tr>\n",
              "    <tr>\n",
              "      <th>2</th>\n",
              "      <td>2</td>\n",
              "      <td>2004</td>\n",
              "      <td>SLACK</td>\n",
              "      <td>0.10</td>\n",
              "      <td>A</td>\n",
              "      <td>Debris Burning</td>\n",
              "      <td>Eldorado National Forest</td>\n",
              "      <td>1.0</td>\n",
              "      <td>Jun</td>\n",
              "      <td>152.0</td>\n",
              "      <td>...</td>\n",
              "      <td>0.0</td>\n",
              "      <td>11.0</td>\n",
              "      <td>1.0</td>\n",
              "      <td>ward_creek_2</td>\n",
              "      <td>Lake Tahoe</td>\n",
              "      <td>108.6</td>\n",
              "      <td>38.1</td>\n",
              "      <td>0.35</td>\n",
              "      <td>1</td>\n",
              "      <td>3454.6824</td>\n",
              "    </tr>\n",
              "    <tr>\n",
              "      <th>3</th>\n",
              "      <td>3</td>\n",
              "      <td>2004</td>\n",
              "      <td>DEER</td>\n",
              "      <td>0.10</td>\n",
              "      <td>A</td>\n",
              "      <td>Lightning</td>\n",
              "      <td>Eldorado National Forest</td>\n",
              "      <td>5.0</td>\n",
              "      <td>Jun</td>\n",
              "      <td>180.0</td>\n",
              "      <td>...</td>\n",
              "      <td>0.0</td>\n",
              "      <td>3.0</td>\n",
              "      <td>1.0</td>\n",
              "      <td>echo_summit</td>\n",
              "      <td>American</td>\n",
              "      <td>87.2</td>\n",
              "      <td>28.4</td>\n",
              "      <td>0.33</td>\n",
              "      <td>1</td>\n",
              "      <td>7759.0920</td>\n",
              "    </tr>\n",
              "    <tr>\n",
              "      <th>4</th>\n",
              "      <td>4</td>\n",
              "      <td>2004</td>\n",
              "      <td>STEVENOT</td>\n",
              "      <td>0.10</td>\n",
              "      <td>A</td>\n",
              "      <td>Lightning</td>\n",
              "      <td>Eldorado National Forest</td>\n",
              "      <td>5.0</td>\n",
              "      <td>Jun</td>\n",
              "      <td>180.0</td>\n",
              "      <td>...</td>\n",
              "      <td>0.0</td>\n",
              "      <td>3.0</td>\n",
              "      <td>1.0</td>\n",
              "      <td>echo_summit</td>\n",
              "      <td>American</td>\n",
              "      <td>87.2</td>\n",
              "      <td>28.4</td>\n",
              "      <td>0.33</td>\n",
              "      <td>1</td>\n",
              "      <td>7598.3328</td>\n",
              "    </tr>\n",
              "  </tbody>\n",
              "</table>\n",
              "<p>5 rows × 40 columns</p>\n",
              "</div>\n",
              "      <button class=\"colab-df-convert\" onclick=\"convertToInteractive('df-2df129a9-7855-46a1-893d-fdaeae875285')\"\n",
              "              title=\"Convert this dataframe to an interactive table.\"\n",
              "              style=\"display:none;\">\n",
              "        \n",
              "  <svg xmlns=\"http://www.w3.org/2000/svg\" height=\"24px\"viewBox=\"0 0 24 24\"\n",
              "       width=\"24px\">\n",
              "    <path d=\"M0 0h24v24H0V0z\" fill=\"none\"/>\n",
              "    <path d=\"M18.56 5.44l.94 2.06.94-2.06 2.06-.94-2.06-.94-.94-2.06-.94 2.06-2.06.94zm-11 1L8.5 8.5l.94-2.06 2.06-.94-2.06-.94L8.5 2.5l-.94 2.06-2.06.94zm10 10l.94 2.06.94-2.06 2.06-.94-2.06-.94-.94-2.06-.94 2.06-2.06.94z\"/><path d=\"M17.41 7.96l-1.37-1.37c-.4-.4-.92-.59-1.43-.59-.52 0-1.04.2-1.43.59L10.3 9.45l-7.72 7.72c-.78.78-.78 2.05 0 2.83L4 21.41c.39.39.9.59 1.41.59.51 0 1.02-.2 1.41-.59l7.78-7.78 2.81-2.81c.8-.78.8-2.07 0-2.86zM5.41 20L4 18.59l7.72-7.72 1.47 1.35L5.41 20z\"/>\n",
              "  </svg>\n",
              "      </button>\n",
              "      \n",
              "  <style>\n",
              "    .colab-df-container {\n",
              "      display:flex;\n",
              "      flex-wrap:wrap;\n",
              "      gap: 12px;\n",
              "    }\n",
              "\n",
              "    .colab-df-convert {\n",
              "      background-color: #E8F0FE;\n",
              "      border: none;\n",
              "      border-radius: 50%;\n",
              "      cursor: pointer;\n",
              "      display: none;\n",
              "      fill: #1967D2;\n",
              "      height: 32px;\n",
              "      padding: 0 0 0 0;\n",
              "      width: 32px;\n",
              "    }\n",
              "\n",
              "    .colab-df-convert:hover {\n",
              "      background-color: #E2EBFA;\n",
              "      box-shadow: 0px 1px 2px rgba(60, 64, 67, 0.3), 0px 1px 3px 1px rgba(60, 64, 67, 0.15);\n",
              "      fill: #174EA6;\n",
              "    }\n",
              "\n",
              "    [theme=dark] .colab-df-convert {\n",
              "      background-color: #3B4455;\n",
              "      fill: #D2E3FC;\n",
              "    }\n",
              "\n",
              "    [theme=dark] .colab-df-convert:hover {\n",
              "      background-color: #434B5C;\n",
              "      box-shadow: 0px 1px 3px 1px rgba(0, 0, 0, 0.15);\n",
              "      filter: drop-shadow(0px 1px 2px rgba(0, 0, 0, 0.3));\n",
              "      fill: #FFFFFF;\n",
              "    }\n",
              "  </style>\n",
              "\n",
              "      <script>\n",
              "        const buttonEl =\n",
              "          document.querySelector('#df-2df129a9-7855-46a1-893d-fdaeae875285 button.colab-df-convert');\n",
              "        buttonEl.style.display =\n",
              "          google.colab.kernel.accessAllowed ? 'block' : 'none';\n",
              "\n",
              "        async function convertToInteractive(key) {\n",
              "          const element = document.querySelector('#df-2df129a9-7855-46a1-893d-fdaeae875285');\n",
              "          const dataTable =\n",
              "            await google.colab.kernel.invokeFunction('convertToInteractive',\n",
              "                                                     [key], {});\n",
              "          if (!dataTable) return;\n",
              "\n",
              "          const docLinkHtml = 'Like what you see? Visit the ' +\n",
              "            '<a target=\"_blank\" href=https://colab.research.google.com/notebooks/data_table.ipynb>data table notebook</a>'\n",
              "            + ' to learn more about interactive tables.';\n",
              "          element.innerHTML = '';\n",
              "          dataTable['output_type'] = 'display_data';\n",
              "          await google.colab.output.renderOutput(dataTable, element);\n",
              "          const docLink = document.createElement('div');\n",
              "          docLink.innerHTML = docLinkHtml;\n",
              "          element.appendChild(docLink);\n",
              "        }\n",
              "      </script>\n",
              "    </div>\n",
              "  </div>\n",
              "  "
            ]
          },
          "metadata": {},
          "execution_count": 2
        }
      ]
    },
    {
      "cell_type": "code",
      "source": [
        "wildfire_set2.head()"
      ],
      "metadata": {
        "colab": {
          "base_uri": "https://localhost:8080/",
          "height": 404
        },
        "id": "lX1fsbcegGRy",
        "outputId": "67912868-85a6-4e6e-bb96-4dc7374b7911"
      },
      "execution_count": 3,
      "outputs": [
        {
          "output_type": "execute_result",
          "data": {
            "text/plain": [
              "   Unnamed: 0  Year            Name  AcresBurned Fire Size Rank  Cause  \\\n",
              "0           0  2016  Soberanes Fire     132127.0              G    NaN   \n",
              "1           1  2016    Erskine Fire      48019.0              G    NaN   \n",
              "2           2  2016    Chimney Fire      46344.0              G    NaN   \n",
              "3           3  2016   Blue Cut Fire      36274.0              G    NaN   \n",
              "4           4  2016        Gap Fire      33867.0              G    NaN   \n",
              "\n",
              "   SOURCE_REPORTING_UNIT_NAME  DaysBurn Discovery Month  Discovered DOY  ...  \\\n",
              "0                         NaN      83.0             Jul             NaN  ...   \n",
              "1                         NaN      18.0             Jun             NaN  ...   \n",
              "2                         NaN      24.0             Aug             NaN  ...   \n",
              "3                         NaN       7.0             Aug             NaN  ...   \n",
              "4                         NaN       1.0             Aug             NaN  ...   \n",
              "\n",
              "  DX90_2M  DP10_2M  Receives Snow  Snow Station River Basin Mar_SP Mar_WC  \\\n",
              "0     0.0      1.0              0           NaN         NaN    0.0    0.0   \n",
              "1    15.0      4.0              1  mineral_king      Kaweah   36.0   16.0   \n",
              "2    43.0      0.0              0           NaN         NaN    0.0    0.0   \n",
              "3    43.0      0.0              0           NaN         NaN    0.0    0.0   \n",
              "4     0.0      2.0              1   parks_creek      Shasta   77.0   34.0   \n",
              "\n",
              "   Mar_Dens Has_Elevation  Elevation  \n",
              "0      0.00             1   961.2744  \n",
              "1      0.44             1  3389.0664  \n",
              "2      0.00             1  1049.8560  \n",
              "3      0.00             1  4192.8624  \n",
              "4      0.44             1  3244.7112  \n",
              "\n",
              "[5 rows x 40 columns]"
            ],
            "text/html": [
              "\n",
              "  <div id=\"df-eba3ed00-0da7-4b2b-b7b4-67ec2b3e6193\">\n",
              "    <div class=\"colab-df-container\">\n",
              "      <div>\n",
              "<style scoped>\n",
              "    .dataframe tbody tr th:only-of-type {\n",
              "        vertical-align: middle;\n",
              "    }\n",
              "\n",
              "    .dataframe tbody tr th {\n",
              "        vertical-align: top;\n",
              "    }\n",
              "\n",
              "    .dataframe thead th {\n",
              "        text-align: right;\n",
              "    }\n",
              "</style>\n",
              "<table border=\"1\" class=\"dataframe\">\n",
              "  <thead>\n",
              "    <tr style=\"text-align: right;\">\n",
              "      <th></th>\n",
              "      <th>Unnamed: 0</th>\n",
              "      <th>Year</th>\n",
              "      <th>Name</th>\n",
              "      <th>AcresBurned</th>\n",
              "      <th>Fire Size Rank</th>\n",
              "      <th>Cause</th>\n",
              "      <th>SOURCE_REPORTING_UNIT_NAME</th>\n",
              "      <th>DaysBurn</th>\n",
              "      <th>Discovery Month</th>\n",
              "      <th>Discovered DOY</th>\n",
              "      <th>...</th>\n",
              "      <th>DX90_2M</th>\n",
              "      <th>DP10_2M</th>\n",
              "      <th>Receives Snow</th>\n",
              "      <th>Snow Station</th>\n",
              "      <th>River Basin</th>\n",
              "      <th>Mar_SP</th>\n",
              "      <th>Mar_WC</th>\n",
              "      <th>Mar_Dens</th>\n",
              "      <th>Has_Elevation</th>\n",
              "      <th>Elevation</th>\n",
              "    </tr>\n",
              "  </thead>\n",
              "  <tbody>\n",
              "    <tr>\n",
              "      <th>0</th>\n",
              "      <td>0</td>\n",
              "      <td>2016</td>\n",
              "      <td>Soberanes Fire</td>\n",
              "      <td>132127.0</td>\n",
              "      <td>G</td>\n",
              "      <td>NaN</td>\n",
              "      <td>NaN</td>\n",
              "      <td>83.0</td>\n",
              "      <td>Jul</td>\n",
              "      <td>NaN</td>\n",
              "      <td>...</td>\n",
              "      <td>0.0</td>\n",
              "      <td>1.0</td>\n",
              "      <td>0</td>\n",
              "      <td>NaN</td>\n",
              "      <td>NaN</td>\n",
              "      <td>0.0</td>\n",
              "      <td>0.0</td>\n",
              "      <td>0.00</td>\n",
              "      <td>1</td>\n",
              "      <td>961.2744</td>\n",
              "    </tr>\n",
              "    <tr>\n",
              "      <th>1</th>\n",
              "      <td>1</td>\n",
              "      <td>2016</td>\n",
              "      <td>Erskine Fire</td>\n",
              "      <td>48019.0</td>\n",
              "      <td>G</td>\n",
              "      <td>NaN</td>\n",
              "      <td>NaN</td>\n",
              "      <td>18.0</td>\n",
              "      <td>Jun</td>\n",
              "      <td>NaN</td>\n",
              "      <td>...</td>\n",
              "      <td>15.0</td>\n",
              "      <td>4.0</td>\n",
              "      <td>1</td>\n",
              "      <td>mineral_king</td>\n",
              "      <td>Kaweah</td>\n",
              "      <td>36.0</td>\n",
              "      <td>16.0</td>\n",
              "      <td>0.44</td>\n",
              "      <td>1</td>\n",
              "      <td>3389.0664</td>\n",
              "    </tr>\n",
              "    <tr>\n",
              "      <th>2</th>\n",
              "      <td>2</td>\n",
              "      <td>2016</td>\n",
              "      <td>Chimney Fire</td>\n",
              "      <td>46344.0</td>\n",
              "      <td>G</td>\n",
              "      <td>NaN</td>\n",
              "      <td>NaN</td>\n",
              "      <td>24.0</td>\n",
              "      <td>Aug</td>\n",
              "      <td>NaN</td>\n",
              "      <td>...</td>\n",
              "      <td>43.0</td>\n",
              "      <td>0.0</td>\n",
              "      <td>0</td>\n",
              "      <td>NaN</td>\n",
              "      <td>NaN</td>\n",
              "      <td>0.0</td>\n",
              "      <td>0.0</td>\n",
              "      <td>0.00</td>\n",
              "      <td>1</td>\n",
              "      <td>1049.8560</td>\n",
              "    </tr>\n",
              "    <tr>\n",
              "      <th>3</th>\n",
              "      <td>3</td>\n",
              "      <td>2016</td>\n",
              "      <td>Blue Cut Fire</td>\n",
              "      <td>36274.0</td>\n",
              "      <td>G</td>\n",
              "      <td>NaN</td>\n",
              "      <td>NaN</td>\n",
              "      <td>7.0</td>\n",
              "      <td>Aug</td>\n",
              "      <td>NaN</td>\n",
              "      <td>...</td>\n",
              "      <td>43.0</td>\n",
              "      <td>0.0</td>\n",
              "      <td>0</td>\n",
              "      <td>NaN</td>\n",
              "      <td>NaN</td>\n",
              "      <td>0.0</td>\n",
              "      <td>0.0</td>\n",
              "      <td>0.00</td>\n",
              "      <td>1</td>\n",
              "      <td>4192.8624</td>\n",
              "    </tr>\n",
              "    <tr>\n",
              "      <th>4</th>\n",
              "      <td>4</td>\n",
              "      <td>2016</td>\n",
              "      <td>Gap Fire</td>\n",
              "      <td>33867.0</td>\n",
              "      <td>G</td>\n",
              "      <td>NaN</td>\n",
              "      <td>NaN</td>\n",
              "      <td>1.0</td>\n",
              "      <td>Aug</td>\n",
              "      <td>NaN</td>\n",
              "      <td>...</td>\n",
              "      <td>0.0</td>\n",
              "      <td>2.0</td>\n",
              "      <td>1</td>\n",
              "      <td>parks_creek</td>\n",
              "      <td>Shasta</td>\n",
              "      <td>77.0</td>\n",
              "      <td>34.0</td>\n",
              "      <td>0.44</td>\n",
              "      <td>1</td>\n",
              "      <td>3244.7112</td>\n",
              "    </tr>\n",
              "  </tbody>\n",
              "</table>\n",
              "<p>5 rows × 40 columns</p>\n",
              "</div>\n",
              "      <button class=\"colab-df-convert\" onclick=\"convertToInteractive('df-eba3ed00-0da7-4b2b-b7b4-67ec2b3e6193')\"\n",
              "              title=\"Convert this dataframe to an interactive table.\"\n",
              "              style=\"display:none;\">\n",
              "        \n",
              "  <svg xmlns=\"http://www.w3.org/2000/svg\" height=\"24px\"viewBox=\"0 0 24 24\"\n",
              "       width=\"24px\">\n",
              "    <path d=\"M0 0h24v24H0V0z\" fill=\"none\"/>\n",
              "    <path d=\"M18.56 5.44l.94 2.06.94-2.06 2.06-.94-2.06-.94-.94-2.06-.94 2.06-2.06.94zm-11 1L8.5 8.5l.94-2.06 2.06-.94-2.06-.94L8.5 2.5l-.94 2.06-2.06.94zm10 10l.94 2.06.94-2.06 2.06-.94-2.06-.94-.94-2.06-.94 2.06-2.06.94z\"/><path d=\"M17.41 7.96l-1.37-1.37c-.4-.4-.92-.59-1.43-.59-.52 0-1.04.2-1.43.59L10.3 9.45l-7.72 7.72c-.78.78-.78 2.05 0 2.83L4 21.41c.39.39.9.59 1.41.59.51 0 1.02-.2 1.41-.59l7.78-7.78 2.81-2.81c.8-.78.8-2.07 0-2.86zM5.41 20L4 18.59l7.72-7.72 1.47 1.35L5.41 20z\"/>\n",
              "  </svg>\n",
              "      </button>\n",
              "      \n",
              "  <style>\n",
              "    .colab-df-container {\n",
              "      display:flex;\n",
              "      flex-wrap:wrap;\n",
              "      gap: 12px;\n",
              "    }\n",
              "\n",
              "    .colab-df-convert {\n",
              "      background-color: #E8F0FE;\n",
              "      border: none;\n",
              "      border-radius: 50%;\n",
              "      cursor: pointer;\n",
              "      display: none;\n",
              "      fill: #1967D2;\n",
              "      height: 32px;\n",
              "      padding: 0 0 0 0;\n",
              "      width: 32px;\n",
              "    }\n",
              "\n",
              "    .colab-df-convert:hover {\n",
              "      background-color: #E2EBFA;\n",
              "      box-shadow: 0px 1px 2px rgba(60, 64, 67, 0.3), 0px 1px 3px 1px rgba(60, 64, 67, 0.15);\n",
              "      fill: #174EA6;\n",
              "    }\n",
              "\n",
              "    [theme=dark] .colab-df-convert {\n",
              "      background-color: #3B4455;\n",
              "      fill: #D2E3FC;\n",
              "    }\n",
              "\n",
              "    [theme=dark] .colab-df-convert:hover {\n",
              "      background-color: #434B5C;\n",
              "      box-shadow: 0px 1px 3px 1px rgba(0, 0, 0, 0.15);\n",
              "      filter: drop-shadow(0px 1px 2px rgba(0, 0, 0, 0.3));\n",
              "      fill: #FFFFFF;\n",
              "    }\n",
              "  </style>\n",
              "\n",
              "      <script>\n",
              "        const buttonEl =\n",
              "          document.querySelector('#df-eba3ed00-0da7-4b2b-b7b4-67ec2b3e6193 button.colab-df-convert');\n",
              "        buttonEl.style.display =\n",
              "          google.colab.kernel.accessAllowed ? 'block' : 'none';\n",
              "\n",
              "        async function convertToInteractive(key) {\n",
              "          const element = document.querySelector('#df-eba3ed00-0da7-4b2b-b7b4-67ec2b3e6193');\n",
              "          const dataTable =\n",
              "            await google.colab.kernel.invokeFunction('convertToInteractive',\n",
              "                                                     [key], {});\n",
              "          if (!dataTable) return;\n",
              "\n",
              "          const docLinkHtml = 'Like what you see? Visit the ' +\n",
              "            '<a target=\"_blank\" href=https://colab.research.google.com/notebooks/data_table.ipynb>data table notebook</a>'\n",
              "            + ' to learn more about interactive tables.';\n",
              "          element.innerHTML = '';\n",
              "          dataTable['output_type'] = 'display_data';\n",
              "          await google.colab.output.renderOutput(dataTable, element);\n",
              "          const docLink = document.createElement('div');\n",
              "          docLink.innerHTML = docLinkHtml;\n",
              "          element.appendChild(docLink);\n",
              "        }\n",
              "      </script>\n",
              "    </div>\n",
              "  </div>\n",
              "  "
            ]
          },
          "metadata": {},
          "execution_count": 3
        }
      ]
    },
    {
      "cell_type": "code",
      "source": [
        "print(wildfire_set1.columns)"
      ],
      "metadata": {
        "colab": {
          "base_uri": "https://localhost:8080/"
        },
        "id": "a0zWLNDogHl7",
        "outputId": "08365fb4-acde-4864-d003-97401371d8fc"
      },
      "execution_count": 4,
      "outputs": [
        {
          "output_type": "stream",
          "name": "stdout",
          "text": [
            "Index(['Unnamed: 0', 'Year', 'Name', 'AcresBurned', 'Fire Size Rank', 'Cause',\n",
            "       'SOURCE_REPORTING_UNIT_NAME', 'DaysBurn', 'Discovery Month',\n",
            "       'Discovered DOY', 'Contained Month', 'Contained DOY', 'Latitude',\n",
            "       'Longitude', 'County', 'CountyIds', 'State', 'OWNER_DESCR',\n",
            "       'NOAA Station', 'Link', 'AWND', 'CLDD', 'DP10', 'DX90', 'PRCP', 'TAVG',\n",
            "       'TMAX', 'TMIN', 'PRCP_6M', 'PRCP_RS', 'DX90_2M', 'DP10_2M',\n",
            "       'Receives Snow', 'Snow Station', 'River Basin', 'Mar_SP', 'Mar_WC',\n",
            "       'Mar_Dens', 'Has_Elevation', 'Elevation'],\n",
            "      dtype='object')\n"
          ]
        }
      ]
    },
    {
      "cell_type": "code",
      "source": [
        "print(wildfire_set2.columns)"
      ],
      "metadata": {
        "colab": {
          "base_uri": "https://localhost:8080/"
        },
        "id": "z4KRoZG_gJGA",
        "outputId": "ef37985d-4eec-420c-835b-b110c9b0d70f"
      },
      "execution_count": 5,
      "outputs": [
        {
          "output_type": "stream",
          "name": "stdout",
          "text": [
            "Index(['Unnamed: 0', 'Year', 'Name', 'AcresBurned', 'Fire Size Rank', 'Cause',\n",
            "       'SOURCE_REPORTING_UNIT_NAME', 'DaysBurn', 'Discovery Month',\n",
            "       'Discovered DOY', 'Contained Month', 'Contained DOY', 'Latitude',\n",
            "       'Longitude', 'County', 'CountyIds', 'State', 'OWNER_DESCR',\n",
            "       'NOAA Station', 'Link', 'AWND', 'CLDD', 'DP10', 'DX90', 'PRCP', 'TAVG',\n",
            "       'TMAX', 'TMIN', 'PRCP_6M', 'PRCP_RS', 'DX90_2M', 'DP10_2M',\n",
            "       'Receives Snow', 'Snow Station', 'River Basin', 'Mar_SP', 'Mar_WC',\n",
            "       'Mar_Dens', 'Has_Elevation', 'Elevation'],\n",
            "      dtype='object')\n"
          ]
        }
      ]
    },
    {
      "cell_type": "markdown",
      "source": [
        "Drop all columns that will not be relevant for our classification task:Unnamed: 0, Year, Name, Cause, SOURCE_REPORTING UNIT NAME, DaysBurn, Discovered DOY, Contained Month, Contained DOY, Lat, Long, County Ids, State, OWNER_DESCR, NOAA Station, Link, Snow Station, River Basin"
      ],
      "metadata": {
        "id": "kg3jxTYygNKY"
      }
    },
    {
      "cell_type": "code",
      "source": [
        "wildfire_set1.drop(columns = ['Unnamed: 0', 'Year', 'Name', 'Cause',\n",
        "                      'SOURCE_REPORTING_UNIT_NAME', 'DaysBurn', 'Discovered DOY', 'Contained Month',\n",
        "                      'Contained DOY','Latitude','Longitude','County','CountyIds','State','OWNER_DESCR',\n",
        "                      'NOAA Station', 'Link', 'Snow Station', 'River Basin', 'Has_Elevation'], inplace = True)"
      ],
      "metadata": {
        "id": "S0yBW7WegKaQ"
      },
      "execution_count": 6,
      "outputs": []
    },
    {
      "cell_type": "code",
      "source": [
        "wildfire_set2.drop(columns = ['Unnamed: 0', 'Year', 'Name', 'Cause',\n",
        "                      'SOURCE_REPORTING_UNIT_NAME', 'DaysBurn', 'Discovered DOY', 'Contained Month',\n",
        "                      'Contained DOY','Latitude','Longitude','County','CountyIds','State','OWNER_DESCR',\n",
        "                      'NOAA Station', 'Link', 'Snow Station', 'River Basin','Has_Elevation'], inplace = True)"
      ],
      "metadata": {
        "id": "OtU3aqWugQYQ"
      },
      "execution_count": 7,
      "outputs": []
    },
    {
      "cell_type": "markdown",
      "source": [
        "Taking a look at both datasets now that we have dropped the nonrelevant columns"
      ],
      "metadata": {
        "id": "aQp1TKE4gZUj"
      }
    },
    {
      "cell_type": "code",
      "source": [
        "wildfire_set1.head(5)"
      ],
      "metadata": {
        "colab": {
          "base_uri": "https://localhost:8080/",
          "height": 285
        },
        "id": "mHxt2SWRgWW8",
        "outputId": "28d6f8c3-e119-4a1e-af14-4982e4ad80c1"
      },
      "execution_count": 8,
      "outputs": [
        {
          "output_type": "execute_result",
          "data": {
            "text/plain": [
              "   AcresBurned Fire Size Rank Discovery Month  AWND  CLDD  DP10  DX90  PRCP  \\\n",
              "0         0.10              A             Feb   5.6   0.0  12.0   0.0  5.33   \n",
              "1         0.25              A             May   6.9   0.0   2.0   0.0  0.81   \n",
              "2         0.10              A             Jun   5.6  36.0   0.0   0.0  0.00   \n",
              "3         0.10              A             Jun   5.6   0.0   1.0   0.0  0.29   \n",
              "4         0.10              A             Jun   5.6   0.0   1.0   0.0  0.29   \n",
              "\n",
              "   TAVG  TMAX  TMIN  PRCP_6M  PRCP_RS  DX90_2M  DP10_2M  Receives Snow  \\\n",
              "0  38.9  43.9  33.9    27.89    49.06      0.0     19.0            1.0   \n",
              "1  47.3  63.0  31.6    14.37    14.76      0.0      3.0            1.0   \n",
              "2  63.1  70.2  56.0    36.71    40.37      0.0     11.0            1.0   \n",
              "3  54.7  72.9  36.5    13.63    14.76      0.0      3.0            1.0   \n",
              "4  54.7  72.9  36.5    13.63    14.76      0.0      3.0            1.0   \n",
              "\n",
              "   Mar_SP  Mar_WC  Mar_Dens  Elevation  \n",
              "0    79.6    34.0      0.43  2965.8432  \n",
              "1   108.6    38.1      0.35  6207.2736  \n",
              "2   108.6    38.1      0.35  3454.6824  \n",
              "3    87.2    28.4      0.33  7759.0920  \n",
              "4    87.2    28.4      0.33  7598.3328  "
            ],
            "text/html": [
              "\n",
              "  <div id=\"df-28cd7a29-c8cb-4ee3-b5df-f469ce3c4f83\">\n",
              "    <div class=\"colab-df-container\">\n",
              "      <div>\n",
              "<style scoped>\n",
              "    .dataframe tbody tr th:only-of-type {\n",
              "        vertical-align: middle;\n",
              "    }\n",
              "\n",
              "    .dataframe tbody tr th {\n",
              "        vertical-align: top;\n",
              "    }\n",
              "\n",
              "    .dataframe thead th {\n",
              "        text-align: right;\n",
              "    }\n",
              "</style>\n",
              "<table border=\"1\" class=\"dataframe\">\n",
              "  <thead>\n",
              "    <tr style=\"text-align: right;\">\n",
              "      <th></th>\n",
              "      <th>AcresBurned</th>\n",
              "      <th>Fire Size Rank</th>\n",
              "      <th>Discovery Month</th>\n",
              "      <th>AWND</th>\n",
              "      <th>CLDD</th>\n",
              "      <th>DP10</th>\n",
              "      <th>DX90</th>\n",
              "      <th>PRCP</th>\n",
              "      <th>TAVG</th>\n",
              "      <th>TMAX</th>\n",
              "      <th>TMIN</th>\n",
              "      <th>PRCP_6M</th>\n",
              "      <th>PRCP_RS</th>\n",
              "      <th>DX90_2M</th>\n",
              "      <th>DP10_2M</th>\n",
              "      <th>Receives Snow</th>\n",
              "      <th>Mar_SP</th>\n",
              "      <th>Mar_WC</th>\n",
              "      <th>Mar_Dens</th>\n",
              "      <th>Elevation</th>\n",
              "    </tr>\n",
              "  </thead>\n",
              "  <tbody>\n",
              "    <tr>\n",
              "      <th>0</th>\n",
              "      <td>0.10</td>\n",
              "      <td>A</td>\n",
              "      <td>Feb</td>\n",
              "      <td>5.6</td>\n",
              "      <td>0.0</td>\n",
              "      <td>12.0</td>\n",
              "      <td>0.0</td>\n",
              "      <td>5.33</td>\n",
              "      <td>38.9</td>\n",
              "      <td>43.9</td>\n",
              "      <td>33.9</td>\n",
              "      <td>27.89</td>\n",
              "      <td>49.06</td>\n",
              "      <td>0.0</td>\n",
              "      <td>19.0</td>\n",
              "      <td>1.0</td>\n",
              "      <td>79.6</td>\n",
              "      <td>34.0</td>\n",
              "      <td>0.43</td>\n",
              "      <td>2965.8432</td>\n",
              "    </tr>\n",
              "    <tr>\n",
              "      <th>1</th>\n",
              "      <td>0.25</td>\n",
              "      <td>A</td>\n",
              "      <td>May</td>\n",
              "      <td>6.9</td>\n",
              "      <td>0.0</td>\n",
              "      <td>2.0</td>\n",
              "      <td>0.0</td>\n",
              "      <td>0.81</td>\n",
              "      <td>47.3</td>\n",
              "      <td>63.0</td>\n",
              "      <td>31.6</td>\n",
              "      <td>14.37</td>\n",
              "      <td>14.76</td>\n",
              "      <td>0.0</td>\n",
              "      <td>3.0</td>\n",
              "      <td>1.0</td>\n",
              "      <td>108.6</td>\n",
              "      <td>38.1</td>\n",
              "      <td>0.35</td>\n",
              "      <td>6207.2736</td>\n",
              "    </tr>\n",
              "    <tr>\n",
              "      <th>2</th>\n",
              "      <td>0.10</td>\n",
              "      <td>A</td>\n",
              "      <td>Jun</td>\n",
              "      <td>5.6</td>\n",
              "      <td>36.0</td>\n",
              "      <td>0.0</td>\n",
              "      <td>0.0</td>\n",
              "      <td>0.00</td>\n",
              "      <td>63.1</td>\n",
              "      <td>70.2</td>\n",
              "      <td>56.0</td>\n",
              "      <td>36.71</td>\n",
              "      <td>40.37</td>\n",
              "      <td>0.0</td>\n",
              "      <td>11.0</td>\n",
              "      <td>1.0</td>\n",
              "      <td>108.6</td>\n",
              "      <td>38.1</td>\n",
              "      <td>0.35</td>\n",
              "      <td>3454.6824</td>\n",
              "    </tr>\n",
              "    <tr>\n",
              "      <th>3</th>\n",
              "      <td>0.10</td>\n",
              "      <td>A</td>\n",
              "      <td>Jun</td>\n",
              "      <td>5.6</td>\n",
              "      <td>0.0</td>\n",
              "      <td>1.0</td>\n",
              "      <td>0.0</td>\n",
              "      <td>0.29</td>\n",
              "      <td>54.7</td>\n",
              "      <td>72.9</td>\n",
              "      <td>36.5</td>\n",
              "      <td>13.63</td>\n",
              "      <td>14.76</td>\n",
              "      <td>0.0</td>\n",
              "      <td>3.0</td>\n",
              "      <td>1.0</td>\n",
              "      <td>87.2</td>\n",
              "      <td>28.4</td>\n",
              "      <td>0.33</td>\n",
              "      <td>7759.0920</td>\n",
              "    </tr>\n",
              "    <tr>\n",
              "      <th>4</th>\n",
              "      <td>0.10</td>\n",
              "      <td>A</td>\n",
              "      <td>Jun</td>\n",
              "      <td>5.6</td>\n",
              "      <td>0.0</td>\n",
              "      <td>1.0</td>\n",
              "      <td>0.0</td>\n",
              "      <td>0.29</td>\n",
              "      <td>54.7</td>\n",
              "      <td>72.9</td>\n",
              "      <td>36.5</td>\n",
              "      <td>13.63</td>\n",
              "      <td>14.76</td>\n",
              "      <td>0.0</td>\n",
              "      <td>3.0</td>\n",
              "      <td>1.0</td>\n",
              "      <td>87.2</td>\n",
              "      <td>28.4</td>\n",
              "      <td>0.33</td>\n",
              "      <td>7598.3328</td>\n",
              "    </tr>\n",
              "  </tbody>\n",
              "</table>\n",
              "</div>\n",
              "      <button class=\"colab-df-convert\" onclick=\"convertToInteractive('df-28cd7a29-c8cb-4ee3-b5df-f469ce3c4f83')\"\n",
              "              title=\"Convert this dataframe to an interactive table.\"\n",
              "              style=\"display:none;\">\n",
              "        \n",
              "  <svg xmlns=\"http://www.w3.org/2000/svg\" height=\"24px\"viewBox=\"0 0 24 24\"\n",
              "       width=\"24px\">\n",
              "    <path d=\"M0 0h24v24H0V0z\" fill=\"none\"/>\n",
              "    <path d=\"M18.56 5.44l.94 2.06.94-2.06 2.06-.94-2.06-.94-.94-2.06-.94 2.06-2.06.94zm-11 1L8.5 8.5l.94-2.06 2.06-.94-2.06-.94L8.5 2.5l-.94 2.06-2.06.94zm10 10l.94 2.06.94-2.06 2.06-.94-2.06-.94-.94-2.06-.94 2.06-2.06.94z\"/><path d=\"M17.41 7.96l-1.37-1.37c-.4-.4-.92-.59-1.43-.59-.52 0-1.04.2-1.43.59L10.3 9.45l-7.72 7.72c-.78.78-.78 2.05 0 2.83L4 21.41c.39.39.9.59 1.41.59.51 0 1.02-.2 1.41-.59l7.78-7.78 2.81-2.81c.8-.78.8-2.07 0-2.86zM5.41 20L4 18.59l7.72-7.72 1.47 1.35L5.41 20z\"/>\n",
              "  </svg>\n",
              "      </button>\n",
              "      \n",
              "  <style>\n",
              "    .colab-df-container {\n",
              "      display:flex;\n",
              "      flex-wrap:wrap;\n",
              "      gap: 12px;\n",
              "    }\n",
              "\n",
              "    .colab-df-convert {\n",
              "      background-color: #E8F0FE;\n",
              "      border: none;\n",
              "      border-radius: 50%;\n",
              "      cursor: pointer;\n",
              "      display: none;\n",
              "      fill: #1967D2;\n",
              "      height: 32px;\n",
              "      padding: 0 0 0 0;\n",
              "      width: 32px;\n",
              "    }\n",
              "\n",
              "    .colab-df-convert:hover {\n",
              "      background-color: #E2EBFA;\n",
              "      box-shadow: 0px 1px 2px rgba(60, 64, 67, 0.3), 0px 1px 3px 1px rgba(60, 64, 67, 0.15);\n",
              "      fill: #174EA6;\n",
              "    }\n",
              "\n",
              "    [theme=dark] .colab-df-convert {\n",
              "      background-color: #3B4455;\n",
              "      fill: #D2E3FC;\n",
              "    }\n",
              "\n",
              "    [theme=dark] .colab-df-convert:hover {\n",
              "      background-color: #434B5C;\n",
              "      box-shadow: 0px 1px 3px 1px rgba(0, 0, 0, 0.15);\n",
              "      filter: drop-shadow(0px 1px 2px rgba(0, 0, 0, 0.3));\n",
              "      fill: #FFFFFF;\n",
              "    }\n",
              "  </style>\n",
              "\n",
              "      <script>\n",
              "        const buttonEl =\n",
              "          document.querySelector('#df-28cd7a29-c8cb-4ee3-b5df-f469ce3c4f83 button.colab-df-convert');\n",
              "        buttonEl.style.display =\n",
              "          google.colab.kernel.accessAllowed ? 'block' : 'none';\n",
              "\n",
              "        async function convertToInteractive(key) {\n",
              "          const element = document.querySelector('#df-28cd7a29-c8cb-4ee3-b5df-f469ce3c4f83');\n",
              "          const dataTable =\n",
              "            await google.colab.kernel.invokeFunction('convertToInteractive',\n",
              "                                                     [key], {});\n",
              "          if (!dataTable) return;\n",
              "\n",
              "          const docLinkHtml = 'Like what you see? Visit the ' +\n",
              "            '<a target=\"_blank\" href=https://colab.research.google.com/notebooks/data_table.ipynb>data table notebook</a>'\n",
              "            + ' to learn more about interactive tables.';\n",
              "          element.innerHTML = '';\n",
              "          dataTable['output_type'] = 'display_data';\n",
              "          await google.colab.output.renderOutput(dataTable, element);\n",
              "          const docLink = document.createElement('div');\n",
              "          docLink.innerHTML = docLinkHtml;\n",
              "          element.appendChild(docLink);\n",
              "        }\n",
              "      </script>\n",
              "    </div>\n",
              "  </div>\n",
              "  "
            ]
          },
          "metadata": {},
          "execution_count": 8
        }
      ]
    },
    {
      "cell_type": "code",
      "source": [
        "wildfire_set1.shape"
      ],
      "metadata": {
        "colab": {
          "base_uri": "https://localhost:8080/"
        },
        "id": "IuOBEwo0gcLZ",
        "outputId": "4f9cdd78-1a64-4dbe-fff7-2d6a809b747a"
      },
      "execution_count": 9,
      "outputs": [
        {
          "output_type": "execute_result",
          "data": {
            "text/plain": [
              "(114558, 20)"
            ]
          },
          "metadata": {},
          "execution_count": 9
        }
      ]
    },
    {
      "cell_type": "code",
      "source": [
        "wildfire_set2.head(5)"
      ],
      "metadata": {
        "colab": {
          "base_uri": "https://localhost:8080/",
          "height": 285
        },
        "id": "2aBsbYDvgd7s",
        "outputId": "8ee56017-2c17-41b8-cf7b-ea98b563cf58"
      },
      "execution_count": 10,
      "outputs": [
        {
          "output_type": "execute_result",
          "data": {
            "text/plain": [
              "   AcresBurned Fire Size Rank Discovery Month  AWND   CLDD  DP10  DX90  PRCP  \\\n",
              "0     132127.0              G             Jul   6.5    0.0   0.0   0.0  0.00   \n",
              "1      48019.0              G             Jun   6.7  529.0   0.0  22.0  0.00   \n",
              "2      46344.0              G             Aug   6.9  237.0   0.0  23.0  0.00   \n",
              "3      36274.0              G             Aug   6.5  455.0   0.0  28.0  0.00   \n",
              "4      33867.0              G             Aug   4.5    0.0   0.0   0.0  0.02   \n",
              "\n",
              "   TAVG  TMAX  TMIN  PRCP_6M  PRCP_RS  DX90_2M  DP10_2M  Receives Snow  \\\n",
              "0  58.8  65.2  52.4    14.11    21.42      0.0      1.0              0   \n",
              "1  82.6  96.6  68.6     4.68     4.88     15.0      4.0              1   \n",
              "2  72.6  92.6  52.6     2.52     8.09     43.0      0.0              0   \n",
              "3  79.7  94.6  64.7     3.41     6.45     43.0      0.0              0   \n",
              "4  56.4  62.9  49.9    18.03    54.17      0.0      2.0              1   \n",
              "\n",
              "   Mar_SP  Mar_WC  Mar_Dens  Elevation  \n",
              "0     0.0     0.0      0.00   961.2744  \n",
              "1    36.0    16.0      0.44  3389.0664  \n",
              "2     0.0     0.0      0.00  1049.8560  \n",
              "3     0.0     0.0      0.00  4192.8624  \n",
              "4    77.0    34.0      0.44  3244.7112  "
            ],
            "text/html": [
              "\n",
              "  <div id=\"df-bf24340a-1f11-4680-8884-c51a0e05c583\">\n",
              "    <div class=\"colab-df-container\">\n",
              "      <div>\n",
              "<style scoped>\n",
              "    .dataframe tbody tr th:only-of-type {\n",
              "        vertical-align: middle;\n",
              "    }\n",
              "\n",
              "    .dataframe tbody tr th {\n",
              "        vertical-align: top;\n",
              "    }\n",
              "\n",
              "    .dataframe thead th {\n",
              "        text-align: right;\n",
              "    }\n",
              "</style>\n",
              "<table border=\"1\" class=\"dataframe\">\n",
              "  <thead>\n",
              "    <tr style=\"text-align: right;\">\n",
              "      <th></th>\n",
              "      <th>AcresBurned</th>\n",
              "      <th>Fire Size Rank</th>\n",
              "      <th>Discovery Month</th>\n",
              "      <th>AWND</th>\n",
              "      <th>CLDD</th>\n",
              "      <th>DP10</th>\n",
              "      <th>DX90</th>\n",
              "      <th>PRCP</th>\n",
              "      <th>TAVG</th>\n",
              "      <th>TMAX</th>\n",
              "      <th>TMIN</th>\n",
              "      <th>PRCP_6M</th>\n",
              "      <th>PRCP_RS</th>\n",
              "      <th>DX90_2M</th>\n",
              "      <th>DP10_2M</th>\n",
              "      <th>Receives Snow</th>\n",
              "      <th>Mar_SP</th>\n",
              "      <th>Mar_WC</th>\n",
              "      <th>Mar_Dens</th>\n",
              "      <th>Elevation</th>\n",
              "    </tr>\n",
              "  </thead>\n",
              "  <tbody>\n",
              "    <tr>\n",
              "      <th>0</th>\n",
              "      <td>132127.0</td>\n",
              "      <td>G</td>\n",
              "      <td>Jul</td>\n",
              "      <td>6.5</td>\n",
              "      <td>0.0</td>\n",
              "      <td>0.0</td>\n",
              "      <td>0.0</td>\n",
              "      <td>0.00</td>\n",
              "      <td>58.8</td>\n",
              "      <td>65.2</td>\n",
              "      <td>52.4</td>\n",
              "      <td>14.11</td>\n",
              "      <td>21.42</td>\n",
              "      <td>0.0</td>\n",
              "      <td>1.0</td>\n",
              "      <td>0</td>\n",
              "      <td>0.0</td>\n",
              "      <td>0.0</td>\n",
              "      <td>0.00</td>\n",
              "      <td>961.2744</td>\n",
              "    </tr>\n",
              "    <tr>\n",
              "      <th>1</th>\n",
              "      <td>48019.0</td>\n",
              "      <td>G</td>\n",
              "      <td>Jun</td>\n",
              "      <td>6.7</td>\n",
              "      <td>529.0</td>\n",
              "      <td>0.0</td>\n",
              "      <td>22.0</td>\n",
              "      <td>0.00</td>\n",
              "      <td>82.6</td>\n",
              "      <td>96.6</td>\n",
              "      <td>68.6</td>\n",
              "      <td>4.68</td>\n",
              "      <td>4.88</td>\n",
              "      <td>15.0</td>\n",
              "      <td>4.0</td>\n",
              "      <td>1</td>\n",
              "      <td>36.0</td>\n",
              "      <td>16.0</td>\n",
              "      <td>0.44</td>\n",
              "      <td>3389.0664</td>\n",
              "    </tr>\n",
              "    <tr>\n",
              "      <th>2</th>\n",
              "      <td>46344.0</td>\n",
              "      <td>G</td>\n",
              "      <td>Aug</td>\n",
              "      <td>6.9</td>\n",
              "      <td>237.0</td>\n",
              "      <td>0.0</td>\n",
              "      <td>23.0</td>\n",
              "      <td>0.00</td>\n",
              "      <td>72.6</td>\n",
              "      <td>92.6</td>\n",
              "      <td>52.6</td>\n",
              "      <td>2.52</td>\n",
              "      <td>8.09</td>\n",
              "      <td>43.0</td>\n",
              "      <td>0.0</td>\n",
              "      <td>0</td>\n",
              "      <td>0.0</td>\n",
              "      <td>0.0</td>\n",
              "      <td>0.00</td>\n",
              "      <td>1049.8560</td>\n",
              "    </tr>\n",
              "    <tr>\n",
              "      <th>3</th>\n",
              "      <td>36274.0</td>\n",
              "      <td>G</td>\n",
              "      <td>Aug</td>\n",
              "      <td>6.5</td>\n",
              "      <td>455.0</td>\n",
              "      <td>0.0</td>\n",
              "      <td>28.0</td>\n",
              "      <td>0.00</td>\n",
              "      <td>79.7</td>\n",
              "      <td>94.6</td>\n",
              "      <td>64.7</td>\n",
              "      <td>3.41</td>\n",
              "      <td>6.45</td>\n",
              "      <td>43.0</td>\n",
              "      <td>0.0</td>\n",
              "      <td>0</td>\n",
              "      <td>0.0</td>\n",
              "      <td>0.0</td>\n",
              "      <td>0.00</td>\n",
              "      <td>4192.8624</td>\n",
              "    </tr>\n",
              "    <tr>\n",
              "      <th>4</th>\n",
              "      <td>33867.0</td>\n",
              "      <td>G</td>\n",
              "      <td>Aug</td>\n",
              "      <td>4.5</td>\n",
              "      <td>0.0</td>\n",
              "      <td>0.0</td>\n",
              "      <td>0.0</td>\n",
              "      <td>0.02</td>\n",
              "      <td>56.4</td>\n",
              "      <td>62.9</td>\n",
              "      <td>49.9</td>\n",
              "      <td>18.03</td>\n",
              "      <td>54.17</td>\n",
              "      <td>0.0</td>\n",
              "      <td>2.0</td>\n",
              "      <td>1</td>\n",
              "      <td>77.0</td>\n",
              "      <td>34.0</td>\n",
              "      <td>0.44</td>\n",
              "      <td>3244.7112</td>\n",
              "    </tr>\n",
              "  </tbody>\n",
              "</table>\n",
              "</div>\n",
              "      <button class=\"colab-df-convert\" onclick=\"convertToInteractive('df-bf24340a-1f11-4680-8884-c51a0e05c583')\"\n",
              "              title=\"Convert this dataframe to an interactive table.\"\n",
              "              style=\"display:none;\">\n",
              "        \n",
              "  <svg xmlns=\"http://www.w3.org/2000/svg\" height=\"24px\"viewBox=\"0 0 24 24\"\n",
              "       width=\"24px\">\n",
              "    <path d=\"M0 0h24v24H0V0z\" fill=\"none\"/>\n",
              "    <path d=\"M18.56 5.44l.94 2.06.94-2.06 2.06-.94-2.06-.94-.94-2.06-.94 2.06-2.06.94zm-11 1L8.5 8.5l.94-2.06 2.06-.94-2.06-.94L8.5 2.5l-.94 2.06-2.06.94zm10 10l.94 2.06.94-2.06 2.06-.94-2.06-.94-.94-2.06-.94 2.06-2.06.94z\"/><path d=\"M17.41 7.96l-1.37-1.37c-.4-.4-.92-.59-1.43-.59-.52 0-1.04.2-1.43.59L10.3 9.45l-7.72 7.72c-.78.78-.78 2.05 0 2.83L4 21.41c.39.39.9.59 1.41.59.51 0 1.02-.2 1.41-.59l7.78-7.78 2.81-2.81c.8-.78.8-2.07 0-2.86zM5.41 20L4 18.59l7.72-7.72 1.47 1.35L5.41 20z\"/>\n",
              "  </svg>\n",
              "      </button>\n",
              "      \n",
              "  <style>\n",
              "    .colab-df-container {\n",
              "      display:flex;\n",
              "      flex-wrap:wrap;\n",
              "      gap: 12px;\n",
              "    }\n",
              "\n",
              "    .colab-df-convert {\n",
              "      background-color: #E8F0FE;\n",
              "      border: none;\n",
              "      border-radius: 50%;\n",
              "      cursor: pointer;\n",
              "      display: none;\n",
              "      fill: #1967D2;\n",
              "      height: 32px;\n",
              "      padding: 0 0 0 0;\n",
              "      width: 32px;\n",
              "    }\n",
              "\n",
              "    .colab-df-convert:hover {\n",
              "      background-color: #E2EBFA;\n",
              "      box-shadow: 0px 1px 2px rgba(60, 64, 67, 0.3), 0px 1px 3px 1px rgba(60, 64, 67, 0.15);\n",
              "      fill: #174EA6;\n",
              "    }\n",
              "\n",
              "    [theme=dark] .colab-df-convert {\n",
              "      background-color: #3B4455;\n",
              "      fill: #D2E3FC;\n",
              "    }\n",
              "\n",
              "    [theme=dark] .colab-df-convert:hover {\n",
              "      background-color: #434B5C;\n",
              "      box-shadow: 0px 1px 3px 1px rgba(0, 0, 0, 0.15);\n",
              "      filter: drop-shadow(0px 1px 2px rgba(0, 0, 0, 0.3));\n",
              "      fill: #FFFFFF;\n",
              "    }\n",
              "  </style>\n",
              "\n",
              "      <script>\n",
              "        const buttonEl =\n",
              "          document.querySelector('#df-bf24340a-1f11-4680-8884-c51a0e05c583 button.colab-df-convert');\n",
              "        buttonEl.style.display =\n",
              "          google.colab.kernel.accessAllowed ? 'block' : 'none';\n",
              "\n",
              "        async function convertToInteractive(key) {\n",
              "          const element = document.querySelector('#df-bf24340a-1f11-4680-8884-c51a0e05c583');\n",
              "          const dataTable =\n",
              "            await google.colab.kernel.invokeFunction('convertToInteractive',\n",
              "                                                     [key], {});\n",
              "          if (!dataTable) return;\n",
              "\n",
              "          const docLinkHtml = 'Like what you see? Visit the ' +\n",
              "            '<a target=\"_blank\" href=https://colab.research.google.com/notebooks/data_table.ipynb>data table notebook</a>'\n",
              "            + ' to learn more about interactive tables.';\n",
              "          element.innerHTML = '';\n",
              "          dataTable['output_type'] = 'display_data';\n",
              "          await google.colab.output.renderOutput(dataTable, element);\n",
              "          const docLink = document.createElement('div');\n",
              "          docLink.innerHTML = docLinkHtml;\n",
              "          element.appendChild(docLink);\n",
              "        }\n",
              "      </script>\n",
              "    </div>\n",
              "  </div>\n",
              "  "
            ]
          },
          "metadata": {},
          "execution_count": 10
        }
      ]
    },
    {
      "cell_type": "code",
      "source": [
        "wildfire_set2.shape"
      ],
      "metadata": {
        "colab": {
          "base_uri": "https://localhost:8080/"
        },
        "id": "abbEgdTYgfa-",
        "outputId": "aff42343-65fd-4017-d3ad-266223701316"
      },
      "execution_count": 11,
      "outputs": [
        {
          "output_type": "execute_result",
          "data": {
            "text/plain": [
              "(1156, 20)"
            ]
          },
          "metadata": {},
          "execution_count": 11
        }
      ]
    },
    {
      "cell_type": "markdown",
      "source": [
        "# Investigate the presence of null values in each dataset:\n",
        "Below, we have the count of totall null values in each column for wildfire_set1 and wildfire_set2."
      ],
      "metadata": {
        "id": "3yaR-hMXgi3-"
      }
    },
    {
      "cell_type": "code",
      "source": [
        "print(wildfire_set1.isnull().sum())"
      ],
      "metadata": {
        "colab": {
          "base_uri": "https://localhost:8080/"
        },
        "id": "y0IQaQGnghHV",
        "outputId": "78f04d69-da99-4753-aaee-2ca0afdde623"
      },
      "execution_count": 12,
      "outputs": [
        {
          "output_type": "stream",
          "name": "stdout",
          "text": [
            "AcresBurned           0\n",
            "Fire Size Rank        0\n",
            "Discovery Month       0\n",
            "AWND               6254\n",
            "CLDD               3335\n",
            "DP10               3042\n",
            "DX90               3333\n",
            "PRCP               3042\n",
            "TAVG               3335\n",
            "TMAX               3333\n",
            "TMIN               3285\n",
            "PRCP_6M            2470\n",
            "PRCP_RS            2811\n",
            "DX90_2M            2215\n",
            "DP10_2M            1599\n",
            "Receives Snow       102\n",
            "Mar_SP              102\n",
            "Mar_WC              102\n",
            "Mar_Dens            102\n",
            "Elevation             0\n",
            "dtype: int64\n"
          ]
        }
      ]
    },
    {
      "cell_type": "code",
      "source": [
        "print(wildfire_set2.isnull().sum())"
      ],
      "metadata": {
        "colab": {
          "base_uri": "https://localhost:8080/"
        },
        "id": "Eeh-y_mDglSa",
        "outputId": "0f19f240-f0e9-4569-be78-bfa158d2651e"
      },
      "execution_count": 13,
      "outputs": [
        {
          "output_type": "stream",
          "name": "stdout",
          "text": [
            "AcresBurned         3\n",
            "Fire Size Rank      0\n",
            "Discovery Month     0\n",
            "AWND               37\n",
            "CLDD               37\n",
            "DP10               32\n",
            "DX90               34\n",
            "PRCP               32\n",
            "TAVG               37\n",
            "TMAX               34\n",
            "TMIN               37\n",
            "PRCP_6M             7\n",
            "PRCP_RS            10\n",
            "DX90_2M             2\n",
            "DP10_2M             1\n",
            "Receives Snow       0\n",
            "Mar_SP              0\n",
            "Mar_WC              0\n",
            "Mar_Dens            0\n",
            "Elevation           0\n",
            "dtype: int64\n"
          ]
        }
      ]
    },
    {
      "cell_type": "code",
      "source": [
        "wildfire_set1 = wildfire_set1.dropna()"
      ],
      "metadata": {
        "id": "vwhlRhJLgmhh"
      },
      "execution_count": 14,
      "outputs": []
    },
    {
      "cell_type": "code",
      "source": [
        "wildfire_set2 = wildfire_set2.dropna()"
      ],
      "metadata": {
        "id": "3SKM1axngoOu"
      },
      "execution_count": 15,
      "outputs": []
    },
    {
      "cell_type": "markdown",
      "source": [
        "In the two cells above, we drop all null values in both datasets. We are able to drop all nulls in this case because our dataset is large with relatively few null values in each so not much data is lost in this process. Looking at the shapes of each dataframe after the drops, we see that both datasets remain a similar size post drop."
      ],
      "metadata": {
        "id": "rHaqp7Drgq1D"
      }
    },
    {
      "cell_type": "code",
      "source": [
        "wildfire_set1.shape"
      ],
      "metadata": {
        "colab": {
          "base_uri": "https://localhost:8080/"
        },
        "id": "Jv0Wwd2Kgrgn",
        "outputId": "5c616000-1097-418e-d985-f793f527fea8"
      },
      "execution_count": 16,
      "outputs": [
        {
          "output_type": "execute_result",
          "data": {
            "text/plain": [
              "(106024, 20)"
            ]
          },
          "metadata": {},
          "execution_count": 16
        }
      ]
    },
    {
      "cell_type": "code",
      "source": [
        "wildfire_set2.shape"
      ],
      "metadata": {
        "colab": {
          "base_uri": "https://localhost:8080/"
        },
        "id": "-vxbSLvKguNO",
        "outputId": "3d5b2c47-a773-4465-c31d-146404a77e8a"
      },
      "execution_count": 17,
      "outputs": [
        {
          "output_type": "execute_result",
          "data": {
            "text/plain": [
              "(1105, 20)"
            ]
          },
          "metadata": {},
          "execution_count": 17
        }
      ]
    },
    {
      "cell_type": "markdown",
      "source": [
        "# To remind ourselves, as described by the database the original classes are as follows:\n",
        "\n",
        "# A: 0-0.25 acres\n",
        "# B=0.26-9.9 acres\n",
        "# C=10.0-99.9 acres\n",
        "# D=100-299 acres\n",
        "# E=300 to 999 acres\n",
        "# F=1000 to 4999 acres\n",
        "# G=5000+ acres"
      ],
      "metadata": {
        "id": "Zyob4mM9gwf7"
      }
    },
    {
      "cell_type": "markdown",
      "source": [
        "As we can see below from the value counts for the Fire Size Rank column, the first dataset has an overwhelming amount of small wildfires from class A (0-0.25 acres) and class B (0.26-9.9), leading to a large imbalance in the first dataset."
      ],
      "metadata": {
        "id": "zOZO_NsDgzWt"
      }
    },
    {
      "cell_type": "code",
      "source": [
        "print(wildfire_set1['Fire Size Rank'].value_counts())"
      ],
      "metadata": {
        "colab": {
          "base_uri": "https://localhost:8080/"
        },
        "id": "XOjSHIcXgukF",
        "outputId": "74a74f4b-3bf4-4228-9d92-059874a71c01"
      },
      "execution_count": 18,
      "outputs": [
        {
          "output_type": "stream",
          "name": "stdout",
          "text": [
            "A    55462\n",
            "B    43118\n",
            "C     5097\n",
            "D     1096\n",
            "E      597\n",
            "F      406\n",
            "G      248\n",
            "Name: Fire Size Rank, dtype: int64\n"
          ]
        }
      ]
    },
    {
      "cell_type": "code",
      "source": [
        "print(wildfire_set2['Fire Size Rank'].value_counts())"
      ],
      "metadata": {
        "colab": {
          "base_uri": "https://localhost:8080/"
        },
        "id": "q-Dv70Zcg2Fd",
        "outputId": "6e252a08-76f5-4fc6-fb3f-2a8cfbd6f1fd"
      },
      "execution_count": 19,
      "outputs": [
        {
          "output_type": "stream",
          "name": "stdout",
          "text": [
            "C    559\n",
            "D    222\n",
            "E    111\n",
            "F    101\n",
            "G     92\n",
            "A     18\n",
            "B      2\n",
            "Name: Fire Size Rank, dtype: int64\n"
          ]
        }
      ]
    },
    {
      "cell_type": "markdown",
      "source": [
        "Restrict each dataset to wildfires larger than 10 acres since those smaller than that are not substantial and the goal of this project is to predict areas prone to destruction by wildfire\n",
        "\n",
        "\n",
        "I then create new criteria for fire class size to help balance out the first dataset which we will use to train our model:\n"
      ],
      "metadata": {
        "id": "Q4hUURpgg5Bx"
      }
    },
    {
      "cell_type": "code",
      "source": [
        "w = wildfire_set1.loc[wildfire_set1['AcresBurned']> 10]\n",
        "\n",
        "for index, rows in w.iterrows():\n",
        "  size_fire = w.at[index, 'AcresBurned']\n",
        "  if size_fire >= 10 and size_fire < 17.5:\n",
        "    size_class = 'Very Small'\n",
        "  if size_fire >= 17.5 and size_fire <= 30:\n",
        "    size_class = 'Small'\n",
        "  elif size_fire > 30 and size_fire <= 85:\n",
        "    size_class = 'Medium'\n",
        "  elif size_fire > 85 and size_fire <= 275:\n",
        "    size_class = 'Large'\n",
        "  elif size_fire > 275:\n",
        "    size_class = 'Very Large'\n",
        "  w.at[index,'Fire Size Rank'] = size_class\n",
        "\n",
        "print(w['Fire Size Rank'].value_counts())"
      ],
      "metadata": {
        "colab": {
          "base_uri": "https://localhost:8080/"
        },
        "id": "Vdi285ehg5pb",
        "outputId": "e97893b5-88db-4cd6-f1ed-e9a85d2cf2f1"
      },
      "execution_count": 25,
      "outputs": [
        {
          "output_type": "stream",
          "name": "stdout",
          "text": [
            "Medium        1617\n",
            "Small         1407\n",
            "Very Large    1297\n",
            "Very Small    1234\n",
            "Large         1174\n",
            "Name: Fire Size Rank, dtype: int64\n"
          ]
        }
      ]
    },
    {
      "cell_type": "code",
      "source": [
        "import matplotlib.pyplot as plt\n",
        "import numpy as np\n",
        "\n",
        "x = w['Fire Size Rank']\n",
        "\n",
        "plt.hist(x)\n",
        "plt.show()"
      ],
      "metadata": {
        "colab": {
          "base_uri": "https://localhost:8080/",
          "height": 265
        },
        "id": "Ptw7WT7Qg7hh",
        "outputId": "5d24b587-359c-431e-bb69-33f0212ddc37"
      },
      "execution_count": 26,
      "outputs": [
        {
          "output_type": "display_data",
          "data": {
            "text/plain": [
              "<Figure size 432x288 with 1 Axes>"
            ],
            "image/png": "[encoded data removed]"
          },
          "metadata": {
            "needs_background": "light"
          }
        }
      ]
    },
    {
      "cell_type": "code",
      "source": [
        "w2 = wildfire_set2.loc[wildfire_set2['AcresBurned']>10]\n",
        "\n",
        "for index, rows in w2.iterrows():\n",
        "  size_fire = w2.at[index, 'AcresBurned']\n",
        "  if size_fire >= 10 and size_fire < 17.5:\n",
        "    size_class = 'Very Small'\n",
        "  if size_fire >= 17.5 and size_fire <= 30:\n",
        "    size_class = 'Small'\n",
        "  elif size_fire > 30 and size_fire <= 85:\n",
        "    size_class = 'Medium'\n",
        "  elif size_fire > 85 and size_fire <= 275:\n",
        "    size_class = 'Large'\n",
        "  elif size_fire > 275:\n",
        "    size_class = 'Very Large'\n",
        "  w2.at[index,'Fire Size Rank'] = size_class\n",
        "\n",
        "\n",
        "print(w2['Fire Size Rank'].value_counts())"
      ],
      "metadata": {
        "colab": {
          "base_uri": "https://localhost:8080/"
        },
        "id": "AJBRW6jkg_N_",
        "outputId": "543d0bdb-e25f-4595-e065-4193df8b9c93"
      },
      "execution_count": 27,
      "outputs": [
        {
          "output_type": "stream",
          "name": "stdout",
          "text": [
            "Very Large    316\n",
            "Medium        282\n",
            "Large         239\n",
            "Small         132\n",
            "Very Small     76\n",
            "Name: Fire Size Rank, dtype: int64\n"
          ]
        }
      ]
    }
  ]
}